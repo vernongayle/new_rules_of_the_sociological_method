{
 "cells": [
  {
   "cell_type": "markdown",
   "metadata": {},
   "source": [
    "# <span style=\"font-family:Papyrus; font-size:2em;\">The Stark Realities of Reproducible Sociological Research</span>\n",
    "\n"
   ]
  },
  {
   "cell_type": "markdown",
   "metadata": {},
   "source": [
    "![Q-Step_Slide](http://www.vernongayle.com/uploads/2/2/3/0/22304498/picture1_orig.jpg)"
   ]
  },
  {
   "cell_type": "markdown",
   "metadata": {
    "collapsed": true
   },
   "source": [
    "## Alternative titles: Some Newer Rules of the Sociological Method or The Moon Under Water\n",
    "\n",
    "<br>\n",
    "\n",
    "\n",
    "### Professor Vernon Gayle, University of Edinburgh, UK. <br>\n",
    " \n",
    " \n",
    " <br>\n",
    " \n",
    " __Please remember that this work is very exploratory.__\n",
    "\n",
    "Positive comments are always appreciated, but brickbats improve work.\n",
    "Here is how to contact me <vernon.gayle@ed.ac.uk>  or [@profbigvern](https://twitter.com/profbigvern).\n"
   ]
  },
  {
   "cell_type": "markdown",
   "metadata": {},
   "source": [
    "---\n",
    "\n",
    "### Next Actions: \n",
    "<a class=\"anchor\" id=\"second-section\"></a> \n",
    " \n",
    "1. Share this notebook with colleagues in the US.\n",
    "\n",
    "2. Push up a this version to github.\n",
    "\n",
    "\n",
    "\n",
    "\n",
    "\n",
    "\n"
   ]
  },
  {
   "cell_type": "markdown",
   "metadata": {},
   "source": [
    "--------\n",
    "\n",
    "\n",
    "## Table of Contents:\n",
    "\n",
    "\n",
    "* [Next Actions](#second-section)\n",
    "\n",
    "### Notebook Meta Information\n",
    "* [License](#first-section)\n",
    "* [Authorship and Meta-Information](#authorship-section)\n",
    "* [Using this Notebook](#using-the-notebook)\n",
    "* [Updates](#updates-section)\n",
    "\n",
    "### Computing Environment and Software\n",
    "\n",
    "* [Computing Environment](#computing-environment)\n",
    "* [Data Analysis Software](#software)\n",
    "* [Code Tests](#code_test)\n",
    "\n",
    "#### Research Meta Information\n",
    "* [Pre-Analysis Plan](#preanalysis-section)\n",
    "* [The Research Question](#research_question-section)\n",
    "* [Overview of the Reproducibility Checklist](#reproducible_checklist-section)\n",
    "\n",
    "\n",
    "### Data Description\n",
    "* [The Research Dataset](#research-data)\n",
    "\n",
    "### Data Enabling\n",
    "* [Data Description](#description)\n",
    "* [Data Wrangling](#wrangling-section)\n",
    "* [Data Test](#data_test)\n",
    "\n",
    "### Data Analysis\n",
    "* [Duplicating the Connolly (2006) Model Results in _R_](#duplication)\n",
    "* [Duplicating the Connolly (2006) Model Results in SPSS](#duplication-spss)\n",
    "* [Duplicating the Connolly (2006) Model Results in Stata](#duplication-stata)\n",
    "* [Duplicating the Connolly (2006) Model Results in Python](#duplication-python)\n",
    "* [Replicating the Connolly (2006) Model Results Adding Quasi-Variance](#qv)\n",
    "* [Replicating the Connolly (2006) Model Results Adding NS-SEC](#nssec)\n",
    "\n",
    "\n",
    "### Data Documentation\n",
    "* [Producing a Codebook](#codebook)\n",
    "\n",
    "### Commentary\n",
    "* [Discussion](#discussion)\n",
    "* [Conclusions](#conclusions)\n",
    "* [References](#references)\n",
    "* [Acknowledgements](#acknowledgements)\n",
    "\n",
    "\n",
    "\n",
    "### Additional Material\n",
    "* [A Little Light Relief](#limerick)\n",
    "* [Converting this Jupyter Notebook into Portable Formats](#nbconvert)\n",
    "* [End of Notebook](#eon)\n",
    "\n",
    "\n",
    "--------"
   ]
  },
  {
   "cell_type": "markdown",
   "metadata": {},
   "source": [
    "_______________________________________________________________________________________________________________________"
   ]
  },
  {
   "cell_type": "markdown",
   "metadata": {},
   "source": [
    "### License  <a class=\"anchor\" id=\"first-section\"></a>\n",
    "\n",
    "### This work must not be copied or cited without written permision from the author\n",
    "\n",
    "Copyright (c) 2017 Vernon Gayle, University of Edinburgh\n",
    "\n",
    "When the work is nearer completion I will make it more open with an\n",
    "#### The MIT License (MIT)  \n",
    "\n",
    "which will say...\n",
    "\n",
    "Copyright (c) 2017 Vernon Gayle, University of Edinburgh\n",
    "\n",
    "Permission is hereby granted, free of charge, to any person obtaining a copy\n",
    "of this software and associated documentation files (the \"Software\"), to deal\n",
    "in the Software without restriction, including without limitation the rights\n",
    "to use, copy, modify, merge, publish, distribute, sublicense, and/or sell\n",
    "copies of the Software, and to permit persons to whom the Software is\n",
    "furnished to do so, subject to the following conditions:\n",
    "\n",
    "The above copyright notice and this permission notice shall be included in\n",
    "all copies or substantial portions of the Software.\n",
    "\n",
    "THE SOFTWARE IS PROVIDED \"AS IS\", WITHOUT WARRANTY OF ANY KIND, EXPRESS OR\n",
    "IMPLIED, INCLUDING BUT NOT LIMITED TO THE WARRANTIES OF MERCHANTABILITY,\n",
    "FITNESS FOR A PARTICULAR PURPOSE AND NONINFRINGEMENT. IN NO EVENT SHALL THE\n",
    "AUTHORS OR COPYRIGHT HOLDERS BE LIABLE FOR ANY CLAIM, DAMAGES OR OTHER\n",
    "LIABILITY, WHETHER IN AN ACTION OF CONTRACT, TORT OR OTHERWISE, ARISING FROM,\n",
    "OUT OF OR IN CONNECTION WITH THE SOFTWARE OR THE USE OR OTHER DEALINGS IN\n",
    "THE SOFTWARE."
   ]
  },
  {
   "cell_type": "markdown",
   "metadata": {},
   "source": [
    "_______________________________________________________________________________________________________________________"
   ]
  },
  {
   "cell_type": "markdown",
   "metadata": {},
   "source": [
    "### Authorship and Meta Information  <a class=\"anchor\" id=\"authorship-section\"></a>\n",
    "\n",
    "Author: Professor Vernon Gayle\n",
    "Orcid id: http://orcid.org/0000-0002-1929-5983\n",
    "\n",
    "Project: Reproducible Sociological Research\n",
    "\n",
    "Sub-project: Stratification Conference (Edinburgh) September 2017\n",
    "\n",
    "\n"
   ]
  },
  {
   "cell_type": "markdown",
   "metadata": {},
   "source": [
    "_______________________________________________________________________________________________________________________"
   ]
  },
  {
   "cell_type": "markdown",
   "metadata": {},
   "source": [
    "### Using this Notebook <a class=\"anchor\" id=\"using-the-notebook\"></a>"
   ]
  },
  {
   "cell_type": "markdown",
   "metadata": {},
   "source": [
    "\n",
    "Using Jupyter notebooks for large-scale social science data analysis in sociology is zygotic. <br>\n",
    "\n",
    "This is an early example of undertaking a complete analytical workflow within a Jupyter notebook.\n",
    "\n",
    "As this practice becomes more ubiquitos it is likely that there will be improvements and best practices will become much more evident.\n",
    "\n",
    "\n",
    "<font color=red>Warning</font>.\n",
    "\n",
    "Within this Jupyter notebook there has been a lot of non-routine work. For example I have 'swivel-chaired' between data analytical software packages and changed kernels.\n",
    "\n",
    "It may from time to time be necessary to re-start the notebook depending on how stable your computing environment is.\n",
    "\n",
    "Therefore in some sections I re-start the _R_ session.\n",
    "\n",
    "__Please remember that this work is very exploratory.__\n",
    "\n",
    "Positive comments are always appreciated, but brickbats improve work.\n",
    "Here is how to contact me <vernon.gayle@ed.ac.uk>  or [@profbigvern](https://twitter.com/profbigvern)."
   ]
  },
  {
   "cell_type": "markdown",
   "metadata": {},
   "source": [
    "---"
   ]
  },
  {
   "cell_type": "markdown",
   "metadata": {},
   "source": [
    "### Updates <a class=\"anchor\" id=\"updates-section\"></a>\n",
    "\n",
    "Latest Update: 19th August (a wet day on holiday in Torridon) re-ran the whole notebook.\n",
    "\n",
    "Previous Updates:\n",
    "\n",
    "16th August sorting out some minor typos etcpdates:<br>\n",
    "2nd July changed the installs in light of Chris Playford's comments.<br>\n",
    "28th June Pushed up to https://github.com/vernongayle/new_rules_of_the_sociological_method ) and e-mailed to colleagues. <br>\n",
    "27th June (my Mum's birthday) General work <br>\n",
    "26th June Ethics Approval Form Submitted <br>\n",
    "25th June Pre-paratory work begins <br>\n",
    "24th June Pre-Analysis Plan submitted to date stamping <br>\n",
    "\n",
    "\n"
   ]
  },
  {
   "cell_type": "markdown",
   "metadata": {},
   "source": [
    "_____________________________________________________________\n"
   ]
  },
  {
   "cell_type": "markdown",
   "metadata": {},
   "source": [
    "## Pre-Analysis Plan <a class=\"anchor\" id=\"preanalysis-section\"></a>\n",
    "\n",
    "A pre-analysis plan is openly available [in word format](https://github.com/vernongayle/new_rules_of_the_sociological_method/blob/master/pre_analysis_plan_20170624_vg_v1.docx) .\n",
    "\n",
    "The pre-analysis plan has been formally timestamped by Originstamp.\n",
    "\n",
    "hash: ca0fc7d948fd67cf8a1a2ac9111e9bf40425c010dfdf76ef33a0e578a90981a8\n",
    "\n",
    "Submitted to OriginStamp: 24 Jun 2017 21:00:24 GMT\n",
    "Submitted to the Blockchain: 25 Jun 2017 16:00:21 GMT\n",
    "\n",
    "This document can be verifyied using the hash at https://app.originstamp.org/verify .\n",
    "\n",
    "\n",
    "Note: Some researchers might not consider this document to be a pure pre-analysis plan. This is because I have examined the data and worked with it previously. However, it is an example of how a pre-analysis plan could work in the sociological analysis of an existing large-scale social survey dataset.\n"
   ]
  },
  {
   "cell_type": "markdown",
   "metadata": {},
   "source": [
    "_____________________________________________________________\n"
   ]
  },
  {
   "cell_type": "markdown",
   "metadata": {},
   "source": [
    "## Research Ethics Approval Application <a class=\"anchor\" id=\"ethics\"></a>\n",
    "\n",
    "A research ethics approval application has been made to the\n",
    "School of Social and Political Science, University of Edinburgh\n",
    "and has been posted here on [Github](https://github.com/vernongayle/new_rules_of_the_sociological_method/blob/master/Research_Ethics_Form_20170626_vg_v1.pdf) .\n",
    "\n"
   ]
  },
  {
   "cell_type": "markdown",
   "metadata": {},
   "source": [
    "## Research Ethics Approval <a class=\"anchor\" id=\"ethics-appoved\"></a>\n",
    "\n",
    "From: MOORE Niamh<br>\n",
    "Sent: 26 June 2017 17:01 <br>\n",
    "To: GAYLE Vernon <Vernon.Gayle@ed.ac.uk> <br>\n",
    "Cc: SSPS Research <ssps.research@ed.ac.uk> <br>\n",
    "Subject: FW: Ethics form submission (Vernon Gayle: The Stark Realities of Reproducible Sociological Research)\n",
    "\n",
    "Hi Vernon,\n",
    "\n",
    "Approved at level 1. If only they were all so straightforward.\n",
    "\n",
    "Good luck with the project.\n",
    "\n",
    "All the best\n",
    "\n",
    "Niamh\n",
    "\n",
    "\n",
    "All the best with your application.\n",
    "\n",
    "Niamh\n",
    "\n",
    "\n",
    "Dr Niamh Moore\n",
    "\n",
    "Chancellor's Fellow  I  Deputy Director of Research (Ethics)\n",
    "Sociology  I  Room 3.09, 3F2  I  18 Buccleuch Place  \n",
    "School of Social and Political Sciences  I  University of Edinburgh  I  Edinburgh EH8 8LN\n",
    "\n",
    "niamh.moore@ed.ac.uk  l  @rawfeminism  l  +44(0)131-6508260  l  skype: niamhresearcher \n",
    "http://www.sociology.ed.ac.uk/people/staff/niamh_moore\n"
   ]
  },
  {
   "cell_type": "markdown",
   "metadata": {},
   "source": [
    "---"
   ]
  },
  {
   "cell_type": "markdown",
   "metadata": {},
   "source": [
    "## Research Question <a class=\"anchor\" id=\"research_question-section\"></a>\n",
    "\n",
    "###  Can a sociological researcher follow Professor Philip Stark's checklist for reproducible research and undertake a plausible piece of analysis, using genuine large-scale data with realistic levels of messiness?\n",
    "\n",
    "\n"
   ]
  },
  {
   "cell_type": "markdown",
   "metadata": {},
   "source": [
    "\n",
    "_____________________________________________________________\n"
   ]
  },
  {
   "cell_type": "markdown",
   "metadata": {},
   "source": [
    "## Overview of the Reproducibility Checklist\n",
    "<a class=\"anchor\" id=\"reproducible_checklist-section\"></a>\n",
    "\n",
    "http://www.bitss.org/2015/12/31/science-is-show-me-not-trust-me/\n",
    "\n",
    "Philip Stark outlines 14 reproducibility points that an analysis can fail on\n",
    "\n",
    "1.\tIf you relied on Microsoft Excel for computations, fail.\n",
    "2.\tIf you did not script your analysis, including data cleaning and munging, fail.\n",
    "3.\tIf you did not document your code so that others can read and understand it, fail.\n",
    "4.\tIf you did not record and report the versions of the software you used (including library dependencies), fail.\n",
    "5.\tIf you did not write tests for your code, fail.\n",
    "6.\tIf you did not check the code coverage of your tests, fail.\n",
    "7.\tIf you used proprietary software that does not have an open-source equivalent without a really good reason, fail.\n",
    "8.\tIf you did not report all the analyses you tried (transformations, tests, selections of variables, models, etc.) before arriving at the one you chose to emphasize, fail.\n",
    "9.\tIf you did not make your code (including tests) available, fail.\n",
    "10.\tIf you did not make your data available (and a law like FERPA or HIPPA doesn’t prevent it), fail.\n",
    "11.\tIf you did not record and report the data format, fail.\n",
    "12.\tIf there is no open source tool for reading data in that format, fail.\n",
    "13.\tIf you did not provide an adequate data dictionary, fail.\n",
    "14.\tIf you published in a journal with a paywall and no open-access policy, fail.\n"
   ]
  },
  {
   "cell_type": "markdown",
   "metadata": {},
   "source": [
    "_____________________________________________________________\n"
   ]
  },
  {
   "cell_type": "markdown",
   "metadata": {},
   "source": [
    "## Literate Computing\n",
    "\n",
    "\n",
    "[Fernando Perez](http://fperez.org/) says\n",
    "\n",
    "\"_Literate Computing_ is the weaving of a narrative directly into a live computation, interleaving text with code and results to construct a complete piece that relies equally on the textual explanations and the computational components, for the goals of communicating results in scientific computing and data analysis\" (see http://blog.fperez.org/).\n",
    "\n",
    "_Literate programming_ is a paradigm introduced by [Donald Knuth](http://cs.stanford.edu/~uno/) in which a program is given with an explanation of its logic in a human readable language (e.g. plain English) with snippets traditional source code (or macros)\n",
    "(see https://en.wikipedia.org/wiki/Literate_programming).\n",
    "\n",
    "A challenge of this current sub-project is simple - **can I undertake a plausible piece of analysis, using genuine large-scale data with realistic levels of messiness, that is 'literate' as well as reproducible?**\n"
   ]
  },
  {
   "cell_type": "markdown",
   "metadata": {},
   "source": [
    "_____________________________________________________________\n"
   ]
  },
  {
   "cell_type": "markdown",
   "metadata": {},
   "source": [
    "# Computing Environment and Software\n"
   ]
  },
  {
   "cell_type": "markdown",
   "metadata": {},
   "source": [
    "### Computing Environment<a class=\"anchor\" id=\"computing-environment\"></a>\n",
    "\n",
    "Work undertaken using machine surface pro 109.152.252.166\n",
    "(my public IP address).\n",
    "\n",
    "__Processor:__ Intel(R) Core™ i5-4300U CPU@ 1.90 GHz 2.50 GHz<br>\n",
    "__Installed memory (RAM):__ 4.00 GB <br>\n",
    "__System type:__ 64-bit Operating System, x-64 based processor\n"
   ]
  },
  {
   "cell_type": "markdown",
   "metadata": {},
   "source": [
    "_____________________________________________________________\n"
   ]
  },
  {
   "cell_type": "markdown",
   "metadata": {},
   "source": [
    "### Data Analysis Software <a class=\"anchor\" id=\"software\"></a>\n",
    "\n",
    "#### R Analysis\n",
    "\n",
    "The data analysis that will be undertaken in this paper will mainly be undertaken in *R*.\n",
    "\n",
    "The decision to use *R* is motivated by checklist item 7, and it is an attempt to use and open source data analytical software rather than a proprietary software package."
   ]
  },
  {
   "cell_type": "markdown",
   "metadata": {},
   "source": [
    "## <span style=\"color:red\">WARNING</span>\n",
    "\n",
    "**You must have _R_ installed on your machine.**\n",
    "\n",
    "**You must have installed the _R_ kernel (See https://anaconda.org/r/r-irkernel ). **\n",
    "\n",
    "**You must have installed certain _R_ libraries (e.g. foreign and survey) **\n",
    "\n",
    "for example in _R_ you would run the code *install.packages(\"foreign\",\"survey\")* \n",
    "\n",
    "(For further information see <br>\n",
    "https://cran.r-project.org/web/packages/survey/index.html and <br>\n",
    "https://cran.r-project.org/web/packages/foreign/index.html).\n",
    "\n",
    "You can install the required packages from within the notebook\n",
    "\n",
    "_install.packages('foreign', repos='http://www.stats.bris.ac.uk/R/')_ <br>\n",
    "_install.packages('survey', repos='http://www.stats.bris.ac.uk/R/')_ <br>\n",
    "\n",
    "The second part of the commannd states the CRAN mirror to be used, and the repository. <br>\n",
    "\n",
    "---\n"
   ]
  },
  {
   "cell_type": "markdown",
   "metadata": {},
   "source": [
    " <span style=\"color:red\">Reminder *Switch Kernel to R  < Menu kernel - change kernel>*</span>"
   ]
  },
  {
   "cell_type": "markdown",
   "metadata": {},
   "source": [
    "Getting the libraries for *R*"
   ]
  },
  {
   "cell_type": "code",
   "execution_count": 1,
   "metadata": {
    "collapsed": false,
    "scrolled": true
   },
   "outputs": [
    {
     "name": "stderr",
     "output_type": "stream",
     "text": [
      "Loading required package: grid\n",
      "Loading required package: Matrix\n",
      "Loading required package: survival\n",
      "Warning message:\n",
      ": package 'survival' was built under R version 3.2.5\n",
      "Attaching package: 'survey'\n",
      "\n",
      "The following object is masked from 'package:graphics':\n",
      "\n",
      "    dotchart\n",
      "\n",
      "Warning message:\n",
      ": package 'car' was built under R version 3.2.5Warning message:\n",
      ": package 'dplyr' was built under R version 3.2.5\n",
      "Attaching package: 'dplyr'\n",
      "\n",
      "The following object is masked from 'package:car':\n",
      "\n",
      "    recode\n",
      "\n",
      "The following objects are masked from 'package:stats':\n",
      "\n",
      "    filter, lag\n",
      "\n",
      "The following objects are masked from 'package:base':\n",
      "\n",
      "    intersect, setdiff, setequal, union\n",
      "\n",
      "Warning message:\n",
      ": package 'weights' was built under R version 3.2.5Loading required package: Hmisc\n",
      "Warning message:\n",
      ": package 'Hmisc' was built under R version 3.2.5Loading required package: lattice\n",
      "Loading required package: Formula\n",
      "Warning message:\n",
      ": package 'Formula' was built under R version 3.2.5Loading required package: ggplot2\n",
      "Warning message:\n",
      ": package 'ggplot2' was built under R version 3.2.5\n",
      "Attaching package: 'Hmisc'\n",
      "\n",
      "The following objects are masked from 'package:dplyr':\n",
      "\n",
      "    combine, src, summarize\n",
      "\n",
      "The following object is masked from 'package:survey':\n",
      "\n",
      "    deff\n",
      "\n",
      "The following objects are masked from 'package:base':\n",
      "\n",
      "    format.pval, round.POSIXt, trunc.POSIXt, units\n",
      "\n",
      "Loading required package: gdata\n",
      "Warning message:\n",
      ": package 'gdata' was built under R version 3.2.5Warning message:\n",
      ": running command '\"C:\\PROGRA~2\\LYX2~1.1\\Perl\\bin\\perl.exe\" \"C:/Users/Vernon/Documents/R/win-library/3.2/gdata/perl/supportedFormats.pl\"' had status 2gdata: Unable to load perl libaries needed by read.xls()\n",
      "gdata: to support 'XLX' (Excel 97-2004) files.\n",
      "\n",
      "gdata: Unable to load perl libaries needed by read.xls()\n",
      "gdata: to support 'XLSX' (Excel 2007+) files.\n",
      "\n",
      "gdata: Run the function 'installXLSXsupport()'\n",
      "gdata: to automatically download and install the perl\n",
      "gdata: libaries needed to support Excel XLS and XLSX formats.\n",
      "\n",
      "Attaching package: 'gdata'\n",
      "\n",
      "The following object is masked from 'package:Hmisc':\n",
      "\n",
      "    combine\n",
      "\n",
      "The following objects are masked from 'package:dplyr':\n",
      "\n",
      "    combine, first, last\n",
      "\n",
      "The following object is masked from 'package:stats':\n",
      "\n",
      "    nobs\n",
      "\n",
      "The following object is masked from 'package:utils':\n",
      "\n",
      "    object.size\n",
      "\n",
      "Loading required package: mice\n",
      "Warning message:\n",
      ": package 'mice' was built under R version 3.2.5Warning message:\n",
      ": package 'dummies' was built under R version 3.2.5dummies-1.5.6 provided by Decision Patterns\n",
      "\n"
     ]
    }
   ],
   "source": [
    "library(foreign)\n",
    "library(survey)\n",
    "library(car)\n",
    "library(dplyr)\n",
    "library(weights)\n",
    "library(dummies)"
   ]
  },
  {
   "cell_type": "markdown",
   "metadata": {},
   "source": [
    "Various <span style=\"color:red\"> WARNINGS</span> will appear. Don't panic.\n",
    "\n",
    "<span style=\"color:red\">If you have a more serious ERROR message here it is possibly because you have not switched to the _R Kernel_.</span>\n",
    "\n",
    "An alternative would be to specify\n",
    "\n",
    "_suppressPackageStartupMessages(library(foreign))_\n",
    "\n",
    "However in this example suppressPackageStartupMessages does not work for the package \"weights\". My suspicion is that this package might not be written to conform with the usual CRAN conventions. An older tweet from Hadley Wickham (@hadleywickham) suggests that this issue is not uncommon."
   ]
  },
  {
   "cell_type": "markdown",
   "metadata": {},
   "source": [
    "---"
   ]
  },
  {
   "cell_type": "markdown",
   "metadata": {},
   "source": [
    "The workspace in *R*"
   ]
  },
  {
   "cell_type": "markdown",
   "metadata": {},
   "source": [
    "If you are a __novice user__ it is easy to get into a tangle.\n",
    "\n",
    "It is worth finding out which directory is your current working directory using the following command\n",
    "\n",
    "_getwd()_\n",
    "\n",
    "This command will print the current working directory (cwd).\n",
    "\n",
    "You can re-set the working directory with the following syntax\n",
    "\n",
    "_setwd(\"C:/work\")_\n",
    "\n",
    "Note that a forward-slash __/__ is used rather than a back-slash __\\ __ which is usual in Windows.\n",
    "\n",
    "Run the _getwd()_ command again to check."
   ]
  },
  {
   "cell_type": "markdown",
   "metadata": {},
   "source": [
    "---\n",
    "\n",
    "If you are a more experienced user you might want to specify a path as an object \n",
    "\n",
    "_getwd() <br>\n",
    "data <- \"C:/work\" <br>\n",
    "setwd(data) <br>\n",
    "getwd()_ <br>\n",
    "\n",
    "In the current version of this notebook I use objects to represent paths because of their long names."
   ]
  },
  {
   "cell_type": "markdown",
   "metadata": {},
   "source": [
    "---"
   ]
  },
  {
   "cell_type": "markdown",
   "metadata": {},
   "source": [
    "### The Code Test <a class=\"anchor\" id=\"code_test\"></a>"
   ]
  },
  {
   "cell_type": "markdown",
   "metadata": {},
   "source": [
    "#### Part 1 Logistic Regression"
   ]
  },
  {
   "cell_type": "markdown",
   "metadata": {},
   "source": [
    "In this block of the work I undertake a test of the software.\n",
    "\n",
    "Because the analyses below will be based on a logistic regression model I have chosen to check the results of a logit model in my software environment against a known result.\n",
    "\n",
    "In this section I will import a dataset from the Stata website \n",
    "(www.stata-press.com) and estimate a logit model.\n"
   ]
  },
  {
   "cell_type": "code",
   "execution_count": 3,
   "metadata": {
    "collapsed": false
   },
   "outputs": [],
   "source": [
    "myautodata <- read.dta(\"http://www.stata-press.com/data/r12/auto.dta\")"
   ]
  },
  {
   "cell_type": "code",
   "execution_count": 4,
   "metadata": {
    "collapsed": false
   },
   "outputs": [
    {
     "data": {
      "text/plain": [
       "     make               price            mpg            rep78      \n",
       " Length:74          Min.   : 3291   Min.   :12.00   Min.   :1.000  \n",
       " Class :character   1st Qu.: 4220   1st Qu.:18.00   1st Qu.:3.000  \n",
       " Mode  :character   Median : 5006   Median :20.00   Median :3.000  \n",
       "                    Mean   : 6165   Mean   :21.30   Mean   :3.406  \n",
       "                    3rd Qu.: 6332   3rd Qu.:24.75   3rd Qu.:4.000  \n",
       "                    Max.   :15906   Max.   :41.00   Max.   :5.000  \n",
       "                                                    NA's   :5      \n",
       "    headroom         trunk           weight         length           turn      \n",
       " Min.   :1.500   Min.   : 5.00   Min.   :1760   Min.   :142.0   Min.   :31.00  \n",
       " 1st Qu.:2.500   1st Qu.:10.25   1st Qu.:2250   1st Qu.:170.0   1st Qu.:36.00  \n",
       " Median :3.000   Median :14.00   Median :3190   Median :192.5   Median :40.00  \n",
       " Mean   :2.993   Mean   :13.76   Mean   :3019   Mean   :187.9   Mean   :39.65  \n",
       " 3rd Qu.:3.500   3rd Qu.:16.75   3rd Qu.:3600   3rd Qu.:203.8   3rd Qu.:43.00  \n",
       " Max.   :5.000   Max.   :23.00   Max.   :4840   Max.   :233.0   Max.   :51.00  \n",
       "                                                                               \n",
       "  displacement     gear_ratio        foreign  \n",
       " Min.   : 79.0   Min.   :2.190   Domestic:52  \n",
       " 1st Qu.:119.0   1st Qu.:2.730   Foreign :22  \n",
       " Median :196.0   Median :2.955                \n",
       " Mean   :197.3   Mean   :3.015                \n",
       " 3rd Qu.:245.2   3rd Qu.:3.353                \n",
       " Max.   :425.0   Max.   :3.890                \n",
       "                                              "
      ]
     },
     "execution_count": 4,
     "metadata": {},
     "output_type": "execute_result"
    }
   ],
   "source": [
    "summary(myautodata)"
   ]
  },
  {
   "cell_type": "markdown",
   "metadata": {},
   "source": [
    "Estimating a logistic regression model. \n",
    "* Outcome variable = _foreign_ \n",
    "* Explanatory variables = _weight_ + _mpg_"
   ]
  },
  {
   "cell_type": "code",
   "execution_count": 7,
   "metadata": {
    "collapsed": false
   },
   "outputs": [],
   "source": [
    "myautologit1 <- glm(foreign ~ weight + mpg,  data = myautodata, family = \"binomial\")"
   ]
  },
  {
   "cell_type": "markdown",
   "metadata": {},
   "source": [
    "Summarizing the output of the logistic regression model."
   ]
  },
  {
   "cell_type": "code",
   "execution_count": 8,
   "metadata": {
    "collapsed": false
   },
   "outputs": [
    {
     "data": {
      "text/plain": [
       "\n",
       "Call:\n",
       "glm(formula = foreign ~ weight + mpg, family = \"binomial\", data = myautodata)\n",
       "\n",
       "Deviance Residuals: \n",
       "    Min       1Q   Median       3Q      Max  \n",
       "-2.0436  -0.4285  -0.2207   0.5347   2.0679  \n",
       "\n",
       "Coefficients:\n",
       "             Estimate Std. Error z value Pr(>|z|)    \n",
       "(Intercept) 13.708367   4.518709   3.034 0.002416 ** \n",
       "weight      -0.003907   0.001012  -3.862 0.000113 ***\n",
       "mpg         -0.168587   0.091917  -1.834 0.066637 .  \n",
       "---\n",
       "Signif. codes:  0 '***' 0.001 '**' 0.01 '*' 0.05 '.' 0.1 ' ' 1\n",
       "\n",
       "(Dispersion parameter for binomial family taken to be 1)\n",
       "\n",
       "    Null deviance: 90.066  on 73  degrees of freedom\n",
       "Residual deviance: 54.350  on 71  degrees of freedom\n",
       "AIC: 60.35\n",
       "\n",
       "Number of Fisher Scoring iterations: 6\n"
      ]
     },
     "execution_count": 8,
     "metadata": {},
     "output_type": "execute_result"
    }
   ],
   "source": [
    "summary(myautologit1)"
   ]
  },
  {
   "cell_type": "markdown",
   "metadata": {},
   "source": [
    "These results are identical to the results that are found in the Stata Manual p.1271.\n",
    "\n",
    "![logit_slide](http://www.vernongayle.com/uploads/2/2/3/0/22304498/auto-logit_orig.jpg)\n",
    "\n",
    "Therefore I am confident that the software environment is providing the correct results for a logistic regression model.\n"
   ]
  },
  {
   "cell_type": "markdown",
   "metadata": {},
   "source": [
    "Because I intend to use quasi-variances I will also test an  analyses in my software environment against a known result.\n",
    "\n",
    "In this section I will import a dataset from the Stata website (www.stata-press.com) and estimate a logit model.\n"
   ]
  },
  {
   "cell_type": "markdown",
   "metadata": {},
   "source": [
    "------------------------------------------------------------------------------------------------------------------------"
   ]
  },
  {
   "cell_type": "markdown",
   "metadata": {},
   "source": [
    "#### Part II Quasi-Variance Estimation"
   ]
  },
  {
   "cell_type": "markdown",
   "metadata": {},
   "source": [
    "In the replication part of the analysis I intend to calculate quasi-variance estimates after estimating the logistic regression model. As a further code test I will use the ship damage data and estimate an \n",
    "overdispersed poisson loglinear model for ship damage data\n",
    "from McCullagh and Nelder (1989), Sec 6.3.2. "
   ]
  },
  {
   "cell_type": "markdown",
   "metadata": {},
   "source": [
    "<span style=\"color:red\">_Make sure that in R qvcalc is installed_</span>\n",
    "\n",
    "The code required to install the package within the workflow is <br>\n",
    "\n",
    "_install.packages('qvcalc', repos='http://www.stats.bris.ac.uk/R/')_\n",
    "\n",
    "---\n"
   ]
  },
  {
   "cell_type": "code",
   "execution_count": 2,
   "metadata": {
    "collapsed": false,
    "scrolled": true
   },
   "outputs": [
    {
     "name": "stderr",
     "output_type": "stream",
     "text": [
      "\n",
      "Attaching package: 'MASS'\n",
      "\n",
      "The following object is masked from 'package:dplyr':\n",
      "\n",
      "    select\n",
      "\n",
      "Warning message:\n",
      ": package 'qvcalc' was built under R version 3.2.5"
     ]
    },
    {
     "data": {
      "text/plain": [
       "\n",
       "Call:\n",
       "glm(formula = incidents ~ type + year + period, family = quasipoisson, \n",
       "    data = ships, subset = (service > 0), offset = log(service))\n",
       "\n",
       "Deviance Residuals: \n",
       "    Min       1Q   Median       3Q      Max  \n",
       "-1.6768  -0.8293  -0.4370   0.5058   2.7912  \n",
       "\n",
       "Coefficients:\n",
       "            Estimate Std. Error t value Pr(>|t|)    \n",
       "(Intercept) -6.40590    0.28276 -22.655  < 2e-16 ***\n",
       "typeB       -0.54334    0.23094  -2.353  0.02681 *  \n",
       "typeC       -0.68740    0.42789  -1.607  0.12072    \n",
       "typeD       -0.07596    0.37787  -0.201  0.84230    \n",
       "typeE        0.32558    0.30674   1.061  0.29864    \n",
       "year65       0.69714    0.19459   3.583  0.00143 ** \n",
       "year70       0.81843    0.22077   3.707  0.00105 ** \n",
       "year75       0.45343    0.30321   1.495  0.14733    \n",
       "period75     0.38447    0.15380   2.500  0.01935 *  \n",
       "---\n",
       "Signif. codes:  0 '***' 0.001 '**' 0.01 '*' 0.05 '.' 0.1 ' ' 1\n",
       "\n",
       "(Dispersion parameter for quasipoisson family taken to be 1.691028)\n",
       "\n",
       "    Null deviance: 146.328  on 33  degrees of freedom\n",
       "Residual deviance:  38.695  on 25  degrees of freedom\n",
       "AIC: NA\n",
       "\n",
       "Number of Fisher Scoring iterations: 5\n"
      ]
     },
     "execution_count": 2,
     "metadata": {},
     "output_type": "execute_result"
    },
    {
     "name": "stdout",
     "output_type": "stream",
     "text": [
      "Model call:  glm(formula = incidents ~ type + year + period, family = quasipoisson,      data = ships, subset = (service > 0), offset = log(service)) \n",
      "Factor name:  type \n",
      "      estimate     SE quasiSE quasiVar\n",
      "    A  0.00000 0.0000  0.2010  0.04039\n",
      "    B -0.54334 0.2309  0.1127  0.01270\n",
      "    C -0.68740 0.4279  0.3753  0.14081\n",
      "    D -0.07596 0.3779  0.3239  0.10491\n",
      "    E  0.32558 0.3067  0.2322  0.05390\n",
      "Worst relative errors in SEs of simple contrasts (%):  -0.7 0.9 \n",
      "Worst relative errors over *all* contrasts (%):  -2.1 1.6 \n"
     ]
    },
    {
     "data": {
      "image/png": "[encoded data removed]",
      "image/svg+xml": [
       "<?xml version=\"1.0\" encoding=\"UTF-8\"?>\n",
       "<svg xmlns=\"http://www.w3.org/2000/svg\" xmlns:xlink=\"http://www.w3.org/1999/xlink\" width=\"504pt\" height=\"504pt\" viewBox=\"0 0 504 504\" version=\"1.1\">\n",
       "<defs>\n",
       "<g>\n",
       "<symbol overflow=\"visible\" id=\"glyph0-0\">\n",
       "<path style=\"stroke:none;\" d=\"M -0.015625 0 L 3.28125 -8.589844 L 4.507813 -8.589844 L 8.023438 0 L 6.726563 0 L 5.726563 -2.601563 L 2.132813 -2.601563 L 1.1875 0 Z M 2.460938 -3.527344 L 5.375 -3.527344 L 4.476563 -5.90625 C 4.203125 -6.628906 4 -7.222656 3.867188 -7.6875 C 3.757813 -7.132813 3.601563 -6.585938 3.40625 -6.046875 Z M 2.460938 -3.527344 \"/>\n",
       "</symbol>\n",
       "<symbol overflow=\"visible\" id=\"glyph0-1\">\n",
       "<path style=\"stroke:none;\" d=\"M 0.878906 0 L 0.878906 -8.589844 L 4.101563 -8.589844 C 4.757813 -8.589844 5.28125 -8.5 5.679688 -8.328125 C 6.070313 -8.152344 6.382813 -7.886719 6.609375 -7.527344 C 6.835938 -7.164063 6.949219 -6.785156 6.949219 -6.390625 C 6.949219 -6.023438 6.847656 -5.679688 6.648438 -5.355469 C 6.449219 -5.027344 6.148438 -4.765625 5.75 -4.570313 C 6.265625 -4.417969 6.664063 -4.15625 6.945313 -3.792969 C 7.222656 -3.421875 7.363281 -2.988281 7.367188 -2.492188 C 7.363281 -2.085938 7.277344 -1.710938 7.109375 -1.367188 C 6.9375 -1.019531 6.730469 -0.753906 6.480469 -0.570313 C 6.230469 -0.378906 5.914063 -0.238281 5.539063 -0.144531 C 5.160156 -0.046875 4.699219 0 4.15625 0 Z M 2.015625 -4.980469 L 3.875 -4.980469 C 4.375 -4.980469 4.738281 -5.011719 4.957031 -5.078125 C 5.246094 -5.164063 5.460938 -5.308594 5.609375 -5.507813 C 5.75 -5.703125 5.824219 -5.953125 5.828125 -6.257813 C 5.824219 -6.542969 5.757813 -6.792969 5.625 -7.011719 C 5.488281 -7.226563 5.292969 -7.375 5.039063 -7.457031 C 4.78125 -7.535156 4.34375 -7.574219 3.734375 -7.578125 L 2.015625 -7.578125 Z M 2.015625 -1.015625 L 4.15625 -1.015625 C 4.515625 -1.011719 4.773438 -1.027344 4.929688 -1.054688 C 5.1875 -1.101563 5.40625 -1.179688 5.582031 -1.289063 C 5.757813 -1.398438 5.902344 -1.554688 6.015625 -1.765625 C 6.128906 -1.96875 6.1875 -2.210938 6.1875 -2.492188 C 6.1875 -2.804688 6.105469 -3.082031 5.941406 -3.324219 C 5.777344 -3.558594 5.546875 -3.726563 5.257813 -3.824219 C 4.960938 -3.917969 4.542969 -3.964844 4 -3.96875 L 2.015625 -3.96875 Z M 2.015625 -1.015625 \"/>\n",
       "</symbol>\n",
       "<symbol overflow=\"visible\" id=\"glyph0-2\">\n",
       "<path style=\"stroke:none;\" d=\"M 7.054688 -3.011719 L 8.191406 -2.726563 C 7.953125 -1.789063 7.523438 -1.078125 6.90625 -0.585938 C 6.285156 -0.0976563 5.527344 0.144531 4.632813 0.148438 C 3.707031 0.144531 2.953125 -0.0390625 2.375 -0.417969 C 1.792969 -0.792969 1.351563 -1.339844 1.050781 -2.054688 C 0.746094 -2.769531 0.597656 -3.539063 0.597656 -4.359375 C 0.597656 -5.253906 0.765625 -6.03125 1.109375 -6.699219 C 1.449219 -7.363281 1.9375 -7.871094 2.570313 -8.214844 C 3.199219 -8.558594 3.894531 -8.730469 4.652344 -8.734375 C 5.511719 -8.730469 6.234375 -8.511719 6.820313 -8.078125 C 7.40625 -7.636719 7.8125 -7.023438 8.046875 -6.234375 L 6.925781 -5.96875 C 6.722656 -6.589844 6.433594 -7.046875 6.058594 -7.335938 C 5.679688 -7.621094 5.203125 -7.761719 4.628906 -7.765625 C 3.96875 -7.761719 3.414063 -7.605469 2.972656 -7.289063 C 2.527344 -6.96875 2.21875 -6.542969 2.039063 -6.011719 C 1.859375 -5.480469 1.769531 -4.929688 1.769531 -4.367188 C 1.769531 -3.632813 1.875 -2.996094 2.085938 -2.449219 C 2.296875 -1.902344 2.628906 -1.496094 3.082031 -1.230469 C 3.53125 -0.960938 4.015625 -0.824219 4.539063 -0.828125 C 5.175781 -0.824219 5.714844 -1.007813 6.15625 -1.378906 C 6.597656 -1.742188 6.898438 -2.289063 7.054688 -3.011719 Z M 7.054688 -3.011719 \"/>\n",
       "</symbol>\n",
       "<symbol overflow=\"visible\" id=\"glyph0-3\">\n",
       "<path style=\"stroke:none;\" d=\"M 0.925781 0 L 0.925781 -8.589844 L 3.882813 -8.589844 C 4.550781 -8.589844 5.0625 -8.546875 5.414063 -8.46875 C 5.90625 -8.351563 6.324219 -8.148438 6.671875 -7.851563 C 7.121094 -7.46875 7.460938 -6.976563 7.6875 -6.382813 C 7.914063 -5.785156 8.027344 -5.105469 8.027344 -4.34375 C 8.027344 -3.6875 7.949219 -3.109375 7.796875 -2.605469 C 7.644531 -2.101563 7.449219 -1.683594 7.210938 -1.355469 C 6.972656 -1.019531 6.710938 -0.761719 6.429688 -0.574219 C 6.144531 -0.386719 5.804688 -0.242188 5.40625 -0.144531 C 5.003906 -0.046875 4.542969 0 4.023438 0 Z M 2.0625 -1.015625 L 3.898438 -1.015625 C 4.460938 -1.011719 4.90625 -1.066406 5.226563 -1.171875 C 5.546875 -1.273438 5.804688 -1.421875 6 -1.617188 C 6.269531 -1.886719 6.476563 -2.246094 6.628906 -2.703125 C 6.777344 -3.15625 6.855469 -3.710938 6.855469 -4.359375 C 6.855469 -5.257813 6.707031 -5.945313 6.410156 -6.429688 C 6.113281 -6.910156 5.753906 -7.234375 5.335938 -7.398438 C 5.03125 -7.515625 4.542969 -7.574219 3.867188 -7.578125 L 2.0625 -7.578125 Z M 2.0625 -1.015625 \"/>\n",
       "</symbol>\n",
       "<symbol overflow=\"visible\" id=\"glyph0-4\">\n",
       "<path style=\"stroke:none;\" d=\"M 0.949219 0 L 0.949219 -8.589844 L 7.160156 -8.589844 L 7.160156 -7.578125 L 2.085938 -7.578125 L 2.085938 -4.945313 L 6.835938 -4.945313 L 6.835938 -3.9375 L 2.085938 -3.9375 L 2.085938 -1.015625 L 7.359375 -1.015625 L 7.359375 0 Z M 0.949219 0 \"/>\n",
       "</symbol>\n",
       "<symbol overflow=\"visible\" id=\"glyph0-5\">\n",
       "<path style=\"stroke:none;\" d=\"M 3.09375 -0.945313 L 3.246094 -0.0117188 C 2.949219 0.0507813 2.683594 0.0820313 2.449219 0.0820313 C 2.066406 0.0820313 1.769531 0.0234375 1.558594 -0.0976563 C 1.347656 -0.21875 1.199219 -0.378906 1.113281 -0.578125 C 1.027344 -0.773438 0.984375 -1.1875 0.984375 -1.820313 L 0.984375 -5.402344 L 0.210938 -5.402344 L 0.210938 -6.222656 L 0.984375 -6.222656 L 0.984375 -7.765625 L 2.03125 -8.398438 L 2.03125 -6.222656 L 3.09375 -6.222656 L 3.09375 -5.402344 L 2.03125 -5.402344 L 2.03125 -1.765625 C 2.027344 -1.460938 2.046875 -1.269531 2.085938 -1.183594 C 2.125 -1.097656 2.183594 -1.027344 2.269531 -0.976563 C 2.351563 -0.925781 2.472656 -0.902344 2.632813 -0.902344 C 2.742188 -0.902344 2.898438 -0.914063 3.09375 -0.945313 Z M 3.09375 -0.945313 \"/>\n",
       "</symbol>\n",
       "<symbol overflow=\"visible\" id=\"glyph0-6\">\n",
       "<path style=\"stroke:none;\" d=\"M 0.742188 2.398438 L 0.625 1.40625 C 0.855469 1.46875 1.058594 1.5 1.230469 1.5 C 1.464844 1.5 1.652344 1.460938 1.792969 1.382813 C 1.933594 1.304688 2.046875 1.195313 2.140625 1.054688 C 2.203125 0.949219 2.3125 0.6875 2.460938 0.269531 C 2.480469 0.207031 2.511719 0.121094 2.554688 0.0117188 L 0.195313 -6.222656 L 1.328125 -6.222656 L 2.625 -2.617188 C 2.789063 -2.160156 2.9375 -1.679688 3.078125 -1.179688 C 3.195313 -1.660156 3.339844 -2.132813 3.507813 -2.59375 L 4.839844 -6.222656 L 5.894531 -6.222656 L 3.527344 0.105469 C 3.273438 0.789063 3.074219 1.257813 2.9375 1.515625 C 2.746094 1.863281 2.53125 2.117188 2.292969 2.28125 C 2.046875 2.4375 1.757813 2.519531 1.421875 2.523438 C 1.214844 2.519531 0.988281 2.476563 0.742188 2.398438 Z M 0.742188 2.398438 \"/>\n",
       "</symbol>\n",
       "<symbol overflow=\"visible\" id=\"glyph0-7\">\n",
       "<path style=\"stroke:none;\" d=\"M 0.789063 2.382813 L 0.789063 -6.222656 L 1.75 -6.222656 L 1.75 -5.414063 C 1.976563 -5.730469 2.234375 -5.964844 2.519531 -6.125 C 2.800781 -6.28125 3.144531 -6.363281 3.554688 -6.363281 C 4.082031 -6.363281 4.550781 -6.226563 4.960938 -5.953125 C 5.363281 -5.679688 5.671875 -5.292969 5.882813 -4.792969 C 6.089844 -4.292969 6.191406 -3.746094 6.195313 -3.15625 C 6.191406 -2.519531 6.078125 -1.945313 5.851563 -1.4375 C 5.621094 -0.921875 5.289063 -0.53125 4.855469 -0.265625 C 4.417969 0.0078125 3.960938 0.140625 3.480469 0.140625 C 3.128906 0.140625 2.8125 0.0664063 2.535156 -0.0820313 C 2.253906 -0.230469 2.023438 -0.417969 1.84375 -0.644531 L 1.84375 2.382813 Z M 1.746094 -3.078125 C 1.746094 -2.273438 1.90625 -1.683594 2.230469 -1.300781 C 2.554688 -0.917969 2.949219 -0.726563 3.410156 -0.726563 C 3.878906 -0.726563 4.277344 -0.921875 4.613281 -1.320313 C 4.945313 -1.710938 5.113281 -2.328125 5.117188 -3.164063 C 5.113281 -3.953125 4.949219 -4.546875 4.625 -4.945313 C 4.296875 -5.339844 3.910156 -5.535156 3.457031 -5.539063 C 3.003906 -5.535156 2.605469 -5.324219 2.261719 -4.90625 C 1.917969 -4.484375 1.746094 -3.875 1.746094 -3.078125 Z M 1.746094 -3.078125 \"/>\n",
       "</symbol>\n",
       "<symbol overflow=\"visible\" id=\"glyph0-8\">\n",
       "<path style=\"stroke:none;\" d=\"M 5.050781 -2.003906 L 6.140625 -1.867188 C 5.96875 -1.230469 5.648438 -0.738281 5.183594 -0.386719 C 4.71875 -0.0351563 4.125 0.140625 3.40625 0.140625 C 2.492188 0.140625 1.769531 -0.136719 1.238281 -0.699219 C 0.699219 -1.253906 0.433594 -2.042969 0.4375 -3.058594 C 0.433594 -4.105469 0.703125 -4.917969 1.246094 -5.496094 C 1.78125 -6.074219 2.480469 -6.363281 3.34375 -6.363281 C 4.175781 -6.363281 4.855469 -6.078125 5.382813 -5.511719 C 5.910156 -4.945313 6.175781 -4.148438 6.175781 -3.125 C 6.175781 -3.058594 6.171875 -2.964844 6.171875 -2.84375 L 1.53125 -2.84375 C 1.5625 -2.15625 1.757813 -1.632813 2.109375 -1.269531 C 2.457031 -0.90625 2.890625 -0.726563 3.410156 -0.726563 C 3.796875 -0.726563 4.125 -0.828125 4.402344 -1.03125 C 4.671875 -1.234375 4.890625 -1.558594 5.050781 -2.003906 Z M 1.585938 -3.710938 L 5.0625 -3.710938 C 5.015625 -4.226563 4.882813 -4.621094 4.664063 -4.886719 C 4.328125 -5.292969 3.890625 -5.496094 3.359375 -5.496094 C 2.871094 -5.496094 2.464844 -5.332031 2.136719 -5.007813 C 1.804688 -4.683594 1.621094 -4.25 1.585938 -3.710938 Z M 1.585938 -3.710938 \"/>\n",
       "</symbol>\n",
       "<symbol overflow=\"visible\" id=\"glyph1-0\">\n",
       "<path style=\"stroke:none;\" d=\"M -2.578125 -0.382813 L -3.640625 -0.382813 L -3.640625 -3.621094 L -2.578125 -3.621094 Z M -2.578125 -0.382813 \"/>\n",
       "</symbol>\n",
       "<symbol overflow=\"visible\" id=\"glyph1-1\">\n",
       "<path style=\"stroke:none;\" d=\"M 0 -4.46875 L 0 -3.414063 L -6.71875 -3.417969 C -6.476563 -3.160156 -6.234375 -2.828125 -5.996094 -2.417969 C -5.75 -2.003906 -5.570313 -1.632813 -5.449219 -1.308594 L -6.46875 -1.308594 C -6.742188 -1.894531 -7.078125 -2.410156 -7.476563 -2.851563 C -7.871094 -3.292969 -8.253906 -3.605469 -8.625 -3.792969 L -8.625 -4.472656 Z M 0 -4.46875 \"/>\n",
       "</symbol>\n",
       "<symbol overflow=\"visible\" id=\"glyph1-2\">\n",
       "<path style=\"stroke:none;\" d=\"M 0 -1.089844 L -1.203125 -1.089844 L -1.199219 -2.289063 L 0 -2.289063 Z M 0 -1.089844 \"/>\n",
       "</symbol>\n",
       "<symbol overflow=\"visible\" id=\"glyph1-3\">\n",
       "<path style=\"stroke:none;\" d=\"M -2.25 -0.5 L -2.34375 -1.605469 C -1.804688 -1.683594 -1.398438 -1.871094 -1.125 -2.175781 C -0.851563 -2.472656 -0.714844 -2.835938 -0.71875 -3.257813 C -0.714844 -3.765625 -0.90625 -4.195313 -1.292969 -4.546875 C -1.671875 -4.898438 -2.179688 -5.074219 -2.816406 -5.074219 C -3.414063 -5.074219 -3.890625 -4.902344 -4.242188 -4.566406 C -4.589844 -4.226563 -4.761719 -3.785156 -4.765625 -3.242188 C -4.761719 -2.898438 -4.683594 -2.59375 -4.53125 -2.320313 C -4.375 -2.046875 -4.175781 -1.832031 -3.929688 -1.675781 L -4.0625 -0.6875 L -8.472656 -1.519531 L -8.472656 -5.789063 L -7.464844 -5.789063 L -7.464844 -2.363281 L -5.15625 -1.898438 C -5.515625 -2.414063 -5.695313 -2.953125 -5.695313 -3.523438 C -5.695313 -4.269531 -5.433594 -4.902344 -4.914063 -5.421875 C -4.394531 -5.933594 -3.726563 -6.191406 -2.910156 -6.195313 C -2.132813 -6.191406 -1.460938 -5.964844 -0.894531 -5.515625 C -0.199219 -4.960938 0.144531 -4.210938 0.148438 -3.257813 C 0.144531 -2.476563 -0.0703125 -1.835938 -0.507813 -1.34375 C -0.941406 -0.847656 -1.523438 -0.566406 -2.25 -0.5 Z M -2.25 -0.5 \"/>\n",
       "</symbol>\n",
       "<symbol overflow=\"visible\" id=\"glyph1-4\">\n",
       "<path style=\"stroke:none;\" d=\"M -4.234375 -0.5 C -5.246094 -0.496094 -6.0625 -0.601563 -6.6875 -0.8125 C -7.304688 -1.019531 -7.785156 -1.328125 -8.121094 -1.742188 C -8.457031 -2.152344 -8.625 -2.671875 -8.625 -3.300781 C -8.625 -3.757813 -8.53125 -4.164063 -8.347656 -4.511719 C -8.160156 -4.859375 -7.890625 -5.144531 -7.542969 -5.371094 C -7.191406 -5.59375 -6.765625 -5.773438 -6.265625 -5.90625 C -5.761719 -6.035156 -5.085938 -6.097656 -4.234375 -6.101563 C -3.222656 -6.097656 -2.410156 -5.996094 -1.792969 -5.789063 C -1.175781 -5.578125 -0.695313 -5.265625 -0.359375 -4.859375 C -0.0195313 -4.445313 0.144531 -3.925781 0.148438 -3.296875 C 0.144531 -2.464844 -0.148438 -1.816406 -0.742188 -1.347656 C -1.457031 -0.78125 -2.621094 -0.496094 -4.234375 -0.5 Z M -4.234375 -1.582031 C -2.824219 -1.582031 -1.886719 -1.746094 -1.417969 -2.074219 C -0.949219 -2.402344 -0.714844 -2.808594 -0.71875 -3.296875 C -0.714844 -3.777344 -0.949219 -4.183594 -1.421875 -4.519531 C -1.886719 -4.847656 -2.824219 -5.015625 -4.234375 -5.015625 C -5.648438 -5.015625 -6.589844 -4.847656 -7.054688 -4.519531 C -7.515625 -4.1875 -7.746094 -3.777344 -7.75 -3.289063 C -7.746094 -2.800781 -7.542969 -2.414063 -7.136719 -2.128906 C -6.613281 -1.761719 -5.644531 -1.582031 -4.234375 -1.582031 Z M -4.234375 -1.582031 \"/>\n",
       "</symbol>\n",
       "<symbol overflow=\"visible\" id=\"glyph1-5\">\n",
       "<path style=\"stroke:none;\" d=\"M -2.003906 -5.050781 L -1.867188 -6.140625 C -1.230469 -5.96875 -0.738281 -5.648438 -0.386719 -5.183594 C -0.0351563 -4.71875 0.140625 -4.125 0.140625 -3.40625 C 0.140625 -2.492188 -0.136719 -1.769531 -0.699219 -1.238281 C -1.253906 -0.703125 -2.042969 -0.4375 -3.058594 -0.441406 C -4.105469 -0.4375 -4.917969 -0.707031 -5.496094 -1.25 C -6.074219 -1.785156 -6.363281 -2.484375 -6.363281 -3.347656 C -6.363281 -4.175781 -6.078125 -4.855469 -5.511719 -5.382813 C -4.945313 -5.910156 -4.148438 -6.175781 -3.121094 -6.175781 C -3.054688 -6.175781 -2.960938 -6.171875 -2.839844 -6.171875 L -2.84375 -1.53125 C -2.15625 -1.566406 -1.632813 -1.761719 -1.269531 -2.109375 C -0.90625 -2.457031 -0.726563 -2.890625 -0.726563 -3.410156 C -0.726563 -3.796875 -0.828125 -4.125 -1.03125 -4.402344 C -1.234375 -4.671875 -1.558594 -4.890625 -2.003906 -5.050781 Z M -3.710938 -1.589844 L -3.707031 -5.0625 C -4.226563 -5.015625 -4.621094 -4.882813 -4.886719 -4.664063 C -5.292969 -4.328125 -5.496094 -3.890625 -5.496094 -3.359375 C -5.496094 -2.871094 -5.332031 -2.464844 -5.007813 -2.136719 C -4.683594 -1.804688 -4.25 -1.621094 -3.710938 -1.589844 Z M -3.710938 -1.589844 \"/>\n",
       "</symbol>\n",
       "<symbol overflow=\"visible\" id=\"glyph1-6\">\n",
       "<path style=\"stroke:none;\" d=\"M -1.859375 -0.371094 L -2.023438 -1.414063 C -1.601563 -1.46875 -1.28125 -1.632813 -1.058594 -1.902344 C -0.835938 -2.167969 -0.726563 -2.542969 -0.726563 -3.023438 C -0.726563 -3.507813 -0.824219 -3.867188 -1.019531 -4.101563 C -1.214844 -4.335938 -1.445313 -4.453125 -1.714844 -4.453125 C -1.953125 -4.453125 -2.140625 -4.347656 -2.277344 -4.140625 C -2.367188 -3.996094 -2.488281 -3.636719 -2.636719 -3.0625 C -2.832031 -2.289063 -3 -1.753906 -3.144531 -1.457031 C -3.285156 -1.15625 -3.480469 -0.929688 -3.734375 -0.777344 C -3.984375 -0.621094 -4.265625 -0.542969 -4.570313 -0.546875 C -4.84375 -0.542969 -5.097656 -0.605469 -5.339844 -0.734375 C -5.574219 -0.859375 -5.773438 -1.035156 -5.929688 -1.253906 C -6.046875 -1.417969 -6.148438 -1.640625 -6.234375 -1.925781 C -6.320313 -2.207031 -6.363281 -2.511719 -6.363281 -2.835938 C -6.363281 -3.324219 -6.292969 -3.75 -6.152344 -4.121094 C -6.011719 -4.488281 -5.820313 -4.761719 -5.578125 -4.9375 C -5.335938 -5.113281 -5.015625 -5.234375 -4.617188 -5.304688 L -4.476563 -4.273438 C -4.796875 -4.222656 -5.046875 -4.085938 -5.226563 -3.863281 C -5.40625 -3.636719 -5.496094 -3.320313 -5.496094 -2.914063 C -5.496094 -2.425781 -5.414063 -2.082031 -5.253906 -1.875 C -5.09375 -1.667969 -4.90625 -1.5625 -4.695313 -1.566406 C -4.554688 -1.5625 -4.433594 -1.605469 -4.324219 -1.695313 C -4.210938 -1.777344 -4.117188 -1.914063 -4.042969 -2.097656 C -4.003906 -2.203125 -3.914063 -2.511719 -3.773438 -3.03125 C -3.570313 -3.773438 -3.40625 -4.292969 -3.28125 -4.589844 C -3.15625 -4.878906 -2.972656 -5.113281 -2.730469 -5.285156 C -2.488281 -5.453125 -2.1875 -5.535156 -1.828125 -5.539063 C -1.476563 -5.535156 -1.144531 -5.433594 -0.832031 -5.230469 C -0.519531 -5.023438 -0.277344 -4.726563 -0.113281 -4.339844 C 0.0585938 -3.953125 0.140625 -3.515625 0.140625 -3.03125 C 0.140625 -2.21875 -0.0273438 -1.601563 -0.363281 -1.179688 C -0.699219 -0.753906 -1.195313 -0.484375 -1.859375 -0.371094 Z M -1.859375 -0.371094 \"/>\n",
       "</symbol>\n",
       "<symbol overflow=\"visible\" id=\"glyph1-7\">\n",
       "<path style=\"stroke:none;\" d=\"M -0.941406 -3.09375 L -0.0117188 -3.246094 C 0.0507813 -2.949219 0.0820313 -2.683594 0.0820313 -2.449219 C 0.0820313 -2.066406 0.0234375 -1.769531 -0.0976563 -1.558594 C -0.21875 -1.347656 -0.378906 -1.199219 -0.574219 -1.113281 C -0.769531 -1.027344 -1.183594 -0.984375 -1.820313 -0.984375 L -5.402344 -0.984375 L -5.402344 -0.210938 L -6.222656 -0.210938 L -6.222656 -0.984375 L -7.765625 -0.984375 L -8.398438 -2.035156 L -6.222656 -2.035156 L -6.222656 -3.09375 L -5.402344 -3.09375 L -5.402344 -2.035156 L -1.761719 -2.03125 C -1.460938 -2.027344 -1.269531 -2.046875 -1.183594 -2.085938 C -1.097656 -2.125 -1.027344 -2.183594 -0.976563 -2.269531 C -0.925781 -2.351563 -0.902344 -2.472656 -0.902344 -2.632813 C -0.902344 -2.742188 -0.914063 -2.898438 -0.941406 -3.09375 Z M -0.941406 -3.09375 \"/>\n",
       "</symbol>\n",
       "<symbol overflow=\"visible\" id=\"glyph1-8\">\n",
       "<path style=\"stroke:none;\" d=\"M -7.375 -0.796875 L -8.589844 -0.796875 L -8.589844 -1.851563 L -7.375 -1.851563 Z M 0 -0.796875 L -6.222656 -0.796875 L -6.222656 -1.851563 L 0 -1.851563 Z M 0 -0.796875 \"/>\n",
       "</symbol>\n",
       "<symbol overflow=\"visible\" id=\"glyph1-9\">\n",
       "<path style=\"stroke:none;\" d=\"M 0 -0.789063 L -6.222656 -0.792969 L -6.222656 -1.734375 L -5.351563 -1.734375 C -5.648438 -1.929688 -5.894531 -2.1875 -6.082031 -2.511719 C -6.269531 -2.835938 -6.363281 -3.207031 -6.363281 -3.621094 C -6.363281 -4.082031 -6.265625 -4.457031 -6.074219 -4.753906 C -5.882813 -5.042969 -5.617188 -5.253906 -5.273438 -5.378906 C -6 -5.871094 -6.363281 -6.511719 -6.363281 -7.300781 C -6.363281 -7.917969 -6.191406 -8.390625 -5.847656 -8.722656 C -5.503906 -9.054688 -4.976563 -9.222656 -4.269531 -9.222656 L 0 -9.222656 L 0 -8.171875 L -3.917969 -8.171875 C -4.335938 -8.167969 -4.640625 -8.132813 -4.828125 -8.070313 C -5.015625 -8 -5.164063 -7.878906 -5.277344 -7.699219 C -5.390625 -7.519531 -5.449219 -7.308594 -5.449219 -7.066406 C -5.449219 -6.628906 -5.300781 -6.265625 -5.011719 -5.976563 C -4.71875 -5.6875 -4.253906 -5.542969 -3.613281 -5.542969 L 0 -5.542969 L 0 -4.488281 L -4.042969 -4.488281 C -4.511719 -4.488281 -4.863281 -4.402344 -5.097656 -4.230469 C -5.332031 -4.058594 -5.449219 -3.777344 -5.449219 -3.386719 C -5.449219 -3.089844 -5.371094 -2.8125 -5.214844 -2.5625 C -5.058594 -2.308594 -4.828125 -2.128906 -4.527344 -2.015625 C -4.226563 -1.902344 -3.792969 -1.84375 -3.226563 -1.847656 L 0 -1.84375 Z M 0 -0.789063 \"/>\n",
       "</symbol>\n",
       "<symbol overflow=\"visible\" id=\"glyph1-10\">\n",
       "<path style=\"stroke:none;\" d=\"M -0.765625 -4.851563 C -0.433594 -4.460938 -0.199219 -4.082031 -0.0625 -3.722656 C 0.0742188 -3.355469 0.140625 -2.96875 0.140625 -2.5625 C 0.140625 -1.875 -0.0234375 -1.351563 -0.359375 -0.984375 C -0.6875 -0.617188 -1.117188 -0.433594 -1.640625 -0.433594 C -1.945313 -0.433594 -2.222656 -0.5 -2.472656 -0.640625 C -2.722656 -0.777344 -2.925781 -0.960938 -3.082031 -1.1875 C -3.234375 -1.410156 -3.347656 -1.664063 -3.429688 -1.945313 C -3.476563 -2.152344 -3.53125 -2.464844 -3.585938 -2.882813 C -3.6875 -3.734375 -3.808594 -4.359375 -3.949219 -4.765625 C -4.089844 -4.765625 -4.179688 -4.769531 -4.226563 -4.769531 C -4.648438 -4.769531 -4.953125 -4.667969 -5.132813 -4.46875 C -5.371094 -4.199219 -5.488281 -3.800781 -5.492188 -3.269531 C -5.488281 -2.773438 -5.402344 -2.40625 -5.230469 -2.171875 C -5.054688 -1.933594 -4.746094 -1.757813 -4.304688 -1.648438 L -4.445313 -0.617188 C -4.886719 -0.707031 -5.242188 -0.863281 -5.515625 -1.078125 C -5.78125 -1.292969 -5.992188 -1.601563 -6.140625 -2.011719 C -6.289063 -2.414063 -6.363281 -2.886719 -6.363281 -3.421875 C -6.363281 -3.953125 -6.300781 -4.382813 -6.175781 -4.714844 C -6.050781 -5.046875 -5.890625 -5.292969 -5.703125 -5.449219 C -5.511719 -5.605469 -5.273438 -5.714844 -4.984375 -5.777344 C -4.804688 -5.808594 -4.480469 -5.824219 -4.015625 -5.828125 L -2.605469 -5.828125 C -1.625 -5.824219 -1.003906 -5.847656 -0.746094 -5.894531 C -0.480469 -5.941406 -0.234375 -6.03125 0 -6.164063 L 0 -5.0625 C -0.21875 -4.953125 -0.472656 -4.882813 -0.765625 -4.851563 Z M -3.121094 -4.765625 C -2.960938 -4.375 -2.828125 -3.800781 -2.726563 -3.039063 C -2.660156 -2.605469 -2.589844 -2.300781 -2.515625 -2.121094 C -2.433594 -1.941406 -2.320313 -1.800781 -2.171875 -1.703125 C -2.019531 -1.605469 -1.851563 -1.558594 -1.671875 -1.558594 C -1.386719 -1.558594 -1.152344 -1.664063 -0.964844 -1.875 C -0.773438 -2.085938 -0.679688 -2.398438 -0.683594 -2.8125 C -0.679688 -3.21875 -0.769531 -3.578125 -0.949219 -3.894531 C -1.128906 -4.210938 -1.371094 -4.445313 -1.679688 -4.59375 C -1.917969 -4.707031 -2.269531 -4.761719 -2.734375 -4.765625 Z M -3.121094 -4.765625 \"/>\n",
       "</symbol>\n",
       "<symbol overflow=\"visible\" id=\"glyph2-0\">\n",
       "<path style=\"stroke:none;\" d=\"M 0.984375 0 L 0.984375 -10.308594 L 3.066406 -10.308594 L 3.066406 0 Z M 0.984375 0 \"/>\n",
       "</symbol>\n",
       "<symbol overflow=\"visible\" id=\"glyph2-1\">\n",
       "<path style=\"stroke:none;\" d=\"M 7.824219 0 L 5.851563 0 L 5.851563 -3.8125 C 5.847656 -4.613281 5.804688 -5.132813 5.722656 -5.375 C 5.636719 -5.609375 5.5 -5.792969 5.3125 -5.925781 C 5.121094 -6.054688 4.890625 -6.121094 4.625 -6.125 C 4.28125 -6.121094 3.976563 -6.027344 3.703125 -5.84375 C 3.429688 -5.652344 3.242188 -5.40625 3.144531 -5.097656 C 3.042969 -4.785156 2.992188 -4.210938 2.996094 -3.382813 L 2.996094 0 L 1.019531 0 L 1.019531 -7.46875 L 2.855469 -7.46875 L 2.855469 -6.371094 C 3.503906 -7.210938 4.324219 -7.632813 5.316406 -7.636719 C 5.746094 -7.632813 6.144531 -7.554688 6.507813 -7.398438 C 6.867188 -7.238281 7.140625 -7.039063 7.328125 -6.796875 C 7.511719 -6.554688 7.640625 -6.277344 7.714844 -5.96875 C 7.785156 -5.65625 7.820313 -5.214844 7.824219 -4.640625 Z M 7.824219 0 \"/>\n",
       "</symbol>\n",
       "<symbol overflow=\"visible\" id=\"glyph2-2\">\n",
       "<path style=\"stroke:none;\" d=\"M 4.457031 -7.46875 L 4.457031 -5.890625 L 3.109375 -5.890625 L 3.109375 -2.882813 C 3.105469 -2.273438 3.117188 -1.917969 3.144531 -1.816406 C 3.167969 -1.714844 3.226563 -1.628906 3.320313 -1.566406 C 3.410156 -1.496094 3.523438 -1.464844 3.65625 -1.46875 C 3.835938 -1.464844 4.097656 -1.527344 4.449219 -1.660156 L 4.621094 -0.125 C 4.15625 0.0703125 3.636719 0.164063 3.058594 0.167969 C 2.699219 0.164063 2.375 0.105469 2.09375 -0.0117188 C 1.804688 -0.128906 1.597656 -0.28125 1.464844 -0.472656 C 1.332031 -0.660156 1.238281 -0.917969 1.1875 -1.246094 C 1.144531 -1.472656 1.125 -1.9375 1.125 -2.636719 L 1.125 -5.890625 L 0.21875 -5.890625 L 0.21875 -7.46875 L 1.125 -7.46875 L 1.125 -8.949219 L 3.109375 -10.105469 L 3.109375 -7.46875 Z M 4.457031 -7.46875 \"/>\n",
       "</symbol>\n",
       "<symbol overflow=\"visible\" id=\"glyph2-3\">\n",
       "<path style=\"stroke:none;\" d=\"M 5.359375 -2.375 L 7.328125 -2.046875 C 7.070313 -1.320313 6.667969 -0.773438 6.125 -0.398438 C 5.578125 -0.0234375 4.898438 0.164063 4.078125 0.167969 C 2.777344 0.164063 1.816406 -0.257813 1.195313 -1.105469 C 0.703125 -1.78125 0.457031 -2.636719 0.457031 -3.675781 C 0.457031 -4.910156 0.777344 -5.882813 1.425781 -6.585938 C 2.070313 -7.285156 2.890625 -7.632813 3.882813 -7.636719 C 4.988281 -7.632813 5.863281 -7.265625 6.507813 -6.535156 C 7.148438 -5.796875 7.457031 -4.675781 7.433594 -3.164063 L 2.480469 -3.164063 C 2.492188 -2.578125 2.652344 -2.121094 2.960938 -1.796875 C 3.261719 -1.46875 3.640625 -1.304688 4.097656 -1.308594 C 4.402344 -1.304688 4.664063 -1.390625 4.878906 -1.558594 C 5.085938 -1.726563 5.246094 -1.996094 5.359375 -2.375 Z M 5.46875 -4.375 C 5.453125 -4.941406 5.308594 -5.375 5.027344 -5.675781 C 4.746094 -5.972656 4.402344 -6.121094 4 -6.125 C 3.566406 -6.121094 3.210938 -5.964844 2.933594 -5.652344 C 2.648438 -5.335938 2.507813 -4.910156 2.515625 -4.375 Z M 5.46875 -4.375 \"/>\n",
       "</symbol>\n",
       "<symbol overflow=\"visible\" id=\"glyph2-4\">\n",
       "<path style=\"stroke:none;\" d=\"M 2.925781 0 L 0.949219 0 L 0.949219 -7.46875 L 2.785156 -7.46875 L 2.785156 -6.40625 C 3.09375 -6.902344 3.375 -7.234375 3.628906 -7.394531 C 3.878906 -7.554688 4.164063 -7.632813 4.484375 -7.636719 C 4.929688 -7.632813 5.363281 -7.507813 5.785156 -7.261719 L 5.175781 -5.539063 C 4.839844 -5.75 4.53125 -5.859375 4.246094 -5.863281 C 3.96875 -5.859375 3.734375 -5.78125 3.542969 -5.632813 C 3.347656 -5.476563 3.195313 -5.203125 3.089844 -4.808594 C 2.976563 -4.40625 2.921875 -3.570313 2.925781 -2.304688 Z M 2.925781 0 \"/>\n",
       "</symbol>\n",
       "<symbol overflow=\"visible\" id=\"glyph2-5\">\n",
       "<path style=\"stroke:none;\" d=\"M 3.085938 0 L 0.078125 -7.46875 L 2.152344 -7.46875 L 3.558594 -3.65625 L 3.964844 -2.382813 C 4.070313 -2.703125 4.136719 -2.917969 4.167969 -3.023438 C 4.230469 -3.234375 4.300781 -3.445313 4.378906 -3.65625 L 5.800781 -7.46875 L 7.832031 -7.46875 L 4.867188 0 Z M 3.085938 0 \"/>\n",
       "</symbol>\n",
       "<symbol overflow=\"visible\" id=\"glyph2-6\">\n",
       "<path style=\"stroke:none;\" d=\"M 2.511719 -5.1875 L 0.71875 -5.511719 C 0.917969 -6.230469 1.265625 -6.765625 1.757813 -7.113281 C 2.25 -7.460938 2.980469 -7.632813 3.953125 -7.636719 C 4.832031 -7.632813 5.488281 -7.53125 5.917969 -7.324219 C 6.347656 -7.113281 6.648438 -6.847656 6.828125 -6.527344 C 7 -6.207031 7.089844 -5.617188 7.09375 -4.761719 L 7.074219 -2.453125 C 7.070313 -1.792969 7.101563 -1.308594 7.167969 -1 C 7.226563 -0.6875 7.347656 -0.355469 7.523438 0 L 5.570313 0 C 5.515625 -0.128906 5.453125 -0.320313 5.378906 -0.582031 C 5.34375 -0.695313 5.320313 -0.773438 5.308594 -0.816406 C 4.96875 -0.484375 4.605469 -0.238281 4.222656 -0.078125 C 3.835938 0.0859375 3.425781 0.164063 2.996094 0.167969 C 2.222656 0.164063 1.617188 -0.0429688 1.175781 -0.457031 C 0.730469 -0.871094 0.507813 -1.398438 0.511719 -2.039063 C 0.507813 -2.460938 0.609375 -2.835938 0.8125 -3.167969 C 1.011719 -3.496094 1.292969 -3.75 1.660156 -3.925781 C 2.019531 -4.101563 2.546875 -4.253906 3.234375 -4.386719 C 4.15625 -4.558594 4.792969 -4.71875 5.152344 -4.871094 L 5.152344 -5.070313 C 5.148438 -5.445313 5.054688 -5.71875 4.871094 -5.882813 C 4.679688 -6.042969 4.328125 -6.121094 3.8125 -6.125 C 3.457031 -6.121094 3.183594 -6.054688 2.988281 -5.917969 C 2.789063 -5.777344 2.628906 -5.53125 2.511719 -5.1875 Z M 5.152344 -3.585938 C 4.894531 -3.5 4.496094 -3.398438 3.949219 -3.285156 C 3.402344 -3.164063 3.042969 -3.046875 2.875 -2.9375 C 2.613281 -2.75 2.484375 -2.519531 2.488281 -2.242188 C 2.484375 -1.964844 2.585938 -1.726563 2.796875 -1.523438 C 3 -1.320313 3.265625 -1.21875 3.585938 -1.222656 C 3.941406 -1.21875 4.28125 -1.335938 4.605469 -1.574219 C 4.84375 -1.75 5 -1.96875 5.078125 -2.230469 C 5.125 -2.394531 5.148438 -2.714844 5.152344 -3.191406 Z M 5.152344 -3.585938 \"/>\n",
       "</symbol>\n",
       "<symbol overflow=\"visible\" id=\"glyph2-7\">\n",
       "<path style=\"stroke:none;\" d=\"M 1.035156 0 L 1.035156 -10.308594 L 3.007813 -10.308594 L 3.007813 0 Z M 1.035156 0 \"/>\n",
       "</symbol>\n",
       "<symbol overflow=\"visible\" id=\"glyph2-8\">\n",
       "<path style=\"stroke:none;\" d=\"M 0.335938 -2.128906 L 2.320313 -2.433594 C 2.402344 -2.042969 2.570313 -1.75 2.832031 -1.554688 C 3.085938 -1.351563 3.449219 -1.253906 3.917969 -1.257813 C 4.425781 -1.253906 4.808594 -1.347656 5.070313 -1.539063 C 5.238281 -1.667969 5.324219 -1.84375 5.328125 -2.066406 C 5.324219 -2.214844 5.277344 -2.339844 5.1875 -2.441406 C 5.085938 -2.53125 4.867188 -2.617188 4.527344 -2.699219 C 2.929688 -3.046875 1.917969 -3.367188 1.496094 -3.664063 C 0.902344 -4.0625 0.609375 -4.625 0.613281 -5.34375 C 0.609375 -5.988281 0.863281 -6.53125 1.378906 -6.972656 C 1.886719 -7.414063 2.679688 -7.632813 3.753906 -7.636719 C 4.773438 -7.632813 5.53125 -7.46875 6.03125 -7.136719 C 6.523438 -6.800781 6.867188 -6.308594 7.058594 -5.660156 L 5.195313 -5.316406 C 5.113281 -5.601563 4.960938 -5.824219 4.742188 -5.980469 C 4.515625 -6.132813 4.199219 -6.210938 3.789063 -6.214844 C 3.265625 -6.210938 2.894531 -6.136719 2.671875 -5.996094 C 2.519531 -5.890625 2.441406 -5.757813 2.445313 -5.597656 C 2.441406 -5.453125 2.507813 -5.335938 2.644531 -5.238281 C 2.816406 -5.105469 3.433594 -4.917969 4.488281 -4.683594 C 5.539063 -4.441406 6.273438 -4.148438 6.695313 -3.804688 C 7.105469 -3.449219 7.3125 -2.960938 7.3125 -2.335938 C 7.3125 -1.648438 7.023438 -1.058594 6.453125 -0.570313 C 5.878906 -0.078125 5.035156 0.164063 3.917969 0.167969 C 2.898438 0.164063 2.09375 -0.0390625 1.5 -0.449219 C 0.90625 -0.859375 0.515625 -1.417969 0.335938 -2.128906 Z M 0.335938 -2.128906 \"/>\n",
       "</symbol>\n",
       "<symbol overflow=\"visible\" id=\"glyph2-9\">\n",
       "<path style=\"stroke:none;\" d=\"\"/>\n",
       "</symbol>\n",
       "<symbol overflow=\"visible\" id=\"glyph2-10\">\n",
       "<path style=\"stroke:none;\" d=\"M 0.949219 0 L 0.949219 -10.308594 L 2.925781 -10.308594 L 2.925781 -6.59375 C 3.53125 -7.285156 4.253906 -7.632813 5.089844 -7.636719 C 5.996094 -7.632813 6.75 -7.304688 7.347656 -6.648438 C 7.941406 -5.988281 8.238281 -5.042969 8.242188 -3.8125 C 8.238281 -2.535156 7.933594 -1.550781 7.328125 -0.863281 C 6.71875 -0.175781 5.980469 0.164063 5.117188 0.167969 C 4.6875 0.164063 4.269531 0.0585938 3.855469 -0.152344 C 3.441406 -0.363281 3.082031 -0.675781 2.785156 -1.097656 L 2.785156 0 Z M 2.910156 -3.894531 C 2.90625 -3.117188 3.027344 -2.546875 3.277344 -2.179688 C 3.613281 -1.652344 4.070313 -1.386719 4.640625 -1.390625 C 5.074219 -1.386719 5.445313 -1.574219 5.753906 -1.949219 C 6.058594 -2.320313 6.210938 -2.90625 6.214844 -3.710938 C 6.210938 -4.5625 6.054688 -5.179688 5.75 -5.558594 C 5.4375 -5.933594 5.042969 -6.121094 4.5625 -6.125 C 4.085938 -6.121094 3.691406 -5.9375 3.378906 -5.570313 C 3.0625 -5.199219 2.90625 -4.640625 2.910156 -3.894531 Z M 2.910156 -3.894531 \"/>\n",
       "</symbol>\n",
       "<symbol overflow=\"visible\" id=\"glyph2-11\">\n",
       "<path style=\"stroke:none;\" d=\"M 7.882813 0 L 6.046875 0 L 6.046875 -1.097656 C 5.742188 -0.667969 5.378906 -0.351563 4.964844 -0.144531 C 4.546875 0.0625 4.128906 0.164063 3.710938 0.167969 C 2.851563 0.164063 2.117188 -0.179688 1.507813 -0.867188 C 0.890625 -1.558594 0.585938 -2.523438 0.589844 -3.761719 C 0.585938 -5.027344 0.882813 -5.988281 1.480469 -6.648438 C 2.074219 -7.304688 2.828125 -7.632813 3.742188 -7.636719 C 4.574219 -7.632813 5.296875 -7.285156 5.90625 -6.59375 L 5.90625 -10.308594 L 7.882813 -10.308594 Z M 2.609375 -3.894531 C 2.605469 -3.09375 2.714844 -2.515625 2.9375 -2.164063 C 3.253906 -1.644531 3.699219 -1.386719 4.273438 -1.390625 C 4.726563 -1.386719 5.113281 -1.582031 5.433594 -1.96875 C 5.75 -2.355469 5.910156 -2.933594 5.914063 -3.707031 C 5.910156 -4.5625 5.757813 -5.179688 5.449219 -5.558594 C 5.136719 -5.933594 4.738281 -6.121094 4.261719 -6.125 C 3.789063 -6.121094 3.398438 -5.9375 3.082031 -5.566406 C 2.765625 -5.191406 2.605469 -4.632813 2.609375 -3.894531 Z M 2.609375 -3.894531 \"/>\n",
       "</symbol>\n",
       "<symbol overflow=\"visible\" id=\"glyph2-12\">\n",
       "<path style=\"stroke:none;\" d=\"M 0.578125 -3.839844 C 0.574219 -4.492188 0.734375 -5.128906 1.0625 -5.742188 C 1.382813 -6.355469 1.839844 -6.824219 2.433594 -7.148438 C 3.023438 -7.472656 3.6875 -7.632813 4.421875 -7.636719 C 5.550781 -7.632813 6.476563 -7.265625 7.199219 -6.535156 C 7.917969 -5.796875 8.277344 -4.871094 8.28125 -3.753906 C 8.277344 -2.621094 7.914063 -1.683594 7.1875 -0.945313 C 6.457031 -0.203125 5.539063 0.164063 4.4375 0.167969 C 3.75 0.164063 3.097656 0.0117188 2.476563 -0.292969 C 1.855469 -0.601563 1.382813 -1.054688 1.0625 -1.652344 C 0.734375 -2.25 0.574219 -2.976563 0.578125 -3.839844 Z M 2.601563 -3.734375 C 2.601563 -2.988281 2.777344 -2.421875 3.128906 -2.03125 C 3.480469 -1.636719 3.914063 -1.441406 4.429688 -1.441406 C 4.945313 -1.441406 5.375 -1.636719 5.726563 -2.03125 C 6.070313 -2.421875 6.246094 -2.992188 6.25 -3.746094 C 6.246094 -4.472656 6.070313 -5.035156 5.726563 -5.433594 C 5.375 -5.824219 4.945313 -6.023438 4.429688 -6.027344 C 3.914063 -6.023438 3.480469 -5.824219 3.128906 -5.433594 C 2.777344 -5.035156 2.601563 -4.46875 2.601563 -3.734375 Z M 2.601563 -3.734375 \"/>\n",
       "</symbol>\n",
       "<symbol overflow=\"visible\" id=\"glyph2-13\">\n",
       "<path style=\"stroke:none;\" d=\"M 5.914063 2.839844 L 5.914063 -0.914063 C 5.652344 -0.578125 5.332031 -0.3125 4.949219 -0.121094 C 4.5625 0.0703125 4.148438 0.164063 3.707031 0.167969 C 2.855469 0.164063 2.15625 -0.152344 1.609375 -0.789063 C 0.960938 -1.53125 0.636719 -2.539063 0.640625 -3.816406 C 0.636719 -5.011719 0.941406 -5.949219 1.550781 -6.625 C 2.15625 -7.296875 2.910156 -7.632813 3.8125 -7.636719 C 4.304688 -7.632813 4.734375 -7.527344 5.097656 -7.320313 C 5.460938 -7.105469 5.78125 -6.789063 6.066406 -6.363281 L 6.066406 -7.46875 L 7.890625 -7.46875 L 7.890625 2.839844 Z M 5.976563 -3.824219 C 5.976563 -4.585938 5.820313 -5.15625 5.507813 -5.53125 C 5.195313 -5.902344 4.804688 -6.085938 4.339844 -6.089844 C 3.859375 -6.085938 3.457031 -5.898438 3.136719 -5.519531 C 2.8125 -5.136719 2.652344 -4.53125 2.65625 -3.710938 C 2.652344 -2.886719 2.808594 -2.296875 3.121094 -1.933594 C 3.429688 -1.570313 3.8125 -1.386719 4.269531 -1.390625 C 4.71875 -1.386719 5.117188 -1.59375 5.460938 -2.003906 C 5.804688 -2.410156 5.976563 -3.015625 5.976563 -3.824219 Z M 5.976563 -3.824219 \"/>\n",
       "</symbol>\n",
       "<symbol overflow=\"visible\" id=\"glyph2-14\">\n",
       "<path style=\"stroke:none;\" d=\"M 5.949219 0 L 5.949219 -1.117188 C 5.671875 -0.714844 5.316406 -0.402344 4.875 -0.175781 C 4.429688 0.0507813 3.960938 0.164063 3.472656 0.167969 C 2.96875 0.164063 2.519531 0.0585938 2.125 -0.160156 C 1.722656 -0.378906 1.433594 -0.691406 1.257813 -1.089844 C 1.078125 -1.488281 0.988281 -2.039063 0.992188 -2.742188 L 0.992188 -7.46875 L 2.96875 -7.46875 L 2.96875 -4.035156 C 2.964844 -2.984375 3 -2.339844 3.074219 -2.105469 C 3.144531 -1.863281 3.277344 -1.675781 3.472656 -1.542969 C 3.664063 -1.402344 3.90625 -1.335938 4.203125 -1.335938 C 4.539063 -1.335938 4.84375 -1.425781 5.109375 -1.613281 C 5.375 -1.792969 5.558594 -2.023438 5.660156 -2.300781 C 5.757813 -2.574219 5.804688 -3.246094 5.808594 -4.316406 L 5.808594 -7.46875 L 7.785156 -7.46875 L 7.785156 0 Z M 5.949219 0 \"/>\n",
       "</symbol>\n",
       "<symbol overflow=\"visible\" id=\"glyph2-15\">\n",
       "<path style=\"stroke:none;\" d=\"M 1.035156 -8.480469 L 1.035156 -10.308594 L 3.007813 -10.308594 L 3.007813 -8.480469 Z M 1.035156 0 L 1.035156 -7.46875 L 3.007813 -7.46875 L 3.007813 0 Z M 1.035156 0 \"/>\n",
       "</symbol>\n",
       "</g>\n",
       "<clipPath id=\"clip1\">\n",
       "  <path d=\"M 59.039063 59.039063 L 474.757813 59.039063 L 474.757813 431.558594 L 59.039063 431.558594 Z M 59.039063 59.039063 \"/>\n",
       "</clipPath>\n",
       "</defs>\n",
       "<g id=\"surface1\">\n",
       "<rect x=\"0\" y=\"0\" width=\"504\" height=\"504\" style=\"fill:rgb(100%,100%,100%);fill-opacity:1;stroke:none;\"/>\n",
       "<path style=\"fill:none;stroke-width:0.75;stroke-linecap:round;stroke-linejoin:round;stroke:rgb(0%,0%,0%);stroke-opacity:1;stroke-miterlimit:10;\" d=\"M 112.800781 430.558594 L 420 430.558594 \"/>\n",
       "<path style=\"fill:none;stroke-width:0.75;stroke-linecap:round;stroke-linejoin:round;stroke:rgb(0%,0%,0%);stroke-opacity:1;stroke-miterlimit:10;\" d=\"M 112.800781 430.558594 L 112.800781 437.761719 \"/>\n",
       "<path style=\"fill:none;stroke-width:0.75;stroke-linecap:round;stroke-linejoin:round;stroke:rgb(0%,0%,0%);stroke-opacity:1;stroke-miterlimit:10;\" d=\"M 189.601563 430.558594 L 189.601563 437.761719 \"/>\n",
       "<path style=\"fill:none;stroke-width:0.75;stroke-linecap:round;stroke-linejoin:round;stroke:rgb(0%,0%,0%);stroke-opacity:1;stroke-miterlimit:10;\" d=\"M 266.398438 430.558594 L 266.398438 437.761719 \"/>\n",
       "<path style=\"fill:none;stroke-width:0.75;stroke-linecap:round;stroke-linejoin:round;stroke:rgb(0%,0%,0%);stroke-opacity:1;stroke-miterlimit:10;\" d=\"M 343.199219 430.558594 L 343.199219 437.761719 \"/>\n",
       "<path style=\"fill:none;stroke-width:0.75;stroke-linecap:round;stroke-linejoin:round;stroke:rgb(0%,0%,0%);stroke-opacity:1;stroke-miterlimit:10;\" d=\"M 420 430.558594 L 420 437.761719 \"/>\n",
       "<g style=\"fill:rgb(0%,0%,0%);fill-opacity:1;\">\n",
       "  <use xlink:href=\"#glyph0-0\" x=\"108.800781\" y=\"456.480469\"/>\n",
       "</g>\n",
       "<g style=\"fill:rgb(0%,0%,0%);fill-opacity:1;\">\n",
       "  <use xlink:href=\"#glyph0-1\" x=\"185.601563\" y=\"456.480469\"/>\n",
       "</g>\n",
       "<g style=\"fill:rgb(0%,0%,0%);fill-opacity:1;\">\n",
       "  <use xlink:href=\"#glyph0-2\" x=\"262.066406\" y=\"456.480469\"/>\n",
       "</g>\n",
       "<g style=\"fill:rgb(0%,0%,0%);fill-opacity:1;\">\n",
       "  <use xlink:href=\"#glyph0-3\" x=\"338.867188\" y=\"456.480469\"/>\n",
       "</g>\n",
       "<g style=\"fill:rgb(0%,0%,0%);fill-opacity:1;\">\n",
       "  <use xlink:href=\"#glyph0-4\" x=\"416\" y=\"456.480469\"/>\n",
       "</g>\n",
       "<path style=\"fill:none;stroke-width:0.75;stroke-linecap:round;stroke-linejoin:round;stroke:rgb(0%,0%,0%);stroke-opacity:1;stroke-miterlimit:10;\" d=\"M 59.039063 396.125 L 59.039063 74.433594 \"/>\n",
       "<path style=\"fill:none;stroke-width:0.75;stroke-linecap:round;stroke-linejoin:round;stroke:rgb(0%,0%,0%);stroke-opacity:1;stroke-miterlimit:10;\" d=\"M 59.039063 396.125 L 51.839844 396.125 \"/>\n",
       "<path style=\"fill:none;stroke-width:0.75;stroke-linecap:round;stroke-linejoin:round;stroke:rgb(0%,0%,0%);stroke-opacity:1;stroke-miterlimit:10;\" d=\"M 59.039063 331.785156 L 51.839844 331.785156 \"/>\n",
       "<path style=\"fill:none;stroke-width:0.75;stroke-linecap:round;stroke-linejoin:round;stroke:rgb(0%,0%,0%);stroke-opacity:1;stroke-miterlimit:10;\" d=\"M 59.039063 267.449219 L 51.839844 267.449219 \"/>\n",
       "<path style=\"fill:none;stroke-width:0.75;stroke-linecap:round;stroke-linejoin:round;stroke:rgb(0%,0%,0%);stroke-opacity:1;stroke-miterlimit:10;\" d=\"M 59.039063 203.109375 L 51.839844 203.109375 \"/>\n",
       "<path style=\"fill:none;stroke-width:0.75;stroke-linecap:round;stroke-linejoin:round;stroke:rgb(0%,0%,0%);stroke-opacity:1;stroke-miterlimit:10;\" d=\"M 59.039063 138.773438 L 51.839844 138.773438 \"/>\n",
       "<path style=\"fill:none;stroke-width:0.75;stroke-linecap:round;stroke-linejoin:round;stroke:rgb(0%,0%,0%);stroke-opacity:1;stroke-miterlimit:10;\" d=\"M 59.039063 74.433594 L 51.839844 74.433594 \"/>\n",
       "<g style=\"fill:rgb(0%,0%,0%);fill-opacity:1;\">\n",
       "  <use xlink:href=\"#glyph1-0\" x=\"41.761719\" y=\"406.464844\"/>\n",
       "  <use xlink:href=\"#glyph1-1\" x=\"41.761719\" y=\"402.46875\"/>\n",
       "  <use xlink:href=\"#glyph1-2\" x=\"41.761719\" y=\"395.794922\"/>\n",
       "  <use xlink:href=\"#glyph1-3\" x=\"41.761719\" y=\"392.460938\"/>\n",
       "</g>\n",
       "<g style=\"fill:rgb(0%,0%,0%);fill-opacity:1;\">\n",
       "  <use xlink:href=\"#glyph1-0\" x=\"41.761719\" y=\"342.125\"/>\n",
       "  <use xlink:href=\"#glyph1-1\" x=\"41.761719\" y=\"338.128906\"/>\n",
       "  <use xlink:href=\"#glyph1-2\" x=\"41.761719\" y=\"331.455078\"/>\n",
       "  <use xlink:href=\"#glyph1-4\" x=\"41.761719\" y=\"328.121094\"/>\n",
       "</g>\n",
       "<g style=\"fill:rgb(0%,0%,0%);fill-opacity:1;\">\n",
       "  <use xlink:href=\"#glyph1-0\" x=\"41.761719\" y=\"277.789063\"/>\n",
       "  <use xlink:href=\"#glyph1-4\" x=\"41.761719\" y=\"273.792969\"/>\n",
       "  <use xlink:href=\"#glyph1-2\" x=\"41.761719\" y=\"267.119141\"/>\n",
       "  <use xlink:href=\"#glyph1-3\" x=\"41.761719\" y=\"263.785156\"/>\n",
       "</g>\n",
       "<g style=\"fill:rgb(0%,0%,0%);fill-opacity:1;\">\n",
       "  <use xlink:href=\"#glyph1-4\" x=\"41.761719\" y=\"211.449219\"/>\n",
       "  <use xlink:href=\"#glyph1-2\" x=\"41.761719\" y=\"204.775391\"/>\n",
       "  <use xlink:href=\"#glyph1-4\" x=\"41.761719\" y=\"201.441406\"/>\n",
       "</g>\n",
       "<g style=\"fill:rgb(0%,0%,0%);fill-opacity:1;\">\n",
       "  <use xlink:href=\"#glyph1-4\" x=\"41.761719\" y=\"147.113281\"/>\n",
       "  <use xlink:href=\"#glyph1-2\" x=\"41.761719\" y=\"140.439453\"/>\n",
       "  <use xlink:href=\"#glyph1-3\" x=\"41.761719\" y=\"137.105469\"/>\n",
       "</g>\n",
       "<g style=\"fill:rgb(0%,0%,0%);fill-opacity:1;\">\n",
       "  <use xlink:href=\"#glyph1-1\" x=\"41.761719\" y=\"82.773438\"/>\n",
       "  <use xlink:href=\"#glyph1-2\" x=\"41.761719\" y=\"76.099609\"/>\n",
       "  <use xlink:href=\"#glyph1-4\" x=\"41.761719\" y=\"72.765625\"/>\n",
       "</g>\n",
       "<g style=\"fill:rgb(0%,0%,0%);fill-opacity:1;\">\n",
       "  <use xlink:href=\"#glyph2-0\" x=\"127.152344\" y=\"34.675781\"/>\n",
       "  <use xlink:href=\"#glyph2-1\" x=\"131.153125\" y=\"34.675781\"/>\n",
       "  <use xlink:href=\"#glyph2-2\" x=\"139.949219\" y=\"34.675781\"/>\n",
       "  <use xlink:href=\"#glyph2-3\" x=\"144.744531\" y=\"34.675781\"/>\n",
       "  <use xlink:href=\"#glyph2-4\" x=\"152.753125\" y=\"34.675781\"/>\n",
       "  <use xlink:href=\"#glyph2-5\" x=\"158.357031\" y=\"34.675781\"/>\n",
       "  <use xlink:href=\"#glyph2-6\" x=\"166.365625\" y=\"34.675781\"/>\n",
       "  <use xlink:href=\"#glyph2-7\" x=\"174.374219\" y=\"34.675781\"/>\n",
       "  <use xlink:href=\"#glyph2-8\" x=\"178.375\" y=\"34.675781\"/>\n",
       "  <use xlink:href=\"#glyph2-9\" x=\"186.383594\" y=\"34.675781\"/>\n",
       "  <use xlink:href=\"#glyph2-10\" x=\"190.384375\" y=\"34.675781\"/>\n",
       "  <use xlink:href=\"#glyph2-6\" x=\"199.180469\" y=\"34.675781\"/>\n",
       "  <use xlink:href=\"#glyph2-8\" x=\"207.189062\" y=\"34.675781\"/>\n",
       "  <use xlink:href=\"#glyph2-3\" x=\"215.197656\" y=\"34.675781\"/>\n",
       "  <use xlink:href=\"#glyph2-11\" x=\"223.20625\" y=\"34.675781\"/>\n",
       "  <use xlink:href=\"#glyph2-9\" x=\"232.002344\" y=\"34.675781\"/>\n",
       "  <use xlink:href=\"#glyph2-12\" x=\"236.003125\" y=\"34.675781\"/>\n",
       "  <use xlink:href=\"#glyph2-1\" x=\"244.799219\" y=\"34.675781\"/>\n",
       "  <use xlink:href=\"#glyph2-9\" x=\"253.595312\" y=\"34.675781\"/>\n",
       "  <use xlink:href=\"#glyph2-13\" x=\"257.596094\" y=\"34.675781\"/>\n",
       "  <use xlink:href=\"#glyph2-14\" x=\"266.392187\" y=\"34.675781\"/>\n",
       "  <use xlink:href=\"#glyph2-6\" x=\"275.188281\" y=\"34.675781\"/>\n",
       "  <use xlink:href=\"#glyph2-8\" x=\"283.196875\" y=\"34.675781\"/>\n",
       "  <use xlink:href=\"#glyph2-15\" x=\"291.205469\" y=\"34.675781\"/>\n",
       "  <use xlink:href=\"#glyph2-9\" x=\"295.20625\" y=\"34.675781\"/>\n",
       "  <use xlink:href=\"#glyph2-8\" x=\"299.207031\" y=\"34.675781\"/>\n",
       "  <use xlink:href=\"#glyph2-2\" x=\"307.215625\" y=\"34.675781\"/>\n",
       "  <use xlink:href=\"#glyph2-6\" x=\"312.010937\" y=\"34.675781\"/>\n",
       "  <use xlink:href=\"#glyph2-1\" x=\"320.019531\" y=\"34.675781\"/>\n",
       "  <use xlink:href=\"#glyph2-11\" x=\"328.815625\" y=\"34.675781\"/>\n",
       "  <use xlink:href=\"#glyph2-6\" x=\"337.611719\" y=\"34.675781\"/>\n",
       "  <use xlink:href=\"#glyph2-4\" x=\"345.620312\" y=\"34.675781\"/>\n",
       "  <use xlink:href=\"#glyph2-11\" x=\"351.224219\" y=\"34.675781\"/>\n",
       "  <use xlink:href=\"#glyph2-9\" x=\"360.020312\" y=\"34.675781\"/>\n",
       "  <use xlink:href=\"#glyph2-3\" x=\"364.021094\" y=\"34.675781\"/>\n",
       "  <use xlink:href=\"#glyph2-4\" x=\"372.029687\" y=\"34.675781\"/>\n",
       "  <use xlink:href=\"#glyph2-4\" x=\"377.633594\" y=\"34.675781\"/>\n",
       "  <use xlink:href=\"#glyph2-12\" x=\"383.2375\" y=\"34.675781\"/>\n",
       "  <use xlink:href=\"#glyph2-4\" x=\"392.033594\" y=\"34.675781\"/>\n",
       "  <use xlink:href=\"#glyph2-8\" x=\"397.6375\" y=\"34.675781\"/>\n",
       "</g>\n",
       "<g style=\"fill:rgb(0%,0%,0%);fill-opacity:1;\">\n",
       "  <use xlink:href=\"#glyph0-5\" x=\"255.058594\" y=\"485.28125\"/>\n",
       "  <use xlink:href=\"#glyph0-6\" x=\"258.392578\" y=\"485.28125\"/>\n",
       "  <use xlink:href=\"#glyph0-7\" x=\"264.392578\" y=\"485.28125\"/>\n",
       "  <use xlink:href=\"#glyph0-8\" x=\"271.066406\" y=\"485.28125\"/>\n",
       "</g>\n",
       "<g style=\"fill:rgb(0%,0%,0%);fill-opacity:1;\">\n",
       "  <use xlink:href=\"#glyph1-5\" x=\"12.960938\" y=\"267.476563\"/>\n",
       "  <use xlink:href=\"#glyph1-6\" x=\"12.960938\" y=\"260.802734\"/>\n",
       "  <use xlink:href=\"#glyph1-7\" x=\"12.960938\" y=\"254.802734\"/>\n",
       "  <use xlink:href=\"#glyph1-8\" x=\"12.960938\" y=\"251.46875\"/>\n",
       "  <use xlink:href=\"#glyph1-9\" x=\"12.960938\" y=\"248.802734\"/>\n",
       "  <use xlink:href=\"#glyph1-10\" x=\"12.960938\" y=\"238.806641\"/>\n",
       "  <use xlink:href=\"#glyph1-7\" x=\"12.960938\" y=\"232.132813\"/>\n",
       "  <use xlink:href=\"#glyph1-5\" x=\"12.960938\" y=\"228.798828\"/>\n",
       "</g>\n",
       "<path style=\"fill:none;stroke-width:0.75;stroke-linecap:round;stroke-linejoin:round;stroke:rgb(0%,0%,0%);stroke-opacity:1;stroke-miterlimit:10;\" d=\"M 59.039063 430.558594 L 473.761719 430.558594 L 473.761719 59.039063 L 59.039063 59.039063 L 59.039063 430.558594 \"/>\n",
       "<g clip-path=\"url(#clip1)\" clip-rule=\"nonzero\">\n",
       "<path style=\"fill:none;stroke-width:0.75;stroke-linecap:round;stroke-linejoin:round;stroke:rgb(0%,0%,0%);stroke-opacity:1;stroke-miterlimit:10;\" d=\"M 115.5 203.109375 C 115.5 206.710938 110.101563 206.710938 110.101563 203.109375 C 110.101563 199.511719 115.5 199.511719 115.5 203.109375 \"/>\n",
       "<path style=\"fill:none;stroke-width:0.75;stroke-linecap:round;stroke-linejoin:round;stroke:rgb(0%,0%,0%);stroke-opacity:1;stroke-miterlimit:10;\" d=\"M 192.300781 273.027344 C 192.300781 276.625 186.898438 276.625 186.898438 273.027344 C 186.898438 269.425781 192.300781 269.425781 192.300781 273.027344 \"/>\n",
       "<path style=\"fill:none;stroke-width:0.75;stroke-linecap:round;stroke-linejoin:round;stroke:rgb(0%,0%,0%);stroke-opacity:1;stroke-miterlimit:10;\" d=\"M 269.101563 291.5625 C 269.101563 295.164063 263.699219 295.164063 263.699219 291.5625 C 263.699219 287.960938 269.101563 287.960938 269.101563 291.5625 \"/>\n",
       "<path style=\"fill:none;stroke-width:0.75;stroke-linecap:round;stroke-linejoin:round;stroke:rgb(0%,0%,0%);stroke-opacity:1;stroke-miterlimit:10;\" d=\"M 345.898438 212.886719 C 345.898438 216.484375 340.5 216.484375 340.5 212.886719 C 340.5 209.285156 345.898438 209.285156 345.898438 212.886719 \"/>\n",
       "<path style=\"fill:none;stroke-width:0.75;stroke-linecap:round;stroke-linejoin:round;stroke:rgb(0%,0%,0%);stroke-opacity:1;stroke-miterlimit:10;\" d=\"M 422.699219 161.214844 C 422.699219 164.816406 417.300781 164.816406 417.300781 161.214844 C 417.300781 157.617188 422.699219 157.617188 422.699219 161.214844 \"/>\n",
       "<path style=\"fill:none;stroke-width:0.75;stroke-linecap:round;stroke-linejoin:round;stroke:rgb(0%,0%,0%);stroke-opacity:1;stroke-miterlimit:10;\" d=\"M 112.800781 254.828125 L 112.800781 151.390625 \"/>\n",
       "<path style=\"fill:none;stroke-width:0.75;stroke-linecap:round;stroke-linejoin:round;stroke:rgb(0%,0%,0%);stroke-opacity:1;stroke-miterlimit:10;\" d=\"M 189.601563 302.03125 L 189.601563 244.019531 \"/>\n",
       "<path style=\"fill:none;stroke-width:0.75;stroke-linecap:round;stroke-linejoin:round;stroke:rgb(0%,0%,0%);stroke-opacity:1;stroke-miterlimit:10;\" d=\"M 266.398438 388.132813 L 266.398438 194.992188 \"/>\n",
       "<path style=\"fill:none;stroke-width:0.75;stroke-linecap:round;stroke-linejoin:round;stroke:rgb(0%,0%,0%);stroke-opacity:1;stroke-miterlimit:10;\" d=\"M 343.199219 296.238281 L 343.199219 129.53125 \"/>\n",
       "<path style=\"fill:none;stroke-width:0.75;stroke-linecap:round;stroke-linejoin:round;stroke:rgb(0%,0%,0%);stroke-opacity:1;stroke-miterlimit:10;\" d=\"M 420 220.964844 L 420 101.464844 \"/>\n",
       "</g>\n",
       "</g>\n",
       "</svg>\n"
      ],
      "text/plain": [
       "Plot with title \"Intervals based on quasi standard errors\""
      ]
     },
     "metadata": {
      "image/svg+xml": {
       "isolated": true
      }
     },
     "output_type": "display_data"
    }
   ],
   "source": [
    "library(MASS)\n",
    "library(qvcalc)\n",
    "data(ships)\n",
    "ships$year <- as.factor(ships$year)\n",
    "ships$period <- as.factor(ships$period)\n",
    "shipmodel <- glm(formula = incidents ~ type + year + period,\n",
    "    family = quasipoisson, \n",
    "    data = ships, subset = (service > 0), offset = log(service))\n",
    "summary(shipmodel)\n",
    "shiptype.qvs <- qvcalc(shipmodel, \"type\")\n",
    "summary(shiptype.qvs, digits = 4)\n",
    "plot(shiptype.qvs)\n",
    "\n"
   ]
  },
  {
   "cell_type": "markdown",
   "metadata": {},
   "source": [
    "These results are identical to the results that are found in \n",
    "Firth, D. and De Menezes, R.X., 2004. Quasi-variances. Biometrika, pp.65-80.\n",
    "\n",
    "![logit_slide](http://www.vernongayle.com/uploads/2/2/3/0/22304498/firth_orig.jpg)\n",
    "\n",
    "Therefore I am confident that the software environment is providing the correct results for quasi-variance estimates."
   ]
  },
  {
   "cell_type": "markdown",
   "metadata": {},
   "source": [
    "------------------------------------------------------------------------------------------------------------------------"
   ]
  },
  {
   "cell_type": "markdown",
   "metadata": {},
   "source": [
    "### The Research Dataset <a class=\"anchor\" id=\"research-data\"></a>"
   ]
  },
  {
   "cell_type": "markdown",
   "metadata": {},
   "source": [
    "#### The Youth Cohort Study of England and Wales (YCS)\n",
    "\n",
    "The Youth Cohort Study of England and Wales (YCS) is a major British longitudinal study that began in the mid-1980s. It is a large-scale nationally representative survey funded by the UK government and is designed to monitor the behaviour of young people as they reach the minimum school leaving age and either remain in education or enter the labour market. \n",
    "\n",
    "There are a number of challenges associated with analysing YCS data, most notably inadequate documentation supporting the data-sets.\n",
    "\n",
    "#### YCS Cohort Nine (1998-2000)  UK Data Archive Study 4009 ####\n",
    "https://discover.ukdataservice.ac.uk/catalogue/?sn=4009 <br>\n",
    "\n",
    "The population studied was male and female school pupils in England and Wales who had reached minimum school leaving age in the 1996/1997 school year. To be eligible for inclusion they had to be aged 16 on August 31st 1997.\n",
    "\n",
    "\n",
    "__Downloaded__: UK Data Service https://www.ukdataservice.ac.uk/ <br>\n",
    "__Date__: 19th June 2017 <br>\n",
    "__Time__: 19:54\n",
    "\n",
    "\n",
    "Finch, S.A., La Valle, I., McAleese, I., Russell, N., Nice, D., Fitzgerald, R., Finch, S.A. (2004). Youth Cohort Study of England and Wales, 1998-2000. [data collection]. 5th Edition. UK Data Service. SN: 4009, http://doi.org/10.5255/UKDA-SN-4009-1"
   ]
  },
  {
   "cell_type": "markdown",
   "metadata": {},
   "source": [
    "------------------------------------------------------------------------------------------------------------------------"
   ]
  },
  {
   "cell_type": "markdown",
   "metadata": {},
   "source": [
    "## Data Enabling (a real attempt with the raw data) "
   ]
  },
  {
   "cell_type": "markdown",
   "metadata": {
    "collapsed": true
   },
   "source": [
    "### Description of the dataset ##\n",
    "<a class=\"anchor\" id=\"description\"></a>\n",
    "\n",
    "The dataset used in this set of analyses is from YCS cohort 9 - sweep 1. \n",
    "\n",
    "The file is called \"ycs9sw1\".\n",
    "\n",
    "The file will be read in Stata format (i.e. \"ycs9sw1.dta\").\n",
    "\n"
   ]
  },
  {
   "cell_type": "markdown",
   "metadata": {},
   "source": [
    "### Data Wrangling (a real attempt with the raw data) <a class=\"anchor\" id=\"wrangling-section\"></a>"
   ]
  },
  {
   "cell_type": "code",
   "execution_count": 6,
   "metadata": {
    "collapsed": false
   },
   "outputs": [
    {
     "name": "stderr",
     "output_type": "stream",
     "text": [
      "Warning message:\n",
      ": package 'weights' was built under R version 3.2.5Loading required package: Hmisc\n",
      "Warning message:\n",
      ": package 'Hmisc' was built under R version 3.2.5Loading required package: ggplot2\n",
      "Warning message:\n",
      ": package 'ggplot2' was built under R version 3.2.5"
     ]
    },
    {
     "ename": "ERROR",
     "evalue": "Error: package 'ggplot2' could not be loaded\n",
     "output_type": "error",
     "traceback": [
      "Error: package 'ggplot2' could not be loaded\n"
     ]
    }
   ],
   "source": [
    "# If you have not run the notebook sequentially... \n",
    "\n",
    "# theses libraries are required\n",
    "\n",
    "library(foreign)\n",
    "library(survey)\n",
    "library(car)\n",
    "library(dplyr)\n",
    "library(weights)\n",
    "library(dummies)"
   ]
  },
  {
   "cell_type": "markdown",
   "metadata": {},
   "source": [
    "Various <font color=red>WARNINGS</font> will appear. Don't panic! <br>\n",
    "\n",
    "There is an explanation of this above."
   ]
  },
  {
   "cell_type": "markdown",
   "metadata": {},
   "source": [
    "___________________________________________________________"
   ]
  },
  {
   "cell_type": "markdown",
   "metadata": {},
   "source": [
    "This file is located on (my) OneDrive.\n",
    "\n",
    "An internet connection is useful but it is not required, as the dataset is stored locally.\n",
    "\n",
    "When reading your version of the data from your specific location.... <br>\n",
    "Remember that C:/data/ is correct in windows but C:/data/ is required here in the Jupyter notebook.\n",
    "\n",
    "Here I change my working drive to<br>\n",
    "_C:/Users/Vernon/OneDrive - University of Edinburgh/Documents/ycs_9_2017/UKDA-4009-stata8/stata8/_ <br>\n",
    "\n",
    "First I associated it with the object \"drive1\" and then _setwd(drive1)_ .\n"
   ]
  },
  {
   "cell_type": "code",
   "execution_count": 3,
   "metadata": {
    "collapsed": false
   },
   "outputs": [
    {
     "data": {
      "text/html": [
       "\"C:/Users/Vernon\""
      ],
      "text/latex": [
       "\"C:/Users/Vernon\""
      ],
      "text/markdown": [
       "\"C:/Users/Vernon\""
      ],
      "text/plain": [
       "[1] \"C:/Users/Vernon\""
      ]
     },
     "execution_count": 3,
     "metadata": {},
     "output_type": "execute_result"
    },
    {
     "data": {
      "text/html": [
       "\"C:/Users/Vernon/OneDrive - University of Edinburgh/Documents/ycs_9_2017/UKDA-4009-stata8/stata8\""
      ],
      "text/latex": [
       "\"C:/Users/Vernon/OneDrive - University of Edinburgh/Documents/ycs_9_2017/UKDA-4009-stata8/stata8\""
      ],
      "text/markdown": [
       "\"C:/Users/Vernon/OneDrive - University of Edinburgh/Documents/ycs_9_2017/UKDA-4009-stata8/stata8\""
      ],
      "text/plain": [
       "[1] \"C:/Users/Vernon/OneDrive - University of Edinburgh/Documents/ycs_9_2017/UKDA-4009-stata8/stata8\""
      ]
     },
     "execution_count": 3,
     "metadata": {},
     "output_type": "execute_result"
    }
   ],
   "source": [
    "getwd() \n",
    "drive1 <- \"C:/Users/Vernon/OneDrive - University of Edinburgh/Documents/ycs_9_2017/UKDA-4009-stata8/stata8/\"\n",
    "setwd(drive1) \n",
    "getwd()"
   ]
  },
  {
   "cell_type": "code",
   "execution_count": 6,
   "metadata": {
    "collapsed": false,
    "scrolled": false
   },
   "outputs": [
    {
     "name": "stderr",
     "output_type": "stream",
     "text": [
      "Warning message:\n",
      "In `levels<-`(`*tmp*`, value = if (nl == nL) as.character(labels) else paste0(labels, : duplicated levels in factors are deprecatedWarning message:\n",
      "In `levels<-`(`*tmp*`, value = if (nl == nL) as.character(labels) else paste0(labels, : duplicated levels in factors are deprecatedWarning message:\n",
      "In `levels<-`(`*tmp*`, value = if (nl == nL) as.character(labels) else paste0(labels, : duplicated levels in factors are deprecatedWarning message:\n",
      "In `levels<-`(`*tmp*`, value = if (nl == nL) as.character(labels) else paste0(labels, : duplicated levels in factors are deprecatedWarning message:\n",
      "In `levels<-`(`*tmp*`, value = if (nl == nL) as.character(labels) else paste0(labels, : duplicated levels in factors are deprecatedWarning message:\n",
      "In `levels<-`(`*tmp*`, value = if (nl == nL) as.character(labels) else paste0(labels, : duplicated levels in factors are deprecatedWarning message:\n",
      "In `levels<-`(`*tmp*`, value = if (nl == nL) as.character(labels) else paste0(labels, : duplicated levels in factors are deprecatedWarning message:\n",
      "In `levels<-`(`*tmp*`, value = if (nl == nL) as.character(labels) else paste0(labels, : duplicated levels in factors are deprecatedWarning message:\n",
      "In `levels<-`(`*tmp*`, value = if (nl == nL) as.character(labels) else paste0(labels, : duplicated levels in factors are deprecatedWarning message:\n",
      "In `levels<-`(`*tmp*`, value = if (nl == nL) as.character(labels) else paste0(labels, : duplicated levels in factors are deprecatedWarning message:\n",
      "In `levels<-`(`*tmp*`, value = if (nl == nL) as.character(labels) else paste0(labels, : duplicated levels in factors are deprecatedWarning message:\n",
      "In `levels<-`(`*tmp*`, value = if (nl == nL) as.character(labels) else paste0(labels, : duplicated levels in factors are deprecatedWarning message:\n",
      "In `levels<-`(`*tmp*`, value = if (nl == nL) as.character(labels) else paste0(labels, : duplicated levels in factors are deprecatedWarning message:\n",
      "In `levels<-`(`*tmp*`, value = if (nl == nL) as.character(labels) else paste0(labels, : duplicated levels in factors are deprecatedWarning message:\n",
      "In `levels<-`(`*tmp*`, value = if (nl == nL) as.character(labels) else paste0(labels, : duplicated levels in factors are deprecatedWarning message:\n",
      "In `levels<-`(`*tmp*`, value = if (nl == nL) as.character(labels) else paste0(labels, : duplicated levels in factors are deprecatedWarning message:\n",
      "In `levels<-`(`*tmp*`, value = if (nl == nL) as.character(labels) else paste0(labels, : duplicated levels in factors are deprecatedWarning message:\n",
      "In `levels<-`(`*tmp*`, value = if (nl == nL) as.character(labels) else paste0(labels, : duplicated levels in factors are deprecatedWarning message:\n",
      "In `levels<-`(`*tmp*`, value = if (nl == nL) as.character(labels) else paste0(labels, : duplicated levels in factors are deprecatedWarning message:\n",
      "In `levels<-`(`*tmp*`, value = if (nl == nL) as.character(labels) else paste0(labels, : duplicated levels in factors are deprecatedWarning message:\n",
      "In `levels<-`(`*tmp*`, value = if (nl == nL) as.character(labels) else paste0(labels, : duplicated levels in factors are deprecatedWarning message:\n",
      "In `levels<-`(`*tmp*`, value = if (nl == nL) as.character(labels) else paste0(labels, : duplicated levels in factors are deprecatedWarning message:\n",
      "In `levels<-`(`*tmp*`, value = if (nl == nL) as.character(labels) else paste0(labels, : duplicated levels in factors are deprecatedWarning message:\n",
      "In `levels<-`(`*tmp*`, value = if (nl == nL) as.character(labels) else paste0(labels, : duplicated levels in factors are deprecatedWarning message:\n",
      "In `levels<-`(`*tmp*`, value = if (nl == nL) as.character(labels) else paste0(labels, : duplicated levels in factors are deprecatedWarning message:\n",
      "In `levels<-`(`*tmp*`, value = if (nl == nL) as.character(labels) else paste0(labels, : duplicated levels in factors are deprecatedWarning message:\n",
      "In `levels<-`(`*tmp*`, value = if (nl == nL) as.character(labels) else paste0(labels, : duplicated levels in factors are deprecatedWarning message:\n",
      "In `levels<-`(`*tmp*`, value = if (nl == nL) as.character(labels) else paste0(labels, : duplicated levels in factors are deprecated"
     ]
    }
   ],
   "source": [
    "# This file is located on (my) OneDrive which is now my working directory.\n",
    "\n",
    "mydata.df <- read.dta(\"ycs9sw1.dta\")\n"
   ]
  },
  {
   "cell_type": "markdown",
   "metadata": {},
   "source": [
    "Various <font color=red>WARNINGS</font> will appear. Don't panic!\n",
    "\n",
    "These error messages occur because _R_ is reading a _Stata_ .dta file.\n",
    "It is a genuine large-scale research dataset and includes a large number of value labels and variable labels.\n"
   ]
  },
  {
   "cell_type": "markdown",
   "metadata": {},
   "source": [
    "___________________________________________________________"
   ]
  },
  {
   "cell_type": "code",
   "execution_count": 5,
   "metadata": {
    "collapsed": false
   },
   "outputs": [
    {
     "name": "stderr",
     "output_type": "stream",
     "text": [
      "Warning message:\n",
      "In `levels<-`(`*tmp*`, value = if (nl == nL) as.character(labels) else paste0(labels, : duplicated levels in factors are deprecatedWarning message:\n",
      "In `levels<-`(`*tmp*`, value = if (nl == nL) as.character(labels) else paste0(labels, : duplicated levels in factors are deprecatedWarning message:\n",
      "In `levels<-`(`*tmp*`, value = if (nl == nL) as.character(labels) else paste0(labels, : duplicated levels in factors are deprecatedWarning message:\n",
      "In `levels<-`(`*tmp*`, value = if (nl == nL) as.character(labels) else paste0(labels, : duplicated levels in factors are deprecatedWarning message:\n",
      "In `levels<-`(`*tmp*`, value = if (nl == nL) as.character(labels) else paste0(labels, : duplicated levels in factors are deprecatedWarning message:\n",
      "In `levels<-`(`*tmp*`, value = if (nl == nL) as.character(labels) else paste0(labels, : duplicated levels in factors are deprecatedWarning message:\n",
      "In `levels<-`(`*tmp*`, value = if (nl == nL) as.character(labels) else paste0(labels, : duplicated levels in factors are deprecatedWarning message:\n",
      "In `levels<-`(`*tmp*`, value = if (nl == nL) as.character(labels) else paste0(labels, : duplicated levels in factors are deprecatedWarning message:\n",
      "In `levels<-`(`*tmp*`, value = if (nl == nL) as.character(labels) else paste0(labels, : duplicated levels in factors are deprecatedWarning message:\n",
      "In `levels<-`(`*tmp*`, value = if (nl == nL) as.character(labels) else paste0(labels, : duplicated levels in factors are deprecatedWarning message:\n",
      "In `levels<-`(`*tmp*`, value = if (nl == nL) as.character(labels) else paste0(labels, : duplicated levels in factors are deprecatedWarning message:\n",
      "In `levels<-`(`*tmp*`, value = if (nl == nL) as.character(labels) else paste0(labels, : duplicated levels in factors are deprecatedWarning message:\n",
      "In `levels<-`(`*tmp*`, value = if (nl == nL) as.character(labels) else paste0(labels, : duplicated levels in factors are deprecatedWarning message:\n",
      "In `levels<-`(`*tmp*`, value = if (nl == nL) as.character(labels) else paste0(labels, : duplicated levels in factors are deprecatedWarning message:\n",
      "In `levels<-`(`*tmp*`, value = if (nl == nL) as.character(labels) else paste0(labels, : duplicated levels in factors are deprecatedWarning message:\n",
      "In `levels<-`(`*tmp*`, value = if (nl == nL) as.character(labels) else paste0(labels, : duplicated levels in factors are deprecatedWarning message:\n",
      "In `levels<-`(`*tmp*`, value = if (nl == nL) as.character(labels) else paste0(labels, : duplicated levels in factors are deprecatedWarning message:\n",
      "In `levels<-`(`*tmp*`, value = if (nl == nL) as.character(labels) else paste0(labels, : duplicated levels in factors are deprecatedWarning message:\n",
      "In `levels<-`(`*tmp*`, value = if (nl == nL) as.character(labels) else paste0(labels, : duplicated levels in factors are deprecatedWarning message:\n",
      "In `levels<-`(`*tmp*`, value = if (nl == nL) as.character(labels) else paste0(labels, : duplicated levels in factors are deprecatedWarning message:\n",
      "In `levels<-`(`*tmp*`, value = if (nl == nL) as.character(labels) else paste0(labels, : duplicated levels in factors are deprecatedWarning message:\n",
      "In `levels<-`(`*tmp*`, value = if (nl == nL) as.character(labels) else paste0(labels, : duplicated levels in factors are deprecatedWarning message:\n",
      "In `levels<-`(`*tmp*`, value = if (nl == nL) as.character(labels) else paste0(labels, : duplicated levels in factors are deprecatedWarning message:\n",
      "In `levels<-`(`*tmp*`, value = if (nl == nL) as.character(labels) else paste0(labels, : duplicated levels in factors are deprecatedWarning message:\n",
      "In `levels<-`(`*tmp*`, value = if (nl == nL) as.character(labels) else paste0(labels, : duplicated levels in factors are deprecatedWarning message:\n",
      "In `levels<-`(`*tmp*`, value = if (nl == nL) as.character(labels) else paste0(labels, : duplicated levels in factors are deprecatedWarning message:\n",
      "In `levels<-`(`*tmp*`, value = if (nl == nL) as.character(labels) else paste0(labels, : duplicated levels in factors are deprecatedWarning message:\n",
      "In `levels<-`(`*tmp*`, value = if (nl == nL) as.character(labels) else paste0(labels, : duplicated levels in factors are deprecated"
     ]
    },
    {
     "data": {
      "text/plain": [
       "     serial           weight              s1estab               s1gor     \n",
       " Min.   :200001   Min.   :0.6025   lea comp 18:6207   south east   :2365  \n",
       " 1st Qu.:206123   1st Qu.:0.7661   lea comp 16:4179   eastern      :1608  \n",
       " Median :211589   Median :0.8779   gm  comp 18:1617   west midlands:1595  \n",
       " Mean   :212056   Mean   :1.0000   independent:1053   london       :1572  \n",
       " 3rd Qu.:217027   3rd Qu.:1.0576   gm  comp 16: 536   north west   :1506  \n",
       " Max.   :231392   Max.   :2.5176   modern     : 454   south west   :1423  \n",
       "                                   (Other)    : 616   (Other)      :4593  \n",
       "                  sex      \n",
       " not answered (9)   :   0  \n",
       " item not applicable:   0  \n",
       " male               :6889  \n",
       " female             :7773  \n",
       "                           \n",
       "                           \n",
       "                           \n",
       "                                                s1resp    \n",
       " not answered (99)                                 :   0  \n",
       " item not applicable                               :   0  \n",
       " postal mailout 1                                  :9311  \n",
       " postal mailout 3                                  :2564  \n",
       " postal mailout 4                                  :1299  \n",
       " questionnaire sent in response to telephone chaser:  34  \n",
       " telephone interview                               :1454  \n",
       "                  a1_a                        a1_b     \n",
       " not answered (9)   :    0   not answered (9)   :   0  \n",
       " item not applicable:    0   item not applicable:   0  \n",
       " agree              :10065   agree              :4787  \n",
       " disagree           : 4166   disagree           :9369  \n",
       " NA's               :  431   NA's               : 506  \n",
       "                                                       \n",
       "                                                       \n",
       "                  a1_c                       a1_d      \n",
       " not answered (9)   :   0   not answered (9)   :    0  \n",
       " item not applicable:   0   item not applicable:    0  \n",
       " agree              :9875   agree              :12124  \n",
       " disagree           :4267   disagree           : 2074  \n",
       " NA's               : 520   NA's               :  464  \n",
       "                                                       \n",
       "                                                       \n",
       "                  a2_1                        a2_2      \n",
       " not answered (9)   :    0   not answered (9)   :    0  \n",
       " item not applicable:    0   item not applicable:    0  \n",
       " yes                :13837   yes                :13393  \n",
       " no                 :  732   no                 :  413  \n",
       " NA's               :   93   NA's               :  856  \n",
       "                                                        \n",
       "                                                        \n",
       "                  a2_3                       a3_1      \n",
       " not answered (9)   :   0   not answered (9)   :    0  \n",
       " item not applicable:   0   item not applicable:    0  \n",
       " a great deal       :2714   yes                :12868  \n",
       " quite a lot        :7236   no                 : 1413  \n",
       " not much           :3018   not sure           :  289  \n",
       " nothing at all     : 405   NA's               :   92  \n",
       " NA's               :1289                              \n",
       "                 a3_1a                      a3_1b     \n",
       " not answered (9)   :   0   not answered (9)   :   0  \n",
       " item not applicable:   0   item not applicable:   0  \n",
       " yes                :9193   yes                :6325  \n",
       " no                 :3623   no                 :6448  \n",
       " NA's               :1846   NA's               :1889  \n",
       "                                                      \n",
       "                                                      \n",
       "                  a4_1                        a4_2      \n",
       " not answered (9)   :    0   not answered (9)   :    0  \n",
       " item not applicable:    0   item not applicable:    0  \n",
       " yes                :13961   yes                :13305  \n",
       " no                 :  623   no                 :  633  \n",
       " NA's               :   78   NA's               :  724  \n",
       "                                                        \n",
       "                                                        \n",
       "                 a4_3a                       a4_3b      \n",
       " not answered (9)   :    0   not answered (9)   :    0  \n",
       " item not applicable:    0   item not applicable:    0  \n",
       " yes                :11147   yes                :11131  \n",
       " no                 : 2059   no                 : 2103  \n",
       " NA's               : 1456   NA's               : 1428  \n",
       "                                                        \n",
       "                                                        \n",
       "                 a4_3c                       a5_1     \n",
       " not answered (9)   :   0   not answered (9)   :   0  \n",
       " item not applicable:   0   item not applicable:   0  \n",
       " yes                :6281   yes                :8829  \n",
       " no                 :6892   no                 :5036  \n",
       " NA's               :1489   NA's               : 797  \n",
       "                                                      \n",
       "                                                      \n",
       "                 a5_2a                      a5_2b     \n",
       " not answered (9)   :   0   not answered (9)   :   0  \n",
       " item not applicable:   0   item not applicable:   0  \n",
       " yes                :7244   yes                :7152  \n",
       " no                 :1531   no                 :1611  \n",
       " NA's               :5887   NA's               :5899  \n",
       "                                                      \n",
       "                                                      \n",
       "                 a5_2c                      a6_1a      \n",
       " not answered (9)   :   0   not answered (9)   :    0  \n",
       " item not applicable:   0   item not applicable:    0  \n",
       " yes                :3606   yes                :12548  \n",
       " no                 :5117   no                 : 1969  \n",
       " NA's               :5939   NA's               :  145  \n",
       "                                                       \n",
       "                                                       \n",
       "                 a6_1b                        a7      \n",
       " not answered (9)   :   0   not answered (9)   :   0  \n",
       " item not applicable:   0   item not applicable:   0  \n",
       " very               : 888   yes                :9318  \n",
       " fairly             :6904   to some extent     :3975  \n",
       " not very           :3856   no                 :1257  \n",
       " not all            : 879   NA's               : 112  \n",
       " NA's               :2135                             \n",
       "                   a8      \n",
       " not answered (9)   :   0  \n",
       " item not applicable:   0  \n",
       " very easy          :2684  \n",
       " fairly easy        :7730  \n",
       " fairly difficult   :3380  \n",
       " very difficult     : 698  \n",
       " NA's               : 170  \n",
       "                                                           a9_1      \n",
       " full-time education at school or a college of further educat:10901  \n",
       " modern apprenticeship, national traineeship or other governm: 1320  \n",
       " full-time job (over 30 hours a week)                        : 1253  \n",
       " out of work, unemployed                                     :  617  \n",
       " part-time job (if this is your main activity)               :  339  \n",
       " (Other)                                                     :  183  \n",
       " NA's                                                        :   49  \n",
       "                                                          a9_21      \n",
       " pregnancy/looking after children/family                     :   56  \n",
       " waiting to start a new job/government supported training/tra:   40  \n",
       " part-time education                                         :   32  \n",
       " other                                                       :   20  \n",
       " illness/accident                                            :   11  \n",
       " (Other)                                                     :   17  \n",
       " NA's                                                        :14486  \n",
       "                                                          a9_22      \n",
       " temporary/casual work                                       :    2  \n",
       " waiting to start a new job/government supported training/tra:    2  \n",
       " pregnancy/looking after children/family                     :    1  \n",
       " holiday (school, college, university)                       :    1  \n",
       " not answered (99)                                           :    0  \n",
       " (Other)                                                     :    0  \n",
       " NA's                                                        :14656  \n",
       "                                     a9_23          a11_1a         \n",
       " not answered (99)                      :    0   Length:14662      \n",
       " item not applicable                    :    0   Class :character  \n",
       " part-time education                    :    0   Mode  :character  \n",
       " pregnancy/looking after children/family:    0                     \n",
       " temporary/casual work                  :    0                     \n",
       " (Other)                                :    0                     \n",
       " NA's                                   :14662                     \n",
       "    a11_1b             a11_1c             a11_2a             a11_2b         \n",
       " Length:14662       Length:14662       Length:14662       Length:14662      \n",
       " Class :character   Class :character   Class :character   Class :character  \n",
       " Mode  :character   Mode  :character   Mode  :character   Mode  :character  \n",
       "                                                                            \n",
       "                                                                            \n",
       "                                                                            \n",
       "                                                                            \n",
       "    a11_2c             a11_3a             a11_3b             a11_3c         \n",
       " Length:14662       Length:14662       Length:14662       Length:14662      \n",
       " Class :character   Class :character   Class :character   Class :character  \n",
       " Mode  :character   Mode  :character   Mode  :character   Mode  :character  \n",
       "                                                                            \n",
       "                                                                            \n",
       "                                                                            \n",
       "                                                                            \n",
       "    a11_4a             a11_4b             a11_4c             a11_5a         \n",
       " Length:14662       Length:14662       Length:14662       Length:14662      \n",
       " Class :character   Class :character   Class :character   Class :character  \n",
       " Mode  :character   Mode  :character   Mode  :character   Mode  :character  \n",
       "                                                                            \n",
       "                                                                            \n",
       "                                                                            \n",
       "                                                                            \n",
       "    a11_5b             a11_5c             a11_6a             a11_6b         \n",
       " Length:14662       Length:14662       Length:14662       Length:14662      \n",
       " Class :character   Class :character   Class :character   Class :character  \n",
       " Mode  :character   Mode  :character   Mode  :character   Mode  :character  \n",
       "                                                                            \n",
       "                                                                            \n",
       "                                                                            \n",
       "                                                                            \n",
       "    a11_6c             a11_7a             a11_7b             a11_7c         \n",
       " Length:14662       Length:14662       Length:14662       Length:14662      \n",
       " Class :character   Class :character   Class :character   Class :character  \n",
       " Mode  :character   Mode  :character   Mode  :character   Mode  :character  \n",
       "                                                                            \n",
       "                                                                            \n",
       "                                                                            \n",
       "                                                                            \n",
       "    a11_8a             a11_8b             a11_8c             a11_9a         \n",
       " Length:14662       Length:14662       Length:14662       Length:14662      \n",
       " Class :character   Class :character   Class :character   Class :character  \n",
       " Mode  :character   Mode  :character   Mode  :character   Mode  :character  \n",
       "                                                                            \n",
       "                                                                            \n",
       "                                                                            \n",
       "                                                                            \n",
       "    a11_9b             a11_9c            a11_10a            a11_10b         \n",
       " Length:14662       Length:14662       Length:14662       Length:14662      \n",
       " Class :character   Class :character   Class :character   Class :character  \n",
       " Mode  :character   Mode  :character   Mode  :character   Mode  :character  \n",
       "                                                                            \n",
       "                                                                            \n",
       "                                                                            \n",
       "                                                                            \n",
       "   a11_10c            a11_11a            a11_11b            a11_11c         \n",
       " Length:14662       Length:14662       Length:14662       Length:14662      \n",
       " Class :character   Class :character   Class :character   Class :character  \n",
       " Mode  :character   Mode  :character   Mode  :character   Mode  :character  \n",
       "                                                                            \n",
       "                                                                            \n",
       "                                                                            \n",
       "                                                                            \n",
       "   a11_11d                                            a11oga1    \n",
       " Length:14662       sport/physical education studies      :1252  \n",
       " Class :character   drama                                 :1141  \n",
       " Mode  :character   religious studies  (includes theology):1057  \n",
       "                    music                                 : 693  \n",
       "                    information technology/info systems   : 671  \n",
       "                    (Other)                               :6138  \n",
       "                    NA's                                  :3710  \n",
       "                                   a11oga2    \n",
       " religious studies  (includes theology): 750  \n",
       " chemistry                             : 471  \n",
       " sport/physical education studies      : 446  \n",
       " drama                                 : 442  \n",
       " information technology/info systems   : 373  \n",
       " (Other)                               :3792  \n",
       " NA's                                  :8388  \n",
       "                                   a11oga3     \n",
       " physics                               :  435  \n",
       " biology                               :  314  \n",
       " religious studies  (includes theology):  297  \n",
       " chemistry                             :  259  \n",
       " science/single award                  :  200  \n",
       " (Other)                               : 1438  \n",
       " NA's                                  :11719  \n",
       "                                   a11oga4     \n",
       " religious studies  (includes theology):  174  \n",
       " physics                               :  113  \n",
       " chemistry                             :   89  \n",
       " biology                               :   88  \n",
       " science/single award                  :   75  \n",
       " (Other)                               :  662  \n",
       " NA's                                  :13461  \n",
       "                                   a11oga5     \n",
       " religious studies  (includes theology):   80  \n",
       " physics                               :   35  \n",
       " information technology/info systems   :   34  \n",
       " chemistry                             :   30  \n",
       " biology                               :   25  \n",
       " (Other)                               :  233  \n",
       " NA's                                  :14225  \n",
       "                                   a11oga6     \n",
       " physics                               :    6  \n",
       " religious studies  (includes theology):    6  \n",
       " chemistry                             :    5  \n",
       " science/single award                  :    3  \n",
       " statistics                            :    3  \n",
       " (Other)                               :   17  \n",
       " NA's                                  :14622  \n",
       "                                   a11oga7     \n",
       " science in society                    :    2  \n",
       " biology                               :    1  \n",
       " mathematics (further)                 :    1  \n",
       " religious studies  (includes theology):    1  \n",
       " welsh literature                      :    1  \n",
       " (Other)                               :    0  \n",
       " NA's                                  :14656  \n",
       "                                             a11oga8     \n",
       " stage and performing arts dual award (1st grade):    2  \n",
       " item not applicable                             :    0  \n",
       " biology                                         :    0  \n",
       " biology/human                                   :    0  \n",
       " biology/ social                                 :    0  \n",
       " (Other)                                         :    0  \n",
       " NA's                                            :14660  \n",
       "                     a11oga9                                        a11ogb1    \n",
       " item not applicable     :    0   sport/physical education studies      :1252  \n",
       " biology                 :    0   drama                                 :1141  \n",
       " biology/human           :    0   religious studies  (includes theology):1057  \n",
       " biology/ social         :    0   music                                 : 693  \n",
       " biology/human and social:    0   information technology/info systems   : 671  \n",
       " (Other)                 :    0   (Other)                               :6138  \n",
       " NA's                    :14662   NA's                                  :3710  \n",
       "                                   a11ogb2    \n",
       " religious studies  (includes theology): 750  \n",
       " chemistry                             : 471  \n",
       " sport/physical education studies      : 446  \n",
       " drama                                 : 442  \n",
       " information technology/info systems   : 373  \n",
       " (Other)                               :3792  \n",
       " NA's                                  :8388  \n",
       "                                   a11ogb3     \n",
       " physics                               :  435  \n",
       " biology                               :  314  \n",
       " religious studies  (includes theology):  297  \n",
       " chemistry                             :  259  \n",
       " science/single award                  :  200  \n",
       " (Other)                               : 1438  \n",
       " NA's                                  :11719  \n",
       "                                   a11ogb4     \n",
       " religious studies  (includes theology):  174  \n",
       " physics                               :  113  \n",
       " chemistry                             :   89  \n",
       " biology                               :   88  \n",
       " science/single award                  :   75  \n",
       " (Other)                               :  662  \n",
       " NA's                                  :13461  \n",
       "                                   a11ogb5     \n",
       " religious studies  (includes theology):   80  \n",
       " physics                               :   35  \n",
       " information technology/info systems   :   34  \n",
       " chemistry                             :   30  \n",
       " biology                               :   25  \n",
       " (Other)                               :  233  \n",
       " NA's                                  :14225  \n",
       "                                   a11ogb6     \n",
       " physics                               :    6  \n",
       " religious studies  (includes theology):    6  \n",
       " chemistry                             :    5  \n",
       " science/single award                  :    3  \n",
       " statistics                            :    3  \n",
       " (Other)                               :   17  \n",
       " NA's                                  :14622  \n",
       "                                   a11ogb7     \n",
       " science in society                    :    2  \n",
       " biology                               :    1  \n",
       " mathematics (further)                 :    1  \n",
       " religious studies  (includes theology):    1  \n",
       " welsh literature                      :    1  \n",
       " (Other)                               :    0  \n",
       " NA's                                  :14656  \n",
       "                                             a11ogb8     \n",
       " stage and performing arts dual award (1st grade):    2  \n",
       " item not applicable                             :    0  \n",
       " biology                                         :    0  \n",
       " biology/human                                   :    0  \n",
       " biology/ social                                 :    0  \n",
       " (Other)                                         :    0  \n",
       " NA's                                            :14660  \n",
       "                     a11ogb9        a11ogc1            a11ogc2         \n",
       " item not applicable     :    0   Length:14662       Length:14662      \n",
       " biology                 :    0   Class :character   Class :character  \n",
       " biology/human           :    0   Mode  :character   Mode  :character  \n",
       " biology/ social         :    0                                        \n",
       " biology/human and social:    0                                        \n",
       " (Other)                 :    0                                        \n",
       " NA's                    :14662                                        \n",
       "   a11ogc3            a11ogc4            a11ogc5            a11ogc6         \n",
       " Length:14662       Length:14662       Length:14662       Length:14662      \n",
       " Class :character   Class :character   Class :character   Class :character  \n",
       " Mode  :character   Mode  :character   Mode  :character   Mode  :character  \n",
       "                                                                            \n",
       "                                                                            \n",
       "                                                                            \n",
       "                                                                            \n",
       "   a11ogc7            a11ogc8            a11ogc9         \n",
       " Length:14662       Length:14662       Length:14662      \n",
       " Class :character   Class :character   Class :character  \n",
       " Mode  :character   Mode  :character   Mode  :character  \n",
       "                                                         \n",
       "                                                         \n",
       "                                                         \n",
       "                                                         \n",
       "                                a11oq1     \n",
       " rsa nvq level 1/certificate       :  214  \n",
       " rsa don't know nvq level/other rsa:  126  \n",
       " gnvq foundation                   :  116  \n",
       " gnvq intermediate                 :  104  \n",
       " other qual, bands unclear         :   77  \n",
       " (Other)                           :  764  \n",
       " NA's                              :13261  \n",
       "                                         a11oq2     \n",
       " rsa nvq level 1/certificate                :   37  \n",
       " rsa nvq level 2/diploma                    :   37  \n",
       " rsa don't know nvq level/other rsa         :   34  \n",
       " other qual, bands unclear                  :   18  \n",
       " other band c n.e.c. at nvq level not stated:   13  \n",
       " (Other)                                    :  118  \n",
       " NA's                                       :14405  \n",
       "                                         a11oq3     \n",
       " rsa don't know nvq level/other rsa         :   13  \n",
       " rsa nvq level 1/certificate                :   10  \n",
       " other band c n.e.c. at nvq level not stated:    7  \n",
       " rsa nvq level 2/diploma                    :    6  \n",
       " other qual, bands unclear                  :    6  \n",
       " (Other)                                    :   27  \n",
       " NA's                                       :14593  \n",
       "                                         a11oq4     \n",
       " other band c n.e.c. at nvq level not stated:    2  \n",
       " rsa nvq level 2/diploma                    :    1  \n",
       " rsa don't know nvq level/other rsa         :    1  \n",
       " city & guilds nvq level 1/part 1           :    1  \n",
       " item not applicable                        :    0  \n",
       " (Other)                                    :    0  \n",
       " NA's                                       :14657  \n",
       "                                a11oq5                      a11oq6     \n",
       " rsa don't know nvq level/other rsa:    1   item not applicable:    0  \n",
       " item not applicable               :    0   gcse               :    0  \n",
       " gcse                              :    0   gcse (short course):    0  \n",
       " gcse (short course)               :    0   ncc                :    0  \n",
       " ncc                               :    0   a-level            :    0  \n",
       " (Other)                           :    0   (Other)            :    0  \n",
       " NA's                              :14661   NA's               :14662  \n",
       "                 a11oq7                      a11oq8     \n",
       " item not applicable:    0   item not applicable:    0  \n",
       " gcse               :    0   gcse               :    0  \n",
       " gcse (short course):    0   gcse (short course):    0  \n",
       " ncc                :    0   ncc                :    0  \n",
       " a-level            :    0   a-level            :    0  \n",
       " (Other)            :    0   (Other)            :    0  \n",
       " NA's               :14662   NA's               :14662  \n",
       "                 a11oq9     \n",
       " item not applicable:    0  \n",
       " gcse               :    0  \n",
       " gcse (short course):    0  \n",
       " ncc                :    0  \n",
       " a-level            :    0  \n",
       " (Other)            :    0  \n",
       " NA's               :14662  \n",
       "                                            a11os1     \n",
       " information technology & computer applications:  241  \n",
       " office and secretarial skills                 :  155  \n",
       " business                                      :  103  \n",
       " health & social care                          :  102  \n",
       " other combined or general courses             :   74  \n",
       " (Other)                                       :  726  \n",
       " NA's                                          :13261  \n",
       "                                            a11os2     \n",
       " office and secretarial skills                 :   56  \n",
       " information technology & computer applications:   42  \n",
       " mathematics                                   :   13  \n",
       " languages & language studies                  :   12  \n",
       " business & management (general)               :    8  \n",
       " (Other)                                       :  126  \n",
       " NA's                                          :14405  \n",
       "                                            a11os3     \n",
       " information technology & computer applications:   13  \n",
       " office and secretarial skills                 :   11  \n",
       " languages & language studies                  :    6  \n",
       " religious studies                             :    3  \n",
       " travel & tourism                              :    3  \n",
       " (Other)                                       :   33  \n",
       " NA's                                          :14593  \n",
       "                                                          a11os4     \n",
       " communication & mass media                                  :    1  \n",
       " science & technology (general)                              :    1  \n",
       " information technology & computer applications              :    1  \n",
       " not stated                                                  :    1  \n",
       " other - includes child development, hairdressing and beauty :    1  \n",
       " (Other)                                                     :    0  \n",
       " NA's                                                        :14657  \n",
       "                 a11os5                           a11os6     \n",
       " not stated         :    1   item not applicable     :    0  \n",
       " item not applicable:    0   biology                 :    0  \n",
       " biology            :    0   biology/human           :    0  \n",
       " biology/human      :    0   biology/social          :    0  \n",
       " biology/social     :    0   biology/human and social:    0  \n",
       " (Other)            :    0   (Other)                 :    0  \n",
       " NA's               :14661   NA's                    :14662  \n",
       "                      a11os7                           a11os8     \n",
       " item not applicable     :    0   item not applicable     :    0  \n",
       " biology                 :    0   biology                 :    0  \n",
       " biology/human           :    0   biology/human           :    0  \n",
       " biology/social          :    0   biology/social          :    0  \n",
       " biology/human and social:    0   biology/human and social:    0  \n",
       " (Other)                 :    0   (Other)                 :    0  \n",
       " NA's                    :14662   NA's                    :14662  \n",
       "                      a11os9         a11or1             a11or2         \n",
       " item not applicable     :    0   Length:14662       Length:14662      \n",
       " biology                 :    0   Class :character   Class :character  \n",
       " biology/human           :    0   Mode  :character   Mode  :character  \n",
       " biology/social          :    0                                        \n",
       " biology/human and social:    0                                        \n",
       " (Other)                 :    0                                        \n",
       " NA's                    :14662                                        \n",
       "    a11or3             a11or4             a11or5             a11or6         \n",
       " Length:14662       Length:14662       Length:14662       Length:14662      \n",
       " Class :character   Class :character   Class :character   Class :character  \n",
       " Mode  :character   Mode  :character   Mode  :character   Mode  :character  \n",
       "                                                                            \n",
       "                                                                            \n",
       "                                                                            \n",
       "                                                                            \n",
       "    a11or7             a11or8             a11or9         \n",
       " Length:14662       Length:14662       Length:14662      \n",
       " Class :character   Class :character   Class :character  \n",
       " Mode  :character   Mode  :character   Mode  :character  \n",
       "                                                         \n",
       "                                                         \n",
       "                                                         \n",
       "                                                         \n",
       "                  a12a                                    a12bs1     \n",
       " not answered (9)   :    0   mathematics                     :  279  \n",
       " item not applicable:    0   english                         :  211  \n",
       " yes                : 1109   english literature              :   12  \n",
       " no                 :11861   science/double award (1st grade):   10  \n",
       " NA's               : 1692   science/single award            :    5  \n",
       "                             (Other)                         :   66  \n",
       "                             NA's                            :14079  \n",
       "                              a12bs2                       a12bs3     \n",
       " mathematics                     :   27   science/single award:    9  \n",
       " english                         :   21   mathematics         :    9  \n",
       " english literature              :   10   english literature  :    7  \n",
       " science/single award            :    6   english             :    5  \n",
       " science/double award (1st grade):    6   geography           :    4  \n",
       " (Other)                         :   27   (Other)             :   24  \n",
       " NA's                            :14565   NA's                :14604  \n",
       "                                  a12bs4     \n",
       " english                             :    6  \n",
       " art and design                      :    4  \n",
       " science/single award                :    2  \n",
       " home economics/food  food technology:    2  \n",
       " art (without 'design' element)      :    2  \n",
       " (Other)                             :   20  \n",
       " NA's                                :14626  \n",
       "                                    a12bs5                       a12bs6     \n",
       " mathematics                           :    2   science/single award:    1  \n",
       " business studies                      :    1   mathematics         :    1  \n",
       " history                               :    1   geography           :    1  \n",
       " religious studies  (includes theology):    1   other languages     :    1  \n",
       " english                               :    1   item not applicable :    0  \n",
       " (Other)                               :    0   (Other)             :    0  \n",
       " NA's                                  :14656   NA's                :14658  \n",
       "                             a12bs7         a12br1             a12br2         \n",
       " science/single award           :    1   Length:14662       Length:14662      \n",
       " cdt/textiles (include textiles):    1   Class :character   Class :character  \n",
       " item not applicable            :    0   Mode  :character   Mode  :character  \n",
       " biology                        :    0                                        \n",
       " biology/human                  :    0                                        \n",
       " (Other)                        :    0                                        \n",
       " NA's                           :14660                                        \n",
       "    a12br3             a12br4             a12br5             a12br6         \n",
       " Length:14662       Length:14662       Length:14662       Length:14662      \n",
       " Class :character   Class :character   Class :character   Class :character  \n",
       " Mode  :character   Mode  :character   Mode  :character   Mode  :character  \n",
       "                                                                            \n",
       "                                                                            \n",
       "                                                                            \n",
       "                                                                            \n",
       "    a12br7                          a12bx      \n",
       " Length:14662       not answered (9)   :    0  \n",
       " Class :character   item not applicable:    0  \n",
       " Mode  :character   NA's               :14662  \n",
       "                                               \n",
       "                                               \n",
       "                                               \n",
       "                                               \n",
       "                                                          a12oq1     \n",
       " nvq (not rsa, btec or c & g) level 2                        :  111  \n",
       " nvq (not rsa, btec or c & g) level 1                        :   52  \n",
       " gnvq intermediate                                           :   46  \n",
       " other qualification: band not known, i.e. all other courses :   32  \n",
       " gce a-level                                                 :   29  \n",
       " (Other)                                                     :  274  \n",
       " NA's                                                        :14118  \n",
       "                                                          a12oq2     \n",
       " nvq (not rsa, btec or c & g) level 2                        :   21  \n",
       " rsa nvq level 1/certificate                                 :   10  \n",
       " other qualification: band not known, i.e. all other courses :   10  \n",
       " gce a-level                                                 :    9  \n",
       " nvq (not rsa, btec or c & g) level 3                        :    9  \n",
       " (Other)                                                     :   52  \n",
       " NA's                                                        :14551  \n",
       "                                  a12oq3     \n",
       " nvq (not rsa, btec or c & g) level 1:    5  \n",
       " rsa nvq level 1/certificate         :    4  \n",
       " gce a-level                         :    2  \n",
       " nvq (not rsa, btec or c & g) level 3:    2  \n",
       " gnvq intermediate                   :    1  \n",
       " (Other)                             :    7  \n",
       " NA's                                :14641  \n",
       "                                  a12oq4     \n",
       " gce a-level                         :    1  \n",
       " nvq (not rsa, btec or c & g) level 2:    1  \n",
       " other band c n.e.c. at nvq level 3  :    1  \n",
       " item not applicable                 :    0  \n",
       " gcse                                :    0  \n",
       " (Other)                             :    0  \n",
       " NA's                                :14659  \n",
       "                                   a12oq5     \n",
       " other band c n.e.c. at nvq level 3   :    1  \n",
       " item not applicable                  :    0  \n",
       " gcse                                 :    0  \n",
       " gcse short course (specific mentions):    0  \n",
       " ncc (national curriculum certificate):    0  \n",
       " (Other)                              :    0  \n",
       " NA's                                 :14661  \n",
       "                                   a12oq6     \n",
       " other band c n.e.c. at nvq level 3   :    1  \n",
       " item not applicable                  :    0  \n",
       " gcse                                 :    0  \n",
       " gcse short course (specific mentions):    0  \n",
       " ncc (national curriculum certificate):    0  \n",
       " (Other)                              :    0  \n",
       " NA's                                 :14661  \n",
       "                                            a12os1     \n",
       " information technology & computer applications:  108  \n",
       " business & management (general)               :   45  \n",
       " business                                      :   33  \n",
       " office and secretarial skills                 :   31  \n",
       " health & social care                          :   22  \n",
       " (Other)                                       :  330  \n",
       " NA's                                          :14093  \n",
       "                                            a12os2     \n",
       " information technology & computer applications:   27  \n",
       " office and secretarial skills                 :   13  \n",
       " business & management (general)               :    9  \n",
       " hotel & commercial catering                   :    4  \n",
       " mathematics                                   :    3  \n",
       " (Other)                                       :   56  \n",
       " NA's                                          :14550  \n",
       "                                            a12os3     \n",
       " information technology & computer applications:    3  \n",
       " office and secretarial skills                 :    2  \n",
       " hotel & commercial catering                   :    2  \n",
       " biology/human                                 :    1  \n",
       " chemistry                                     :    1  \n",
       " (Other)                                       :   12  \n",
       " NA's                                          :14641  \n",
       "                                      a12os4                      a12os5     \n",
       " religious studies (includes theology)   :    1   not stated         :    1  \n",
       " health (general) & health administration:    1   not answered (999) :    0  \n",
       " not stated                              :    1   item not applicable:    0  \n",
       " not answered (999)                      :    0   biology            :    0  \n",
       " item not applicable                     :    0   biology/human      :    0  \n",
       " (Other)                                 :    0   (Other)            :    0  \n",
       " NA's                                    :14659   NA's               :14661  \n",
       "                 a12os6         a12or1             a12or2         \n",
       " not stated         :    1   Length:14662       Length:14662      \n",
       " not answered (999) :    0   Class :character   Class :character  \n",
       " item not applicable:    0   Mode  :character   Mode  :character  \n",
       " biology            :    0                                        \n",
       " biology/human      :    0                                        \n",
       " (Other)            :    0                                        \n",
       " NA's               :14661                                        \n",
       "    a12or3             a12or4             a12or5             a12or6         \n",
       " Length:14662       Length:14662       Length:14662       Length:14662      \n",
       " Class :character   Class :character   Class :character   Class :character  \n",
       " Mode  :character   Mode  :character   Mode  :character   Mode  :character  \n",
       "                                                                            \n",
       "                                                                            \n",
       "                                                                            \n",
       "                                                                            \n",
       "                 a12ox                        a13a      \n",
       " not answered (9)   :    0   not answered (9)   :    0  \n",
       " item not applicable:    0   item not applicable:    0  \n",
       " NA's               :14662   yes                : 1911  \n",
       "                             no                 :11210  \n",
       "                             NA's               : 1541  \n",
       "                                                        \n",
       "                                                        \n",
       "                                  a13bq1     \n",
       " gce a-level                         :  819  \n",
       " gcse                                :  280  \n",
       " nvq (not rsa, btec or c & g) level 2:  101  \n",
       " gnvq intermediate                   :   97  \n",
       " other gnvq (not codes 08-12)        :   87  \n",
       " (Other)                             :  480  \n",
       " NA's                                :12798  \n",
       "                                  a13bq2     \n",
       " gce a-level                         :  304  \n",
       " gcse                                :   66  \n",
       " nvq (not rsa, btec or c & g) level 2:   15  \n",
       " nvq (not rsa, btec or c & g) level 3:    8  \n",
       " gce a/s exam                        :    7  \n",
       " (Other)                             :   41  \n",
       " NA's                                :14221  \n",
       "                          a13bq3     \n",
       " gce a-level                 :  195  \n",
       " gcse                        :   40  \n",
       " other gnvq (not codes 08-12):    3  \n",
       " gce a/s exam                :    2  \n",
       " gnvq advanced               :    2  \n",
       " (Other)                     :   13  \n",
       " NA's                        :14407  \n",
       "                                            a13bq4     \n",
       " gcse                                          :   17  \n",
       " gce a-level                                   :   14  \n",
       " gce a/s exam                                  :    2  \n",
       " rsa nvq level 1/certificate                   :    1  \n",
       " city & guilds don't know nvq level/other c & g:    1  \n",
       " (Other)                                       :    1  \n",
       " NA's                                          :14626  \n",
       "                                   a13bq5     \n",
       " schedule not obtained                :    0  \n",
       " schedule not applicable              :    0  \n",
       " item not applicable                  :    0  \n",
       " gcse                                 :    0  \n",
       " gcse short course (specific mentions):    0  \n",
       " (Other)                              :    0  \n",
       " NA's                                 :14662  \n",
       "                                   a13bq6     \n",
       " gcse                                 :    1  \n",
       " item not applicable                  :    0  \n",
       " gcse short course (specific mentions):    0  \n",
       " ncc (national curriculum certificate):    0  \n",
       " gce a-level                          :    0  \n",
       " (Other)                              :    0  \n",
       " NA's                                 :14661  \n",
       "                                                          a13bs1     \n",
       " mathematics                                                 :  171  \n",
       " business                                                    :   81  \n",
       " english                                                     :   77  \n",
       " biology                                                     :   68  \n",
       " other includes child development, hairdressing and beauty ca:   67  \n",
       " (Other)                                                     : 1447  \n",
       " NA's                                                        :12751  \n",
       "                a13bs2                   a13bs3                  a13bs4     \n",
       " mathematics       :   33   mathematics     :   22   mathematics    :    4  \n",
       " english           :   29   sociology       :   20   general studies:    4  \n",
       " biology           :   22   business studies:   13   history        :    3  \n",
       " geography         :   22   geography       :   13   law            :    2  \n",
       " english literature:   22   english         :   13   psychology     :    2  \n",
       " (Other)           :  324   (Other)         :  176   (Other)        :   22  \n",
       " NA's              :14210   NA's            :14405   NA's           :14625  \n",
       "                a13bs5                                    a13bs6     \n",
       " physics           :    1   science: double award (1st grade):    1  \n",
       " business studies  :    1   item not applicable              :    0  \n",
       " art and design    :    1   biology                          :    0  \n",
       " sociology         :    1   biology: human                   :    0  \n",
       " english literature:    1   biology: social                  :    0  \n",
       " (Other)           :    4   (Other)                          :    0  \n",
       " NA's              :14653   NA's                             :14661  \n",
       "                  a13c      \n",
       " not answered (9)   :    0  \n",
       " item not applicable:    0  \n",
       " yes                :  944  \n",
       " no                 :  945  \n",
       " NA's               :12773  \n",
       "                            \n",
       "                            \n",
       "                                          a13d      \n",
       " college of further education (state system):  390  \n",
       " sixth form college (state system)          :  219  \n",
       " state school (including grant maintained)  :  141  \n",
       " training centre                            :  102  \n",
       " independent/other college                  :   49  \n",
       " (Other)                                    :   13  \n",
       " NA's                                       :13748  \n",
       "                 a14_1                       a14_2      \n",
       " not answered (9)   :    0   not answered (9)   :    0  \n",
       " item not applicable:    0   item not applicable:    0  \n",
       " yes                :11053   yes                :10773  \n",
       " no                 : 3465   no                 :  205  \n",
       " NA's               :  144   NA's               : 3684  \n",
       "                                                        \n",
       "                                                        \n",
       "                 a15_1          a15_2          a15_21          a15_22     \n",
       " not answered (9)   :   0   Min.   :1      Min.   :0.000   Min.   :0.000  \n",
       " item not applicable:   0   1st Qu.:1      1st Qu.:0.000   1st Qu.:0.000  \n",
       " yes                :5388   Median :1      Median :0.000   Median :0.000  \n",
       " no                 :5618   Mean   :1      Mean   :0.045   Mean   :0.021  \n",
       " NA's               :3656   3rd Qu.:1      3rd Qu.:0.000   3rd Qu.:0.000  \n",
       "                            Max.   :1      Max.   :1.000   Max.   :1.000  \n",
       "                            NA's   :9289   NA's   :9289    NA's   :9289   \n",
       "     a15_23          a15_24          a15_25         a15_26           a16       \n",
       " Min.   :0.000   Min.   :0.000   Min.   :0.00   Min.   :0.000   Min.   : 1.00  \n",
       " 1st Qu.:0.000   1st Qu.:0.000   1st Qu.:0.00   1st Qu.:0.000   1st Qu.:16.00  \n",
       " Median :0.000   Median :1.000   Median :0.00   Median :0.000   Median :20.00  \n",
       " Mean   :0.301   Mean   :0.595   Mean   :0.02   Mean   :0.018   Mean   :21.09  \n",
       " 3rd Qu.:1.000   3rd Qu.:1.000   3rd Qu.:0.00   3rd Qu.:0.000   3rd Qu.:25.00  \n",
       " Max.   :1.000   Max.   :1.000   Max.   :1.00   Max.   :1.000   Max.   :50.00  \n",
       " NA's   :9289    NA's   :9289    NA's   :9289   NA's   :9289    NA's   :4162   \n",
       "                  a17                       a18_1          a18_2a      \n",
       " not answered (9)   :   0   not answered (9)   :   0   Min.   :   5.0  \n",
       " item not applicable:   0   item not applicable:   0   1st Qu.: 130.0  \n",
       " yes                :4848   yes                : 803   Median : 180.0  \n",
       " no                 :4137   no                 :9999   Mean   : 286.5  \n",
       " not sure           :1976   NA's               :3860   3rd Qu.: 400.0  \n",
       " NA's               :3701                              Max.   :3000.0  \n",
       "                                                       NA's   :13939   \n",
       "                 a18_2b             a19_1             a20_1     \n",
       " not answered (9)   :    0   sep       :9948   jun       :5042  \n",
       " item not applicable:    0   aug       : 363   jul       :3189  \n",
       " term               :  435   dk/na date: 267   may       :1029  \n",
       " year               :  298   oct       : 147   don't know: 577  \n",
       " other period       :   11   jul       :  73   2000      : 282  \n",
       " NA's               :13918   (Other)   : 255   (Other)   : 934  \n",
       "                             NA's      :3609   NA's      :3609  \n",
       "                 a21_1      \n",
       " not answered (9)   :    0  \n",
       " item not applicable:    0  \n",
       " yes                :  868  \n",
       " no                 :12737  \n",
       " NA's               : 1057  \n",
       "                            \n",
       "                            \n",
       "                                         a21_2a     \n",
       " college of further education (state system):  576  \n",
       " somewhere else                             :   86  \n",
       " work                                       :   52  \n",
       " training centre run by your employer       :   48  \n",
       " private training centre                    :   41  \n",
       " (Other)                                    :   56  \n",
       " NA's                                       :13803  \n",
       "                                                     a21_2b     \n",
       " there are no course fees to pay                        :  232  \n",
       " my parents/family/me                                   :  208  \n",
       " it is paid for some other way                          :  166  \n",
       " my employer                                            :  163  \n",
       " it is paid for using a training voucher or plastic card:   55  \n",
       " (Other)                                                :    0  \n",
       " NA's                                                   :13838  \n",
       "                  a22                      a22gcse    \n",
       " not answered (9)   :   0   not answered (9)   :   0  \n",
       " item not applicable:   0   item not applicable:   0  \n",
       " yes                :8008   yes                :2026  \n",
       " no                 :6282   no                 :5243  \n",
       " NA's               : 372   NA's               :7393  \n",
       "                                                      \n",
       "                                                      \n",
       "                              a22a1                      a22a2      \n",
       " mathematics                     :  755   mathematics       :  176  \n",
       " english                         :  516   english           :  153  \n",
       " spanish                         :   72   english literature:   33  \n",
       " general studies                 :   60   sociology         :   24  \n",
       " sport/physical education studies:   41   biology           :   13  \n",
       " (Other)                         :  582   (Other)           :  207  \n",
       " NA's                            :12636   NA's              :14056  \n",
       "                  a22a3                                       a22a4      \n",
       " mathematics         :   54   mathematics                        :   15  \n",
       " science/single award:   24   information technology/info systems:   14  \n",
       " english             :   18   sociology                          :   14  \n",
       " biology             :   16   english                            :   14  \n",
       " sociology           :   11   biology                            :   12  \n",
       " (Other)             :  157   (Other)                            :  113  \n",
       " NA's                :14382   NA's                               :14480  \n",
       "              a22a5                        a22a6      \n",
       " mathematics     :   10   mathematics         :    4  \n",
       " english         :   10   geography           :    3  \n",
       " biology         :    5   english             :    3  \n",
       " sociology       :    5   chemistry           :    2  \n",
       " business studies:    4   science/single award:    2  \n",
       " (Other)         :   57   (Other)             :   19  \n",
       " NA's            :14571   NA's                :14629  \n",
       "                 a22as                                         a22b1      \n",
       " not answered (9)   :   0   general studies                       :  144  \n",
       " item not applicable:   0   mathematics                           :   73  \n",
       " yes                : 788   mathematics (further)                 :   41  \n",
       " no                 :6230   religious studies  (includes theology):   40  \n",
       " NA's               :7644   french                                :   37  \n",
       "                            (Other)                               :  453  \n",
       "                            NA's                                  :13874  \n",
       "                                    a22b2      \n",
       " general studies                       :   14  \n",
       " statistics                            :   10  \n",
       " religious studies  (includes theology):    7  \n",
       " computer studies/computing            :    6  \n",
       " sociology                             :    6  \n",
       " (Other)                               :   64  \n",
       " NA's                                  :14555  \n",
       "                               a22b3      \n",
       " mathematics (pure and statistics):    2  \n",
       " music                            :    2  \n",
       " general studies                  :    2  \n",
       " biology                          :    1  \n",
       " science/single award             :    1  \n",
       " (Other)                          :    8  \n",
       " NA's                             :14646  \n",
       "                                 a22b4                       a22b5      \n",
       " information technology/info systems:    1   history            :    1  \n",
       " geography                          :    1   not answered (999) :    0  \n",
       " not answered (999)                 :    0   item not applicable:    0  \n",
       " item not applicable                :    0   biology            :    0  \n",
       " biology                            :    0   biology/human      :    0  \n",
       " (Other)                            :    0   (Other)            :    0  \n",
       " NA's                               :14660   NA's               :14661  \n",
       "                 a22b6                      a22alev    \n",
       " not answered (999) :    0   not answered (9)   :   0  \n",
       " item not applicable:    0   item not applicable:   0  \n",
       " biology            :    0   yes                :6939  \n",
       " biology/human      :    0   no                 : 882  \n",
       " biology/social     :    0   NA's               :6841  \n",
       " (Other)            :    0                             \n",
       " NA's               :14662                             \n",
       "                a22c1                     a22c2                     a22c3     \n",
       " mathematics       : 874   chemistry         : 577   geography         : 420  \n",
       " biology           : 692   biology           : 521   mathematics       : 400  \n",
       " english literature: 577   physics           : 448   biology           : 340  \n",
       " geography         : 444   geography         : 426   english literature: 337  \n",
       " chemistry         : 370   english literature: 414   physics           : 290  \n",
       " (Other)           :3982   (Other)           :4193   (Other)           :4151  \n",
       " NA's              :7723   NA's              :8083   NA's              :8724  \n",
       "                   a22c4                                  a22c5      \n",
       " general studies      :  576   general studies               :   47  \n",
       " chemistry            :   57   mathematics (further)         :    4  \n",
       " mathematics (further):   50   art (without 'design' element):    2  \n",
       " physics              :   36   biology                       :    1  \n",
       " biology              :   30   physics                       :    1  \n",
       " (Other)              :  436   (Other)                       :   11  \n",
       " NA's                 :13477   NA's                          :14596  \n",
       "                                 a22c6                        a23       \n",
       " information technology/info systems:    1   not answered (9)   :    0  \n",
       " technology                         :    1   item not applicable:    0  \n",
       " not answered (999)                 :    0   yes                : 2430  \n",
       " item not applicable                :    0   no                 :11675  \n",
       " biology                            :    0   NA's               :  557  \n",
       " (Other)                            :    0                              \n",
       " NA's                               :14660                              \n",
       "    a231a                           a231b      \n",
       " Length:14662       not answered (9)   :    0  \n",
       " Class :character   item not applicable:    0  \n",
       " Mode  :character   full award         :  182  \n",
       "                    certain units only :   38  \n",
       "                    NA's               :14442  \n",
       "                                               \n",
       "                                               \n",
       "                         a231c1                              a231c2     \n",
       " health & social care       :   58   information technology (it):    2  \n",
       " business                   :   48   leisure and tourism        :    2  \n",
       " not stated                 :   27   science                    :    2  \n",
       " engineering                :   20   business                   :    1  \n",
       " information technology (it):   19   health & social care       :    1  \n",
       " (Other)                    :   61   (Other)                    :    2  \n",
       " NA's                       :14429   NA's                       :14652  \n",
       "                 a231c3                      a231c4     \n",
       " leisure and tourism:    2   not answered (999) :    0  \n",
       " other gnvq         :    2   item not applicable:    0  \n",
       " not answered (999) :    0   performing arts    :    0  \n",
       " item not applicable:    0   art and design     :    0  \n",
       " performing arts    :    0   business           :    0  \n",
       " (Other)            :    0   (Other)            :    0  \n",
       " NA's               :14658   NA's               :14662  \n",
       "                 a231c5                      a231c6         a232a          \n",
       " not answered (999) :    0   not answered (999) :    0   Length:14662      \n",
       " item not applicable:    0   item not applicable:    0   Class :character  \n",
       " performing arts    :    0   performing arts    :    0   Mode  :character  \n",
       " art and design     :    0   art and design     :    0                     \n",
       " business           :    0   business           :    0                     \n",
       " (Other)            :    0   (Other)            :    0                     \n",
       " NA's               :14662   NA's               :14662                     \n",
       "                 a232b                        a232c1     \n",
       " not answered (9)   :    0   business            :  298  \n",
       " item not applicable:    0   health & social care:  254  \n",
       " full award         : 1073   leisure and tourism :  209  \n",
       " certain units only :  119   not stated          :  112  \n",
       " NA's               :13470   art and design      :  108  \n",
       "                             (Other)             :  242  \n",
       "                             NA's                :13439  \n",
       "                              a232c2                      a232c3     \n",
       " information technology (it)     :    3   other gnvq         :    1  \n",
       " leisure and tourism             :    2   not answered (999) :    0  \n",
       " other gnvq                      :    2   item not applicable:    0  \n",
       " science                         :    1   performing arts    :    0  \n",
       " retail and distributive services:    1   art and design     :    0  \n",
       " (Other)                         :    0   (Other)            :    0  \n",
       " NA's                            :14653   NA's               :14661  \n",
       "                 a232c4                      a232c5     \n",
       " not answered (999) :    0   not answered (999) :    0  \n",
       " item not applicable:    0   item not applicable:    0  \n",
       " performing arts    :    0   performing arts    :    0  \n",
       " art and design     :    0   art and design     :    0  \n",
       " business           :    0   business           :    0  \n",
       " (Other)            :    0   (Other)            :    0  \n",
       " NA's               :14662   NA's               :14662  \n",
       "                 a232c6         a233a                           a233b      \n",
       " not answered (999) :    0   Length:14662       not answered (9)   :    0  \n",
       " item not applicable:    0   Class :character   item not applicable:    0  \n",
       " performing arts    :    0   Mode  :character   full award         :  940  \n",
       " art and design     :    0                      certain units only :   26  \n",
       " business           :    0                      NA's               :13696  \n",
       " (Other)            :    0                                                 \n",
       " NA's               :14662                                                 \n",
       "                         a233c1                                   a233c2     \n",
       " business                   :  301   leisure and tourism             :    2  \n",
       " leisure and tourism        :  166   retail and distributive services:    1  \n",
       " health & social care       :  163   not answered (999)              :    0  \n",
       " art and design             :   88   item not applicable             :    0  \n",
       " information technology (it):   64   performing arts                 :    0  \n",
       " (Other)                    :  197   (Other)                         :    0  \n",
       " NA's                       :13683   NA's                            :14659  \n",
       "                         a233c3                      a233c4     \n",
       " information technology (it):    1   other gnvq         :    1  \n",
       " not answered (999)         :    0   not answered (999) :    0  \n",
       " item not applicable        :    0   item not applicable:    0  \n",
       " performing arts            :    0   performing arts    :    0  \n",
       " art and design             :    0   art and design     :    0  \n",
       " (Other)                    :    0   (Other)            :    0  \n",
       " NA's                       :14661   NA's               :14661  \n",
       "                 a233c5                      a233c6     \n",
       " other gnvq         :    1   other gnvq         :    1  \n",
       " not answered (999) :    0   not answered (999) :    0  \n",
       " item not applicable:    0   item not applicable:    0  \n",
       " performing arts    :    0   performing arts    :    0  \n",
       " art and design     :    0   art and design     :    0  \n",
       " (Other)            :    0   (Other)            :    0  \n",
       " NA's               :14661   NA's               :14661  \n",
       "                 a24_1          a24nva1      \n",
       " not answered (9)   :    0   Min.   :0.0000  \n",
       " item not applicable:    0   1st Qu.:0.0000  \n",
       " yes                : 3243   Median :0.0000  \n",
       " no                 :10696   Mean   :0.1506  \n",
       " NA's               :  723   3rd Qu.:0.0000  \n",
       "                             Max.   :3.0000  \n",
       "                                             \n",
       "                                                          a24n11     \n",
       " other - includes child development, hairdressing and beauty :  292  \n",
       " business & management (general)                             :  272  \n",
       " hotel & commercial catering                                 :  124  \n",
       " marketing sales & distribution                              :  123  \n",
       " vehicle maintenance & repair                                :  122  \n",
       " (Other)                                                     :  856  \n",
       " NA's                                                        :12873  \n",
       "                             a24n12     \n",
       " languages & language studies   :    2  \n",
       " business & management (general):    1  \n",
       " office and secretarial skills  :    1  \n",
       " design (non-industrial)        :    1  \n",
       " religious studies              :    1  \n",
       " (Other)                        :    4  \n",
       " NA's                           :14652  \n",
       "                                    a24n13     \n",
       " item not applicable                   :    0  \n",
       " business & management (general)       :    0  \n",
       " enterprises                           :    0  \n",
       " management skills systems & techniques:    0  \n",
       " human resources management            :    0  \n",
       " (Other)                               :    0  \n",
       " NA's                                  :14662  \n",
       "                                    a24n14     \n",
       " item not applicable                   :    0  \n",
       " business & management (general)       :    0  \n",
       " enterprises                           :    0  \n",
       " management skills systems & techniques:    0  \n",
       " human resources management            :    0  \n",
       " (Other)                               :    0  \n",
       " NA's                                  :14662  \n",
       "                                    a24n15     \n",
       " item not applicable                   :    0  \n",
       " business & management (general)       :    0  \n",
       " enterprises                           :    0  \n",
       " management skills systems & techniques:    0  \n",
       " human resources management            :    0  \n",
       " (Other)                               :    0  \n",
       " NA's                                  :14662  \n",
       "                                    a24n16     \n",
       " item not applicable                   :    0  \n",
       " business & management (general)       :    0  \n",
       " enterprises                           :    0  \n",
       " management skills systems & techniques:    0  \n",
       " human resources management            :    0  \n",
       " (Other)                               :    0  \n",
       " NA's                                  :14662  \n",
       "                                    a24n17     \n",
       " item not applicable                   :    0  \n",
       " business & management (general)       :    0  \n",
       " enterprises                           :    0  \n",
       " management skills systems & techniques:    0  \n",
       " human resources management            :    0  \n",
       " (Other)                               :    0  \n",
       " NA's                                  :14662  \n",
       "                                    a24n18         a24nvl1         a24nvl11    \n",
       " item not applicable                   :    0   Min.   :1.000   Min.   :0.000  \n",
       " business & management (general)       :    0   1st Qu.:1.000   1st Qu.:0.000  \n",
       " enterprises                           :    0   Median :1.000   Median :0.000  \n",
       " management skills systems & techniques:    0   Mean   :1.234   Mean   :0.211  \n",
       " human resources management            :    0   3rd Qu.:1.000   3rd Qu.:0.000  \n",
       " (Other)                               :    0   Max.   :3.000   Max.   :1.000  \n",
       " NA's                                  :14662   NA's   :12873   NA's   :12873  \n",
       "    a24nvl12        a24nvl13        a24nvl18        a24nvl19    \n",
       " Min.   :0.000   Min.   :0.000   Min.   :0.000   Min.   :0.000  \n",
       " 1st Qu.:0.000   1st Qu.:0.000   1st Qu.:0.000   1st Qu.:0.000  \n",
       " Median :1.000   Median :0.000   Median :0.000   Median :0.000  \n",
       " Mean   :0.654   Mean   :0.228   Mean   :0.108   Mean   :0.033  \n",
       " 3rd Qu.:1.000   3rd Qu.:0.000   3rd Qu.:0.000   3rd Qu.:0.000  \n",
       " Max.   :1.000   Max.   :1.000   Max.   :1.000   Max.   :1.000  \n",
       " NA's   :12873   NA's   :12873   NA's   :12873   NA's   :12873  \n",
       "    a24nva2        \n",
       " Min.   :0.000000  \n",
       " 1st Qu.:0.000000  \n",
       " Median :0.000000  \n",
       " Mean   :0.009276  \n",
       " 3rd Qu.:0.000000  \n",
       " Max.   :3.000000  \n",
       "                   \n",
       "                                                          a24n21     \n",
       " business & management (general)                             :   17  \n",
       " other - includes child development, hairdressing and beauty :   15  \n",
       " office and secretarial skills                               :   12  \n",
       " marketing sales & distribution                              :    8  \n",
       " hotel & commercial catering                                 :    8  \n",
       " (Other)                                                     :   53  \n",
       " NA's                                                        :14549  \n",
       "                                    a24n22     \n",
       " item not applicable                   :    0  \n",
       " business & management (general)       :    0  \n",
       " enterprises                           :    0  \n",
       " management skills systems & techniques:    0  \n",
       " human resources management            :    0  \n",
       " (Other)                               :    0  \n",
       " NA's                                  :14662  \n",
       "                                    a24n23     \n",
       " item not applicable                   :    0  \n",
       " business & management (general)       :    0  \n",
       " enterprises                           :    0  \n",
       " management skills systems & techniques:    0  \n",
       " human resources management            :    0  \n",
       " (Other)                               :    0  \n",
       " NA's                                  :14662  \n",
       "                                    a24n24     \n",
       " item not applicable                   :    0  \n",
       " business & management (general)       :    0  \n",
       " enterprises                           :    0  \n",
       " management skills systems & techniques:    0  \n",
       " human resources management            :    0  \n",
       " (Other)                               :    0  \n",
       " NA's                                  :14662  \n",
       "                                    a24n25     \n",
       " item not applicable                   :    0  \n",
       " business & management (general)       :    0  \n",
       " enterprises                           :    0  \n",
       " management skills systems & techniques:    0  \n",
       " human resources management            :    0  \n",
       " (Other)                               :    0  \n",
       " NA's                                  :14662  \n",
       "                                    a24n26     \n",
       " item not applicable                   :    0  \n",
       " business & management (general)       :    0  \n",
       " enterprises                           :    0  \n",
       " management skills systems & techniques:    0  \n",
       " human resources management            :    0  \n",
       " (Other)                               :    0  \n",
       " NA's                                  :14662  \n",
       "                                    a24n27     \n",
       " item not applicable                   :    0  \n",
       " business & management (general)       :    0  \n",
       " enterprises                           :    0  \n",
       " management skills systems & techniques:    0  \n",
       " human resources management            :    0  \n",
       " (Other)                               :    0  \n",
       " NA's                                  :14662  \n",
       "                                    a24n28         a24nvl2         a24nvl21    \n",
       " item not applicable                   :    0   Min.   :1.000   Min.   :0.00   \n",
       " business & management (general)       :    0   1st Qu.:1.000   1st Qu.:0.00   \n",
       " enterprises                           :    0   Median :1.000   Median :0.00   \n",
       " management skills systems & techniques:    0   Mean   :1.088   Mean   :0.15   \n",
       " human resources management            :    0   3rd Qu.:1.000   3rd Qu.:0.00   \n",
       " (Other)                               :    0   Max.   :3.000   Max.   :1.00   \n",
       " NA's                                  :14662   NA's   :14549   NA's   :14549  \n",
       "    a24nvl22        a24nvl23        a24nvl28        a24nvl29    \n",
       " Min.   :0.000   Min.   :0.000   Min.   :0.000   Min.   :0.000  \n",
       " 1st Qu.:0.000   1st Qu.:0.000   1st Qu.:0.000   1st Qu.:0.000  \n",
       " Median :1.000   Median :0.000   Median :0.000   Median :0.000  \n",
       " Mean   :0.513   Mean   :0.363   Mean   :0.053   Mean   :0.009  \n",
       " 3rd Qu.:1.000   3rd Qu.:1.000   3rd Qu.:0.000   3rd Qu.:0.000  \n",
       " Max.   :1.000   Max.   :1.000   Max.   :1.000   Max.   :1.000  \n",
       " NA's   :14549   NA's   :14549   NA's   :14549   NA's   :14549  \n",
       "    a24nva3                                                    a24n31     \n",
       " Min.   :0.000000   information technology & computer applications:    5  \n",
       " 1st Qu.:0.000000   office and secretarial skills                 :    2  \n",
       " Median :0.000000   financial management & accounting             :    1  \n",
       " Mean   :0.001432   public administration                         :    1  \n",
       " 3rd Qu.:0.000000   languages & language studies                  :    1  \n",
       " Max.   :3.000000   (Other)                                       :    6  \n",
       "                    NA's                                          :14646  \n",
       "                                    a24n32     \n",
       " item not applicable                   :    0  \n",
       " business & management (general)       :    0  \n",
       " enterprises                           :    0  \n",
       " management skills systems & techniques:    0  \n",
       " human resources management            :    0  \n",
       " (Other)                               :    0  \n",
       " NA's                                  :14662  \n",
       "                                    a24n33     \n",
       " item not applicable                   :    0  \n",
       " business & management (general)       :    0  \n",
       " enterprises                           :    0  \n",
       " management skills systems & techniques:    0  \n",
       " human resources management            :    0  \n",
       " (Other)                               :    0  \n",
       " NA's                                  :14662  \n",
       "                                    a24n34     \n",
       " item not applicable                   :    0  \n",
       " business & management (general)       :    0  \n",
       " enterprises                           :    0  \n",
       " management skills systems & techniques:    0  \n",
       " human resources management            :    0  \n",
       " (Other)                               :    0  \n",
       " NA's                                  :14662  \n",
       "                                    a24n35     \n",
       " item not applicable                   :    0  \n",
       " business & management (general)       :    0  \n",
       " enterprises                           :    0  \n",
       " management skills systems & techniques:    0  \n",
       " human resources management            :    0  \n",
       " (Other)                               :    0  \n",
       " NA's                                  :14662  \n",
       "                                    a24n36     \n",
       " item not applicable                   :    0  \n",
       " business & management (general)       :    0  \n",
       " enterprises                           :    0  \n",
       " management skills systems & techniques:    0  \n",
       " human resources management            :    0  \n",
       " (Other)                               :    0  \n",
       " NA's                                  :14662  \n",
       "                                    a24n37     \n",
       " item not applicable                   :    0  \n",
       " business & management (general)       :    0  \n",
       " enterprises                           :    0  \n",
       " management skills systems & techniques:    0  \n",
       " human resources management            :    0  \n",
       " (Other)                               :    0  \n",
       " NA's                                  :14662  \n",
       "                                    a24n38         a24nvl3         a24nvl31    \n",
       " item not applicable                   :    0   Min.   :1.000   Min.   :0.00   \n",
       " business & management (general)       :    0   1st Qu.:1.000   1st Qu.:0.00   \n",
       " enterprises                           :    0   Median :1.000   Median :0.00   \n",
       " management skills systems & techniques:    0   Mean   :1.125   Mean   :0.25   \n",
       " human resources management            :    0   3rd Qu.:1.000   3rd Qu.:0.25   \n",
       " (Other)                               :    0   Max.   :3.000   Max.   :1.00   \n",
       " NA's                                  :14662   NA's   :14646   NA's   :14646  \n",
       "    a24nvl32        a24nvl33        a24nvl38        a24nvl39    \n",
       " Min.   :0.000   Min.   :0.00    Min.   :0.000   Min.   :0.000  \n",
       " 1st Qu.:0.000   1st Qu.:0.00    1st Qu.:0.000   1st Qu.:0.000  \n",
       " Median :0.000   Median :0.00    Median :0.000   Median :0.000  \n",
       " Mean   :0.312   Mean   :0.25    Mean   :0.188   Mean   :0.125  \n",
       " 3rd Qu.:1.000   3rd Qu.:0.25    3rd Qu.:0.000   3rd Qu.:0.000  \n",
       " Max.   :1.000   Max.   :1.00    Max.   :1.000   Max.   :1.000  \n",
       " NA's   :14646   NA's   :14646   NA's   :14646   NA's   :14646  \n",
       "   a24bta1         \n",
       " Length:14662      \n",
       " Class :character  \n",
       " Mode  :character  \n",
       "                   \n",
       "                   \n",
       "                   \n",
       "                   \n",
       "                                                          a24b11     \n",
       " engineering/ technology/ manufacture (general)              :   20  \n",
       " mechanical engineering                                      :    6  \n",
       " vehicle maintenance & repair                                :    6  \n",
       " other - includes child development, hairdressing and beauty :    6  \n",
       " public administration                                       :    5  \n",
       " (Other)                                                     :   31  \n",
       " NA's                                                        :14588  \n",
       "                                    a24b12     \n",
       " item not applicable                   :    0  \n",
       " business & management (general)       :    0  \n",
       " enterprises                           :    0  \n",
       " management skills systems & techniques:    0  \n",
       " human resources management            :    0  \n",
       " (Other)                               :    0  \n",
       " NA's                                  :14662  \n",
       "                                    a24b13     \n",
       " item not applicable                   :    0  \n",
       " business & management (general)       :    0  \n",
       " enterprises                           :    0  \n",
       " management skills systems & techniques:    0  \n",
       " human resources management            :    0  \n",
       " (Other)                               :    0  \n",
       " NA's                                  :14662  \n",
       "                                    a24b14     \n",
       " item not applicable                   :    0  \n",
       " business & management (general)       :    0  \n",
       " enterprises                           :    0  \n",
       " management skills systems & techniques:    0  \n",
       " human resources management            :    0  \n",
       " (Other)                               :    0  \n",
       " NA's                                  :14662  \n",
       "                                    a24b15     \n",
       " item not applicable                   :    0  \n",
       " business & management (general)       :    0  \n",
       " enterprises                           :    0  \n",
       " management skills systems & techniques:    0  \n",
       " human resources management            :    0  \n",
       " (Other)                               :    0  \n",
       " NA's                                  :14662  \n",
       "                                    a24b16     \n",
       " item not applicable                   :    0  \n",
       " business & management (general)       :    0  \n",
       " enterprises                           :    0  \n",
       " management skills systems & techniques:    0  \n",
       " human resources management            :    0  \n",
       " (Other)                               :    0  \n",
       " NA's                                  :14662  \n",
       "                                    a24b17     \n",
       " item not applicable                   :    0  \n",
       " business & management (general)       :    0  \n",
       " enterprises                           :    0  \n",
       " management skills systems & techniques:    0  \n",
       " human resources management            :    0  \n",
       " (Other)                               :    0  \n",
       " NA's                                  :14662  \n",
       "                                    a24b18         a24btc1         a24btc11    \n",
       " item not applicable                   :    0   Min.   :1       Min.   :0.000  \n",
       " business & management (general)       :    0   1st Qu.:1       1st Qu.:0.000  \n",
       " enterprises                           :    0   Median :1       Median :0.000  \n",
       " management skills systems & techniques:    0   Mean   :1       Mean   :0.101  \n",
       " human resources management            :    0   3rd Qu.:1       3rd Qu.:0.000  \n",
       " (Other)                               :    0   Max.   :1       Max.   :1.000  \n",
       " NA's                                  :14662   NA's   :14593   NA's   :14593  \n",
       "    a24btc12        a24btc13        a24btc18        a24btc19    \n",
       " Min.   :0.000   Min.   :0.000   Min.   :0.000   Min.   :0      \n",
       " 1st Qu.:0.000   1st Qu.:0.000   1st Qu.:1.000   1st Qu.:0      \n",
       " Median :0.000   Median :0.000   Median :1.000   Median :0      \n",
       " Mean   :0.116   Mean   :0.029   Mean   :0.754   Mean   :0      \n",
       " 3rd Qu.:0.000   3rd Qu.:0.000   3rd Qu.:1.000   3rd Qu.:0      \n",
       " Max.   :1.000   Max.   :1.000   Max.   :1.000   Max.   :0      \n",
       " NA's   :14593   NA's   :14593   NA's   :14593   NA's   :14593  \n",
       "   a24bta2                                                     a24b21     \n",
       " Length:14662       veterinary services & pet care                :   18  \n",
       " Class :character   public administration                         :   13  \n",
       " Mode  :character   theatre & dramatic arts                       :   10  \n",
       "                    agricultural & horticultural studies (general):    7  \n",
       "                    information technology & computer applications:    7  \n",
       "                    (Other)                                       :   58  \n",
       "                    NA's                                          :14549  \n",
       "                                    a24b22     \n",
       " item not applicable                   :    0  \n",
       " business & management (general)       :    0  \n",
       " enterprises                           :    0  \n",
       " management skills systems & techniques:    0  \n",
       " human resources management            :    0  \n",
       " (Other)                               :    0  \n",
       " NA's                                  :14662  \n",
       "                                    a24b23     \n",
       " item not applicable                   :    0  \n",
       " business & management (general)       :    0  \n",
       " enterprises                           :    0  \n",
       " management skills systems & techniques:    0  \n",
       " human resources management            :    0  \n",
       " (Other)                               :    0  \n",
       " NA's                                  :14662  \n",
       "                                    a24b24     \n",
       " item not applicable                   :    0  \n",
       " business & management (general)       :    0  \n",
       " enterprises                           :    0  \n",
       " management skills systems & techniques:    0  \n",
       " human resources management            :    0  \n",
       " (Other)                               :    0  \n",
       " NA's                                  :14662  \n",
       "                                    a24b25     \n",
       " item not applicable                   :    0  \n",
       " business & management (general)       :    0  \n",
       " enterprises                           :    0  \n",
       " management skills systems & techniques:    0  \n",
       " human resources management            :    0  \n",
       " (Other)                               :    0  \n",
       " NA's                                  :14662  \n",
       "                                    a24b26     \n",
       " item not applicable                   :    0  \n",
       " business & management (general)       :    0  \n",
       " enterprises                           :    0  \n",
       " management skills systems & techniques:    0  \n",
       " human resources management            :    0  \n",
       " (Other)                               :    0  \n",
       " NA's                                  :14662  \n",
       "                                    a24b27     \n",
       " item not applicable                   :    0  \n",
       " business & management (general)       :    0  \n",
       " enterprises                           :    0  \n",
       " management skills systems & techniques:    0  \n",
       " human resources management            :    0  \n",
       " (Other)                               :    0  \n",
       " NA's                                  :14662  \n",
       "                                    a24b28         a24btc2         a24btc21    \n",
       " item not applicable                   :    0   Min.   :1.00    Min.   :0.000  \n",
       " business & management (general)       :    0   1st Qu.:1.00    1st Qu.:0.000  \n",
       " enterprises                           :    0   Median :1.00    Median :0.000  \n",
       " management skills systems & techniques:    0   Mean   :1.01    Mean   :0.072  \n",
       " human resources management            :    0   3rd Qu.:1.00    3rd Qu.:0.000  \n",
       " (Other)                               :    0   Max.   :2.00    Max.   :1.000  \n",
       " NA's                                  :14662   NA's   :14565   NA's   :14565  \n",
       "    a24btc22        a24btc23        a24btc28        a24btc29    \n",
       " Min.   :0.000   Min.   :0.000   Min.   :0.000   Min.   :0      \n",
       " 1st Qu.:0.000   1st Qu.:0.000   1st Qu.:1.000   1st Qu.:0      \n",
       " Median :0.000   Median :0.000   Median :1.000   Median :0      \n",
       " Mean   :0.072   Mean   :0.041   Mean   :0.825   Mean   :0      \n",
       " 3rd Qu.:0.000   3rd Qu.:0.000   3rd Qu.:1.000   3rd Qu.:0      \n",
       " Max.   :1.000   Max.   :1.000   Max.   :1.000   Max.   :0      \n",
       " NA's   :14565   NA's   :14565   NA's   :14565   NA's   :14565  \n",
       "   a24bta3         \n",
       " Length:14662      \n",
       " Class :character  \n",
       " Mode  :character  \n",
       "                   \n",
       "                   \n",
       "                   \n",
       "                   \n",
       "                                                          a24b31     \n",
       " other - includes child development, hairdressing and beauty :   73  \n",
       " theatre & dramatic arts                                     :   54  \n",
       " sports studies & combined sports                            :   47  \n",
       " design (non-industrial)                                     :   34  \n",
       " information technology & computer applications              :   34  \n",
       " (Other)                                                     :  343  \n",
       " NA's                                                        :14077  \n",
       "                          a24b32     \n",
       " languages & language studies:    1  \n",
       " theatre & dramatic arts     :    1  \n",
       " mathematics                 :    1  \n",
       " electronic engineering      :    1  \n",
       " item not applicable         :    0  \n",
       " (Other)                     :    0  \n",
       " NA's                        :14658  \n",
       "                                            a24b33     \n",
       " information technology & computer applications:    1  \n",
       " item not applicable                           :    0  \n",
       " business & management (general)               :    0  \n",
       " enterprises                                   :    0  \n",
       " management skills systems & techniques        :    0  \n",
       " (Other)                                       :    0  \n",
       " NA's                                          :14661  \n",
       "                                    a24b34     \n",
       " item not applicable                   :    0  \n",
       " business & management (general)       :    0  \n",
       " enterprises                           :    0  \n",
       " management skills systems & techniques:    0  \n",
       " human resources management            :    0  \n",
       " (Other)                               :    0  \n",
       " NA's                                  :14662  \n",
       "                                    a24b35     \n",
       " item not applicable                   :    0  \n",
       " business & management (general)       :    0  \n",
       " enterprises                           :    0  \n",
       " management skills systems & techniques:    0  \n",
       " human resources management            :    0  \n",
       " (Other)                               :    0  \n",
       " NA's                                  :14662  \n",
       "                                    a24b36     \n",
       " item not applicable                   :    0  \n",
       " business & management (general)       :    0  \n",
       " enterprises                           :    0  \n",
       " management skills systems & techniques:    0  \n",
       " human resources management            :    0  \n",
       " (Other)                               :    0  \n",
       " NA's                                  :14662  \n",
       "                                    a24b37     \n",
       " item not applicable                   :    0  \n",
       " business & management (general)       :    0  \n",
       " enterprises                           :    0  \n",
       " management skills systems & techniques:    0  \n",
       " human resources management            :    0  \n",
       " (Other)                               :    0  \n",
       " NA's                                  :14662  \n",
       "                                    a24b38         a24btc3         a24btc31    \n",
       " item not applicable                   :    0   Min.   :1.000   Min.   :0.000  \n",
       " business & management (general)       :    0   1st Qu.:1.000   1st Qu.:0.000  \n",
       " enterprises                           :    0   Median :1.000   Median :0.000  \n",
       " management skills systems & techniques:    0   Mean   :1.009   Mean   :0.013  \n",
       " human resources management            :    0   3rd Qu.:1.000   3rd Qu.:0.000  \n",
       " (Other)                               :    0   Max.   :3.000   Max.   :1.000  \n",
       " NA's                                  :14662   NA's   :14123   NA's   :14123  \n",
       "    a24btc32        a24btc33        a24btc38        a24btc39    \n",
       " Min.   :0.000   Min.   :0.000   Min.   :0.000   Min.   :0      \n",
       " 1st Qu.:0.000   1st Qu.:0.000   1st Qu.:1.000   1st Qu.:0      \n",
       " Median :0.000   Median :0.000   Median :1.000   Median :0      \n",
       " Mean   :0.048   Mean   :0.096   Mean   :0.852   Mean   :0      \n",
       " 3rd Qu.:0.000   3rd Qu.:0.000   3rd Qu.:1.000   3rd Qu.:0      \n",
       " Max.   :1.000   Max.   :1.000   Max.   :1.000   Max.   :0      \n",
       " NA's   :14123   NA's   :14123   NA's   :14123   NA's   :14123  \n",
       "   a24bta4         \n",
       " Length:14662      \n",
       " Class :character  \n",
       " Mode  :character  \n",
       "                   \n",
       "                   \n",
       "                   \n",
       "                   \n",
       "                                                          a24b41     \n",
       " other - includes child development, hairdressing and beauty :    4  \n",
       " design (non-industrial)                                     :    3  \n",
       " mathematics                                                 :    3  \n",
       " mechanical engineering                                      :    3  \n",
       " not stated                                                  :    3  \n",
       " (Other)                                                     :   22  \n",
       " NA's                                                        :14624  \n",
       "                                    a24b42     \n",
       " earth sciences                        :    1  \n",
       " item not applicable                   :    0  \n",
       " business & management (general)       :    0  \n",
       " enterprises                           :    0  \n",
       " management skills systems & techniques:    0  \n",
       " (Other)                               :    0  \n",
       " NA's                                  :14661  \n",
       "                                    a24b43     \n",
       " item not applicable                   :    0  \n",
       " business & management (general)       :    0  \n",
       " enterprises                           :    0  \n",
       " management skills systems & techniques:    0  \n",
       " human resources management            :    0  \n",
       " (Other)                               :    0  \n",
       " NA's                                  :14662  \n",
       "                                    a24b44     \n",
       " item not applicable                   :    0  \n",
       " business & management (general)       :    0  \n",
       " enterprises                           :    0  \n",
       " management skills systems & techniques:    0  \n",
       " human resources management            :    0  \n",
       " (Other)                               :    0  \n",
       " NA's                                  :14662  \n",
       "                                    a24b45     \n",
       " item not applicable                   :    0  \n",
       " business & management (general)       :    0  \n",
       " enterprises                           :    0  \n",
       " management skills systems & techniques:    0  \n",
       " human resources management            :    0  \n",
       " (Other)                               :    0  \n",
       " NA's                                  :14662  \n",
       "                                    a24b46     \n",
       " item not applicable                   :    0  \n",
       " business & management (general)       :    0  \n",
       " enterprises                           :    0  \n",
       " management skills systems & techniques:    0  \n",
       " human resources management            :    0  \n",
       " (Other)                               :    0  \n",
       " NA's                                  :14662  \n",
       "                                    a24b47     \n",
       " item not applicable                   :    0  \n",
       " business & management (general)       :    0  \n",
       " enterprises                           :    0  \n",
       " management skills systems & techniques:    0  \n",
       " human resources management            :    0  \n",
       " (Other)                               :    0  \n",
       " NA's                                  :14662  \n",
       "                                    a24b48         a24btc4         a24btc41    \n",
       " item not applicable                   :    0   Min.   :1.000   Min.   :0      \n",
       " business & management (general)       :    0   1st Qu.:1.000   1st Qu.:0      \n",
       " enterprises                           :    0   Median :1.000   Median :0      \n",
       " management skills systems & techniques:    0   Mean   :1.034   Mean   :0      \n",
       " human resources management            :    0   3rd Qu.:1.000   3rd Qu.:0      \n",
       " (Other)                               :    0   Max.   :2.000   Max.   :0      \n",
       " NA's                                  :14662   NA's   :14633   NA's   :14633  \n",
       "    a24btc42        a24btc43        a24btc48        a24btc49    \n",
       " Min.   :0.000   Min.   :0.000   Min.   :0.000   Min.   :0      \n",
       " 1st Qu.:0.000   1st Qu.:0.000   1st Qu.:1.000   1st Qu.:0      \n",
       " Median :0.000   Median :0.000   Median :1.000   Median :0      \n",
       " Mean   :0.069   Mean   :0.069   Mean   :0.897   Mean   :0      \n",
       " 3rd Qu.:0.000   3rd Qu.:0.000   3rd Qu.:1.000   3rd Qu.:0      \n",
       " Max.   :1.000   Max.   :1.000   Max.   :1.000   Max.   :0      \n",
       " NA's   :14633   NA's   :14633   NA's   :14633   NA's   :14633  \n",
       "   a24cga1         \n",
       " Length:14662      \n",
       " Class :character  \n",
       " Mode  :character  \n",
       "                   \n",
       "                   \n",
       "                   \n",
       "                   \n",
       "                                                          a24c11     \n",
       " electrical engineering                                      :   22  \n",
       " vehicle maintenance & repair                                :   18  \n",
       " electronic engineering                                      :   16  \n",
       " engineering/ technology/ manufacture (general)              :   13  \n",
       " other - includes child development, hairdressing and beauty :   10  \n",
       " (Other)                                                     :   68  \n",
       " NA's                                                        :14515  \n",
       "                                    a24c12     \n",
       " languages & language studies          :    1  \n",
       " item not applicable                   :    0  \n",
       " business & management (general)       :    0  \n",
       " enterprises                           :    0  \n",
       " management skills systems & techniques:    0  \n",
       " (Other)                               :    0  \n",
       " NA's                                  :14661  \n",
       "                                    a24c13     \n",
       " item not applicable                   :    0  \n",
       " business & management (general)       :    0  \n",
       " enterprises                           :    0  \n",
       " management skills systems & techniques:    0  \n",
       " human resources management            :    0  \n",
       " (Other)                               :    0  \n",
       " NA's                                  :14662  \n",
       "                                    a24c14     \n",
       " item not applicable                   :    0  \n",
       " business & management (general)       :    0  \n",
       " enterprises                           :    0  \n",
       " management skills systems & techniques:    0  \n",
       " human resources management            :    0  \n",
       " (Other)                               :    0  \n",
       " NA's                                  :14662  \n",
       "                                    a24c15     \n",
       " item not applicable                   :    0  \n",
       " business & management (general)       :    0  \n",
       " enterprises                           :    0  \n",
       " management skills systems & techniques:    0  \n",
       " human resources management            :    0  \n",
       " (Other)                               :    0  \n",
       " NA's                                  :14662  \n",
       "                                    a24c16     \n",
       " item not applicable                   :    0  \n",
       " business & management (general)       :    0  \n",
       " enterprises                           :    0  \n",
       " management skills systems & techniques:    0  \n",
       " human resources management            :    0  \n",
       " (Other)                               :    0  \n",
       " NA's                                  :14662  \n",
       "                                    a24c17     \n",
       " item not applicable                   :    0  \n",
       " business & management (general)       :    0  \n",
       " enterprises                           :    0  \n",
       " management skills systems & techniques:    0  \n",
       " human resources management            :    0  \n",
       " (Other)                               :    0  \n",
       " NA's                                  :14662  \n",
       "                                    a24c18         a24cgc1         a24cgc11    \n",
       " item not applicable                   :    0   Min.   :1.000   Min.   :0.000  \n",
       " business & management (general)       :    0   1st Qu.:1.000   1st Qu.:0.000  \n",
       " enterprises                           :    0   Median :1.000   Median :0.000  \n",
       " management skills systems & techniques:    0   Mean   :1.101   Mean   :0.295  \n",
       " human resources management            :    0   3rd Qu.:1.000   3rd Qu.:1.000  \n",
       " (Other)                               :    0   Max.   :3.000   Max.   :1.000  \n",
       " NA's                                  :14662   NA's   :14533   NA's   :14533  \n",
       "    a24cgc12        a24cgc13        a24cgc18        a24cgc19    \n",
       " Min.   :0.000   Min.   :0.00    Min.   :0.000   Min.   :0      \n",
       " 1st Qu.:0.000   1st Qu.:0.00    1st Qu.:0.000   1st Qu.:0      \n",
       " Median :0.000   Median :0.00    Median :1.000   Median :0      \n",
       " Mean   :0.147   Mean   :0.07    Mean   :0.589   Mean   :0      \n",
       " 3rd Qu.:0.000   3rd Qu.:0.00    3rd Qu.:1.000   3rd Qu.:0      \n",
       " Max.   :1.000   Max.   :1.00    Max.   :1.000   Max.   :0      \n",
       " NA's   :14533   NA's   :14533   NA's   :14533   NA's   :14533  \n",
       "   a24cga2                                                     a24c21     \n",
       " Length:14662       electrical engineering                        :   10  \n",
       " Class :character   engineering/ technology/ manufacture (general):   10  \n",
       " Mode  :character   mathematics                                   :    5  \n",
       "                    vehicle maintenance & repair                  :    5  \n",
       "                    not stated                                    :    5  \n",
       "                    (Other)                                       :   33  \n",
       "                    NA's                                          :14594  \n",
       "                                    a24c22     \n",
       " item not applicable                   :    0  \n",
       " business & management (general)       :    0  \n",
       " enterprises                           :    0  \n",
       " management skills systems & techniques:    0  \n",
       " human resources management            :    0  \n",
       " (Other)                               :    0  \n",
       " NA's                                  :14662  \n",
       "                                    a24c23     \n",
       " item not applicable                   :    0  \n",
       " business & management (general)       :    0  \n",
       " enterprises                           :    0  \n",
       " management skills systems & techniques:    0  \n",
       " human resources management            :    0  \n",
       " (Other)                               :    0  \n",
       " NA's                                  :14662  \n",
       "                                    a24c24     \n",
       " item not applicable                   :    0  \n",
       " business & management (general)       :    0  \n",
       " enterprises                           :    0  \n",
       " management skills systems & techniques:    0  \n",
       " human resources management            :    0  \n",
       " (Other)                               :    0  \n",
       " NA's                                  :14662  \n",
       "                                    a24c25     \n",
       " item not applicable                   :    0  \n",
       " business & management (general)       :    0  \n",
       " enterprises                           :    0  \n",
       " management skills systems & techniques:    0  \n",
       " human resources management            :    0  \n",
       " (Other)                               :    0  \n",
       " NA's                                  :14662  \n",
       "                                    a24c26     \n",
       " item not applicable                   :    0  \n",
       " business & management (general)       :    0  \n",
       " enterprises                           :    0  \n",
       " management skills systems & techniques:    0  \n",
       " human resources management            :    0  \n",
       " (Other)                               :    0  \n",
       " NA's                                  :14662  \n",
       "                                    a24c27     \n",
       " item not applicable                   :    0  \n",
       " business & management (general)       :    0  \n",
       " enterprises                           :    0  \n",
       " management skills systems & techniques:    0  \n",
       " human resources management            :    0  \n",
       " (Other)                               :    0  \n",
       " NA's                                  :14662  \n",
       "                                    a24c28         a24cgc2         a24cgc21    \n",
       " item not applicable                   :    0   Min.   :1.000   Min.   :0.000  \n",
       " business & management (general)       :    0   1st Qu.:1.000   1st Qu.:0.000  \n",
       " enterprises                           :    0   Median :1.000   Median :0.000  \n",
       " management skills systems & techniques:    0   Mean   :1.033   Mean   :0.033  \n",
       " human resources management            :    0   3rd Qu.:1.000   3rd Qu.:0.000  \n",
       " (Other)                               :    0   Max.   :2.000   Max.   :1.000  \n",
       " NA's                                  :14662   NA's   :14602   NA's   :14602  \n",
       "    a24cgc22        a24cgc23        a24cgc28        a24cgc29    \n",
       " Min.   :0.000   Min.   :0.000   Min.   :0.00    Min.   :0      \n",
       " 1st Qu.:0.000   1st Qu.:0.000   1st Qu.:0.00    1st Qu.:0      \n",
       " Median :0.000   Median :0.000   Median :1.00    Median :0      \n",
       " Mean   :0.267   Mean   :0.083   Mean   :0.65    Mean   :0      \n",
       " 3rd Qu.:1.000   3rd Qu.:0.000   3rd Qu.:1.00    3rd Qu.:0      \n",
       " Max.   :1.000   Max.   :1.000   Max.   :1.00    Max.   :0      \n",
       " NA's   :14602   NA's   :14602   NA's   :14602   NA's   :14602  \n",
       "   a24cga3                                             a24c31     \n",
       " Length:14662       vehicle maintenance & repair          :    3  \n",
       " Class :character   not stated                            :    3  \n",
       " Mode  :character   cooking & food & drinking preparation :    2  \n",
       "                    mathematics                           :    2  \n",
       "                    building/construction studies, general:    2  \n",
       "                    (Other)                               :    8  \n",
       "                    NA's                                  :14642  \n",
       "                                    a24c32     \n",
       " item not applicable                   :    0  \n",
       " business & management (general)       :    0  \n",
       " enterprises                           :    0  \n",
       " management skills systems & techniques:    0  \n",
       " human resources management            :    0  \n",
       " (Other)                               :    0  \n",
       " NA's                                  :14662  \n",
       "                                    a24c33     \n",
       " item not applicable                   :    0  \n",
       " business & management (general)       :    0  \n",
       " enterprises                           :    0  \n",
       " management skills systems & techniques:    0  \n",
       " human resources management            :    0  \n",
       " (Other)                               :    0  \n",
       " NA's                                  :14662  \n",
       "                                    a24c34     \n",
       " item not applicable                   :    0  \n",
       " business & management (general)       :    0  \n",
       " enterprises                           :    0  \n",
       " management skills systems & techniques:    0  \n",
       " human resources management            :    0  \n",
       " (Other)                               :    0  \n",
       " NA's                                  :14662  \n",
       "                                    a24c35     \n",
       " item not applicable                   :    0  \n",
       " business & management (general)       :    0  \n",
       " enterprises                           :    0  \n",
       " management skills systems & techniques:    0  \n",
       " human resources management            :    0  \n",
       " (Other)                               :    0  \n",
       " NA's                                  :14662  \n",
       "                                    a24c36     \n",
       " item not applicable                   :    0  \n",
       " business & management (general)       :    0  \n",
       " enterprises                           :    0  \n",
       " management skills systems & techniques:    0  \n",
       " human resources management            :    0  \n",
       " (Other)                               :    0  \n",
       " NA's                                  :14662  \n",
       "                                    a24c37     \n",
       " item not applicable                   :    0  \n",
       " business & management (general)       :    0  \n",
       " enterprises                           :    0  \n",
       " management skills systems & techniques:    0  \n",
       " human resources management            :    0  \n",
       " (Other)                               :    0  \n",
       " NA's                                  :14662  \n",
       "                                    a24c38         a24cgc3         a24cgc31    \n",
       " item not applicable                   :    0   Min.   :1       Min.   :0.000  \n",
       " business & management (general)       :    0   1st Qu.:1       1st Qu.:0.000  \n",
       " enterprises                           :    0   Median :1       Median :0.000  \n",
       " management skills systems & techniques:    0   Mean   :1       Mean   :0.056  \n",
       " human resources management            :    0   3rd Qu.:1       3rd Qu.:0.000  \n",
       " (Other)                               :    0   Max.   :1       Max.   :1.000  \n",
       " NA's                                  :14662   NA's   :14644   NA's   :14644  \n",
       "    a24cgc32        a24cgc33        a24cgc38        a24cgc39    \n",
       " Min.   :0       Min.   :0.000   Min.   :0.000   Min.   :0      \n",
       " 1st Qu.:0       1st Qu.:0.000   1st Qu.:0.000   1st Qu.:0      \n",
       " Median :0       Median :0.000   Median :1.000   Median :0      \n",
       " Mean   :0       Mean   :0.389   Mean   :0.556   Mean   :0      \n",
       " 3rd Qu.:0       3rd Qu.:1.000   3rd Qu.:1.000   3rd Qu.:0      \n",
       " Max.   :0       Max.   :1.000   Max.   :1.000   Max.   :0      \n",
       " NA's   :14644   NA's   :14644   NA's   :14644   NA's   :14644  \n",
       "   a24cga4         \n",
       " Length:14662      \n",
       " Class :character  \n",
       " Mode  :character  \n",
       "                   \n",
       "                   \n",
       "                   \n",
       "                   \n",
       "                                                          a24c41     \n",
       " other - includes child development, hairdressing and beauty :   32  \n",
       " information technology & computer applications              :   21  \n",
       " mathematics                                                 :   14  \n",
       " vehicle maintenance & repair                                :   14  \n",
       " not stated                                                  :   13  \n",
       " (Other)                                                     :   87  \n",
       " NA's                                                        :14481  \n",
       "                             a24c42     \n",
       " languages & language studies   :    2  \n",
       " mathematics                    :    1  \n",
       " item not applicable            :    0  \n",
       " business & management (general):    0  \n",
       " enterprises                    :    0  \n",
       " (Other)                        :    0  \n",
       " NA's                           :14659  \n",
       "                                    a24c43     \n",
       " item not applicable                   :    0  \n",
       " business & management (general)       :    0  \n",
       " enterprises                           :    0  \n",
       " management skills systems & techniques:    0  \n",
       " human resources management            :    0  \n",
       " (Other)                               :    0  \n",
       " NA's                                  :14662  \n",
       "                                    a24c44     \n",
       " item not applicable                   :    0  \n",
       " business & management (general)       :    0  \n",
       " enterprises                           :    0  \n",
       " management skills systems & techniques:    0  \n",
       " human resources management            :    0  \n",
       " (Other)                               :    0  \n",
       " NA's                                  :14662  \n",
       "                                    a24c45     \n",
       " item not applicable                   :    0  \n",
       " business & management (general)       :    0  \n",
       " enterprises                           :    0  \n",
       " management skills systems & techniques:    0  \n",
       " human resources management            :    0  \n",
       " (Other)                               :    0  \n",
       " NA's                                  :14662  \n",
       "                                    a24c46     \n",
       " item not applicable                   :    0  \n",
       " business & management (general)       :    0  \n",
       " enterprises                           :    0  \n",
       " management skills systems & techniques:    0  \n",
       " human resources management            :    0  \n",
       " (Other)                               :    0  \n",
       " NA's                                  :14662  \n",
       "                                    a24c47     \n",
       " item not applicable                   :    0  \n",
       " business & management (general)       :    0  \n",
       " enterprises                           :    0  \n",
       " management skills systems & techniques:    0  \n",
       " human resources management            :    0  \n",
       " (Other)                               :    0  \n",
       " NA's                                  :14662  \n",
       "                                    a24c48         a24cgc4         a24cgc41    \n",
       " item not applicable                   :    0   Min.   :1.00    Min.   :0.000  \n",
       " business & management (general)       :    0   1st Qu.:1.00    1st Qu.:0.000  \n",
       " enterprises                           :    0   Median :1.00    Median :0.000  \n",
       " management skills systems & techniques:    0   Mean   :1.14    Mean   :0.134  \n",
       " human resources management            :    0   3rd Qu.:1.00    3rd Qu.:0.000  \n",
       " (Other)                               :    0   Max.   :3.00    Max.   :1.000  \n",
       " NA's                                  :14662   NA's   :14498   NA's   :14498  \n",
       "    a24cgc42        a24cgc43        a24cgc48        a24cgc49    \n",
       " Min.   :0.000   Min.   :0.00    Min.   :0.000   Min.   :0      \n",
       " 1st Qu.:0.000   1st Qu.:0.00    1st Qu.:0.000   1st Qu.:0      \n",
       " Median :0.000   Median :0.00    Median :1.000   Median :0      \n",
       " Mean   :0.183   Mean   :0.14    Mean   :0.683   Mean   :0      \n",
       " 3rd Qu.:0.000   3rd Qu.:0.00    3rd Qu.:1.000   3rd Qu.:0      \n",
       " Max.   :1.000   Max.   :1.00    Max.   :1.000   Max.   :0      \n",
       " NA's   :14498   NA's   :14498   NA's   :14498   NA's   :14498  \n",
       "   a24rsa1                                                     a24r11     \n",
       " Length:14662       information technology & computer applications:  142  \n",
       " Class :character   office and secretarial skills                 :   94  \n",
       " Mode  :character   not stated                                    :   15  \n",
       "                    business & management (general)               :   14  \n",
       "                    languages & language studies                  :    7  \n",
       "                    (Other)                                       :   13  \n",
       "                    NA's                                          :14377  \n",
       "                                            a24r12     \n",
       " information technology & computer applications:    3  \n",
       " languages & language studies                  :    2  \n",
       " office and secretarial skills                 :    1  \n",
       " item not applicable                           :    0  \n",
       " business & management (general)               :    0  \n",
       " (Other)                                       :    0  \n",
       " NA's                                          :14656  \n",
       "                                    a24r13     \n",
       " item not applicable                   :    0  \n",
       " business & management (general)       :    0  \n",
       " enterprises                           :    0  \n",
       " management skills systems & techniques:    0  \n",
       " human resources management            :    0  \n",
       " (Other)                               :    0  \n",
       " NA's                                  :14662  \n",
       "                                    a24r14     \n",
       " item not applicable                   :    0  \n",
       " business & management (general)       :    0  \n",
       " enterprises                           :    0  \n",
       " management skills systems & techniques:    0  \n",
       " human resources management            :    0  \n",
       " (Other)                               :    0  \n",
       " NA's                                  :14662  \n",
       "                                    a24r15     \n",
       " item not applicable                   :    0  \n",
       " business & management (general)       :    0  \n",
       " enterprises                           :    0  \n",
       " management skills systems & techniques:    0  \n",
       " human resources management            :    0  \n",
       " (Other)                               :    0  \n",
       " NA's                                  :14662  \n",
       "                                    a24r16     \n",
       " item not applicable                   :    0  \n",
       " business & management (general)       :    0  \n",
       " enterprises                           :    0  \n",
       " management skills systems & techniques:    0  \n",
       " human resources management            :    0  \n",
       " (Other)                               :    0  \n",
       " NA's                                  :14662  \n",
       "                                    a24r17     \n",
       " item not applicable                   :    0  \n",
       " business & management (general)       :    0  \n",
       " enterprises                           :    0  \n",
       " management skills systems & techniques:    0  \n",
       " human resources management            :    0  \n",
       " (Other)                               :    0  \n",
       " NA's                                  :14662  \n",
       "                                    a24r18         a24rsc1         a24rsc11    \n",
       " item not applicable                   :    0   Min.   :1.000   Min.   :0.000  \n",
       " business & management (general)       :    0   1st Qu.:1.000   1st Qu.:0.000  \n",
       " enterprises                           :    0   Median :1.000   Median :0.000  \n",
       " management skills systems & techniques:    0   Mean   :1.098   Mean   :0.242  \n",
       " human resources management            :    0   3rd Qu.:1.000   3rd Qu.:0.000  \n",
       " (Other)                               :    0   Max.   :3.000   Max.   :1.000  \n",
       " NA's                                  :14662   NA's   :14398   NA's   :14398  \n",
       "    a24rsc12        a24rsc13        a24rsc18        a24rsc19    \n",
       " Min.   :0.000   Min.   :0.000   Min.   :0.000   Min.   :0      \n",
       " 1st Qu.:0.000   1st Qu.:0.000   1st Qu.:0.000   1st Qu.:0      \n",
       " Median :0.000   Median :0.000   Median :1.000   Median :0      \n",
       " Mean   :0.205   Mean   :0.068   Mean   :0.583   Mean   :0      \n",
       " 3rd Qu.:0.000   3rd Qu.:0.000   3rd Qu.:1.000   3rd Qu.:0      \n",
       " Max.   :1.000   Max.   :1.000   Max.   :1.000   Max.   :0      \n",
       " NA's   :14398   NA's   :14398   NA's   :14398   NA's   :14398  \n",
       "   a24rsa2                                                     a24r21     \n",
       " Length:14662       office and secretarial skills                 :   10  \n",
       " Class :character   information technology & computer applications:    7  \n",
       " Mode  :character   business & management (general)               :    6  \n",
       "                    not stated                                    :    3  \n",
       "                    public administration                         :    1  \n",
       "                    (Other)                                       :    3  \n",
       "                    NA's                                          :14632  \n",
       "                                    a24r22     \n",
       " office and secretarial skills         :    1  \n",
       " item not applicable                   :    0  \n",
       " business & management (general)       :    0  \n",
       " enterprises                           :    0  \n",
       " management skills systems & techniques:    0  \n",
       " (Other)                               :    0  \n",
       " NA's                                  :14661  \n",
       "                                    a24r23     \n",
       " item not applicable                   :    0  \n",
       " business & management (general)       :    0  \n",
       " enterprises                           :    0  \n",
       " management skills systems & techniques:    0  \n",
       " human resources management            :    0  \n",
       " (Other)                               :    0  \n",
       " NA's                                  :14662  \n",
       "                                    a24r24     \n",
       " item not applicable                   :    0  \n",
       " business & management (general)       :    0  \n",
       " enterprises                           :    0  \n",
       " management skills systems & techniques:    0  \n",
       " human resources management            :    0  \n",
       " (Other)                               :    0  \n",
       " NA's                                  :14662  \n",
       "                                    a24r25     \n",
       " item not applicable                   :    0  \n",
       " business & management (general)       :    0  \n",
       " enterprises                           :    0  \n",
       " management skills systems & techniques:    0  \n",
       " human resources management            :    0  \n",
       " (Other)                               :    0  \n",
       " NA's                                  :14662  \n",
       "                                    a24r26     \n",
       " item not applicable                   :    0  \n",
       " business & management (general)       :    0  \n",
       " enterprises                           :    0  \n",
       " management skills systems & techniques:    0  \n",
       " human resources management            :    0  \n",
       " (Other)                               :    0  \n",
       " NA's                                  :14662  \n",
       "                                    a24r27     \n",
       " item not applicable                   :    0  \n",
       " business & management (general)       :    0  \n",
       " enterprises                           :    0  \n",
       " management skills systems & techniques:    0  \n",
       " human resources management            :    0  \n",
       " (Other)                               :    0  \n",
       " NA's                                  :14662  \n",
       "                                    a24r28         a24rsc2         a24rsc21    \n",
       " item not applicable                   :    0   Min.   :1.000   Min.   :0.000  \n",
       " business & management (general)       :    0   1st Qu.:1.000   1st Qu.:0.000  \n",
       " enterprises                           :    0   Median :1.000   Median :0.000  \n",
       " management skills systems & techniques:    0   Mean   :1.036   Mean   :0.071  \n",
       " human resources management            :    0   3rd Qu.:1.000   3rd Qu.:0.000  \n",
       " (Other)                               :    0   Max.   :2.000   Max.   :1.000  \n",
       " NA's                                  :14662   NA's   :14634   NA's   :14634  \n",
       "    a24rsc22        a24rsc23        a24rsc28        a24rsc29    \n",
       " Min.   :0.000   Min.   :0.000   Min.   :0.000   Min.   :0      \n",
       " 1st Qu.:0.000   1st Qu.:0.000   1st Qu.:0.000   1st Qu.:0      \n",
       " Median :0.000   Median :0.000   Median :1.000   Median :0      \n",
       " Mean   :0.214   Mean   :0.071   Mean   :0.679   Mean   :0      \n",
       " 3rd Qu.:0.000   3rd Qu.:0.000   3rd Qu.:1.000   3rd Qu.:0      \n",
       " Max.   :1.000   Max.   :1.000   Max.   :1.000   Max.   :0      \n",
       " NA's   :14634   NA's   :14634   NA's   :14634   NA's   :14634  \n",
       "   a24rsa3         \n",
       " Length:14662      \n",
       " Class :character  \n",
       " Mode  :character  \n",
       "                   \n",
       "                   \n",
       "                   \n",
       "                   \n",
       "                                                          a24r31     \n",
       " office and secretarial skills                               :    5  \n",
       " business & management (general)                             :    2  \n",
       " information technology & computer applications              :    2  \n",
       " insufficient info                                           :    1  \n",
       " other - includes child development, hairdressing and beauty :    1  \n",
       " (Other)                                                     :    0  \n",
       " NA's                                                        :14651  \n",
       "                                    a24r32     \n",
       " financial management & accounting     :    1  \n",
       " item not applicable                   :    0  \n",
       " business & management (general)       :    0  \n",
       " enterprises                           :    0  \n",
       " management skills systems & techniques:    0  \n",
       " (Other)                               :    0  \n",
       " NA's                                  :14661  \n",
       "                                    a24r33     \n",
       " item not applicable                   :    0  \n",
       " business & management (general)       :    0  \n",
       " enterprises                           :    0  \n",
       " management skills systems & techniques:    0  \n",
       " human resources management            :    0  \n",
       " (Other)                               :    0  \n",
       " NA's                                  :14662  \n",
       "                                    a24r34     \n",
       " item not applicable                   :    0  \n",
       " business & management (general)       :    0  \n",
       " enterprises                           :    0  \n",
       " management skills systems & techniques:    0  \n",
       " human resources management            :    0  \n",
       " (Other)                               :    0  \n",
       " NA's                                  :14662  \n",
       "                                    a24r35     \n",
       " item not applicable                   :    0  \n",
       " business & management (general)       :    0  \n",
       " enterprises                           :    0  \n",
       " management skills systems & techniques:    0  \n",
       " human resources management            :    0  \n",
       " (Other)                               :    0  \n",
       " NA's                                  :14662  \n",
       "                                    a24r36     \n",
       " item not applicable                   :    0  \n",
       " business & management (general)       :    0  \n",
       " enterprises                           :    0  \n",
       " management skills systems & techniques:    0  \n",
       " human resources management            :    0  \n",
       " (Other)                               :    0  \n",
       " NA's                                  :14662  \n",
       "                                    a24r37     \n",
       " item not applicable                   :    0  \n",
       " business & management (general)       :    0  \n",
       " enterprises                           :    0  \n",
       " management skills systems & techniques:    0  \n",
       " human resources management            :    0  \n",
       " (Other)                               :    0  \n",
       " NA's                                  :14662  \n",
       "                                    a24r38         a24rsc3         a24rsc31    \n",
       " item not applicable                   :    0   Min.   :1       Min.   :0      \n",
       " business & management (general)       :    0   1st Qu.:1       1st Qu.:0      \n",
       " enterprises                           :    0   Median :1       Median :0      \n",
       " management skills systems & techniques:    0   Mean   :1       Mean   :0      \n",
       " human resources management            :    0   3rd Qu.:1       3rd Qu.:0      \n",
       " (Other)                               :    0   Max.   :1       Max.   :0      \n",
       " NA's                                  :14662   NA's   :14651   NA's   :14651  \n",
       "    a24rsc32        a24rsc33        a24rsc38       a24rsa4         \n",
       " Min.   :0       Min.   :0.000   Min.   :0.000   Length:14662      \n",
       " 1st Qu.:0       1st Qu.:0.000   1st Qu.:1.000   Class :character  \n",
       " Median :0       Median :0.000   Median :1.000   Mode  :character  \n",
       " Mean   :0       Mean   :0.182   Mean   :0.818                     \n",
       " 3rd Qu.:0       3rd Qu.:0.000   3rd Qu.:1.000                     \n",
       " Max.   :0       Max.   :1.000   Max.   :1.000                     \n",
       " NA's   :14651   NA's   :14651   NA's   :14651                     \n",
       "                                            a24r41     \n",
       " information technology & computer applications:   48  \n",
       " office and secretarial skills                 :   12  \n",
       " not stated                                    :    5  \n",
       " languages & language studies                  :    3  \n",
       " financial management & accounting             :    2  \n",
       " (Other)                                       :    4  \n",
       " NA's                                          :14588  \n",
       "                               a24r42     \n",
       " financial management & accounting:    1  \n",
       " languages & language studies     :    1  \n",
       " item not applicable              :    0  \n",
       " business & management (general)  :    0  \n",
       " enterprises                      :    0  \n",
       " (Other)                          :    0  \n",
       " NA's                             :14660  \n",
       "                                    a24r43     \n",
       " item not applicable                   :    0  \n",
       " business & management (general)       :    0  \n",
       " enterprises                           :    0  \n",
       " management skills systems & techniques:    0  \n",
       " human resources management            :    0  \n",
       " (Other)                               :    0  \n",
       " NA's                                  :14662  \n",
       "                                    a24r44     \n",
       " item not applicable                   :    0  \n",
       " business & management (general)       :    0  \n",
       " enterprises                           :    0  \n",
       " management skills systems & techniques:    0  \n",
       " human resources management            :    0  \n",
       " (Other)                               :    0  \n",
       " NA's                                  :14662  \n",
       "                                    a24r45     \n",
       " item not applicable                   :    0  \n",
       " business & management (general)       :    0  \n",
       " enterprises                           :    0  \n",
       " management skills systems & techniques:    0  \n",
       " human resources management            :    0  \n",
       " (Other)                               :    0  \n",
       " NA's                                  :14662  \n",
       "                                    a24r46     \n",
       " item not applicable                   :    0  \n",
       " business & management (general)       :    0  \n",
       " enterprises                           :    0  \n",
       " management skills systems & techniques:    0  \n",
       " human resources management            :    0  \n",
       " (Other)                               :    0  \n",
       " NA's                                  :14662  \n",
       "                                    a24r47     \n",
       " item not applicable                   :    0  \n",
       " business & management (general)       :    0  \n",
       " enterprises                           :    0  \n",
       " management skills systems & techniques:    0  \n",
       " human resources management            :    0  \n",
       " (Other)                               :    0  \n",
       " NA's                                  :14662  \n",
       "                                    a24r48         a24rsc4         a24rsc41    \n",
       " item not applicable                   :    0   Min.   :1.000   Min.   :0.000  \n",
       " business & management (general)       :    0   1st Qu.:1.000   1st Qu.:0.000  \n",
       " enterprises                           :    0   Median :1.000   Median :0.000  \n",
       " management skills systems & techniques:    0   Mean   :1.091   Mean   :0.182  \n",
       " human resources management            :    0   3rd Qu.:1.000   3rd Qu.:0.000  \n",
       " (Other)                               :    0   Max.   :2.000   Max.   :1.000  \n",
       " NA's                                  :14662   NA's   :14596   NA's   :14596  \n",
       "    a24rsc42        a24rsc43        a24rsc48        a24rsc49    \n",
       " Min.   :0.000   Min.   :0.000   Min.   :0.000   Min.   :0      \n",
       " 1st Qu.:0.000   1st Qu.:0.000   1st Qu.:0.000   1st Qu.:0      \n",
       " Median :0.000   Median :0.000   Median :1.000   Median :0      \n",
       " Mean   :0.136   Mean   :0.045   Mean   :0.727   Mean   :0      \n",
       " 3rd Qu.:0.000   3rd Qu.:0.000   3rd Qu.:1.000   3rd Qu.:0      \n",
       " Max.   :1.000   Max.   :1.000   Max.   :1.000   Max.   :0      \n",
       " NA's   :14596   NA's   :14596   NA's   :14596   NA's   :14596  \n",
       "                                                          a24oq1     \n",
       " other qualification: band not known, i.e. all other courses :   84  \n",
       " other band c n.e.c. at nvq level not stated                 :   37  \n",
       " professional qualifications (further education codes 501-999:   22  \n",
       " qualification not stated                                    :   17  \n",
       " unclear/uncodeable                                          :   14  \n",
       " (Other)                                                     :   26  \n",
       " NA's                                                        :14462  \n",
       "                                                          a24o11     \n",
       " information technology & computer applications              :   29  \n",
       " other - includes child development, hairdressing and beauty :   29  \n",
       " nursing                                                     :   17  \n",
       " sports studies & combined sports                            :   12  \n",
       " languages & language studies                                :   11  \n",
       " (Other)                                                     :  102  \n",
       " NA's                                                        :14462  \n",
       "                             a24o12     \n",
       " history                        :    1  \n",
       " science & technology (general) :    1  \n",
       " item not applicable            :    0  \n",
       " business & management (general):    0  \n",
       " enterprises                    :    0  \n",
       " (Other)                        :    0  \n",
       " NA's                           :14660  \n",
       "                                                          a24o13     \n",
       " mathematics                                                 :    1  \n",
       " other - includes child development, hairdressing and beauty :    1  \n",
       " item not applicable                                         :    0  \n",
       " business & management (general)                             :    0  \n",
       " enterprises                                                 :    0  \n",
       " (Other)                                                     :    0  \n",
       " NA's                                                        :14660  \n",
       "                                    a24o14     \n",
       " electrical engineering                :    1  \n",
       " item not applicable                   :    0  \n",
       " business & management (general)       :    0  \n",
       " enterprises                           :    0  \n",
       " management skills systems & techniques:    0  \n",
       " (Other)                               :    0  \n",
       " NA's                                  :14661  \n",
       "                                    a24o15     \n",
       " item not applicable                   :    0  \n",
       " business & management (general)       :    0  \n",
       " enterprises                           :    0  \n",
       " management skills systems & techniques:    0  \n",
       " human resources management            :    0  \n",
       " (Other)                               :    0  \n",
       " NA's                                  :14662  \n",
       "                                    a24o16     \n",
       " item not applicable                   :    0  \n",
       " business & management (general)       :    0  \n",
       " enterprises                           :    0  \n",
       " management skills systems & techniques:    0  \n",
       " human resources management            :    0  \n",
       " (Other)                               :    0  \n",
       " NA's                                  :14662  \n",
       "                                    a24o17     \n",
       " item not applicable                   :    0  \n",
       " business & management (general)       :    0  \n",
       " enterprises                           :    0  \n",
       " management skills systems & techniques:    0  \n",
       " human resources management            :    0  \n",
       " (Other)                               :    0  \n",
       " NA's                                  :14662  \n",
       "                                    a24o18                      a24ol1     \n",
       " item not applicable                   :    0   item not applicable:    0  \n",
       " business & management (general)       :    0   level 1            :   10  \n",
       " enterprises                           :    0   level 2            :    9  \n",
       " management skills systems & techniques:    0   level 3            :    7  \n",
       " human resources management            :    0   not sure           :  137  \n",
       " (Other)                               :    0   not answered       :   37  \n",
       " NA's                                  :14662   NA's               :14462  \n",
       "                                                          a24oq2     \n",
       " other qualification: band not known, i.e. all other courses :    7  \n",
       " unclear/uncodeable                                          :    2  \n",
       " nvq (not rsa, btec or c & g) level 4                        :    1  \n",
       " professional qualifications (further education codes 501-999:    1  \n",
       " no qualification                                            :    1  \n",
       " (Other)                                                     :    0  \n",
       " NA's                                                        :14650  \n",
       "                             a24o21     \n",
       " dance                          :    2  \n",
       " business & management (general):    1  \n",
       " office and secretarial skills  :    1  \n",
       " fabric crafts                  :    1  \n",
       " history                        :    1  \n",
       " (Other)                        :    6  \n",
       " NA's                           :14650  \n",
       "                                    a24o22     \n",
       " languages & language studies          :    1  \n",
       " item not applicable                   :    0  \n",
       " business & management (general)       :    0  \n",
       " enterprises                           :    0  \n",
       " management skills systems & techniques:    0  \n",
       " (Other)                               :    0  \n",
       " NA's                                  :14661  \n",
       "                                    a24o23     \n",
       " languages & language studies          :    1  \n",
       " item not applicable                   :    0  \n",
       " business & management (general)       :    0  \n",
       " enterprises                           :    0  \n",
       " management skills systems & techniques:    0  \n",
       " (Other)                               :    0  \n",
       " NA's                                  :14661  \n",
       "                                    a24o24     \n",
       " item not applicable                   :    0  \n",
       " business & management (general)       :    0  \n",
       " enterprises                           :    0  \n",
       " management skills systems & techniques:    0  \n",
       " human resources management            :    0  \n",
       " (Other)                               :    0  \n",
       " NA's                                  :14662  \n",
       "                                    a24o25     \n",
       " item not applicable                   :    0  \n",
       " business & management (general)       :    0  \n",
       " enterprises                           :    0  \n",
       " management skills systems & techniques:    0  \n",
       " human resources management            :    0  \n",
       " (Other)                               :    0  \n",
       " NA's                                  :14662  \n",
       "                                    a24o26     \n",
       " item not applicable                   :    0  \n",
       " business & management (general)       :    0  \n",
       " enterprises                           :    0  \n",
       " management skills systems & techniques:    0  \n",
       " human resources management            :    0  \n",
       " (Other)                               :    0  \n",
       " NA's                                  :14662  \n",
       "                                    a24o27     \n",
       " item not applicable                   :    0  \n",
       " business & management (general)       :    0  \n",
       " enterprises                           :    0  \n",
       " management skills systems & techniques:    0  \n",
       " human resources management            :    0  \n",
       " (Other)                               :    0  \n",
       " NA's                                  :14662  \n",
       "                                    a24o28                      a24ol2     \n",
       " item not applicable                   :    0   item not applicable:    0  \n",
       " business & management (general)       :    0   level 1            :    0  \n",
       " enterprises                           :    0   level 2            :    1  \n",
       " management skills systems & techniques:    0   level 3            :    0  \n",
       " human resources management            :    0   not sure           :    8  \n",
       " (Other)                               :    0   not answered       :    3  \n",
       " NA's                                  :14662   NA's               :14650  \n",
       "                                                          a24oq3     \n",
       " other qualification: band not known, i.e. all other courses :    3  \n",
       " no qualification                                            :    1  \n",
       " qualification not stated                                    :    1  \n",
       " item not applicable                                         :    0  \n",
       " part 1 gnvq foundation                                      :    0  \n",
       " (Other)                                                     :    0  \n",
       " NA's                                                        :14657  \n",
       "                             a24o31     \n",
       " business & management (general):    1  \n",
       " office and secretarial skills  :    1  \n",
       " dance                          :    1  \n",
       " theatre & dramatic arts        :    1  \n",
       " music performance              :    1  \n",
       " (Other)                        :    0  \n",
       " NA's                           :14657  \n",
       "                                    a24o32     \n",
       " item not applicable                   :    0  \n",
       " business & management (general)       :    0  \n",
       " enterprises                           :    0  \n",
       " management skills systems & techniques:    0  \n",
       " human resources management            :    0  \n",
       " (Other)                               :    0  \n",
       " NA's                                  :14662  \n",
       "                                    a24o33     \n",
       " item not applicable                   :    0  \n",
       " business & management (general)       :    0  \n",
       " enterprises                           :    0  \n",
       " management skills systems & techniques:    0  \n",
       " human resources management            :    0  \n",
       " (Other)                               :    0  \n",
       " NA's                                  :14662  \n",
       "                                    a24o34     \n",
       " item not applicable                   :    0  \n",
       " business & management (general)       :    0  \n",
       " enterprises                           :    0  \n",
       " management skills systems & techniques:    0  \n",
       " human resources management            :    0  \n",
       " (Other)                               :    0  \n",
       " NA's                                  :14662  \n",
       "                                    a24o35     \n",
       " item not applicable                   :    0  \n",
       " business & management (general)       :    0  \n",
       " enterprises                           :    0  \n",
       " management skills systems & techniques:    0  \n",
       " human resources management            :    0  \n",
       " (Other)                               :    0  \n",
       " NA's                                  :14662  \n",
       "                                    a24o36     \n",
       " item not applicable                   :    0  \n",
       " business & management (general)       :    0  \n",
       " enterprises                           :    0  \n",
       " management skills systems & techniques:    0  \n",
       " human resources management            :    0  \n",
       " (Other)                               :    0  \n",
       " NA's                                  :14662  \n",
       "                                    a24o37     \n",
       " item not applicable                   :    0  \n",
       " business & management (general)       :    0  \n",
       " enterprises                           :    0  \n",
       " management skills systems & techniques:    0  \n",
       " human resources management            :    0  \n",
       " (Other)                               :    0  \n",
       " NA's                                  :14662  \n",
       "                                    a24o38                      a24ol3     \n",
       " item not applicable                   :    0   item not applicable:    0  \n",
       " business & management (general)       :    0   level 1            :    0  \n",
       " enterprises                           :    0   level 2            :    0  \n",
       " management skills systems & techniques:    0   level 3            :    0  \n",
       " human resources management            :    0   not sure           :    3  \n",
       " (Other)                               :    0   not answered       :    2  \n",
       " NA's                                  :14662   NA's               :14657  \n",
       "                  a25                         a26            a27      \n",
       " not answered (9)   :    0   not answered (9)   :   0   sep    :1127  \n",
       " item not applicable:    0   item not applicable:   0   jul    : 780  \n",
       " yes                :10232   yes                :7853   aug    : 737  \n",
       " no                 : 4272   no                 :2364   jun    : 729  \n",
       " NA's               :  158   NA's               :4445   oct    : 723  \n",
       "                                                        (Other):3757  \n",
       "                                                        NA's   :6809  \n",
       "      a28                a30            a31                          a32      \n",
       " Min.   :102    1-9        :2119   Min.   : 0.000   not answered (9)   :   0  \n",
       " 1st Qu.:621    10-24      :2024   1st Qu.: 0.000   item not applicable:   0  \n",
       " Median :720    100 or more:1442   Median : 4.000   employee           :7588  \n",
       " Mean   :704    25-49      :1289   Mean   : 4.304   self-employee      : 110  \n",
       " 3rd Qu.:792    50-99      : 833   3rd Qu.: 7.000   NA's               :6964  \n",
       " Max.   :998    (Other)    :   0   Max.   :18.000                             \n",
       " NA's   :6818   NA's       :6955                                              \n",
       "                  a33                        a34           a35_1       \n",
       " not answered (9)   :   0   not answered (9)   :   0   Min.   :  1.00  \n",
       " item not applicable:   0   item not applicable:   0   1st Qu.: 25.00  \n",
       " permanent          :5006   yes                :1133   Median : 40.00  \n",
       " temporary          :1816   no                 :6181   Mean   : 52.61  \n",
       " not sure           : 936   not sure           : 458   3rd Qu.: 65.00  \n",
       " NA's               :6904   NA's               :6890   Max.   :450.00  \n",
       "                                                       NA's   :9489    \n",
       "     a35_2            a35              a36       \n",
       " Min.   : 12.0   Min.   :  2.77   Min.   : 1.00  \n",
       " 1st Qu.:100.0   1st Qu.: 23.08   1st Qu.: 8.00  \n",
       " Median :160.0   Median : 36.92   Median :14.00  \n",
       " Mean   :212.2   Mean   : 48.97   Mean   :20.04  \n",
       " 3rd Qu.:280.0   3rd Qu.: 64.62   3rd Qu.:36.00  \n",
       " Max.   :900.0   Max.   :207.69   Max.   :80.00  \n",
       " NA's   :12454   NA's   :12454    NA's   :7112   \n",
       "                                  a37           a37a_1           a37a_2      \n",
       " not answered (9)                   :   0   Min.   :  5.00   Min.   : 39.97  \n",
       " item not applicable                :   0   1st Qu.: 37.12   1st Qu.:140.00  \n",
       " one job or training place          :7149   Median : 51.50   Median :200.00  \n",
       " more than one job or training place: 526   Mean   : 67.88   Mean   :232.00  \n",
       " NA's                               :6987   3rd Qu.: 80.00   3rd Qu.:300.00  \n",
       "                                            Max.   :300.00   Max.   :666.21  \n",
       "                                            NA's   :14336    NA's   :14499   \n",
       "      a37a             a37b                        a38      \n",
       " Min.   :  9.22   Min.   : 1.00   not answered (9)   :   0  \n",
       " 1st Qu.: 32.31   1st Qu.:12.00   item not applicable:   0  \n",
       " Median : 46.15   Median :16.00   yes                :1929  \n",
       " Mean   : 53.54   Mean   :20.66   no                 :4899  \n",
       " 3rd Qu.: 69.23   3rd Qu.:27.00   not sure           : 863  \n",
       " Max.   :153.74   Max.   :60.00   NA's               :6971  \n",
       " NA's   :14499    NA's   :14201                             \n",
       "                              a38_2                        a39a     \n",
       " not answered (9)                :    0   not answered (9)   :   0  \n",
       " item not applicable             :    0   item not applicable:   0  \n",
       " yes                             : 1734   yes                :1166  \n",
       " no                              :  106   no                 :5828  \n",
       " i have not received any training:   21   not sure           : 660  \n",
       " my training has not yet started :   61   NA's               :7008  \n",
       " NA's                            :12740                             \n",
       "                         a39b                        a40       \n",
       " modern apprenticeship (ma):  544   not answered (9)   :    0  \n",
       " youth training (yt)       :  420   item not applicable:    0  \n",
       " national trainee (ntr)    :   49   yes                :  955  \n",
       " unclear                   :   31   no                 :  156  \n",
       " other                     :   21   NA's               :13551  \n",
       " (Other)                   :   65                              \n",
       " NA's                      :13532                              \n",
       "                      a41                         a42       \n",
       " not answered (9)       :    0   not answered (9)   :    0  \n",
       " item not applicable    :    0   item not applicable:    0  \n",
       " a full-time job        :  998   yes                :   18  \n",
       " a part-time job        :   58   no                 :   48  \n",
       " it is not part of a job:   68   NA's               :14596  \n",
       " NA's                   :13538                              \n",
       "                                                            \n",
       "                  a43                        a44_1     \n",
       " not answered (9)   :    0   not answered (9)   :   0  \n",
       " item not applicable:    0   item not applicable:   0  \n",
       " yes                :  746   yes                :3668  \n",
       " no                 :  291   no                 :4019  \n",
       " NA's               :13625   NA's               :6975  \n",
       "                                                       \n",
       "                                                       \n",
       "                 a44_2                       a45_1     \n",
       " not answered (9)   :    0   not answered (9)   :   0  \n",
       " item not applicable:    0   item not applicable:   0  \n",
       " yes                : 2081   yes                :1174  \n",
       " no                 : 1564   no                 :6484  \n",
       " NA's               :11017   NA's               :7004  \n",
       "                                                       \n",
       "                                                       \n",
       "                 a45_2                       a46             a47       \n",
       " not answered (9)   :   0   not answered (9)   :    0   Min.   :1.000  \n",
       " item not applicable:   0   item not applicable:    0   1st Qu.:1.000  \n",
       " yes                : 348   yes                :  661   Median :1.000  \n",
       " no                 :5847   no                 :  474   Mean   :1.049  \n",
       " NA's               :8467   NA's               :13527   3rd Qu.:1.000  \n",
       "                                                        Max.   :3.000  \n",
       "                                                        NA's   :13559  \n",
       "      a471            a472            a473            a474      \n",
       " Min.   :0.000   Min.   :0.000   Min.   :0.000   Min.   :0.000  \n",
       " 1st Qu.:0.000   1st Qu.:0.000   1st Qu.:0.000   1st Qu.:0.000  \n",
       " Median :0.000   Median :0.000   Median :0.000   Median :0.000  \n",
       " Mean   :0.334   Mean   :0.032   Mean   :0.129   Mean   :0.336  \n",
       " 3rd Qu.:1.000   3rd Qu.:0.000   3rd Qu.:0.000   3rd Qu.:1.000  \n",
       " Max.   :1.000   Max.   :1.000   Max.   :1.000   Max.   :1.000  \n",
       " NA's   :13559   NA's   :13559   NA's   :13559   NA's   :13559  \n",
       "      a475                       a48_1           a48_2       \n",
       " Min.   :0.000   not answered (9)   :    0   Min.   : 1.000  \n",
       " 1st Qu.:0.000   item not applicable:    0   1st Qu.: 4.000  \n",
       " Median :0.000   yes                :  503   Median : 4.000  \n",
       " Mean   :0.218   no                 :  636   Mean   : 3.678  \n",
       " 3rd Qu.:0.000   NA's               :13523   3rd Qu.: 4.000  \n",
       " Max.   :1.000                               Max.   :10.000  \n",
       " NA's   :13559                               NA's   :14181   \n",
       "                 a49_1           a49_2a          a49_2b     \n",
       " not answered (9)   :    0   Min.   :1.000   Min.   : 1.00  \n",
       " item not applicable:    0   1st Qu.:1.000   1st Qu.: 5.00  \n",
       " yes                :  182   Median :1.000   Median :12.00  \n",
       " no                 :  940   Mean   :2.371   Mean   :13.68  \n",
       " NA's               :13540   3rd Qu.:4.000   3rd Qu.:20.00  \n",
       "                             Max.   :8.000   Max.   :52.00  \n",
       "                             NA's   :14600   NA's   :14556  \n",
       "                  a50                            a51       \n",
       " not answered (9)   :    0   not answered (9)      :    0  \n",
       " item not applicable:    0   item not applicable   :    0  \n",
       " excellent          :  329   too much              :   31  \n",
       " good               :  596   not enough            :  169  \n",
       " fair               :  172   about the right amount:  923  \n",
       " poor               :   29   NA's                  :13539  \n",
       " NA's               :13536                                 \n",
       "                                        a52                        a52a     \n",
       " not answered (9)                         :   0   not answered (9)   :   0  \n",
       " item not applicable                      :   0   item not applicable:   0  \n",
       " yes full-time work (over 30 hours a week):2294   yes                : 340  \n",
       " yes part-time work                       :5439   no                 :5177  \n",
       " yes an occasional job                    : 776   NA's               :9145  \n",
       " no                                       :5947                             \n",
       " NA's                                     : 206                             \n",
       "                  a52b                       a52c     \n",
       " not answered (9)   :   0   not answered (9)   :   0  \n",
       " item not applicable:   0   item not applicable:   0  \n",
       " yes                : 313   yes                : 391  \n",
       " no                 :5118   no                 :5081  \n",
       " NA's               :9231   NA's               :9190  \n",
       "                                                      \n",
       "                                                      \n",
       "                 a53_1                      a53_2      \n",
       " not answered (9)   :   0   not answered (9)   :    0  \n",
       " item not applicable:   0   item not applicable:    0  \n",
       " yes                :2011   yes                : 1738  \n",
       " no                 :3799   no                 :  251  \n",
       " NA's               :8852   NA's               :12673  \n",
       "                                                       \n",
       "                                                       \n",
       "                                                          a53_3      \n",
       " i am a full time student                                    : 3411  \n",
       " i am pregnant/looking after home/children/family            :   66  \n",
       " i believe there is nothing available                        :   61  \n",
       " other                                                       :   42  \n",
       " waiting to start a new job/government supported training/tra:   31  \n",
       " (Other)                                                     :  141  \n",
       " NA's                                                        :10910  \n",
       "      a54a            a54b                       a55_1           a55_2a      \n",
       " Min.   :  1.0   Min.   :  1.0   not answered (9)   :    0   Min.   :  1.05  \n",
       " 1st Qu.:100.0   1st Qu.: 80.0   item not applicable:    0   1st Qu.: 11.00  \n",
       " Median :140.0   Median :100.0   yes                :  670   Median : 12.76  \n",
       " Mean   :154.7   Mean   :118.3   no                 :13429   Mean   : 23.04  \n",
       " 3rd Qu.:180.0   3rd Qu.:140.0   NA's               :  563   3rd Qu.: 30.00  \n",
       " Max.   :900.0   Max.   :900.0                               Max.   :100.17  \n",
       " NA's   :12011   NA's   :11863                               NA's   :14253   \n",
       "     a55_2b           a55_2           a56_1              a56_2          \n",
       " Min.   :  1.00   Min.   :  0.50   Length:14662       Length:14662      \n",
       " 1st Qu.: 30.00   1st Qu.: 11.00   Class :character   Class :character  \n",
       " Median : 59.20   Median : 15.00   Mode  :character   Mode  :character  \n",
       " Mean   : 60.86   Mean   : 24.83                                        \n",
       " 3rd Qu.: 77.80   3rd Qu.: 34.70                                        \n",
       " Max.   :200.10   Max.   :100.17                                        \n",
       " NA's   :14531    NA's   :14122                                         \n",
       "    a56_3a              a56_3b     \n",
       " Length:14662       Min.   : 1.00  \n",
       " Class :character   1st Qu.: 1.00  \n",
       " Mode  :character   Median : 1.00  \n",
       "                    Mean   : 1.69  \n",
       "                    3rd Qu.: 2.00  \n",
       "                    Max.   :23.00  \n",
       "                    NA's   :3231   \n",
       "                                               a56_4a          a56_4b      \n",
       " other                                            :  452   Min.   : 1.000  \n",
       " grandparent(s)                                   :  381   1st Qu.: 1.000  \n",
       " spouse/partner (including boy/girlfriend, fianc0):  113   Median : 1.000  \n",
       " respondent's own child(ren)                      :   33   Mean   : 1.538  \n",
       " not answered (9)                                 :    0   3rd Qu.: 2.000  \n",
       " (Other)                                          :    0   Max.   :12.000  \n",
       " NA's                                             :13683   NA's   :13632   \n",
       "    a56_5                           a57fa                       a57ma     \n",
       " Length:14662       not answered (9)   :    0   not answered (9)   :   0  \n",
       " Class :character   item not applicable:    0   item not applicable:   0  \n",
       " Mode  :character   yes                :11423   yes                :7734  \n",
       "                    no                 : 2005   no                 :6189  \n",
       "                    NA's               : 1234   NA's               : 739  \n",
       "                                                                          \n",
       "                                                                          \n",
       "     a57fb         a57mb                       a57fe     \n",
       " Min.   :100   Min.   :101.0   not answered (9)   :   0  \n",
       " 1st Qu.:242   1st Qu.:400.0   item not applicable:   0  \n",
       " Median :532   Median :644.0   yes                :3332  \n",
       " Mean   :571   Mean   :621.5   no                 :9584  \n",
       " 3rd Qu.:889   3rd Qu.:958.0   NA's               :1746  \n",
       " Max.   :998   Max.   :998.0                             \n",
       " NA's   :7     NA's   :1                                 \n",
       "                 a57me                       a57ff     \n",
       " not answered (9)   :    0   not answered (9)   :   0  \n",
       " item not applicable:    0   item not applicable:   0  \n",
       " yes                : 1297   yes                :3320  \n",
       " no                 :11577   no                 :6510  \n",
       " NA's               : 1788   not sure           :3220  \n",
       "                             NA's               :1612  \n",
       "                                                       \n",
       "                 a57mf                      a57fg     \n",
       " not answered (9)   :   0   not answered (9)   :   0  \n",
       " item not applicable:   0   item not applicable:   0  \n",
       " yes                :3204   yes                :2629  \n",
       " no                 :7297   no                 :7787  \n",
       " not sure           :2838   not sure           :2629  \n",
       " NA's               :1323   NA's               :1617  \n",
       "                                                      \n",
       "                 a57mg                       a58       \n",
       " not answered (9)   :   0   white              :12993  \n",
       " item not applicable:   0   indian             :  436  \n",
       " yes                :1937   pakistani          :  280  \n",
       " no                 :8914   mixed ethnic origin:  126  \n",
       " not sure           :2458   bangladeshi        :  112  \n",
       " NA's               :1353   (Other)            :  544  \n",
       "                            NA's               :  171  \n",
       "                  a59       \n",
       " not answered (9)   :    0  \n",
       " item not applicable:    0  \n",
       " yes                :  577  \n",
       " no                 :13865  \n",
       " NA's               :  220  \n",
       "                            \n",
       "                            \n",
       "                                                           a60       \n",
       " owned by your parents or yourself                           :11671  \n",
       " rented from the council                                     : 1736  \n",
       " rented privately                                            :  433  \n",
       " rented from a housing association                           :  339  \n",
       " house/accommodation comes with the job (including police/arm:   93  \n",
       " (Other)                                                     :  114  \n",
       " NA's                                                        :  276  \n",
       "                             a61            a62             a621        \n",
       " never                         :9414   Min.   :1.000   Min.   :0.00000  \n",
       " for the odd day or lesson     :3710   1st Qu.:1.000   1st Qu.:0.00000  \n",
       " for particular days or lessons: 795   Median :1.000   Median :0.00000  \n",
       " for several days at a time    : 284   Mean   :1.002   Mean   :0.00648  \n",
       " for weeks at a time           : 246   3rd Qu.:1.000   3rd Qu.:0.00000  \n",
       " (Other)                       :   0   Max.   :2.000   Max.   :1.00000  \n",
       " NA's                          : 213   NA's   :146     NA's   :146      \n",
       "      a622            a623                        a63a     \n",
       " Min.   :0.000   Min.   :0.000   not answered (9)   :   0  \n",
       " 1st Qu.:0.000   1st Qu.:1.000   item not applicable:   0  \n",
       " Median :0.000   Median :1.000   agree              :3815  \n",
       " Mean   :0.058   Mean   :0.938   disagree           :4583  \n",
       " 3rd Qu.:0.000   3rd Qu.:1.000   don't know         :6100  \n",
       " Max.   :1.000   Max.   :1.000   NA's               : 164  \n",
       " NA's   :146     NA's   :146                               \n",
       "                  a63b                       a63c      \n",
       " not answered (9)   :   0   not answered (9)   :    0  \n",
       " item not applicable:   0   item not applicable:    0  \n",
       " agree              :5762   agree              : 1004  \n",
       " disagree           :5733   disagree           :12734  \n",
       " don't know         :2967   don't know         :  749  \n",
       " NA's               : 200   NA's               :  175  \n",
       "                                                       \n",
       "                  a63d                        a63e          change \n",
       " not answered (9)   :    0   not answered (9)   :   0   Min.   :0  \n",
       " item not applicable:    0   item not applicable:   0   1st Qu.:0  \n",
       " agree              :10738   agree              :9402   Median :0  \n",
       " disagree           : 1885   disagree           :3369   Mean   :0  \n",
       " don't know         : 1857   don't know         :1707   3rd Qu.:0  \n",
       " NA's               :  182   NA's               : 184   Max.   :0  \n",
       "                                                                   \n",
       "    change1          change2          change3          change4      \n",
       " Min.   :0.0000   Min.   :0.0000   Min.   :0.0000   Min.   :0.0000  \n",
       " 1st Qu.:0.0000   1st Qu.:0.0000   1st Qu.:0.0000   1st Qu.:1.0000  \n",
       " Median :1.0000   Median :0.0000   Median :1.0000   Median :1.0000  \n",
       " Mean   :0.6865   Mean   :0.3265   Mean   :0.6735   Mean   :0.8269  \n",
       " 3rd Qu.:1.0000   3rd Qu.:1.0000   3rd Qu.:1.0000   3rd Qu.:1.0000  \n",
       " Max.   :1.0000   Max.   :1.0000   Max.   :1.0000   Max.   :1.0000  \n",
       "                                                                    \n",
       "     s1wexp     s1wexp1          s1wexp2          s1wexp3      \n",
       " Min.   :0   Min.   :0.0000   Min.   :0.0000   Min.   :0.0000  \n",
       " 1st Qu.:0   1st Qu.:1.0000   1st Qu.:1.0000   1st Qu.:0.0000  \n",
       " Median :0   Median :1.0000   Median :1.0000   Median :0.0000  \n",
       " Mean   :0   Mean   :0.9437   Mean   :0.9134   Mean   :0.1851  \n",
       " 3rd Qu.:0   3rd Qu.:1.0000   3rd Qu.:1.0000   3rd Qu.:0.0000  \n",
       " Max.   :0   Max.   :1.0000   Max.   :1.0000   Max.   :1.0000  \n",
       "                                                               \n",
       "    s1wexp4          s1wexp5          s1wexp6           s1wexp7        \n",
       " Min.   :0.0000   Min.   :0.0000   Min.   :0.00000   Min.   :0.000000  \n",
       " 1st Qu.:0.0000   1st Qu.:0.0000   1st Qu.:0.00000   1st Qu.:0.000000  \n",
       " Median :0.0000   Median :0.0000   Median :0.00000   Median :0.000000  \n",
       " Mean   :0.4935   Mean   :0.2058   Mean   :0.02762   Mean   :0.001364  \n",
       " 3rd Qu.:1.0000   3rd Qu.:0.0000   3rd Qu.:0.00000   3rd Qu.:0.000000  \n",
       " Max.   :1.0000   Max.   :1.0000   Max.   :1.00000   Max.   :1.000000  \n",
       "                                                                       \n",
       "    s1wexp8           s1wexp9            s1nra       s1nra1      \n",
       " Min.   :0.00000   Min.   :0.00000   Min.   :0   Min.   :0.0000  \n",
       " 1st Qu.:0.00000   1st Qu.:0.00000   1st Qu.:0   1st Qu.:1.0000  \n",
       " Median :0.00000   Median :0.00000   Median :0   Median :1.0000  \n",
       " Mean   :0.05627   Mean   :0.08655   Mean   :0   Mean   :0.8776  \n",
       " 3rd Qu.:0.00000   3rd Qu.:0.00000   3rd Qu.:0   3rd Qu.:1.0000  \n",
       " Max.   :1.00000   Max.   :1.00000   Max.   :0   Max.   :1.0000  \n",
       "                                                                 \n",
       "     s1nra2          s1nra3           s1nra4           s1nra5       \n",
       " Min.   :0.000   Min.   :0.0000   Min.   :0.0000   Min.   :0.00000  \n",
       " 1st Qu.:0.000   1st Qu.:0.0000   1st Qu.:0.0000   1st Qu.:0.00000  \n",
       " Median :1.000   Median :0.0000   Median :0.0000   Median :0.00000  \n",
       " Mean   :0.627   Mean   :0.4314   Mean   :0.1711   Mean   :0.09637  \n",
       " 3rd Qu.:1.000   3rd Qu.:1.0000   3rd Qu.:0.0000   3rd Qu.:0.00000  \n",
       " Max.   :1.000   Max.   :1.0000   Max.   :1.0000   Max.   :1.00000  \n",
       "                                                                    \n",
       "     s1nra6            s1nra7            s1csown       s1csown1    \n",
       " Min.   :0.00000   Min.   :0.000000   Min.   :0     Min.   :0.000  \n",
       " 1st Qu.:0.00000   1st Qu.:0.000000   1st Qu.:0     1st Qu.:1.000  \n",
       " Median :0.00000   Median :0.000000   Median :0     Median :1.000  \n",
       " Mean   :0.01971   Mean   :0.006275   Mean   :0     Mean   :0.953  \n",
       " 3rd Qu.:0.00000   3rd Qu.:0.000000   3rd Qu.:0     3rd Qu.:1.000  \n",
       " Max.   :1.00000   Max.   :1.000000   Max.   :0     Max.   :1.000  \n",
       "                                      NA's   :701   NA's   :701    \n",
       "    s1csown2         s1csown3         s1csown4         s1csown5    \n",
       " Min.   :0.0000   Min.   :0.0000   Min.   :0.0000   Min.   :0.000  \n",
       " 1st Qu.:1.0000   1st Qu.:1.0000   1st Qu.:0.0000   1st Qu.:0.000  \n",
       " Median :1.0000   Median :1.0000   Median :0.0000   Median :0.000  \n",
       " Mean   :0.7984   Mean   :0.7973   Mean   :0.4499   Mean   :0.047  \n",
       " 3rd Qu.:1.0000   3rd Qu.:1.0000   3rd Qu.:1.0000   3rd Qu.:0.000  \n",
       " Max.   :1.0000   Max.   :1.0000   Max.   :1.0000   Max.   :1.000  \n",
       " NA's   :701      NA's   :701      NA's   :701      NA's   :701    \n",
       "     s1csgp       s1csgp1          s1csgp2          s1csgp3      \n",
       " Min.   :0     Min.   :0.0000   Min.   :0.0000   Min.   :0.0000  \n",
       " 1st Qu.:0     1st Qu.:0.0000   1st Qu.:0.0000   1st Qu.:0.0000  \n",
       " Median :0     Median :1.0000   Median :1.0000   Median :1.0000  \n",
       " Mean   :0     Mean   :0.6324   Mean   :0.5189   Mean   :0.5123  \n",
       " 3rd Qu.:0     3rd Qu.:1.0000   3rd Qu.:1.0000   3rd Qu.:1.0000  \n",
       " Max.   :0     Max.   :1.0000   Max.   :1.0000   Max.   :1.0000  \n",
       " NA's   :701   NA's   :701      NA's   :701      NA's   :701     \n",
       "    s1csgp4          s1csgp5           s1car       s1car1      \n",
       " Min.   :0.0000   Min.   :0.0000   Min.   :0   Min.   :0.0000  \n",
       " 1st Qu.:0.0000   1st Qu.:0.0000   1st Qu.:0   1st Qu.:1.0000  \n",
       " Median :0.0000   Median :0.0000   Median :0   Median :1.0000  \n",
       " Mean   :0.2583   Mean   :0.3676   Mean   :0   Mean   :0.8558  \n",
       " 3rd Qu.:1.0000   3rd Qu.:1.0000   3rd Qu.:0   3rd Qu.:1.0000  \n",
       " Max.   :1.0000   Max.   :1.0000   Max.   :0   Max.   :1.0000  \n",
       " NA's   :701      NA's   :701                                  \n",
       "     s1car2            s1car3           s1car4          s1car5       \n",
       " Min.   :0.00000   Min.   :0.0000   Min.   :0.000   Min.   :0.00000  \n",
       " 1st Qu.:0.00000   1st Qu.:0.0000   1st Qu.:0.000   1st Qu.:0.00000  \n",
       " Median :0.00000   Median :0.0000   Median :0.000   Median :0.00000  \n",
       " Mean   :0.06056   Mean   :0.4709   Mean   :0.263   Mean   :0.05995  \n",
       " 3rd Qu.:0.00000   3rd Qu.:1.0000   3rd Qu.:1.000   3rd Qu.:0.00000  \n",
       " Max.   :1.00000   Max.   :1.0000   Max.   :1.000   Max.   :1.00000  \n",
       "                                                                     \n",
       "     s1car6             s1car7           s1car9       \n",
       " Min.   :0.000000   Min.   :0.0000   Min.   :0.00000  \n",
       " 1st Qu.:0.000000   1st Qu.:0.0000   1st Qu.:0.00000  \n",
       " Median :0.000000   Median :0.0000   Median :0.00000  \n",
       " Mean   :0.001432   Mean   :0.1343   Mean   :0.00989  \n",
       " 3rd Qu.:0.000000   3rd Qu.:0.0000   3rd Qu.:0.00000  \n",
       " Max.   :1.000000   Max.   :1.0000   Max.   :1.00000  \n",
       "                                                      \n",
       "                     s1sch                         s1acqu         s1qstd \n",
       " state school (other)   :11114   5+ gcses!at a*-c     :8415   Min.   :0  \n",
       " state school (gm)      : 2495   1-4 gcses!at a*-c    :3709   1st Qu.:0  \n",
       " independent school     : 1053   5+ gcses!at d-g      :1451   Median :0  \n",
       " not answered (9)       :    0   none!reported        : 757   Mean   :0  \n",
       " schedule not obtained  :    0   1-4 gcses!at d-g     : 330   3rd Qu.:0  \n",
       " schedule not applicable:    0   schedule not obtained:   0   Max.   :0  \n",
       " (Other)                :    0   (Other)              :   0              \n",
       "    s1qstd01         s1qstd02         s1qstd03         s1qstd04     \n",
       " Min.   :0.0000   Min.   :0.0000   Min.   :0.0000   Min.   :0.0000  \n",
       " 1st Qu.:0.0000   1st Qu.:0.0000   1st Qu.:0.0000   1st Qu.:0.0000  \n",
       " Median :0.0000   Median :0.0000   Median :0.0000   Median :0.0000  \n",
       " Mean   :0.4772   Mean   :0.1382   Mean   :0.1529   Mean   :0.1087  \n",
       " 3rd Qu.:1.0000   3rd Qu.:0.0000   3rd Qu.:0.0000   3rd Qu.:0.0000  \n",
       " Max.   :1.0000   Max.   :1.0000   Max.   :1.0000   Max.   :1.0000  \n",
       "                                                                    \n",
       "    s1qstd05          s1qstd06          s1qstd07         s1qstd08       \n",
       " Min.   :0.00000   Min.   :0.00000   Min.   :0.0000   Min.   :0.000000  \n",
       " 1st Qu.:0.00000   1st Qu.:0.00000   1st Qu.:0.0000   1st Qu.:0.000000  \n",
       " Median :0.00000   Median :0.00000   Median :0.0000   Median :0.000000  \n",
       " Mean   :0.01241   Mean   :0.01446   Mean   :0.1075   Mean   :0.008116  \n",
       " 3rd Qu.:0.00000   3rd Qu.:0.00000   3rd Qu.:0.0000   3rd Qu.:0.000000  \n",
       " Max.   :1.00000   Max.   :1.00000   Max.   :1.0000   Max.   :1.000000  \n",
       "                                                                        \n",
       "    s1qstd09           s1qstd10     \n",
       " Min.   :0.000000   Min.   :0.0000  \n",
       " 1st Qu.:0.000000   1st Qu.:0.0000  \n",
       " Median :0.000000   Median :0.0000  \n",
       " Mean   :0.001364   Mean   :0.1768  \n",
       " 3rd Qu.:0.000000   3rd Qu.:0.0000  \n",
       " Max.   :1.000000   Max.   :1.0000  \n",
       "                                    \n",
       "                                         s1loced    \n",
       " state school                                :4884  \n",
       " cfe (state system)                          :3198  \n",
       " sixth form college (state system)           :1617  \n",
       " independent/private school                  : 860  \n",
       " institution not stated (difft. from year 11): 245  \n",
       " (Other)                                     : 202  \n",
       " NA's                                        :3656  \n",
       "                       s1act1          s1wtrn        s1wtrn1     \n",
       " ft education:            :10901   Min.   :0      Min.   :0.000  \n",
       " gst:                     : 1398   1st Qu.:0      1st Qu.:0.000  \n",
       " ft job:                  : 1182   Median :0      Median :0.000  \n",
       " out of work / unemployed::  604   Mean   :0      Mean   :0.175  \n",
       " pt job:                  :  332   3rd Qu.:0      3rd Qu.:0.000  \n",
       " doing something else:    :  154   Max.   :0      Max.   :1.000  \n",
       " (Other)                  :   91   NA's   :6693   NA's   :6693   \n",
       "    s1wtrn2         s1wtrn3         s1wtrn4         s1wtrn5     \n",
       " Min.   :0.000   Min.   :0.000   Min.   :0.000   Min.   :0.000  \n",
       " 1st Qu.:0.000   1st Qu.:0.000   1st Qu.:0.000   1st Qu.:0.000  \n",
       " Median :0.000   Median :0.000   Median :0.000   Median :0.000  \n",
       " Mean   :0.142   Mean   :0.261   Mean   :0.083   Mean   :0.063  \n",
       " 3rd Qu.:0.000   3rd Qu.:1.000   3rd Qu.:0.000   3rd Qu.:0.000  \n",
       " Max.   :1.000   Max.   :1.000   Max.   :1.000   Max.   :1.000  \n",
       " NA's   :6693    NA's   :6693    NA's   :6693    NA's   :6693   \n",
       "    s1wtrn6         s1wtrn7                                  s1gst      \n",
       " Min.   :0.000   Min.   :0.000   modern apprenticeship (ma)     :  535  \n",
       " 1st Qu.:0.000   1st Qu.:0.000   youth training (yt)            :  410  \n",
       " Median :0.000   Median :1.000   didn't answer question on type :  333  \n",
       " Mean   :0.023   Mean   :0.627   other training (write in below):   72  \n",
       " 3rd Qu.:0.000   3rd Qu.:1.000   national traineeship (ntr)     :   48  \n",
       " Max.   :1.000   Max.   :1.000   (Other)                        :    0  \n",
       " NA's   :6693    NA's   :6693    NA's                           :13264  \n",
       "      pseg       pseg1            pseg2            pseg3            pseg4      \n",
       " Min.   :0   Min.   :0.0000   Min.   :0.0000   Min.   :0.0000   Min.   :0.000  \n",
       " 1st Qu.:0   1st Qu.:0.0000   1st Qu.:0.0000   1st Qu.:0.0000   1st Qu.:0.000  \n",
       " Median :0   Median :0.0000   Median :0.0000   Median :0.0000   Median :0.000  \n",
       " Mean   :0   Mean   :0.2299   Mean   :0.2064   Mean   :0.3141   Mean   :0.108  \n",
       " 3rd Qu.:0   3rd Qu.:0.0000   3rd Qu.:0.0000   3rd Qu.:1.0000   3rd Qu.:0.000  \n",
       " Max.   :0   Max.   :1.0000   Max.   :1.0000   Max.   :1.0000   Max.   :1.000  \n",
       "                                                                               \n",
       "     pseg5             pseg6              pseg7            pseg8       \n",
       " Min.   :0.00000   Min.   :0.000000   Min.   :0.0000   Min.   :0.0000  \n",
       " 1st Qu.:0.00000   1st Qu.:0.000000   1st Qu.:0.0000   1st Qu.:0.0000  \n",
       " Median :0.00000   Median :0.000000   Median :0.0000   Median :0.0000  \n",
       " Mean   :0.03581   Mean   :0.003819   Mean   :0.1019   Mean   :0.4363  \n",
       " 3rd Qu.:0.00000   3rd Qu.:0.000000   3rd Qu.:0.0000   3rd Qu.:1.0000  \n",
       " Max.   :1.00000   Max.   :1.000000   Max.   :1.0000   Max.   :1.0000  \n",
       "                                                                       \n",
       "     pseg9                     s1acqe                             s1emplo    \n",
       " Min.   :0.000   5+ gcses at a*-c :8465   in job, but unknown if ft/pt:5169  \n",
       " 1st Qu.:0.000   1-4 gcses at a*-c:3676   gst                         :1398  \n",
       " Median :0.000   5+ gcses at d-g  :1448   ft job                      :1182  \n",
       " Mean   :0.458   none reported    : 745   pt job                      : 332  \n",
       " 3rd Qu.:1.000   1-4 gcses at d-g : 328   not answered (9)            :   0  \n",
       " Max.   :1.000   not answered (9) :   0   (Other)                     :   0  \n",
       "                 (Other)          :   0   NA's                        :6581  \n",
       "    s1ed_tr     s1ed_tr1         s1ed_tr2          s1ed_tr3       \n",
       " Min.   :0   Min.   :0.0000   Min.   :0.00000   Min.   :0.000000  \n",
       " 1st Qu.:0   1st Qu.:0.0000   1st Qu.:0.00000   1st Qu.:0.000000  \n",
       " Median :0   Median :1.0000   Median :0.00000   Median :0.000000  \n",
       " Mean   :0   Mean   :0.7435   Mean   :0.09535   Mean   :0.001569  \n",
       " 3rd Qu.:0   3rd Qu.:1.0000   3rd Qu.:0.00000   3rd Qu.:0.000000  \n",
       " Max.   :0   Max.   :1.0000   Max.   :1.00000   Max.   :1.000000  \n",
       "                                                                  \n",
       "    s1ed_tr4          s1ed_tr5          s1ed_tr6         s1ed_tr7     \n",
       " Min.   :0.00000   Min.   :0.00000   Min.   :0.0000   Min.   :0.0000  \n",
       " 1st Qu.:0.00000   1st Qu.:0.00000   1st Qu.:1.0000   1st Qu.:0.0000  \n",
       " Median :0.00000   Median :0.00000   Median :1.0000   Median :0.0000  \n",
       " Mean   :0.03424   Mean   :0.01514   Mean   :0.8882   Mean   :0.1118  \n",
       " 3rd Qu.:0.00000   3rd Qu.:0.00000   3rd Qu.:1.0000   3rd Qu.:0.0000  \n",
       " Max.   :1.00000   Max.   :1.00000   Max.   :1.0000   Max.   :1.0000  \n",
       "                                                                      \n",
       "                  s1ecact                     s1eth      \n",
       " ilo employed         :9146   white              :12993  \n",
       " econ. inactive       :3444   asian groups       : 1005  \n",
       " ilo unemployed       :1724   black groups       :  260  \n",
       " not answered (9)     :   0   mixed/!other groups:  220  \n",
       " schedule not obtained:   0   refused/ns         :  184  \n",
       " (Other)              :   0   not answered (9)   :    0  \n",
       " NA's                 : 348   (Other)            :    0  \n",
       "                     xq63a                          xq63b     \n",
       " not answered (9)       :   0   not answered (9)       :   0  \n",
       " schedule not obtained  :   0   schedule not obtained  :   0  \n",
       " schedule not applicable:   0   schedule not applicable:   0  \n",
       " item not applicable    :   0   item not applicable    :   0  \n",
       " agree                  :3815   agree                  :5762  \n",
       " disagree               :4583   disagree               :5733  \n",
       " NA's                   :6264   NA's                   :3167  \n",
       "                     xq63c                           xq63d      \n",
       " not answered (9)       :    0   not answered (9)       :    0  \n",
       " schedule not obtained  :    0   schedule not obtained  :    0  \n",
       " schedule not applicable:    0   schedule not applicable:    0  \n",
       " item not applicable    :    0   item not applicable    :    0  \n",
       " agree                  : 1004   agree                  :10738  \n",
       " disagree               :12734   disagree               : 1885  \n",
       " NA's                   :  924   NA's                   : 2039  \n",
       "                     xq63e     \n",
       " not answered (9)       :   0  \n",
       " schedule not obtained  :   0  \n",
       " schedule not applicable:   0  \n",
       " item not applicable    :   0  \n",
       " agree                  :9402  \n",
       " disagree               :3369  \n",
       " NA's                   :1891  \n",
       "                                            sic                    s1ssr     \n",
       " whole-!sale, retail, hotels, transp-!ort, etc:5042   other south east:3319  \n",
       " public, educn., health, other comm., etc     :1010   north west      :1778  \n",
       " manif-!acturing, elect-!ricity, etc          : 594   west midlands   :1595  \n",
       " private!hh or! unclass-!ifiable              : 403   greater london  :1572  \n",
       " finance, real eatate, etc                    : 354   south west      :1423  \n",
       " (Other)                                      : 450   yorks & humber  :1256  \n",
       " NA's                                         :6809   (Other)         :3719  \n",
       "                s1tec                     s1denom                   s1mret    \n",
       " kent              :  520   non denomiantional:10457   march 1998      :7245  \n",
       " devon and cornwall:  453   roman catholic    : 1451   april 1998      :5328  \n",
       " hampshire         :  436   church of england :  943   may 1998:       :1747  \n",
       " essex             :  434   other             :  851   june 1998       : 331  \n",
       " sussex            :  427   not applicable    :   51   unclear         :  11  \n",
       " (Other)           :11492   (Other)           :    9   not answered (9):   0  \n",
       " NA's              :  900   NA's              :  900   (Other)         :   0  \n",
       "                 s1agej                     s1ages    \n",
       " not answered (99)  :   0   not answered (99)  :   0  \n",
       " item not applicable:   0   item not applicable:   0  \n",
       " 16                 :9878   16                 :6081  \n",
       " 17                 :4784   17                 :8579  \n",
       " unclear            :   0   unclear            :   2  \n",
       "                                                      \n",
       "                                                      \n",
       "              s1leaua                                         s1voqu     \n",
       " cheshire (x)     :  716   none                                  :13261  \n",
       " dorset (x)       :  490   unknown level                         :  604  \n",
       " hampshire (x)    :  454   level 1                               :  406  \n",
       " essex (x)        :  432   level 2                               :  280  \n",
       " hertfordshire    :  335   level 1 (includes part one foundation):   46  \n",
       " staffordshire (x):  325   level 3                               :   35  \n",
       " (Other)          :11910   (Other)                               :   30  \n",
       "                                                          s1avqu    \n",
       " level 2 (gnvq/nvq full award or 5+ gcses at a-c or 1 a-level:8532  \n",
       " level 1 (gnvq/nvq full award of 4 gcses any grade)          :5053  \n",
       " level unknown                                               : 498  \n",
       " below level 1 (nvq/gnvq certain units only, gnvq part i, 1-3: 295  \n",
       " none                                                        : 246  \n",
       " level 3 (gnvq/nvq full award or 2+ a-levels)                :  35  \n",
       " (Other)                                                     :   3  \n",
       "                                                          s1peta    \n",
       " not answered (9)                                            :   0  \n",
       " item not applicable                                         :   0  \n",
       " 5+ gcses at a*-c/inter. gnvq and 1+ gcses at a*-c/part one i:8832  \n",
       " 1-4 gcses at a*-c/inter. gnvq/part one intermediate gnvq    :3579  \n",
       " 5+ gcses at d-g/found'n gnvq and 1+ gcse at d-g/part one fou:1311  \n",
       " 1-4 gcse at d-g/found'n gnvq/part one found'n gnvq          : 345  \n",
       " none                                                        : 595  \n",
       "     s1a_c            s1d_g                             s1acqno    \n",
       " Min.   : 0.000   Min.   : 0.000   2+ a level (or equiv)    :6584  \n",
       " 1st Qu.: 1.000   1st Qu.: 0.000   none/ns                  :6558  \n",
       " Median : 6.000   Median : 2.000   1-4 gcse                 : 911  \n",
       " Mean   : 5.298   Mean   : 2.847   1-1.5  a level (or equiv): 372  \n",
       " 3rd Qu.: 9.000   3rd Qu.: 5.000   other academic           : 106  \n",
       " Max.   :13.000   Max.   :12.000   5+ gcse                  :  90  \n",
       "                                   (Other)                  :  41  \n",
       "                                    s1voqno               s1voqe     \n",
       " none                                   :9193   none         :12768  \n",
       " level 2                                :1990   unknown level:  656  \n",
       " level 3                                :1980   level 2      :  576  \n",
       " level 1                                : 634   level 1      :  557  \n",
       " unknown level (full & some units)      : 610   level 3      :   97  \n",
       " level 2 (includes part one itermediate): 197   level 4      :    8  \n",
       " (Other)                                :  58   (Other)      :    0  \n",
       "                                                         s1hiqua    \n",
       " level 2 (gnvq/nvq full award or 5 gcses at a-c or 1 a level):8700  \n",
       " level 1(gnvq/nvq full award or 4 gcses any grade)           :4852  \n",
       " level unknown                                               : 463  \n",
       " less than level 1 (nvq/gnvq levels 1-4 certain units only, g: 289  \n",
       " none                                                        : 246  \n",
       " level 3 (gnvq/nvq full award or 2+ a levels)                : 104  \n",
       " (Other)                                                     :   8  \n",
       "    s1a_cs1          s1d_gs1           s1mce       s1mce1        \n",
       " Min.   : 0.000   Min.   : 0.000   Min.   :0   Min.   :0.000000  \n",
       " 1st Qu.: 2.000   1st Qu.: 0.000   1st Qu.:0   1st Qu.:0.000000  \n",
       " Median : 6.000   Median : 2.000   Median :0   Median :0.000000  \n",
       " Mean   : 5.329   Mean   : 2.866   Mean   :0   Mean   :0.003888  \n",
       " 3rd Qu.: 9.000   3rd Qu.: 5.000   3rd Qu.:0   3rd Qu.:0.000000  \n",
       " Max.   :13.000   Max.   :14.000   Max.   :0   Max.   :1.000000  \n",
       "                                                                 \n",
       "     s1mce2             s1mce3            s1me       s1me01      \n",
       " Min.   :0.000000   Min.   :0.0000   Min.   :0   Min.   :0.0000  \n",
       " 1st Qu.:0.000000   1st Qu.:1.0000   1st Qu.:0   1st Qu.:0.0000  \n",
       " Median :0.000000   Median :1.0000   Median :0   Median :1.0000  \n",
       " Mean   :0.005456   Mean   :0.9945   Mean   :0   Mean   :0.5444  \n",
       " 3rd Qu.:0.000000   3rd Qu.:1.0000   3rd Qu.:0   3rd Qu.:1.0000  \n",
       " Max.   :1.000000   Max.   :1.0000   Max.   :0   Max.   :1.0000  \n",
       "                                                                 \n",
       "     s1me02           s1me03            s1me04            s1me05      \n",
       " Min.   :0.0000   Min.   :0.00000   Min.   :0.00000   Min.   :0.0000  \n",
       " 1st Qu.:0.0000   1st Qu.:0.00000   1st Qu.:0.00000   1st Qu.:0.0000  \n",
       " Median :0.0000   Median :0.00000   Median :0.00000   Median :0.0000  \n",
       " Mean   :0.4854   Mean   :0.04495   Mean   :0.01405   Mean   :0.1709  \n",
       " 3rd Qu.:1.0000   3rd Qu.:0.00000   3rd Qu.:0.00000   3rd Qu.:0.0000  \n",
       " Max.   :1.0000   Max.   :1.00000   Max.   :1.00000   Max.   :1.0000  \n",
       "                                                                      \n",
       "     s1me06            s1me07            s1me08            s1me09      \n",
       " Min.   :0.00000   Min.   :0.00000   Min.   :0.00000   Min.   :0.0000  \n",
       " 1st Qu.:0.00000   1st Qu.:0.00000   1st Qu.:0.00000   1st Qu.:0.0000  \n",
       " Median :0.00000   Median :0.00000   Median :0.00000   Median :0.0000  \n",
       " Mean   :0.08321   Mean   :0.05456   Mean   :0.03315   Mean   :0.2847  \n",
       " 3rd Qu.:0.00000   3rd Qu.:0.00000   3rd Qu.:0.00000   3rd Qu.:1.0000  \n",
       " Max.   :1.00000   Max.   :1.00000   Max.   :1.00000   Max.   :1.0000  \n",
       "                                                                       \n",
       "     s1me10            s1me11            s1me12          s1vqtp \n",
       " Min.   :0.00000   Min.   :0.00000   Min.   :0.000   Min.   :0  \n",
       " 1st Qu.:0.00000   1st Qu.:0.00000   1st Qu.:0.000   1st Qu.:0  \n",
       " Median :0.00000   Median :0.00000   Median :0.000   Median :0  \n",
       " Mean   :0.07939   Mean   :0.07632   Mean   :0.129   Mean   :0  \n",
       " 3rd Qu.:0.00000   3rd Qu.:0.00000   3rd Qu.:0.000   3rd Qu.:0  \n",
       " Max.   :1.00000   Max.   :1.00000   Max.   :1.000   Max.   :0  \n",
       "                                                                \n",
       "    s1vqtp01           s1vqtp02           s1vqtp03          s1vqtp04      \n",
       " Min.   :0.000000   Min.   :0.000000   Min.   :0.00000   Min.   :0.00000  \n",
       " 1st Qu.:0.000000   1st Qu.:0.000000   1st Qu.:0.00000   1st Qu.:0.00000  \n",
       " Median :0.000000   Median :0.000000   Median :0.00000   Median :0.00000  \n",
       " Mean   :0.007093   Mean   :0.003001   Mean   :0.01159   Mean   :0.00798  \n",
       " 3rd Qu.:0.000000   3rd Qu.:0.000000   3rd Qu.:0.00000   3rd Qu.:0.00000  \n",
       " Max.   :1.000000   Max.   :1.000000   Max.   :1.00000   Max.   :1.00000  \n",
       "                                                                          \n",
       "    s1vqtp05           s1vqtp06          s1vqtp07           s1vqtp08       \n",
       " Min.   :0.000000   Min.   :0.00000   Min.   :0.000000   Min.   :0.000000  \n",
       " 1st Qu.:0.000000   1st Qu.:0.00000   1st Qu.:0.000000   1st Qu.:0.000000  \n",
       " Median :0.000000   Median :0.00000   Median :0.000000   Median :0.000000  \n",
       " Mean   :0.003478   Mean   :0.02046   Mean   :0.002046   Mean   :0.003478  \n",
       " 3rd Qu.:0.000000   3rd Qu.:0.00000   3rd Qu.:0.000000   3rd Qu.:0.000000  \n",
       " Max.   :1.000000   Max.   :1.00000   Max.   :1.000000   Max.   :1.000000  \n",
       "                                                                           \n",
       "    s1vqtp09           s1vqtp10           s1vqtp11          s1vqtp12    \n",
       " Min.   :0.000000   Min.   :0.000000   Min.   :0.00000   Min.   :0.000  \n",
       " 1st Qu.:0.000000   1st Qu.:0.000000   1st Qu.:0.00000   1st Qu.:1.000  \n",
       " Median :0.000000   Median :0.000000   Median :0.00000   Median :1.000  \n",
       " Mean   :0.002455   Mean   :0.001705   Mean   :0.02483   Mean   :0.919  \n",
       " 3rd Qu.:0.000000   3rd Qu.:0.000000   3rd Qu.:0.00000   3rd Qu.:1.000  \n",
       " Max.   :1.000000   Max.   :1.000000   Max.   :1.00000   Max.   :1.000  \n",
       "                                                                        \n",
       "     s1gnvq         s1gnvq1         s1gnvq2         s1gnvq3     \n",
       " Min.   :0       Min.   :0.000   Min.   :0.000   Min.   :0.000  \n",
       " 1st Qu.:0       1st Qu.:0.000   1st Qu.:0.000   1st Qu.:0.000  \n",
       " Median :0       Median :0.000   Median :0.000   Median :0.000  \n",
       " Mean   :0       Mean   :0.075   Mean   :0.442   Mean   :0.387  \n",
       " 3rd Qu.:0       3rd Qu.:0.000   3rd Qu.:1.000   3rd Qu.:1.000  \n",
       " Max.   :0       Max.   :1.000   Max.   :1.000   Max.   :1.000  \n",
       " NA's   :12232   NA's   :12232   NA's   :12232   NA's   :12232  \n",
       "    s1gnvq4         s1gnvq5         s1gnvq6         s1gnvq7     \n",
       " Min.   :0.000   Min.   :0.000   Min.   :0.000   Min.   :0.000  \n",
       " 1st Qu.:0.000   1st Qu.:0.000   1st Qu.:0.000   1st Qu.:0.000  \n",
       " Median :0.000   Median :0.000   Median :0.000   Median :0.000  \n",
       " Mean   :0.016   Mean   :0.049   Mean   :0.011   Mean   :0.027  \n",
       " 3rd Qu.:0.000   3rd Qu.:0.000   3rd Qu.:0.000   3rd Qu.:0.000  \n",
       " Max.   :1.000   Max.   :1.000   Max.   :1.000   Max.   :1.000  \n",
       " NA's   :12232   NA's   :12232   NA's   :12232   NA's   :12232  \n",
       "     s1nvq          s1nvq01         s1nvq02         s1nvq03     \n",
       " Min.   :0       Min.   :0.000   Min.   :0.000   Min.   :0.000  \n",
       " 1st Qu.:0       1st Qu.:0.000   1st Qu.:0.000   1st Qu.:0.000  \n",
       " Median :0       Median :0.000   Median :1.000   Median :0.000  \n",
       " Mean   :0       Mean   :0.174   Mean   :0.565   Mean   :0.218  \n",
       " 3rd Qu.:0       3rd Qu.:0.000   3rd Qu.:1.000   3rd Qu.:0.000  \n",
       " Max.   :0       Max.   :1.000   Max.   :1.000   Max.   :1.000  \n",
       " NA's   :12869   NA's   :12869   NA's   :12869   NA's   :12869  \n",
       "    s1nvq04         s1nvq05         s1nvq06         s1nvq07     \n",
       " Min.   :0.000   Min.   :0.000   Min.   :0.000   Min.   :0.000  \n",
       " 1st Qu.:0.000   1st Qu.:0.000   1st Qu.:0.000   1st Qu.:0.000  \n",
       " Median :0.000   Median :0.000   Median :0.000   Median :0.000  \n",
       " Mean   :0.099   Mean   :0.028   Mean   :0.064   Mean   :0.018  \n",
       " 3rd Qu.:0.000   3rd Qu.:0.000   3rd Qu.:0.000   3rd Qu.:0.000  \n",
       " Max.   :1.000   Max.   :1.000   Max.   :1.000   Max.   :1.000  \n",
       " NA's   :12869   NA's   :12869   NA's   :12869   NA's   :12869  \n",
       "    s1nvq08         s1nvq09          s1payh          s1payho      \n",
       " Min.   :0.00    Min.   :0.00    Min.   :  0.02   Min.   :  0.25  \n",
       " 1st Qu.:0.00    1st Qu.:0.00    1st Qu.:  2.16   1st Qu.:  1.50  \n",
       " Median :0.00    Median :0.00    Median :  2.88   Median :  2.08  \n",
       " Mean   :0.03    Mean   :0.06    Mean   : 15.87   Mean   : 32.30  \n",
       " 3rd Qu.:0.00    3rd Qu.:0.00    3rd Qu.:  3.50   3rd Qu.:  2.89  \n",
       " Max.   :1.00    Max.   :1.00    Max.   :997.00   Max.   :997.00  \n",
       " NA's   :12869   NA's   :12869   NA's   :7318     NA's   :14228   \n",
       "                   s1apr97                        s1may97     \n",
       " ft edn                :10588   ft edn                :10381  \n",
       " not answered          : 1723   not answered          : 1677  \n",
       " out of work/unemployed:  911   out of work/unemployed:  916  \n",
       " something else        :  529   something else        :  600  \n",
       " pt job                :  468   pt job                :  560  \n",
       " ft job                :  304   ft job                :  364  \n",
       " (Other)               :  139   (Other)               :  164  \n",
       "                   s1jun97                       s1jul97    \n",
       " ft edn                :8904   ft edn                :4813  \n",
       " not answered          :1552   pt job                :2452  \n",
       " out of work/unemployed:1117   something else        :2392  \n",
       " pt job                :1076   out of work/unemployed:1627  \n",
       " something else        :1000   not answered          :1549  \n",
       " ft job                : 651   ft job                :1202  \n",
       " (Other)               : 362   (Other)               : 627  \n",
       "                   s1aug97                       s1sep97     \n",
       " ft edn                :3684   ft edn                :10958  \n",
       " pt job                :2871   gst                   : 1123  \n",
       " something else        :2699   ft job                :  993  \n",
       " out of work/unemployed:1610   pt job                :  506  \n",
       " not answered          :1559   out of work/unemployed:  496  \n",
       " ft job                :1404   not answered          :  324  \n",
       " (Other)               : 835   (Other)               :  262  \n",
       "                   s1oct97                        s1nov97     \n",
       " ft edn                :11365   ft edn                :11300  \n",
       " gst                   : 1166   gst                   : 1177  \n",
       " ft job                : 1016   ft job                : 1076  \n",
       " out of work/unemployed:  407   out of work/unemployed:  415  \n",
       " pt job                :  324   pt job                :  333  \n",
       " not answered          :  260   not answered          :  241  \n",
       " (Other)               :  124   (Other)               :  120  \n",
       "                   s1dec97                        s1jan98     \n",
       " ft edn                :11105   ft edn                :11038  \n",
       " gst                   : 1185   gst                   : 1221  \n",
       " ft job                : 1106   ft job                : 1159  \n",
       " out of work/unemployed:  470   out of work/unemployed:  524  \n",
       " pt job                :  376   pt job                :  334  \n",
       " not answered          :  249   not answered          :  235  \n",
       " (Other)               :  171   (Other)               :  151  \n",
       "                   s1feb98     \n",
       " ft edn                :10962  \n",
       " gst                   : 1241  \n",
       " ft job                : 1218  \n",
       " out of work/unemployed:  532  \n",
       " pt job                :  339  \n",
       " not answered          :  219  \n",
       " (Other)               :  151  "
      ]
     },
     "execution_count": 5,
     "metadata": {},
     "output_type": "execute_result"
    }
   ],
   "source": [
    "summary(mydata.df)"
   ]
  },
  {
   "cell_type": "markdown",
   "metadata": {},
   "source": [
    "Various <font color=red>WARNINGS</font> will appear. Don't panic.\n",
    "\n",
    "To see the summary of the data use the scroll bar to __scroll down__.\n"
   ]
  },
  {
   "cell_type": "markdown",
   "metadata": {},
   "source": [
    "___________________________________________________________"
   ]
  },
  {
   "cell_type": "markdown",
   "metadata": {},
   "source": [
    "Get a subset of the data with only the variables needed."
   ]
  },
  {
   "cell_type": "code",
   "execution_count": 7,
   "metadata": {
    "collapsed": false
   },
   "outputs": [],
   "source": [
    "myvars <- c(\"serial\", \"weight\", \"sex\", \"s1a_c\", \"a58\", \"s1eth\", \"s1acqe\", \"pseg\", \"pseg1\", \"pseg2\", \"pseg3\", \"pseg4\", \"pseg5\", \"pseg6\", \"pseg7\")\n",
    "mydata.df <- mydata.df[myvars]"
   ]
  },
  {
   "cell_type": "code",
   "execution_count": 8,
   "metadata": {
    "collapsed": false,
    "scrolled": true
   },
   "outputs": [
    {
     "data": {
      "text/plain": [
       "     serial           weight                        sex           s1a_c       \n",
       " Min.   :200001   Min.   :0.6025   not answered (9)   :   0   Min.   : 0.000  \n",
       " 1st Qu.:206123   1st Qu.:0.7661   item not applicable:   0   1st Qu.: 1.000  \n",
       " Median :211589   Median :0.8779   male               :6889   Median : 6.000  \n",
       " Mean   :212056   Mean   :1.0000   female             :7773   Mean   : 5.298  \n",
       " 3rd Qu.:217027   3rd Qu.:1.0576                              3rd Qu.: 9.000  \n",
       " Max.   :231392   Max.   :2.5176                              Max.   :13.000  \n",
       "                                                                              \n",
       "                  a58                        s1eth      \n",
       " white              :12993   white              :12993  \n",
       " indian             :  436   asian groups       : 1005  \n",
       " pakistani          :  280   black groups       :  260  \n",
       " mixed ethnic origin:  126   mixed/!other groups:  220  \n",
       " bangladeshi        :  112   refused/ns         :  184  \n",
       " (Other)            :  544   not answered (9)   :    0  \n",
       " NA's               :  171   (Other)            :    0  \n",
       "               s1acqe          pseg       pseg1            pseg2       \n",
       " 5+ gcses at a*-c :8465   Min.   :0   Min.   :0.0000   Min.   :0.0000  \n",
       " 1-4 gcses at a*-c:3676   1st Qu.:0   1st Qu.:0.0000   1st Qu.:0.0000  \n",
       " 5+ gcses at d-g  :1448   Median :0   Median :0.0000   Median :0.0000  \n",
       " none reported    : 745   Mean   :0   Mean   :0.2299   Mean   :0.2064  \n",
       " 1-4 gcses at d-g : 328   3rd Qu.:0   3rd Qu.:0.0000   3rd Qu.:0.0000  \n",
       " not answered (9) :   0   Max.   :0   Max.   :1.0000   Max.   :1.0000  \n",
       " (Other)          :   0                                                \n",
       "     pseg3            pseg4           pseg5             pseg6         \n",
       " Min.   :0.0000   Min.   :0.000   Min.   :0.00000   Min.   :0.000000  \n",
       " 1st Qu.:0.0000   1st Qu.:0.000   1st Qu.:0.00000   1st Qu.:0.000000  \n",
       " Median :0.0000   Median :0.000   Median :0.00000   Median :0.000000  \n",
       " Mean   :0.3141   Mean   :0.108   Mean   :0.03581   Mean   :0.003819  \n",
       " 3rd Qu.:1.0000   3rd Qu.:0.000   3rd Qu.:0.00000   3rd Qu.:0.000000  \n",
       " Max.   :1.0000   Max.   :1.000   Max.   :1.00000   Max.   :1.000000  \n",
       "                                                                      \n",
       "     pseg7       \n",
       " Min.   :0.0000  \n",
       " 1st Qu.:0.0000  \n",
       " Median :0.0000  \n",
       " Mean   :0.1019  \n",
       " 3rd Qu.:0.0000  \n",
       " Max.   :1.0000  \n",
       "                 "
      ]
     },
     "execution_count": 8,
     "metadata": {},
     "output_type": "execute_result"
    }
   ],
   "source": [
    "summary(mydata.df)"
   ]
  },
  {
   "cell_type": "markdown",
   "metadata": {},
   "source": [
    "___________________________________________________________"
   ]
  },
  {
   "cell_type": "markdown",
   "metadata": {},
   "source": [
    "*str* compactly display the internal structure of an _R_ object.\n",
    "\n",
    "It is a diagnostic function and an alternative to summary."
   ]
  },
  {
   "cell_type": "code",
   "execution_count": 9,
   "metadata": {
    "collapsed": false
   },
   "outputs": [
    {
     "name": "stdout",
     "output_type": "stream",
     "text": [
      "'data.frame':\t14662 obs. of  15 variables:\n",
      " $ serial: int  200001 200004 200005 200006 200008 200012 200013 200014 200019 200022 ...\n",
      " $ weight: num  0.875 0.976 0.976 0.976 1.841 ...\n",
      " $ sex   : Factor w/ 4 levels \"not answered (9)\",..: 4 3 3 3 4 4 4 4 3 4 ...\n",
      " $ s1a_c : int  9 9 9 9 0 1 5 2 1 1 ...\n",
      " $ a58   : Factor w/ 15 levels \"not answered (99)\",..: 4 4 8 4 6 11 6 4 10 10 ...\n",
      " $ s1eth : Factor w/ 9 levels \"not answered (9)\",..: 5 5 7 5 6 7 6 5 7 7 ...\n",
      " $ s1acqe: Factor w/ 9 levels \"not answered (9)\",..: 5 5 5 5 7 6 5 6 6 6 ...\n",
      " $ pseg  : int  0 0 0 0 0 0 0 0 0 0 ...\n",
      " $ pseg1 : int  1 0 0 0 0 0 0 0 0 0 ...\n",
      " $ pseg2 : int  0 1 0 1 0 0 0 0 0 0 ...\n",
      " $ pseg3 : int  0 0 1 0 0 0 0 1 0 0 ...\n",
      " $ pseg4 : int  0 0 0 0 0 0 0 0 0 0 ...\n",
      " $ pseg5 : int  0 0 0 0 0 0 0 0 0 0 ...\n",
      " $ pseg6 : int  0 0 0 0 0 0 0 0 0 0 ...\n",
      " $ pseg7 : int  0 0 0 0 1 1 1 0 1 1 ...\n"
     ]
    }
   ],
   "source": [
    "str(mydata.df)"
   ]
  },
  {
   "cell_type": "markdown",
   "metadata": {},
   "source": [
    "View the data in spreadsheet format."
   ]
  },
  {
   "cell_type": "code",
   "execution_count": 10,
   "metadata": {
    "collapsed": false,
    "scrolled": false
   },
   "outputs": [
    {
     "data": {
      "text/html": [
       "<table>\n",
       "<thead><tr><th></th><th scope=col>serial</th><th scope=col>weight</th><th scope=col>sex</th><th scope=col>s1a_c</th><th scope=col>a58</th><th scope=col>s1eth</th><th scope=col>s1acqe</th><th scope=col>pseg</th><th scope=col>pseg1</th><th scope=col>pseg2</th><th scope=col>pseg3</th><th scope=col>pseg4</th><th scope=col>pseg5</th><th scope=col>pseg6</th><th scope=col>pseg7</th></tr></thead>\n",
       "<tbody>\n",
       "\t<tr><th scope=row>1</th><td>200001</td><td>0.87518</td><td>female</td><td>9</td><td>white</td><td>white</td><td>5+ gcses at a*-c</td><td>0</td><td>1</td><td>0</td><td>0</td><td>0</td><td>0</td><td>0</td><td>0</td></tr>\n",
       "\t<tr><th scope=row>2</th><td>200004</td><td>0.97615</td><td>male</td><td>9</td><td>white</td><td>white</td><td>5+ gcses at a*-c</td><td>0</td><td>0</td><td>1</td><td>0</td><td>0</td><td>0</td><td>0</td><td>0</td></tr>\n",
       "\t<tr><th scope=row>3</th><td>200005</td><td>0.97615</td><td>male</td><td>9</td><td>indian</td><td>asian groups</td><td>5+ gcses at a*-c</td><td>0</td><td>0</td><td>0</td><td>1</td><td>0</td><td>0</td><td>0</td><td>0</td></tr>\n",
       "\t<tr><th scope=row>4</th><td>200006</td><td>0.97615</td><td>male</td><td>9</td><td>white</td><td>white</td><td>5+ gcses at a*-c</td><td>0</td><td>0</td><td>1</td><td>0</td><td>0</td><td>0</td><td>0</td><td>0</td></tr>\n",
       "\t<tr><th scope=row>5</th><td>200008</td><td>1.84073</td><td>female</td><td>0</td><td>afro.</td><td>black groups</td><td>5+ gcses at d-g</td><td>0</td><td>0</td><td>0</td><td>0</td><td>0</td><td>0</td><td>0</td><td>1</td></tr>\n",
       "\t<tr><th scope=row>6</th><td>200012</td><td>0.95928</td><td>female</td><td>1</td><td>chin!ese</td><td>asian groups</td><td>1-4 gcses at a*-c</td><td>0</td><td>0</td><td>0</td><td>0</td><td>0</td><td>0</td><td>0</td><td>1</td></tr>\n",
       "</tbody>\n",
       "</table>\n"
      ],
      "text/latex": [
       "\\begin{tabular}{r|lllllllllllllll}\n",
       "  & serial & weight & sex & s1a_c & a58 & s1eth & s1acqe & pseg & pseg1 & pseg2 & pseg3 & pseg4 & pseg5 & pseg6 & pseg7\\\\\n",
       "\\hline\n",
       "\t1 & 200001 & 0.87518 & female & 9 & white & white & 5+ gcses at a*-c & 0 & 1 & 0 & 0 & 0 & 0 & 0 & 0\\\\\n",
       "\t2 & 200004 & 0.97615 & male & 9 & white & white & 5+ gcses at a*-c & 0 & 0 & 1 & 0 & 0 & 0 & 0 & 0\\\\\n",
       "\t3 & 200005 & 0.97615 & male & 9 & indian & asian groups & 5+ gcses at a*-c & 0 & 0 & 0 & 1 & 0 & 0 & 0 & 0\\\\\n",
       "\t4 & 200006 & 0.97615 & male & 9 & white & white & 5+ gcses at a*-c & 0 & 0 & 1 & 0 & 0 & 0 & 0 & 0\\\\\n",
       "\t5 & 200008 & 1.84073 & female & 0 & afro. & black groups & 5+ gcses at d-g & 0 & 0 & 0 & 0 & 0 & 0 & 0 & 1\\\\\n",
       "\t6 & 200012 & 0.95928 & female & 1 & chin!ese & asian groups & 1-4 gcses at a*-c & 0 & 0 & 0 & 0 & 0 & 0 & 0 & 1\\\\\n",
       "\\end{tabular}\n"
      ],
      "text/plain": [
       "  serial  weight    sex s1a_c      a58        s1eth            s1acqe pseg\n",
       "1 200001 0.87518 female     9    white        white  5+ gcses at a*-c    0\n",
       "2 200004 0.97615   male     9    white        white  5+ gcses at a*-c    0\n",
       "3 200005 0.97615   male     9   indian asian groups  5+ gcses at a*-c    0\n",
       "4 200006 0.97615   male     9    white        white  5+ gcses at a*-c    0\n",
       "5 200008 1.84073 female     0    afro. black groups   5+ gcses at d-g    0\n",
       "6 200012 0.95928 female     1 chin!ese asian groups 1-4 gcses at a*-c    0\n",
       "  pseg1 pseg2 pseg3 pseg4 pseg5 pseg6 pseg7\n",
       "1     1     0     0     0     0     0     0\n",
       "2     0     1     0     0     0     0     0\n",
       "3     0     0     1     0     0     0     0\n",
       "4     0     1     0     0     0     0     0\n",
       "5     0     0     0     0     0     0     1\n",
       "6     0     0     0     0     0     0     1"
      ]
     },
     "execution_count": 10,
     "metadata": {},
     "output_type": "execute_result"
    }
   ],
   "source": [
    "head(mydata.df)"
   ]
  },
  {
   "cell_type": "markdown",
   "metadata": {},
   "source": [
    "___________________________________________________________"
   ]
  },
  {
   "cell_type": "markdown",
   "metadata": {
    "collapsed": false
   },
   "source": [
    "#### Construct the outcome variable\n",
    "\n",
    "The binary indicator of 5+ GCSEs A (star) - C will be \"s15a_c\" .\n",
    "\n",
    "It is constructed from variable \"s1a_c\" - the number of GCSEs A (star) - C.  \n"
   ]
  },
  {
   "cell_type": "markdown",
   "metadata": {},
   "source": [
    "Tabulate the original outcome \"s1a_c\" number of GCSEs A (star) - C ."
   ]
  },
  {
   "cell_type": "code",
   "execution_count": 11,
   "metadata": {
    "collapsed": false
   },
   "outputs": [
    {
     "data": {
      "text/plain": [
       "\n",
       "   0    1    2    3    4    5    6    7    8    9   10   11   12   13 \n",
       "2538 1138  936  833  802  788  854 1023 1373 2459 1525  345   45    3 "
      ]
     },
     "execution_count": 11,
     "metadata": {},
     "output_type": "execute_result"
    }
   ],
   "source": [
    "table(mydata.df$s1a_c)"
   ]
  },
  {
   "cell_type": "markdown",
   "metadata": {},
   "source": [
    "Construct the binary outcome variable \"s15a_c\" 5+ GCSEs at grades A-C"
   ]
  },
  {
   "cell_type": "markdown",
   "metadata": {},
   "source": [
    "Following the existing naming convention used in YCS Cohort 9 I have chosen the title \"s15a_c\" because this is a sweep 1 measure \"s1\" of 5+ GCSEs at grades A(star)-C \"5a_c\" hence \"s15a_c\"."
   ]
  },
  {
   "cell_type": "markdown",
   "metadata": {},
   "source": [
    "Create the \"empty\" new field."
   ]
  },
  {
   "cell_type": "code",
   "execution_count": 12,
   "metadata": {
    "collapsed": false
   },
   "outputs": [
    {
     "data": {
      "text/plain": [
       "< table of extent 0 >"
      ]
     },
     "execution_count": 12,
     "metadata": {},
     "output_type": "execute_result"
    }
   ],
   "source": [
    "mydata.df$s15a_c <- NA\n",
    "table(mydata.df$s15a_c)"
   ]
  },
  {
   "cell_type": "markdown",
   "metadata": {},
   "source": [
    "The new field \"$s15a_c\" is empty.\n"
   ]
  },
  {
   "cell_type": "markdown",
   "metadata": {},
   "source": [
    "Recode the old field into the new one for the specified rows."
   ]
  },
  {
   "cell_type": "code",
   "execution_count": 13,
   "metadata": {
    "collapsed": false,
    "scrolled": true
   },
   "outputs": [
    {
     "data": {
      "text/plain": [
       "\n",
       "   1 \n",
       "8415 "
      ]
     },
     "execution_count": 13,
     "metadata": {},
     "output_type": "execute_result"
    },
    {
     "data": {
      "text/plain": [
       "\n",
       "   0    1 \n",
       "6247 8415 "
      ]
     },
     "execution_count": 13,
     "metadata": {},
     "output_type": "execute_result"
    }
   ],
   "source": [
    "mydata.df$s15a_c[mydata.df$s1a_c>4] <-1\n",
    "table(mydata.df$s15a_c)\n",
    "\n",
    "mydata.df$s15a_c[mydata.df$s1a_c<5] <-0\n",
    "table(mydata.df$s15a_c)"
   ]
  },
  {
   "cell_type": "markdown",
   "metadata": {},
   "source": [
    "___________________________________________________________"
   ]
  },
  {
   "cell_type": "markdown",
   "metadata": {
    "collapsed": false
   },
   "source": [
    "#### Construct the first variable explanatory variable girls (gender)\n",
    "\n",
    "The binary indicator of girls (gender) from the existing variable \"sex\" .\n",
    "\n",
    "This is a factor. Therefore I will check levels in the original data boys==1 and girls==2.\n"
   ]
  },
  {
   "cell_type": "code",
   "execution_count": 14,
   "metadata": {
    "collapsed": false,
    "scrolled": true
   },
   "outputs": [
    {
     "data": {
      "text/html": [
       "<ol class=list-inline>\n",
       "\t<li>\"not answered (9)\"</li>\n",
       "\t<li>\"item not applicable\"</li>\n",
       "\t<li>\"male\"</li>\n",
       "\t<li>\"female\"</li>\n",
       "</ol>\n"
      ],
      "text/latex": [
       "\\begin{enumerate*}\n",
       "\\item \"not answered (9)\"\n",
       "\\item \"item not applicable\"\n",
       "\\item \"male\"\n",
       "\\item \"female\"\n",
       "\\end{enumerate*}\n"
      ],
      "text/markdown": [
       "1. \"not answered (9)\"\n",
       "2. \"item not applicable\"\n",
       "3. \"male\"\n",
       "4. \"female\"\n",
       "\n",
       "\n"
      ],
      "text/plain": [
       "[1] \"not answered (9)\"    \"item not applicable\" \"male\"               \n",
       "[4] \"female\"             "
      ]
     },
     "execution_count": 14,
     "metadata": {},
     "output_type": "execute_result"
    },
    {
     "data": {
      "text/plain": [
       "\n",
       "   not answered (9) item not applicable                male              female \n",
       "                  0                   0                6889                7773 "
      ]
     },
     "execution_count": 14,
     "metadata": {},
     "output_type": "execute_result"
    }
   ],
   "source": [
    "levels(mydata.df$sex)\n",
    "table (mydata.df$sex)"
   ]
  },
  {
   "cell_type": "markdown",
   "metadata": {},
   "source": [
    "Create the \"empty\" new field."
   ]
  },
  {
   "cell_type": "code",
   "execution_count": 15,
   "metadata": {
    "collapsed": false
   },
   "outputs": [
    {
     "data": {
      "text/plain": [
       "< table of extent 0 >"
      ]
     },
     "execution_count": 15,
     "metadata": {},
     "output_type": "execute_result"
    }
   ],
   "source": [
    "mydata.df$girls <- NA\n",
    "table(mydata.df$girls)"
   ]
  },
  {
   "cell_type": "markdown",
   "metadata": {},
   "source": [
    "The new field \"$girls\" is empty.\n"
   ]
  },
  {
   "cell_type": "markdown",
   "metadata": {},
   "source": [
    "Recode the old field into the new one for the specified rows."
   ]
  },
  {
   "cell_type": "code",
   "execution_count": 16,
   "metadata": {
    "collapsed": true
   },
   "outputs": [],
   "source": [
    "mydata.df$girls[mydata.df$sex==\"male\"] <-0\n",
    "mydata.df$girls[mydata.df$sex==\"female\"] <-1"
   ]
  },
  {
   "cell_type": "code",
   "execution_count": 17,
   "metadata": {
    "collapsed": false
   },
   "outputs": [
    {
     "data": {
      "text/plain": [
       "\n",
       "   0    1 \n",
       "6889 7773 "
      ]
     },
     "execution_count": 17,
     "metadata": {},
     "output_type": "execute_result"
    }
   ],
   "source": [
    "table(mydata.df$girls)"
   ]
  },
  {
   "cell_type": "markdown",
   "metadata": {},
   "source": [
    "___________________________________________________________"
   ]
  },
  {
   "cell_type": "markdown",
   "metadata": {
    "collapsed": false
   },
   "source": [
    "#### Construct the explanatory variable for ethnicity <br>\n",
    "\n",
    "<font color=red>Beware this measure is messy!</font>\n",
    "\n"
   ]
  },
  {
   "cell_type": "markdown",
   "metadata": {},
   "source": [
    "This is a factor. Therefore I check levels in the original data."
   ]
  },
  {
   "cell_type": "code",
   "execution_count": 18,
   "metadata": {
    "collapsed": false
   },
   "outputs": [
    {
     "data": {
      "text/html": [
       "<ol class=list-inline>\n",
       "\t<li>\"not answered (99)\"</li>\n",
       "\t<li>\"don't know (98)\"</li>\n",
       "\t<li>\"item not applicable\"</li>\n",
       "\t<li>\"white\"</li>\n",
       "\t<li>\"carib.\"</li>\n",
       "\t<li>\"afro.\"</li>\n",
       "\t<li>\"other black\"</li>\n",
       "\t<li>\"indian\"</li>\n",
       "\t<li>\"pakistani\"</li>\n",
       "\t<li>\"bangladeshi\"</li>\n",
       "\t<li>\"chin!ese\"</li>\n",
       "\t<li>\"other asian\"</li>\n",
       "\t<li>\"any other\"</li>\n",
       "\t<li>\"mixed ethnic origin\"</li>\n",
       "\t<li>\"ref!used\"</li>\n",
       "</ol>\n"
      ],
      "text/latex": [
       "\\begin{enumerate*}\n",
       "\\item \"not answered (99)\"\n",
       "\\item \"don't know (98)\"\n",
       "\\item \"item not applicable\"\n",
       "\\item \"white\"\n",
       "\\item \"carib.\"\n",
       "\\item \"afro.\"\n",
       "\\item \"other black\"\n",
       "\\item \"indian\"\n",
       "\\item \"pakistani\"\n",
       "\\item \"bangladeshi\"\n",
       "\\item \"chin!ese\"\n",
       "\\item \"other asian\"\n",
       "\\item \"any other\"\n",
       "\\item \"mixed ethnic origin\"\n",
       "\\item \"ref!used\"\n",
       "\\end{enumerate*}\n"
      ],
      "text/markdown": [
       "1. \"not answered (99)\"\n",
       "2. \"don't know (98)\"\n",
       "3. \"item not applicable\"\n",
       "4. \"white\"\n",
       "5. \"carib.\"\n",
       "6. \"afro.\"\n",
       "7. \"other black\"\n",
       "8. \"indian\"\n",
       "9. \"pakistani\"\n",
       "10. \"bangladeshi\"\n",
       "11. \"chin!ese\"\n",
       "12. \"other asian\"\n",
       "13. \"any other\"\n",
       "14. \"mixed ethnic origin\"\n",
       "15. \"ref!used\"\n",
       "\n",
       "\n"
      ],
      "text/plain": [
       " [1] \"not answered (99)\"   \"don't know (98)\"     \"item not applicable\"\n",
       " [4] \"white\"               \"carib.\"              \"afro.\"              \n",
       " [7] \"other black\"         \"indian\"              \"pakistani\"          \n",
       "[10] \"bangladeshi\"         \"chin!ese\"            \"other asian\"        \n",
       "[13] \"any other\"           \"mixed ethnic origin\" \"ref!used\"           "
      ]
     },
     "execution_count": 18,
     "metadata": {},
     "output_type": "execute_result"
    }
   ],
   "source": [
    "levels(mydata.df$a58)"
   ]
  },
  {
   "cell_type": "markdown",
   "metadata": {},
   "source": [
    "Now I create a table of the ethnicity measure \"a58\"."
   ]
  },
  {
   "cell_type": "code",
   "execution_count": 19,
   "metadata": {
    "collapsed": false
   },
   "outputs": [
    {
     "data": {
      "text/plain": [
       "\n",
       "  not answered (99)     don't know (98) item not applicable               white \n",
       "                  0                   0                   0               12993 \n",
       "             carib.               afro.         other black              indian \n",
       "                104                  78                  78                 436 \n",
       "          pakistani         bangladeshi            chin!ese         other asian \n",
       "                280                 112                  78                  99 \n",
       "          any other mixed ethnic origin            ref!used \n",
       "                 94                 126                  13 "
      ]
     },
     "execution_count": 19,
     "metadata": {},
     "output_type": "execute_result"
    }
   ],
   "source": [
    "table(mydata.df$a58)"
   ]
  },
  {
   "cell_type": "markdown",
   "metadata": {},
   "source": [
    "These are the dummies that are required for the model in Connolly (2006, p.20)\n",
    "\n",
    "Chinese <br> \n",
    "Indian <br>\n",
    "White <br>\n",
    "Bangladeshi <br>\n",
    "Pakistani  <br>\n",
    "\n",
    "Strangely, the \"Other\" category is not in the model!\n",
    "\n",
    "---"
   ]
  },
  {
   "cell_type": "markdown",
   "metadata": {},
   "source": [
    "\n",
    "__Ethnic categories required for the analysis.__<br>\n",
    "\n",
    "These are the categories developed and used in Connolly (2006) Table 1 (p.7)\n",
    "\n",
    "White\n",
    "Indian\n",
    "Pakistani\n",
    "Black\n",
    "Bangladeshi\n",
    "Chinese\n",
    "Other\n",
    "\n",
    "Here are the labels and codes in the YCS dataset\n",
    "\n",
    "* 1 \"white\" \n",
    "* 2 \"carib.\" \"afro.\" \"other black\" \n",
    "* 3 \"indian\" \n",
    "* 4 \"pakistani\" \n",
    "* 5 \"bangladeshi\" \n",
    "* 6 \"chin!ese\" \n",
    "* 7 \"other asian\" \n",
    "* 10 \"any other\" \n",
    "* 97 \"mixed ethnic origin\" \n",
    "* . \"ref!used\"\n",
    "\n",
    "Here are my estimates of the number is each ethnic category used in Connolly (2006) Table 1 (p.7) \n",
    "    \n",
    "1 White       12993   \n",
    "2 Black       260   \n",
    "3 Indian      436   \n",
    "4 Pakistani   280   \n",
    "5 Bangladeshi 112    \n",
    "6 Chinese     78   \n",
    "7 Other       503 \n",
    "\n"
   ]
  },
  {
   "cell_type": "markdown",
   "metadata": {},
   "source": [
    "Create the new field \"ethnic1\".\n",
    "\n",
    "Everyone is placed into category 7.\n",
    "\n",
    "I then recode the new field \"ethnic1\" with values from \"a58\" .\n",
    "\n",
    "There is an explanation of this unorthodox approach below..."
   ]
  },
  {
   "cell_type": "code",
   "execution_count": 20,
   "metadata": {
    "collapsed": false
   },
   "outputs": [],
   "source": [
    "# create the new field,\n",
    "\n",
    "mydata.df$ethnic1 <- 7\n",
    "\n",
    "# everyone is placed into category 7.\n",
    "\n",
    "# recode the new field with values from the old field.\n",
    "mydata.df$ethnic1[mydata.df$a58==\"white\"] <-1\n",
    "mydata.df$ethnic1[mydata.df$a58==\"carib.\"] <-2\n",
    "mydata.df$ethnic1[mydata.df$a58==\"afro.\"] <-2\n",
    "mydata.df$ethnic1[mydata.df$a58==\"other black\"] <-2\n",
    "mydata.df$ethnic1[mydata.df$a58==\"indian\"] <-3\n",
    "mydata.df$ethnic1[mydata.df$a58==\"pakistani\"] <-4\n",
    "mydata.df$ethnic1[mydata.df$a58==\"bangladeshi\"] <-5\n",
    "mydata.df$ethnic1[mydata.df$a58==\"chin!ese\"] <-6\n",
    "mydata.df$ethnic1[mydata.df$a58==\"other asian\"] <-7\n",
    "mydata.df$ethnic1[mydata.df$a58==\"any other\"] <-7\n",
    "mydata.df$ethnic1[mydata.df$a58==\"mixed ethnic origin\"] <-7\n",
    "mydata.df$ethnic1[mydata.df$a58==\"ref!used\"] <-7\n"
   ]
  },
  {
   "cell_type": "markdown",
   "metadata": {},
   "source": [
    "There appears to be a quirk in the labelling of the missing values \".\" in the Stata file.\n",
    "\n",
    "I have got around this by forcing these cases into category 7 when I created the new field <br> i.e. _mydata.df$ethnic1 <- 7_\n",
    "\n"
   ]
  },
  {
   "cell_type": "markdown",
   "metadata": {},
   "source": [
    "Create a table of the new \"ethnic1\" variable."
   ]
  },
  {
   "cell_type": "code",
   "execution_count": 21,
   "metadata": {
    "collapsed": false
   },
   "outputs": [
    {
     "data": {
      "text/plain": [
       "\n",
       "    1     2     3     4     5     6     7 \n",
       "12993   260   436   280   112    78   503 "
      ]
     },
     "execution_count": 21,
     "metadata": {},
     "output_type": "execute_result"
    }
   ],
   "source": [
    "table(mydata.df$ethnic1)"
   ]
  },
  {
   "cell_type": "markdown",
   "metadata": {
    "collapsed": false
   },
   "source": [
    "<font color=red>This might not be the neatest solution!</font> But the obstactle has been overcome.\n"
   ]
  },
  {
   "cell_type": "code",
   "execution_count": 22,
   "metadata": {
    "collapsed": false
   },
   "outputs": [
    {
     "data": {
      "text/plain": [
       "\n",
       "    1     2     3     4     5     6     7 \n",
       "12993   260   436   280   112    78   503 "
      ]
     },
     "execution_count": 22,
     "metadata": {},
     "output_type": "execute_result"
    }
   ],
   "source": [
    " # Just to check the variable again.\n",
    "\n",
    "table(mydata.df$ethnic1)"
   ]
  },
  {
   "cell_type": "code",
   "execution_count": 23,
   "metadata": {
    "collapsed": false
   },
   "outputs": [
    {
     "data": {
      "text/plain": [
       "NULL"
      ]
     },
     "execution_count": 23,
     "metadata": {},
     "output_type": "execute_result"
    }
   ],
   "source": [
    "# Double check ethnic1 is not a factor\n",
    "\n",
    "levels(mydata.df$ethnic1)"
   ]
  },
  {
   "cell_type": "markdown",
   "metadata": {},
   "source": [
    "---"
   ]
  },
  {
   "cell_type": "markdown",
   "metadata": {
    "collapsed": false
   },
   "source": [
    "#### Construct  a series of dummy variables for ethnicity <br>\n",
    "\n",
    "I have chosen to construct each variable manually, in order to double check it.\n",
    "\n"
   ]
  },
  {
   "cell_type": "markdown",
   "metadata": {},
   "source": [
    "White pupils."
   ]
  },
  {
   "cell_type": "code",
   "execution_count": 24,
   "metadata": {
    "collapsed": false
   },
   "outputs": [
    {
     "data": {
      "text/plain": [
       "\n",
       "    0 \n",
       "14662 "
      ]
     },
     "execution_count": 24,
     "metadata": {},
     "output_type": "execute_result"
    },
    {
     "data": {
      "text/plain": [
       "\n",
       "    0     1 \n",
       " 1669 12993 "
      ]
     },
     "execution_count": 24,
     "metadata": {},
     "output_type": "execute_result"
    }
   ],
   "source": [
    "mydata.df$white <-0\n",
    "table(mydata.df$white)\n",
    "mydata.df$white[mydata.df$ethnic1==\"1\"] <-1\n",
    "table(mydata.df$white)"
   ]
  },
  {
   "cell_type": "markdown",
   "metadata": {},
   "source": [
    "---\n",
    "Black pupils."
   ]
  },
  {
   "cell_type": "code",
   "execution_count": 25,
   "metadata": {
    "collapsed": false
   },
   "outputs": [
    {
     "data": {
      "text/plain": [
       "\n",
       "    0 \n",
       "14662 "
      ]
     },
     "execution_count": 25,
     "metadata": {},
     "output_type": "execute_result"
    },
    {
     "data": {
      "text/plain": [
       "\n",
       "    0     1 \n",
       "14402   260 "
      ]
     },
     "execution_count": 25,
     "metadata": {},
     "output_type": "execute_result"
    }
   ],
   "source": [
    "mydata.df$black <-0\n",
    "table(mydata.df$black)\n",
    "mydata.df$black[mydata.df$ethnic1==\"2\"] <-1\n",
    "table(mydata.df$black)\n"
   ]
  },
  {
   "cell_type": "markdown",
   "metadata": {},
   "source": [
    "---\n",
    "Indian pupils"
   ]
  },
  {
   "cell_type": "code",
   "execution_count": 26,
   "metadata": {
    "collapsed": false
   },
   "outputs": [
    {
     "data": {
      "text/plain": [
       "\n",
       "    0 \n",
       "14662 "
      ]
     },
     "execution_count": 26,
     "metadata": {},
     "output_type": "execute_result"
    },
    {
     "data": {
      "text/plain": [
       "\n",
       "    0     1 \n",
       "14226   436 "
      ]
     },
     "execution_count": 26,
     "metadata": {},
     "output_type": "execute_result"
    }
   ],
   "source": [
    "mydata.df$indian <-0\n",
    "table(mydata.df$indian)\n",
    "mydata.df$indian[mydata.df$ethnic1==\"3\"] <-1\n",
    "table(mydata.df$indian)\n"
   ]
  },
  {
   "cell_type": "markdown",
   "metadata": {},
   "source": [
    "---\n",
    "Pakistani pupils."
   ]
  },
  {
   "cell_type": "code",
   "execution_count": 27,
   "metadata": {
    "collapsed": false
   },
   "outputs": [
    {
     "data": {
      "text/plain": [
       "\n",
       "    0 \n",
       "14662 "
      ]
     },
     "execution_count": 27,
     "metadata": {},
     "output_type": "execute_result"
    },
    {
     "data": {
      "text/plain": [
       "\n",
       "    0     1 \n",
       "14382   280 "
      ]
     },
     "execution_count": 27,
     "metadata": {},
     "output_type": "execute_result"
    }
   ],
   "source": [
    "mydata.df$pakistani <-0\n",
    "table(mydata.df$pakistani)\n",
    "mydata.df$pakistani[mydata.df$ethnic1==\"4\"] <-1\n",
    "table(mydata.df$pakistani)\n"
   ]
  },
  {
   "cell_type": "markdown",
   "metadata": {},
   "source": [
    "---\n",
    "Bangladeshi pupils."
   ]
  },
  {
   "cell_type": "code",
   "execution_count": 28,
   "metadata": {
    "collapsed": false
   },
   "outputs": [
    {
     "data": {
      "text/plain": [
       "\n",
       "    0 \n",
       "14662 "
      ]
     },
     "execution_count": 28,
     "metadata": {},
     "output_type": "execute_result"
    },
    {
     "data": {
      "text/plain": [
       "\n",
       "    0     1 \n",
       "14550   112 "
      ]
     },
     "execution_count": 28,
     "metadata": {},
     "output_type": "execute_result"
    }
   ],
   "source": [
    "mydata.df$bangladeshi <-0\n",
    "table(mydata.df$bangladeshi)\n",
    "mydata.df$bangladeshi[mydata.df$ethnic1==\"5\"] <-1\n",
    "table(mydata.df$bangladeshi)\n"
   ]
  },
  {
   "cell_type": "markdown",
   "metadata": {},
   "source": [
    "---\n",
    "Chinese pupils."
   ]
  },
  {
   "cell_type": "code",
   "execution_count": 29,
   "metadata": {
    "collapsed": false
   },
   "outputs": [
    {
     "data": {
      "text/plain": [
       "\n",
       "    0 \n",
       "14662 "
      ]
     },
     "execution_count": 29,
     "metadata": {},
     "output_type": "execute_result"
    },
    {
     "data": {
      "text/plain": [
       "\n",
       "    0     1 \n",
       "14584    78 "
      ]
     },
     "execution_count": 29,
     "metadata": {},
     "output_type": "execute_result"
    }
   ],
   "source": [
    "mydata.df$chinese <-0\n",
    "table(mydata.df$chinese)\n",
    "mydata.df$chinese[mydata.df$ethnic1==\"6\"] <-1\n",
    "table(mydata.df$chinese)"
   ]
  },
  {
   "cell_type": "markdown",
   "metadata": {},
   "source": [
    "---\n",
    "Other pupils."
   ]
  },
  {
   "cell_type": "code",
   "execution_count": 30,
   "metadata": {
    "collapsed": false,
    "scrolled": true
   },
   "outputs": [
    {
     "data": {
      "text/plain": [
       "\n",
       "    0 \n",
       "14662 "
      ]
     },
     "execution_count": 30,
     "metadata": {},
     "output_type": "execute_result"
    },
    {
     "data": {
      "text/plain": [
       "\n",
       "    0     1 \n",
       "14159   503 "
      ]
     },
     "execution_count": 30,
     "metadata": {},
     "output_type": "execute_result"
    }
   ],
   "source": [
    "mydata.df$other <-0\n",
    "table(mydata.df$other)\n",
    "mydata.df$other[mydata.df$ethnic1==\"7\"] <-1\n",
    "table(mydata.df$other)"
   ]
  },
  {
   "cell_type": "markdown",
   "metadata": {},
   "source": [
    "---\n",
    "The block of dummy variables representing ethnicity have been constructed.\n",
    "\n",
    "Now I perform a brief test."
   ]
  },
  {
   "cell_type": "markdown",
   "metadata": {},
   "source": [
    "Here is a table of the outcome variable 5+ GCSEs at grades A - C. "
   ]
  },
  {
   "cell_type": "code",
   "execution_count": 31,
   "metadata": {
    "collapsed": false
   },
   "outputs": [
    {
     "data": {
      "text/plain": [
       "\n",
       "   0    1 \n",
       "6247 8415 "
      ]
     },
     "execution_count": 31,
     "metadata": {},
     "output_type": "execute_result"
    }
   ],
   "source": [
    "table(mydata.df$s15a_c)"
   ]
  },
  {
   "cell_type": "markdown",
   "metadata": {},
   "source": [
    "Here is a table of ethnicity."
   ]
  },
  {
   "cell_type": "code",
   "execution_count": 32,
   "metadata": {
    "collapsed": false
   },
   "outputs": [
    {
     "data": {
      "text/plain": [
       "\n",
       "    1     2     3     4     5     6     7 \n",
       "12993   260   436   280   112    78   503 "
      ]
     },
     "execution_count": 32,
     "metadata": {},
     "output_type": "execute_result"
    }
   ],
   "source": [
    "table(mydata.df$ethnic1)"
   ]
  },
  {
   "cell_type": "markdown",
   "metadata": {},
   "source": [
    "Here is a table of school GCSE outcome by ethnicity"
   ]
  },
  {
   "cell_type": "code",
   "execution_count": 36,
   "metadata": {
    "collapsed": false
   },
   "outputs": [
    {
     "data": {
      "text/plain": [
       "   \n",
       "       0    1\n",
       "  1 5433 7560\n",
       "  2  158  102\n",
       "  3  160  276\n",
       "  4  172  108\n",
       "  5   64   48\n",
       "  6   20   58\n",
       "  7  240  263"
      ]
     },
     "execution_count": 36,
     "metadata": {},
     "output_type": "execute_result"
    }
   ],
   "source": [
    "mytable <- table(mydata.df$ethnic1, mydata.df$s15a_c) # A will be rows, B will be columns \n",
    "mytable # print table "
   ]
  },
  {
   "cell_type": "markdown",
   "metadata": {},
   "source": [
    "There results look plausible and I am happy that the measures are behaving themselves."
   ]
  },
  {
   "cell_type": "markdown",
   "metadata": {},
   "source": [
    "___________________________________________________________"
   ]
  },
  {
   "cell_type": "markdown",
   "metadata": {
    "collapsed": false
   },
   "source": [
    "#### Construct the explanatory variable for social class <br>\n",
    "\n",
    "<font color=red>Beware this a bit messy!</font>\n",
    "\n",
    "The variables pseg1 - pseg7 are social class dummies.\n",
    "\n",
    "I would like these variables to have names that are more \"human-eye-readable\".\n"
   ]
  },
  {
   "cell_type": "markdown",
   "metadata": {},
   "source": [
    "---\n",
    "Here is the first social class dummy \"pseg1\" which is the Professional/Managerial social class."
   ]
  },
  {
   "cell_type": "code",
   "execution_count": 33,
   "metadata": {
    "collapsed": false
   },
   "outputs": [
    {
     "data": {
      "text/plain": [
       "\n",
       "    0     1 \n",
       "11291  3371 "
      ]
     },
     "execution_count": 33,
     "metadata": {},
     "output_type": "execute_result"
    }
   ],
   "source": [
    "table(mydata.df$pseg1) "
   ]
  },
  {
   "cell_type": "markdown",
   "metadata": {
    "collapsed": true
   },
   "source": [
    "Here we will be using the reshape library.\n",
    "\n",
    "\n",
    "<font color=red>Make sure that it has been installed</font>\n",
    "make sure that it has been installed\n",
    "\n",
    "The _R_ code is <br>\n",
    "_install.packages (\"reshape\")_"
   ]
  },
  {
   "cell_type": "code",
   "execution_count": 34,
   "metadata": {
    "collapsed": false,
    "scrolled": true
   },
   "outputs": [
    {
     "name": "stderr",
     "output_type": "stream",
     "text": [
      "Warning message:\n",
      ": package 'reshape' was built under R version 3.2.5\n",
      "Attaching package: 'reshape'\n",
      "\n",
      "The following object is masked from 'package:dplyr':\n",
      "\n",
      "    rename\n",
      "\n",
      "The following object is masked from 'package:Matrix':\n",
      "\n",
      "    expand\n",
      "\n"
     ]
    }
   ],
   "source": [
    "library(reshape)\n"
   ]
  },
  {
   "cell_type": "markdown",
   "metadata": {},
   "source": [
    "Various <span style=\"color:red\"> WARNINGS</span> might appear. Don't panic.\n"
   ]
  },
  {
   "cell_type": "markdown",
   "metadata": {},
   "source": [
    " Here is the code to _rename_ \"pseg1\" as \"prof_man\"\n",
    " i.e."
   ]
  },
  {
   "cell_type": "code",
   "execution_count": 35,
   "metadata": {
    "collapsed": true
   },
   "outputs": [],
   "source": [
    "mydata.df <- rename(mydata.df, c(pseg1=\"prof_man\"))"
   ]
  },
  {
   "cell_type": "markdown",
   "metadata": {},
   "source": [
    "Now take a look at the \"renamed\" variable."
   ]
  },
  {
   "cell_type": "code",
   "execution_count": 36,
   "metadata": {
    "collapsed": false
   },
   "outputs": [
    {
     "data": {
      "text/plain": [
       "\n",
       "    0     1 \n",
       "11291  3371 "
      ]
     },
     "execution_count": 36,
     "metadata": {},
     "output_type": "execute_result"
    }
   ],
   "source": [
    "table(mydata.df$prof_man)"
   ]
  },
  {
   "cell_type": "markdown",
   "metadata": {},
   "source": [
    "---\n",
    "I now rename pseg2 - pseg4. "
   ]
  },
  {
   "cell_type": "code",
   "execution_count": 37,
   "metadata": {
    "collapsed": false
   },
   "outputs": [
    {
     "data": {
      "text/plain": [
       "\n",
       "    0     1 \n",
       "11636  3026 "
      ]
     },
     "execution_count": 37,
     "metadata": {},
     "output_type": "execute_result"
    }
   ],
   "source": [
    "mydata.df <- rename(mydata.df, c(pseg2=\"o_non_man\"))\n",
    "table(mydata.df$o_non_man)"
   ]
  },
  {
   "cell_type": "code",
   "execution_count": 38,
   "metadata": {
    "collapsed": false
   },
   "outputs": [
    {
     "data": {
      "text/plain": [
       "\n",
       "    0     1 \n",
       "10056  4606 "
      ]
     },
     "execution_count": 38,
     "metadata": {},
     "output_type": "execute_result"
    }
   ],
   "source": [
    "mydata.df <- rename(mydata.df, c(pseg3=\"skilled_man\"))\n",
    "table(mydata.df$skilled_man)"
   ]
  },
  {
   "cell_type": "code",
   "execution_count": 39,
   "metadata": {
    "collapsed": false
   },
   "outputs": [
    {
     "data": {
      "text/plain": [
       "\n",
       "    0     1 \n",
       "13078  1584 "
      ]
     },
     "execution_count": 39,
     "metadata": {},
     "output_type": "execute_result"
    }
   ],
   "source": [
    "mydata.df <- rename(mydata.df, c(pseg4=\"semi_skilled\"))\n",
    "table(mydata.df$semi_skilled)"
   ]
  },
  {
   "cell_type": "markdown",
   "metadata": {},
   "source": [
    "---"
   ]
  },
  {
   "cell_type": "markdown",
   "metadata": {},
   "source": [
    "The dataset has now been 'wrangled' or 'enabled' and should be in reasonable shape to test.\n",
    "\n",
    "In the next stage I test the data and ultimately I will  try to duplicate the model in Connelly (2006, p.20)."
   ]
  },
  {
   "cell_type": "markdown",
   "metadata": {},
   "source": [
    "Now I save the wrangled data frame in a file called __ycs9sw1.rda__."
   ]
  },
  {
   "cell_type": "code",
   "execution_count": 40,
   "metadata": {
    "collapsed": true
   },
   "outputs": [],
   "source": [
    "save(mydata.df,file=\"ycs9sw1.rda\")\n"
   ]
  },
  {
   "cell_type": "markdown",
   "metadata": {},
   "source": [
    "List the objects in my workspace."
   ]
  },
  {
   "cell_type": "code",
   "execution_count": 41,
   "metadata": {
    "collapsed": false
   },
   "outputs": [
    {
     "data": {
      "text/html": [
       "<ol class=list-inline>\n",
       "\t<li>\"drive1\"</li>\n",
       "\t<li>\"mydata.df\"</li>\n",
       "\t<li>\"myvars\"</li>\n",
       "\t<li>\"shipmodel\"</li>\n",
       "\t<li>\"ships\"</li>\n",
       "\t<li>\"shiptype.qvs\"</li>\n",
       "</ol>\n"
      ],
      "text/latex": [
       "\\begin{enumerate*}\n",
       "\\item \"drive1\"\n",
       "\\item \"mydata.df\"\n",
       "\\item \"myvars\"\n",
       "\\item \"shipmodel\"\n",
       "\\item \"ships\"\n",
       "\\item \"shiptype.qvs\"\n",
       "\\end{enumerate*}\n"
      ],
      "text/markdown": [
       "1. \"drive1\"\n",
       "2. \"mydata.df\"\n",
       "3. \"myvars\"\n",
       "4. \"shipmodel\"\n",
       "5. \"ships\"\n",
       "6. \"shiptype.qvs\"\n",
       "\n",
       "\n"
      ],
      "text/plain": [
       "[1] \"drive1\"       \"mydata.df\"    \"myvars\"       \"shipmodel\"    \"ships\"       \n",
       "[6] \"shiptype.qvs\""
      ]
     },
     "execution_count": 41,
     "metadata": {},
     "output_type": "execute_result"
    }
   ],
   "source": [
    "ls()"
   ]
  },
  {
   "cell_type": "markdown",
   "metadata": {},
   "source": [
    "Now I am going to remove \"rm\" these objects."
   ]
  },
  {
   "cell_type": "code",
   "execution_count": 42,
   "metadata": {
    "collapsed": false
   },
   "outputs": [
    {
     "data": {
      "text/html": [
       "\"\""
      ],
      "text/latex": [
       "\"\""
      ],
      "text/markdown": [
       "\"\""
      ],
      "text/plain": [
       "character(0)"
      ]
     },
     "execution_count": 42,
     "metadata": {},
     "output_type": "execute_result"
    }
   ],
   "source": [
    "rm(list = ls(all = TRUE))\n",
    "ls()"
   ]
  },
  {
   "cell_type": "markdown",
   "metadata": {},
   "source": [
    "I could have removed individual objects\n",
    "\n",
    "_rm (\"mydata.df\", \"myvars\")_ ."
   ]
  },
  {
   "cell_type": "markdown",
   "metadata": {},
   "source": [
    "------------------------------------------------------------------------------------------------------------------------"
   ]
  },
  {
   "cell_type": "markdown",
   "metadata": {},
   "source": [
    "### Data Test <a class=\"anchor\" id=\"data_test\"></a>"
   ]
  },
  {
   "cell_type": "markdown",
   "metadata": {},
   "source": [
    "In this section I undertake a small series of exploratory data analysis tasks to check the data with the published results in Connolly (2006).\n",
    "\n",
    "---"
   ]
  },
  {
   "cell_type": "markdown",
   "metadata": {},
   "source": [
    "Re-loading the data frame from the saved file."
   ]
  },
  {
   "cell_type": "code",
   "execution_count": 43,
   "metadata": {
    "collapsed": false
   },
   "outputs": [
    {
     "data": {
      "text/html": [
       "\"mydata.df\""
      ],
      "text/latex": [
       "\"mydata.df\""
      ],
      "text/markdown": [
       "\"mydata.df\""
      ],
      "text/plain": [
       "[1] \"mydata.df\""
      ]
     },
     "execution_count": 43,
     "metadata": {},
     "output_type": "execute_result"
    }
   ],
   "source": [
    "load(\"ycs9sw1.rda\")\n",
    "ls()"
   ]
  },
  {
   "cell_type": "markdown",
   "metadata": {},
   "source": [
    "Now I set up the survey desing of the YCS 9.<br>\n",
    "\n",
    "Within an object called \"small.w\" I specify the design.\n",
    "\n",
    "The \"ids\" are the identification for each case i.e. \"serial\".<br>\n",
    "The data are \"mydata.df\". <br>\n",
    "The survey weights are \"weight\". <br>\n"
   ]
  },
  {
   "cell_type": "code",
   "execution_count": 44,
   "metadata": {
    "collapsed": false
   },
   "outputs": [],
   "source": [
    "small.w <- svydesign(ids = ~serial, data = mydata.df, weights = ~weight)"
   ]
  },
  {
   "cell_type": "markdown",
   "metadata": {},
   "source": [
    "Now I attempt to check the values of my variables against the values (_n_) and proportions reported in Connolly (2006, p.7, Table 1)."
   ]
  },
  {
   "cell_type": "markdown",
   "metadata": {},
   "source": [
    "![Q-Step_Slide](http://www.vernongayle.com/uploads/2/2/3/0/22304498/table1_orig.jpg)"
   ]
  },
  {
   "cell_type": "markdown",
   "metadata": {},
   "source": [
    "---\n",
    "Girls."
   ]
  },
  {
   "cell_type": "code",
   "execution_count": 45,
   "metadata": {
    "collapsed": false
   },
   "outputs": [
    {
     "data": {
      "text/plain": [
       "\n",
       "7268.86727  7393.1375 \n",
       "         1          1 "
      ]
     },
     "execution_count": 45,
     "metadata": {},
     "output_type": "execute_result"
    },
    {
     "data": {
      "text/plain": [
       "girls\n",
       "        0         1 \n",
       "0.5042378 0.4957622 "
      ]
     },
     "execution_count": 45,
     "metadata": {},
     "output_type": "execute_result"
    }
   ],
   "source": [
    "table(svytable(~girls, design = small.w))\n",
    "prop.table(svytable(~girls, design = small.w))"
   ]
  },
  {
   "cell_type": "markdown",
   "metadata": {},
   "source": [
    "These results are correct.\n",
    "Checked with Connolly (2006, p.7, Table 1).\n",
    "\n",
    "---"
   ]
  },
  {
   "cell_type": "markdown",
   "metadata": {},
   "source": [
    "Ethnicity."
   ]
  },
  {
   "cell_type": "code",
   "execution_count": 46,
   "metadata": {
    "collapsed": false
   },
   "outputs": [
    {
     "data": {
      "text/plain": [
       "\n",
       "   74.05745   122.49261   297.11676   311.67752    437.4739   525.13248 \n",
       "          1           1           1           1           1           1 \n",
       "12894.05405 \n",
       "          1 "
      ]
     },
     "execution_count": 46,
     "metadata": {},
     "output_type": "execute_result"
    },
    {
     "data": {
      "text/plain": [
       "ethnic1\n",
       "          1           2           3           4           5           6 \n",
       "0.879419578 0.020264402 0.029837250 0.021257497 0.008354424 0.005050977 \n",
       "          7 \n",
       "0.035815872 "
      ]
     },
     "execution_count": 46,
     "metadata": {},
     "output_type": "execute_result"
    }
   ],
   "source": [
    "table(svytable(~ethnic1, design = small.w))\n",
    "prop.table(svytable(~ethnic1, design = small.w))\n"
   ]
  },
  {
   "cell_type": "markdown",
   "metadata": {},
   "source": [
    "These results are correct.\n",
    "Checked with Connolly (2006, p.7, Table 1). <br>\n",
    "\n",
    "Remember that the ordering in Connolly (2006, p.7, Table 1) is not the same as in the logit model Connolly (2006, p.20).\n",
    "\n",
    "---"
   ]
  },
  {
   "cell_type": "markdown",
   "metadata": {},
   "source": [
    "Social class."
   ]
  },
  {
   "cell_type": "markdown",
   "metadata": {},
   "source": [
    "Here I remind myself of the variable names.\n",
    "\n",
    "I use _str_ which is a compact display of the \"structure\" of an arbitrary _R_ object."
   ]
  },
  {
   "cell_type": "code",
   "execution_count": 47,
   "metadata": {
    "collapsed": false
   },
   "outputs": [
    {
     "name": "stdout",
     "output_type": "stream",
     "text": [
      "'data.frame':\t14662 obs. of  25 variables:\n",
      " $ serial      : int  200001 200004 200005 200006 200008 200012 200013 200014 200019 200022 ...\n",
      " $ weight      : num  0.875 0.976 0.976 0.976 1.841 ...\n",
      " $ sex         : Factor w/ 4 levels \"not answered (9)\",..: 4 3 3 3 4 4 4 4 3 4 ...\n",
      " $ s1a_c       : int  9 9 9 9 0 1 5 2 1 1 ...\n",
      " $ a58         : Factor w/ 15 levels \"not answered (99)\",..: 4 4 8 4 6 11 6 4 10 10 ...\n",
      " $ s1eth       : Factor w/ 9 levels \"not answered (9)\",..: 5 5 7 5 6 7 6 5 7 7 ...\n",
      " $ s1acqe      : Factor w/ 9 levels \"not answered (9)\",..: 5 5 5 5 7 6 5 6 6 6 ...\n",
      " $ pseg        : int  0 0 0 0 0 0 0 0 0 0 ...\n",
      " $ prof_man    : int  1 0 0 0 0 0 0 0 0 0 ...\n",
      " $ o_non_man   : int  0 1 0 1 0 0 0 0 0 0 ...\n",
      " $ skilled_man : int  0 0 1 0 0 0 0 1 0 0 ...\n",
      " $ semi_skilled: int  0 0 0 0 0 0 0 0 0 0 ...\n",
      " $ pseg5       : int  0 0 0 0 0 0 0 0 0 0 ...\n",
      " $ pseg6       : int  0 0 0 0 0 0 0 0 0 0 ...\n",
      " $ pseg7       : int  0 0 0 0 1 1 1 0 1 1 ...\n",
      " $ s15a_c      : num  1 1 1 1 0 0 1 0 0 0 ...\n",
      " $ girls       : num  1 0 0 0 1 1 1 1 0 1 ...\n",
      " $ ethnic1     : num  1 1 3 1 2 6 2 1 5 5 ...\n",
      " $ white       : num  1 1 0 1 0 0 0 1 0 0 ...\n",
      " $ black       : num  0 0 0 0 1 0 1 0 0 0 ...\n",
      " $ indian      : num  0 0 1 0 0 0 0 0 0 0 ...\n",
      " $ pakistani   : num  0 0 0 0 0 0 0 0 0 0 ...\n",
      " $ bangladeshi : num  0 0 0 0 0 0 0 0 1 1 ...\n",
      " $ chinese     : num  0 0 0 0 0 1 0 0 0 0 ...\n",
      " $ other       : num  0 0 0 0 0 0 0 0 0 0 ...\n"
     ]
    }
   ],
   "source": [
    "str(mydata.df)"
   ]
  },
  {
   "cell_type": "code",
   "execution_count": 48,
   "metadata": {
    "collapsed": false
   },
   "outputs": [
    {
     "name": "stdout",
     "output_type": "stream",
     "text": [
      "[1] \"prof_man\"\n"
     ]
    },
    {
     "data": {
      "text/plain": [
       "\n",
       " 3048.57466 11613.43011 \n",
       "          1           1 "
      ]
     },
     "execution_count": 48,
     "metadata": {},
     "output_type": "execute_result"
    },
    {
     "data": {
      "text/plain": [
       "prof_man\n",
       "        0         1 \n",
       "0.7920765 0.2079235 "
      ]
     },
     "execution_count": 48,
     "metadata": {},
     "output_type": "execute_result"
    },
    {
     "name": "stdout",
     "output_type": "stream",
     "text": [
      "[1] \"o_non_man\"\n"
     ]
    },
    {
     "data": {
      "text/plain": [
       "\n",
       "  2829.6733 11832.33147 \n",
       "          1           1 "
      ]
     },
     "execution_count": 48,
     "metadata": {},
     "output_type": "execute_result"
    },
    {
     "data": {
      "text/plain": [
       "o_non_man\n",
       "        0         1 \n",
       "0.8070064 0.1929936 "
      ]
     },
     "execution_count": 48,
     "metadata": {},
     "output_type": "execute_result"
    },
    {
     "name": "stdout",
     "output_type": "stream",
     "text": [
      "[1] \"skilled_man\"\n"
     ]
    },
    {
     "data": {
      "text/plain": [
       "\n",
       "4697.93136 9964.07341 \n",
       "         1          1 "
      ]
     },
     "execution_count": 48,
     "metadata": {},
     "output_type": "execute_result"
    },
    {
     "data": {
      "text/plain": [
       "skilled_man\n",
       "        0         1 \n",
       "0.6795847 0.3204153 "
      ]
     },
     "execution_count": 48,
     "metadata": {},
     "output_type": "execute_result"
    },
    {
     "name": "stdout",
     "output_type": "stream",
     "text": [
      "[1] \"semi_skilled\"\n"
     ]
    },
    {
     "data": {
      "text/plain": [
       "\n",
       " 1702.20359 12959.80118 \n",
       "          1           1 "
      ]
     },
     "execution_count": 48,
     "metadata": {},
     "output_type": "execute_result"
    },
    {
     "data": {
      "text/plain": [
       "semi_skilled\n",
       "        0         1 \n",
       "0.8839038 0.1160962 "
      ]
     },
     "execution_count": 48,
     "metadata": {},
     "output_type": "execute_result"
    }
   ],
   "source": [
    "print(\"prof_man\")\n",
    "table(svytable(~prof_man , design = small.w))\n",
    "prop.table(svytable(~prof_man , design = small.w))\n",
    "\n",
    "print(\"o_non_man\")\n",
    "table(svytable(~o_non_man , design = small.w))\n",
    "prop.table(svytable(~o_non_man , design = small.w))\n",
    "\n",
    "print(\"skilled_man\")\n",
    "table(svytable(~skilled_man, design = small.w))\n",
    "prop.table(svytable(~skilled_man , design = small.w))\n",
    "\n",
    "print(\"semi_skilled\")\n",
    "table(svytable(~semi_skilled , design = small.w))\n",
    "prop.table(svytable(~semi_skilled , design = small.w))\n",
    "\n"
   ]
  },
  {
   "cell_type": "markdown",
   "metadata": {},
   "source": [
    "These results are correct. <br>\n",
    "\n",
    "Checked with Connolly (2006, p.7, Table 1). <br>\n",
    "\n",
    "Remember that the categories used in the logit model Connolly (2006, p.20).\n",
    "are not the same as in Connolly (2006, p.7, Table 1).\n",
    "\n",
    "---"
   ]
  },
  {
   "cell_type": "markdown",
   "metadata": {},
   "source": [
    "In this section I  have undertaken a small series of exploratory data analysis tasks to check the data with the published results in Connolly (2006).\n",
    "\n",
    "I am confident that the data are in good shape ready for duplicating the logit model.\n",
    "\n",
    "\n",
    "---"
   ]
  },
  {
   "cell_type": "markdown",
   "metadata": {
    "collapsed": true
   },
   "source": [
    "# Data Analysis  <a class=\"anchor\" id=\"data-analysis\"></a>\n"
   ]
  },
  {
   "cell_type": "markdown",
   "metadata": {
    "collapsed": true
   },
   "source": [
    "## Duplicating the Connelly (2006) Model Results in _R_\n",
    " <a class=\"anchor\" id=\"duplication\"></a>\n",
    " \n",
    " ### Table 5 p.20 Connolly (2006)."
   ]
  },
  {
   "cell_type": "markdown",
   "metadata": {},
   "source": [
    "![Q-Step_Slide](http://www.vernongayle.com/uploads/2/2/3/0/22304498/table5_orig.jpg)"
   ]
  },
  {
   "cell_type": "markdown",
   "metadata": {},
   "source": [
    "---"
   ]
  },
  {
   "cell_type": "markdown",
   "metadata": {},
   "source": [
    "<font color=red>Beware</font> if you skipped to this section then make sure that you have the correct data frame (i.e. the data file \"ycs9sw1.rda\"). <br>\n",
    "\n",
    "Re-loading the data frame from the saved file requries this _R_ code <br>\n",
    "\n",
    "_load(\"ycs9sw1.rda\")_ <br>\n",
    "_ls()_ <br>\n",
    "\n",
    "You might also require the _R_ libraries.\n"
   ]
  },
  {
   "cell_type": "code",
   "execution_count": 69,
   "metadata": {
    "collapsed": false
   },
   "outputs": [
    {
     "data": {
      "text/html": [
       "\"mydata.df\""
      ],
      "text/latex": [
       "\"mydata.df\""
      ],
      "text/markdown": [
       "\"mydata.df\""
      ],
      "text/plain": [
       "[1] \"mydata.df\""
      ]
     },
     "execution_count": 69,
     "metadata": {},
     "output_type": "execute_result"
    }
   ],
   "source": [
    "library(foreign)\n",
    "library(survey)\n",
    "library(car)\n",
    "library(dplyr)\n",
    "library(weights)\n",
    "library(dummies)\n",
    "load(\"ycs9sw1.rda\")\n",
    "ls()\n",
    " "
   ]
  },
  {
   "cell_type": "markdown",
   "metadata": {},
   "source": [
    "Setting up the survey design of the YCS data.\n"
   ]
  },
  {
   "cell_type": "code",
   "execution_count": 70,
   "metadata": {
    "collapsed": false
   },
   "outputs": [],
   "source": [
    "mydesign1 <- svydesign(id = ~serial,data = mydata.df, weight = ~weight)"
   ]
  },
  {
   "cell_type": "markdown",
   "metadata": {},
   "source": [
    "This is a _svy_ (i.e.survey) logit regression model. <br>\n",
    "The outcome variable is \"s15a_c\" - 5+ GCSEs at grades A - C .<br>\n",
    "\n",
    "The explanatory variables are <br>\n",
    "> girls <br>\n",
    "ethnicity (represented by a block of dummy variables) <br>\n",
    "social class (represented by a block of dummy variables).\n"
   ]
  },
  {
   "cell_type": "code",
   "execution_count": 71,
   "metadata": {
    "collapsed": false
   },
   "outputs": [
    {
     "name": "stderr",
     "output_type": "stream",
     "text": [
      "Warning message:\n",
      "In eval(expr, envir, enclos): non-integer #successes in a binomial glm!"
     ]
    }
   ],
   "source": [
    "model1<-svyglm (s15a_c ~ girls + chinese + indian +\n",
    "                 white + bangladeshi + pakistani + \n",
    "                 pakistani + prof_man + o_non_man + \n",
    "                 skilled_man + semi_skilled, design=mydesign1, data = mydata.df, family = \"binomial\")"
   ]
  },
  {
   "cell_type": "markdown",
   "metadata": {},
   "source": [
    "There might be a <font color=red>warning</font> message because we are modelling survey (i.e. weighted) data.<br> Don't panic."
   ]
  },
  {
   "cell_type": "markdown",
   "metadata": {},
   "source": [
    "Summary of the model results."
   ]
  },
  {
   "cell_type": "code",
   "execution_count": 72,
   "metadata": {
    "collapsed": false
   },
   "outputs": [
    {
     "data": {
      "text/plain": [
       "\n",
       "Call:\n",
       "svyglm(formula = s15a_c ~ girls + chinese + indian + white + \n",
       "    bangladeshi + pakistani + pakistani + prof_man + o_non_man + \n",
       "    skilled_man + semi_skilled, design = mydesign1, data = mydata.df, \n",
       "    family = \"binomial\")\n",
       "\n",
       "Survey design:\n",
       "svydesign(id = ~serial, data = mydata.df, weight = ~weight)\n",
       "\n",
       "Coefficients:\n",
       "             Estimate Std. Error t value Pr(>|t|)    \n",
       "(Intercept)  -1.58272    0.09190 -17.223  < 2e-16 ***\n",
       "girls         0.39532    0.03663  10.791  < 2e-16 ***\n",
       "chinese       1.34282    0.29745   4.514 6.40e-06 ***\n",
       "indian        0.60915    0.13734   4.435 9.26e-06 ***\n",
       "white         0.16152    0.08575   1.884   0.0596 .  \n",
       "bangladeshi   0.24018    0.21983   1.093   0.2746    \n",
       "pakistani    -0.06046    0.15696  -0.385   0.7001    \n",
       "prof_man      2.04847    0.06612  30.980  < 2e-16 ***\n",
       "o_non_man     1.62986    0.06503  25.062  < 2e-16 ***\n",
       "skilled_man   0.79762    0.05867  13.595  < 2e-16 ***\n",
       "semi_skilled  0.43251    0.07230   5.982 2.25e-09 ***\n",
       "---\n",
       "Signif. codes:  0 '***' 0.001 '**' 0.01 '*' 0.05 '.' 0.1 ' ' 1\n",
       "\n",
       "(Dispersion parameter for binomial family taken to be 1.000384)\n",
       "\n",
       "Number of Fisher Scoring iterations: 4\n"
      ]
     },
     "execution_count": 72,
     "metadata": {},
     "output_type": "execute_result"
    }
   ],
   "source": [
    "summary (model1)"
   ]
  },
  {
   "cell_type": "markdown",
   "metadata": {},
   "source": [
    "___________________________________________________________"
   ]
  },
  {
   "cell_type": "markdown",
   "metadata": {},
   "source": [
    "__These results are not the same as the results presented in Table 5, p.20 Connolly (2006).__\n",
    "\n",
    "The difference may not be immediately apparent.\n",
    "\n",
    "In the published work Connelly (2006)\n",
    "\n",
    "a) the pupils in ethnic category \"other\" are dropped from the analysis\n",
    "\n",
    "b) the pupils in class categories \"other\" and \"unclassified\" are dropped from the analysis.\n",
    "\n"
   ]
  },
  {
   "cell_type": "markdown",
   "metadata": {},
   "source": [
    "---\n",
    "Here we subset ethnic categories 1 - 6."
   ]
  },
  {
   "cell_type": "code",
   "execution_count": 73,
   "metadata": {
    "collapsed": false,
    "scrolled": true
   },
   "outputs": [
    {
     "data": {
      "text/plain": [
       "\n",
       "    1     2     3     4     5     6     7 \n",
       "12993   260   436   280   112    78   503 "
      ]
     },
     "execution_count": 73,
     "metadata": {},
     "output_type": "execute_result"
    }
   ],
   "source": [
    "table(mydata.df$ethnic1)"
   ]
  },
  {
   "cell_type": "markdown",
   "metadata": {},
   "source": [
    "Here we subset ethnic categories 1 - 6."
   ]
  },
  {
   "cell_type": "code",
   "execution_count": 74,
   "metadata": {
    "collapsed": false
   },
   "outputs": [
    {
     "data": {
      "text/plain": [
       "\n",
       "    1     2     3     4     5     6     7 \n",
       "12993   260   436   280   112    78   503 "
      ]
     },
     "execution_count": 74,
     "metadata": {},
     "output_type": "execute_result"
    },
    {
     "data": {
      "text/plain": [
       "\n",
       "    1     2     3     4     5     6 \n",
       "12993   260   436   280   112    78 "
      ]
     },
     "execution_count": 74,
     "metadata": {},
     "output_type": "execute_result"
    }
   ],
   "source": [
    "mydata2.df <- subset(mydata.df, ethnic1!=7)\n",
    "table(mydata.df$ethnic1)\n",
    "table(mydata2.df$ethnic1)"
   ]
  },
  {
   "cell_type": "markdown",
   "metadata": {},
   "source": [
    "---\n",
    "\n",
    "Here we subset pupils in class categories pseg1 - pseg5."
   ]
  },
  {
   "cell_type": "code",
   "execution_count": 75,
   "metadata": {
    "collapsed": false
   },
   "outputs": [
    {
     "data": {
      "text/plain": [
       "\n",
       "    0     1 \n",
       "14106    53 "
      ]
     },
     "execution_count": 75,
     "metadata": {},
     "output_type": "execute_result"
    },
    {
     "data": {
      "text/plain": [
       "\n",
       "    0     1 \n",
       "12842  1317 "
      ]
     },
     "execution_count": 75,
     "metadata": {},
     "output_type": "execute_result"
    }
   ],
   "source": [
    "table(mydata2.df$pseg6)\n",
    "table(mydata2.df$pseg7)"
   ]
  },
  {
   "cell_type": "code",
   "execution_count": 76,
   "metadata": {
    "collapsed": false
   },
   "outputs": [
    {
     "data": {
      "text/plain": [
       "\n",
       "    0     1 \n",
       "14606    56 "
      ]
     },
     "execution_count": 76,
     "metadata": {},
     "output_type": "execute_result"
    },
    {
     "data": {
      "text/plain": [
       "\n",
       "    0 \n",
       "14106 "
      ]
     },
     "execution_count": 76,
     "metadata": {},
     "output_type": "execute_result"
    }
   ],
   "source": [
    "mydata3.df <- subset(mydata2.df, pseg6!=1)\n",
    "table(mydata.df$pseg6)\n",
    "table(mydata3.df$pseg6)"
   ]
  },
  {
   "cell_type": "code",
   "execution_count": 77,
   "metadata": {
    "collapsed": false
   },
   "outputs": [
    {
     "data": {
      "text/plain": [
       "\n",
       "    0     1 \n",
       "13168  1494 "
      ]
     },
     "execution_count": 77,
     "metadata": {},
     "output_type": "execute_result"
    },
    {
     "data": {
      "text/plain": [
       "\n",
       "    0 \n",
       "12789 "
      ]
     },
     "execution_count": 77,
     "metadata": {},
     "output_type": "execute_result"
    }
   ],
   "source": [
    "mydata4.df <- subset(mydata3.df, pseg7!=1)\n",
    "table(mydata.df$pseg7)\n",
    "table(mydata4.df$pseg7)"
   ]
  },
  {
   "cell_type": "markdown",
   "metadata": {},
   "source": [
    "The dataset should be in shape now for estimating the (survey) logit model."
   ]
  },
  {
   "cell_type": "markdown",
   "metadata": {
    "collapsed": true
   },
   "source": [
    "---"
   ]
  },
  {
   "cell_type": "markdown",
   "metadata": {},
   "source": [
    "<font color=red>Beware</font> you might need to reset the design. "
   ]
  },
  {
   "cell_type": "code",
   "execution_count": 78,
   "metadata": {
    "collapsed": false
   },
   "outputs": [],
   "source": [
    "mydesign2 <- svydesign(id = ~serial,data = mydata4.df, weight = ~weight)"
   ]
  },
  {
   "cell_type": "code",
   "execution_count": 79,
   "metadata": {
    "collapsed": false
   },
   "outputs": [
    {
     "name": "stderr",
     "output_type": "stream",
     "text": [
      "Warning message:\n",
      "In eval(expr, envir, enclos): non-integer #successes in a binomial glm!"
     ]
    }
   ],
   "source": [
    "model2<-svyglm (s15a_c ~ girls + chinese + indian +\n",
    "                 white + bangladeshi + pakistani + \n",
    "                 pakistani + prof_man + o_non_man + \n",
    "                 skilled_man + semi_skilled, design=mydesign2, data = mydata4.df, family = \"binomial\")"
   ]
  },
  {
   "cell_type": "markdown",
   "metadata": {},
   "source": [
    "There might be a <font color=red>warning</font> message because we are modelling survey (i.e. weighted) data.<br> Don't panic."
   ]
  },
  {
   "cell_type": "markdown",
   "metadata": {},
   "source": [
    "Summary of the model results."
   ]
  },
  {
   "cell_type": "code",
   "execution_count": 80,
   "metadata": {
    "collapsed": false
   },
   "outputs": [
    {
     "data": {
      "text/plain": [
       "\n",
       "Call:\n",
       "svyglm(formula = s15a_c ~ girls + chinese + indian + white + \n",
       "    bangladeshi + pakistani + pakistani + prof_man + o_non_man + \n",
       "    skilled_man + semi_skilled, design = mydesign2, data = mydata4.df, \n",
       "    family = \"binomial\")\n",
       "\n",
       "Survey design:\n",
       "svydesign(id = ~serial, data = mydata4.df, weight = ~weight)\n",
       "\n",
       "Coefficients:\n",
       "             Estimate Std. Error t value Pr(>|t|)    \n",
       "(Intercept)  -2.20829    0.19802 -11.152  < 2e-16 ***\n",
       "girls         0.40456    0.03926  10.305  < 2e-16 ***\n",
       "chinese       2.00231    0.37734   5.306 1.14e-07 ***\n",
       "indian        1.06584    0.20829   5.117 3.15e-07 ***\n",
       "white         0.64314    0.17118   3.757 0.000173 ***\n",
       "bangladeshi   0.76616    0.34486   2.222 0.026323 *  \n",
       "pakistani     0.53136    0.24503   2.169 0.030135 *  \n",
       "prof_man      2.19209    0.10863  20.179  < 2e-16 ***\n",
       "o_non_man     1.77251    0.10793  16.423  < 2e-16 ***\n",
       "skilled_man   0.93217    0.10411   8.954  < 2e-16 ***\n",
       "semi_skilled  0.57587    0.11264   5.112 3.23e-07 ***\n",
       "---\n",
       "Signif. codes:  0 '***' 0.001 '**' 0.01 '*' 0.05 '.' 0.1 ' ' 1\n",
       "\n",
       "(Dispersion parameter for binomial family taken to be 1.000269)\n",
       "\n",
       "Number of Fisher Scoring iterations: 4\n"
      ]
     },
     "execution_count": 80,
     "metadata": {},
     "output_type": "execute_result"
    }
   ],
   "source": [
    "summary (model2)"
   ]
  },
  {
   "cell_type": "markdown",
   "metadata": {},
   "source": [
    "__These results are now the same as in the published model__\n",
    "\n",
    "![Q-Step_Slide](http://www.vernongayle.com/uploads/2/2/3/0/22304498/table5_orig.jpg)"
   ]
  },
  {
   "cell_type": "markdown",
   "metadata": {},
   "source": [
    "I now save the (latest) data frame as a file \"ycs9sw1_v2.rda\"."
   ]
  },
  {
   "cell_type": "code",
   "execution_count": 81,
   "metadata": {
    "collapsed": true
   },
   "outputs": [],
   "source": [
    "save(mydata4.df,file=\"ycs9sw1_v2.rda\")\n"
   ]
  },
  {
   "cell_type": "markdown",
   "metadata": {},
   "source": [
    "List the objects in my workspace."
   ]
  },
  {
   "cell_type": "code",
   "execution_count": 82,
   "metadata": {
    "collapsed": false
   },
   "outputs": [
    {
     "data": {
      "text/html": [
       "<ol class=list-inline>\n",
       "\t<li>\"model1\"</li>\n",
       "\t<li>\"model2\"</li>\n",
       "\t<li>\"mydata.df\"</li>\n",
       "\t<li>\"mydata2.df\"</li>\n",
       "\t<li>\"mydata3.df\"</li>\n",
       "\t<li>\"mydata4.df\"</li>\n",
       "\t<li>\"mydesign1\"</li>\n",
       "\t<li>\"mydesign2\"</li>\n",
       "</ol>\n"
      ],
      "text/latex": [
       "\\begin{enumerate*}\n",
       "\\item \"model1\"\n",
       "\\item \"model2\"\n",
       "\\item \"mydata.df\"\n",
       "\\item \"mydata2.df\"\n",
       "\\item \"mydata3.df\"\n",
       "\\item \"mydata4.df\"\n",
       "\\item \"mydesign1\"\n",
       "\\item \"mydesign2\"\n",
       "\\end{enumerate*}\n"
      ],
      "text/markdown": [
       "1. \"model1\"\n",
       "2. \"model2\"\n",
       "3. \"mydata.df\"\n",
       "4. \"mydata2.df\"\n",
       "5. \"mydata3.df\"\n",
       "6. \"mydata4.df\"\n",
       "7. \"mydesign1\"\n",
       "8. \"mydesign2\"\n",
       "\n",
       "\n"
      ],
      "text/plain": [
       "[1] \"model1\"     \"model2\"     \"mydata.df\"  \"mydata2.df\" \"mydata3.df\"\n",
       "[6] \"mydata4.df\" \"mydesign1\"  \"mydesign2\" "
      ]
     },
     "execution_count": 82,
     "metadata": {},
     "output_type": "execute_result"
    }
   ],
   "source": [
    "ls()"
   ]
  },
  {
   "cell_type": "markdown",
   "metadata": {},
   "source": [
    "Now I am going to remove \"rm\" some of these objects."
   ]
  },
  {
   "cell_type": "code",
   "execution_count": 83,
   "metadata": {
    "collapsed": false
   },
   "outputs": [
    {
     "data": {
      "text/html": [
       "<ol class=list-inline>\n",
       "\t<li>\"model2\"</li>\n",
       "\t<li>\"mydata4.df\"</li>\n",
       "\t<li>\"mydesign2\"</li>\n",
       "</ol>\n"
      ],
      "text/latex": [
       "\\begin{enumerate*}\n",
       "\\item \"model2\"\n",
       "\\item \"mydata4.df\"\n",
       "\\item \"mydesign2\"\n",
       "\\end{enumerate*}\n"
      ],
      "text/markdown": [
       "1. \"model2\"\n",
       "2. \"mydata4.df\"\n",
       "3. \"mydesign2\"\n",
       "\n",
       "\n"
      ],
      "text/plain": [
       "[1] \"model2\"     \"mydata4.df\" \"mydesign2\" "
      ]
     },
     "execution_count": 83,
     "metadata": {},
     "output_type": "execute_result"
    }
   ],
   "source": [
    "rm (\"mydata.df\", \"mydata2.df\", \"mydata3.df\", \"model1\", \"mydesign1\")\n",
    "ls()"
   ]
  },
  {
   "cell_type": "markdown",
   "metadata": {},
   "source": [
    "---"
   ]
  },
  {
   "cell_type": "markdown",
   "metadata": {
    "collapsed": true
   },
   "source": [
    "### Duplicating the Connelly (2006) Model Results in SPSS\n",
    " <a class=\"anchor\" id=\"duplication-spss\"></a>\n"
   ]
  },
  {
   "cell_type": "markdown",
   "metadata": {},
   "source": [
    "A close look at the results of the model in _R_ indicate that whilst the values of the parameter estimates (the column \"estimates\") are the same as _B_ in Table 5 (p.20) the standard errors are not the same.\n",
    "\n",
    "My intuition is that the original analysis was undertaken in __SPSS__.\n",
    "\n",
    "This is an unforeseen obstacle. \n",
    "\n",
    "My desire is to investigate this a little further.\n",
    "\n",
    "Unfortunately, at the current time there is not a SPSS kernel available within the Jupyter notebook.\n",
    "\n",
    "However, I have a cunning plan."
   ]
  },
  {
   "cell_type": "markdown",
   "metadata": {},
   "source": [
    "First, I will write out the dataset in SPSS format. \n",
    "\n",
    "__write.foreign__ doesn't generate native SPSS datafiles (.sav) but it does generate is the data in a comma delimited format (a .txt file) and a basic syntax file for reading that data into SPSS (a .sps file). \n",
    "\n",
    "Using the following general syntax\n",
    "\n",
    "_write.foreign(as.data.frame(mydata), \"c:/mydata.txt\", \"c:/mydata.sps\", package=\"SPSS\")_\n",
    "\n",
    "I plan to estimate the logit model in SPSS (with the data weighted).\n"
   ]
  },
  {
   "cell_type": "code",
   "execution_count": 84,
   "metadata": {
    "collapsed": false,
    "scrolled": false
   },
   "outputs": [
    {
     "name": "stderr",
     "output_type": "stream",
     "text": [
      "Warning message:\n",
      "In writeForeignSPSS(df = structure(list(serial = c(200001L, 200004L, : some variable names were abbreviated"
     ]
    }
   ],
   "source": [
    "write.foreign(as.data.frame(mydata4.df), \"ycs9sw1_v2.txt\", \"ycs9sw1_v2.sps\", package=\"SPSS\")"
   ]
  },
  {
   "cell_type": "markdown",
   "metadata": {},
   "source": [
    "#### Here we leave the Jupyter notebook <br>\n",
    "\n",
    "We have had to break the workflow because SPSS cannot currently be run in the language agnostic environment of the Jupyter notebook.\n",
    "\n",
    "To assist with transparency this link shows the model being estimated in SPSS <br>\n",
    "(IBM SPSS Version 22 Release 22.0.0.1 64-bit)\n",
    "\n",
    "https://youtu.be/12YXww67m9s\n",
    "\n",
    "I am grateful to Dr Roxanne Connelly, University of Warwick, UK\n",
    "(http://www2.warwick.ac.uk/fac/soc/sociology/staff/connelly/) for this suggestion.\n",
    "\n",
    "I use the following on-line software to record the SPSS job\n",
    "https://www.apowersoft.com/free-online-screen-recorder .\n",
    "\n",
    "Here is the SPSS syntax that was generated by the _write.foreign_ command.\n",
    "\n",
    "---\n",
    "\n",
    "DATA LIST FILE= \"C:/Users/Vernon/OneDrive - University of Edinburgh/Documents/ycs_9_2017/ycs9sw1_v2.txt\"  free (\",\")\n",
    "/ serial weight sex s1a_c a58 s1eth s1acqe pseg prof_man o_non_mn sklld_mn sm_sklld pseg5 pseg6 pseg7 s15a_c girls ethnic1 white black indian pakistan bangldsh chinese other  .\n",
    "\n",
    "VARIABLE LABELS\n",
    "serial \"serial\" \n",
    " weight \"weight\" \n",
    " sex \"sex\" \n",
    " s1a_c \"s1a_c\" \n",
    " a58 \"a58\" \n",
    " s1eth \"s1eth\" \n",
    " s1acqe \"s1acqe\" \n",
    " pseg \"pseg\" \n",
    " prof_man \"prof_man\" \n",
    " o_non_mn \"o_non_man\" \n",
    " sklld_mn \"skilled_man\" \n",
    " sm_sklld \"semi_skilled\" \n",
    " pseg5 \"pseg5\" \n",
    " pseg6 \"pseg6\" \n",
    " pseg7 \"pseg7\" \n",
    " s15a_c \"s15a_c\" \n",
    " girls \"girls\" \n",
    " ethnic1 \"ethnic1\" \n",
    " white \"white\" \n",
    " black \"black\" \n",
    " indian \"indian\" \n",
    " pakistan \"pakistani\" \n",
    " bangldsh \"bangladeshi\" \n",
    " chinese \"chinese\" \n",
    " other \"other\" \n",
    " .\n",
    "\n",
    "VALUE LABELS\n",
    "/\n",
    "sex \n",
    "1 \"not answered (9)\" \n",
    " 2 \"item not applicable\" \n",
    " 3 \"male\" \n",
    " 4 \"female\" \n",
    "/\n",
    "a58 \n",
    "1 \"not answered (99)\" \n",
    " 2 \"don't know (98)\" \n",
    " 3 \"item not applicable\" \n",
    " 4 \"white\" \n",
    " 5 \"carib.\" \n",
    " 6 \"afro.\" \n",
    " 7 \"other black\" \n",
    " 8 \"indian\" \n",
    " 9 \"pakistani\" \n",
    " 10 \"bangladeshi\" \n",
    " 11 \"chin!ese\" \n",
    " 12 \"other asian\" \n",
    " 13 \"any other\" \n",
    " 14 \"mixed ethnic origin\" \n",
    " 15 \"ref!used\" \n",
    "/\n",
    "s1eth \n",
    "1 \"not answered (9)\" \n",
    " 2 \"schedule not obtained\" \n",
    " 3 \"schedule not applicable\" \n",
    " 4 \"item not applicable\" \n",
    " 5 \"white\" \n",
    " 6 \"black groups\" \n",
    " 7 \"asian groups\" \n",
    " 8 \"mixed/!other groups\" \n",
    " 9 \"refused/ns\" \n",
    "/\n",
    "s1acqe \n",
    "1 \"not answered (9)\" \n",
    " 2 \"schedule not obtained\" \n",
    " 3 \"schedule not applicable\" \n",
    " 4 \"item not applicable\" \n",
    " 5 \"5+ gcses at a*-c\" \n",
    " 6 \"1-4 gcses at a*-c\" \n",
    " 7 \"5+ gcses at d-g\" \n",
    " 8 \"1-4 gcses at d-g\" \n",
    " 9 \"none reported\" \n",
    ".\n",
    "EXECUTE.\n",
    "\n",
    "---\n",
    "\n",
    "Here is the SPSS syntax that weights the data and then estimates the logit model.\n",
    "\n",
    "---\n",
    "\n",
    "WEIGHT BY weight.\n",
    "\n",
    "\n",
    "LOGISTIC REGRESSION VARIABLES s15a_c\n",
    "  /METHOD=ENTER girls chinese indian white bangldsh pakistan prof_man o_non_mn sklld_mn sm_sklld \n",
    "  /CRITERIA=PIN(.05) POUT(.10) ITERATE(20) CUT(.5).\n",
    " \n",
    " ---"
   ]
  },
  {
   "cell_type": "markdown",
   "metadata": {},
   "source": [
    "__These results are now the same as in the published model__\n",
    "\n",
    "![spss](http://www.vernongayle.com/uploads/2/2/3/0/22304498/spss-table_orig.jpg)\n",
    "\n",
    "![published](http://www.vernongayle.com/uploads/2/2/3/0/22304498/table5_orig.jpg)\n"
   ]
  },
  {
   "cell_type": "markdown",
   "metadata": {},
   "source": [
    "---"
   ]
  },
  {
   "cell_type": "markdown",
   "metadata": {},
   "source": [
    "Complex Samples Logistic Regression. <br>\n",
    "\n",
    "As a final check I undertake the analysis in SPSS using the Comples Samples approach.\n",
    "\n",
    "The code required for the complex sample analysis plans is <br>\n",
    "\n",
    "\n",
    "CSPLAN ANALYSIS <br>\n",
    "  /PLAN FILE='C:\\Users\\Vernon\\OneDrive - University of Edinburgh\\Documents\\ycs_9_2017\\logit.csaplan' <br>\n",
    "  /PLANVARS ANALYSISWEIGHT=weight <br>\n",
    "  /SRSESTIMATOR TYPE=WOR <br>\n",
    "  /PRINT PLAN <br>\n",
    "  /DESIGN <br>\n",
    "  /ESTIMATOR TYPE=WR.<br>"
   ]
  },
  {
   "cell_type": "markdown",
   "metadata": {},
   "source": [
    "The code required for the complex sample logistic regression model is <br>\n",
    "\n",
    "CSLOGISTIC  s15a_c(LOW) WITH girls chinese indian white pakistan bangldsh prof_man o_non_mn <br>\n",
    "    sklld_mn sm_sklld  <br>\n",
    "  /PLAN FILE='C:\\Users\\Vernon\\OneDrive - University of '+ <br>\n",
    "    'Edinburgh\\Documents\\ycs_9_2017\\logit.csaplan' <br>\n",
    "  /MODEL girls chinese indian white bangldsh pakistan prof_man o_non_mn sklld_mn sm_sklld <br>\n",
    "  /INTERCEPT INCLUDE=YES SHOW=YES <br>\n",
    "  /STATISTICS PARAMETER SE <br>\n",
    "  /TEST TYPE=F PADJUST=LSD <br>\n",
    "  /MISSING CLASSMISSING=EXCLUDE <br>\n",
    "  /CRITERIA MXITER=100 MXSTEP=5 PCONVERGE=[1e-006 RELATIVE] LCONVERGE=[0] CHKSEP=20 CILEVEL=95 <br>\n",
    "  /PRINT SUMMARY CLASSTABLE VARIABLEINFO SAMPLEINFO.<br>\n"
   ]
  },
  {
   "cell_type": "markdown",
   "metadata": {},
   "source": [
    "Here is a screen shot of the SPSS output."
   ]
  },
  {
   "cell_type": "markdown",
   "metadata": {
    "collapsed": true
   },
   "source": [
    "![spss_Slide](http://www.vernongayle.com/uploads/2/2/3/0/22304498/spsss-model-2_orig.jpg)"
   ]
  },
  {
   "cell_type": "markdown",
   "metadata": {
    "collapsed": true
   },
   "source": [
    "There results are the same as the results in _R_"
   ]
  },
  {
   "cell_type": "markdown",
   "metadata": {},
   "source": [
    "<font color=blue>It is worth noting that there are (at least) two ways of estimating a logit model in SPSS in the presence of survey weights.</font> <br>\n",
    "\n",
    "<font color=blue>The __Complex Samples__ approach returns the same results as __svy__ in _R_.</font><br>\n",
    "\n",
    "<font color=blue>By contrast weighting the dataset first, and then estimating a standard logistic regression model leads to different standard errors.</font><br>\n",
    "\n",
    "<font color=blue>Detective work was required to arrive at this conclusion.</font><br>\n",
    "\n",
    "\n",
    "<font color=blue>This passage of work underlines the requirement to clearly state the software used (including versions, libraries and dependencies) and as much detail as possible relating to the technique used.</font><br>\n",
    "\n"
   ]
  },
  {
   "cell_type": "markdown",
   "metadata": {},
   "source": [
    "---"
   ]
  },
  {
   "cell_type": "markdown",
   "metadata": {
    "collapsed": true
   },
   "source": [
    "### Duplicating the Connolly (2006) Model Results in Stata\n",
    " <a class=\"anchor\" id=\"duplication-stata\"></a>\n"
   ]
  },
  {
   "cell_type": "markdown",
   "metadata": {},
   "source": [
    "In this section I duplicate the results produced in Connolly 2006 using Stata."
   ]
  },
  {
   "cell_type": "markdown",
   "metadata": {},
   "source": [
    "We have had to move outside of the workflow in Jupyter (to move to SPSS).\n",
    "\n",
    "\n",
    "Just in case we should make certain that we have the correct dataset in the frame."
   ]
  },
  {
   "cell_type": "code",
   "execution_count": 85,
   "metadata": {
    "collapsed": false
   },
   "outputs": [
    {
     "data": {
      "text/html": [
       "<ol class=list-inline>\n",
       "\t<li>\"model2\"</li>\n",
       "\t<li>\"mydata4.df\"</li>\n",
       "\t<li>\"mydesign2\"</li>\n",
       "</ol>\n"
      ],
      "text/latex": [
       "\\begin{enumerate*}\n",
       "\\item \"model2\"\n",
       "\\item \"mydata4.df\"\n",
       "\\item \"mydesign2\"\n",
       "\\end{enumerate*}\n"
      ],
      "text/markdown": [
       "1. \"model2\"\n",
       "2. \"mydata4.df\"\n",
       "3. \"mydesign2\"\n",
       "\n",
       "\n"
      ],
      "text/plain": [
       "[1] \"model2\"     \"mydata4.df\" \"mydesign2\" "
      ]
     },
     "execution_count": 85,
     "metadata": {},
     "output_type": "execute_result"
    }
   ],
   "source": [
    "#load (\"C:/Users/Vernon/OneDrive - University of Edinburgh/Documents/ycs_9_2017/ycs9sw1_v2.rda\")\n",
    "ls()"
   ]
  },
  {
   "cell_type": "markdown",
   "metadata": {},
   "source": [
    "I will now export data frame to Stata format using the _foreign_ library.\n"
   ]
  },
  {
   "cell_type": "code",
   "execution_count": 86,
   "metadata": {
    "collapsed": false
   },
   "outputs": [],
   "source": [
    "library(foreign)\n",
    "write.dta(mydata4.df, \"ycs9sw1_v2.dta\")\n"
   ]
  },
  {
   "cell_type": "markdown",
   "metadata": {},
   "source": [
    "<font color=red>You MUST have Stata on your machine!</font><br>\n",
    "\n",
    "This section uses _ipystata_ to run Stata via Jupyter magic\n",
    "see <br>\n",
    "http://dev-ii-seminar.readthedocs.io/en/latest/notebooks/Stata_in_jupyter.html .\n",
    "\n",
    "\n",
    "You can install IPyStata 0.3.0 using the following syntax \n",
    "\n",
    "_pip install ipystata_\n",
    "\n",
    "at your command line prompt i.e. C:\\Users\\Vernon> .\n",
    "\n",
    "This facility is provided here\n",
    "\n",
    "https://github.com/TiesdeKok/ipystata\n",
    "\n",
    "The author is Ties de Kok <br>\n",
    "e-mail: t.c.j.dekok@tilburguniversity.edu <br>\n",
    "Twitter: @TiesdeKok\n",
    "\n",
    "<font color=red>You MUST have Stata on your machine!</font><br>\n",
    "\n",
    "---"
   ]
  },
  {
   "cell_type": "markdown",
   "metadata": {},
   "source": [
    "This cell below imports ipystata so that we can run Stata within this notebook."
   ]
  },
  {
   "cell_type": "markdown",
   "metadata": {},
   "source": [
    "### <font color=blue>You MUST have Stata on your machine!</font><br>\n",
    "### <font color=red>You MUST CHANGE the Jupyter kernel to PYTHON</font><br>\n",
    "\n",
    "### Use the Kernel menu above. ###\n",
    "#### Python is native to Jupyter so you will have this kernel."
   ]
  },
  {
   "cell_type": "code",
   "execution_count": 2,
   "metadata": {
    "collapsed": false
   },
   "outputs": [
    {
     "data": {
      "application/javascript": [
       "IPython.CodeCell.config_defaults.highlight_modes['magic_stata'] = {'reg':[/^%%stata/]};"
      ]
     },
     "metadata": {},
     "output_type": "display_data"
    }
   ],
   "source": [
    "import ipystata"
   ]
  },
  {
   "cell_type": "markdown",
   "metadata": {},
   "source": [
    "### If you have an <font color=red>error</font> that looks a bit like this<br>\n",
    "Error in parse(text = x, srcfile = src): 1:8: unexpected symbol <br>\n",
    "1: import ipystata <br>\n",
    "\n",
    "### Then you may probably have not changed kernel<br> \n",
    "\n",
    "#### You <font color=red> MUST CHANGE</font> the Jupyter kernel to PYTHON using the drop down menu __Kernel__ above.<br>\n",
    "\n",
    "---\n"
   ]
  },
  {
   "cell_type": "markdown",
   "metadata": {},
   "source": [
    "<font color=blue>We are now working in Python using Stata via magic cells!</font>"
   ]
  },
  {
   "cell_type": "code",
   "execution_count": 4,
   "metadata": {
    "collapsed": false
   },
   "outputs": [
    {
     "name": "stdout",
     "output_type": "stream",
     "text": [
      "\n",
      "> KDA-4009-stata8\\stata8\\\"\n",
      "C:\\Users\\Vernon\\OneDrive - University of Edinburgh\\Documents\\ycs_9_2017\\UKDA-40\n",
      "> 09-stata8\\stata8\n",
      "(Written by R.              )\n",
      "\n",
      "Variable        Obs Unique      Mean     Min      Max  Label\n",
      "-------------------------------------------------------------------------------\n",
      "serial        12789  12789  212370.3  200001   231392  serial\n",
      "weight        12789    178  .9822923  .60253  2.51757  weight\n",
      "sex           12789      2  3.532411       3        4  sex\n",
      "s1a_c         12789     14  5.526624       0       13  s1a_c\n",
      "a58           12789      8  4.265619       4       11  a58\n",
      "s1eth         12789      3  5.115255       5        7  s1eth\n",
      "s1acqe        12789      5  5.651576       5        9  s1acqe\n",
      "pseg          12789      1         0       0        0  pseg\n",
      "prof_man      12789      2  .2561576       0        1  prof_man\n",
      "o_non_man     12789      2  .2298851       0        1  o_non_man\n",
      "skilled_man   12789      2  .3528814       0        1  skilled_man\n",
      "semi_skilled  12789      2  .1215107       0        1  semi_skilled\n",
      "pseg5         12789      2  .0395653       0        1  pseg5\n",
      "pseg6         12789      1         0       0        0  pseg6\n",
      "pseg7         12789      1         0       0        0  pseg7\n",
      "s15a_c        12789      2  .6023927       0        1  s15a_c\n",
      "girls         12789      2  .5324107       0        1  girls\n",
      "ethnic1       12789      6  1.151536       1        6  ethnic1\n",
      "white         12789      2  .9353351       0        1  white\n",
      "black         12789      2  .0140746       0        1  black\n",
      "indian        12789      2  .0288529       0        1  indian\n",
      "pakistani     12789      2  .0124326       0        1  pakistani\n",
      "bangladeshi   12789      2   .004066       0        1  bangladeshi\n",
      "chinese       12789      2  .0052389       0        1  chinese\n",
      "other         12789      1         0       0        0  other\n"
     ]
    }
   ],
   "source": [
    "%%stata\n",
    "cd \"C:\\Users\\Vernon\\OneDrive - University of Edinburgh\\Documents\\ycs_9_2017\\UKDA-4009-stata8\\stata8\\\"\n",
    "use \"ycs9sw1_v2.dta\", clear\n",
    "codebook, compact"
   ]
  },
  {
   "cell_type": "markdown",
   "metadata": {},
   "source": [
    "Here I estimate the survey (svy) adjusted logit model in Stata. \n",
    "This is achieved using Stata via magic cells."
   ]
  },
  {
   "cell_type": "code",
   "execution_count": 5,
   "metadata": {
    "collapsed": false,
    "scrolled": true
   },
   "outputs": [
    {
     "name": "stdout",
     "output_type": "stream",
     "text": [
      "\n",
      "      pweight: weight\n",
      "          VCE: linearized\n",
      "  Single unit: missing\n",
      "     Strata 1: <one>\n",
      "         SU 1: <observations>\n",
      "        FPC 1: <zero>\n",
      "(running logit on estimation sample)\n",
      "\n",
      "Survey: Logistic regression\n",
      "\n",
      "Number of strata   =         1                  Number of obs     =     12,789\n",
      "Number of PSUs     =    12,789                  Population size   = 12,562.536\n",
      "                                                Design df         =     12,788\n",
      "                                                F(  10,  12779)   =     113.58\n",
      "                                                Prob > F          =     0.0000\n",
      "\n",
      "------------------------------------------------------------------------------\n",
      "             |             Linearized\n",
      "      s15a_c |      Coef.   Std. Err.      t    P>|t|     [95% Conf. Interval]\n",
      "-------------+----------------------------------------------------------------\n",
      "       girls |   .4045638   .0392609    10.30   0.000     .3276067     .481521\n",
      "     chinese |   2.002307   .3773355     5.31   0.000     1.262673    2.741941\n",
      "      indian |   1.065842   .2082879     5.12   0.000      .657567    1.474118\n",
      "       white |   .6431364   .1711832     3.76   0.000     .3075918     .978681\n",
      "   pakistani |   .5313644   .2450316     2.17   0.030     .0510659    1.011663\n",
      " bangladeshi |   .7661585   .3448563     2.22   0.026     .0901887    1.442128\n",
      "    prof_man |   2.192092   .1086303    20.18   0.000      1.97916    2.405023\n",
      "   o_non_man |    1.77251   .1079307    16.42   0.000      1.56095     1.98407\n",
      " skilled_man |   .9321662   .1041115     8.95   0.000      .728092     1.13624\n",
      "semi_skilled |   .5758727   .1126428     5.11   0.000      .355076    .7966693\n",
      "       _cons |  -2.208288   .1980157   -11.15   0.000    -2.596429   -1.820148\n"
     ]
    }
   ],
   "source": [
    "%%stata\n",
    "svyset [pweight=weight]\n",
    "* you may need to set the line size to stop the table going wonky *\n",
    "set linesize 150\n",
    "svy:logit s15a_c girls chinese indian white pakistani bangladeshi prof_man o_non_man skilled_man semi_skilled"
   ]
  },
  {
   "cell_type": "markdown",
   "metadata": {},
   "source": [
    "Here are the result from _R_\n",
    "\n",
    "Survey design:\n",
    "svydesign(id = ~serial, data = mydata4.df, weight = ~weight)\n",
    "\n",
    "\n",
    "\n",
    "|variable     |Estimate   |Std. Error |t value  |Pr     |\n",
    "| ------------|:---------:|----------:|:--------|-------|\n",
    "|(Intercept)  |-2.20829   | 0.19802   |-11.152  |< 2e-16|\n",
    "|girls        |0.40456    |0.03926    |  10.305 |< 2e-16|\n",
    "|chinese      | 2.00231   | 0.37734   |5.306    |1.14e-07| \n",
    "|indian       | 1.06584   | 0.20829   |5.117    |3.15e-07|\n",
    "|white        |0.64314    |0.17118    |3.757    |0.000173|\n",
    "|bangladeshi  |0.76616    |0.34486    |2.222    |0.026323|\n",
    "|pakistani    | 0.53136   | 0.24503   |2.169    |0.030135| \n",
    "|prof_man     |2.19209    |0.10863    |20.179   |< 2e-16 |\n",
    "|o_non_man    | 1.77251   | 0.10793   |16.423   |< 2e-16 |\n",
    "|skilled_man  | 0.93217   | 0.10411   |8.954    |< 2e-16 |\n",
    "|semi_skilled | 0.57587   | 0.11264   |5.112    |3.23e-07|\n",
    "\n",
    "<br>\n",
    "<font color=blue>Both their coefficients and the standard errors are the same in __ _R_ __ and in __Stata__</font>"
   ]
  },
  {
   "cell_type": "markdown",
   "metadata": {},
   "source": [
    "---"
   ]
  },
  {
   "cell_type": "markdown",
   "metadata": {},
   "source": [
    "### <font color=red>You MUST CHANGE the Jupyter kernel to _R_</font><br>\n",
    "\n",
    "### Use the Kernel menu above. ###\n",
    "#### The _R_ kernel is required as we are moving back to _R_ ."
   ]
  },
  {
   "cell_type": "markdown",
   "metadata": {},
   "source": [
    "In this section I plan to export the data frame \"mydata4.df\" which is in the file \"ycs9sw1_v2\" into an Excel format file \".xlsx\".\n",
    "\n",
    "This required the package 'xlsx' to be installed in _R_ .\n",
    "\n",
    "> _install.packages('xlsx')_\n",
    "\n",
    "When I first tried this there was an error because a more up to date version of Java is required. \n",
    "\n",
    "When my colleague tried this he had a conflict which was solved by installing the package from the Berkeley repro using the following code\n",
    "\n",
    "> _install.packages(\"xlsx\", repos =\"http://cran.cnr.Berkeley.edu/\")_\n",
    "_suppressPackageStartupMessages(library(xlsx))_\n"
   ]
  },
  {
   "cell_type": "code",
   "execution_count": 1,
   "metadata": {
    "collapsed": false
   },
   "outputs": [
    {
     "name": "stderr",
     "output_type": "stream",
     "text": [
      "Loading required package: grid\n",
      "Loading required package: Matrix\n",
      "Loading required package: survival\n",
      "Warning message:\n",
      ": package 'survival' was built under R version 3.2.5\n",
      "Attaching package: 'survey'\n",
      "\n",
      "The following object is masked from 'package:graphics':\n",
      "\n",
      "    dotchart\n",
      "\n",
      "Warning message:\n",
      ": package 'car' was built under R version 3.2.5Warning message:\n",
      ": package 'dplyr' was built under R version 3.2.5\n",
      "Attaching package: 'dplyr'\n",
      "\n",
      "The following object is masked from 'package:car':\n",
      "\n",
      "    recode\n",
      "\n",
      "The following objects are masked from 'package:stats':\n",
      "\n",
      "    filter, lag\n",
      "\n",
      "The following objects are masked from 'package:base':\n",
      "\n",
      "    intersect, setdiff, setequal, union\n",
      "\n",
      "Warning message:\n",
      ": package 'weights' was built under R version 3.2.5Loading required package: Hmisc\n",
      "Warning message:\n",
      ": package 'Hmisc' was built under R version 3.2.5Loading required package: lattice\n",
      "Loading required package: Formula\n",
      "Warning message:\n",
      ": package 'Formula' was built under R version 3.2.5Loading required package: ggplot2\n",
      "Warning message:\n",
      ": package 'ggplot2' was built under R version 3.2.5\n",
      "Attaching package: 'Hmisc'\n",
      "\n",
      "The following objects are masked from 'package:dplyr':\n",
      "\n",
      "    combine, src, summarize\n",
      "\n",
      "The following object is masked from 'package:survey':\n",
      "\n",
      "    deff\n",
      "\n",
      "The following objects are masked from 'package:base':\n",
      "\n",
      "    format.pval, round.POSIXt, trunc.POSIXt, units\n",
      "\n",
      "Loading required package: gdata\n",
      "Warning message:\n",
      ": package 'gdata' was built under R version 3.2.5Warning message:\n",
      ": running command '\"C:\\PROGRA~2\\LYX2~1.1\\Perl\\bin\\perl.exe\" \"C:/Users/Vernon/Documents/R/win-library/3.2/gdata/perl/supportedFormats.pl\"' had status 2gdata: Unable to load perl libaries needed by read.xls()\n",
      "gdata: to support 'XLX' (Excel 97-2004) files.\n",
      "\n",
      "gdata: Unable to load perl libaries needed by read.xls()\n",
      "gdata: to support 'XLSX' (Excel 2007+) files.\n",
      "\n",
      "gdata: Run the function 'installXLSXsupport()'\n",
      "gdata: to automatically download and install the perl\n",
      "gdata: libaries needed to support Excel XLS and XLSX formats.\n",
      "\n",
      "Attaching package: 'gdata'\n",
      "\n",
      "The following object is masked from 'package:Hmisc':\n",
      "\n",
      "    combine\n",
      "\n",
      "The following objects are masked from 'package:dplyr':\n",
      "\n",
      "    combine, first, last\n",
      "\n",
      "The following object is masked from 'package:stats':\n",
      "\n",
      "    nobs\n",
      "\n",
      "The following object is masked from 'package:utils':\n",
      "\n",
      "    object.size\n",
      "\n",
      "Loading required package: mice\n",
      "Warning message:\n",
      ": package 'mice' was built under R version 3.2.5Warning message:\n",
      ": package 'dummies' was built under R version 3.2.5dummies-1.5.6 provided by Decision Patterns\n",
      "\n"
     ]
    }
   ],
   "source": [
    "# if the work recommences with this section then the following libraries might be required.\n",
    "library(foreign)\n",
    "library(survey)\n",
    "library(car)\n",
    "library(dplyr)\n",
    "library(weights)\n",
    "library(dummies)\n"
   ]
  },
  {
   "cell_type": "code",
   "execution_count": 2,
   "metadata": {
    "collapsed": false
   },
   "outputs": [
    {
     "name": "stderr",
     "output_type": "stream",
     "text": [
      "Warning message:\n",
      ": package 'xlsx' was built under R version 3.2.5Loading required package: rJava\n",
      "Warning message:\n",
      ": package 'rJava' was built under R version 3.2.5Loading required package: xlsxjars\n",
      "Warning message:\n",
      ": package 'xlsxjars' was built under R version 3.2.5"
     ]
    }
   ],
   "source": [
    "# this library is required.\n",
    "library(xlsx)"
   ]
  },
  {
   "cell_type": "markdown",
   "metadata": {},
   "source": [
    "Because I have 'swivel-chaired' between kernel's etc. it is worth re-setting the file locations."
   ]
  },
  {
   "cell_type": "code",
   "execution_count": 3,
   "metadata": {
    "collapsed": false
   },
   "outputs": [
    {
     "data": {
      "text/html": [
       "\"C:/Users/Vernon\""
      ],
      "text/latex": [
       "\"C:/Users/Vernon\""
      ],
      "text/markdown": [
       "\"C:/Users/Vernon\""
      ],
      "text/plain": [
       "[1] \"C:/Users/Vernon\""
      ]
     },
     "execution_count": 3,
     "metadata": {},
     "output_type": "execute_result"
    },
    {
     "data": {
      "text/html": [
       "\"C:/Users/Vernon/OneDrive - University of Edinburgh/Documents/ycs_9_2017/UKDA-4009-stata8/stata8\""
      ],
      "text/latex": [
       "\"C:/Users/Vernon/OneDrive - University of Edinburgh/Documents/ycs_9_2017/UKDA-4009-stata8/stata8\""
      ],
      "text/markdown": [
       "\"C:/Users/Vernon/OneDrive - University of Edinburgh/Documents/ycs_9_2017/UKDA-4009-stata8/stata8\""
      ],
      "text/plain": [
       "[1] \"C:/Users/Vernon/OneDrive - University of Edinburgh/Documents/ycs_9_2017/UKDA-4009-stata8/stata8\""
      ]
     },
     "execution_count": 3,
     "metadata": {},
     "output_type": "execute_result"
    },
    {
     "data": {
      "text/html": [
       "<ol class=list-inline>\n",
       "\t<li>\"drive1\"</li>\n",
       "\t<li>\"mydata4.df\"</li>\n",
       "</ol>\n"
      ],
      "text/latex": [
       "\\begin{enumerate*}\n",
       "\\item \"drive1\"\n",
       "\\item \"mydata4.df\"\n",
       "\\end{enumerate*}\n"
      ],
      "text/markdown": [
       "1. \"drive1\"\n",
       "2. \"mydata4.df\"\n",
       "\n",
       "\n"
      ],
      "text/plain": [
       "[1] \"drive1\"     \"mydata4.df\""
      ]
     },
     "execution_count": 3,
     "metadata": {},
     "output_type": "execute_result"
    }
   ],
   "source": [
    "getwd() \n",
    "drive1 <- \"C:/Users/Vernon/OneDrive - University of Edinburgh/Documents/ycs_9_2017/UKDA-4009-stata8/stata8/\"\n",
    "setwd(drive1) \n",
    "getwd()\n",
    "load (\"ycs9sw1_v2.rda\")\n",
    "ls()"
   ]
  },
  {
   "cell_type": "code",
   "execution_count": null,
   "metadata": {
    "collapsed": false
   },
   "outputs": [],
   "source": [
    "write.xlsx(mydata4.df, \"ycs9sw1_v2.xlsx\")"
   ]
  },
  {
   "cell_type": "markdown",
   "metadata": {},
   "source": [
    "A file called \"ycs9sw1_v2.xlsx\" has now been written from within _R_.\n"
   ]
  },
  {
   "cell_type": "markdown",
   "metadata": {},
   "source": [
    "---"
   ]
  },
  {
   "cell_type": "markdown",
   "metadata": {
    "collapsed": true
   },
   "source": [
    "### Duplicating the Connolly (2006) Model Results in Python\n",
    " <a class=\"anchor\" id=\"duplication-python\"></a>\n"
   ]
  },
  {
   "cell_type": "markdown",
   "metadata": {},
   "source": [
    "In this section I will attempt to duplicate the logit model Table 5 p.20 Connolly (2006) in Python."
   ]
  },
  {
   "cell_type": "markdown",
   "metadata": {},
   "source": [
    "### <font color=red>You MUST CHANGE the Jupyter kernel to PYTHON</font><br>\n",
    "\n",
    "### Use the Kernel menu above. ###\n",
    "#### Python is native to Jupyter so you will have this kernel."
   ]
  },
  {
   "cell_type": "markdown",
   "metadata": {},
   "source": [
    "---"
   ]
  },
  {
   "cell_type": "markdown",
   "metadata": {},
   "source": [
    "First we have to \"import\" a package called \"pandas\".\n",
    "\n",
    "Pandas is a software library written for the Python programming language for data manipulation and analysis. "
   ]
  },
  {
   "cell_type": "code",
   "execution_count": 1,
   "metadata": {
    "collapsed": false
   },
   "outputs": [],
   "source": [
    "import pandas as pd"
   ]
  },
  {
   "cell_type": "markdown",
   "metadata": {},
   "source": [
    "### If you have an <font color=red>error</font> that looks a bit like this<br>\n",
    "Error in parse(text = x, srcfile = src): <text>:1:8: unexpected symbol\n",
    "1: import pandas\n",
    "\n",
    "### Then you may probably have changed kernel<br> \n",
    "\n",
    "#### You <font color=red> MUST CHANGE</font> the Jupyter kernel to PYTHON using the drop down menu __Kernel__ above<br>\n"
   ]
  },
  {
   "cell_type": "code",
   "execution_count": 2,
   "metadata": {
    "collapsed": true
   },
   "outputs": [],
   "source": [
    "# first change the working directory #\n",
    "import os\n",
    "os.chdir(\"C:/Users/Vernon/OneDrive - University of Edinburgh/Documents/ycs_9_2017/UKDA-4009-stata8/stata8\")"
   ]
  },
  {
   "cell_type": "markdown",
   "metadata": {},
   "source": [
    "Using \"read_excel\" which is part of pandas which I have already loaded into \"pd\", I now construct the data frame \"df\" reading in the data from the Excel (xlsx) file. "
   ]
  },
  {
   "cell_type": "code",
   "execution_count": 3,
   "metadata": {
    "collapsed": false,
    "scrolled": true
   },
   "outputs": [
    {
     "data": {
      "text/html": [
       "<div>\n",
       "<table border=\"1\" class=\"dataframe\">\n",
       "  <thead>\n",
       "    <tr style=\"text-align: right;\">\n",
       "      <th></th>\n",
       "      <th>serial</th>\n",
       "      <th>weight</th>\n",
       "      <th>sex</th>\n",
       "      <th>s1a_c</th>\n",
       "      <th>a58</th>\n",
       "      <th>s1eth</th>\n",
       "      <th>s1acqe</th>\n",
       "      <th>pseg</th>\n",
       "      <th>prof_man</th>\n",
       "      <th>o_non_man</th>\n",
       "      <th>...</th>\n",
       "      <th>s15a_c</th>\n",
       "      <th>girls</th>\n",
       "      <th>ethnic1</th>\n",
       "      <th>white</th>\n",
       "      <th>black</th>\n",
       "      <th>indian</th>\n",
       "      <th>pakistani</th>\n",
       "      <th>bangladeshi</th>\n",
       "      <th>chinese</th>\n",
       "      <th>other</th>\n",
       "    </tr>\n",
       "  </thead>\n",
       "  <tbody>\n",
       "    <tr>\n",
       "      <th>1</th>\n",
       "      <td>200001</td>\n",
       "      <td>0.87518</td>\n",
       "      <td>female</td>\n",
       "      <td>9</td>\n",
       "      <td>white</td>\n",
       "      <td>white</td>\n",
       "      <td>5+ gcses at a*-c</td>\n",
       "      <td>0</td>\n",
       "      <td>1</td>\n",
       "      <td>0</td>\n",
       "      <td>...</td>\n",
       "      <td>1</td>\n",
       "      <td>1</td>\n",
       "      <td>1</td>\n",
       "      <td>1</td>\n",
       "      <td>0</td>\n",
       "      <td>0</td>\n",
       "      <td>0</td>\n",
       "      <td>0</td>\n",
       "      <td>0</td>\n",
       "      <td>0</td>\n",
       "    </tr>\n",
       "    <tr>\n",
       "      <th>2</th>\n",
       "      <td>200004</td>\n",
       "      <td>0.97615</td>\n",
       "      <td>male</td>\n",
       "      <td>9</td>\n",
       "      <td>white</td>\n",
       "      <td>white</td>\n",
       "      <td>5+ gcses at a*-c</td>\n",
       "      <td>0</td>\n",
       "      <td>0</td>\n",
       "      <td>1</td>\n",
       "      <td>...</td>\n",
       "      <td>1</td>\n",
       "      <td>0</td>\n",
       "      <td>1</td>\n",
       "      <td>1</td>\n",
       "      <td>0</td>\n",
       "      <td>0</td>\n",
       "      <td>0</td>\n",
       "      <td>0</td>\n",
       "      <td>0</td>\n",
       "      <td>0</td>\n",
       "    </tr>\n",
       "    <tr>\n",
       "      <th>3</th>\n",
       "      <td>200005</td>\n",
       "      <td>0.97615</td>\n",
       "      <td>male</td>\n",
       "      <td>9</td>\n",
       "      <td>indian</td>\n",
       "      <td>asian groups</td>\n",
       "      <td>5+ gcses at a*-c</td>\n",
       "      <td>0</td>\n",
       "      <td>0</td>\n",
       "      <td>0</td>\n",
       "      <td>...</td>\n",
       "      <td>1</td>\n",
       "      <td>0</td>\n",
       "      <td>3</td>\n",
       "      <td>0</td>\n",
       "      <td>0</td>\n",
       "      <td>1</td>\n",
       "      <td>0</td>\n",
       "      <td>0</td>\n",
       "      <td>0</td>\n",
       "      <td>0</td>\n",
       "    </tr>\n",
       "    <tr>\n",
       "      <th>4</th>\n",
       "      <td>200006</td>\n",
       "      <td>0.97615</td>\n",
       "      <td>male</td>\n",
       "      <td>9</td>\n",
       "      <td>white</td>\n",
       "      <td>white</td>\n",
       "      <td>5+ gcses at a*-c</td>\n",
       "      <td>0</td>\n",
       "      <td>0</td>\n",
       "      <td>1</td>\n",
       "      <td>...</td>\n",
       "      <td>1</td>\n",
       "      <td>0</td>\n",
       "      <td>1</td>\n",
       "      <td>1</td>\n",
       "      <td>0</td>\n",
       "      <td>0</td>\n",
       "      <td>0</td>\n",
       "      <td>0</td>\n",
       "      <td>0</td>\n",
       "      <td>0</td>\n",
       "    </tr>\n",
       "    <tr>\n",
       "      <th>8</th>\n",
       "      <td>200014</td>\n",
       "      <td>0.95928</td>\n",
       "      <td>female</td>\n",
       "      <td>2</td>\n",
       "      <td>white</td>\n",
       "      <td>white</td>\n",
       "      <td>1-4 gcses at a*-c</td>\n",
       "      <td>0</td>\n",
       "      <td>0</td>\n",
       "      <td>0</td>\n",
       "      <td>...</td>\n",
       "      <td>0</td>\n",
       "      <td>1</td>\n",
       "      <td>1</td>\n",
       "      <td>1</td>\n",
       "      <td>0</td>\n",
       "      <td>0</td>\n",
       "      <td>0</td>\n",
       "      <td>0</td>\n",
       "      <td>0</td>\n",
       "      <td>0</td>\n",
       "    </tr>\n",
       "  </tbody>\n",
       "</table>\n",
       "<p>5 rows × 25 columns</p>\n",
       "</div>"
      ],
      "text/plain": [
       "   serial   weight     sex  s1a_c     a58         s1eth             s1acqe  \\\n",
       "1  200001  0.87518  female      9   white         white   5+ gcses at a*-c   \n",
       "2  200004  0.97615    male      9   white         white   5+ gcses at a*-c   \n",
       "3  200005  0.97615    male      9  indian  asian groups   5+ gcses at a*-c   \n",
       "4  200006  0.97615    male      9   white         white   5+ gcses at a*-c   \n",
       "8  200014  0.95928  female      2   white         white  1-4 gcses at a*-c   \n",
       "\n",
       "   pseg  prof_man  o_non_man  ...    s15a_c  girls  ethnic1  white  black  \\\n",
       "1     0         1          0  ...         1      1        1      1      0   \n",
       "2     0         0          1  ...         1      0        1      1      0   \n",
       "3     0         0          0  ...         1      0        3      0      0   \n",
       "4     0         0          1  ...         1      0        1      1      0   \n",
       "8     0         0          0  ...         0      1        1      1      0   \n",
       "\n",
       "   indian  pakistani  bangladeshi  chinese  other  \n",
       "1       0          0            0        0      0  \n",
       "2       0          0            0        0      0  \n",
       "3       1          0            0        0      0  \n",
       "4       0          0            0        0      0  \n",
       "8       0          0            0        0      0  \n",
       "\n",
       "[5 rows x 25 columns]"
      ]
     },
     "execution_count": 3,
     "metadata": {},
     "output_type": "execute_result"
    }
   ],
   "source": [
    "df = pd.read_excel(\"ycs9sw1_v2.xlsx\")\n",
    "df.head()"
   ]
  },
  {
   "cell_type": "markdown",
   "metadata": {},
   "source": [
    "Python is more general purpose and not primarily orientated towards social science data analysis. Therefore some things are a little more fiddly. \n",
    "\n",
    "For example before estimating the logistic regression models we must set a constant for all case (int=1)."
   ]
  },
  {
   "cell_type": "code",
   "execution_count": 4,
   "metadata": {
    "collapsed": true
   },
   "outputs": [],
   "source": [
    "df['Int']=1"
   ]
  },
  {
   "cell_type": "markdown",
   "metadata": {},
   "source": [
    "Examining the data in the data frame \"df\"."
   ]
  },
  {
   "cell_type": "code",
   "execution_count": 5,
   "metadata": {
    "collapsed": false
   },
   "outputs": [
    {
     "data": {
      "text/html": [
       "<div>\n",
       "<table border=\"1\" class=\"dataframe\">\n",
       "  <thead>\n",
       "    <tr style=\"text-align: right;\">\n",
       "      <th></th>\n",
       "      <th>serial</th>\n",
       "      <th>weight</th>\n",
       "      <th>sex</th>\n",
       "      <th>s1a_c</th>\n",
       "      <th>a58</th>\n",
       "      <th>s1eth</th>\n",
       "      <th>s1acqe</th>\n",
       "      <th>pseg</th>\n",
       "      <th>prof_man</th>\n",
       "      <th>o_non_man</th>\n",
       "      <th>...</th>\n",
       "      <th>girls</th>\n",
       "      <th>ethnic1</th>\n",
       "      <th>white</th>\n",
       "      <th>black</th>\n",
       "      <th>indian</th>\n",
       "      <th>pakistani</th>\n",
       "      <th>bangladeshi</th>\n",
       "      <th>chinese</th>\n",
       "      <th>other</th>\n",
       "      <th>Int</th>\n",
       "    </tr>\n",
       "  </thead>\n",
       "  <tbody>\n",
       "    <tr>\n",
       "      <th>1</th>\n",
       "      <td>200001</td>\n",
       "      <td>0.87518</td>\n",
       "      <td>female</td>\n",
       "      <td>9</td>\n",
       "      <td>white</td>\n",
       "      <td>white</td>\n",
       "      <td>5+ gcses at a*-c</td>\n",
       "      <td>0</td>\n",
       "      <td>1</td>\n",
       "      <td>0</td>\n",
       "      <td>...</td>\n",
       "      <td>1</td>\n",
       "      <td>1</td>\n",
       "      <td>1</td>\n",
       "      <td>0</td>\n",
       "      <td>0</td>\n",
       "      <td>0</td>\n",
       "      <td>0</td>\n",
       "      <td>0</td>\n",
       "      <td>0</td>\n",
       "      <td>1</td>\n",
       "    </tr>\n",
       "    <tr>\n",
       "      <th>2</th>\n",
       "      <td>200004</td>\n",
       "      <td>0.97615</td>\n",
       "      <td>male</td>\n",
       "      <td>9</td>\n",
       "      <td>white</td>\n",
       "      <td>white</td>\n",
       "      <td>5+ gcses at a*-c</td>\n",
       "      <td>0</td>\n",
       "      <td>0</td>\n",
       "      <td>1</td>\n",
       "      <td>...</td>\n",
       "      <td>0</td>\n",
       "      <td>1</td>\n",
       "      <td>1</td>\n",
       "      <td>0</td>\n",
       "      <td>0</td>\n",
       "      <td>0</td>\n",
       "      <td>0</td>\n",
       "      <td>0</td>\n",
       "      <td>0</td>\n",
       "      <td>1</td>\n",
       "    </tr>\n",
       "    <tr>\n",
       "      <th>3</th>\n",
       "      <td>200005</td>\n",
       "      <td>0.97615</td>\n",
       "      <td>male</td>\n",
       "      <td>9</td>\n",
       "      <td>indian</td>\n",
       "      <td>asian groups</td>\n",
       "      <td>5+ gcses at a*-c</td>\n",
       "      <td>0</td>\n",
       "      <td>0</td>\n",
       "      <td>0</td>\n",
       "      <td>...</td>\n",
       "      <td>0</td>\n",
       "      <td>3</td>\n",
       "      <td>0</td>\n",
       "      <td>0</td>\n",
       "      <td>1</td>\n",
       "      <td>0</td>\n",
       "      <td>0</td>\n",
       "      <td>0</td>\n",
       "      <td>0</td>\n",
       "      <td>1</td>\n",
       "    </tr>\n",
       "    <tr>\n",
       "      <th>4</th>\n",
       "      <td>200006</td>\n",
       "      <td>0.97615</td>\n",
       "      <td>male</td>\n",
       "      <td>9</td>\n",
       "      <td>white</td>\n",
       "      <td>white</td>\n",
       "      <td>5+ gcses at a*-c</td>\n",
       "      <td>0</td>\n",
       "      <td>0</td>\n",
       "      <td>1</td>\n",
       "      <td>...</td>\n",
       "      <td>0</td>\n",
       "      <td>1</td>\n",
       "      <td>1</td>\n",
       "      <td>0</td>\n",
       "      <td>0</td>\n",
       "      <td>0</td>\n",
       "      <td>0</td>\n",
       "      <td>0</td>\n",
       "      <td>0</td>\n",
       "      <td>1</td>\n",
       "    </tr>\n",
       "    <tr>\n",
       "      <th>8</th>\n",
       "      <td>200014</td>\n",
       "      <td>0.95928</td>\n",
       "      <td>female</td>\n",
       "      <td>2</td>\n",
       "      <td>white</td>\n",
       "      <td>white</td>\n",
       "      <td>1-4 gcses at a*-c</td>\n",
       "      <td>0</td>\n",
       "      <td>0</td>\n",
       "      <td>0</td>\n",
       "      <td>...</td>\n",
       "      <td>1</td>\n",
       "      <td>1</td>\n",
       "      <td>1</td>\n",
       "      <td>0</td>\n",
       "      <td>0</td>\n",
       "      <td>0</td>\n",
       "      <td>0</td>\n",
       "      <td>0</td>\n",
       "      <td>0</td>\n",
       "      <td>1</td>\n",
       "    </tr>\n",
       "  </tbody>\n",
       "</table>\n",
       "<p>5 rows × 26 columns</p>\n",
       "</div>"
      ],
      "text/plain": [
       "   serial   weight     sex  s1a_c     a58         s1eth             s1acqe  \\\n",
       "1  200001  0.87518  female      9   white         white   5+ gcses at a*-c   \n",
       "2  200004  0.97615    male      9   white         white   5+ gcses at a*-c   \n",
       "3  200005  0.97615    male      9  indian  asian groups   5+ gcses at a*-c   \n",
       "4  200006  0.97615    male      9   white         white   5+ gcses at a*-c   \n",
       "8  200014  0.95928  female      2   white         white  1-4 gcses at a*-c   \n",
       "\n",
       "   pseg  prof_man  o_non_man ...   girls  ethnic1  white  black  indian  \\\n",
       "1     0         1          0 ...       1        1      1      0       0   \n",
       "2     0         0          1 ...       0        1      1      0       0   \n",
       "3     0         0          0 ...       0        3      0      0       1   \n",
       "4     0         0          1 ...       0        1      1      0       0   \n",
       "8     0         0          0 ...       1        1      1      0       0   \n",
       "\n",
       "   pakistani  bangladeshi  chinese  other  Int  \n",
       "1          0            0        0      0    1  \n",
       "2          0            0        0      0    1  \n",
       "3          0            0        0      0    1  \n",
       "4          0            0        0      0    1  \n",
       "8          0            0        0      0    1  \n",
       "\n",
       "[5 rows x 26 columns]"
      ]
     },
     "execution_count": 5,
     "metadata": {},
     "output_type": "execute_result"
    }
   ],
   "source": [
    "df.head()"
   ]
  },
  {
   "cell_type": "code",
   "execution_count": 6,
   "metadata": {
    "collapsed": false
   },
   "outputs": [
    {
     "data": {
      "text/html": [
       "<div>\n",
       "<table border=\"1\" class=\"dataframe\">\n",
       "  <thead>\n",
       "    <tr style=\"text-align: right;\">\n",
       "      <th></th>\n",
       "      <th>serial</th>\n",
       "      <th>weight</th>\n",
       "      <th>s1a_c</th>\n",
       "      <th>pseg</th>\n",
       "      <th>prof_man</th>\n",
       "      <th>o_non_man</th>\n",
       "      <th>skilled_man</th>\n",
       "      <th>semi_skilled</th>\n",
       "      <th>pseg5</th>\n",
       "      <th>pseg6</th>\n",
       "      <th>...</th>\n",
       "      <th>girls</th>\n",
       "      <th>ethnic1</th>\n",
       "      <th>white</th>\n",
       "      <th>black</th>\n",
       "      <th>indian</th>\n",
       "      <th>pakistani</th>\n",
       "      <th>bangladeshi</th>\n",
       "      <th>chinese</th>\n",
       "      <th>other</th>\n",
       "      <th>Int</th>\n",
       "    </tr>\n",
       "  </thead>\n",
       "  <tbody>\n",
       "    <tr>\n",
       "      <th>count</th>\n",
       "      <td>12789.000000</td>\n",
       "      <td>12789.000000</td>\n",
       "      <td>12789.000000</td>\n",
       "      <td>12789</td>\n",
       "      <td>12789.000000</td>\n",
       "      <td>12789.000000</td>\n",
       "      <td>12789.000000</td>\n",
       "      <td>12789.000000</td>\n",
       "      <td>12789.000000</td>\n",
       "      <td>12789</td>\n",
       "      <td>...</td>\n",
       "      <td>12789.000000</td>\n",
       "      <td>12789.000000</td>\n",
       "      <td>12789.000000</td>\n",
       "      <td>12789.000000</td>\n",
       "      <td>12789.000000</td>\n",
       "      <td>12789.000000</td>\n",
       "      <td>12789.000000</td>\n",
       "      <td>12789.000000</td>\n",
       "      <td>12789</td>\n",
       "      <td>12789</td>\n",
       "    </tr>\n",
       "    <tr>\n",
       "      <th>mean</th>\n",
       "      <td>212370.330988</td>\n",
       "      <td>0.982292</td>\n",
       "      <td>5.526624</td>\n",
       "      <td>0</td>\n",
       "      <td>0.256158</td>\n",
       "      <td>0.229885</td>\n",
       "      <td>0.352881</td>\n",
       "      <td>0.121511</td>\n",
       "      <td>0.039565</td>\n",
       "      <td>0</td>\n",
       "      <td>...</td>\n",
       "      <td>0.532411</td>\n",
       "      <td>1.151536</td>\n",
       "      <td>0.935335</td>\n",
       "      <td>0.014075</td>\n",
       "      <td>0.028853</td>\n",
       "      <td>0.012433</td>\n",
       "      <td>0.004066</td>\n",
       "      <td>0.005239</td>\n",
       "      <td>0</td>\n",
       "      <td>1</td>\n",
       "    </tr>\n",
       "    <tr>\n",
       "      <th>std</th>\n",
       "      <td>7442.695401</td>\n",
       "      <td>0.350797</td>\n",
       "      <td>3.671873</td>\n",
       "      <td>0</td>\n",
       "      <td>0.436527</td>\n",
       "      <td>0.420775</td>\n",
       "      <td>0.477885</td>\n",
       "      <td>0.326733</td>\n",
       "      <td>0.194943</td>\n",
       "      <td>0</td>\n",
       "      <td>...</td>\n",
       "      <td>0.498968</td>\n",
       "      <td>0.643798</td>\n",
       "      <td>0.245943</td>\n",
       "      <td>0.117803</td>\n",
       "      <td>0.167400</td>\n",
       "      <td>0.110810</td>\n",
       "      <td>0.063638</td>\n",
       "      <td>0.072193</td>\n",
       "      <td>0</td>\n",
       "      <td>0</td>\n",
       "    </tr>\n",
       "    <tr>\n",
       "      <th>min</th>\n",
       "      <td>200001.000000</td>\n",
       "      <td>0.602530</td>\n",
       "      <td>0.000000</td>\n",
       "      <td>0</td>\n",
       "      <td>0.000000</td>\n",
       "      <td>0.000000</td>\n",
       "      <td>0.000000</td>\n",
       "      <td>0.000000</td>\n",
       "      <td>0.000000</td>\n",
       "      <td>0</td>\n",
       "      <td>...</td>\n",
       "      <td>0.000000</td>\n",
       "      <td>1.000000</td>\n",
       "      <td>0.000000</td>\n",
       "      <td>0.000000</td>\n",
       "      <td>0.000000</td>\n",
       "      <td>0.000000</td>\n",
       "      <td>0.000000</td>\n",
       "      <td>0.000000</td>\n",
       "      <td>0</td>\n",
       "      <td>1</td>\n",
       "    </tr>\n",
       "    <tr>\n",
       "      <th>25%</th>\n",
       "      <td>206648.000000</td>\n",
       "      <td>0.762780</td>\n",
       "      <td>2.000000</td>\n",
       "      <td>0</td>\n",
       "      <td>0.000000</td>\n",
       "      <td>0.000000</td>\n",
       "      <td>0.000000</td>\n",
       "      <td>0.000000</td>\n",
       "      <td>0.000000</td>\n",
       "      <td>0</td>\n",
       "      <td>...</td>\n",
       "      <td>0.000000</td>\n",
       "      <td>1.000000</td>\n",
       "      <td>1.000000</td>\n",
       "      <td>0.000000</td>\n",
       "      <td>0.000000</td>\n",
       "      <td>0.000000</td>\n",
       "      <td>0.000000</td>\n",
       "      <td>0.000000</td>\n",
       "      <td>0</td>\n",
       "      <td>1</td>\n",
       "    </tr>\n",
       "    <tr>\n",
       "      <th>50%</th>\n",
       "      <td>211922.000000</td>\n",
       "      <td>0.875030</td>\n",
       "      <td>6.000000</td>\n",
       "      <td>0</td>\n",
       "      <td>0.000000</td>\n",
       "      <td>0.000000</td>\n",
       "      <td>0.000000</td>\n",
       "      <td>0.000000</td>\n",
       "      <td>0.000000</td>\n",
       "      <td>0</td>\n",
       "      <td>...</td>\n",
       "      <td>1.000000</td>\n",
       "      <td>1.000000</td>\n",
       "      <td>1.000000</td>\n",
       "      <td>0.000000</td>\n",
       "      <td>0.000000</td>\n",
       "      <td>0.000000</td>\n",
       "      <td>0.000000</td>\n",
       "      <td>0.000000</td>\n",
       "      <td>0</td>\n",
       "      <td>1</td>\n",
       "    </tr>\n",
       "    <tr>\n",
       "      <th>75%</th>\n",
       "      <td>217230.000000</td>\n",
       "      <td>1.030390</td>\n",
       "      <td>9.000000</td>\n",
       "      <td>0</td>\n",
       "      <td>1.000000</td>\n",
       "      <td>0.000000</td>\n",
       "      <td>1.000000</td>\n",
       "      <td>0.000000</td>\n",
       "      <td>0.000000</td>\n",
       "      <td>0</td>\n",
       "      <td>...</td>\n",
       "      <td>1.000000</td>\n",
       "      <td>1.000000</td>\n",
       "      <td>1.000000</td>\n",
       "      <td>0.000000</td>\n",
       "      <td>0.000000</td>\n",
       "      <td>0.000000</td>\n",
       "      <td>0.000000</td>\n",
       "      <td>0.000000</td>\n",
       "      <td>0</td>\n",
       "      <td>1</td>\n",
       "    </tr>\n",
       "    <tr>\n",
       "      <th>max</th>\n",
       "      <td>231392.000000</td>\n",
       "      <td>2.517570</td>\n",
       "      <td>13.000000</td>\n",
       "      <td>0</td>\n",
       "      <td>1.000000</td>\n",
       "      <td>1.000000</td>\n",
       "      <td>1.000000</td>\n",
       "      <td>1.000000</td>\n",
       "      <td>1.000000</td>\n",
       "      <td>0</td>\n",
       "      <td>...</td>\n",
       "      <td>1.000000</td>\n",
       "      <td>6.000000</td>\n",
       "      <td>1.000000</td>\n",
       "      <td>1.000000</td>\n",
       "      <td>1.000000</td>\n",
       "      <td>1.000000</td>\n",
       "      <td>1.000000</td>\n",
       "      <td>1.000000</td>\n",
       "      <td>0</td>\n",
       "      <td>1</td>\n",
       "    </tr>\n",
       "  </tbody>\n",
       "</table>\n",
       "<p>8 rows × 22 columns</p>\n",
       "</div>"
      ],
      "text/plain": [
       "              serial        weight         s1a_c   pseg      prof_man  \\\n",
       "count   12789.000000  12789.000000  12789.000000  12789  12789.000000   \n",
       "mean   212370.330988      0.982292      5.526624      0      0.256158   \n",
       "std      7442.695401      0.350797      3.671873      0      0.436527   \n",
       "min    200001.000000      0.602530      0.000000      0      0.000000   \n",
       "25%    206648.000000      0.762780      2.000000      0      0.000000   \n",
       "50%    211922.000000      0.875030      6.000000      0      0.000000   \n",
       "75%    217230.000000      1.030390      9.000000      0      1.000000   \n",
       "max    231392.000000      2.517570     13.000000      0      1.000000   \n",
       "\n",
       "          o_non_man   skilled_man  semi_skilled         pseg5  pseg6  ...    \\\n",
       "count  12789.000000  12789.000000  12789.000000  12789.000000  12789  ...     \n",
       "mean       0.229885      0.352881      0.121511      0.039565      0  ...     \n",
       "std        0.420775      0.477885      0.326733      0.194943      0  ...     \n",
       "min        0.000000      0.000000      0.000000      0.000000      0  ...     \n",
       "25%        0.000000      0.000000      0.000000      0.000000      0  ...     \n",
       "50%        0.000000      0.000000      0.000000      0.000000      0  ...     \n",
       "75%        0.000000      1.000000      0.000000      0.000000      0  ...     \n",
       "max        1.000000      1.000000      1.000000      1.000000      0  ...     \n",
       "\n",
       "              girls       ethnic1         white         black        indian  \\\n",
       "count  12789.000000  12789.000000  12789.000000  12789.000000  12789.000000   \n",
       "mean       0.532411      1.151536      0.935335      0.014075      0.028853   \n",
       "std        0.498968      0.643798      0.245943      0.117803      0.167400   \n",
       "min        0.000000      1.000000      0.000000      0.000000      0.000000   \n",
       "25%        0.000000      1.000000      1.000000      0.000000      0.000000   \n",
       "50%        1.000000      1.000000      1.000000      0.000000      0.000000   \n",
       "75%        1.000000      1.000000      1.000000      0.000000      0.000000   \n",
       "max        1.000000      6.000000      1.000000      1.000000      1.000000   \n",
       "\n",
       "          pakistani   bangladeshi       chinese  other    Int  \n",
       "count  12789.000000  12789.000000  12789.000000  12789  12789  \n",
       "mean       0.012433      0.004066      0.005239      0      1  \n",
       "std        0.110810      0.063638      0.072193      0      0  \n",
       "min        0.000000      0.000000      0.000000      0      1  \n",
       "25%        0.000000      0.000000      0.000000      0      1  \n",
       "50%        0.000000      0.000000      0.000000      0      1  \n",
       "75%        0.000000      0.000000      0.000000      0      1  \n",
       "max        1.000000      1.000000      1.000000      0      1  \n",
       "\n",
       "[8 rows x 22 columns]"
      ]
     },
     "execution_count": 6,
     "metadata": {},
     "output_type": "execute_result"
    }
   ],
   "source": [
    "df.describe()"
   ]
  },
  {
   "cell_type": "markdown",
   "metadata": {},
   "source": [
    "---"
   ]
  },
  {
   "cell_type": "markdown",
   "metadata": {},
   "source": [
    "__statsmodels__ is a Python module that provides classes and functions for the estimation of many different statistical models, as well as for conducting statistical tests, and statistical data exploration. <br>\n",
    "The online documentation is hosted at http://www.statsmodels.org ."
   ]
  },
  {
   "cell_type": "code",
   "execution_count": 7,
   "metadata": {
    "collapsed": true
   },
   "outputs": [],
   "source": [
    "import statsmodels.api as sm"
   ]
  },
  {
   "cell_type": "code",
   "execution_count": 8,
   "metadata": {
    "collapsed": false,
    "scrolled": true
   },
   "outputs": [
    {
     "data": {
      "text/plain": [
       "['serial',\n",
       " 'weight',\n",
       " 'sex',\n",
       " 's1a_c',\n",
       " 'a58',\n",
       " 's1eth',\n",
       " 's1acqe',\n",
       " 'pseg',\n",
       " 'prof_man',\n",
       " 'o_non_man',\n",
       " 'skilled_man',\n",
       " 'semi_skilled',\n",
       " 'pseg5',\n",
       " 'pseg6',\n",
       " 'pseg7',\n",
       " 's15a_c',\n",
       " 'girls',\n",
       " 'ethnic1',\n",
       " 'white',\n",
       " 'black',\n",
       " 'indian',\n",
       " 'pakistani',\n",
       " 'bangladeshi',\n",
       " 'chinese',\n",
       " 'other',\n",
       " 'Int']"
      ]
     },
     "execution_count": 8,
     "metadata": {},
     "output_type": "execute_result"
    }
   ],
   "source": [
    "list(df)"
   ]
  },
  {
   "cell_type": "code",
   "execution_count": 9,
   "metadata": {
    "collapsed": false
   },
   "outputs": [
    {
     "name": "stdout",
     "output_type": "stream",
     "text": [
      "Optimization terminated successfully.\n",
      "         Current function value: 0.625258\n",
      "         Iterations 5\n"
     ]
    }
   ],
   "source": [
    "independentVar = ['girls', 'chinese', 'indian', 'white', 'bangladeshi', 'pakistani', 'prof_man','o_non_man','skilled_man','semi_skilled', 'Int']\n",
    "logReg = sm.Logit(df['s15a_c'] , df[independentVar]) \n",
    "answer = logReg.fit()"
   ]
  },
  {
   "cell_type": "code",
   "execution_count": 10,
   "metadata": {
    "collapsed": false,
    "scrolled": true
   },
   "outputs": [
    {
     "data": {
      "text/html": [
       "<table class=\"simpletable\">\n",
       "<caption>Logit Regression Results</caption>\n",
       "<tr>\n",
       "  <th>Dep. Variable:</th>      <td>s15a_c</td>      <th>  No. Observations:  </th>   <td> 12789</td>  \n",
       "</tr>\n",
       "<tr>\n",
       "  <th>Model:</th>               <td>Logit</td>      <th>  Df Residuals:      </th>   <td> 12778</td>  \n",
       "</tr>\n",
       "<tr>\n",
       "  <th>Method:</th>               <td>MLE</td>       <th>  Df Model:          </th>   <td>    10</td>  \n",
       "</tr>\n",
       "<tr>\n",
       "  <th>Date:</th>          <td>Sat, 19 Aug 2017</td> <th>  Pseudo R-squ.:     </th>   <td>0.06960</td> \n",
       "</tr>\n",
       "<tr>\n",
       "  <th>Time:</th>              <td>14:05:56</td>     <th>  Log-Likelihood:    </th>  <td> -7996.4</td> \n",
       "</tr>\n",
       "<tr>\n",
       "  <th>converged:</th>           <td>True</td>       <th>  LL-Null:           </th>  <td> -8594.6</td> \n",
       "</tr>\n",
       "<tr>\n",
       "  <th> </th>                      <td> </td>        <th>  LLR p-value:       </th> <td>8.895e-251</td>\n",
       "</tr>\n",
       "</table>\n",
       "<table class=\"simpletable\">\n",
       "<tr>\n",
       "        <td></td>          <th>coef</th>     <th>std err</th>      <th>z</th>      <th>P>|z|</th> <th>[95.0% Conf. Int.]</th> \n",
       "</tr>\n",
       "<tr>\n",
       "  <th>girls</th>        <td>    0.3239</td> <td>    0.038</td> <td>    8.519</td> <td> 0.000</td> <td>    0.249     0.398</td>\n",
       "</tr>\n",
       "<tr>\n",
       "  <th>chinese</th>      <td>    1.8696</td> <td>    0.347</td> <td>    5.393</td> <td> 0.000</td> <td>    1.190     2.549</td>\n",
       "</tr>\n",
       "<tr>\n",
       "  <th>indian</th>       <td>    1.0400</td> <td>    0.195</td> <td>    5.331</td> <td> 0.000</td> <td>    0.658     1.422</td>\n",
       "</tr>\n",
       "<tr>\n",
       "  <th>white</th>        <td>    0.6486</td> <td>    0.158</td> <td>    4.095</td> <td> 0.000</td> <td>    0.338     0.959</td>\n",
       "</tr>\n",
       "<tr>\n",
       "  <th>bangladeshi</th>  <td>    0.7172</td> <td>    0.330</td> <td>    2.173</td> <td> 0.030</td> <td>    0.070     1.364</td>\n",
       "</tr>\n",
       "<tr>\n",
       "  <th>pakistani</th>    <td>    0.4700</td> <td>    0.228</td> <td>    2.059</td> <td> 0.040</td> <td>    0.023     0.917</td>\n",
       "</tr>\n",
       "<tr>\n",
       "  <th>prof_man</th>     <td>    2.0805</td> <td>    0.106</td> <td>   19.629</td> <td> 0.000</td> <td>    1.873     2.288</td>\n",
       "</tr>\n",
       "<tr>\n",
       "  <th>o_non_man</th>    <td>    1.6869</td> <td>    0.105</td> <td>   16.007</td> <td> 0.000</td> <td>    1.480     1.893</td>\n",
       "</tr>\n",
       "<tr>\n",
       "  <th>skilled_man</th>  <td>    0.8715</td> <td>    0.102</td> <td>    8.564</td> <td> 0.000</td> <td>    0.672     1.071</td>\n",
       "</tr>\n",
       "<tr>\n",
       "  <th>semi_skilled</th> <td>    0.5475</td> <td>    0.110</td> <td>    4.972</td> <td> 0.000</td> <td>    0.332     0.763</td>\n",
       "</tr>\n",
       "<tr>\n",
       "  <th>Int</th>          <td>   -1.6659</td> <td>    0.186</td> <td>   -8.962</td> <td> 0.000</td> <td>   -2.030    -1.302</td>\n",
       "</tr>\n",
       "</table>"
      ],
      "text/plain": [
       "<class 'statsmodels.iolib.summary.Summary'>\n",
       "\"\"\"\n",
       "                           Logit Regression Results                           \n",
       "==============================================================================\n",
       "Dep. Variable:                 s15a_c   No. Observations:                12789\n",
       "Model:                          Logit   Df Residuals:                    12778\n",
       "Method:                           MLE   Df Model:                           10\n",
       "Date:                Sat, 19 Aug 2017   Pseudo R-squ.:                 0.06960\n",
       "Time:                        14:05:56   Log-Likelihood:                -7996.4\n",
       "converged:                       True   LL-Null:                       -8594.6\n",
       "                                        LLR p-value:                8.895e-251\n",
       "================================================================================\n",
       "                   coef    std err          z      P>|z|      [95.0% Conf. Int.]\n",
       "--------------------------------------------------------------------------------\n",
       "girls            0.3239      0.038      8.519      0.000         0.249     0.398\n",
       "chinese          1.8696      0.347      5.393      0.000         1.190     2.549\n",
       "indian           1.0400      0.195      5.331      0.000         0.658     1.422\n",
       "white            0.6486      0.158      4.095      0.000         0.338     0.959\n",
       "bangladeshi      0.7172      0.330      2.173      0.030         0.070     1.364\n",
       "pakistani        0.4700      0.228      2.059      0.040         0.023     0.917\n",
       "prof_man         2.0805      0.106     19.629      0.000         1.873     2.288\n",
       "o_non_man        1.6869      0.105     16.007      0.000         1.480     1.893\n",
       "skilled_man      0.8715      0.102      8.564      0.000         0.672     1.071\n",
       "semi_skilled     0.5475      0.110      4.972      0.000         0.332     0.763\n",
       "Int             -1.6659      0.186     -8.962      0.000        -2.030    -1.302\n",
       "================================================================================\n",
       "\"\"\""
      ]
     },
     "execution_count": 10,
     "metadata": {},
     "output_type": "execute_result"
    }
   ],
   "source": [
    "answer.summary()"
   ]
  },
  {
   "cell_type": "code",
   "execution_count": 12,
   "metadata": {
    "collapsed": false
   },
   "outputs": [],
   "source": [
    "from patsy import dmatrices\n"
   ]
  },
  {
   "cell_type": "code",
   "execution_count": 13,
   "metadata": {
    "collapsed": false
   },
   "outputs": [],
   "source": [
    "\n",
    "y, x = dmatrices('s15a_c ~ 1 + girls + chinese + indian + white + bangladeshi + pakistani + prof_man + o_non_man + skilled_man + semi_skilled' , df)"
   ]
  },
  {
   "cell_type": "code",
   "execution_count": 14,
   "metadata": {
    "collapsed": false
   },
   "outputs": [
    {
     "data": {
      "text/html": [
       "<table class=\"simpletable\">\n",
       "<caption>Generalized Linear Model Regression Results</caption>\n",
       "<tr>\n",
       "  <th>Dep. Variable:</th>       <td>s15a_c</td>      <th>  No. Observations:  </th>  <td> 12789</td> \n",
       "</tr>\n",
       "<tr>\n",
       "  <th>Model:</th>                 <td>GLM</td>       <th>  Df Residuals:      </th>  <td> 12778</td> \n",
       "</tr>\n",
       "<tr>\n",
       "  <th>Model Family:</th>       <td>Binomial</td>     <th>  Df Model:          </th>  <td>    10</td> \n",
       "</tr>\n",
       "<tr>\n",
       "  <th>Link Function:</th>        <td>logit</td>      <th>  Scale:             </th>    <td>1.0</td>  \n",
       "</tr>\n",
       "<tr>\n",
       "  <th>Method:</th>               <td>IRLS</td>       <th>  Log-Likelihood:    </th> <td> -7996.4</td>\n",
       "</tr>\n",
       "<tr>\n",
       "  <th>Date:</th>           <td>Sat, 19 Aug 2017</td> <th>  Deviance:          </th> <td>  15993.</td>\n",
       "</tr>\n",
       "<tr>\n",
       "  <th>Time:</th>               <td>14:06:39</td>     <th>  Pearson chi2:      </th> <td>1.28e+04</td>\n",
       "</tr>\n",
       "<tr>\n",
       "  <th>No. Iterations:</th>         <td>6</td>        <th>                     </th>     <td> </td>   \n",
       "</tr>\n",
       "</table>\n",
       "<table class=\"simpletable\">\n",
       "<tr>\n",
       "        <td></td>          <th>coef</th>     <th>std err</th>      <th>z</th>      <th>P>|z|</th> <th>[95.0% Conf. Int.]</th> \n",
       "</tr>\n",
       "<tr>\n",
       "  <th>Intercept</th>    <td>   -1.6659</td> <td>    0.186</td> <td>   -8.962</td> <td> 0.000</td> <td>   -2.030    -1.302</td>\n",
       "</tr>\n",
       "<tr>\n",
       "  <th>girls</th>        <td>    0.3239</td> <td>    0.038</td> <td>    8.519</td> <td> 0.000</td> <td>    0.249     0.398</td>\n",
       "</tr>\n",
       "<tr>\n",
       "  <th>chinese</th>      <td>    1.8696</td> <td>    0.347</td> <td>    5.393</td> <td> 0.000</td> <td>    1.190     2.549</td>\n",
       "</tr>\n",
       "<tr>\n",
       "  <th>indian</th>       <td>    1.0400</td> <td>    0.195</td> <td>    5.331</td> <td> 0.000</td> <td>    0.658     1.422</td>\n",
       "</tr>\n",
       "<tr>\n",
       "  <th>white</th>        <td>    0.6486</td> <td>    0.158</td> <td>    4.095</td> <td> 0.000</td> <td>    0.338     0.959</td>\n",
       "</tr>\n",
       "<tr>\n",
       "  <th>bangladeshi</th>  <td>    0.7172</td> <td>    0.330</td> <td>    2.173</td> <td> 0.030</td> <td>    0.070     1.364</td>\n",
       "</tr>\n",
       "<tr>\n",
       "  <th>pakistani</th>    <td>    0.4700</td> <td>    0.228</td> <td>    2.059</td> <td> 0.040</td> <td>    0.023     0.917</td>\n",
       "</tr>\n",
       "<tr>\n",
       "  <th>prof_man</th>     <td>    2.0805</td> <td>    0.106</td> <td>   19.629</td> <td> 0.000</td> <td>    1.873     2.288</td>\n",
       "</tr>\n",
       "<tr>\n",
       "  <th>o_non_man</th>    <td>    1.6869</td> <td>    0.105</td> <td>   16.007</td> <td> 0.000</td> <td>    1.480     1.893</td>\n",
       "</tr>\n",
       "<tr>\n",
       "  <th>skilled_man</th>  <td>    0.8715</td> <td>    0.102</td> <td>    8.564</td> <td> 0.000</td> <td>    0.672     1.071</td>\n",
       "</tr>\n",
       "<tr>\n",
       "  <th>semi_skilled</th> <td>    0.5475</td> <td>    0.110</td> <td>    4.972</td> <td> 0.000</td> <td>    0.332     0.763</td>\n",
       "</tr>\n",
       "</table>"
      ],
      "text/plain": [
       "<class 'statsmodels.iolib.summary.Summary'>\n",
       "\"\"\"\n",
       "                 Generalized Linear Model Regression Results                  \n",
       "==============================================================================\n",
       "Dep. Variable:                 s15a_c   No. Observations:                12789\n",
       "Model:                            GLM   Df Residuals:                    12778\n",
       "Model Family:                Binomial   Df Model:                           10\n",
       "Link Function:                  logit   Scale:                             1.0\n",
       "Method:                          IRLS   Log-Likelihood:                -7996.4\n",
       "Date:                Sat, 19 Aug 2017   Deviance:                       15993.\n",
       "Time:                        14:06:39   Pearson chi2:                 1.28e+04\n",
       "No. Iterations:                     6                                         \n",
       "================================================================================\n",
       "                   coef    std err          z      P>|z|      [95.0% Conf. Int.]\n",
       "--------------------------------------------------------------------------------\n",
       "Intercept       -1.6659      0.186     -8.962      0.000        -2.030    -1.302\n",
       "girls            0.3239      0.038      8.519      0.000         0.249     0.398\n",
       "chinese          1.8696      0.347      5.393      0.000         1.190     2.549\n",
       "indian           1.0400      0.195      5.331      0.000         0.658     1.422\n",
       "white            0.6486      0.158      4.095      0.000         0.338     0.959\n",
       "bangladeshi      0.7172      0.330      2.173      0.030         0.070     1.364\n",
       "pakistani        0.4700      0.228      2.059      0.040         0.023     0.917\n",
       "prof_man         2.0805      0.106     19.629      0.000         1.873     2.288\n",
       "o_non_man        1.6869      0.105     16.007      0.000         1.480     1.893\n",
       "skilled_man      0.8715      0.102      8.564      0.000         0.672     1.071\n",
       "semi_skilled     0.5475      0.110      4.972      0.000         0.332     0.763\n",
       "================================================================================\n",
       "\"\"\""
      ]
     },
     "execution_count": 14,
     "metadata": {},
     "output_type": "execute_result"
    }
   ],
   "source": [
    "sm.GLM(endog=y, exog=x, family=sm.families.Binomial(), data_weights=df['weight']).fit().summary()"
   ]
  },
  {
   "cell_type": "markdown",
   "metadata": {},
   "source": [
    "<font color=red>Beware!</font> \n",
    "\n",
    "These results do not appear to have been weighted.\n"
   ]
  },
  {
   "cell_type": "markdown",
   "metadata": {},
   "source": [
    "---\n"
   ]
  },
  {
   "cell_type": "code",
   "execution_count": 15,
   "metadata": {
    "collapsed": false,
    "scrolled": false
   },
   "outputs": [
    {
     "data": {
      "text/html": [
       "<table class=\"simpletable\">\n",
       "<caption>Generalized Linear Model Regression Results</caption>\n",
       "<tr>\n",
       "  <th>Dep. Variable:</th>       <td>s15a_c</td>      <th>  No. Observations:  </th>  <td> 12789</td> \n",
       "</tr>\n",
       "<tr>\n",
       "  <th>Model:</th>                 <td>GLM</td>       <th>  Df Residuals:      </th>  <td> 12778</td> \n",
       "</tr>\n",
       "<tr>\n",
       "  <th>Model Family:</th>       <td>Binomial</td>     <th>  Df Model:          </th>  <td>    10</td> \n",
       "</tr>\n",
       "<tr>\n",
       "  <th>Link Function:</th>        <td>logit</td>      <th>  Scale:             </th>    <td>1.0</td>  \n",
       "</tr>\n",
       "<tr>\n",
       "  <th>Method:</th>               <td>IRLS</td>       <th>  Log-Likelihood:    </th> <td> -7996.4</td>\n",
       "</tr>\n",
       "<tr>\n",
       "  <th>Date:</th>           <td>Sat, 19 Aug 2017</td> <th>  Deviance:          </th> <td>  15993.</td>\n",
       "</tr>\n",
       "<tr>\n",
       "  <th>Time:</th>               <td>14:07:17</td>     <th>  Pearson chi2:      </th> <td>1.28e+04</td>\n",
       "</tr>\n",
       "<tr>\n",
       "  <th>No. Iterations:</th>         <td>6</td>        <th>                     </th>     <td> </td>   \n",
       "</tr>\n",
       "</table>\n",
       "<table class=\"simpletable\">\n",
       "<tr>\n",
       "        <td></td>          <th>coef</th>     <th>std err</th>      <th>z</th>      <th>P>|z|</th> <th>[95.0% Conf. Int.]</th> \n",
       "</tr>\n",
       "<tr>\n",
       "  <th>Intercept</th>    <td>   -1.6659</td> <td>    0.186</td> <td>   -8.962</td> <td> 0.000</td> <td>   -2.030    -1.302</td>\n",
       "</tr>\n",
       "<tr>\n",
       "  <th>girls</th>        <td>    0.3239</td> <td>    0.038</td> <td>    8.519</td> <td> 0.000</td> <td>    0.249     0.398</td>\n",
       "</tr>\n",
       "<tr>\n",
       "  <th>chinese</th>      <td>    1.8696</td> <td>    0.347</td> <td>    5.393</td> <td> 0.000</td> <td>    1.190     2.549</td>\n",
       "</tr>\n",
       "<tr>\n",
       "  <th>indian</th>       <td>    1.0400</td> <td>    0.195</td> <td>    5.331</td> <td> 0.000</td> <td>    0.658     1.422</td>\n",
       "</tr>\n",
       "<tr>\n",
       "  <th>white</th>        <td>    0.6486</td> <td>    0.158</td> <td>    4.095</td> <td> 0.000</td> <td>    0.338     0.959</td>\n",
       "</tr>\n",
       "<tr>\n",
       "  <th>bangladeshi</th>  <td>    0.7172</td> <td>    0.330</td> <td>    2.173</td> <td> 0.030</td> <td>    0.070     1.364</td>\n",
       "</tr>\n",
       "<tr>\n",
       "  <th>pakistani</th>    <td>    0.4700</td> <td>    0.228</td> <td>    2.059</td> <td> 0.040</td> <td>    0.023     0.917</td>\n",
       "</tr>\n",
       "<tr>\n",
       "  <th>prof_man</th>     <td>    2.0805</td> <td>    0.106</td> <td>   19.629</td> <td> 0.000</td> <td>    1.873     2.288</td>\n",
       "</tr>\n",
       "<tr>\n",
       "  <th>o_non_man</th>    <td>    1.6869</td> <td>    0.105</td> <td>   16.007</td> <td> 0.000</td> <td>    1.480     1.893</td>\n",
       "</tr>\n",
       "<tr>\n",
       "  <th>skilled_man</th>  <td>    0.8715</td> <td>    0.102</td> <td>    8.564</td> <td> 0.000</td> <td>    0.672     1.071</td>\n",
       "</tr>\n",
       "<tr>\n",
       "  <th>semi_skilled</th> <td>    0.5475</td> <td>    0.110</td> <td>    4.972</td> <td> 0.000</td> <td>    0.332     0.763</td>\n",
       "</tr>\n",
       "</table>"
      ],
      "text/plain": [
       "<class 'statsmodels.iolib.summary.Summary'>\n",
       "\"\"\"\n",
       "                 Generalized Linear Model Regression Results                  \n",
       "==============================================================================\n",
       "Dep. Variable:                 s15a_c   No. Observations:                12789\n",
       "Model:                            GLM   Df Residuals:                    12778\n",
       "Model Family:                Binomial   Df Model:                           10\n",
       "Link Function:                  logit   Scale:                             1.0\n",
       "Method:                          IRLS   Log-Likelihood:                -7996.4\n",
       "Date:                Sat, 19 Aug 2017   Deviance:                       15993.\n",
       "Time:                        14:07:17   Pearson chi2:                 1.28e+04\n",
       "No. Iterations:                     6                                         \n",
       "================================================================================\n",
       "                   coef    std err          z      P>|z|      [95.0% Conf. Int.]\n",
       "--------------------------------------------------------------------------------\n",
       "Intercept       -1.6659      0.186     -8.962      0.000        -2.030    -1.302\n",
       "girls            0.3239      0.038      8.519      0.000         0.249     0.398\n",
       "chinese          1.8696      0.347      5.393      0.000         1.190     2.549\n",
       "indian           1.0400      0.195      5.331      0.000         0.658     1.422\n",
       "white            0.6486      0.158      4.095      0.000         0.338     0.959\n",
       "bangladeshi      0.7172      0.330      2.173      0.030         0.070     1.364\n",
       "pakistani        0.4700      0.228      2.059      0.040         0.023     0.917\n",
       "prof_man         2.0805      0.106     19.629      0.000         1.873     2.288\n",
       "o_non_man        1.6869      0.105     16.007      0.000         1.480     1.893\n",
       "skilled_man      0.8715      0.102      8.564      0.000         0.672     1.071\n",
       "semi_skilled     0.5475      0.110      4.972      0.000         0.332     0.763\n",
       "================================================================================\n",
       "\"\"\""
      ]
     },
     "execution_count": 15,
     "metadata": {},
     "output_type": "execute_result"
    }
   ],
   "source": [
    "# Here is another attempt...\n",
    "\n",
    "logmodel=sm.GLM(endog=y, exog=x, family=sm.families.Binomial(sm.families.links.logit)).fit()\n",
    "#sm.GLM(, family=sm.families.Binomial(), data_weights=df['weight']).fit().summary()\n",
    "logmodel.summary()"
   ]
  },
  {
   "cell_type": "markdown",
   "metadata": {},
   "source": [
    "<font color=red>Beware!</font> \n",
    "\n",
    "These results do not appear to have been weighted.\n"
   ]
  },
  {
   "cell_type": "markdown",
   "metadata": {},
   "source": [
    "---"
   ]
  },
  {
   "cell_type": "code",
   "execution_count": 16,
   "metadata": {
    "collapsed": false
   },
   "outputs": [
    {
     "data": {
      "text/html": [
       "<table class=\"simpletable\">\n",
       "<caption>Generalized Linear Model Regression Results</caption>\n",
       "<tr>\n",
       "  <th>Dep. Variable:</th>       <td>s15a_c</td>      <th>  No. Observations:  </th>  <td> 12789</td> \n",
       "</tr>\n",
       "<tr>\n",
       "  <th>Model:</th>                 <td>GLM</td>       <th>  Df Residuals:      </th>  <td> 12778</td> \n",
       "</tr>\n",
       "<tr>\n",
       "  <th>Model Family:</th>       <td>Binomial</td>     <th>  Df Model:          </th>  <td>    10</td> \n",
       "</tr>\n",
       "<tr>\n",
       "  <th>Link Function:</th>        <td>logit</td>      <th>  Scale:             </th>    <td>1.0</td>  \n",
       "</tr>\n",
       "<tr>\n",
       "  <th>Method:</th>               <td>IRLS</td>       <th>  Log-Likelihood:    </th> <td> -7996.4</td>\n",
       "</tr>\n",
       "<tr>\n",
       "  <th>Date:</th>           <td>Sat, 19 Aug 2017</td> <th>  Deviance:          </th> <td>  15993.</td>\n",
       "</tr>\n",
       "<tr>\n",
       "  <th>Time:</th>               <td>14:07:27</td>     <th>  Pearson chi2:      </th> <td>1.28e+04</td>\n",
       "</tr>\n",
       "<tr>\n",
       "  <th>No. Iterations:</th>         <td>6</td>        <th>                     </th>     <td> </td>   \n",
       "</tr>\n",
       "</table>\n",
       "<table class=\"simpletable\">\n",
       "<tr>\n",
       "        <td></td>          <th>coef</th>     <th>std err</th>      <th>z</th>      <th>P>|z|</th> <th>[95.0% Conf. Int.]</th> \n",
       "</tr>\n",
       "<tr>\n",
       "  <th>Intercept</th>    <td>   -1.6659</td> <td>    0.186</td> <td>   -8.962</td> <td> 0.000</td> <td>   -2.030    -1.302</td>\n",
       "</tr>\n",
       "<tr>\n",
       "  <th>girls</th>        <td>    0.3239</td> <td>    0.038</td> <td>    8.519</td> <td> 0.000</td> <td>    0.249     0.398</td>\n",
       "</tr>\n",
       "<tr>\n",
       "  <th>chinese</th>      <td>    1.8696</td> <td>    0.347</td> <td>    5.393</td> <td> 0.000</td> <td>    1.190     2.549</td>\n",
       "</tr>\n",
       "<tr>\n",
       "  <th>indian</th>       <td>    1.0400</td> <td>    0.195</td> <td>    5.331</td> <td> 0.000</td> <td>    0.658     1.422</td>\n",
       "</tr>\n",
       "<tr>\n",
       "  <th>white</th>        <td>    0.6486</td> <td>    0.158</td> <td>    4.095</td> <td> 0.000</td> <td>    0.338     0.959</td>\n",
       "</tr>\n",
       "<tr>\n",
       "  <th>bangladeshi</th>  <td>    0.7172</td> <td>    0.330</td> <td>    2.173</td> <td> 0.030</td> <td>    0.070     1.364</td>\n",
       "</tr>\n",
       "<tr>\n",
       "  <th>pakistani</th>    <td>    0.4700</td> <td>    0.228</td> <td>    2.059</td> <td> 0.040</td> <td>    0.023     0.917</td>\n",
       "</tr>\n",
       "<tr>\n",
       "  <th>prof_man</th>     <td>    2.0805</td> <td>    0.106</td> <td>   19.629</td> <td> 0.000</td> <td>    1.873     2.288</td>\n",
       "</tr>\n",
       "<tr>\n",
       "  <th>o_non_man</th>    <td>    1.6869</td> <td>    0.105</td> <td>   16.007</td> <td> 0.000</td> <td>    1.480     1.893</td>\n",
       "</tr>\n",
       "<tr>\n",
       "  <th>skilled_man</th>  <td>    0.8715</td> <td>    0.102</td> <td>    8.564</td> <td> 0.000</td> <td>    0.672     1.071</td>\n",
       "</tr>\n",
       "<tr>\n",
       "  <th>semi_skilled</th> <td>    0.5475</td> <td>    0.110</td> <td>    4.972</td> <td> 0.000</td> <td>    0.332     0.763</td>\n",
       "</tr>\n",
       "</table>"
      ],
      "text/plain": [
       "<class 'statsmodels.iolib.summary.Summary'>\n",
       "\"\"\"\n",
       "                 Generalized Linear Model Regression Results                  \n",
       "==============================================================================\n",
       "Dep. Variable:                 s15a_c   No. Observations:                12789\n",
       "Model:                            GLM   Df Residuals:                    12778\n",
       "Model Family:                Binomial   Df Model:                           10\n",
       "Link Function:                  logit   Scale:                             1.0\n",
       "Method:                          IRLS   Log-Likelihood:                -7996.4\n",
       "Date:                Sat, 19 Aug 2017   Deviance:                       15993.\n",
       "Time:                        14:07:27   Pearson chi2:                 1.28e+04\n",
       "No. Iterations:                     6                                         \n",
       "================================================================================\n",
       "                   coef    std err          z      P>|z|      [95.0% Conf. Int.]\n",
       "--------------------------------------------------------------------------------\n",
       "Intercept       -1.6659      0.186     -8.962      0.000        -2.030    -1.302\n",
       "girls            0.3239      0.038      8.519      0.000         0.249     0.398\n",
       "chinese          1.8696      0.347      5.393      0.000         1.190     2.549\n",
       "indian           1.0400      0.195      5.331      0.000         0.658     1.422\n",
       "white            0.6486      0.158      4.095      0.000         0.338     0.959\n",
       "bangladeshi      0.7172      0.330      2.173      0.030         0.070     1.364\n",
       "pakistani        0.4700      0.228      2.059      0.040         0.023     0.917\n",
       "prof_man         2.0805      0.106     19.629      0.000         1.873     2.288\n",
       "o_non_man        1.6869      0.105     16.007      0.000         1.480     1.893\n",
       "skilled_man      0.8715      0.102      8.564      0.000         0.672     1.071\n",
       "semi_skilled     0.5475      0.110      4.972      0.000         0.332     0.763\n",
       "================================================================================\n",
       "\"\"\""
      ]
     },
     "execution_count": 16,
     "metadata": {},
     "output_type": "execute_result"
    }
   ],
   "source": [
    "#Here is a third attempt ...\n",
    "\n",
    "weight =df['weight']\n",
    "logmodel2=sm.GLM(endog=y, exog=x, sample_weight =weight, family=sm.families.Binomial(sm.families.links.logit)).fit()\n",
    "\n",
    "#sm.GLM(, family=sm.families.Binomial(), data_weights=df['weight']).fit().summary()\n",
    "logmodel2.summary()"
   ]
  },
  {
   "cell_type": "markdown",
   "metadata": {},
   "source": [
    "<font color=red>Beware!</font> \n",
    "\n",
    "These results do not appear to have been weighted. <br>\n",
    "\n",
    "In future research I will examine this issue further."
   ]
  },
  {
   "cell_type": "markdown",
   "metadata": {},
   "source": [
    "---"
   ]
  },
  {
   "cell_type": "markdown",
   "metadata": {},
   "source": [
    "For the moment in order to investigate this a little further I will return to _R_ ."
   ]
  },
  {
   "cell_type": "markdown",
   "metadata": {},
   "source": [
    "Change the kernel back to _R_ ."
   ]
  },
  {
   "cell_type": "code",
   "execution_count": 4,
   "metadata": {
    "collapsed": false
   },
   "outputs": [],
   "source": [
    "library(foreign)\n",
    "library(survey)\n",
    "library(car)\n",
    "library(dplyr)\n",
    "library(weights)\n",
    "library(dummies)\n",
    "library(xlsx)\n"
   ]
  },
  {
   "cell_type": "code",
   "execution_count": 5,
   "metadata": {
    "collapsed": false
   },
   "outputs": [
    {
     "data": {
      "text/html": [
       "\"C:/Users/Vernon\""
      ],
      "text/latex": [
       "\"C:/Users/Vernon\""
      ],
      "text/markdown": [
       "\"C:/Users/Vernon\""
      ],
      "text/plain": [
       "[1] \"C:/Users/Vernon\""
      ]
     },
     "execution_count": 5,
     "metadata": {},
     "output_type": "execute_result"
    },
    {
     "data": {
      "text/html": [
       "\"C:/Users/Vernon/OneDrive - University of Edinburgh/Documents/ycs_9_2017/UKDA-4009-stata8/stata8\""
      ],
      "text/latex": [
       "\"C:/Users/Vernon/OneDrive - University of Edinburgh/Documents/ycs_9_2017/UKDA-4009-stata8/stata8\""
      ],
      "text/markdown": [
       "\"C:/Users/Vernon/OneDrive - University of Edinburgh/Documents/ycs_9_2017/UKDA-4009-stata8/stata8\""
      ],
      "text/plain": [
       "[1] \"C:/Users/Vernon/OneDrive - University of Edinburgh/Documents/ycs_9_2017/UKDA-4009-stata8/stata8\""
      ]
     },
     "execution_count": 5,
     "metadata": {},
     "output_type": "execute_result"
    }
   ],
   "source": [
    "getwd() \n",
    "drive1 <- \"C:/Users/Vernon/OneDrive - University of Edinburgh/Documents/ycs_9_2017/UKDA-4009-stata8/stata8/\"\n",
    "setwd(drive1) \n",
    "getwd()"
   ]
  },
  {
   "cell_type": "code",
   "execution_count": 6,
   "metadata": {
    "collapsed": false
   },
   "outputs": [
    {
     "data": {
      "text/html": [
       "<ol class=list-inline>\n",
       "\t<li>\"drive1\"</li>\n",
       "\t<li>\"mydata4.df\"</li>\n",
       "</ol>\n"
      ],
      "text/latex": [
       "\\begin{enumerate*}\n",
       "\\item \"drive1\"\n",
       "\\item \"mydata4.df\"\n",
       "\\end{enumerate*}\n"
      ],
      "text/markdown": [
       "1. \"drive1\"\n",
       "2. \"mydata4.df\"\n",
       "\n",
       "\n"
      ],
      "text/plain": [
       "[1] \"drive1\"     \"mydata4.df\""
      ]
     },
     "execution_count": 6,
     "metadata": {},
     "output_type": "execute_result"
    }
   ],
   "source": [
    "load(\"C:/Users/Vernon/OneDrive - University of Edinburgh/Documents/ycs_9_2017/ycs9sw1_v2.rda\")\n",
    "ls()"
   ]
  },
  {
   "cell_type": "code",
   "execution_count": 7,
   "metadata": {
    "collapsed": false
   },
   "outputs": [
    {
     "data": {
      "text/plain": [
       "     serial           weight                        sex           s1a_c       \n",
       " Min.   :200001   Min.   :0.6025   not answered (9)   :   0   Min.   : 0.000  \n",
       " 1st Qu.:206648   1st Qu.:0.7628   item not applicable:   0   1st Qu.: 2.000  \n",
       " Median :211922   Median :0.8750   male               :5980   Median : 6.000  \n",
       " Mean   :212370   Mean   :0.9823   female             :6809   Mean   : 5.527  \n",
       " 3rd Qu.:217230   3rd Qu.:1.0304                              3rd Qu.: 9.000  \n",
       " Max.   :231392   Max.   :2.5176                              Max.   :13.000  \n",
       "                                                                              \n",
       "          a58                            s1eth                     s1acqe    \n",
       " white      :11962   white                  :11962   5+ gcses at a*-c :7747  \n",
       " indian     :  369   asian groups           :  647   1-4 gcses at a*-c:3071  \n",
       " pakistani  :  159   black groups           :  180   5+ gcses at d-g  :1190  \n",
       " carib.     :   73   not answered (9)       :    0   none reported    : 539  \n",
       " chin!ese   :   67   schedule not obtained  :    0   1-4 gcses at d-g : 242  \n",
       " other black:   58   schedule not applicable:    0   not answered (9) :   0  \n",
       " (Other)    :  101   (Other)                :    0   (Other)          :   0  \n",
       "      pseg      prof_man        o_non_man       skilled_man    \n",
       " Min.   :0   Min.   :0.0000   Min.   :0.0000   Min.   :0.0000  \n",
       " 1st Qu.:0   1st Qu.:0.0000   1st Qu.:0.0000   1st Qu.:0.0000  \n",
       " Median :0   Median :0.0000   Median :0.0000   Median :0.0000  \n",
       " Mean   :0   Mean   :0.2562   Mean   :0.2299   Mean   :0.3529  \n",
       " 3rd Qu.:0   3rd Qu.:1.0000   3rd Qu.:0.0000   3rd Qu.:1.0000  \n",
       " Max.   :0   Max.   :1.0000   Max.   :1.0000   Max.   :1.0000  \n",
       "                                                               \n",
       "  semi_skilled        pseg5             pseg6       pseg7       s15a_c      \n",
       " Min.   :0.0000   Min.   :0.00000   Min.   :0   Min.   :0   Min.   :0.0000  \n",
       " 1st Qu.:0.0000   1st Qu.:0.00000   1st Qu.:0   1st Qu.:0   1st Qu.:0.0000  \n",
       " Median :0.0000   Median :0.00000   Median :0   Median :0   Median :1.0000  \n",
       " Mean   :0.1215   Mean   :0.03957   Mean   :0   Mean   :0   Mean   :0.6024  \n",
       " 3rd Qu.:0.0000   3rd Qu.:0.00000   3rd Qu.:0   3rd Qu.:0   3rd Qu.:1.0000  \n",
       " Max.   :1.0000   Max.   :1.00000   Max.   :0   Max.   :0   Max.   :1.0000  \n",
       "                                                                            \n",
       "     girls           ethnic1          white            black        \n",
       " Min.   :0.0000   Min.   :1.000   Min.   :0.0000   Min.   :0.00000  \n",
       " 1st Qu.:0.0000   1st Qu.:1.000   1st Qu.:1.0000   1st Qu.:0.00000  \n",
       " Median :1.0000   Median :1.000   Median :1.0000   Median :0.00000  \n",
       " Mean   :0.5324   Mean   :1.152   Mean   :0.9353   Mean   :0.01407  \n",
       " 3rd Qu.:1.0000   3rd Qu.:1.000   3rd Qu.:1.0000   3rd Qu.:0.00000  \n",
       " Max.   :1.0000   Max.   :6.000   Max.   :1.0000   Max.   :1.00000  \n",
       "                                                                    \n",
       "     indian          pakistani        bangladeshi          chinese        \n",
       " Min.   :0.00000   Min.   :0.00000   Min.   :0.000000   Min.   :0.000000  \n",
       " 1st Qu.:0.00000   1st Qu.:0.00000   1st Qu.:0.000000   1st Qu.:0.000000  \n",
       " Median :0.00000   Median :0.00000   Median :0.000000   Median :0.000000  \n",
       " Mean   :0.02885   Mean   :0.01243   Mean   :0.004066   Mean   :0.005239  \n",
       " 3rd Qu.:0.00000   3rd Qu.:0.00000   3rd Qu.:0.000000   3rd Qu.:0.000000  \n",
       " Max.   :1.00000   Max.   :1.00000   Max.   :1.000000   Max.   :1.000000  \n",
       "                                                                          \n",
       "     other  \n",
       " Min.   :0  \n",
       " 1st Qu.:0  \n",
       " Median :0  \n",
       " Mean   :0  \n",
       " 3rd Qu.:0  \n",
       " Max.   :0  \n",
       "            "
      ]
     },
     "execution_count": 7,
     "metadata": {},
     "output_type": "execute_result"
    }
   ],
   "source": [
    "summary(mydata4.df)"
   ]
  },
  {
   "cell_type": "markdown",
   "metadata": {},
   "source": [
    "In order to check the results produced using Python I will re-estimate the model in _R_ but this time ignoring the sample weights."
   ]
  },
  {
   "cell_type": "code",
   "execution_count": 8,
   "metadata": {
    "collapsed": false
   },
   "outputs": [],
   "source": [
    "modelnw<-glm (s15a_c ~ girls + chinese + indian +\n",
    "                 white + bangladeshi + pakistani + \n",
    "                 pakistani + prof_man + o_non_man + \n",
    "                 skilled_man + semi_skilled, data = mydata4.df, family = \"binomial\")"
   ]
  },
  {
   "cell_type": "code",
   "execution_count": 9,
   "metadata": {
    "collapsed": false
   },
   "outputs": [
    {
     "data": {
      "text/plain": [
       "\n",
       "Call:\n",
       "glm(formula = s15a_c ~ girls + chinese + indian + white + bangladeshi + \n",
       "    pakistani + pakistani + prof_man + o_non_man + skilled_man + \n",
       "    semi_skilled, family = \"binomial\", data = mydata4.df)\n",
       "\n",
       "Deviance Residuals: \n",
       "    Min       1Q   Median       3Q      Max  \n",
       "-2.1823  -1.1162   0.6678   0.9093   1.7744  \n",
       "\n",
       "Coefficients:\n",
       "             Estimate Std. Error z value Pr(>|z|)    \n",
       "(Intercept)  -1.66590    0.18588  -8.962  < 2e-16 ***\n",
       "girls         0.32387    0.03802   8.519  < 2e-16 ***\n",
       "chinese       1.86961    0.34667   5.393 6.93e-08 ***\n",
       "indian        1.04002    0.19507   5.331 9.75e-08 ***\n",
       "white         0.64860    0.15840   4.095 4.23e-05 ***\n",
       "bangladeshi   0.71721    0.33011   2.173   0.0298 *  \n",
       "pakistani     0.46998    0.22830   2.059   0.0395 *  \n",
       "prof_man      2.08045    0.10599  19.629  < 2e-16 ***\n",
       "o_non_man     1.68694    0.10539  16.007  < 2e-16 ***\n",
       "skilled_man   0.87151    0.10177   8.564  < 2e-16 ***\n",
       "semi_skilled  0.54747    0.11011   4.972 6.62e-07 ***\n",
       "---\n",
       "Signif. codes:  0 '***' 0.001 '**' 0.01 '*' 0.05 '.' 0.1 ' ' 1\n",
       "\n",
       "(Dispersion parameter for binomial family taken to be 1)\n",
       "\n",
       "    Null deviance: 17189  on 12788  degrees of freedom\n",
       "Residual deviance: 15993  on 12778  degrees of freedom\n",
       "AIC: 16015\n",
       "\n",
       "Number of Fisher Scoring iterations: 4\n"
      ]
     },
     "execution_count": 9,
     "metadata": {},
     "output_type": "execute_result"
    }
   ],
   "source": [
    "summary(modelnw)"
   ]
  },
  {
   "cell_type": "markdown",
   "metadata": {},
   "source": [
    "These un-weighted results are the same as the _Python_ results.\n",
    "The weighting in not working in in _Python_.<br>\n",
    "\n",
    "Further investigation of how to incorporate survey weights into a logistic regression model using _Python_ is required."
   ]
  },
  {
   "cell_type": "markdown",
   "metadata": {},
   "source": [
    "_______________________________________________________________________________________________________________________"
   ]
  },
  {
   "cell_type": "markdown",
   "metadata": {
    "collapsed": true
   },
   "source": [
    "\n",
    "## Replicating the Connolly (2006) Model Results with Quasi-Variance\n",
    " <a class=\"anchor\" id=\"qv\"></a>"
   ]
  },
  {
   "cell_type": "markdown",
   "metadata": {},
   "source": [
    "In this section, following the _duplication_ of the logistic rgression results in Table 3 (p.20) of Connolley (2006) I now undertake a _replication_ activity.\n",
    "\n",
    "In brief, I have concerns about the parameterisation of the ethnicity measure in the logistic regression model.\n",
    "\n",
    "The reference category is 'Black' pupils.\n",
    "\n",
    "This is a small category (_n_=180).\n",
    "\n",
    "My suspicion is that this is a sub-optimal reference category.\n",
    "\n",
    "I will investigate the relationship between the categories of ethnicity by estimating quasi-variance based comparison intervals.\n",
    "\n",
    "An extensive and reproducible introduction is provided by Gayle and Lambert (2007).\n",
    "\n",
    "The use of quasi-variance based comparison intervals allows a more subtle investigation of the differences between ethnic groups.\n",
    "\n",
    "The procedure that will be used is described in Firth and De Menezes (2004) an implemented in the _R_ library 'qvcalc'.\n",
    "\n",
    "<span style=\"color:blue\"> To run this procedure you must have __qvcalc__ installed in _R_.</span>\n",
    "\n",
    "code required in _R_ <br>\n",
    "<br>\n",
    "_install.packages('qvcalc')_\n",
    "\n",
    "\n",
    " "
   ]
  },
  {
   "cell_type": "markdown",
   "metadata": {},
   "source": [
    "---"
   ]
  },
  {
   "cell_type": "markdown",
   "metadata": {},
   "source": [
    "<font color=red>Warning</font>.\n",
    "\n",
    "Within this Jupyter notebook there has been a lot of non-routine work. For example I have 'swivel-chaired' between data analytical software packages and changed kernels.\n",
    "\n",
    "It may from time to time be necessary to re-start the notebook depending on how stable your computing environment is.\n",
    "\n",
    "In this section I re-start a _R_ session."
   ]
  },
  {
   "cell_type": "code",
   "execution_count": 10,
   "metadata": {
    "collapsed": false,
    "scrolled": true
   },
   "outputs": [
    {
     "name": "stderr",
     "output_type": "stream",
     "text": [
      "\n",
      "Attaching package: 'MASS'\n",
      "\n",
      "The following object is masked from 'package:dplyr':\n",
      "\n",
      "    select\n",
      "\n",
      "Warning message:\n",
      ": package 'qvcalc' was built under R version 3.2.5"
     ]
    },
    {
     "data": {
      "text/html": [
       "\"C:/Users/Vernon/OneDrive - University of Edinburgh/Documents/ycs_9_2017/UKDA-4009-stata8/stata8\""
      ],
      "text/latex": [
       "\"C:/Users/Vernon/OneDrive - University of Edinburgh/Documents/ycs_9_2017/UKDA-4009-stata8/stata8\""
      ],
      "text/markdown": [
       "\"C:/Users/Vernon/OneDrive - University of Edinburgh/Documents/ycs_9_2017/UKDA-4009-stata8/stata8\""
      ],
      "text/plain": [
       "[1] \"C:/Users/Vernon/OneDrive - University of Edinburgh/Documents/ycs_9_2017/UKDA-4009-stata8/stata8\""
      ]
     },
     "execution_count": 10,
     "metadata": {},
     "output_type": "execute_result"
    },
    {
     "data": {
      "text/html": [
       "\"C:/Users/Vernon/OneDrive - University of Edinburgh/Documents/ycs_9_2017/UKDA-4009-stata8/stata8\""
      ],
      "text/latex": [
       "\"C:/Users/Vernon/OneDrive - University of Edinburgh/Documents/ycs_9_2017/UKDA-4009-stata8/stata8\""
      ],
      "text/markdown": [
       "\"C:/Users/Vernon/OneDrive - University of Edinburgh/Documents/ycs_9_2017/UKDA-4009-stata8/stata8\""
      ],
      "text/plain": [
       "[1] \"C:/Users/Vernon/OneDrive - University of Edinburgh/Documents/ycs_9_2017/UKDA-4009-stata8/stata8\""
      ]
     },
     "execution_count": 10,
     "metadata": {},
     "output_type": "execute_result"
    },
    {
     "data": {
      "text/html": [
       "<ol class=list-inline>\n",
       "\t<li>\"drive1\"</li>\n",
       "\t<li>\"modelnw\"</li>\n",
       "\t<li>\"mydata4.df\"</li>\n",
       "</ol>\n"
      ],
      "text/latex": [
       "\\begin{enumerate*}\n",
       "\\item \"drive1\"\n",
       "\\item \"modelnw\"\n",
       "\\item \"mydata4.df\"\n",
       "\\end{enumerate*}\n"
      ],
      "text/markdown": [
       "1. \"drive1\"\n",
       "2. \"modelnw\"\n",
       "3. \"mydata4.df\"\n",
       "\n",
       "\n"
      ],
      "text/plain": [
       "[1] \"drive1\"     \"modelnw\"    \"mydata4.df\""
      ]
     },
     "execution_count": 10,
     "metadata": {},
     "output_type": "execute_result"
    }
   ],
   "source": [
    "library(foreign)\n",
    "library(survey)\n",
    "library(car)\n",
    "library(dplyr)\n",
    "library(weights)\n",
    "library(dummies)\n",
    "\n",
    "library(MASS)\n",
    "library(qvcalc)\n",
    "\n",
    "getwd() \n",
    "drive1 <- \"C:/Users/Vernon/OneDrive - University of Edinburgh/Documents/ycs_9_2017/UKDA-4009-stata8/stata8/\"\n",
    "setwd(drive1) \n",
    "getwd()\n",
    "ls()\n"
   ]
  },
  {
   "cell_type": "markdown",
   "metadata": {},
   "source": [
    "Various <span style=\"color:red\"> WARNINGS</span> will appear. Don't panic."
   ]
  },
  {
   "cell_type": "markdown",
   "metadata": {},
   "source": [
    "I re-load the _R_ file \"ycs9sw1_v2.rda\"."
   ]
  },
  {
   "cell_type": "code",
   "execution_count": 11,
   "metadata": {
    "collapsed": false
   },
   "outputs": [
    {
     "data": {
      "text/html": [
       "<ol class=list-inline>\n",
       "\t<li>\"drive1\"</li>\n",
       "\t<li>\"modelnw\"</li>\n",
       "\t<li>\"mydata4.df\"</li>\n",
       "</ol>\n"
      ],
      "text/latex": [
       "\\begin{enumerate*}\n",
       "\\item \"drive1\"\n",
       "\\item \"modelnw\"\n",
       "\\item \"mydata4.df\"\n",
       "\\end{enumerate*}\n"
      ],
      "text/markdown": [
       "1. \"drive1\"\n",
       "2. \"modelnw\"\n",
       "3. \"mydata4.df\"\n",
       "\n",
       "\n"
      ],
      "text/plain": [
       "[1] \"drive1\"     \"modelnw\"    \"mydata4.df\""
      ]
     },
     "execution_count": 11,
     "metadata": {},
     "output_type": "execute_result"
    }
   ],
   "source": [
    "load(\"ycs9sw1_v2.rda\")\n",
    "ls()"
   ]
  },
  {
   "cell_type": "markdown",
   "metadata": {},
   "source": [
    "The data frame is \"mydata4.df\".\n",
    "\n",
    "Please <span style=\"color:red\"> double check</span> that an earlier version has not been loaded!\n",
    "\n"
   ]
  },
  {
   "cell_type": "code",
   "execution_count": 12,
   "metadata": {
    "collapsed": false
   },
   "outputs": [
    {
     "data": {
      "text/plain": [
       "     serial           weight                        sex           s1a_c       \n",
       " Min.   :200001   Min.   :0.6025   not answered (9)   :   0   Min.   : 0.000  \n",
       " 1st Qu.:206648   1st Qu.:0.7628   item not applicable:   0   1st Qu.: 2.000  \n",
       " Median :211922   Median :0.8750   male               :5980   Median : 6.000  \n",
       " Mean   :212370   Mean   :0.9823   female             :6809   Mean   : 5.527  \n",
       " 3rd Qu.:217230   3rd Qu.:1.0304                              3rd Qu.: 9.000  \n",
       " Max.   :231392   Max.   :2.5176                              Max.   :13.000  \n",
       "                                                                              \n",
       "          a58                            s1eth                     s1acqe    \n",
       " white      :11962   white                  :11962   5+ gcses at a*-c :7747  \n",
       " indian     :  369   asian groups           :  647   1-4 gcses at a*-c:3071  \n",
       " pakistani  :  159   black groups           :  180   5+ gcses at d-g  :1190  \n",
       " carib.     :   73   not answered (9)       :    0   none reported    : 539  \n",
       " chin!ese   :   67   schedule not obtained  :    0   1-4 gcses at d-g : 242  \n",
       " other black:   58   schedule not applicable:    0   not answered (9) :   0  \n",
       " (Other)    :  101   (Other)                :    0   (Other)          :   0  \n",
       "      pseg      prof_man        o_non_man       skilled_man    \n",
       " Min.   :0   Min.   :0.0000   Min.   :0.0000   Min.   :0.0000  \n",
       " 1st Qu.:0   1st Qu.:0.0000   1st Qu.:0.0000   1st Qu.:0.0000  \n",
       " Median :0   Median :0.0000   Median :0.0000   Median :0.0000  \n",
       " Mean   :0   Mean   :0.2562   Mean   :0.2299   Mean   :0.3529  \n",
       " 3rd Qu.:0   3rd Qu.:1.0000   3rd Qu.:0.0000   3rd Qu.:1.0000  \n",
       " Max.   :0   Max.   :1.0000   Max.   :1.0000   Max.   :1.0000  \n",
       "                                                               \n",
       "  semi_skilled        pseg5             pseg6       pseg7       s15a_c      \n",
       " Min.   :0.0000   Min.   :0.00000   Min.   :0   Min.   :0   Min.   :0.0000  \n",
       " 1st Qu.:0.0000   1st Qu.:0.00000   1st Qu.:0   1st Qu.:0   1st Qu.:0.0000  \n",
       " Median :0.0000   Median :0.00000   Median :0   Median :0   Median :1.0000  \n",
       " Mean   :0.1215   Mean   :0.03957   Mean   :0   Mean   :0   Mean   :0.6024  \n",
       " 3rd Qu.:0.0000   3rd Qu.:0.00000   3rd Qu.:0   3rd Qu.:0   3rd Qu.:1.0000  \n",
       " Max.   :1.0000   Max.   :1.00000   Max.   :0   Max.   :0   Max.   :1.0000  \n",
       "                                                                            \n",
       "     girls           ethnic1          white            black        \n",
       " Min.   :0.0000   Min.   :1.000   Min.   :0.0000   Min.   :0.00000  \n",
       " 1st Qu.:0.0000   1st Qu.:1.000   1st Qu.:1.0000   1st Qu.:0.00000  \n",
       " Median :1.0000   Median :1.000   Median :1.0000   Median :0.00000  \n",
       " Mean   :0.5324   Mean   :1.152   Mean   :0.9353   Mean   :0.01407  \n",
       " 3rd Qu.:1.0000   3rd Qu.:1.000   3rd Qu.:1.0000   3rd Qu.:0.00000  \n",
       " Max.   :1.0000   Max.   :6.000   Max.   :1.0000   Max.   :1.00000  \n",
       "                                                                    \n",
       "     indian          pakistani        bangladeshi          chinese        \n",
       " Min.   :0.00000   Min.   :0.00000   Min.   :0.000000   Min.   :0.000000  \n",
       " 1st Qu.:0.00000   1st Qu.:0.00000   1st Qu.:0.000000   1st Qu.:0.000000  \n",
       " Median :0.00000   Median :0.00000   Median :0.000000   Median :0.000000  \n",
       " Mean   :0.02885   Mean   :0.01243   Mean   :0.004066   Mean   :0.005239  \n",
       " 3rd Qu.:0.00000   3rd Qu.:0.00000   3rd Qu.:0.000000   3rd Qu.:0.000000  \n",
       " Max.   :1.00000   Max.   :1.00000   Max.   :1.000000   Max.   :1.000000  \n",
       "                                                                          \n",
       "     other  \n",
       " Min.   :0  \n",
       " 1st Qu.:0  \n",
       " Median :0  \n",
       " Mean   :0  \n",
       " 3rd Qu.:0  \n",
       " Max.   :0  \n",
       "            "
      ]
     },
     "execution_count": 12,
     "metadata": {},
     "output_type": "execute_result"
    }
   ],
   "source": [
    "summary(mydata4.df)"
   ]
  },
  {
   "cell_type": "markdown",
   "metadata": {},
   "source": [
    "I now re-estimate the logit model that \"duplicated\" the results in Table 3 (p.20) Connolly (2016)."
   ]
  },
  {
   "cell_type": "code",
   "execution_count": 13,
   "metadata": {
    "collapsed": false
   },
   "outputs": [],
   "source": [
    "mydesign2 <- svydesign(id = ~serial,data = mydata4.df, weight = ~weight)"
   ]
  },
  {
   "cell_type": "code",
   "execution_count": 14,
   "metadata": {
    "collapsed": false
   },
   "outputs": [
    {
     "name": "stderr",
     "output_type": "stream",
     "text": [
      "Warning message:\n",
      "In eval(expr, envir, enclos): non-integer #successes in a binomial glm!"
     ]
    }
   ],
   "source": [
    "model2<-svyglm (s15a_c ~ girls + chinese + indian +\n",
    "                 white + bangladeshi + pakistani + \n",
    "                 pakistani + prof_man + o_non_man + \n",
    "                 skilled_man + semi_skilled, design=mydesign2, data = mydata4.df, family = \"binomial\")"
   ]
  },
  {
   "cell_type": "code",
   "execution_count": 15,
   "metadata": {
    "collapsed": false
   },
   "outputs": [
    {
     "data": {
      "text/plain": [
       "\n",
       "Call:\n",
       "svyglm(formula = s15a_c ~ girls + chinese + indian + white + \n",
       "    bangladeshi + pakistani + pakistani + prof_man + o_non_man + \n",
       "    skilled_man + semi_skilled, design = mydesign2, data = mydata4.df, \n",
       "    family = \"binomial\")\n",
       "\n",
       "Survey design:\n",
       "svydesign(id = ~serial, data = mydata4.df, weight = ~weight)\n",
       "\n",
       "Coefficients:\n",
       "             Estimate Std. Error t value Pr(>|t|)    \n",
       "(Intercept)  -2.20829    0.19802 -11.152  < 2e-16 ***\n",
       "girls         0.40456    0.03926  10.305  < 2e-16 ***\n",
       "chinese       2.00231    0.37734   5.306 1.14e-07 ***\n",
       "indian        1.06584    0.20829   5.117 3.15e-07 ***\n",
       "white         0.64314    0.17118   3.757 0.000173 ***\n",
       "bangladeshi   0.76616    0.34486   2.222 0.026323 *  \n",
       "pakistani     0.53136    0.24503   2.169 0.030135 *  \n",
       "prof_man      2.19209    0.10863  20.179  < 2e-16 ***\n",
       "o_non_man     1.77251    0.10793  16.423  < 2e-16 ***\n",
       "skilled_man   0.93217    0.10411   8.954  < 2e-16 ***\n",
       "semi_skilled  0.57587    0.11264   5.112 3.23e-07 ***\n",
       "---\n",
       "Signif. codes:  0 '***' 0.001 '**' 0.01 '*' 0.05 '.' 0.1 ' ' 1\n",
       "\n",
       "(Dispersion parameter for binomial family taken to be 1.000269)\n",
       "\n",
       "Number of Fisher Scoring iterations: 4\n"
      ]
     },
     "execution_count": 15,
     "metadata": {},
     "output_type": "execute_result"
    }
   ],
   "source": [
    "summary(model2)"
   ]
  },
  {
   "cell_type": "markdown",
   "metadata": {},
   "source": [
    "---"
   ]
  },
  {
   "cell_type": "markdown",
   "metadata": {
    "collapsed": false
   },
   "source": [
    "Here is a reminder of the variables that are in the data frame \"mydata4.df\".\n"
   ]
  },
  {
   "cell_type": "code",
   "execution_count": 16,
   "metadata": {
    "collapsed": false
   },
   "outputs": [
    {
     "name": "stdout",
     "output_type": "stream",
     "text": [
      "'data.frame':\t12789 obs. of  25 variables:\n",
      " $ serial      : int  200001 200004 200005 200006 200014 200023 200024 200025 200032 200035 ...\n",
      " $ weight      : num  0.875 0.976 0.976 0.976 0.959 ...\n",
      " $ sex         : Factor w/ 4 levels \"not answered (9)\",..: 4 3 3 3 4 3 4 3 4 4 ...\n",
      " $ s1a_c       : int  9 9 9 9 2 2 7 3 10 1 ...\n",
      " $ a58         : Factor w/ 15 levels \"not answered (99)\",..: 4 4 8 4 4 4 4 4 4 4 ...\n",
      " $ s1eth       : Factor w/ 9 levels \"not answered (9)\",..: 5 5 7 5 5 5 5 5 5 5 ...\n",
      " $ s1acqe      : Factor w/ 9 levels \"not answered (9)\",..: 5 5 5 5 6 6 5 6 5 6 ...\n",
      " $ pseg        : int  0 0 0 0 0 0 0 0 0 0 ...\n",
      " $ prof_man    : int  1 0 0 0 0 1 0 1 0 0 ...\n",
      " $ o_non_man   : int  0 1 0 1 0 0 0 0 1 0 ...\n",
      " $ skilled_man : int  0 0 1 0 1 0 1 0 0 1 ...\n",
      " $ semi_skilled: int  0 0 0 0 0 0 0 0 0 0 ...\n",
      " $ pseg5       : int  0 0 0 0 0 0 0 0 0 0 ...\n",
      " $ pseg6       : int  0 0 0 0 0 0 0 0 0 0 ...\n",
      " $ pseg7       : int  0 0 0 0 0 0 0 0 0 0 ...\n",
      " $ s15a_c      : num  1 1 1 1 0 0 1 0 1 0 ...\n",
      " $ girls       : num  1 0 0 0 1 0 1 0 1 1 ...\n",
      " $ ethnic1     : num  1 1 3 1 1 1 1 1 1 1 ...\n",
      " $ white       : num  1 1 0 1 1 1 1 1 1 1 ...\n",
      " $ black       : num  0 0 0 0 0 0 0 0 0 0 ...\n",
      " $ indian      : num  0 0 1 0 0 0 0 0 0 0 ...\n",
      " $ pakistani   : num  0 0 0 0 0 0 0 0 0 0 ...\n",
      " $ bangladeshi : num  0 0 0 0 0 0 0 0 0 0 ...\n",
      " $ chinese     : num  0 0 0 0 0 0 0 0 0 0 ...\n",
      " $ other       : num  0 0 0 0 0 0 0 0 0 0 ...\n"
     ]
    }
   ],
   "source": [
    "str(mydata4.df)"
   ]
  },
  {
   "cell_type": "markdown",
   "metadata": {},
   "source": [
    "In order to use the QV procedure I have to estimate the model with a multiple-categorie measure of \"ethnicity\".\n",
    "\n",
    "The variable \"ethnicity1\" has already been created."
   ]
  },
  {
   "cell_type": "markdown",
   "metadata": {},
   "source": [
    "I check that \"ethnicity1\" is a factor."
   ]
  },
  {
   "cell_type": "code",
   "execution_count": 17,
   "metadata": {
    "collapsed": false,
    "scrolled": true
   },
   "outputs": [
    {
     "data": {
      "text/plain": [
       "NULL"
      ]
     },
     "execution_count": 17,
     "metadata": {},
     "output_type": "execute_result"
    }
   ],
   "source": [
    "levels(mydata4.df$ethnic1)"
   ]
  },
  {
   "cell_type": "markdown",
   "metadata": {},
   "source": [
    "The variable \"ethnic1\" is not a factor so I am going to declare as a factor."
   ]
  },
  {
   "cell_type": "code",
   "execution_count": 18,
   "metadata": {
    "collapsed": false
   },
   "outputs": [],
   "source": [
    "mydata4.df$ethnic1  <- factor(mydata4.df$ethnic1 )"
   ]
  },
  {
   "cell_type": "code",
   "execution_count": 19,
   "metadata": {
    "collapsed": false
   },
   "outputs": [
    {
     "data": {
      "text/html": [
       "<ol class=list-inline>\n",
       "\t<li>\"1\"</li>\n",
       "\t<li>\"2\"</li>\n",
       "\t<li>\"3\"</li>\n",
       "\t<li>\"4\"</li>\n",
       "\t<li>\"5\"</li>\n",
       "\t<li>\"6\"</li>\n",
       "</ol>\n"
      ],
      "text/latex": [
       "\\begin{enumerate*}\n",
       "\\item \"1\"\n",
       "\\item \"2\"\n",
       "\\item \"3\"\n",
       "\\item \"4\"\n",
       "\\item \"5\"\n",
       "\\item \"6\"\n",
       "\\end{enumerate*}\n"
      ],
      "text/markdown": [
       "1. \"1\"\n",
       "2. \"2\"\n",
       "3. \"3\"\n",
       "4. \"4\"\n",
       "5. \"5\"\n",
       "6. \"6\"\n",
       "\n",
       "\n"
      ],
      "text/plain": [
       "[1] \"1\" \"2\" \"3\" \"4\" \"5\" \"6\""
      ]
     },
     "execution_count": 19,
     "metadata": {},
     "output_type": "execute_result"
    }
   ],
   "source": [
    "levels(mydata4.df$ethnic1)"
   ]
  },
  {
   "cell_type": "code",
   "execution_count": 20,
   "metadata": {
    "collapsed": false
   },
   "outputs": [
    {
     "data": {
      "text/html": [
       "TRUE"
      ],
      "text/latex": [
       "TRUE"
      ],
      "text/markdown": [
       "TRUE"
      ],
      "text/plain": [
       "[1] TRUE"
      ]
     },
     "execution_count": 20,
     "metadata": {},
     "output_type": "execute_result"
    }
   ],
   "source": [
    "is.factor(mydata4.df$ethnic1)"
   ]
  },
  {
   "cell_type": "markdown",
   "metadata": {},
   "source": [
    "The variable \"ethnic1\" is now a factor."
   ]
  },
  {
   "cell_type": "markdown",
   "metadata": {},
   "source": [
    "Here I remind myself of the variables in the data frame \"mydata4.df\" and check again that \"ethnic1\" is a factor in the dataset."
   ]
  },
  {
   "cell_type": "code",
   "execution_count": 21,
   "metadata": {
    "collapsed": false
   },
   "outputs": [
    {
     "name": "stdout",
     "output_type": "stream",
     "text": [
      "'data.frame':\t12789 obs. of  25 variables:\n",
      " $ serial      : int  200001 200004 200005 200006 200014 200023 200024 200025 200032 200035 ...\n",
      " $ weight      : num  0.875 0.976 0.976 0.976 0.959 ...\n",
      " $ sex         : Factor w/ 4 levels \"not answered (9)\",..: 4 3 3 3 4 3 4 3 4 4 ...\n",
      " $ s1a_c       : int  9 9 9 9 2 2 7 3 10 1 ...\n",
      " $ a58         : Factor w/ 15 levels \"not answered (99)\",..: 4 4 8 4 4 4 4 4 4 4 ...\n",
      " $ s1eth       : Factor w/ 9 levels \"not answered (9)\",..: 5 5 7 5 5 5 5 5 5 5 ...\n",
      " $ s1acqe      : Factor w/ 9 levels \"not answered (9)\",..: 5 5 5 5 6 6 5 6 5 6 ...\n",
      " $ pseg        : int  0 0 0 0 0 0 0 0 0 0 ...\n",
      " $ prof_man    : int  1 0 0 0 0 1 0 1 0 0 ...\n",
      " $ o_non_man   : int  0 1 0 1 0 0 0 0 1 0 ...\n",
      " $ skilled_man : int  0 0 1 0 1 0 1 0 0 1 ...\n",
      " $ semi_skilled: int  0 0 0 0 0 0 0 0 0 0 ...\n",
      " $ pseg5       : int  0 0 0 0 0 0 0 0 0 0 ...\n",
      " $ pseg6       : int  0 0 0 0 0 0 0 0 0 0 ...\n",
      " $ pseg7       : int  0 0 0 0 0 0 0 0 0 0 ...\n",
      " $ s15a_c      : num  1 1 1 1 0 0 1 0 1 0 ...\n",
      " $ girls       : num  1 0 0 0 1 0 1 0 1 1 ...\n",
      " $ ethnic1     : Factor w/ 6 levels \"1\",\"2\",\"3\",\"4\",..: 1 1 3 1 1 1 1 1 1 1 ...\n",
      " $ white       : num  1 1 0 1 1 1 1 1 1 1 ...\n",
      " $ black       : num  0 0 0 0 0 0 0 0 0 0 ...\n",
      " $ indian      : num  0 0 1 0 0 0 0 0 0 0 ...\n",
      " $ pakistani   : num  0 0 0 0 0 0 0 0 0 0 ...\n",
      " $ bangladeshi : num  0 0 0 0 0 0 0 0 0 0 ...\n",
      " $ chinese     : num  0 0 0 0 0 0 0 0 0 0 ...\n",
      " $ other       : num  0 0 0 0 0 0 0 0 0 0 ...\n"
     ]
    }
   ],
   "source": [
    "str(mydata4.df)"
   ]
  },
  {
   "cell_type": "code",
   "execution_count": 22,
   "metadata": {
    "collapsed": false
   },
   "outputs": [
    {
     "data": {
      "text/html": [
       "<ol class=list-inline>\n",
       "\t<li>\"drive1\"</li>\n",
       "\t<li>\"model2\"</li>\n",
       "\t<li>\"modelnw\"</li>\n",
       "\t<li>\"mydata4.df\"</li>\n",
       "\t<li>\"mydesign2\"</li>\n",
       "</ol>\n"
      ],
      "text/latex": [
       "\\begin{enumerate*}\n",
       "\\item \"drive1\"\n",
       "\\item \"model2\"\n",
       "\\item \"modelnw\"\n",
       "\\item \"mydata4.df\"\n",
       "\\item \"mydesign2\"\n",
       "\\end{enumerate*}\n"
      ],
      "text/markdown": [
       "1. \"drive1\"\n",
       "2. \"model2\"\n",
       "3. \"modelnw\"\n",
       "4. \"mydata4.df\"\n",
       "5. \"mydesign2\"\n",
       "\n",
       "\n"
      ],
      "text/plain": [
       "[1] \"drive1\"     \"model2\"     \"modelnw\"    \"mydata4.df\" \"mydesign2\" "
      ]
     },
     "execution_count": 22,
     "metadata": {},
     "output_type": "execute_result"
    }
   ],
   "source": [
    "ls()\n"
   ]
  },
  {
   "cell_type": "code",
   "execution_count": 23,
   "metadata": {
    "collapsed": false
   },
   "outputs": [
    {
     "name": "stderr",
     "output_type": "stream",
     "text": [
      "Warning message:\n",
      "In eval(expr, envir, enclos): non-integer #successes in a binomial glm!"
     ]
    }
   ],
   "source": [
    "model3<-svyglm (s15a_c ~ factor(ethnic1) + girls + prof_man + o_non_man + \n",
    "                 skilled_man + semi_skilled, design=mydesign2, data = mydata4.df, family = \"binomial\")"
   ]
  },
  {
   "cell_type": "code",
   "execution_count": 24,
   "metadata": {
    "collapsed": false
   },
   "outputs": [
    {
     "data": {
      "text/plain": [
       "\n",
       "Call:\n",
       "svyglm(formula = s15a_c ~ factor(ethnic1) + girls + prof_man + \n",
       "    o_non_man + skilled_man + semi_skilled, design = mydesign2, \n",
       "    data = mydata4.df, family = \"binomial\")\n",
       "\n",
       "Survey design:\n",
       "svydesign(id = ~serial, data = mydata4.df, weight = ~weight)\n",
       "\n",
       "Coefficients:\n",
       "                 Estimate Std. Error t value Pr(>|t|)    \n",
       "(Intercept)      -1.56515    0.10196 -15.351  < 2e-16 ***\n",
       "factor(ethnic1)2 -0.64314    0.17118  -3.757 0.000173 ***\n",
       "factor(ethnic1)3  0.42271    0.12187   3.469 0.000525 ***\n",
       "factor(ethnic1)4 -0.11177    0.17735  -0.630 0.528544    \n",
       "factor(ethnic1)5  0.12302    0.30052   0.409 0.682278    \n",
       "factor(ethnic1)6  1.35917    0.33721   4.031 5.59e-05 ***\n",
       "girls             0.40456    0.03926  10.305  < 2e-16 ***\n",
       "prof_man          2.19209    0.10863  20.179  < 2e-16 ***\n",
       "o_non_man         1.77251    0.10793  16.423  < 2e-16 ***\n",
       "skilled_man       0.93217    0.10411   8.954  < 2e-16 ***\n",
       "semi_skilled      0.57587    0.11264   5.112 3.23e-07 ***\n",
       "---\n",
       "Signif. codes:  0 '***' 0.001 '**' 0.01 '*' 0.05 '.' 0.1 ' ' 1\n",
       "\n",
       "(Dispersion parameter for binomial family taken to be 1.000269)\n",
       "\n",
       "Number of Fisher Scoring iterations: 4\n"
      ]
     },
     "execution_count": 24,
     "metadata": {},
     "output_type": "execute_result"
    }
   ],
   "source": [
    "summary(model3)"
   ]
  },
  {
   "cell_type": "markdown",
   "metadata": {},
   "source": [
    "### <span style=\"color:red\"> BEWARE</span> \n",
    "\n",
    "The variable \"ethnic1\" is coded to match the ethnicity measure in Table 1 (p.7) Connolly (2006).\n",
    "__However__, the order of the dummy variables included in the logistic regression model in Table 3 (p.20) Connelly (2006) <span style=\"color:red\"> do not</span> match.\n",
    "\n",
    "This could not have easily been foreseen.\n",
    "\n",
    "In the spirit of showing __all__ of the workflow I have preseved this snippet of data wrangling."
   ]
  },
  {
   "cell_type": "markdown",
   "metadata": {},
   "source": [
    "---\n",
    "\n",
    "A re-coded version of \"ethnic1\" is required."
   ]
  },
  {
   "cell_type": "markdown",
   "metadata": {
    "collapsed": true
   },
   "source": [
    "Here is the original variable."
   ]
  },
  {
   "cell_type": "code",
   "execution_count": 25,
   "metadata": {
    "collapsed": false
   },
   "outputs": [
    {
     "data": {
      "text/plain": [
       "\n",
       "    1     2     3     4     5     6 \n",
       "11962   180   369   159    52    67 "
      ]
     },
     "execution_count": 25,
     "metadata": {},
     "output_type": "execute_result"
    }
   ],
   "source": [
    "table(mydata4.df$ethnic1)"
   ]
  },
  {
   "cell_type": "markdown",
   "metadata": {},
   "source": [
    "The new variable will be called \"ethnic2\".\n",
    "\n",
    "The reference category should be 'black' pupils (i.e. carib; afro.; other black).\n",
    "\n",
    "Categories should be\n",
    "\n",
    "1. Black\n",
    "2. Chinese\n",
    "3. Indian\n",
    "4. White\n",
    "5. Bangladeshi\n",
    "6. Pakistani\n",
    "7. Others (but this category has been omitted from the analysis)\n"
   ]
  },
  {
   "cell_type": "code",
   "execution_count": 26,
   "metadata": {
    "collapsed": false
   },
   "outputs": [],
   "source": [
    "# create the new field,\n",
    "\n",
    "mydata4.df$ethnic2 <- 7\n",
    "\n",
    "# everyone is placed into category 7.\n",
    "\n",
    "# recode the new field with values from the old field.\n",
    "mydata4.df$ethnic2[mydata4.df$a58==\"white\"] <-4\n",
    "mydata4.df$ethnic2[mydata4.df$a58==\"carib.\"] <-1\n",
    "mydata4.df$ethnic2[mydata4.df$a58==\"afro.\"] <-1\n",
    "mydata4.df$ethnic2[mydata4.df$a58==\"other black\"] <-1\n",
    "mydata4.df$ethnic2[mydata4.df$a58==\"indian\"] <-3\n",
    "mydata4.df$ethnic2[mydata4.df$a58==\"pakistani\"] <-6\n",
    "mydata4.df$ethnic2[mydata4.df$a58==\"bangladeshi\"] <-5\n",
    "mydata4.df$ethnic2[mydata4.df$a58==\"chin!ese\"] <-2\n",
    "mydata4.df$ethnic2[mydata4.df$a58==\"other asian\"] <-7\n",
    "mydata4.df$ethnic2[mydata4.df$a58==\"any other\"] <-7\n",
    "mydata4.df$ethnic2[mydata4.df$a58==\"mixed ethnic origin\"] <-7\n",
    "mydata4.df$ethnic2[mydata4.df$a58==\"ref!used\"] <-7\n"
   ]
  },
  {
   "cell_type": "code",
   "execution_count": 27,
   "metadata": {
    "collapsed": false
   },
   "outputs": [
    {
     "data": {
      "text/plain": [
       "\n",
       "    1     2     3     4     5     6 \n",
       "  180    67   369 11962    52   159 "
      ]
     },
     "execution_count": 27,
     "metadata": {},
     "output_type": "execute_result"
    }
   ],
   "source": [
    "table(mydata4.df$ethnic2)"
   ]
  },
  {
   "cell_type": "markdown",
   "metadata": {},
   "source": [
    "Just to check the old variable \"ethnic1\" and the new variable \"ethnic2\"."
   ]
  },
  {
   "cell_type": "code",
   "execution_count": 28,
   "metadata": {
    "collapsed": false
   },
   "outputs": [
    {
     "data": {
      "text/plain": [
       "   \n",
       "        1     2     3     4     5     6\n",
       "  1     0     0     0 11962     0     0\n",
       "  2   180     0     0     0     0     0\n",
       "  3     0     0   369     0     0     0\n",
       "  4     0     0     0     0     0   159\n",
       "  5     0     0     0     0    52     0\n",
       "  6     0    67     0     0     0     0"
      ]
     },
     "execution_count": 28,
     "metadata": {},
     "output_type": "execute_result"
    }
   ],
   "source": [
    "mytable <- table (mydata4.df$ethnic1,mydata4.df$ethnic2)\n",
    "mytable # print table "
   ]
  },
  {
   "cell_type": "markdown",
   "metadata": {},
   "source": [
    "I will now try to re-estimate the model but with the ethnicity variable \"ethnic2\"."
   ]
  },
  {
   "cell_type": "markdown",
   "metadata": {},
   "source": [
    "The data have been altered so I re-set the survey design."
   ]
  },
  {
   "cell_type": "code",
   "execution_count": 29,
   "metadata": {
    "collapsed": true
   },
   "outputs": [],
   "source": [
    "mydesign3 <- svydesign(id = ~serial,data = mydata4.df, weight = ~weight)"
   ]
  },
  {
   "cell_type": "code",
   "execution_count": 30,
   "metadata": {
    "collapsed": false,
    "scrolled": true
   },
   "outputs": [
    {
     "name": "stderr",
     "output_type": "stream",
     "text": [
      "Warning message:\n",
      "In eval(expr, envir, enclos): non-integer #successes in a binomial glm!"
     ]
    }
   ],
   "source": [
    "model4<-svyglm (s15a_c ~ factor(ethnic2) + girls + prof_man + o_non_man + \n",
    "                 skilled_man + semi_skilled, design=mydesign3, data = mydata4.df, family = \"binomial\")"
   ]
  },
  {
   "cell_type": "code",
   "execution_count": 31,
   "metadata": {
    "collapsed": false
   },
   "outputs": [
    {
     "data": {
      "text/plain": [
       "\n",
       "Call:\n",
       "svyglm(formula = s15a_c ~ factor(ethnic2) + girls + prof_man + \n",
       "    o_non_man + skilled_man + semi_skilled, design = mydesign3, \n",
       "    data = mydata4.df, family = \"binomial\")\n",
       "\n",
       "Survey design:\n",
       "svydesign(id = ~serial, data = mydata4.df, weight = ~weight)\n",
       "\n",
       "Coefficients:\n",
       "                 Estimate Std. Error t value Pr(>|t|)    \n",
       "(Intercept)      -2.20829    0.19802 -11.152  < 2e-16 ***\n",
       "factor(ethnic2)2  2.00231    0.37734   5.306 1.14e-07 ***\n",
       "factor(ethnic2)3  1.06584    0.20829   5.117 3.15e-07 ***\n",
       "factor(ethnic2)4  0.64314    0.17118   3.757 0.000173 ***\n",
       "factor(ethnic2)5  0.76616    0.34486   2.222 0.026323 *  \n",
       "factor(ethnic2)6  0.53136    0.24503   2.169 0.030135 *  \n",
       "girls             0.40456    0.03926  10.305  < 2e-16 ***\n",
       "prof_man          2.19209    0.10863  20.179  < 2e-16 ***\n",
       "o_non_man         1.77251    0.10793  16.423  < 2e-16 ***\n",
       "skilled_man       0.93217    0.10411   8.954  < 2e-16 ***\n",
       "semi_skilled      0.57587    0.11264   5.112 3.23e-07 ***\n",
       "---\n",
       "Signif. codes:  0 '***' 0.001 '**' 0.01 '*' 0.05 '.' 0.1 ' ' 1\n",
       "\n",
       "(Dispersion parameter for binomial family taken to be 1.000269)\n",
       "\n",
       "Number of Fisher Scoring iterations: 4\n"
      ]
     },
     "execution_count": 31,
     "metadata": {},
     "output_type": "execute_result"
    }
   ],
   "source": [
    "summary(model4)"
   ]
  },
  {
   "cell_type": "markdown",
   "metadata": {},
   "source": [
    "### <span style=\"color:blue\"> Note!</span> \n",
    "\n",
    "The results now duplicate Table 5 (p.20) Connolley (2006).\n",
    "\n",
    "---"
   ]
  },
  {
   "cell_type": "markdown",
   "metadata": {},
   "source": [
    "I now past the modelling results to the quasi-variance estimation package."
   ]
  },
  {
   "cell_type": "code",
   "execution_count": 32,
   "metadata": {
    "collapsed": false
   },
   "outputs": [],
   "source": [
    "model4.qvs <- qvcalc(model4, \"factor(ethnic2)\")"
   ]
  },
  {
   "cell_type": "markdown",
   "metadata": {},
   "source": [
    "I now get a summary of these results.\n",
    "\n",
    "This includes the <br>\n",
    "parameter estimate (i.e. beta) \"estimate\"; <br>\n",
    "conventional standard error \"SE\"; <br>\n",
    "quasi-variance based standard error \"quasiSE\"; <br>\n",
    "quasi-varianve based variance \"quasiVar\". <br>\n"
   ]
  },
  {
   "cell_type": "code",
   "execution_count": 33,
   "metadata": {
    "collapsed": false
   },
   "outputs": [
    {
     "name": "stdout",
     "output_type": "stream",
     "text": [
      "Model call:  svyglm(formula = s15a_c ~ factor(ethnic2) + girls + prof_man +      o_non_man + skilled_man + semi_skilled, design = mydesign3,      data = mydata4.df, family = \"binomial\") \n",
      "Factor name:  factor(ethnic2) \n",
      "      estimate     SE quasiSE  quasiVar\n",
      "    1   0.0000 0.0000 0.17011 0.0289357\n",
      "    2   2.0023 0.3773 0.33645 0.1131998\n",
      "    3   1.0658 0.2083 0.12014 0.0144326\n",
      "    4   0.6431 0.1712 0.02034 0.0004138\n",
      "    5   0.7662 0.3449 0.29977 0.0898622\n",
      "    6   0.5314 0.2450 0.17612 0.0310191\n",
      "Worst relative errors in SEs of simple contrasts (%):  -0.1 0.1 \n",
      "Worst relative errors over *all* contrasts (%):  -0.4 0.1 \n"
     ]
    }
   ],
   "source": [
    "summary(model4.qvs, digits = 4)"
   ]
  },
  {
   "cell_type": "markdown",
   "metadata": {},
   "source": [
    "I now plot the estimates for \"ethnicity2\" along with quasi-variance based 95% comparison intervals."
   ]
  },
  {
   "cell_type": "code",
   "execution_count": 34,
   "metadata": {
    "collapsed": false,
    "scrolled": true
   },
   "outputs": [
    {
     "data": {
      "image/png": "[encoded data removed]",
      "image/svg+xml": [
       "<?xml version=\"1.0\" encoding=\"UTF-8\"?>\n",
       "<svg xmlns=\"http://www.w3.org/2000/svg\" xmlns:xlink=\"http://www.w3.org/1999/xlink\" width=\"504pt\" height=\"504pt\" viewBox=\"0 0 504 504\" version=\"1.1\">\n",
       "<defs>\n",
       "<g>\n",
       "<symbol overflow=\"visible\" id=\"glyph0-0\">\n",
       "<path style=\"stroke:none;\" d=\"M 4.46875 0 L 3.414063 0 L 3.414063 -6.71875 C 3.160156 -6.476563 2.828125 -6.234375 2.414063 -5.996094 C 2 -5.75 1.628906 -5.570313 1.304688 -5.449219 L 1.304688 -6.46875 C 1.894531 -6.742188 2.410156 -7.078125 2.851563 -7.476563 C 3.292969 -7.871094 3.605469 -8.253906 3.789063 -8.625 L 4.46875 -8.625 Z M 4.46875 0 \"/>\n",
       "</symbol>\n",
       "<symbol overflow=\"visible\" id=\"glyph0-1\">\n",
       "<path style=\"stroke:none;\" d=\"M 6.039063 -1.015625 L 6.039063 0 L 0.363281 0 C 0.355469 -0.253906 0.394531 -0.496094 0.484375 -0.734375 C 0.628906 -1.117188 0.859375 -1.5 1.179688 -1.875 C 1.492188 -2.25 1.953125 -2.683594 2.5625 -3.175781 C 3.492188 -3.941406 4.125 -4.546875 4.453125 -4.992188 C 4.78125 -5.4375 4.945313 -5.859375 4.945313 -6.265625 C 4.945313 -6.679688 4.792969 -7.03125 4.496094 -7.320313 C 4.191406 -7.601563 3.804688 -7.746094 3.328125 -7.75 C 2.820313 -7.746094 2.414063 -7.59375 2.109375 -7.292969 C 1.804688 -6.984375 1.648438 -6.5625 1.648438 -6.03125 L 0.5625 -6.140625 C 0.632813 -6.945313 0.910156 -7.558594 1.398438 -7.988281 C 1.878906 -8.410156 2.53125 -8.625 3.351563 -8.625 C 4.171875 -8.625 4.824219 -8.394531 5.308594 -7.9375 C 5.789063 -7.480469 6.027344 -6.914063 6.03125 -6.242188 C 6.027344 -5.894531 5.957031 -5.558594 5.820313 -5.226563 C 5.675781 -4.890625 5.441406 -4.539063 5.117188 -4.175781 C 4.789063 -3.804688 4.25 -3.300781 3.492188 -2.664063 C 2.859375 -2.128906 2.453125 -1.769531 2.273438 -1.582031 C 2.09375 -1.394531 1.945313 -1.203125 1.828125 -1.015625 Z M 6.039063 -1.015625 \"/>\n",
       "</symbol>\n",
       "<symbol overflow=\"visible\" id=\"glyph0-2\">\n",
       "<path style=\"stroke:none;\" d=\"M 0.503906 -2.265625 L 1.558594 -2.40625 C 1.679688 -1.808594 1.882813 -1.378906 2.175781 -1.113281 C 2.464844 -0.847656 2.820313 -0.714844 3.242188 -0.71875 C 3.734375 -0.714844 4.152344 -0.886719 4.496094 -1.234375 C 4.832031 -1.574219 5.003906 -2 5.007813 -2.515625 C 5.003906 -2.996094 4.847656 -3.394531 4.535156 -3.710938 C 4.21875 -4.023438 3.816406 -4.183594 3.328125 -4.183594 C 3.128906 -4.183594 2.878906 -4.144531 2.585938 -4.066406 L 2.703125 -4.992188 C 2.765625 -4.984375 2.824219 -4.980469 2.871094 -4.980469 C 3.320313 -4.980469 3.722656 -5.097656 4.085938 -5.332031 C 4.441406 -5.566406 4.621094 -5.925781 4.625 -6.414063 C 4.621094 -6.800781 4.492188 -7.121094 4.230469 -7.375 C 3.964844 -7.628906 3.625 -7.757813 3.21875 -7.757813 C 2.804688 -7.757813 2.464844 -7.628906 2.191406 -7.371094 C 1.917969 -7.113281 1.742188 -6.726563 1.664063 -6.210938 L 0.609375 -6.398438 C 0.738281 -7.105469 1.03125 -7.652344 1.488281 -8.042969 C 1.941406 -8.429688 2.507813 -8.625 3.195313 -8.625 C 3.660156 -8.625 4.09375 -8.523438 4.488281 -8.324219 C 4.878906 -8.121094 5.179688 -7.847656 5.390625 -7.5 C 5.601563 -7.148438 5.707031 -6.777344 5.707031 -6.390625 C 5.707031 -6.019531 5.605469 -5.683594 5.40625 -5.378906 C 5.207031 -5.074219 4.914063 -4.832031 4.523438 -4.652344 C 5.03125 -4.535156 5.425781 -4.289063 5.707031 -3.921875 C 5.988281 -3.546875 6.128906 -3.085938 6.128906 -2.539063 C 6.128906 -1.785156 5.855469 -1.148438 5.308594 -0.628906 C 4.761719 -0.105469 4.070313 0.152344 3.234375 0.152344 C 2.476563 0.152344 1.847656 -0.0703125 1.355469 -0.519531 C 0.855469 -0.96875 0.574219 -1.550781 0.503906 -2.265625 Z M 0.503906 -2.265625 \"/>\n",
       "</symbol>\n",
       "<symbol overflow=\"visible\" id=\"glyph0-3\">\n",
       "<path style=\"stroke:none;\" d=\"M 3.878906 0 L 3.878906 -2.054688 L 0.152344 -2.054688 L 0.152344 -3.023438 L 4.070313 -8.589844 L 4.933594 -8.589844 L 4.933594 -3.023438 L 6.09375 -3.023438 L 6.09375 -2.054688 L 4.933594 -2.054688 L 4.933594 0 Z M 3.878906 -3.023438 L 3.878906 -6.898438 L 1.1875 -3.023438 Z M 3.878906 -3.023438 \"/>\n",
       "</symbol>\n",
       "<symbol overflow=\"visible\" id=\"glyph0-4\">\n",
       "<path style=\"stroke:none;\" d=\"M 0.5 -2.25 L 1.605469 -2.34375 C 1.683594 -1.804688 1.871094 -1.398438 2.175781 -1.125 C 2.472656 -0.851563 2.835938 -0.714844 3.257813 -0.71875 C 3.765625 -0.714844 4.195313 -0.90625 4.546875 -1.292969 C 4.898438 -1.671875 5.074219 -2.179688 5.074219 -2.820313 C 5.074219 -3.414063 4.902344 -3.890625 4.566406 -4.242188 C 4.226563 -4.589844 3.785156 -4.761719 3.242188 -4.765625 C 2.898438 -4.761719 2.59375 -4.683594 2.320313 -4.53125 C 2.046875 -4.375 1.832031 -4.175781 1.675781 -3.929688 L 0.6875 -4.0625 L 1.515625 -8.472656 L 5.789063 -8.472656 L 5.789063 -7.464844 L 2.359375 -7.464844 L 1.898438 -5.15625 C 2.414063 -5.515625 2.953125 -5.695313 3.523438 -5.695313 C 4.269531 -5.695313 4.902344 -5.433594 5.421875 -4.914063 C 5.933594 -4.394531 6.191406 -3.726563 6.195313 -2.914063 C 6.191406 -2.132813 5.964844 -1.460938 5.515625 -0.898438 C 4.960938 -0.199219 4.210938 0.144531 3.257813 0.148438 C 2.476563 0.144531 1.835938 -0.0703125 1.34375 -0.507813 C 0.84375 -0.941406 0.5625 -1.523438 0.5 -2.25 Z M 0.5 -2.25 \"/>\n",
       "</symbol>\n",
       "<symbol overflow=\"visible\" id=\"glyph0-5\">\n",
       "<path style=\"stroke:none;\" d=\"M 5.96875 -6.484375 L 4.921875 -6.40625 C 4.828125 -6.8125 4.695313 -7.113281 4.523438 -7.304688 C 4.234375 -7.605469 3.882813 -7.757813 3.46875 -7.757813 C 3.132813 -7.757813 2.835938 -7.664063 2.585938 -7.476563 C 2.25 -7.234375 1.988281 -6.878906 1.796875 -6.414063 C 1.605469 -5.949219 1.507813 -5.289063 1.5 -4.429688 C 1.753906 -4.8125 2.0625 -5.097656 2.433594 -5.289063 C 2.796875 -5.472656 3.183594 -5.566406 3.585938 -5.570313 C 4.289063 -5.566406 4.886719 -5.308594 5.382813 -4.792969 C 5.875 -4.277344 6.121094 -3.609375 6.125 -2.789063 C 6.121094 -2.25 6.003906 -1.746094 5.773438 -1.285156 C 5.539063 -0.820313 5.222656 -0.46875 4.816406 -0.222656 C 4.410156 0.0234375 3.949219 0.144531 3.433594 0.148438 C 2.554688 0.144531 1.835938 -0.175781 1.285156 -0.820313 C 0.726563 -1.46875 0.449219 -2.535156 0.453125 -4.019531 C 0.449219 -5.675781 0.757813 -6.882813 1.371094 -7.640625 C 1.902344 -8.296875 2.621094 -8.625 3.53125 -8.625 C 4.207031 -8.625 4.761719 -8.433594 5.195313 -8.054688 C 5.625 -7.675781 5.882813 -7.152344 5.96875 -6.484375 Z M 1.664063 -2.78125 C 1.664063 -2.417969 1.738281 -2.070313 1.894531 -1.738281 C 2.042969 -1.40625 2.261719 -1.152344 2.542969 -0.980469 C 2.820313 -0.800781 3.109375 -0.714844 3.414063 -0.71875 C 3.859375 -0.714844 4.242188 -0.894531 4.566406 -1.257813 C 4.882813 -1.613281 5.042969 -2.101563 5.046875 -2.726563 C 5.042969 -3.316406 4.886719 -3.785156 4.570313 -4.128906 C 4.25 -4.46875 3.851563 -4.640625 3.375 -4.640625 C 2.898438 -4.640625 2.492188 -4.46875 2.160156 -4.128906 C 1.828125 -3.785156 1.664063 -3.335938 1.664063 -2.78125 Z M 1.664063 -2.78125 \"/>\n",
       "</symbol>\n",
       "<symbol overflow=\"visible\" id=\"glyph0-6\">\n",
       "<path style=\"stroke:none;\" d=\"M 1.042969 0 L 1.042969 -5.402344 L 0.109375 -5.402344 L 0.109375 -6.222656 L 1.042969 -6.222656 L 1.042969 -6.882813 C 1.042969 -7.300781 1.078125 -7.613281 1.15625 -7.816406 C 1.25 -8.089844 1.429688 -8.308594 1.6875 -8.480469 C 1.945313 -8.644531 2.304688 -8.730469 2.765625 -8.734375 C 3.0625 -8.730469 3.390625 -8.695313 3.75 -8.632813 L 3.59375 -7.710938 C 3.371094 -7.75 3.164063 -7.769531 2.96875 -7.769531 C 2.648438 -7.769531 2.421875 -7.699219 2.292969 -7.5625 C 2.15625 -7.425781 2.089844 -7.171875 2.09375 -6.796875 L 2.09375 -6.222656 L 3.304688 -6.222656 L 3.304688 -5.402344 L 2.09375 -5.402344 L 2.09375 0 Z M 1.042969 0 \"/>\n",
       "</symbol>\n",
       "<symbol overflow=\"visible\" id=\"glyph0-7\">\n",
       "<path style=\"stroke:none;\" d=\"M 4.851563 -0.765625 C 4.460938 -0.433594 4.082031 -0.199219 3.722656 -0.0625 C 3.355469 0.0742188 2.96875 0.140625 2.5625 0.140625 C 1.875 0.140625 1.351563 -0.0234375 0.984375 -0.359375 C 0.617188 -0.6875 0.433594 -1.117188 0.433594 -1.640625 C 0.433594 -1.945313 0.5 -2.222656 0.640625 -2.472656 C 0.777344 -2.722656 0.960938 -2.925781 1.1875 -3.082031 C 1.410156 -3.234375 1.664063 -3.347656 1.945313 -3.429688 C 2.152344 -3.476563 2.464844 -3.53125 2.882813 -3.585938 C 3.734375 -3.6875 4.359375 -3.808594 4.765625 -3.949219 C 4.765625 -4.089844 4.769531 -4.179688 4.769531 -4.226563 C 4.769531 -4.648438 4.667969 -4.953125 4.46875 -5.132813 C 4.199219 -5.371094 3.800781 -5.488281 3.269531 -5.492188 C 2.769531 -5.488281 2.402344 -5.402344 2.167969 -5.230469 C 1.933594 -5.054688 1.757813 -4.746094 1.648438 -4.304688 L 0.617188 -4.445313 C 0.707031 -4.886719 0.863281 -5.242188 1.078125 -5.515625 C 1.289063 -5.78125 1.597656 -5.992188 2.007813 -6.140625 C 2.410156 -6.289063 2.882813 -6.363281 3.421875 -6.363281 C 3.953125 -6.363281 4.382813 -6.300781 4.714844 -6.175781 C 5.046875 -6.050781 5.292969 -5.890625 5.449219 -5.703125 C 5.605469 -5.511719 5.714844 -5.273438 5.777344 -4.984375 C 5.808594 -4.804688 5.824219 -4.480469 5.828125 -4.015625 L 5.828125 -2.609375 C 5.824219 -1.625 5.847656 -1.003906 5.894531 -0.746094 C 5.941406 -0.484375 6.03125 -0.238281 6.164063 0 L 5.0625 0 C 4.953125 -0.21875 4.882813 -0.472656 4.851563 -0.765625 Z M 4.765625 -3.125 C 4.375 -2.964844 3.800781 -2.832031 3.039063 -2.726563 C 2.605469 -2.660156 2.300781 -2.589844 2.121094 -2.515625 C 1.941406 -2.433594 1.800781 -2.320313 1.703125 -2.171875 C 1.605469 -2.019531 1.558594 -1.851563 1.558594 -1.671875 C 1.558594 -1.386719 1.664063 -1.152344 1.875 -0.96875 C 2.085938 -0.777344 2.398438 -0.683594 2.8125 -0.6875 C 3.21875 -0.683594 3.578125 -0.773438 3.894531 -0.953125 C 4.210938 -1.128906 4.445313 -1.371094 4.59375 -1.679688 C 4.707031 -1.917969 4.761719 -2.269531 4.765625 -2.734375 Z M 4.765625 -3.125 \"/>\n",
       "</symbol>\n",
       "<symbol overflow=\"visible\" id=\"glyph0-8\">\n",
       "<path style=\"stroke:none;\" d=\"M 4.851563 -2.28125 L 5.890625 -2.144531 C 5.773438 -1.425781 5.484375 -0.863281 5.019531 -0.464844 C 4.550781 -0.0585938 3.976563 0.140625 3.296875 0.140625 C 2.445313 0.140625 1.761719 -0.136719 1.246094 -0.695313 C 0.726563 -1.25 0.46875 -2.046875 0.46875 -3.085938 C 0.46875 -3.753906 0.578125 -4.34375 0.800781 -4.851563 C 1.023438 -5.355469 1.363281 -5.730469 1.816406 -5.984375 C 2.269531 -6.234375 2.765625 -6.363281 3.304688 -6.363281 C 3.980469 -6.363281 4.53125 -6.191406 4.964844 -5.847656 C 5.390625 -5.503906 5.667969 -5.019531 5.789063 -4.394531 L 4.765625 -4.234375 C 4.664063 -4.652344 4.492188 -4.96875 4.246094 -5.179688 C 3.996094 -5.390625 3.695313 -5.496094 3.34375 -5.496094 C 2.808594 -5.496094 2.378906 -5.304688 2.050781 -4.921875 C 1.71875 -4.539063 1.550781 -3.9375 1.554688 -3.117188 C 1.550781 -2.28125 1.710938 -1.671875 2.035156 -1.292969 C 2.351563 -0.914063 2.769531 -0.726563 3.289063 -0.726563 C 3.695313 -0.726563 4.042969 -0.851563 4.324219 -1.105469 C 4.601563 -1.359375 4.777344 -1.75 4.851563 -2.28125 Z M 4.851563 -2.28125 \"/>\n",
       "</symbol>\n",
       "<symbol overflow=\"visible\" id=\"glyph0-9\">\n",
       "<path style=\"stroke:none;\" d=\"M 3.09375 -0.945313 L 3.246094 -0.0117188 C 2.949219 0.0507813 2.683594 0.0820313 2.449219 0.0820313 C 2.066406 0.0820313 1.769531 0.0234375 1.558594 -0.0976563 C 1.347656 -0.21875 1.199219 -0.378906 1.113281 -0.578125 C 1.027344 -0.773438 0.984375 -1.1875 0.984375 -1.820313 L 0.984375 -5.402344 L 0.210938 -5.402344 L 0.210938 -6.222656 L 0.984375 -6.222656 L 0.984375 -7.765625 L 2.03125 -8.398438 L 2.03125 -6.222656 L 3.09375 -6.222656 L 3.09375 -5.402344 L 2.03125 -5.402344 L 2.03125 -1.765625 C 2.027344 -1.460938 2.046875 -1.269531 2.085938 -1.183594 C 2.125 -1.097656 2.183594 -1.027344 2.269531 -0.976563 C 2.351563 -0.925781 2.472656 -0.902344 2.632813 -0.902344 C 2.742188 -0.902344 2.898438 -0.914063 3.09375 -0.945313 Z M 3.09375 -0.945313 \"/>\n",
       "</symbol>\n",
       "<symbol overflow=\"visible\" id=\"glyph0-10\">\n",
       "<path style=\"stroke:none;\" d=\"M 0.398438 -3.109375 C 0.398438 -4.261719 0.71875 -5.117188 1.359375 -5.671875 C 1.894531 -6.132813 2.546875 -6.363281 3.316406 -6.363281 C 4.171875 -6.363281 4.871094 -6.082031 5.414063 -5.519531 C 5.953125 -4.957031 6.222656 -4.183594 6.226563 -3.199219 C 6.222656 -2.398438 6.101563 -1.765625 5.867188 -1.308594 C 5.625 -0.847656 5.277344 -0.492188 4.820313 -0.238281 C 4.359375 0.015625 3.859375 0.140625 3.316406 0.140625 C 2.441406 0.140625 1.734375 -0.136719 1.203125 -0.695313 C 0.664063 -1.253906 0.398438 -2.058594 0.398438 -3.109375 Z M 1.484375 -3.109375 C 1.480469 -2.308594 1.65625 -1.710938 2.003906 -1.320313 C 2.347656 -0.921875 2.785156 -0.726563 3.316406 -0.726563 C 3.839844 -0.726563 4.273438 -0.925781 4.621094 -1.324219 C 4.96875 -1.722656 5.144531 -2.328125 5.144531 -3.148438 C 5.144531 -3.914063 4.96875 -4.496094 4.617188 -4.894531 C 4.265625 -5.289063 3.832031 -5.488281 3.316406 -5.492188 C 2.785156 -5.488281 2.347656 -5.292969 2.003906 -4.898438 C 1.65625 -4.5 1.480469 -3.902344 1.484375 -3.109375 Z M 1.484375 -3.109375 \"/>\n",
       "</symbol>\n",
       "<symbol overflow=\"visible\" id=\"glyph0-11\">\n",
       "<path style=\"stroke:none;\" d=\"M 0.78125 0 L 0.78125 -6.222656 L 1.726563 -6.222656 L 1.726563 -5.28125 C 1.96875 -5.71875 2.191406 -6.011719 2.398438 -6.152344 C 2.601563 -6.292969 2.828125 -6.363281 3.078125 -6.363281 C 3.429688 -6.363281 3.792969 -6.25 4.160156 -6.023438 L 3.796875 -5.046875 C 3.539063 -5.195313 3.28125 -5.273438 3.023438 -5.273438 C 2.792969 -5.273438 2.585938 -5.203125 2.402344 -5.066406 C 2.214844 -4.925781 2.082031 -4.734375 2.007813 -4.488281 C 1.890625 -4.113281 1.832031 -3.703125 1.835938 -3.257813 L 1.835938 0 Z M 0.78125 0 \"/>\n",
       "</symbol>\n",
       "<symbol overflow=\"visible\" id=\"glyph0-12\">\n",
       "<path style=\"stroke:none;\" d=\"M 2.804688 2.523438 C 2.222656 1.785156 1.730469 0.929688 1.328125 -0.0546875 C 0.925781 -1.035156 0.726563 -2.054688 0.726563 -3.109375 C 0.726563 -4.039063 0.875 -4.929688 1.179688 -5.78125 C 1.523438 -6.769531 2.066406 -7.753906 2.804688 -8.734375 L 3.5625 -8.734375 C 3.085938 -7.917969 2.773438 -7.339844 2.625 -6.996094 C 2.382813 -6.457031 2.195313 -5.894531 2.0625 -5.308594 C 1.894531 -4.574219 1.808594 -3.839844 1.8125 -3.105469 C 1.808594 -1.226563 2.394531 0.648438 3.5625 2.523438 Z M 2.804688 2.523438 \"/>\n",
       "</symbol>\n",
       "<symbol overflow=\"visible\" id=\"glyph0-13\">\n",
       "<path style=\"stroke:none;\" d=\"M 5.050781 -2.003906 L 6.140625 -1.867188 C 5.96875 -1.230469 5.648438 -0.738281 5.183594 -0.386719 C 4.71875 -0.0351563 4.125 0.140625 3.40625 0.140625 C 2.492188 0.140625 1.769531 -0.136719 1.238281 -0.699219 C 0.699219 -1.253906 0.433594 -2.042969 0.4375 -3.058594 C 0.433594 -4.105469 0.703125 -4.917969 1.246094 -5.496094 C 1.78125 -6.074219 2.480469 -6.363281 3.34375 -6.363281 C 4.175781 -6.363281 4.855469 -6.078125 5.382813 -5.511719 C 5.910156 -4.945313 6.175781 -4.148438 6.175781 -3.125 C 6.175781 -3.058594 6.171875 -2.964844 6.171875 -2.84375 L 1.53125 -2.84375 C 1.5625 -2.15625 1.757813 -1.632813 2.109375 -1.269531 C 2.457031 -0.90625 2.890625 -0.726563 3.410156 -0.726563 C 3.796875 -0.726563 4.125 -0.828125 4.402344 -1.03125 C 4.671875 -1.234375 4.890625 -1.558594 5.050781 -2.003906 Z M 1.585938 -3.710938 L 5.0625 -3.710938 C 5.015625 -4.226563 4.882813 -4.621094 4.664063 -4.886719 C 4.328125 -5.292969 3.890625 -5.496094 3.359375 -5.496094 C 2.871094 -5.496094 2.464844 -5.332031 2.136719 -5.007813 C 1.804688 -4.683594 1.621094 -4.25 1.585938 -3.710938 Z M 1.585938 -3.710938 \"/>\n",
       "</symbol>\n",
       "<symbol overflow=\"visible\" id=\"glyph0-14\">\n",
       "<path style=\"stroke:none;\" d=\"M 0.789063 0 L 0.789063 -8.589844 L 1.84375 -8.589844 L 1.84375 -5.507813 C 2.335938 -6.078125 2.957031 -6.363281 3.710938 -6.363281 C 4.164063 -6.363281 4.566406 -6.269531 4.910156 -6.089844 C 5.25 -5.90625 5.492188 -5.65625 5.640625 -5.339844 C 5.785156 -5.015625 5.859375 -4.550781 5.859375 -3.945313 L 5.859375 0 L 4.804688 0 L 4.804688 -3.945313 C 4.804688 -4.46875 4.6875 -4.851563 4.460938 -5.09375 C 4.226563 -5.328125 3.90625 -5.449219 3.492188 -5.453125 C 3.179688 -5.449219 2.882813 -5.367188 2.609375 -5.210938 C 2.328125 -5.046875 2.132813 -4.828125 2.019531 -4.550781 C 1.898438 -4.273438 1.839844 -3.890625 1.84375 -3.40625 L 1.84375 0 Z M 0.789063 0 \"/>\n",
       "</symbol>\n",
       "<symbol overflow=\"visible\" id=\"glyph0-15\">\n",
       "<path style=\"stroke:none;\" d=\"M 0.789063 0 L 0.789063 -6.222656 L 1.742188 -6.222656 L 1.742188 -5.335938 C 2.195313 -6.019531 2.855469 -6.363281 3.71875 -6.363281 C 4.089844 -6.363281 4.433594 -6.292969 4.753906 -6.160156 C 5.066406 -6.023438 5.304688 -5.847656 5.460938 -5.632813 C 5.617188 -5.410156 5.726563 -5.152344 5.789063 -4.851563 C 5.828125 -4.65625 5.847656 -4.3125 5.847656 -3.828125 L 5.847656 0 L 4.792969 0 L 4.792969 -3.785156 C 4.792969 -4.214844 4.75 -4.535156 4.667969 -4.75 C 4.585938 -4.960938 4.441406 -5.128906 4.234375 -5.257813 C 4.023438 -5.382813 3.777344 -5.449219 3.5 -5.449219 C 3.046875 -5.449219 2.660156 -5.304688 2.332031 -5.019531 C 2.003906 -4.734375 1.839844 -4.195313 1.84375 -3.398438 L 1.84375 0 Z M 0.789063 0 \"/>\n",
       "</symbol>\n",
       "<symbol overflow=\"visible\" id=\"glyph0-16\">\n",
       "<path style=\"stroke:none;\" d=\"M 0.796875 -7.375 L 0.796875 -8.589844 L 1.851563 -8.589844 L 1.851563 -7.375 Z M 0.796875 0 L 0.796875 -6.222656 L 1.851563 -6.222656 L 1.851563 0 Z M 0.796875 0 \"/>\n",
       "</symbol>\n",
       "<symbol overflow=\"visible\" id=\"glyph0-17\">\n",
       "<path style=\"stroke:none;\" d=\"M 1.484375 2.523438 L 0.726563 2.523438 C 1.890625 0.648438 2.472656 -1.226563 2.476563 -3.105469 C 2.472656 -3.839844 2.390625 -4.566406 2.226563 -5.289063 C 2.09375 -5.875 1.90625 -6.4375 1.671875 -6.976563 C 1.515625 -7.328125 1.203125 -7.914063 0.726563 -8.734375 L 1.484375 -8.734375 C 2.214844 -7.753906 2.757813 -6.769531 3.109375 -5.78125 C 3.410156 -4.929688 3.5625 -4.039063 3.5625 -3.109375 C 3.5625 -2.054688 3.359375 -1.035156 2.957031 -0.0546875 C 2.550781 0.929688 2.058594 1.785156 1.484375 2.523438 Z M 1.484375 2.523438 \"/>\n",
       "</symbol>\n",
       "<symbol overflow=\"visible\" id=\"glyph1-0\">\n",
       "<path style=\"stroke:none;\" d=\"M -4.234375 -0.5 C -5.246094 -0.496094 -6.0625 -0.601563 -6.6875 -0.8125 C -7.304688 -1.019531 -7.785156 -1.328125 -8.121094 -1.742188 C -8.457031 -2.152344 -8.625 -2.671875 -8.625 -3.300781 C -8.625 -3.757813 -8.53125 -4.164063 -8.347656 -4.511719 C -8.160156 -4.859375 -7.890625 -5.144531 -7.542969 -5.371094 C -7.191406 -5.59375 -6.765625 -5.773438 -6.265625 -5.90625 C -5.761719 -6.035156 -5.085938 -6.097656 -4.234375 -6.101563 C -3.222656 -6.097656 -2.410156 -5.996094 -1.792969 -5.789063 C -1.175781 -5.578125 -0.695313 -5.265625 -0.359375 -4.859375 C -0.0195313 -4.445313 0.144531 -3.925781 0.148438 -3.296875 C 0.144531 -2.464844 -0.148438 -1.816406 -0.742188 -1.347656 C -1.457031 -0.78125 -2.621094 -0.496094 -4.234375 -0.5 Z M -4.234375 -1.582031 C -2.824219 -1.582031 -1.886719 -1.746094 -1.417969 -2.074219 C -0.949219 -2.402344 -0.714844 -2.808594 -0.71875 -3.296875 C -0.714844 -3.777344 -0.949219 -4.183594 -1.421875 -4.519531 C -1.886719 -4.847656 -2.824219 -5.015625 -4.234375 -5.015625 C -5.648438 -5.015625 -6.589844 -4.847656 -7.054688 -4.519531 C -7.515625 -4.1875 -7.746094 -3.777344 -7.75 -3.289063 C -7.746094 -2.800781 -7.542969 -2.414063 -7.136719 -2.128906 C -6.613281 -1.761719 -5.644531 -1.582031 -4.234375 -1.582031 Z M -4.234375 -1.582031 \"/>\n",
       "</symbol>\n",
       "<symbol overflow=\"visible\" id=\"glyph1-1\">\n",
       "<path style=\"stroke:none;\" d=\"M 0 -4.46875 L 0 -3.414063 L -6.71875 -3.417969 C -6.476563 -3.160156 -6.234375 -2.828125 -5.996094 -2.417969 C -5.75 -2.003906 -5.570313 -1.632813 -5.449219 -1.308594 L -6.46875 -1.308594 C -6.742188 -1.894531 -7.078125 -2.410156 -7.476563 -2.851563 C -7.871094 -3.292969 -8.253906 -3.605469 -8.625 -3.792969 L -8.625 -4.472656 Z M 0 -4.46875 \"/>\n",
       "</symbol>\n",
       "<symbol overflow=\"visible\" id=\"glyph1-2\">\n",
       "<path style=\"stroke:none;\" d=\"M -1.011719 -6.039063 L 0 -6.039063 L 0 -0.363281 C -0.253906 -0.355469 -0.496094 -0.394531 -0.734375 -0.488281 C -1.117188 -0.628906 -1.5 -0.859375 -1.875 -1.179688 C -2.25 -1.496094 -2.683594 -1.957031 -3.175781 -2.5625 C -3.941406 -3.492188 -4.546875 -4.125 -4.992188 -4.453125 C -5.4375 -4.78125 -5.859375 -4.945313 -6.265625 -4.945313 C -6.679688 -4.945313 -7.03125 -4.792969 -7.320313 -4.496094 C -7.601563 -4.195313 -7.746094 -3.808594 -7.75 -3.328125 C -7.746094 -2.820313 -7.59375 -2.414063 -7.292969 -2.109375 C -6.984375 -1.804688 -6.5625 -1.648438 -6.03125 -1.648438 L -6.140625 -0.5625 C -6.945313 -0.636719 -7.558594 -0.914063 -7.988281 -1.402344 C -8.410156 -1.882813 -8.625 -2.535156 -8.625 -3.351563 C -8.625 -4.175781 -8.394531 -4.828125 -7.9375 -5.308594 C -7.480469 -5.789063 -6.914063 -6.027344 -6.242188 -6.03125 C -5.894531 -6.027344 -5.558594 -5.957031 -5.226563 -5.820313 C -4.890625 -5.675781 -4.539063 -5.441406 -4.175781 -5.117188 C -3.804688 -4.789063 -3.300781 -4.25 -2.664063 -3.492188 C -2.128906 -2.859375 -1.769531 -2.453125 -1.582031 -2.273438 C -1.394531 -2.09375 -1.203125 -1.945313 -1.011719 -1.828125 Z M -1.011719 -6.039063 \"/>\n",
       "</symbol>\n",
       "<symbol overflow=\"visible\" id=\"glyph1-3\">\n",
       "<path style=\"stroke:none;\" d=\"M -2.265625 -0.503906 L -2.40625 -1.558594 C -1.808594 -1.679688 -1.378906 -1.882813 -1.113281 -2.175781 C -0.847656 -2.464844 -0.714844 -2.820313 -0.71875 -3.242188 C -0.714844 -3.734375 -0.886719 -4.152344 -1.234375 -4.496094 C -1.574219 -4.832031 -2 -5.003906 -2.511719 -5.007813 C -2.992188 -5.003906 -3.390625 -4.847656 -3.710938 -4.535156 C -4.023438 -4.21875 -4.183594 -3.816406 -4.183594 -3.328125 C -4.183594 -3.128906 -4.144531 -2.878906 -4.066406 -2.585938 L -4.992188 -2.703125 C -4.984375 -2.769531 -4.980469 -2.828125 -4.980469 -2.871094 C -4.980469 -3.320313 -5.097656 -3.722656 -5.332031 -4.085938 C -5.566406 -4.441406 -5.925781 -4.621094 -6.414063 -4.625 C -6.800781 -4.621094 -7.121094 -4.492188 -7.375 -4.230469 C -7.628906 -3.96875 -7.757813 -3.628906 -7.757813 -3.21875 C -7.757813 -2.804688 -7.628906 -2.464844 -7.371094 -2.191406 C -7.113281 -1.917969 -6.726563 -1.742188 -6.210938 -1.664063 L -6.398438 -0.609375 C -7.105469 -0.738281 -7.652344 -1.03125 -8.042969 -1.488281 C -8.429688 -1.945313 -8.625 -2.511719 -8.625 -3.195313 C -8.625 -3.660156 -8.523438 -4.09375 -8.324219 -4.488281 C -8.121094 -4.882813 -7.847656 -5.183594 -7.5 -5.394531 C -7.148438 -5.601563 -6.777344 -5.707031 -6.390625 -5.707031 C -6.019531 -5.707031 -5.683594 -5.605469 -5.378906 -5.40625 C -5.074219 -5.207031 -4.832031 -4.914063 -4.652344 -4.523438 C -4.535156 -5.03125 -4.289063 -5.425781 -3.921875 -5.707031 C -3.546875 -5.988281 -3.085938 -6.128906 -2.535156 -6.128906 C -1.78125 -6.128906 -1.144531 -5.855469 -0.628906 -5.308594 C -0.105469 -4.761719 0.152344 -4.070313 0.152344 -3.234375 C 0.152344 -2.476563 -0.0703125 -1.847656 -0.519531 -1.355469 C -0.96875 -0.855469 -1.550781 -0.574219 -2.265625 -0.503906 Z M -2.265625 -0.503906 \"/>\n",
       "</symbol>\n",
       "<symbol overflow=\"visible\" id=\"glyph1-4\">\n",
       "<path style=\"stroke:none;\" d=\"M -2.003906 -5.050781 L -1.867188 -6.140625 C -1.230469 -5.96875 -0.738281 -5.648438 -0.386719 -5.183594 C -0.0351563 -4.71875 0.140625 -4.125 0.140625 -3.40625 C 0.140625 -2.492188 -0.136719 -1.769531 -0.699219 -1.238281 C -1.253906 -0.703125 -2.042969 -0.4375 -3.058594 -0.441406 C -4.105469 -0.4375 -4.917969 -0.707031 -5.496094 -1.25 C -6.074219 -1.785156 -6.363281 -2.484375 -6.363281 -3.347656 C -6.363281 -4.175781 -6.078125 -4.855469 -5.511719 -5.382813 C -4.945313 -5.910156 -4.148438 -6.175781 -3.121094 -6.175781 C -3.054688 -6.175781 -2.960938 -6.171875 -2.839844 -6.171875 L -2.84375 -1.53125 C -2.15625 -1.566406 -1.632813 -1.761719 -1.269531 -2.109375 C -0.90625 -2.457031 -0.726563 -2.890625 -0.726563 -3.410156 C -0.726563 -3.796875 -0.828125 -4.125 -1.03125 -4.402344 C -1.234375 -4.671875 -1.558594 -4.890625 -2.003906 -5.050781 Z M -3.710938 -1.589844 L -3.707031 -5.0625 C -4.226563 -5.015625 -4.621094 -4.882813 -4.886719 -4.664063 C -5.292969 -4.328125 -5.496094 -3.890625 -5.496094 -3.359375 C -5.496094 -2.871094 -5.332031 -2.464844 -5.007813 -2.136719 C -4.683594 -1.804688 -4.25 -1.621094 -3.710938 -1.589844 Z M -3.710938 -1.589844 \"/>\n",
       "</symbol>\n",
       "<symbol overflow=\"visible\" id=\"glyph1-5\">\n",
       "<path style=\"stroke:none;\" d=\"M -1.859375 -0.371094 L -2.023438 -1.414063 C -1.601563 -1.46875 -1.28125 -1.632813 -1.058594 -1.902344 C -0.835938 -2.167969 -0.726563 -2.542969 -0.726563 -3.023438 C -0.726563 -3.507813 -0.824219 -3.867188 -1.019531 -4.101563 C -1.214844 -4.335938 -1.445313 -4.453125 -1.714844 -4.453125 C -1.953125 -4.453125 -2.140625 -4.347656 -2.277344 -4.140625 C -2.367188 -3.996094 -2.488281 -3.636719 -2.636719 -3.0625 C -2.832031 -2.289063 -3 -1.753906 -3.144531 -1.457031 C -3.285156 -1.15625 -3.480469 -0.929688 -3.734375 -0.777344 C -3.984375 -0.621094 -4.265625 -0.542969 -4.570313 -0.546875 C -4.84375 -0.542969 -5.097656 -0.605469 -5.339844 -0.734375 C -5.574219 -0.859375 -5.773438 -1.035156 -5.929688 -1.253906 C -6.046875 -1.417969 -6.148438 -1.640625 -6.234375 -1.925781 C -6.320313 -2.207031 -6.363281 -2.511719 -6.363281 -2.835938 C -6.363281 -3.324219 -6.292969 -3.75 -6.152344 -4.121094 C -6.011719 -4.488281 -5.820313 -4.761719 -5.578125 -4.9375 C -5.335938 -5.113281 -5.015625 -5.234375 -4.617188 -5.304688 L -4.476563 -4.273438 C -4.796875 -4.222656 -5.046875 -4.085938 -5.226563 -3.863281 C -5.40625 -3.636719 -5.496094 -3.320313 -5.496094 -2.914063 C -5.496094 -2.425781 -5.414063 -2.082031 -5.253906 -1.875 C -5.09375 -1.667969 -4.90625 -1.5625 -4.695313 -1.566406 C -4.554688 -1.5625 -4.433594 -1.605469 -4.324219 -1.695313 C -4.210938 -1.777344 -4.117188 -1.914063 -4.042969 -2.097656 C -4.003906 -2.203125 -3.914063 -2.511719 -3.773438 -3.03125 C -3.570313 -3.773438 -3.40625 -4.292969 -3.28125 -4.589844 C -3.15625 -4.878906 -2.972656 -5.113281 -2.730469 -5.285156 C -2.488281 -5.453125 -2.1875 -5.535156 -1.828125 -5.539063 C -1.476563 -5.535156 -1.144531 -5.433594 -0.832031 -5.230469 C -0.519531 -5.023438 -0.277344 -4.726563 -0.113281 -4.339844 C 0.0585938 -3.953125 0.140625 -3.515625 0.140625 -3.03125 C 0.140625 -2.21875 -0.0273438 -1.601563 -0.363281 -1.179688 C -0.699219 -0.753906 -1.195313 -0.484375 -1.859375 -0.371094 Z M -1.859375 -0.371094 \"/>\n",
       "</symbol>\n",
       "<symbol overflow=\"visible\" id=\"glyph1-6\">\n",
       "<path style=\"stroke:none;\" d=\"M -0.941406 -3.09375 L -0.0117188 -3.246094 C 0.0507813 -2.949219 0.0820313 -2.683594 0.0820313 -2.449219 C 0.0820313 -2.066406 0.0234375 -1.769531 -0.0976563 -1.558594 C -0.21875 -1.347656 -0.378906 -1.199219 -0.574219 -1.113281 C -0.769531 -1.027344 -1.183594 -0.984375 -1.820313 -0.984375 L -5.402344 -0.984375 L -5.402344 -0.210938 L -6.222656 -0.210938 L -6.222656 -0.984375 L -7.765625 -0.984375 L -8.398438 -2.035156 L -6.222656 -2.035156 L -6.222656 -3.09375 L -5.402344 -3.09375 L -5.402344 -2.035156 L -1.761719 -2.03125 C -1.460938 -2.027344 -1.269531 -2.046875 -1.183594 -2.085938 C -1.097656 -2.125 -1.027344 -2.183594 -0.976563 -2.269531 C -0.925781 -2.351563 -0.902344 -2.472656 -0.902344 -2.632813 C -0.902344 -2.742188 -0.914063 -2.898438 -0.941406 -3.09375 Z M -0.941406 -3.09375 \"/>\n",
       "</symbol>\n",
       "<symbol overflow=\"visible\" id=\"glyph1-7\">\n",
       "<path style=\"stroke:none;\" d=\"M -7.375 -0.796875 L -8.589844 -0.796875 L -8.589844 -1.851563 L -7.375 -1.851563 Z M 0 -0.796875 L -6.222656 -0.796875 L -6.222656 -1.851563 L 0 -1.851563 Z M 0 -0.796875 \"/>\n",
       "</symbol>\n",
       "<symbol overflow=\"visible\" id=\"glyph1-8\">\n",
       "<path style=\"stroke:none;\" d=\"M 0 -0.789063 L -6.222656 -0.792969 L -6.222656 -1.734375 L -5.351563 -1.734375 C -5.648438 -1.929688 -5.894531 -2.1875 -6.082031 -2.511719 C -6.269531 -2.835938 -6.363281 -3.207031 -6.363281 -3.621094 C -6.363281 -4.082031 -6.265625 -4.457031 -6.074219 -4.753906 C -5.882813 -5.042969 -5.617188 -5.253906 -5.273438 -5.378906 C -6 -5.871094 -6.363281 -6.511719 -6.363281 -7.300781 C -6.363281 -7.917969 -6.191406 -8.390625 -5.847656 -8.722656 C -5.503906 -9.054688 -4.976563 -9.222656 -4.269531 -9.222656 L 0 -9.222656 L 0 -8.171875 L -3.917969 -8.171875 C -4.335938 -8.167969 -4.640625 -8.132813 -4.828125 -8.070313 C -5.015625 -8 -5.164063 -7.878906 -5.277344 -7.699219 C -5.390625 -7.519531 -5.449219 -7.308594 -5.449219 -7.066406 C -5.449219 -6.628906 -5.300781 -6.265625 -5.011719 -5.976563 C -4.71875 -5.6875 -4.253906 -5.542969 -3.613281 -5.542969 L 0 -5.542969 L 0 -4.488281 L -4.042969 -4.488281 C -4.511719 -4.488281 -4.863281 -4.402344 -5.097656 -4.230469 C -5.332031 -4.058594 -5.449219 -3.777344 -5.449219 -3.386719 C -5.449219 -3.089844 -5.371094 -2.8125 -5.214844 -2.5625 C -5.058594 -2.308594 -4.828125 -2.128906 -4.527344 -2.015625 C -4.226563 -1.902344 -3.792969 -1.84375 -3.226563 -1.847656 L 0 -1.84375 Z M 0 -0.789063 \"/>\n",
       "</symbol>\n",
       "<symbol overflow=\"visible\" id=\"glyph1-9\">\n",
       "<path style=\"stroke:none;\" d=\"M -0.765625 -4.851563 C -0.433594 -4.460938 -0.199219 -4.082031 -0.0625 -3.722656 C 0.0742188 -3.355469 0.140625 -2.96875 0.140625 -2.5625 C 0.140625 -1.875 -0.0234375 -1.351563 -0.359375 -0.984375 C -0.6875 -0.617188 -1.117188 -0.433594 -1.640625 -0.433594 C -1.945313 -0.433594 -2.222656 -0.5 -2.472656 -0.640625 C -2.722656 -0.777344 -2.925781 -0.960938 -3.082031 -1.1875 C -3.234375 -1.410156 -3.347656 -1.664063 -3.429688 -1.945313 C -3.476563 -2.152344 -3.53125 -2.464844 -3.585938 -2.882813 C -3.6875 -3.734375 -3.808594 -4.359375 -3.949219 -4.765625 C -4.089844 -4.765625 -4.179688 -4.769531 -4.226563 -4.769531 C -4.648438 -4.769531 -4.953125 -4.667969 -5.132813 -4.46875 C -5.371094 -4.199219 -5.488281 -3.800781 -5.492188 -3.269531 C -5.488281 -2.773438 -5.402344 -2.40625 -5.230469 -2.171875 C -5.054688 -1.933594 -4.746094 -1.757813 -4.304688 -1.648438 L -4.445313 -0.617188 C -4.886719 -0.707031 -5.242188 -0.863281 -5.515625 -1.078125 C -5.78125 -1.292969 -5.992188 -1.601563 -6.140625 -2.011719 C -6.289063 -2.414063 -6.363281 -2.886719 -6.363281 -3.421875 C -6.363281 -3.953125 -6.300781 -4.382813 -6.175781 -4.714844 C -6.050781 -5.046875 -5.890625 -5.292969 -5.703125 -5.449219 C -5.511719 -5.605469 -5.273438 -5.714844 -4.984375 -5.777344 C -4.804688 -5.808594 -4.480469 -5.824219 -4.015625 -5.828125 L -2.605469 -5.828125 C -1.625 -5.824219 -1.003906 -5.847656 -0.746094 -5.894531 C -0.480469 -5.941406 -0.234375 -6.03125 0 -6.164063 L 0 -5.0625 C -0.21875 -4.953125 -0.472656 -4.882813 -0.765625 -4.851563 Z M -3.121094 -4.765625 C -2.960938 -4.375 -2.828125 -3.800781 -2.726563 -3.039063 C -2.660156 -2.605469 -2.589844 -2.300781 -2.515625 -2.121094 C -2.433594 -1.941406 -2.320313 -1.800781 -2.171875 -1.703125 C -2.019531 -1.605469 -1.851563 -1.558594 -1.671875 -1.558594 C -1.386719 -1.558594 -1.152344 -1.664063 -0.964844 -1.875 C -0.773438 -2.085938 -0.679688 -2.398438 -0.683594 -2.8125 C -0.679688 -3.21875 -0.769531 -3.578125 -0.949219 -3.894531 C -1.128906 -4.210938 -1.371094 -4.445313 -1.679688 -4.59375 C -1.917969 -4.707031 -2.269531 -4.761719 -2.734375 -4.765625 Z M -3.121094 -4.765625 \"/>\n",
       "</symbol>\n",
       "<symbol overflow=\"visible\" id=\"glyph2-0\">\n",
       "<path style=\"stroke:none;\" d=\"M 0.984375 0 L 0.984375 -10.308594 L 3.066406 -10.308594 L 3.066406 0 Z M 0.984375 0 \"/>\n",
       "</symbol>\n",
       "<symbol overflow=\"visible\" id=\"glyph2-1\">\n",
       "<path style=\"stroke:none;\" d=\"M 7.824219 0 L 5.851563 0 L 5.851563 -3.8125 C 5.847656 -4.613281 5.804688 -5.132813 5.722656 -5.375 C 5.636719 -5.609375 5.5 -5.792969 5.3125 -5.925781 C 5.121094 -6.054688 4.890625 -6.121094 4.625 -6.125 C 4.28125 -6.121094 3.976563 -6.027344 3.703125 -5.84375 C 3.429688 -5.652344 3.242188 -5.40625 3.144531 -5.097656 C 3.042969 -4.785156 2.992188 -4.210938 2.996094 -3.382813 L 2.996094 0 L 1.019531 0 L 1.019531 -7.46875 L 2.855469 -7.46875 L 2.855469 -6.371094 C 3.503906 -7.210938 4.324219 -7.632813 5.316406 -7.636719 C 5.746094 -7.632813 6.144531 -7.554688 6.507813 -7.398438 C 6.867188 -7.238281 7.140625 -7.039063 7.328125 -6.796875 C 7.511719 -6.554688 7.640625 -6.277344 7.714844 -5.96875 C 7.785156 -5.65625 7.820313 -5.214844 7.824219 -4.640625 Z M 7.824219 0 \"/>\n",
       "</symbol>\n",
       "<symbol overflow=\"visible\" id=\"glyph2-2\">\n",
       "<path style=\"stroke:none;\" d=\"M 4.457031 -7.46875 L 4.457031 -5.890625 L 3.109375 -5.890625 L 3.109375 -2.882813 C 3.105469 -2.273438 3.117188 -1.917969 3.144531 -1.816406 C 3.167969 -1.714844 3.226563 -1.628906 3.320313 -1.566406 C 3.410156 -1.496094 3.523438 -1.464844 3.65625 -1.46875 C 3.835938 -1.464844 4.097656 -1.527344 4.449219 -1.660156 L 4.621094 -0.125 C 4.15625 0.0703125 3.636719 0.164063 3.058594 0.167969 C 2.699219 0.164063 2.375 0.105469 2.09375 -0.0117188 C 1.804688 -0.128906 1.597656 -0.28125 1.464844 -0.472656 C 1.332031 -0.660156 1.238281 -0.917969 1.1875 -1.246094 C 1.144531 -1.472656 1.125 -1.9375 1.125 -2.636719 L 1.125 -5.890625 L 0.21875 -5.890625 L 0.21875 -7.46875 L 1.125 -7.46875 L 1.125 -8.949219 L 3.109375 -10.105469 L 3.109375 -7.46875 Z M 4.457031 -7.46875 \"/>\n",
       "</symbol>\n",
       "<symbol overflow=\"visible\" id=\"glyph2-3\">\n",
       "<path style=\"stroke:none;\" d=\"M 5.359375 -2.375 L 7.328125 -2.046875 C 7.070313 -1.320313 6.667969 -0.773438 6.125 -0.398438 C 5.578125 -0.0234375 4.898438 0.164063 4.078125 0.167969 C 2.777344 0.164063 1.816406 -0.257813 1.195313 -1.105469 C 0.703125 -1.78125 0.457031 -2.636719 0.457031 -3.675781 C 0.457031 -4.910156 0.777344 -5.882813 1.425781 -6.585938 C 2.070313 -7.285156 2.890625 -7.632813 3.882813 -7.636719 C 4.988281 -7.632813 5.863281 -7.265625 6.507813 -6.535156 C 7.148438 -5.796875 7.457031 -4.675781 7.433594 -3.164063 L 2.480469 -3.164063 C 2.492188 -2.578125 2.652344 -2.121094 2.960938 -1.796875 C 3.261719 -1.46875 3.640625 -1.304688 4.097656 -1.308594 C 4.402344 -1.304688 4.664063 -1.390625 4.878906 -1.558594 C 5.085938 -1.726563 5.246094 -1.996094 5.359375 -2.375 Z M 5.46875 -4.375 C 5.453125 -4.941406 5.308594 -5.375 5.027344 -5.675781 C 4.746094 -5.972656 4.402344 -6.121094 4 -6.125 C 3.566406 -6.121094 3.210938 -5.964844 2.933594 -5.652344 C 2.648438 -5.335938 2.507813 -4.910156 2.515625 -4.375 Z M 5.46875 -4.375 \"/>\n",
       "</symbol>\n",
       "<symbol overflow=\"visible\" id=\"glyph2-4\">\n",
       "<path style=\"stroke:none;\" d=\"M 2.925781 0 L 0.949219 0 L 0.949219 -7.46875 L 2.785156 -7.46875 L 2.785156 -6.40625 C 3.09375 -6.902344 3.375 -7.234375 3.628906 -7.394531 C 3.878906 -7.554688 4.164063 -7.632813 4.484375 -7.636719 C 4.929688 -7.632813 5.363281 -7.507813 5.785156 -7.261719 L 5.175781 -5.539063 C 4.839844 -5.75 4.53125 -5.859375 4.246094 -5.863281 C 3.96875 -5.859375 3.734375 -5.78125 3.542969 -5.632813 C 3.347656 -5.476563 3.195313 -5.203125 3.089844 -4.808594 C 2.976563 -4.40625 2.921875 -3.570313 2.925781 -2.304688 Z M 2.925781 0 \"/>\n",
       "</symbol>\n",
       "<symbol overflow=\"visible\" id=\"glyph2-5\">\n",
       "<path style=\"stroke:none;\" d=\"M 3.085938 0 L 0.078125 -7.46875 L 2.152344 -7.46875 L 3.558594 -3.65625 L 3.964844 -2.382813 C 4.070313 -2.703125 4.136719 -2.917969 4.167969 -3.023438 C 4.230469 -3.234375 4.300781 -3.445313 4.378906 -3.65625 L 5.800781 -7.46875 L 7.832031 -7.46875 L 4.867188 0 Z M 3.085938 0 \"/>\n",
       "</symbol>\n",
       "<symbol overflow=\"visible\" id=\"glyph2-6\">\n",
       "<path style=\"stroke:none;\" d=\"M 2.511719 -5.1875 L 0.71875 -5.511719 C 0.917969 -6.230469 1.265625 -6.765625 1.757813 -7.113281 C 2.25 -7.460938 2.980469 -7.632813 3.953125 -7.636719 C 4.832031 -7.632813 5.488281 -7.53125 5.917969 -7.324219 C 6.347656 -7.113281 6.648438 -6.847656 6.828125 -6.527344 C 7 -6.207031 7.089844 -5.617188 7.09375 -4.761719 L 7.074219 -2.453125 C 7.070313 -1.792969 7.101563 -1.308594 7.167969 -1 C 7.226563 -0.6875 7.347656 -0.355469 7.523438 0 L 5.570313 0 C 5.515625 -0.128906 5.453125 -0.320313 5.378906 -0.582031 C 5.34375 -0.695313 5.320313 -0.773438 5.308594 -0.816406 C 4.96875 -0.484375 4.605469 -0.238281 4.222656 -0.078125 C 3.835938 0.0859375 3.425781 0.164063 2.996094 0.167969 C 2.222656 0.164063 1.617188 -0.0429688 1.175781 -0.457031 C 0.730469 -0.871094 0.507813 -1.398438 0.511719 -2.039063 C 0.507813 -2.460938 0.609375 -2.835938 0.8125 -3.167969 C 1.011719 -3.496094 1.292969 -3.75 1.660156 -3.925781 C 2.019531 -4.101563 2.546875 -4.253906 3.234375 -4.386719 C 4.15625 -4.558594 4.792969 -4.71875 5.152344 -4.871094 L 5.152344 -5.070313 C 5.148438 -5.445313 5.054688 -5.71875 4.871094 -5.882813 C 4.679688 -6.042969 4.328125 -6.121094 3.8125 -6.125 C 3.457031 -6.121094 3.183594 -6.054688 2.988281 -5.917969 C 2.789063 -5.777344 2.628906 -5.53125 2.511719 -5.1875 Z M 5.152344 -3.585938 C 4.894531 -3.5 4.496094 -3.398438 3.949219 -3.285156 C 3.402344 -3.164063 3.042969 -3.046875 2.875 -2.9375 C 2.613281 -2.75 2.484375 -2.519531 2.488281 -2.242188 C 2.484375 -1.964844 2.585938 -1.726563 2.796875 -1.523438 C 3 -1.320313 3.265625 -1.21875 3.585938 -1.222656 C 3.941406 -1.21875 4.28125 -1.335938 4.605469 -1.574219 C 4.84375 -1.75 5 -1.96875 5.078125 -2.230469 C 5.125 -2.394531 5.148438 -2.714844 5.152344 -3.191406 Z M 5.152344 -3.585938 \"/>\n",
       "</symbol>\n",
       "<symbol overflow=\"visible\" id=\"glyph2-7\">\n",
       "<path style=\"stroke:none;\" d=\"M 1.035156 0 L 1.035156 -10.308594 L 3.007813 -10.308594 L 3.007813 0 Z M 1.035156 0 \"/>\n",
       "</symbol>\n",
       "<symbol overflow=\"visible\" id=\"glyph2-8\">\n",
       "<path style=\"stroke:none;\" d=\"M 0.335938 -2.128906 L 2.320313 -2.433594 C 2.402344 -2.042969 2.570313 -1.75 2.832031 -1.554688 C 3.085938 -1.351563 3.449219 -1.253906 3.917969 -1.257813 C 4.425781 -1.253906 4.808594 -1.347656 5.070313 -1.539063 C 5.238281 -1.667969 5.324219 -1.84375 5.328125 -2.066406 C 5.324219 -2.214844 5.277344 -2.339844 5.1875 -2.441406 C 5.085938 -2.53125 4.867188 -2.617188 4.527344 -2.699219 C 2.929688 -3.046875 1.917969 -3.367188 1.496094 -3.664063 C 0.902344 -4.0625 0.609375 -4.625 0.613281 -5.34375 C 0.609375 -5.988281 0.863281 -6.53125 1.378906 -6.972656 C 1.886719 -7.414063 2.679688 -7.632813 3.753906 -7.636719 C 4.773438 -7.632813 5.53125 -7.46875 6.03125 -7.136719 C 6.523438 -6.800781 6.867188 -6.308594 7.058594 -5.660156 L 5.195313 -5.316406 C 5.113281 -5.601563 4.960938 -5.824219 4.742188 -5.980469 C 4.515625 -6.132813 4.199219 -6.210938 3.789063 -6.214844 C 3.265625 -6.210938 2.894531 -6.136719 2.671875 -5.996094 C 2.519531 -5.890625 2.441406 -5.757813 2.445313 -5.597656 C 2.441406 -5.453125 2.507813 -5.335938 2.644531 -5.238281 C 2.816406 -5.105469 3.433594 -4.917969 4.488281 -4.683594 C 5.539063 -4.441406 6.273438 -4.148438 6.695313 -3.804688 C 7.105469 -3.449219 7.3125 -2.960938 7.3125 -2.335938 C 7.3125 -1.648438 7.023438 -1.058594 6.453125 -0.570313 C 5.878906 -0.078125 5.035156 0.164063 3.917969 0.167969 C 2.898438 0.164063 2.09375 -0.0390625 1.5 -0.449219 C 0.90625 -0.859375 0.515625 -1.417969 0.335938 -2.128906 Z M 0.335938 -2.128906 \"/>\n",
       "</symbol>\n",
       "<symbol overflow=\"visible\" id=\"glyph2-9\">\n",
       "<path style=\"stroke:none;\" d=\"\"/>\n",
       "</symbol>\n",
       "<symbol overflow=\"visible\" id=\"glyph2-10\">\n",
       "<path style=\"stroke:none;\" d=\"M 0.949219 0 L 0.949219 -10.308594 L 2.925781 -10.308594 L 2.925781 -6.59375 C 3.53125 -7.285156 4.253906 -7.632813 5.089844 -7.636719 C 5.996094 -7.632813 6.75 -7.304688 7.347656 -6.648438 C 7.941406 -5.988281 8.238281 -5.042969 8.242188 -3.8125 C 8.238281 -2.535156 7.933594 -1.550781 7.328125 -0.863281 C 6.71875 -0.175781 5.980469 0.164063 5.117188 0.167969 C 4.6875 0.164063 4.269531 0.0585938 3.855469 -0.152344 C 3.441406 -0.363281 3.082031 -0.675781 2.785156 -1.097656 L 2.785156 0 Z M 2.910156 -3.894531 C 2.90625 -3.117188 3.027344 -2.546875 3.277344 -2.179688 C 3.613281 -1.652344 4.070313 -1.386719 4.640625 -1.390625 C 5.074219 -1.386719 5.445313 -1.574219 5.753906 -1.949219 C 6.058594 -2.320313 6.210938 -2.90625 6.214844 -3.710938 C 6.210938 -4.5625 6.054688 -5.179688 5.75 -5.558594 C 5.4375 -5.933594 5.042969 -6.121094 4.5625 -6.125 C 4.085938 -6.121094 3.691406 -5.9375 3.378906 -5.570313 C 3.0625 -5.199219 2.90625 -4.640625 2.910156 -3.894531 Z M 2.910156 -3.894531 \"/>\n",
       "</symbol>\n",
       "<symbol overflow=\"visible\" id=\"glyph2-11\">\n",
       "<path style=\"stroke:none;\" d=\"M 7.882813 0 L 6.046875 0 L 6.046875 -1.097656 C 5.742188 -0.667969 5.378906 -0.351563 4.964844 -0.144531 C 4.546875 0.0625 4.128906 0.164063 3.710938 0.167969 C 2.851563 0.164063 2.117188 -0.179688 1.507813 -0.867188 C 0.890625 -1.558594 0.585938 -2.523438 0.589844 -3.761719 C 0.585938 -5.027344 0.882813 -5.988281 1.480469 -6.648438 C 2.074219 -7.304688 2.828125 -7.632813 3.742188 -7.636719 C 4.574219 -7.632813 5.296875 -7.285156 5.90625 -6.59375 L 5.90625 -10.308594 L 7.882813 -10.308594 Z M 2.609375 -3.894531 C 2.605469 -3.09375 2.714844 -2.515625 2.9375 -2.164063 C 3.253906 -1.644531 3.699219 -1.386719 4.273438 -1.390625 C 4.726563 -1.386719 5.113281 -1.582031 5.433594 -1.96875 C 5.75 -2.355469 5.910156 -2.933594 5.914063 -3.707031 C 5.910156 -4.5625 5.757813 -5.179688 5.449219 -5.558594 C 5.136719 -5.933594 4.738281 -6.121094 4.261719 -6.125 C 3.789063 -6.121094 3.398438 -5.9375 3.082031 -5.566406 C 2.765625 -5.191406 2.605469 -4.632813 2.609375 -3.894531 Z M 2.609375 -3.894531 \"/>\n",
       "</symbol>\n",
       "<symbol overflow=\"visible\" id=\"glyph2-12\">\n",
       "<path style=\"stroke:none;\" d=\"M 0.578125 -3.839844 C 0.574219 -4.492188 0.734375 -5.128906 1.0625 -5.742188 C 1.382813 -6.355469 1.839844 -6.824219 2.433594 -7.148438 C 3.023438 -7.472656 3.6875 -7.632813 4.421875 -7.636719 C 5.550781 -7.632813 6.476563 -7.265625 7.199219 -6.535156 C 7.917969 -5.796875 8.277344 -4.871094 8.28125 -3.753906 C 8.277344 -2.621094 7.914063 -1.683594 7.1875 -0.945313 C 6.457031 -0.203125 5.539063 0.164063 4.4375 0.167969 C 3.75 0.164063 3.097656 0.0117188 2.476563 -0.292969 C 1.855469 -0.601563 1.382813 -1.054688 1.0625 -1.652344 C 0.734375 -2.25 0.574219 -2.976563 0.578125 -3.839844 Z M 2.601563 -3.734375 C 2.601563 -2.988281 2.777344 -2.421875 3.128906 -2.03125 C 3.480469 -1.636719 3.914063 -1.441406 4.429688 -1.441406 C 4.945313 -1.441406 5.375 -1.636719 5.726563 -2.03125 C 6.070313 -2.421875 6.246094 -2.992188 6.25 -3.746094 C 6.246094 -4.472656 6.070313 -5.035156 5.726563 -5.433594 C 5.375 -5.824219 4.945313 -6.023438 4.429688 -6.027344 C 3.914063 -6.023438 3.480469 -5.824219 3.128906 -5.433594 C 2.777344 -5.035156 2.601563 -4.46875 2.601563 -3.734375 Z M 2.601563 -3.734375 \"/>\n",
       "</symbol>\n",
       "<symbol overflow=\"visible\" id=\"glyph2-13\">\n",
       "<path style=\"stroke:none;\" d=\"M 5.914063 2.839844 L 5.914063 -0.914063 C 5.652344 -0.578125 5.332031 -0.3125 4.949219 -0.121094 C 4.5625 0.0703125 4.148438 0.164063 3.707031 0.167969 C 2.855469 0.164063 2.15625 -0.152344 1.609375 -0.789063 C 0.960938 -1.53125 0.636719 -2.539063 0.640625 -3.816406 C 0.636719 -5.011719 0.941406 -5.949219 1.550781 -6.625 C 2.15625 -7.296875 2.910156 -7.632813 3.8125 -7.636719 C 4.304688 -7.632813 4.734375 -7.527344 5.097656 -7.320313 C 5.460938 -7.105469 5.78125 -6.789063 6.066406 -6.363281 L 6.066406 -7.46875 L 7.890625 -7.46875 L 7.890625 2.839844 Z M 5.976563 -3.824219 C 5.976563 -4.585938 5.820313 -5.15625 5.507813 -5.53125 C 5.195313 -5.902344 4.804688 -6.085938 4.339844 -6.089844 C 3.859375 -6.085938 3.457031 -5.898438 3.136719 -5.519531 C 2.8125 -5.136719 2.652344 -4.53125 2.65625 -3.710938 C 2.652344 -2.886719 2.808594 -2.296875 3.121094 -1.933594 C 3.429688 -1.570313 3.8125 -1.386719 4.269531 -1.390625 C 4.71875 -1.386719 5.117188 -1.59375 5.460938 -2.003906 C 5.804688 -2.410156 5.976563 -3.015625 5.976563 -3.824219 Z M 5.976563 -3.824219 \"/>\n",
       "</symbol>\n",
       "<symbol overflow=\"visible\" id=\"glyph2-14\">\n",
       "<path style=\"stroke:none;\" d=\"M 5.949219 0 L 5.949219 -1.117188 C 5.671875 -0.714844 5.316406 -0.402344 4.875 -0.175781 C 4.429688 0.0507813 3.960938 0.164063 3.472656 0.167969 C 2.96875 0.164063 2.519531 0.0585938 2.125 -0.160156 C 1.722656 -0.378906 1.433594 -0.691406 1.257813 -1.089844 C 1.078125 -1.488281 0.988281 -2.039063 0.992188 -2.742188 L 0.992188 -7.46875 L 2.96875 -7.46875 L 2.96875 -4.035156 C 2.964844 -2.984375 3 -2.339844 3.074219 -2.105469 C 3.144531 -1.863281 3.277344 -1.675781 3.472656 -1.542969 C 3.664063 -1.402344 3.90625 -1.335938 4.203125 -1.335938 C 4.539063 -1.335938 4.84375 -1.425781 5.109375 -1.613281 C 5.375 -1.792969 5.558594 -2.023438 5.660156 -2.300781 C 5.757813 -2.574219 5.804688 -3.246094 5.808594 -4.316406 L 5.808594 -7.46875 L 7.785156 -7.46875 L 7.785156 0 Z M 5.949219 0 \"/>\n",
       "</symbol>\n",
       "<symbol overflow=\"visible\" id=\"glyph2-15\">\n",
       "<path style=\"stroke:none;\" d=\"M 1.035156 -8.480469 L 1.035156 -10.308594 L 3.007813 -10.308594 L 3.007813 -8.480469 Z M 1.035156 0 L 1.035156 -7.46875 L 3.007813 -7.46875 L 3.007813 0 Z M 1.035156 0 \"/>\n",
       "</symbol>\n",
       "</g>\n",
       "<clipPath id=\"clip1\">\n",
       "  <path d=\"M 59.039063 59.039063 L 474.757813 59.039063 L 474.757813 431.558594 L 59.039063 431.558594 Z M 59.039063 59.039063 \"/>\n",
       "</clipPath>\n",
       "</defs>\n",
       "<g id=\"surface1\">\n",
       "<rect x=\"0\" y=\"0\" width=\"504\" height=\"504\" style=\"fill:rgb(100%,100%,100%);fill-opacity:1;stroke:none;\"/>\n",
       "<path style=\"fill:none;stroke-width:0.75;stroke-linecap:round;stroke-linejoin:round;stroke:rgb(0%,0%,0%);stroke-opacity:1;stroke-miterlimit:10;\" d=\"M 106.398438 430.558594 L 426.398438 430.558594 \"/>\n",
       "<path style=\"fill:none;stroke-width:0.75;stroke-linecap:round;stroke-linejoin:round;stroke:rgb(0%,0%,0%);stroke-opacity:1;stroke-miterlimit:10;\" d=\"M 106.398438 430.558594 L 106.398438 437.761719 \"/>\n",
       "<path style=\"fill:none;stroke-width:0.75;stroke-linecap:round;stroke-linejoin:round;stroke:rgb(0%,0%,0%);stroke-opacity:1;stroke-miterlimit:10;\" d=\"M 170.398438 430.558594 L 170.398438 437.761719 \"/>\n",
       "<path style=\"fill:none;stroke-width:0.75;stroke-linecap:round;stroke-linejoin:round;stroke:rgb(0%,0%,0%);stroke-opacity:1;stroke-miterlimit:10;\" d=\"M 234.398438 430.558594 L 234.398438 437.761719 \"/>\n",
       "<path style=\"fill:none;stroke-width:0.75;stroke-linecap:round;stroke-linejoin:round;stroke:rgb(0%,0%,0%);stroke-opacity:1;stroke-miterlimit:10;\" d=\"M 298.398438 430.558594 L 298.398438 437.761719 \"/>\n",
       "<path style=\"fill:none;stroke-width:0.75;stroke-linecap:round;stroke-linejoin:round;stroke:rgb(0%,0%,0%);stroke-opacity:1;stroke-miterlimit:10;\" d=\"M 362.398438 430.558594 L 362.398438 437.761719 \"/>\n",
       "<path style=\"fill:none;stroke-width:0.75;stroke-linecap:round;stroke-linejoin:round;stroke:rgb(0%,0%,0%);stroke-opacity:1;stroke-miterlimit:10;\" d=\"M 426.398438 430.558594 L 426.398438 437.761719 \"/>\n",
       "<g style=\"fill:rgb(0%,0%,0%);fill-opacity:1;\">\n",
       "  <use xlink:href=\"#glyph0-0\" x=\"103.0625\" y=\"456.480469\"/>\n",
       "</g>\n",
       "<g style=\"fill:rgb(0%,0%,0%);fill-opacity:1;\">\n",
       "  <use xlink:href=\"#glyph0-1\" x=\"167.0625\" y=\"456.480469\"/>\n",
       "</g>\n",
       "<g style=\"fill:rgb(0%,0%,0%);fill-opacity:1;\">\n",
       "  <use xlink:href=\"#glyph0-2\" x=\"231.0625\" y=\"456.480469\"/>\n",
       "</g>\n",
       "<g style=\"fill:rgb(0%,0%,0%);fill-opacity:1;\">\n",
       "  <use xlink:href=\"#glyph0-3\" x=\"295.0625\" y=\"456.480469\"/>\n",
       "</g>\n",
       "<g style=\"fill:rgb(0%,0%,0%);fill-opacity:1;\">\n",
       "  <use xlink:href=\"#glyph0-4\" x=\"359.0625\" y=\"456.480469\"/>\n",
       "</g>\n",
       "<g style=\"fill:rgb(0%,0%,0%);fill-opacity:1;\">\n",
       "  <use xlink:href=\"#glyph0-5\" x=\"423.0625\" y=\"456.480469\"/>\n",
       "</g>\n",
       "<path style=\"fill:none;stroke-width:0.75;stroke-linecap:round;stroke-linejoin:round;stroke:rgb(0%,0%,0%);stroke-opacity:1;stroke-miterlimit:10;\" d=\"M 59.039063 355.789063 L 59.039063 70.589844 \"/>\n",
       "<path style=\"fill:none;stroke-width:0.75;stroke-linecap:round;stroke-linejoin:round;stroke:rgb(0%,0%,0%);stroke-opacity:1;stroke-miterlimit:10;\" d=\"M 59.039063 355.789063 L 51.839844 355.789063 \"/>\n",
       "<path style=\"fill:none;stroke-width:0.75;stroke-linecap:round;stroke-linejoin:round;stroke:rgb(0%,0%,0%);stroke-opacity:1;stroke-miterlimit:10;\" d=\"M 59.039063 260.722656 L 51.839844 260.722656 \"/>\n",
       "<path style=\"fill:none;stroke-width:0.75;stroke-linecap:round;stroke-linejoin:round;stroke:rgb(0%,0%,0%);stroke-opacity:1;stroke-miterlimit:10;\" d=\"M 59.039063 165.65625 L 51.839844 165.65625 \"/>\n",
       "<path style=\"fill:none;stroke-width:0.75;stroke-linecap:round;stroke-linejoin:round;stroke:rgb(0%,0%,0%);stroke-opacity:1;stroke-miterlimit:10;\" d=\"M 59.039063 70.589844 L 51.839844 70.589844 \"/>\n",
       "<g style=\"fill:rgb(0%,0%,0%);fill-opacity:1;\">\n",
       "  <use xlink:href=\"#glyph1-0\" x=\"41.761719\" y=\"359.125\"/>\n",
       "</g>\n",
       "<g style=\"fill:rgb(0%,0%,0%);fill-opacity:1;\">\n",
       "  <use xlink:href=\"#glyph1-1\" x=\"41.761719\" y=\"264.058594\"/>\n",
       "</g>\n",
       "<g style=\"fill:rgb(0%,0%,0%);fill-opacity:1;\">\n",
       "  <use xlink:href=\"#glyph1-2\" x=\"41.761719\" y=\"168.992188\"/>\n",
       "</g>\n",
       "<g style=\"fill:rgb(0%,0%,0%);fill-opacity:1;\">\n",
       "  <use xlink:href=\"#glyph1-3\" x=\"41.761719\" y=\"73.925781\"/>\n",
       "</g>\n",
       "<g style=\"fill:rgb(0%,0%,0%);fill-opacity:1;\">\n",
       "  <use xlink:href=\"#glyph2-0\" x=\"127.152344\" y=\"34.675781\"/>\n",
       "  <use xlink:href=\"#glyph2-1\" x=\"131.153125\" y=\"34.675781\"/>\n",
       "  <use xlink:href=\"#glyph2-2\" x=\"139.949219\" y=\"34.675781\"/>\n",
       "  <use xlink:href=\"#glyph2-3\" x=\"144.744531\" y=\"34.675781\"/>\n",
       "  <use xlink:href=\"#glyph2-4\" x=\"152.753125\" y=\"34.675781\"/>\n",
       "  <use xlink:href=\"#glyph2-5\" x=\"158.357031\" y=\"34.675781\"/>\n",
       "  <use xlink:href=\"#glyph2-6\" x=\"166.365625\" y=\"34.675781\"/>\n",
       "  <use xlink:href=\"#glyph2-7\" x=\"174.374219\" y=\"34.675781\"/>\n",
       "  <use xlink:href=\"#glyph2-8\" x=\"178.375\" y=\"34.675781\"/>\n",
       "  <use xlink:href=\"#glyph2-9\" x=\"186.383594\" y=\"34.675781\"/>\n",
       "  <use xlink:href=\"#glyph2-10\" x=\"190.384375\" y=\"34.675781\"/>\n",
       "  <use xlink:href=\"#glyph2-6\" x=\"199.180469\" y=\"34.675781\"/>\n",
       "  <use xlink:href=\"#glyph2-8\" x=\"207.189062\" y=\"34.675781\"/>\n",
       "  <use xlink:href=\"#glyph2-3\" x=\"215.197656\" y=\"34.675781\"/>\n",
       "  <use xlink:href=\"#glyph2-11\" x=\"223.20625\" y=\"34.675781\"/>\n",
       "  <use xlink:href=\"#glyph2-9\" x=\"232.002344\" y=\"34.675781\"/>\n",
       "  <use xlink:href=\"#glyph2-12\" x=\"236.003125\" y=\"34.675781\"/>\n",
       "  <use xlink:href=\"#glyph2-1\" x=\"244.799219\" y=\"34.675781\"/>\n",
       "  <use xlink:href=\"#glyph2-9\" x=\"253.595312\" y=\"34.675781\"/>\n",
       "  <use xlink:href=\"#glyph2-13\" x=\"257.596094\" y=\"34.675781\"/>\n",
       "  <use xlink:href=\"#glyph2-14\" x=\"266.392187\" y=\"34.675781\"/>\n",
       "  <use xlink:href=\"#glyph2-6\" x=\"275.188281\" y=\"34.675781\"/>\n",
       "  <use xlink:href=\"#glyph2-8\" x=\"283.196875\" y=\"34.675781\"/>\n",
       "  <use xlink:href=\"#glyph2-15\" x=\"291.205469\" y=\"34.675781\"/>\n",
       "  <use xlink:href=\"#glyph2-9\" x=\"295.20625\" y=\"34.675781\"/>\n",
       "  <use xlink:href=\"#glyph2-8\" x=\"299.207031\" y=\"34.675781\"/>\n",
       "  <use xlink:href=\"#glyph2-2\" x=\"307.215625\" y=\"34.675781\"/>\n",
       "  <use xlink:href=\"#glyph2-6\" x=\"312.010937\" y=\"34.675781\"/>\n",
       "  <use xlink:href=\"#glyph2-1\" x=\"320.019531\" y=\"34.675781\"/>\n",
       "  <use xlink:href=\"#glyph2-11\" x=\"328.815625\" y=\"34.675781\"/>\n",
       "  <use xlink:href=\"#glyph2-6\" x=\"337.611719\" y=\"34.675781\"/>\n",
       "  <use xlink:href=\"#glyph2-4\" x=\"345.620312\" y=\"34.675781\"/>\n",
       "  <use xlink:href=\"#glyph2-11\" x=\"351.224219\" y=\"34.675781\"/>\n",
       "  <use xlink:href=\"#glyph2-9\" x=\"360.020312\" y=\"34.675781\"/>\n",
       "  <use xlink:href=\"#glyph2-3\" x=\"364.021094\" y=\"34.675781\"/>\n",
       "  <use xlink:href=\"#glyph2-4\" x=\"372.029687\" y=\"34.675781\"/>\n",
       "  <use xlink:href=\"#glyph2-4\" x=\"377.633594\" y=\"34.675781\"/>\n",
       "  <use xlink:href=\"#glyph2-12\" x=\"383.2375\" y=\"34.675781\"/>\n",
       "  <use xlink:href=\"#glyph2-4\" x=\"392.033594\" y=\"34.675781\"/>\n",
       "  <use xlink:href=\"#glyph2-8\" x=\"397.6375\" y=\"34.675781\"/>\n",
       "</g>\n",
       "<g style=\"fill:rgb(0%,0%,0%);fill-opacity:1;\">\n",
       "  <use xlink:href=\"#glyph0-6\" x=\"228.046875\" y=\"485.28125\"/>\n",
       "  <use xlink:href=\"#glyph0-7\" x=\"231.380859\" y=\"485.28125\"/>\n",
       "  <use xlink:href=\"#glyph0-8\" x=\"238.054688\" y=\"485.28125\"/>\n",
       "  <use xlink:href=\"#glyph0-9\" x=\"244.054688\" y=\"485.28125\"/>\n",
       "  <use xlink:href=\"#glyph0-10\" x=\"247.388672\" y=\"485.28125\"/>\n",
       "  <use xlink:href=\"#glyph0-11\" x=\"254.0625\" y=\"485.28125\"/>\n",
       "  <use xlink:href=\"#glyph0-12\" x=\"258.058594\" y=\"485.28125\"/>\n",
       "  <use xlink:href=\"#glyph0-13\" x=\"262.054688\" y=\"485.28125\"/>\n",
       "  <use xlink:href=\"#glyph0-9\" x=\"268.728516\" y=\"485.28125\"/>\n",
       "  <use xlink:href=\"#glyph0-14\" x=\"272.0625\" y=\"485.28125\"/>\n",
       "  <use xlink:href=\"#glyph0-15\" x=\"278.736328\" y=\"485.28125\"/>\n",
       "  <use xlink:href=\"#glyph0-16\" x=\"285.410156\" y=\"485.28125\"/>\n",
       "  <use xlink:href=\"#glyph0-8\" x=\"288.076172\" y=\"485.28125\"/>\n",
       "  <use xlink:href=\"#glyph0-1\" x=\"294.076172\" y=\"485.28125\"/>\n",
       "  <use xlink:href=\"#glyph0-17\" x=\"300.75\" y=\"485.28125\"/>\n",
       "</g>\n",
       "<g style=\"fill:rgb(0%,0%,0%);fill-opacity:1;\">\n",
       "  <use xlink:href=\"#glyph1-4\" x=\"12.960938\" y=\"267.476563\"/>\n",
       "  <use xlink:href=\"#glyph1-5\" x=\"12.960938\" y=\"260.802734\"/>\n",
       "  <use xlink:href=\"#glyph1-6\" x=\"12.960938\" y=\"254.802734\"/>\n",
       "  <use xlink:href=\"#glyph1-7\" x=\"12.960938\" y=\"251.46875\"/>\n",
       "  <use xlink:href=\"#glyph1-8\" x=\"12.960938\" y=\"248.802734\"/>\n",
       "  <use xlink:href=\"#glyph1-9\" x=\"12.960938\" y=\"238.806641\"/>\n",
       "  <use xlink:href=\"#glyph1-6\" x=\"12.960938\" y=\"232.132813\"/>\n",
       "  <use xlink:href=\"#glyph1-4\" x=\"12.960938\" y=\"228.798828\"/>\n",
       "</g>\n",
       "<path style=\"fill:none;stroke-width:0.75;stroke-linecap:round;stroke-linejoin:round;stroke:rgb(0%,0%,0%);stroke-opacity:1;stroke-miterlimit:10;\" d=\"M 59.039063 430.558594 L 473.761719 430.558594 L 473.761719 59.039063 L 59.039063 59.039063 L 59.039063 430.558594 \"/>\n",
       "<g clip-path=\"url(#clip1)\" clip-rule=\"nonzero\">\n",
       "<path style=\"fill:none;stroke-width:0.75;stroke-linecap:round;stroke-linejoin:round;stroke:rgb(0%,0%,0%);stroke-opacity:1;stroke-miterlimit:10;\" d=\"M 109.101563 355.789063 C 109.101563 359.390625 103.699219 359.390625 103.699219 355.789063 C 103.699219 352.191406 109.101563 352.191406 109.101563 355.789063 \"/>\n",
       "<path style=\"fill:none;stroke-width:0.75;stroke-linecap:round;stroke-linejoin:round;stroke:rgb(0%,0%,0%);stroke-opacity:1;stroke-miterlimit:10;\" d=\"M 173.101563 165.4375 C 173.101563 169.039063 167.699219 169.039063 167.699219 165.4375 C 167.699219 161.835938 173.101563 161.835938 173.101563 165.4375 \"/>\n",
       "<path style=\"fill:none;stroke-width:0.75;stroke-linecap:round;stroke-linejoin:round;stroke:rgb(0%,0%,0%);stroke-opacity:1;stroke-miterlimit:10;\" d=\"M 237.101563 254.464844 C 237.101563 258.0625 231.699219 258.0625 231.699219 254.464844 C 231.699219 250.863281 237.101563 250.863281 237.101563 254.464844 \"/>\n",
       "<path style=\"fill:none;stroke-width:0.75;stroke-linecap:round;stroke-linejoin:round;stroke:rgb(0%,0%,0%);stroke-opacity:1;stroke-miterlimit:10;\" d=\"M 301.101563 294.648438 C 301.101563 298.25 295.699219 298.25 295.699219 294.648438 C 295.699219 291.050781 301.101563 291.050781 301.101563 294.648438 \"/>\n",
       "<path style=\"fill:none;stroke-width:0.75;stroke-linecap:round;stroke-linejoin:round;stroke:rgb(0%,0%,0%);stroke-opacity:1;stroke-miterlimit:10;\" d=\"M 365.101563 282.953125 C 365.101563 286.554688 359.699219 286.554688 359.699219 282.953125 C 359.699219 279.355469 365.101563 279.355469 365.101563 282.953125 \"/>\n",
       "<path style=\"fill:none;stroke-width:0.75;stroke-linecap:round;stroke-linejoin:round;stroke:rgb(0%,0%,0%);stroke-opacity:1;stroke-miterlimit:10;\" d=\"M 429.101563 305.277344 C 429.101563 308.875 423.699219 308.875 423.699219 305.277344 C 423.699219 301.675781 429.101563 301.675781 429.101563 305.277344 \"/>\n",
       "<path style=\"fill:none;stroke-width:0.75;stroke-linecap:round;stroke-linejoin:round;stroke:rgb(0%,0%,0%);stroke-opacity:1;stroke-miterlimit:10;\" d=\"M 106.398438 388.132813 L 106.398438 323.449219 \"/>\n",
       "<path style=\"fill:none;stroke-width:0.75;stroke-linecap:round;stroke-linejoin:round;stroke:rgb(0%,0%,0%);stroke-opacity:1;stroke-miterlimit:10;\" d=\"M 170.398438 229.410156 L 170.398438 101.464844 \"/>\n",
       "<path style=\"fill:none;stroke-width:0.75;stroke-linecap:round;stroke-linejoin:round;stroke:rgb(0%,0%,0%);stroke-opacity:1;stroke-miterlimit:10;\" d=\"M 234.398438 277.304688 L 234.398438 231.621094 \"/>\n",
       "<path style=\"fill:none;stroke-width:0.75;stroke-linecap:round;stroke-linejoin:round;stroke:rgb(0%,0%,0%);stroke-opacity:1;stroke-miterlimit:10;\" d=\"M 298.398438 298.515625 L 298.398438 290.78125 \"/>\n",
       "<path style=\"fill:none;stroke-width:0.75;stroke-linecap:round;stroke-linejoin:round;stroke:rgb(0%,0%,0%);stroke-opacity:1;stroke-miterlimit:10;\" d=\"M 362.398438 339.949219 L 362.398438 225.957031 \"/>\n",
       "<path style=\"fill:none;stroke-width:0.75;stroke-linecap:round;stroke-linejoin:round;stroke:rgb(0%,0%,0%);stroke-opacity:1;stroke-miterlimit:10;\" d=\"M 426.398438 338.761719 L 426.398438 271.789063 \"/>\n",
       "</g>\n",
       "</g>\n",
       "</svg>\n"
      ],
      "text/plain": [
       "Plot with title \"Intervals based on quasi standard errors\""
      ]
     },
     "metadata": {
      "image/svg+xml": {
       "isolated": true
      }
     },
     "output_type": "display_data"
    }
   ],
   "source": [
    "\n",
    "plot(model4.qvs)"
   ]
  },
  {
   "cell_type": "markdown",
   "metadata": {},
   "source": [
    "The levels for factor(ethnic2)\n",
    "\n",
    "1 Black;\n",
    "2 Chinese;\n",
    "3 Indian;\n",
    "4 White;\n",
    "5 Bangladeshi;\n",
    "6 Pakistani.\n",
    "\n",
    "___\n",
    "\n",
    "\n"
   ]
  },
  {
   "cell_type": "markdown",
   "metadata": {},
   "source": [
    "__Comments__\n",
    "\n",
    "\n",
    "\n",
    "My suspicion that the 'Black' pupils category is a sub-optimal reference category is confirmed.\n",
    "\n",
    "This is a small category (_n_=180), and there is a large comparison interval around this estimate.\n",
    "\n",
    "Also, whilst the other five ethnic categories are significantly different to zero (when Black pupils are set as the reference category) the differences between some categories are not significant. For a fuller discussion of using quasi-variance comparison intervals see Gayle and Lambert (2007).\n",
    "\n",
    "I will now re-estimate the model with 'White' pupils as the reference category.\n",
    "\n",
    "I will re-organise the ethnic categories as follows <br>\n",
    "\n",
    "'White'<br>\n",
    "'Chinese'<br>\n",
    "\n",
    "Then the three South Asian categories\n",
    "\n",
    "'Indian' <br>\n",
    "'Banglasdeshi'<br>\n",
    "'Pakistani' <br>\n",
    "\n",
    "Then finally...\n",
    "\n",
    "'Black' <br>\n",
    "\n",
    "(Others are absent from the model)\n"
   ]
  },
  {
   "cell_type": "markdown",
   "metadata": {},
   "source": [
    "---"
   ]
  },
  {
   "cell_type": "markdown",
   "metadata": {},
   "source": [
    "Re-ordering the ethnicity variable \"ethnic2\".\n",
    "\n",
    "Creating a new ethnicity variable \"ethnic3\"."
   ]
  },
  {
   "cell_type": "code",
   "execution_count": 35,
   "metadata": {
    "collapsed": false
   },
   "outputs": [],
   "source": [
    "# create the new field,\n",
    "\n",
    "mydata4.df$ethnic3 <- 7\n",
    "\n",
    "# everyone is placed into category 7.\n",
    "\n",
    "# recode the new field with values from the old field.\n",
    "mydata4.df$ethnic3[mydata4.df$a58==\"white\"] <-1\n",
    "mydata4.df$ethnic3[mydata4.df$a58==\"carib.\"] <-6\n",
    "mydata4.df$ethnic3[mydata4.df$a58==\"afro.\"] <-6\n",
    "mydata4.df$ethnic3[mydata4.df$a58==\"other black\"] <-6\n",
    "mydata4.df$ethnic3[mydata4.df$a58==\"indian\"] <-3\n",
    "mydata4.df$ethnic3[mydata4.df$a58==\"pakistani\"] <-5\n",
    "mydata4.df$ethnic3[mydata4.df$a58==\"bangladeshi\"] <-4\n",
    "mydata4.df$ethnic3[mydata4.df$a58==\"chin!ese\"] <-2\n",
    "mydata4.df$ethnic3[mydata4.df$a58==\"other asian\"] <-7\n",
    "mydata4.df$ethnic3[mydata4.df$a58==\"any other\"] <-7\n",
    "mydata4.df$ethnic3[mydata4.df$a58==\"mixed ethnic origin\"] <-7\n",
    "mydata4.df$ethnic3[mydata4.df$a58==\"ref!used\"] <-7\n"
   ]
  },
  {
   "cell_type": "code",
   "execution_count": 36,
   "metadata": {
    "collapsed": false
   },
   "outputs": [
    {
     "data": {
      "text/plain": [
       "\n",
       "    1     2     3     4     5     6 \n",
       "11962    67   369    52   159   180 "
      ]
     },
     "execution_count": 36,
     "metadata": {},
     "output_type": "execute_result"
    }
   ],
   "source": [
    "table(mydata4.df$ethnic3)"
   ]
  },
  {
   "cell_type": "markdown",
   "metadata": {},
   "source": [
    "Just to check the old variable \"ethnic1\" and the new variable \"ethnic3\"."
   ]
  },
  {
   "cell_type": "code",
   "execution_count": 37,
   "metadata": {
    "collapsed": false
   },
   "outputs": [
    {
     "data": {
      "text/plain": [
       "   \n",
       "        1     2     3     4     5     6\n",
       "  1 11962     0     0     0     0     0\n",
       "  2     0     0     0     0     0   180\n",
       "  3     0     0   369     0     0     0\n",
       "  4     0     0     0     0   159     0\n",
       "  5     0     0     0    52     0     0\n",
       "  6     0    67     0     0     0     0"
      ]
     },
     "execution_count": 37,
     "metadata": {},
     "output_type": "execute_result"
    }
   ],
   "source": [
    "mytable <- table (mydata4.df$ethnic1,mydata4.df$ethnic3)\n",
    "mytable # print table "
   ]
  },
  {
   "cell_type": "markdown",
   "metadata": {},
   "source": [
    "This looks satisfactory.\n",
    "\n",
    "I will now try to re-estimate the model but with the ethnicity variable \"ethnic2\"."
   ]
  },
  {
   "cell_type": "markdown",
   "metadata": {},
   "source": [
    "The data have been altered so I re-set the survey design."
   ]
  },
  {
   "cell_type": "code",
   "execution_count": 38,
   "metadata": {
    "collapsed": true
   },
   "outputs": [],
   "source": [
    "mydesign4 <- svydesign(id = ~serial,data = mydata4.df, weight = ~weight)"
   ]
  },
  {
   "cell_type": "code",
   "execution_count": 39,
   "metadata": {
    "collapsed": false,
    "scrolled": true
   },
   "outputs": [
    {
     "name": "stderr",
     "output_type": "stream",
     "text": [
      "Warning message:\n",
      "In eval(expr, envir, enclos): non-integer #successes in a binomial glm!"
     ]
    }
   ],
   "source": [
    "model5<-svyglm (s15a_c ~ factor(ethnic3) + girls + prof_man + o_non_man + \n",
    "                 skilled_man + semi_skilled, design=mydesign4, data = mydata4.df, family = \"binomial\")"
   ]
  },
  {
   "cell_type": "code",
   "execution_count": 40,
   "metadata": {
    "collapsed": false
   },
   "outputs": [
    {
     "data": {
      "text/plain": [
       "\n",
       "Call:\n",
       "svyglm(formula = s15a_c ~ factor(ethnic3) + girls + prof_man + \n",
       "    o_non_man + skilled_man + semi_skilled, design = mydesign4, \n",
       "    data = mydata4.df, family = \"binomial\")\n",
       "\n",
       "Survey design:\n",
       "svydesign(id = ~serial, data = mydata4.df, weight = ~weight)\n",
       "\n",
       "Coefficients:\n",
       "                 Estimate Std. Error t value Pr(>|t|)    \n",
       "(Intercept)      -1.56515    0.10196 -15.351  < 2e-16 ***\n",
       "factor(ethnic3)2  1.35917    0.33721   4.031 5.59e-05 ***\n",
       "factor(ethnic3)3  0.42271    0.12187   3.469 0.000525 ***\n",
       "factor(ethnic3)4  0.12302    0.30052   0.409 0.682278    \n",
       "factor(ethnic3)5 -0.11177    0.17735  -0.630 0.528544    \n",
       "factor(ethnic3)6 -0.64314    0.17118  -3.757 0.000173 ***\n",
       "girls             0.40456    0.03926  10.305  < 2e-16 ***\n",
       "prof_man          2.19209    0.10863  20.179  < 2e-16 ***\n",
       "o_non_man         1.77251    0.10793  16.423  < 2e-16 ***\n",
       "skilled_man       0.93217    0.10411   8.954  < 2e-16 ***\n",
       "semi_skilled      0.57587    0.11264   5.112 3.23e-07 ***\n",
       "---\n",
       "Signif. codes:  0 '***' 0.001 '**' 0.01 '*' 0.05 '.' 0.1 ' ' 1\n",
       "\n",
       "(Dispersion parameter for binomial family taken to be 1.000269)\n",
       "\n",
       "Number of Fisher Scoring iterations: 4\n"
      ]
     },
     "execution_count": 40,
     "metadata": {},
     "output_type": "execute_result"
    }
   ],
   "source": [
    "summary(model5)"
   ]
  },
  {
   "cell_type": "markdown",
   "metadata": {},
   "source": [
    "### <span style=\"color:blue\"> Note!</span> \n",
    "\n",
    "The results no longer __duplicate Table 5 (p.20) Connolley (2006)__ but the results build upon, and extend, the work so they are a __replication__.\n",
    "\n",
    "---"
   ]
  },
  {
   "cell_type": "markdown",
   "metadata": {},
   "source": [
    "I now pass the results to the quasi-variance procedure."
   ]
  },
  {
   "cell_type": "code",
   "execution_count": 41,
   "metadata": {
    "collapsed": false
   },
   "outputs": [],
   "source": [
    "model5.qvs <- qvcalc(model5, \"factor(ethnic3)\")"
   ]
  },
  {
   "cell_type": "code",
   "execution_count": 42,
   "metadata": {
    "collapsed": false,
    "scrolled": true
   },
   "outputs": [
    {
     "name": "stdout",
     "output_type": "stream",
     "text": [
      "Model call:  svyglm(formula = s15a_c ~ factor(ethnic3) + girls + prof_man +      o_non_man + skilled_man + semi_skilled, design = mydesign4,      data = mydata4.df, family = \"binomial\") \n",
      "Factor name:  factor(ethnic3) \n",
      "      estimate     SE quasiSE  quasiVar\n",
      "    1   0.0000 0.0000 0.02034 0.0004138\n",
      "    2   1.3592 0.3372 0.33645 0.1131998\n",
      "    3   0.4227 0.1219 0.12014 0.0144326\n",
      "    4   0.1230 0.3005 0.29977 0.0898622\n",
      "    5  -0.1118 0.1773 0.17612 0.0310191\n",
      "    6  -0.6431 0.1712 0.17011 0.0289357\n",
      "Worst relative errors in SEs of simple contrasts (%):  -0.1 0.1 \n",
      "Worst relative errors over *all* contrasts (%):  -0.4 0.1 \n"
     ]
    }
   ],
   "source": [
    "summary(model5.qvs, digits = 4)\n"
   ]
  },
  {
   "cell_type": "markdown",
   "metadata": {},
   "source": [
    "I now plot the results for \"ethnicity3\" along with quasi-variance based 95% comparison intervals."
   ]
  },
  {
   "cell_type": "code",
   "execution_count": 37,
   "metadata": {
    "collapsed": false
   },
   "outputs": [
    {
     "data": {
      "image/png": "[encoded data removed]",
      "image/svg+xml": [
       "<?xml version=\"1.0\" encoding=\"UTF-8\"?>\n",
       "<svg xmlns=\"http://www.w3.org/2000/svg\" xmlns:xlink=\"http://www.w3.org/1999/xlink\" width=\"504pt\" height=\"504pt\" viewBox=\"0 0 504 504\" version=\"1.1\">\n",
       "<defs>\n",
       "<g>\n",
       "<symbol overflow=\"visible\" id=\"glyph0-0\">\n",
       "<path style=\"stroke:none;\" d=\"M 4.46875 0 L 3.414063 0 L 3.414063 -6.71875 C 3.160156 -6.476563 2.828125 -6.234375 2.414063 -5.996094 C 2 -5.75 1.628906 -5.570313 1.304688 -5.449219 L 1.304688 -6.46875 C 1.894531 -6.742188 2.410156 -7.078125 2.851563 -7.476563 C 3.292969 -7.871094 3.605469 -8.253906 3.789063 -8.625 L 4.46875 -8.625 Z M 4.46875 0 \"/>\n",
       "</symbol>\n",
       "<symbol overflow=\"visible\" id=\"glyph0-1\">\n",
       "<path style=\"stroke:none;\" d=\"M 6.039063 -1.015625 L 6.039063 0 L 0.363281 0 C 0.355469 -0.253906 0.394531 -0.496094 0.484375 -0.734375 C 0.628906 -1.117188 0.859375 -1.5 1.179688 -1.875 C 1.492188 -2.25 1.953125 -2.683594 2.5625 -3.175781 C 3.492188 -3.941406 4.125 -4.546875 4.453125 -4.992188 C 4.78125 -5.4375 4.945313 -5.859375 4.945313 -6.265625 C 4.945313 -6.679688 4.792969 -7.03125 4.496094 -7.320313 C 4.191406 -7.601563 3.804688 -7.746094 3.328125 -7.75 C 2.820313 -7.746094 2.414063 -7.59375 2.109375 -7.292969 C 1.804688 -6.984375 1.648438 -6.5625 1.648438 -6.03125 L 0.5625 -6.140625 C 0.632813 -6.945313 0.910156 -7.558594 1.398438 -7.988281 C 1.878906 -8.410156 2.53125 -8.625 3.351563 -8.625 C 4.171875 -8.625 4.824219 -8.394531 5.308594 -7.9375 C 5.789063 -7.480469 6.027344 -6.914063 6.03125 -6.242188 C 6.027344 -5.894531 5.957031 -5.558594 5.820313 -5.226563 C 5.675781 -4.890625 5.441406 -4.539063 5.117188 -4.175781 C 4.789063 -3.804688 4.25 -3.300781 3.492188 -2.664063 C 2.859375 -2.128906 2.453125 -1.769531 2.273438 -1.582031 C 2.09375 -1.394531 1.945313 -1.203125 1.828125 -1.015625 Z M 6.039063 -1.015625 \"/>\n",
       "</symbol>\n",
       "<symbol overflow=\"visible\" id=\"glyph0-2\">\n",
       "<path style=\"stroke:none;\" d=\"M 0.503906 -2.265625 L 1.558594 -2.40625 C 1.679688 -1.808594 1.882813 -1.378906 2.175781 -1.113281 C 2.464844 -0.847656 2.820313 -0.714844 3.242188 -0.71875 C 3.734375 -0.714844 4.152344 -0.886719 4.496094 -1.234375 C 4.832031 -1.574219 5.003906 -2 5.007813 -2.515625 C 5.003906 -2.996094 4.847656 -3.394531 4.535156 -3.710938 C 4.21875 -4.023438 3.816406 -4.183594 3.328125 -4.183594 C 3.128906 -4.183594 2.878906 -4.144531 2.585938 -4.066406 L 2.703125 -4.992188 C 2.765625 -4.984375 2.824219 -4.980469 2.871094 -4.980469 C 3.320313 -4.980469 3.722656 -5.097656 4.085938 -5.332031 C 4.441406 -5.566406 4.621094 -5.925781 4.625 -6.414063 C 4.621094 -6.800781 4.492188 -7.121094 4.230469 -7.375 C 3.964844 -7.628906 3.625 -7.757813 3.21875 -7.757813 C 2.804688 -7.757813 2.464844 -7.628906 2.191406 -7.371094 C 1.917969 -7.113281 1.742188 -6.726563 1.664063 -6.210938 L 0.609375 -6.398438 C 0.738281 -7.105469 1.03125 -7.652344 1.488281 -8.042969 C 1.941406 -8.429688 2.507813 -8.625 3.195313 -8.625 C 3.660156 -8.625 4.09375 -8.523438 4.488281 -8.324219 C 4.878906 -8.121094 5.179688 -7.847656 5.390625 -7.5 C 5.601563 -7.148438 5.707031 -6.777344 5.707031 -6.390625 C 5.707031 -6.019531 5.605469 -5.683594 5.40625 -5.378906 C 5.207031 -5.074219 4.914063 -4.832031 4.523438 -4.652344 C 5.03125 -4.535156 5.425781 -4.289063 5.707031 -3.921875 C 5.988281 -3.546875 6.128906 -3.085938 6.128906 -2.539063 C 6.128906 -1.785156 5.855469 -1.148438 5.308594 -0.628906 C 4.761719 -0.105469 4.070313 0.152344 3.234375 0.152344 C 2.476563 0.152344 1.847656 -0.0703125 1.355469 -0.519531 C 0.855469 -0.96875 0.574219 -1.550781 0.503906 -2.265625 Z M 0.503906 -2.265625 \"/>\n",
       "</symbol>\n",
       "<symbol overflow=\"visible\" id=\"glyph0-3\">\n",
       "<path style=\"stroke:none;\" d=\"M 3.878906 0 L 3.878906 -2.054688 L 0.152344 -2.054688 L 0.152344 -3.023438 L 4.070313 -8.589844 L 4.933594 -8.589844 L 4.933594 -3.023438 L 6.09375 -3.023438 L 6.09375 -2.054688 L 4.933594 -2.054688 L 4.933594 0 Z M 3.878906 -3.023438 L 3.878906 -6.898438 L 1.1875 -3.023438 Z M 3.878906 -3.023438 \"/>\n",
       "</symbol>\n",
       "<symbol overflow=\"visible\" id=\"glyph0-4\">\n",
       "<path style=\"stroke:none;\" d=\"M 0.5 -2.25 L 1.605469 -2.34375 C 1.683594 -1.804688 1.871094 -1.398438 2.175781 -1.125 C 2.472656 -0.851563 2.835938 -0.714844 3.257813 -0.71875 C 3.765625 -0.714844 4.195313 -0.90625 4.546875 -1.292969 C 4.898438 -1.671875 5.074219 -2.179688 5.074219 -2.820313 C 5.074219 -3.414063 4.902344 -3.890625 4.566406 -4.242188 C 4.226563 -4.589844 3.785156 -4.761719 3.242188 -4.765625 C 2.898438 -4.761719 2.59375 -4.683594 2.320313 -4.53125 C 2.046875 -4.375 1.832031 -4.175781 1.675781 -3.929688 L 0.6875 -4.0625 L 1.515625 -8.472656 L 5.789063 -8.472656 L 5.789063 -7.464844 L 2.359375 -7.464844 L 1.898438 -5.15625 C 2.414063 -5.515625 2.953125 -5.695313 3.523438 -5.695313 C 4.269531 -5.695313 4.902344 -5.433594 5.421875 -4.914063 C 5.933594 -4.394531 6.191406 -3.726563 6.195313 -2.914063 C 6.191406 -2.132813 5.964844 -1.460938 5.515625 -0.898438 C 4.960938 -0.199219 4.210938 0.144531 3.257813 0.148438 C 2.476563 0.144531 1.835938 -0.0703125 1.34375 -0.507813 C 0.84375 -0.941406 0.5625 -1.523438 0.5 -2.25 Z M 0.5 -2.25 \"/>\n",
       "</symbol>\n",
       "<symbol overflow=\"visible\" id=\"glyph0-5\">\n",
       "<path style=\"stroke:none;\" d=\"M 5.96875 -6.484375 L 4.921875 -6.40625 C 4.828125 -6.8125 4.695313 -7.113281 4.523438 -7.304688 C 4.234375 -7.605469 3.882813 -7.757813 3.46875 -7.757813 C 3.132813 -7.757813 2.835938 -7.664063 2.585938 -7.476563 C 2.25 -7.234375 1.988281 -6.878906 1.796875 -6.414063 C 1.605469 -5.949219 1.507813 -5.289063 1.5 -4.429688 C 1.753906 -4.8125 2.0625 -5.097656 2.433594 -5.289063 C 2.796875 -5.472656 3.183594 -5.566406 3.585938 -5.570313 C 4.289063 -5.566406 4.886719 -5.308594 5.382813 -4.792969 C 5.875 -4.277344 6.121094 -3.609375 6.125 -2.789063 C 6.121094 -2.25 6.003906 -1.746094 5.773438 -1.285156 C 5.539063 -0.820313 5.222656 -0.46875 4.816406 -0.222656 C 4.410156 0.0234375 3.949219 0.144531 3.433594 0.148438 C 2.554688 0.144531 1.835938 -0.175781 1.285156 -0.820313 C 0.726563 -1.46875 0.449219 -2.535156 0.453125 -4.019531 C 0.449219 -5.675781 0.757813 -6.882813 1.371094 -7.640625 C 1.902344 -8.296875 2.621094 -8.625 3.53125 -8.625 C 4.207031 -8.625 4.761719 -8.433594 5.195313 -8.054688 C 5.625 -7.675781 5.882813 -7.152344 5.96875 -6.484375 Z M 1.664063 -2.78125 C 1.664063 -2.417969 1.738281 -2.070313 1.894531 -1.738281 C 2.042969 -1.40625 2.261719 -1.152344 2.542969 -0.980469 C 2.820313 -0.800781 3.109375 -0.714844 3.414063 -0.71875 C 3.859375 -0.714844 4.242188 -0.894531 4.566406 -1.257813 C 4.882813 -1.613281 5.042969 -2.101563 5.046875 -2.726563 C 5.042969 -3.316406 4.886719 -3.785156 4.570313 -4.128906 C 4.25 -4.46875 3.851563 -4.640625 3.375 -4.640625 C 2.898438 -4.640625 2.492188 -4.46875 2.160156 -4.128906 C 1.828125 -3.785156 1.664063 -3.335938 1.664063 -2.78125 Z M 1.664063 -2.78125 \"/>\n",
       "</symbol>\n",
       "<symbol overflow=\"visible\" id=\"glyph0-6\">\n",
       "<path style=\"stroke:none;\" d=\"M 1.042969 0 L 1.042969 -5.402344 L 0.109375 -5.402344 L 0.109375 -6.222656 L 1.042969 -6.222656 L 1.042969 -6.882813 C 1.042969 -7.300781 1.078125 -7.613281 1.15625 -7.816406 C 1.25 -8.089844 1.429688 -8.308594 1.6875 -8.480469 C 1.945313 -8.644531 2.304688 -8.730469 2.765625 -8.734375 C 3.0625 -8.730469 3.390625 -8.695313 3.75 -8.632813 L 3.59375 -7.710938 C 3.371094 -7.75 3.164063 -7.769531 2.96875 -7.769531 C 2.648438 -7.769531 2.421875 -7.699219 2.292969 -7.5625 C 2.15625 -7.425781 2.089844 -7.171875 2.09375 -6.796875 L 2.09375 -6.222656 L 3.304688 -6.222656 L 3.304688 -5.402344 L 2.09375 -5.402344 L 2.09375 0 Z M 1.042969 0 \"/>\n",
       "</symbol>\n",
       "<symbol overflow=\"visible\" id=\"glyph0-7\">\n",
       "<path style=\"stroke:none;\" d=\"M 4.851563 -0.765625 C 4.460938 -0.433594 4.082031 -0.199219 3.722656 -0.0625 C 3.355469 0.0742188 2.96875 0.140625 2.5625 0.140625 C 1.875 0.140625 1.351563 -0.0234375 0.984375 -0.359375 C 0.617188 -0.6875 0.433594 -1.117188 0.433594 -1.640625 C 0.433594 -1.945313 0.5 -2.222656 0.640625 -2.472656 C 0.777344 -2.722656 0.960938 -2.925781 1.1875 -3.082031 C 1.410156 -3.234375 1.664063 -3.347656 1.945313 -3.429688 C 2.152344 -3.476563 2.464844 -3.53125 2.882813 -3.585938 C 3.734375 -3.6875 4.359375 -3.808594 4.765625 -3.949219 C 4.765625 -4.089844 4.769531 -4.179688 4.769531 -4.226563 C 4.769531 -4.648438 4.667969 -4.953125 4.46875 -5.132813 C 4.199219 -5.371094 3.800781 -5.488281 3.269531 -5.492188 C 2.769531 -5.488281 2.402344 -5.402344 2.167969 -5.230469 C 1.933594 -5.054688 1.757813 -4.746094 1.648438 -4.304688 L 0.617188 -4.445313 C 0.707031 -4.886719 0.863281 -5.242188 1.078125 -5.515625 C 1.289063 -5.78125 1.597656 -5.992188 2.007813 -6.140625 C 2.410156 -6.289063 2.882813 -6.363281 3.421875 -6.363281 C 3.953125 -6.363281 4.382813 -6.300781 4.714844 -6.175781 C 5.046875 -6.050781 5.292969 -5.890625 5.449219 -5.703125 C 5.605469 -5.511719 5.714844 -5.273438 5.777344 -4.984375 C 5.808594 -4.804688 5.824219 -4.480469 5.828125 -4.015625 L 5.828125 -2.609375 C 5.824219 -1.625 5.847656 -1.003906 5.894531 -0.746094 C 5.941406 -0.484375 6.03125 -0.238281 6.164063 0 L 5.0625 0 C 4.953125 -0.21875 4.882813 -0.472656 4.851563 -0.765625 Z M 4.765625 -3.125 C 4.375 -2.964844 3.800781 -2.832031 3.039063 -2.726563 C 2.605469 -2.660156 2.300781 -2.589844 2.121094 -2.515625 C 1.941406 -2.433594 1.800781 -2.320313 1.703125 -2.171875 C 1.605469 -2.019531 1.558594 -1.851563 1.558594 -1.671875 C 1.558594 -1.386719 1.664063 -1.152344 1.875 -0.96875 C 2.085938 -0.777344 2.398438 -0.683594 2.8125 -0.6875 C 3.21875 -0.683594 3.578125 -0.773438 3.894531 -0.953125 C 4.210938 -1.128906 4.445313 -1.371094 4.59375 -1.679688 C 4.707031 -1.917969 4.761719 -2.269531 4.765625 -2.734375 Z M 4.765625 -3.125 \"/>\n",
       "</symbol>\n",
       "<symbol overflow=\"visible\" id=\"glyph0-8\">\n",
       "<path style=\"stroke:none;\" d=\"M 4.851563 -2.28125 L 5.890625 -2.144531 C 5.773438 -1.425781 5.484375 -0.863281 5.019531 -0.464844 C 4.550781 -0.0585938 3.976563 0.140625 3.296875 0.140625 C 2.445313 0.140625 1.761719 -0.136719 1.246094 -0.695313 C 0.726563 -1.25 0.46875 -2.046875 0.46875 -3.085938 C 0.46875 -3.753906 0.578125 -4.34375 0.800781 -4.851563 C 1.023438 -5.355469 1.363281 -5.730469 1.816406 -5.984375 C 2.269531 -6.234375 2.765625 -6.363281 3.304688 -6.363281 C 3.980469 -6.363281 4.53125 -6.191406 4.964844 -5.847656 C 5.390625 -5.503906 5.667969 -5.019531 5.789063 -4.394531 L 4.765625 -4.234375 C 4.664063 -4.652344 4.492188 -4.96875 4.246094 -5.179688 C 3.996094 -5.390625 3.695313 -5.496094 3.34375 -5.496094 C 2.808594 -5.496094 2.378906 -5.304688 2.050781 -4.921875 C 1.71875 -4.539063 1.550781 -3.9375 1.554688 -3.117188 C 1.550781 -2.28125 1.710938 -1.671875 2.035156 -1.292969 C 2.351563 -0.914063 2.769531 -0.726563 3.289063 -0.726563 C 3.695313 -0.726563 4.042969 -0.851563 4.324219 -1.105469 C 4.601563 -1.359375 4.777344 -1.75 4.851563 -2.28125 Z M 4.851563 -2.28125 \"/>\n",
       "</symbol>\n",
       "<symbol overflow=\"visible\" id=\"glyph0-9\">\n",
       "<path style=\"stroke:none;\" d=\"M 3.09375 -0.945313 L 3.246094 -0.0117188 C 2.949219 0.0507813 2.683594 0.0820313 2.449219 0.0820313 C 2.066406 0.0820313 1.769531 0.0234375 1.558594 -0.0976563 C 1.347656 -0.21875 1.199219 -0.378906 1.113281 -0.578125 C 1.027344 -0.773438 0.984375 -1.1875 0.984375 -1.820313 L 0.984375 -5.402344 L 0.210938 -5.402344 L 0.210938 -6.222656 L 0.984375 -6.222656 L 0.984375 -7.765625 L 2.03125 -8.398438 L 2.03125 -6.222656 L 3.09375 -6.222656 L 3.09375 -5.402344 L 2.03125 -5.402344 L 2.03125 -1.765625 C 2.027344 -1.460938 2.046875 -1.269531 2.085938 -1.183594 C 2.125 -1.097656 2.183594 -1.027344 2.269531 -0.976563 C 2.351563 -0.925781 2.472656 -0.902344 2.632813 -0.902344 C 2.742188 -0.902344 2.898438 -0.914063 3.09375 -0.945313 Z M 3.09375 -0.945313 \"/>\n",
       "</symbol>\n",
       "<symbol overflow=\"visible\" id=\"glyph0-10\">\n",
       "<path style=\"stroke:none;\" d=\"M 0.398438 -3.109375 C 0.398438 -4.261719 0.71875 -5.117188 1.359375 -5.671875 C 1.894531 -6.132813 2.546875 -6.363281 3.316406 -6.363281 C 4.171875 -6.363281 4.871094 -6.082031 5.414063 -5.519531 C 5.953125 -4.957031 6.222656 -4.183594 6.226563 -3.199219 C 6.222656 -2.398438 6.101563 -1.765625 5.867188 -1.308594 C 5.625 -0.847656 5.277344 -0.492188 4.820313 -0.238281 C 4.359375 0.015625 3.859375 0.140625 3.316406 0.140625 C 2.441406 0.140625 1.734375 -0.136719 1.203125 -0.695313 C 0.664063 -1.253906 0.398438 -2.058594 0.398438 -3.109375 Z M 1.484375 -3.109375 C 1.480469 -2.308594 1.65625 -1.710938 2.003906 -1.320313 C 2.347656 -0.921875 2.785156 -0.726563 3.316406 -0.726563 C 3.839844 -0.726563 4.273438 -0.925781 4.621094 -1.324219 C 4.96875 -1.722656 5.144531 -2.328125 5.144531 -3.148438 C 5.144531 -3.914063 4.96875 -4.496094 4.617188 -4.894531 C 4.265625 -5.289063 3.832031 -5.488281 3.316406 -5.492188 C 2.785156 -5.488281 2.347656 -5.292969 2.003906 -4.898438 C 1.65625 -4.5 1.480469 -3.902344 1.484375 -3.109375 Z M 1.484375 -3.109375 \"/>\n",
       "</symbol>\n",
       "<symbol overflow=\"visible\" id=\"glyph0-11\">\n",
       "<path style=\"stroke:none;\" d=\"M 0.78125 0 L 0.78125 -6.222656 L 1.726563 -6.222656 L 1.726563 -5.28125 C 1.96875 -5.71875 2.191406 -6.011719 2.398438 -6.152344 C 2.601563 -6.292969 2.828125 -6.363281 3.078125 -6.363281 C 3.429688 -6.363281 3.792969 -6.25 4.160156 -6.023438 L 3.796875 -5.046875 C 3.539063 -5.195313 3.28125 -5.273438 3.023438 -5.273438 C 2.792969 -5.273438 2.585938 -5.203125 2.402344 -5.066406 C 2.214844 -4.925781 2.082031 -4.734375 2.007813 -4.488281 C 1.890625 -4.113281 1.832031 -3.703125 1.835938 -3.257813 L 1.835938 0 Z M 0.78125 0 \"/>\n",
       "</symbol>\n",
       "<symbol overflow=\"visible\" id=\"glyph0-12\">\n",
       "<path style=\"stroke:none;\" d=\"M 2.804688 2.523438 C 2.222656 1.785156 1.730469 0.929688 1.328125 -0.0546875 C 0.925781 -1.035156 0.726563 -2.054688 0.726563 -3.109375 C 0.726563 -4.039063 0.875 -4.929688 1.179688 -5.78125 C 1.523438 -6.769531 2.066406 -7.753906 2.804688 -8.734375 L 3.5625 -8.734375 C 3.085938 -7.917969 2.773438 -7.339844 2.625 -6.996094 C 2.382813 -6.457031 2.195313 -5.894531 2.0625 -5.308594 C 1.894531 -4.574219 1.808594 -3.839844 1.8125 -3.105469 C 1.808594 -1.226563 2.394531 0.648438 3.5625 2.523438 Z M 2.804688 2.523438 \"/>\n",
       "</symbol>\n",
       "<symbol overflow=\"visible\" id=\"glyph0-13\">\n",
       "<path style=\"stroke:none;\" d=\"M 5.050781 -2.003906 L 6.140625 -1.867188 C 5.96875 -1.230469 5.648438 -0.738281 5.183594 -0.386719 C 4.71875 -0.0351563 4.125 0.140625 3.40625 0.140625 C 2.492188 0.140625 1.769531 -0.136719 1.238281 -0.699219 C 0.699219 -1.253906 0.433594 -2.042969 0.4375 -3.058594 C 0.433594 -4.105469 0.703125 -4.917969 1.246094 -5.496094 C 1.78125 -6.074219 2.480469 -6.363281 3.34375 -6.363281 C 4.175781 -6.363281 4.855469 -6.078125 5.382813 -5.511719 C 5.910156 -4.945313 6.175781 -4.148438 6.175781 -3.125 C 6.175781 -3.058594 6.171875 -2.964844 6.171875 -2.84375 L 1.53125 -2.84375 C 1.5625 -2.15625 1.757813 -1.632813 2.109375 -1.269531 C 2.457031 -0.90625 2.890625 -0.726563 3.410156 -0.726563 C 3.796875 -0.726563 4.125 -0.828125 4.402344 -1.03125 C 4.671875 -1.234375 4.890625 -1.558594 5.050781 -2.003906 Z M 1.585938 -3.710938 L 5.0625 -3.710938 C 5.015625 -4.226563 4.882813 -4.621094 4.664063 -4.886719 C 4.328125 -5.292969 3.890625 -5.496094 3.359375 -5.496094 C 2.871094 -5.496094 2.464844 -5.332031 2.136719 -5.007813 C 1.804688 -4.683594 1.621094 -4.25 1.585938 -3.710938 Z M 1.585938 -3.710938 \"/>\n",
       "</symbol>\n",
       "<symbol overflow=\"visible\" id=\"glyph0-14\">\n",
       "<path style=\"stroke:none;\" d=\"M 0.789063 0 L 0.789063 -8.589844 L 1.84375 -8.589844 L 1.84375 -5.507813 C 2.335938 -6.078125 2.957031 -6.363281 3.710938 -6.363281 C 4.164063 -6.363281 4.566406 -6.269531 4.910156 -6.089844 C 5.25 -5.90625 5.492188 -5.65625 5.640625 -5.339844 C 5.785156 -5.015625 5.859375 -4.550781 5.859375 -3.945313 L 5.859375 0 L 4.804688 0 L 4.804688 -3.945313 C 4.804688 -4.46875 4.6875 -4.851563 4.460938 -5.09375 C 4.226563 -5.328125 3.90625 -5.449219 3.492188 -5.453125 C 3.179688 -5.449219 2.882813 -5.367188 2.609375 -5.210938 C 2.328125 -5.046875 2.132813 -4.828125 2.019531 -4.550781 C 1.898438 -4.273438 1.839844 -3.890625 1.84375 -3.40625 L 1.84375 0 Z M 0.789063 0 \"/>\n",
       "</symbol>\n",
       "<symbol overflow=\"visible\" id=\"glyph0-15\">\n",
       "<path style=\"stroke:none;\" d=\"M 0.789063 0 L 0.789063 -6.222656 L 1.742188 -6.222656 L 1.742188 -5.335938 C 2.195313 -6.019531 2.855469 -6.363281 3.71875 -6.363281 C 4.089844 -6.363281 4.433594 -6.292969 4.753906 -6.160156 C 5.066406 -6.023438 5.304688 -5.847656 5.460938 -5.632813 C 5.617188 -5.410156 5.726563 -5.152344 5.789063 -4.851563 C 5.828125 -4.65625 5.847656 -4.3125 5.847656 -3.828125 L 5.847656 0 L 4.792969 0 L 4.792969 -3.785156 C 4.792969 -4.214844 4.75 -4.535156 4.667969 -4.75 C 4.585938 -4.960938 4.441406 -5.128906 4.234375 -5.257813 C 4.023438 -5.382813 3.777344 -5.449219 3.5 -5.449219 C 3.046875 -5.449219 2.660156 -5.304688 2.332031 -5.019531 C 2.003906 -4.734375 1.839844 -4.195313 1.84375 -3.398438 L 1.84375 0 Z M 0.789063 0 \"/>\n",
       "</symbol>\n",
       "<symbol overflow=\"visible\" id=\"glyph0-16\">\n",
       "<path style=\"stroke:none;\" d=\"M 0.796875 -7.375 L 0.796875 -8.589844 L 1.851563 -8.589844 L 1.851563 -7.375 Z M 0.796875 0 L 0.796875 -6.222656 L 1.851563 -6.222656 L 1.851563 0 Z M 0.796875 0 \"/>\n",
       "</symbol>\n",
       "<symbol overflow=\"visible\" id=\"glyph0-17\">\n",
       "<path style=\"stroke:none;\" d=\"M 1.484375 2.523438 L 0.726563 2.523438 C 1.890625 0.648438 2.472656 -1.226563 2.476563 -3.105469 C 2.472656 -3.839844 2.390625 -4.566406 2.226563 -5.289063 C 2.09375 -5.875 1.90625 -6.4375 1.671875 -6.976563 C 1.515625 -7.328125 1.203125 -7.914063 0.726563 -8.734375 L 1.484375 -8.734375 C 2.214844 -7.753906 2.757813 -6.769531 3.109375 -5.78125 C 3.410156 -4.929688 3.5625 -4.039063 3.5625 -3.109375 C 3.5625 -2.054688 3.359375 -1.035156 2.957031 -0.0546875 C 2.550781 0.929688 2.058594 1.785156 1.484375 2.523438 Z M 1.484375 2.523438 \"/>\n",
       "</symbol>\n",
       "<symbol overflow=\"visible\" id=\"glyph1-0\">\n",
       "<path style=\"stroke:none;\" d=\"M -2.578125 -0.382813 L -3.640625 -0.382813 L -3.640625 -3.621094 L -2.578125 -3.621094 Z M -2.578125 -0.382813 \"/>\n",
       "</symbol>\n",
       "<symbol overflow=\"visible\" id=\"glyph1-1\">\n",
       "<path style=\"stroke:none;\" d=\"M 0 -4.46875 L 0 -3.414063 L -6.71875 -3.417969 C -6.476563 -3.160156 -6.234375 -2.828125 -5.996094 -2.417969 C -5.75 -2.003906 -5.570313 -1.632813 -5.449219 -1.308594 L -6.46875 -1.308594 C -6.742188 -1.894531 -7.078125 -2.410156 -7.476563 -2.851563 C -7.871094 -3.292969 -8.253906 -3.605469 -8.625 -3.792969 L -8.625 -4.472656 Z M 0 -4.46875 \"/>\n",
       "</symbol>\n",
       "<symbol overflow=\"visible\" id=\"glyph1-2\">\n",
       "<path style=\"stroke:none;\" d=\"M -4.234375 -0.5 C -5.246094 -0.496094 -6.0625 -0.601563 -6.6875 -0.8125 C -7.304688 -1.019531 -7.785156 -1.328125 -8.121094 -1.742188 C -8.457031 -2.152344 -8.625 -2.671875 -8.625 -3.300781 C -8.625 -3.757813 -8.53125 -4.164063 -8.347656 -4.511719 C -8.160156 -4.859375 -7.890625 -5.144531 -7.542969 -5.371094 C -7.191406 -5.59375 -6.765625 -5.773438 -6.265625 -5.90625 C -5.761719 -6.035156 -5.085938 -6.097656 -4.234375 -6.101563 C -3.222656 -6.097656 -2.410156 -5.996094 -1.792969 -5.789063 C -1.175781 -5.578125 -0.695313 -5.265625 -0.359375 -4.859375 C -0.0195313 -4.445313 0.144531 -3.925781 0.148438 -3.296875 C 0.144531 -2.464844 -0.148438 -1.816406 -0.742188 -1.347656 C -1.457031 -0.78125 -2.621094 -0.496094 -4.234375 -0.5 Z M -4.234375 -1.582031 C -2.824219 -1.582031 -1.886719 -1.746094 -1.417969 -2.074219 C -0.949219 -2.402344 -0.714844 -2.808594 -0.71875 -3.296875 C -0.714844 -3.777344 -0.949219 -4.183594 -1.421875 -4.519531 C -1.886719 -4.847656 -2.824219 -5.015625 -4.234375 -5.015625 C -5.648438 -5.015625 -6.589844 -4.847656 -7.054688 -4.519531 C -7.515625 -4.1875 -7.746094 -3.777344 -7.75 -3.289063 C -7.746094 -2.800781 -7.542969 -2.414063 -7.136719 -2.128906 C -6.613281 -1.761719 -5.644531 -1.582031 -4.234375 -1.582031 Z M -4.234375 -1.582031 \"/>\n",
       "</symbol>\n",
       "<symbol overflow=\"visible\" id=\"glyph1-3\">\n",
       "<path style=\"stroke:none;\" d=\"M -1.011719 -6.039063 L 0 -6.039063 L 0 -0.363281 C -0.253906 -0.355469 -0.496094 -0.394531 -0.734375 -0.488281 C -1.117188 -0.628906 -1.5 -0.859375 -1.875 -1.179688 C -2.25 -1.496094 -2.683594 -1.957031 -3.175781 -2.5625 C -3.941406 -3.492188 -4.546875 -4.125 -4.992188 -4.453125 C -5.4375 -4.78125 -5.859375 -4.945313 -6.265625 -4.945313 C -6.679688 -4.945313 -7.03125 -4.792969 -7.320313 -4.496094 C -7.601563 -4.195313 -7.746094 -3.808594 -7.75 -3.328125 C -7.746094 -2.820313 -7.59375 -2.414063 -7.292969 -2.109375 C -6.984375 -1.804688 -6.5625 -1.648438 -6.03125 -1.648438 L -6.140625 -0.5625 C -6.945313 -0.636719 -7.558594 -0.914063 -7.988281 -1.402344 C -8.410156 -1.882813 -8.625 -2.535156 -8.625 -3.351563 C -8.625 -4.175781 -8.394531 -4.828125 -7.9375 -5.308594 C -7.480469 -5.789063 -6.914063 -6.027344 -6.242188 -6.03125 C -5.894531 -6.027344 -5.558594 -5.957031 -5.226563 -5.820313 C -4.890625 -5.675781 -4.539063 -5.441406 -4.175781 -5.117188 C -3.804688 -4.789063 -3.300781 -4.25 -2.664063 -3.492188 C -2.128906 -2.859375 -1.769531 -2.453125 -1.582031 -2.273438 C -1.394531 -2.09375 -1.203125 -1.945313 -1.011719 -1.828125 Z M -1.011719 -6.039063 \"/>\n",
       "</symbol>\n",
       "<symbol overflow=\"visible\" id=\"glyph1-4\">\n",
       "<path style=\"stroke:none;\" d=\"M -2.003906 -5.050781 L -1.867188 -6.140625 C -1.230469 -5.96875 -0.738281 -5.648438 -0.386719 -5.183594 C -0.0351563 -4.71875 0.140625 -4.125 0.140625 -3.40625 C 0.140625 -2.492188 -0.136719 -1.769531 -0.699219 -1.238281 C -1.253906 -0.703125 -2.042969 -0.4375 -3.058594 -0.441406 C -4.105469 -0.4375 -4.917969 -0.707031 -5.496094 -1.25 C -6.074219 -1.785156 -6.363281 -2.484375 -6.363281 -3.347656 C -6.363281 -4.175781 -6.078125 -4.855469 -5.511719 -5.382813 C -4.945313 -5.910156 -4.148438 -6.175781 -3.121094 -6.175781 C -3.054688 -6.175781 -2.960938 -6.171875 -2.839844 -6.171875 L -2.84375 -1.53125 C -2.15625 -1.566406 -1.632813 -1.761719 -1.269531 -2.109375 C -0.90625 -2.457031 -0.726563 -2.890625 -0.726563 -3.410156 C -0.726563 -3.796875 -0.828125 -4.125 -1.03125 -4.402344 C -1.234375 -4.671875 -1.558594 -4.890625 -2.003906 -5.050781 Z M -3.710938 -1.589844 L -3.707031 -5.0625 C -4.226563 -5.015625 -4.621094 -4.882813 -4.886719 -4.664063 C -5.292969 -4.328125 -5.496094 -3.890625 -5.496094 -3.359375 C -5.496094 -2.871094 -5.332031 -2.464844 -5.007813 -2.136719 C -4.683594 -1.804688 -4.25 -1.621094 -3.710938 -1.589844 Z M -3.710938 -1.589844 \"/>\n",
       "</symbol>\n",
       "<symbol overflow=\"visible\" id=\"glyph1-5\">\n",
       "<path style=\"stroke:none;\" d=\"M -1.859375 -0.371094 L -2.023438 -1.414063 C -1.601563 -1.46875 -1.28125 -1.632813 -1.058594 -1.902344 C -0.835938 -2.167969 -0.726563 -2.542969 -0.726563 -3.023438 C -0.726563 -3.507813 -0.824219 -3.867188 -1.019531 -4.101563 C -1.214844 -4.335938 -1.445313 -4.453125 -1.714844 -4.453125 C -1.953125 -4.453125 -2.140625 -4.347656 -2.277344 -4.140625 C -2.367188 -3.996094 -2.488281 -3.636719 -2.636719 -3.0625 C -2.832031 -2.289063 -3 -1.753906 -3.144531 -1.457031 C -3.285156 -1.15625 -3.480469 -0.929688 -3.734375 -0.777344 C -3.984375 -0.621094 -4.265625 -0.542969 -4.570313 -0.546875 C -4.84375 -0.542969 -5.097656 -0.605469 -5.339844 -0.734375 C -5.574219 -0.859375 -5.773438 -1.035156 -5.929688 -1.253906 C -6.046875 -1.417969 -6.148438 -1.640625 -6.234375 -1.925781 C -6.320313 -2.207031 -6.363281 -2.511719 -6.363281 -2.835938 C -6.363281 -3.324219 -6.292969 -3.75 -6.152344 -4.121094 C -6.011719 -4.488281 -5.820313 -4.761719 -5.578125 -4.9375 C -5.335938 -5.113281 -5.015625 -5.234375 -4.617188 -5.304688 L -4.476563 -4.273438 C -4.796875 -4.222656 -5.046875 -4.085938 -5.226563 -3.863281 C -5.40625 -3.636719 -5.496094 -3.320313 -5.496094 -2.914063 C -5.496094 -2.425781 -5.414063 -2.082031 -5.253906 -1.875 C -5.09375 -1.667969 -4.90625 -1.5625 -4.695313 -1.566406 C -4.554688 -1.5625 -4.433594 -1.605469 -4.324219 -1.695313 C -4.210938 -1.777344 -4.117188 -1.914063 -4.042969 -2.097656 C -4.003906 -2.203125 -3.914063 -2.511719 -3.773438 -3.03125 C -3.570313 -3.773438 -3.40625 -4.292969 -3.28125 -4.589844 C -3.15625 -4.878906 -2.972656 -5.113281 -2.730469 -5.285156 C -2.488281 -5.453125 -2.1875 -5.535156 -1.828125 -5.539063 C -1.476563 -5.535156 -1.144531 -5.433594 -0.832031 -5.230469 C -0.519531 -5.023438 -0.277344 -4.726563 -0.113281 -4.339844 C 0.0585938 -3.953125 0.140625 -3.515625 0.140625 -3.03125 C 0.140625 -2.21875 -0.0273438 -1.601563 -0.363281 -1.179688 C -0.699219 -0.753906 -1.195313 -0.484375 -1.859375 -0.371094 Z M -1.859375 -0.371094 \"/>\n",
       "</symbol>\n",
       "<symbol overflow=\"visible\" id=\"glyph1-6\">\n",
       "<path style=\"stroke:none;\" d=\"M -0.941406 -3.09375 L -0.0117188 -3.246094 C 0.0507813 -2.949219 0.0820313 -2.683594 0.0820313 -2.449219 C 0.0820313 -2.066406 0.0234375 -1.769531 -0.0976563 -1.558594 C -0.21875 -1.347656 -0.378906 -1.199219 -0.574219 -1.113281 C -0.769531 -1.027344 -1.183594 -0.984375 -1.820313 -0.984375 L -5.402344 -0.984375 L -5.402344 -0.210938 L -6.222656 -0.210938 L -6.222656 -0.984375 L -7.765625 -0.984375 L -8.398438 -2.035156 L -6.222656 -2.035156 L -6.222656 -3.09375 L -5.402344 -3.09375 L -5.402344 -2.035156 L -1.761719 -2.03125 C -1.460938 -2.027344 -1.269531 -2.046875 -1.183594 -2.085938 C -1.097656 -2.125 -1.027344 -2.183594 -0.976563 -2.269531 C -0.925781 -2.351563 -0.902344 -2.472656 -0.902344 -2.632813 C -0.902344 -2.742188 -0.914063 -2.898438 -0.941406 -3.09375 Z M -0.941406 -3.09375 \"/>\n",
       "</symbol>\n",
       "<symbol overflow=\"visible\" id=\"glyph1-7\">\n",
       "<path style=\"stroke:none;\" d=\"M -7.375 -0.796875 L -8.589844 -0.796875 L -8.589844 -1.851563 L -7.375 -1.851563 Z M 0 -0.796875 L -6.222656 -0.796875 L -6.222656 -1.851563 L 0 -1.851563 Z M 0 -0.796875 \"/>\n",
       "</symbol>\n",
       "<symbol overflow=\"visible\" id=\"glyph1-8\">\n",
       "<path style=\"stroke:none;\" d=\"M 0 -0.789063 L -6.222656 -0.792969 L -6.222656 -1.734375 L -5.351563 -1.734375 C -5.648438 -1.929688 -5.894531 -2.1875 -6.082031 -2.511719 C -6.269531 -2.835938 -6.363281 -3.207031 -6.363281 -3.621094 C -6.363281 -4.082031 -6.265625 -4.457031 -6.074219 -4.753906 C -5.882813 -5.042969 -5.617188 -5.253906 -5.273438 -5.378906 C -6 -5.871094 -6.363281 -6.511719 -6.363281 -7.300781 C -6.363281 -7.917969 -6.191406 -8.390625 -5.847656 -8.722656 C -5.503906 -9.054688 -4.976563 -9.222656 -4.269531 -9.222656 L 0 -9.222656 L 0 -8.171875 L -3.917969 -8.171875 C -4.335938 -8.167969 -4.640625 -8.132813 -4.828125 -8.070313 C -5.015625 -8 -5.164063 -7.878906 -5.277344 -7.699219 C -5.390625 -7.519531 -5.449219 -7.308594 -5.449219 -7.066406 C -5.449219 -6.628906 -5.300781 -6.265625 -5.011719 -5.976563 C -4.71875 -5.6875 -4.253906 -5.542969 -3.613281 -5.542969 L 0 -5.542969 L 0 -4.488281 L -4.042969 -4.488281 C -4.511719 -4.488281 -4.863281 -4.402344 -5.097656 -4.230469 C -5.332031 -4.058594 -5.449219 -3.777344 -5.449219 -3.386719 C -5.449219 -3.089844 -5.371094 -2.8125 -5.214844 -2.5625 C -5.058594 -2.308594 -4.828125 -2.128906 -4.527344 -2.015625 C -4.226563 -1.902344 -3.792969 -1.84375 -3.226563 -1.847656 L 0 -1.84375 Z M 0 -0.789063 \"/>\n",
       "</symbol>\n",
       "<symbol overflow=\"visible\" id=\"glyph1-9\">\n",
       "<path style=\"stroke:none;\" d=\"M -0.765625 -4.851563 C -0.433594 -4.460938 -0.199219 -4.082031 -0.0625 -3.722656 C 0.0742188 -3.355469 0.140625 -2.96875 0.140625 -2.5625 C 0.140625 -1.875 -0.0234375 -1.351563 -0.359375 -0.984375 C -0.6875 -0.617188 -1.117188 -0.433594 -1.640625 -0.433594 C -1.945313 -0.433594 -2.222656 -0.5 -2.472656 -0.640625 C -2.722656 -0.777344 -2.925781 -0.960938 -3.082031 -1.1875 C -3.234375 -1.410156 -3.347656 -1.664063 -3.429688 -1.945313 C -3.476563 -2.152344 -3.53125 -2.464844 -3.585938 -2.882813 C -3.6875 -3.734375 -3.808594 -4.359375 -3.949219 -4.765625 C -4.089844 -4.765625 -4.179688 -4.769531 -4.226563 -4.769531 C -4.648438 -4.769531 -4.953125 -4.667969 -5.132813 -4.46875 C -5.371094 -4.199219 -5.488281 -3.800781 -5.492188 -3.269531 C -5.488281 -2.773438 -5.402344 -2.40625 -5.230469 -2.171875 C -5.054688 -1.933594 -4.746094 -1.757813 -4.304688 -1.648438 L -4.445313 -0.617188 C -4.886719 -0.707031 -5.242188 -0.863281 -5.515625 -1.078125 C -5.78125 -1.292969 -5.992188 -1.601563 -6.140625 -2.011719 C -6.289063 -2.414063 -6.363281 -2.886719 -6.363281 -3.421875 C -6.363281 -3.953125 -6.300781 -4.382813 -6.175781 -4.714844 C -6.050781 -5.046875 -5.890625 -5.292969 -5.703125 -5.449219 C -5.511719 -5.605469 -5.273438 -5.714844 -4.984375 -5.777344 C -4.804688 -5.808594 -4.480469 -5.824219 -4.015625 -5.828125 L -2.605469 -5.828125 C -1.625 -5.824219 -1.003906 -5.847656 -0.746094 -5.894531 C -0.480469 -5.941406 -0.234375 -6.03125 0 -6.164063 L 0 -5.0625 C -0.21875 -4.953125 -0.472656 -4.882813 -0.765625 -4.851563 Z M -3.121094 -4.765625 C -2.960938 -4.375 -2.828125 -3.800781 -2.726563 -3.039063 C -2.660156 -2.605469 -2.589844 -2.300781 -2.515625 -2.121094 C -2.433594 -1.941406 -2.320313 -1.800781 -2.171875 -1.703125 C -2.019531 -1.605469 -1.851563 -1.558594 -1.671875 -1.558594 C -1.386719 -1.558594 -1.152344 -1.664063 -0.964844 -1.875 C -0.773438 -2.085938 -0.679688 -2.398438 -0.683594 -2.8125 C -0.679688 -3.21875 -0.769531 -3.578125 -0.949219 -3.894531 C -1.128906 -4.210938 -1.371094 -4.445313 -1.679688 -4.59375 C -1.917969 -4.707031 -2.269531 -4.761719 -2.734375 -4.765625 Z M -3.121094 -4.765625 \"/>\n",
       "</symbol>\n",
       "<symbol overflow=\"visible\" id=\"glyph2-0\">\n",
       "<path style=\"stroke:none;\" d=\"M 0.984375 0 L 0.984375 -10.308594 L 3.066406 -10.308594 L 3.066406 0 Z M 0.984375 0 \"/>\n",
       "</symbol>\n",
       "<symbol overflow=\"visible\" id=\"glyph2-1\">\n",
       "<path style=\"stroke:none;\" d=\"M 7.824219 0 L 5.851563 0 L 5.851563 -3.8125 C 5.847656 -4.613281 5.804688 -5.132813 5.722656 -5.375 C 5.636719 -5.609375 5.5 -5.792969 5.3125 -5.925781 C 5.121094 -6.054688 4.890625 -6.121094 4.625 -6.125 C 4.28125 -6.121094 3.976563 -6.027344 3.703125 -5.84375 C 3.429688 -5.652344 3.242188 -5.40625 3.144531 -5.097656 C 3.042969 -4.785156 2.992188 -4.210938 2.996094 -3.382813 L 2.996094 0 L 1.019531 0 L 1.019531 -7.46875 L 2.855469 -7.46875 L 2.855469 -6.371094 C 3.503906 -7.210938 4.324219 -7.632813 5.316406 -7.636719 C 5.746094 -7.632813 6.144531 -7.554688 6.507813 -7.398438 C 6.867188 -7.238281 7.140625 -7.039063 7.328125 -6.796875 C 7.511719 -6.554688 7.640625 -6.277344 7.714844 -5.96875 C 7.785156 -5.65625 7.820313 -5.214844 7.824219 -4.640625 Z M 7.824219 0 \"/>\n",
       "</symbol>\n",
       "<symbol overflow=\"visible\" id=\"glyph2-2\">\n",
       "<path style=\"stroke:none;\" d=\"M 4.457031 -7.46875 L 4.457031 -5.890625 L 3.109375 -5.890625 L 3.109375 -2.882813 C 3.105469 -2.273438 3.117188 -1.917969 3.144531 -1.816406 C 3.167969 -1.714844 3.226563 -1.628906 3.320313 -1.566406 C 3.410156 -1.496094 3.523438 -1.464844 3.65625 -1.46875 C 3.835938 -1.464844 4.097656 -1.527344 4.449219 -1.660156 L 4.621094 -0.125 C 4.15625 0.0703125 3.636719 0.164063 3.058594 0.167969 C 2.699219 0.164063 2.375 0.105469 2.09375 -0.0117188 C 1.804688 -0.128906 1.597656 -0.28125 1.464844 -0.472656 C 1.332031 -0.660156 1.238281 -0.917969 1.1875 -1.246094 C 1.144531 -1.472656 1.125 -1.9375 1.125 -2.636719 L 1.125 -5.890625 L 0.21875 -5.890625 L 0.21875 -7.46875 L 1.125 -7.46875 L 1.125 -8.949219 L 3.109375 -10.105469 L 3.109375 -7.46875 Z M 4.457031 -7.46875 \"/>\n",
       "</symbol>\n",
       "<symbol overflow=\"visible\" id=\"glyph2-3\">\n",
       "<path style=\"stroke:none;\" d=\"M 5.359375 -2.375 L 7.328125 -2.046875 C 7.070313 -1.320313 6.667969 -0.773438 6.125 -0.398438 C 5.578125 -0.0234375 4.898438 0.164063 4.078125 0.167969 C 2.777344 0.164063 1.816406 -0.257813 1.195313 -1.105469 C 0.703125 -1.78125 0.457031 -2.636719 0.457031 -3.675781 C 0.457031 -4.910156 0.777344 -5.882813 1.425781 -6.585938 C 2.070313 -7.285156 2.890625 -7.632813 3.882813 -7.636719 C 4.988281 -7.632813 5.863281 -7.265625 6.507813 -6.535156 C 7.148438 -5.796875 7.457031 -4.675781 7.433594 -3.164063 L 2.480469 -3.164063 C 2.492188 -2.578125 2.652344 -2.121094 2.960938 -1.796875 C 3.261719 -1.46875 3.640625 -1.304688 4.097656 -1.308594 C 4.402344 -1.304688 4.664063 -1.390625 4.878906 -1.558594 C 5.085938 -1.726563 5.246094 -1.996094 5.359375 -2.375 Z M 5.46875 -4.375 C 5.453125 -4.941406 5.308594 -5.375 5.027344 -5.675781 C 4.746094 -5.972656 4.402344 -6.121094 4 -6.125 C 3.566406 -6.121094 3.210938 -5.964844 2.933594 -5.652344 C 2.648438 -5.335938 2.507813 -4.910156 2.515625 -4.375 Z M 5.46875 -4.375 \"/>\n",
       "</symbol>\n",
       "<symbol overflow=\"visible\" id=\"glyph2-4\">\n",
       "<path style=\"stroke:none;\" d=\"M 2.925781 0 L 0.949219 0 L 0.949219 -7.46875 L 2.785156 -7.46875 L 2.785156 -6.40625 C 3.09375 -6.902344 3.375 -7.234375 3.628906 -7.394531 C 3.878906 -7.554688 4.164063 -7.632813 4.484375 -7.636719 C 4.929688 -7.632813 5.363281 -7.507813 5.785156 -7.261719 L 5.175781 -5.539063 C 4.839844 -5.75 4.53125 -5.859375 4.246094 -5.863281 C 3.96875 -5.859375 3.734375 -5.78125 3.542969 -5.632813 C 3.347656 -5.476563 3.195313 -5.203125 3.089844 -4.808594 C 2.976563 -4.40625 2.921875 -3.570313 2.925781 -2.304688 Z M 2.925781 0 \"/>\n",
       "</symbol>\n",
       "<symbol overflow=\"visible\" id=\"glyph2-5\">\n",
       "<path style=\"stroke:none;\" d=\"M 3.085938 0 L 0.078125 -7.46875 L 2.152344 -7.46875 L 3.558594 -3.65625 L 3.964844 -2.382813 C 4.070313 -2.703125 4.136719 -2.917969 4.167969 -3.023438 C 4.230469 -3.234375 4.300781 -3.445313 4.378906 -3.65625 L 5.800781 -7.46875 L 7.832031 -7.46875 L 4.867188 0 Z M 3.085938 0 \"/>\n",
       "</symbol>\n",
       "<symbol overflow=\"visible\" id=\"glyph2-6\">\n",
       "<path style=\"stroke:none;\" d=\"M 2.511719 -5.1875 L 0.71875 -5.511719 C 0.917969 -6.230469 1.265625 -6.765625 1.757813 -7.113281 C 2.25 -7.460938 2.980469 -7.632813 3.953125 -7.636719 C 4.832031 -7.632813 5.488281 -7.53125 5.917969 -7.324219 C 6.347656 -7.113281 6.648438 -6.847656 6.828125 -6.527344 C 7 -6.207031 7.089844 -5.617188 7.09375 -4.761719 L 7.074219 -2.453125 C 7.070313 -1.792969 7.101563 -1.308594 7.167969 -1 C 7.226563 -0.6875 7.347656 -0.355469 7.523438 0 L 5.570313 0 C 5.515625 -0.128906 5.453125 -0.320313 5.378906 -0.582031 C 5.34375 -0.695313 5.320313 -0.773438 5.308594 -0.816406 C 4.96875 -0.484375 4.605469 -0.238281 4.222656 -0.078125 C 3.835938 0.0859375 3.425781 0.164063 2.996094 0.167969 C 2.222656 0.164063 1.617188 -0.0429688 1.175781 -0.457031 C 0.730469 -0.871094 0.507813 -1.398438 0.511719 -2.039063 C 0.507813 -2.460938 0.609375 -2.835938 0.8125 -3.167969 C 1.011719 -3.496094 1.292969 -3.75 1.660156 -3.925781 C 2.019531 -4.101563 2.546875 -4.253906 3.234375 -4.386719 C 4.15625 -4.558594 4.792969 -4.71875 5.152344 -4.871094 L 5.152344 -5.070313 C 5.148438 -5.445313 5.054688 -5.71875 4.871094 -5.882813 C 4.679688 -6.042969 4.328125 -6.121094 3.8125 -6.125 C 3.457031 -6.121094 3.183594 -6.054688 2.988281 -5.917969 C 2.789063 -5.777344 2.628906 -5.53125 2.511719 -5.1875 Z M 5.152344 -3.585938 C 4.894531 -3.5 4.496094 -3.398438 3.949219 -3.285156 C 3.402344 -3.164063 3.042969 -3.046875 2.875 -2.9375 C 2.613281 -2.75 2.484375 -2.519531 2.488281 -2.242188 C 2.484375 -1.964844 2.585938 -1.726563 2.796875 -1.523438 C 3 -1.320313 3.265625 -1.21875 3.585938 -1.222656 C 3.941406 -1.21875 4.28125 -1.335938 4.605469 -1.574219 C 4.84375 -1.75 5 -1.96875 5.078125 -2.230469 C 5.125 -2.394531 5.148438 -2.714844 5.152344 -3.191406 Z M 5.152344 -3.585938 \"/>\n",
       "</symbol>\n",
       "<symbol overflow=\"visible\" id=\"glyph2-7\">\n",
       "<path style=\"stroke:none;\" d=\"M 1.035156 0 L 1.035156 -10.308594 L 3.007813 -10.308594 L 3.007813 0 Z M 1.035156 0 \"/>\n",
       "</symbol>\n",
       "<symbol overflow=\"visible\" id=\"glyph2-8\">\n",
       "<path style=\"stroke:none;\" d=\"M 0.335938 -2.128906 L 2.320313 -2.433594 C 2.402344 -2.042969 2.570313 -1.75 2.832031 -1.554688 C 3.085938 -1.351563 3.449219 -1.253906 3.917969 -1.257813 C 4.425781 -1.253906 4.808594 -1.347656 5.070313 -1.539063 C 5.238281 -1.667969 5.324219 -1.84375 5.328125 -2.066406 C 5.324219 -2.214844 5.277344 -2.339844 5.1875 -2.441406 C 5.085938 -2.53125 4.867188 -2.617188 4.527344 -2.699219 C 2.929688 -3.046875 1.917969 -3.367188 1.496094 -3.664063 C 0.902344 -4.0625 0.609375 -4.625 0.613281 -5.34375 C 0.609375 -5.988281 0.863281 -6.53125 1.378906 -6.972656 C 1.886719 -7.414063 2.679688 -7.632813 3.753906 -7.636719 C 4.773438 -7.632813 5.53125 -7.46875 6.03125 -7.136719 C 6.523438 -6.800781 6.867188 -6.308594 7.058594 -5.660156 L 5.195313 -5.316406 C 5.113281 -5.601563 4.960938 -5.824219 4.742188 -5.980469 C 4.515625 -6.132813 4.199219 -6.210938 3.789063 -6.214844 C 3.265625 -6.210938 2.894531 -6.136719 2.671875 -5.996094 C 2.519531 -5.890625 2.441406 -5.757813 2.445313 -5.597656 C 2.441406 -5.453125 2.507813 -5.335938 2.644531 -5.238281 C 2.816406 -5.105469 3.433594 -4.917969 4.488281 -4.683594 C 5.539063 -4.441406 6.273438 -4.148438 6.695313 -3.804688 C 7.105469 -3.449219 7.3125 -2.960938 7.3125 -2.335938 C 7.3125 -1.648438 7.023438 -1.058594 6.453125 -0.570313 C 5.878906 -0.078125 5.035156 0.164063 3.917969 0.167969 C 2.898438 0.164063 2.09375 -0.0390625 1.5 -0.449219 C 0.90625 -0.859375 0.515625 -1.417969 0.335938 -2.128906 Z M 0.335938 -2.128906 \"/>\n",
       "</symbol>\n",
       "<symbol overflow=\"visible\" id=\"glyph2-9\">\n",
       "<path style=\"stroke:none;\" d=\"\"/>\n",
       "</symbol>\n",
       "<symbol overflow=\"visible\" id=\"glyph2-10\">\n",
       "<path style=\"stroke:none;\" d=\"M 0.949219 0 L 0.949219 -10.308594 L 2.925781 -10.308594 L 2.925781 -6.59375 C 3.53125 -7.285156 4.253906 -7.632813 5.089844 -7.636719 C 5.996094 -7.632813 6.75 -7.304688 7.347656 -6.648438 C 7.941406 -5.988281 8.238281 -5.042969 8.242188 -3.8125 C 8.238281 -2.535156 7.933594 -1.550781 7.328125 -0.863281 C 6.71875 -0.175781 5.980469 0.164063 5.117188 0.167969 C 4.6875 0.164063 4.269531 0.0585938 3.855469 -0.152344 C 3.441406 -0.363281 3.082031 -0.675781 2.785156 -1.097656 L 2.785156 0 Z M 2.910156 -3.894531 C 2.90625 -3.117188 3.027344 -2.546875 3.277344 -2.179688 C 3.613281 -1.652344 4.070313 -1.386719 4.640625 -1.390625 C 5.074219 -1.386719 5.445313 -1.574219 5.753906 -1.949219 C 6.058594 -2.320313 6.210938 -2.90625 6.214844 -3.710938 C 6.210938 -4.5625 6.054688 -5.179688 5.75 -5.558594 C 5.4375 -5.933594 5.042969 -6.121094 4.5625 -6.125 C 4.085938 -6.121094 3.691406 -5.9375 3.378906 -5.570313 C 3.0625 -5.199219 2.90625 -4.640625 2.910156 -3.894531 Z M 2.910156 -3.894531 \"/>\n",
       "</symbol>\n",
       "<symbol overflow=\"visible\" id=\"glyph2-11\">\n",
       "<path style=\"stroke:none;\" d=\"M 7.882813 0 L 6.046875 0 L 6.046875 -1.097656 C 5.742188 -0.667969 5.378906 -0.351563 4.964844 -0.144531 C 4.546875 0.0625 4.128906 0.164063 3.710938 0.167969 C 2.851563 0.164063 2.117188 -0.179688 1.507813 -0.867188 C 0.890625 -1.558594 0.585938 -2.523438 0.589844 -3.761719 C 0.585938 -5.027344 0.882813 -5.988281 1.480469 -6.648438 C 2.074219 -7.304688 2.828125 -7.632813 3.742188 -7.636719 C 4.574219 -7.632813 5.296875 -7.285156 5.90625 -6.59375 L 5.90625 -10.308594 L 7.882813 -10.308594 Z M 2.609375 -3.894531 C 2.605469 -3.09375 2.714844 -2.515625 2.9375 -2.164063 C 3.253906 -1.644531 3.699219 -1.386719 4.273438 -1.390625 C 4.726563 -1.386719 5.113281 -1.582031 5.433594 -1.96875 C 5.75 -2.355469 5.910156 -2.933594 5.914063 -3.707031 C 5.910156 -4.5625 5.757813 -5.179688 5.449219 -5.558594 C 5.136719 -5.933594 4.738281 -6.121094 4.261719 -6.125 C 3.789063 -6.121094 3.398438 -5.9375 3.082031 -5.566406 C 2.765625 -5.191406 2.605469 -4.632813 2.609375 -3.894531 Z M 2.609375 -3.894531 \"/>\n",
       "</symbol>\n",
       "<symbol overflow=\"visible\" id=\"glyph2-12\">\n",
       "<path style=\"stroke:none;\" d=\"M 0.578125 -3.839844 C 0.574219 -4.492188 0.734375 -5.128906 1.0625 -5.742188 C 1.382813 -6.355469 1.839844 -6.824219 2.433594 -7.148438 C 3.023438 -7.472656 3.6875 -7.632813 4.421875 -7.636719 C 5.550781 -7.632813 6.476563 -7.265625 7.199219 -6.535156 C 7.917969 -5.796875 8.277344 -4.871094 8.28125 -3.753906 C 8.277344 -2.621094 7.914063 -1.683594 7.1875 -0.945313 C 6.457031 -0.203125 5.539063 0.164063 4.4375 0.167969 C 3.75 0.164063 3.097656 0.0117188 2.476563 -0.292969 C 1.855469 -0.601563 1.382813 -1.054688 1.0625 -1.652344 C 0.734375 -2.25 0.574219 -2.976563 0.578125 -3.839844 Z M 2.601563 -3.734375 C 2.601563 -2.988281 2.777344 -2.421875 3.128906 -2.03125 C 3.480469 -1.636719 3.914063 -1.441406 4.429688 -1.441406 C 4.945313 -1.441406 5.375 -1.636719 5.726563 -2.03125 C 6.070313 -2.421875 6.246094 -2.992188 6.25 -3.746094 C 6.246094 -4.472656 6.070313 -5.035156 5.726563 -5.433594 C 5.375 -5.824219 4.945313 -6.023438 4.429688 -6.027344 C 3.914063 -6.023438 3.480469 -5.824219 3.128906 -5.433594 C 2.777344 -5.035156 2.601563 -4.46875 2.601563 -3.734375 Z M 2.601563 -3.734375 \"/>\n",
       "</symbol>\n",
       "<symbol overflow=\"visible\" id=\"glyph2-13\">\n",
       "<path style=\"stroke:none;\" d=\"M 5.914063 2.839844 L 5.914063 -0.914063 C 5.652344 -0.578125 5.332031 -0.3125 4.949219 -0.121094 C 4.5625 0.0703125 4.148438 0.164063 3.707031 0.167969 C 2.855469 0.164063 2.15625 -0.152344 1.609375 -0.789063 C 0.960938 -1.53125 0.636719 -2.539063 0.640625 -3.816406 C 0.636719 -5.011719 0.941406 -5.949219 1.550781 -6.625 C 2.15625 -7.296875 2.910156 -7.632813 3.8125 -7.636719 C 4.304688 -7.632813 4.734375 -7.527344 5.097656 -7.320313 C 5.460938 -7.105469 5.78125 -6.789063 6.066406 -6.363281 L 6.066406 -7.46875 L 7.890625 -7.46875 L 7.890625 2.839844 Z M 5.976563 -3.824219 C 5.976563 -4.585938 5.820313 -5.15625 5.507813 -5.53125 C 5.195313 -5.902344 4.804688 -6.085938 4.339844 -6.089844 C 3.859375 -6.085938 3.457031 -5.898438 3.136719 -5.519531 C 2.8125 -5.136719 2.652344 -4.53125 2.65625 -3.710938 C 2.652344 -2.886719 2.808594 -2.296875 3.121094 -1.933594 C 3.429688 -1.570313 3.8125 -1.386719 4.269531 -1.390625 C 4.71875 -1.386719 5.117188 -1.59375 5.460938 -2.003906 C 5.804688 -2.410156 5.976563 -3.015625 5.976563 -3.824219 Z M 5.976563 -3.824219 \"/>\n",
       "</symbol>\n",
       "<symbol overflow=\"visible\" id=\"glyph2-14\">\n",
       "<path style=\"stroke:none;\" d=\"M 5.949219 0 L 5.949219 -1.117188 C 5.671875 -0.714844 5.316406 -0.402344 4.875 -0.175781 C 4.429688 0.0507813 3.960938 0.164063 3.472656 0.167969 C 2.96875 0.164063 2.519531 0.0585938 2.125 -0.160156 C 1.722656 -0.378906 1.433594 -0.691406 1.257813 -1.089844 C 1.078125 -1.488281 0.988281 -2.039063 0.992188 -2.742188 L 0.992188 -7.46875 L 2.96875 -7.46875 L 2.96875 -4.035156 C 2.964844 -2.984375 3 -2.339844 3.074219 -2.105469 C 3.144531 -1.863281 3.277344 -1.675781 3.472656 -1.542969 C 3.664063 -1.402344 3.90625 -1.335938 4.203125 -1.335938 C 4.539063 -1.335938 4.84375 -1.425781 5.109375 -1.613281 C 5.375 -1.792969 5.558594 -2.023438 5.660156 -2.300781 C 5.757813 -2.574219 5.804688 -3.246094 5.808594 -4.316406 L 5.808594 -7.46875 L 7.785156 -7.46875 L 7.785156 0 Z M 5.949219 0 \"/>\n",
       "</symbol>\n",
       "<symbol overflow=\"visible\" id=\"glyph2-15\">\n",
       "<path style=\"stroke:none;\" d=\"M 1.035156 -8.480469 L 1.035156 -10.308594 L 3.007813 -10.308594 L 3.007813 -8.480469 Z M 1.035156 0 L 1.035156 -7.46875 L 3.007813 -7.46875 L 3.007813 0 Z M 1.035156 0 \"/>\n",
       "</symbol>\n",
       "</g>\n",
       "<clipPath id=\"clip1\">\n",
       "  <path d=\"M 59.039063 59.039063 L 474.757813 59.039063 L 474.757813 431.558594 L 59.039063 431.558594 Z M 59.039063 59.039063 \"/>\n",
       "</clipPath>\n",
       "</defs>\n",
       "<g id=\"surface6\">\n",
       "<rect x=\"0\" y=\"0\" width=\"504\" height=\"504\" style=\"fill:rgb(100%,100%,100%);fill-opacity:1;stroke:none;\"/>\n",
       "<path style=\"fill:none;stroke-width:0.75;stroke-linecap:round;stroke-linejoin:round;stroke:rgb(0%,0%,0%);stroke-opacity:1;stroke-miterlimit:10;\" d=\"M 106.398438 430.558594 L 426.398438 430.558594 \"/>\n",
       "<path style=\"fill:none;stroke-width:0.75;stroke-linecap:round;stroke-linejoin:round;stroke:rgb(0%,0%,0%);stroke-opacity:1;stroke-miterlimit:10;\" d=\"M 106.398438 430.558594 L 106.398438 437.761719 \"/>\n",
       "<path style=\"fill:none;stroke-width:0.75;stroke-linecap:round;stroke-linejoin:round;stroke:rgb(0%,0%,0%);stroke-opacity:1;stroke-miterlimit:10;\" d=\"M 170.398438 430.558594 L 170.398438 437.761719 \"/>\n",
       "<path style=\"fill:none;stroke-width:0.75;stroke-linecap:round;stroke-linejoin:round;stroke:rgb(0%,0%,0%);stroke-opacity:1;stroke-miterlimit:10;\" d=\"M 234.398438 430.558594 L 234.398438 437.761719 \"/>\n",
       "<path style=\"fill:none;stroke-width:0.75;stroke-linecap:round;stroke-linejoin:round;stroke:rgb(0%,0%,0%);stroke-opacity:1;stroke-miterlimit:10;\" d=\"M 298.398438 430.558594 L 298.398438 437.761719 \"/>\n",
       "<path style=\"fill:none;stroke-width:0.75;stroke-linecap:round;stroke-linejoin:round;stroke:rgb(0%,0%,0%);stroke-opacity:1;stroke-miterlimit:10;\" d=\"M 362.398438 430.558594 L 362.398438 437.761719 \"/>\n",
       "<path style=\"fill:none;stroke-width:0.75;stroke-linecap:round;stroke-linejoin:round;stroke:rgb(0%,0%,0%);stroke-opacity:1;stroke-miterlimit:10;\" d=\"M 426.398438 430.558594 L 426.398438 437.761719 \"/>\n",
       "<g style=\"fill:rgb(0%,0%,0%);fill-opacity:1;\">\n",
       "  <use xlink:href=\"#glyph0-0\" x=\"103.0625\" y=\"456.480469\"/>\n",
       "</g>\n",
       "<g style=\"fill:rgb(0%,0%,0%);fill-opacity:1;\">\n",
       "  <use xlink:href=\"#glyph0-1\" x=\"167.0625\" y=\"456.480469\"/>\n",
       "</g>\n",
       "<g style=\"fill:rgb(0%,0%,0%);fill-opacity:1;\">\n",
       "  <use xlink:href=\"#glyph0-2\" x=\"231.0625\" y=\"456.480469\"/>\n",
       "</g>\n",
       "<g style=\"fill:rgb(0%,0%,0%);fill-opacity:1;\">\n",
       "  <use xlink:href=\"#glyph0-3\" x=\"295.0625\" y=\"456.480469\"/>\n",
       "</g>\n",
       "<g style=\"fill:rgb(0%,0%,0%);fill-opacity:1;\">\n",
       "  <use xlink:href=\"#glyph0-4\" x=\"359.0625\" y=\"456.480469\"/>\n",
       "</g>\n",
       "<g style=\"fill:rgb(0%,0%,0%);fill-opacity:1;\">\n",
       "  <use xlink:href=\"#glyph0-5\" x=\"423.0625\" y=\"456.480469\"/>\n",
       "</g>\n",
       "<path style=\"fill:none;stroke-width:0.75;stroke-linecap:round;stroke-linejoin:round;stroke:rgb(0%,0%,0%);stroke-opacity:1;stroke-miterlimit:10;\" d=\"M 59.039063 389.714844 L 59.039063 104.515625 \"/>\n",
       "<path style=\"fill:none;stroke-width:0.75;stroke-linecap:round;stroke-linejoin:round;stroke:rgb(0%,0%,0%);stroke-opacity:1;stroke-miterlimit:10;\" d=\"M 59.039063 389.714844 L 51.839844 389.714844 \"/>\n",
       "<path style=\"fill:none;stroke-width:0.75;stroke-linecap:round;stroke-linejoin:round;stroke:rgb(0%,0%,0%);stroke-opacity:1;stroke-miterlimit:10;\" d=\"M 59.039063 294.648438 L 51.839844 294.648438 \"/>\n",
       "<path style=\"fill:none;stroke-width:0.75;stroke-linecap:round;stroke-linejoin:round;stroke:rgb(0%,0%,0%);stroke-opacity:1;stroke-miterlimit:10;\" d=\"M 59.039063 199.582031 L 51.839844 199.582031 \"/>\n",
       "<path style=\"fill:none;stroke-width:0.75;stroke-linecap:round;stroke-linejoin:round;stroke:rgb(0%,0%,0%);stroke-opacity:1;stroke-miterlimit:10;\" d=\"M 59.039063 104.515625 L 51.839844 104.515625 \"/>\n",
       "<g style=\"fill:rgb(0%,0%,0%);fill-opacity:1;\">\n",
       "  <use xlink:href=\"#glyph1-0\" x=\"41.761719\" y=\"395.050781\"/>\n",
       "  <use xlink:href=\"#glyph1-1\" x=\"41.761719\" y=\"391.054688\"/>\n",
       "</g>\n",
       "<g style=\"fill:rgb(0%,0%,0%);fill-opacity:1;\">\n",
       "  <use xlink:href=\"#glyph1-2\" x=\"41.761719\" y=\"297.984375\"/>\n",
       "</g>\n",
       "<g style=\"fill:rgb(0%,0%,0%);fill-opacity:1;\">\n",
       "  <use xlink:href=\"#glyph1-1\" x=\"41.761719\" y=\"202.917969\"/>\n",
       "</g>\n",
       "<g style=\"fill:rgb(0%,0%,0%);fill-opacity:1;\">\n",
       "  <use xlink:href=\"#glyph1-3\" x=\"41.761719\" y=\"107.851563\"/>\n",
       "</g>\n",
       "<g style=\"fill:rgb(0%,0%,0%);fill-opacity:1;\">\n",
       "  <use xlink:href=\"#glyph2-0\" x=\"127.152344\" y=\"34.675781\"/>\n",
       "  <use xlink:href=\"#glyph2-1\" x=\"131.153125\" y=\"34.675781\"/>\n",
       "  <use xlink:href=\"#glyph2-2\" x=\"139.949219\" y=\"34.675781\"/>\n",
       "  <use xlink:href=\"#glyph2-3\" x=\"144.744531\" y=\"34.675781\"/>\n",
       "  <use xlink:href=\"#glyph2-4\" x=\"152.753125\" y=\"34.675781\"/>\n",
       "  <use xlink:href=\"#glyph2-5\" x=\"158.357031\" y=\"34.675781\"/>\n",
       "  <use xlink:href=\"#glyph2-6\" x=\"166.365625\" y=\"34.675781\"/>\n",
       "  <use xlink:href=\"#glyph2-7\" x=\"174.374219\" y=\"34.675781\"/>\n",
       "  <use xlink:href=\"#glyph2-8\" x=\"178.375\" y=\"34.675781\"/>\n",
       "  <use xlink:href=\"#glyph2-9\" x=\"186.383594\" y=\"34.675781\"/>\n",
       "  <use xlink:href=\"#glyph2-10\" x=\"190.384375\" y=\"34.675781\"/>\n",
       "  <use xlink:href=\"#glyph2-6\" x=\"199.180469\" y=\"34.675781\"/>\n",
       "  <use xlink:href=\"#glyph2-8\" x=\"207.189062\" y=\"34.675781\"/>\n",
       "  <use xlink:href=\"#glyph2-3\" x=\"215.197656\" y=\"34.675781\"/>\n",
       "  <use xlink:href=\"#glyph2-11\" x=\"223.20625\" y=\"34.675781\"/>\n",
       "  <use xlink:href=\"#glyph2-9\" x=\"232.002344\" y=\"34.675781\"/>\n",
       "  <use xlink:href=\"#glyph2-12\" x=\"236.003125\" y=\"34.675781\"/>\n",
       "  <use xlink:href=\"#glyph2-1\" x=\"244.799219\" y=\"34.675781\"/>\n",
       "  <use xlink:href=\"#glyph2-9\" x=\"253.595312\" y=\"34.675781\"/>\n",
       "  <use xlink:href=\"#glyph2-13\" x=\"257.596094\" y=\"34.675781\"/>\n",
       "  <use xlink:href=\"#glyph2-14\" x=\"266.392187\" y=\"34.675781\"/>\n",
       "  <use xlink:href=\"#glyph2-6\" x=\"275.188281\" y=\"34.675781\"/>\n",
       "  <use xlink:href=\"#glyph2-8\" x=\"283.196875\" y=\"34.675781\"/>\n",
       "  <use xlink:href=\"#glyph2-15\" x=\"291.205469\" y=\"34.675781\"/>\n",
       "  <use xlink:href=\"#glyph2-9\" x=\"295.20625\" y=\"34.675781\"/>\n",
       "  <use xlink:href=\"#glyph2-8\" x=\"299.207031\" y=\"34.675781\"/>\n",
       "  <use xlink:href=\"#glyph2-2\" x=\"307.215625\" y=\"34.675781\"/>\n",
       "  <use xlink:href=\"#glyph2-6\" x=\"312.010937\" y=\"34.675781\"/>\n",
       "  <use xlink:href=\"#glyph2-1\" x=\"320.019531\" y=\"34.675781\"/>\n",
       "  <use xlink:href=\"#glyph2-11\" x=\"328.815625\" y=\"34.675781\"/>\n",
       "  <use xlink:href=\"#glyph2-6\" x=\"337.611719\" y=\"34.675781\"/>\n",
       "  <use xlink:href=\"#glyph2-4\" x=\"345.620312\" y=\"34.675781\"/>\n",
       "  <use xlink:href=\"#glyph2-11\" x=\"351.224219\" y=\"34.675781\"/>\n",
       "  <use xlink:href=\"#glyph2-9\" x=\"360.020312\" y=\"34.675781\"/>\n",
       "  <use xlink:href=\"#glyph2-3\" x=\"364.021094\" y=\"34.675781\"/>\n",
       "  <use xlink:href=\"#glyph2-4\" x=\"372.029687\" y=\"34.675781\"/>\n",
       "  <use xlink:href=\"#glyph2-4\" x=\"377.633594\" y=\"34.675781\"/>\n",
       "  <use xlink:href=\"#glyph2-12\" x=\"383.2375\" y=\"34.675781\"/>\n",
       "  <use xlink:href=\"#glyph2-4\" x=\"392.033594\" y=\"34.675781\"/>\n",
       "  <use xlink:href=\"#glyph2-8\" x=\"397.6375\" y=\"34.675781\"/>\n",
       "</g>\n",
       "<g style=\"fill:rgb(0%,0%,0%);fill-opacity:1;\">\n",
       "  <use xlink:href=\"#glyph0-6\" x=\"228.046875\" y=\"485.28125\"/>\n",
       "  <use xlink:href=\"#glyph0-7\" x=\"231.380859\" y=\"485.28125\"/>\n",
       "  <use xlink:href=\"#glyph0-8\" x=\"238.054688\" y=\"485.28125\"/>\n",
       "  <use xlink:href=\"#glyph0-9\" x=\"244.054688\" y=\"485.28125\"/>\n",
       "  <use xlink:href=\"#glyph0-10\" x=\"247.388672\" y=\"485.28125\"/>\n",
       "  <use xlink:href=\"#glyph0-11\" x=\"254.0625\" y=\"485.28125\"/>\n",
       "  <use xlink:href=\"#glyph0-12\" x=\"258.058594\" y=\"485.28125\"/>\n",
       "  <use xlink:href=\"#glyph0-13\" x=\"262.054688\" y=\"485.28125\"/>\n",
       "  <use xlink:href=\"#glyph0-9\" x=\"268.728516\" y=\"485.28125\"/>\n",
       "  <use xlink:href=\"#glyph0-14\" x=\"272.0625\" y=\"485.28125\"/>\n",
       "  <use xlink:href=\"#glyph0-15\" x=\"278.736328\" y=\"485.28125\"/>\n",
       "  <use xlink:href=\"#glyph0-16\" x=\"285.410156\" y=\"485.28125\"/>\n",
       "  <use xlink:href=\"#glyph0-8\" x=\"288.076172\" y=\"485.28125\"/>\n",
       "  <use xlink:href=\"#glyph0-2\" x=\"294.076172\" y=\"485.28125\"/>\n",
       "  <use xlink:href=\"#glyph0-17\" x=\"300.75\" y=\"485.28125\"/>\n",
       "</g>\n",
       "<g style=\"fill:rgb(0%,0%,0%);fill-opacity:1;\">\n",
       "  <use xlink:href=\"#glyph1-4\" x=\"12.960938\" y=\"267.476563\"/>\n",
       "  <use xlink:href=\"#glyph1-5\" x=\"12.960938\" y=\"260.802734\"/>\n",
       "  <use xlink:href=\"#glyph1-6\" x=\"12.960938\" y=\"254.802734\"/>\n",
       "  <use xlink:href=\"#glyph1-7\" x=\"12.960938\" y=\"251.46875\"/>\n",
       "  <use xlink:href=\"#glyph1-8\" x=\"12.960938\" y=\"248.802734\"/>\n",
       "  <use xlink:href=\"#glyph1-9\" x=\"12.960938\" y=\"238.806641\"/>\n",
       "  <use xlink:href=\"#glyph1-6\" x=\"12.960938\" y=\"232.132813\"/>\n",
       "  <use xlink:href=\"#glyph1-4\" x=\"12.960938\" y=\"228.798828\"/>\n",
       "</g>\n",
       "<path style=\"fill:none;stroke-width:0.75;stroke-linecap:round;stroke-linejoin:round;stroke:rgb(0%,0%,0%);stroke-opacity:1;stroke-miterlimit:10;\" d=\"M 59.039063 430.558594 L 473.761719 430.558594 L 473.761719 59.039063 L 59.039063 59.039063 L 59.039063 430.558594 \"/>\n",
       "<g clip-path=\"url(#clip1)\" clip-rule=\"nonzero\">\n",
       "<path style=\"fill:none;stroke-width:0.75;stroke-linecap:round;stroke-linejoin:round;stroke:rgb(0%,0%,0%);stroke-opacity:1;stroke-miterlimit:10;\" d=\"M 109.101563 294.648438 C 109.101563 298.25 103.699219 298.25 103.699219 294.648438 C 103.699219 291.050781 109.101563 291.050781 109.101563 294.648438 \"/>\n",
       "<path style=\"fill:none;stroke-width:0.75;stroke-linecap:round;stroke-linejoin:round;stroke:rgb(0%,0%,0%);stroke-opacity:1;stroke-miterlimit:10;\" d=\"M 173.101563 165.4375 C 173.101563 169.039063 167.699219 169.039063 167.699219 165.4375 C 167.699219 161.835938 173.101563 161.835938 173.101563 165.4375 \"/>\n",
       "<path style=\"fill:none;stroke-width:0.75;stroke-linecap:round;stroke-linejoin:round;stroke:rgb(0%,0%,0%);stroke-opacity:1;stroke-miterlimit:10;\" d=\"M 237.101563 254.464844 C 237.101563 258.0625 231.699219 258.0625 231.699219 254.464844 C 231.699219 250.863281 237.101563 250.863281 237.101563 254.464844 \"/>\n",
       "<path style=\"fill:none;stroke-width:0.75;stroke-linecap:round;stroke-linejoin:round;stroke:rgb(0%,0%,0%);stroke-opacity:1;stroke-miterlimit:10;\" d=\"M 301.101563 282.953125 C 301.101563 286.554688 295.699219 286.554688 295.699219 282.953125 C 295.699219 279.355469 301.101563 279.355469 301.101563 282.953125 \"/>\n",
       "<path style=\"fill:none;stroke-width:0.75;stroke-linecap:round;stroke-linejoin:round;stroke:rgb(0%,0%,0%);stroke-opacity:1;stroke-miterlimit:10;\" d=\"M 365.101563 305.277344 C 365.101563 308.875 359.699219 308.875 359.699219 305.277344 C 359.699219 301.675781 365.101563 301.675781 365.101563 305.277344 \"/>\n",
       "<path style=\"fill:none;stroke-width:0.75;stroke-linecap:round;stroke-linejoin:round;stroke:rgb(0%,0%,0%);stroke-opacity:1;stroke-miterlimit:10;\" d=\"M 429.101563 355.789063 C 429.101563 359.390625 423.699219 359.390625 423.699219 355.789063 C 423.699219 352.191406 429.101563 352.191406 429.101563 355.789063 \"/>\n",
       "<path style=\"fill:none;stroke-width:0.75;stroke-linecap:round;stroke-linejoin:round;stroke:rgb(0%,0%,0%);stroke-opacity:1;stroke-miterlimit:10;\" d=\"M 106.398438 298.515625 L 106.398438 290.78125 \"/>\n",
       "<path style=\"fill:none;stroke-width:0.75;stroke-linecap:round;stroke-linejoin:round;stroke:rgb(0%,0%,0%);stroke-opacity:1;stroke-miterlimit:10;\" d=\"M 170.398438 229.410156 L 170.398438 101.464844 \"/>\n",
       "<path style=\"fill:none;stroke-width:0.75;stroke-linecap:round;stroke-linejoin:round;stroke:rgb(0%,0%,0%);stroke-opacity:1;stroke-miterlimit:10;\" d=\"M 234.398438 277.304688 L 234.398438 231.621094 \"/>\n",
       "<path style=\"fill:none;stroke-width:0.75;stroke-linecap:round;stroke-linejoin:round;stroke:rgb(0%,0%,0%);stroke-opacity:1;stroke-miterlimit:10;\" d=\"M 298.398438 339.949219 L 298.398438 225.957031 \"/>\n",
       "<path style=\"fill:none;stroke-width:0.75;stroke-linecap:round;stroke-linejoin:round;stroke:rgb(0%,0%,0%);stroke-opacity:1;stroke-miterlimit:10;\" d=\"M 362.398438 338.761719 L 362.398438 271.789063 \"/>\n",
       "<path style=\"fill:none;stroke-width:0.75;stroke-linecap:round;stroke-linejoin:round;stroke:rgb(0%,0%,0%);stroke-opacity:1;stroke-miterlimit:10;\" d=\"M 426.398438 388.132813 L 426.398438 323.449219 \"/>\n",
       "</g>\n",
       "</g>\n",
       "</svg>\n"
      ],
      "text/plain": [
       "Plot with title \"Intervals based on quasi standard errors\""
      ]
     },
     "metadata": {
      "image/svg+xml": {
       "isolated": true
      }
     },
     "output_type": "display_data"
    }
   ],
   "source": [
    "plot(model5.qvs)"
   ]
  },
  {
   "cell_type": "markdown",
   "metadata": {},
   "source": [
    "The levels for factor(ethnic3)\n",
    "\n",
    "1. White <br>\n",
    "2. Chinese <br>\n",
    "3. Indian <br>\n",
    "4. Banglasdeshi<br>\n",
    "5. Pakistani <br>\n",
    "6. Black<br>\n",
    "\n",
    "(Others are absent from the model)\n"
   ]
  },
  {
   "cell_type": "markdown",
   "metadata": {},
   "source": [
    "__Comments__\n",
    "\n",
    "The results have been __duplicated__ and then built upon. These results are a __replication__.\n",
    "\n",
    "The model is improved by using 'White' pupils as the reference category. This is a large category and there is a small comparison interval around the estimate.\n",
    "\n",
    "The model also tells a more theoretically useful substantive story. The use of quasi-variance based comparison intervals allows a more subtle investigation of the differences between ethnic groups.\n",
    "\n",
    "There are some ethnic differences in school GCSE outcomes (5+ GCSEs at grades A - C).\n",
    "\n",
    "Compared with the majority of pupils who are white, those who are Chinese have better outcomes.\n",
    "\n",
    "Indian pupils perform better than white pupils.\n",
    "\n",
    "Bangladeshi and Pakistani pupils do have significantly different outcomes to white pupils. \n",
    "\n",
    "Black pupils have significantly poorer outcomes than their white counterparts.\n",
    "\n",
    "It is notable that the three south Asian ethnic groups are not significantly different to each other.\n",
    "\n",
    "This hopefully illustrates that this model is better parameterised that the original model presented in Table 5 (p.20) Connolly (2006).\n",
    "\n"
   ]
  },
  {
   "cell_type": "markdown",
   "metadata": {},
   "source": [
    "---"
   ]
  },
  {
   "cell_type": "markdown",
   "metadata": {},
   "source": [
    "__The analyses above have required some more data wrangling. Therefore it is prudent to save a new copy of the data.__"
   ]
  },
  {
   "cell_type": "markdown",
   "metadata": {},
   "source": [
    "I will take a look at the objects that are knocking around."
   ]
  },
  {
   "cell_type": "code",
   "execution_count": 43,
   "metadata": {
    "collapsed": false
   },
   "outputs": [
    {
     "data": {
      "text/html": [
       "<ol class=list-inline>\n",
       "\t<li>\"drive1\"</li>\n",
       "\t<li>\"model2\"</li>\n",
       "\t<li>\"model3\"</li>\n",
       "\t<li>\"model4\"</li>\n",
       "\t<li>\"model4.qvs\"</li>\n",
       "\t<li>\"model5\"</li>\n",
       "\t<li>\"model5.qvs\"</li>\n",
       "\t<li>\"modelnw\"</li>\n",
       "\t<li>\"mydata4.df\"</li>\n",
       "\t<li>\"mydesign2\"</li>\n",
       "\t<li>\"mydesign3\"</li>\n",
       "\t<li>\"mydesign4\"</li>\n",
       "\t<li>\"mytable\"</li>\n",
       "</ol>\n"
      ],
      "text/latex": [
       "\\begin{enumerate*}\n",
       "\\item \"drive1\"\n",
       "\\item \"model2\"\n",
       "\\item \"model3\"\n",
       "\\item \"model4\"\n",
       "\\item \"model4.qvs\"\n",
       "\\item \"model5\"\n",
       "\\item \"model5.qvs\"\n",
       "\\item \"modelnw\"\n",
       "\\item \"mydata4.df\"\n",
       "\\item \"mydesign2\"\n",
       "\\item \"mydesign3\"\n",
       "\\item \"mydesign4\"\n",
       "\\item \"mytable\"\n",
       "\\end{enumerate*}\n"
      ],
      "text/markdown": [
       "1. \"drive1\"\n",
       "2. \"model2\"\n",
       "3. \"model3\"\n",
       "4. \"model4\"\n",
       "5. \"model4.qvs\"\n",
       "6. \"model5\"\n",
       "7. \"model5.qvs\"\n",
       "8. \"modelnw\"\n",
       "9. \"mydata4.df\"\n",
       "10. \"mydesign2\"\n",
       "11. \"mydesign3\"\n",
       "12. \"mydesign4\"\n",
       "13. \"mytable\"\n",
       "\n",
       "\n"
      ],
      "text/plain": [
       " [1] \"drive1\"     \"model2\"     \"model3\"     \"model4\"     \"model4.qvs\"\n",
       " [6] \"model5\"     \"model5.qvs\" \"modelnw\"    \"mydata4.df\" \"mydesign2\" \n",
       "[11] \"mydesign3\"  \"mydesign4\"  \"mytable\"   "
      ]
     },
     "execution_count": 43,
     "metadata": {},
     "output_type": "execute_result"
    }
   ],
   "source": [
    "ls()"
   ]
  },
  {
   "cell_type": "markdown",
   "metadata": {},
   "source": [
    "To avoid confusion later and to help to keep the workflow clear I will create a new data frame \"mydata5.df\"."
   ]
  },
  {
   "cell_type": "code",
   "execution_count": 44,
   "metadata": {
    "collapsed": false
   },
   "outputs": [
    {
     "name": "stdout",
     "output_type": "stream",
     "text": [
      "'data.frame':\t12789 obs. of  27 variables:\n",
      " $ serial      : int  200001 200004 200005 200006 200014 200023 200024 200025 200032 200035 ...\n",
      " $ weight      : num  0.875 0.976 0.976 0.976 0.959 ...\n",
      " $ sex         : Factor w/ 4 levels \"not answered (9)\",..: 4 3 3 3 4 3 4 3 4 4 ...\n",
      " $ s1a_c       : int  9 9 9 9 2 2 7 3 10 1 ...\n",
      " $ a58         : Factor w/ 15 levels \"not answered (99)\",..: 4 4 8 4 4 4 4 4 4 4 ...\n",
      " $ s1eth       : Factor w/ 9 levels \"not answered (9)\",..: 5 5 7 5 5 5 5 5 5 5 ...\n",
      " $ s1acqe      : Factor w/ 9 levels \"not answered (9)\",..: 5 5 5 5 6 6 5 6 5 6 ...\n",
      " $ pseg        : int  0 0 0 0 0 0 0 0 0 0 ...\n",
      " $ prof_man    : int  1 0 0 0 0 1 0 1 0 0 ...\n",
      " $ o_non_man   : int  0 1 0 1 0 0 0 0 1 0 ...\n",
      " $ skilled_man : int  0 0 1 0 1 0 1 0 0 1 ...\n",
      " $ semi_skilled: int  0 0 0 0 0 0 0 0 0 0 ...\n",
      " $ pseg5       : int  0 0 0 0 0 0 0 0 0 0 ...\n",
      " $ pseg6       : int  0 0 0 0 0 0 0 0 0 0 ...\n",
      " $ pseg7       : int  0 0 0 0 0 0 0 0 0 0 ...\n",
      " $ s15a_c      : num  1 1 1 1 0 0 1 0 1 0 ...\n",
      " $ girls       : num  1 0 0 0 1 0 1 0 1 1 ...\n",
      " $ ethnic1     : Factor w/ 6 levels \"1\",\"2\",\"3\",\"4\",..: 1 1 3 1 1 1 1 1 1 1 ...\n",
      " $ white       : num  1 1 0 1 1 1 1 1 1 1 ...\n",
      " $ black       : num  0 0 0 0 0 0 0 0 0 0 ...\n",
      " $ indian      : num  0 0 1 0 0 0 0 0 0 0 ...\n",
      " $ pakistani   : num  0 0 0 0 0 0 0 0 0 0 ...\n",
      " $ bangladeshi : num  0 0 0 0 0 0 0 0 0 0 ...\n",
      " $ chinese     : num  0 0 0 0 0 0 0 0 0 0 ...\n",
      " $ other       : num  0 0 0 0 0 0 0 0 0 0 ...\n",
      " $ ethnic2     : num  4 4 3 4 4 4 4 4 4 4 ...\n",
      " $ ethnic3     : num  1 1 3 1 1 1 1 1 1 1 ...\n"
     ]
    }
   ],
   "source": [
    "mydata5.df<-mydata4.df\n",
    "str(mydata5.df)"
   ]
  },
  {
   "cell_type": "code",
   "execution_count": 45,
   "metadata": {
    "collapsed": true
   },
   "outputs": [],
   "source": [
    "save(mydata5.df,file=\"ycs9sw1_v3.rda\")"
   ]
  },
  {
   "cell_type": "markdown",
   "metadata": {},
   "source": [
    "Here I make a Stata copy of the file just in case I required it for _swivel chair_ activities later in the workflow."
   ]
  },
  {
   "cell_type": "code",
   "execution_count": 46,
   "metadata": {
    "collapsed": true
   },
   "outputs": [],
   "source": [
    "write.dta(mydata5.df, \"ycs9sw1_v3.dta\")"
   ]
  },
  {
   "cell_type": "markdown",
   "metadata": {
    "collapsed": true
   },
   "source": [
    "---"
   ]
  },
  {
   "cell_type": "markdown",
   "metadata": {
    "collapsed": true
   },
   "source": [
    "\n",
    "## Replicating the Connolly (2006) Model Results Adding an Improved Social Class Measure (UK National Socio-economic Classification - NS-SEC)\n",
    " <a class=\"anchor\" id=\"nssec\"></a>"
   ]
  },
  {
   "cell_type": "markdown",
   "metadata": {},
   "source": [
    "In this next stage of the analysis I will explore importing an additional social class measure.\n",
    "\n",
    "The measure of social class that is employed in Table 5 (p.20) Connelly (2006) is unconventional in social stratification research.\n",
    "\n",
    "The National Socio-economic Classification (NS-SEC) is a commonly used measure in stratification research and is the measure used in official statistics and government research in the United Kingdom.\n",
    "\n",
    "In the next stage of the analysis I replicate the analysis of school GCSE attainment using YCS Cohort 9 through the incorporation of a parental NS-SEC measure that was derrived by Croxford et al (2007).\n",
    "\n",
    "---\n"
   ]
  },
  {
   "cell_type": "markdown",
   "metadata": {},
   "source": [
    "\n",
    "#### Youth Cohort Time Series for England, Wales and Scotland, 1984-2002  UK Data Archive Study 5765 ####\n",
    "https://discover.ukdataservice.ac.uk/catalogue/?sn=5765 <br>\n",
    "\n",
    "The Education and Youth Transitions project (EYT) was funded by the ESRC from 2003 to 2006. <br>\n",
    "A key part of the project was to create comparable time-series datasets for England,\n",
    "Wales and Scotland from the Youth Cohort Study (YCS) and Scottish School Leavers Survey\n",
    "(SSLS).\n",
    "\n",
    "__Downloaded__: UK Data Service https://www.ukdataservice.ac.uk/ <br>\n",
    "__Date__: 23rd June 2017 <br>\n",
    "__Time__: 00:17\n",
    "\n",
    "\n",
    "Croxford, L., Iannelli, C., Shapira, M. (2007). Youth Cohort Time Series for England, Wales and Scotland, 1984-2002. [data collection]. National Centre for Social Research, Scottish Centre for Social Research, University of Edinburgh. Centre for Educational Sociology, [original data producer(s)]. UK Data Service. SN: 5765, http://doi.org/10.5255/UKDA-SN-5765-1\n"
   ]
  },
  {
   "cell_type": "markdown",
   "metadata": {},
   "source": [
    "---"
   ]
  },
  {
   "cell_type": "markdown",
   "metadata": {},
   "source": [
    "<font color=red>Warning</font>.\n",
    "\n",
    "Within this Jupyter notebook there has been a lot of non-routine work. For example I have 'swivel-chaired' between data analytical software packages and changed kernels.\n",
    "\n",
    "It may from time to time be necessary to re-start the notebook depending on how stable your computing environment is.\n",
    "\n",
    "In this section I re-start a _R_ session."
   ]
  },
  {
   "cell_type": "markdown",
   "metadata": {
    "collapsed": true
   },
   "source": [
    "---"
   ]
  },
  {
   "cell_type": "code",
   "execution_count": 53,
   "metadata": {
    "collapsed": false
   },
   "outputs": [],
   "source": [
    "library(foreign)\n",
    "library(survey)\n",
    "library(car)\n",
    "library(dplyr)\n",
    "library(weights)\n",
    "library(dummies)\n",
    "\n",
    "library(MASS)\n",
    "library(qvcalc)\n",
    "\n"
   ]
  },
  {
   "cell_type": "code",
   "execution_count": 64,
   "metadata": {
    "collapsed": false
   },
   "outputs": [
    {
     "data": {
      "text/html": [
       "\"\""
      ],
      "text/latex": [
       "\"\""
      ],
      "text/markdown": [
       "\"\""
      ],
      "text/plain": [
       "character(0)"
      ]
     },
     "execution_count": 64,
     "metadata": {},
     "output_type": "execute_result"
    }
   ],
   "source": [
    "# Here I will clean up my workspace\n",
    "\n",
    "rm(list = ls(all = TRUE))\n",
    "ls()"
   ]
  },
  {
   "cell_type": "code",
   "execution_count": 65,
   "metadata": {
    "collapsed": false
   },
   "outputs": [
    {
     "data": {
      "text/html": [
       "\"C:/Users/Vernon/OneDrive - University of Edinburgh/Documents/ycs_9_2017\""
      ],
      "text/latex": [
       "\"C:/Users/Vernon/OneDrive - University of Edinburgh/Documents/ycs_9_2017\""
      ],
      "text/markdown": [
       "\"C:/Users/Vernon/OneDrive - University of Edinburgh/Documents/ycs_9_2017\""
      ],
      "text/plain": [
       "[1] \"C:/Users/Vernon/OneDrive - University of Edinburgh/Documents/ycs_9_2017\""
      ]
     },
     "execution_count": 65,
     "metadata": {},
     "output_type": "execute_result"
    },
    {
     "data": {
      "text/html": [
       "\"C:/Users/Vernon/OneDrive - University of Edinburgh/Documents/ycs_9_2017\""
      ],
      "text/latex": [
       "\"C:/Users/Vernon/OneDrive - University of Edinburgh/Documents/ycs_9_2017\""
      ],
      "text/markdown": [
       "\"C:/Users/Vernon/OneDrive - University of Edinburgh/Documents/ycs_9_2017\""
      ],
      "text/plain": [
       "[1] \"C:/Users/Vernon/OneDrive - University of Edinburgh/Documents/ycs_9_2017\""
      ]
     },
     "execution_count": 65,
     "metadata": {},
     "output_type": "execute_result"
    },
    {
     "data": {
      "text/html": [
       "<ol class=list-inline>\n",
       "\t<li>\"drive1\"</li>\n",
       "\t<li>\"drive2\"</li>\n",
       "</ol>\n"
      ],
      "text/latex": [
       "\\begin{enumerate*}\n",
       "\\item \"drive1\"\n",
       "\\item \"drive2\"\n",
       "\\end{enumerate*}\n"
      ],
      "text/markdown": [
       "1. \"drive1\"\n",
       "2. \"drive2\"\n",
       "\n",
       "\n"
      ],
      "text/plain": [
       "[1] \"drive1\" \"drive2\""
      ]
     },
     "execution_count": 65,
     "metadata": {},
     "output_type": "execute_result"
    }
   ],
   "source": [
    "# Re-setting my working directory\n",
    "getwd() \n",
    "drive1 <- \"C:/Users/Vernon/OneDrive - University of Edinburgh/Documents/ycs_9_2017/UKDA-4009-stata8/stata8/\"\n",
    "# I am also going to require a different location i.e. not drive1 but drive2\n",
    "drive2 <- \"C:/Users/Vernon/OneDrive - University of Edinburgh/Documents/ycs_9_2017\"\n",
    "setwd(drive2) \n",
    "getwd()\n",
    "ls()"
   ]
  },
  {
   "cell_type": "markdown",
   "metadata": {},
   "source": [
    "Various <span style=\"color:red\"> WARNINGS</span> will appear. Don't panic."
   ]
  },
  {
   "cell_type": "markdown",
   "metadata": {},
   "source": [
    "From the Youth Cohort Time Series for England, Wales and Scotland, 1984-2002  UK Data Archive Study 5765, I will import a file called \"ew_core\". This is the core file containing pupils in\tEngland and Wales."
   ]
  },
  {
   "cell_type": "code",
   "execution_count": 66,
   "metadata": {
    "collapsed": false,
    "scrolled": false
   },
   "outputs": [],
   "source": [
    "# This file is located on (my) OneDrive but in a different location\n",
    "\n",
    "mydataew.df <- read.dta(\"ew_core.dta\")\n"
   ]
  },
  {
   "cell_type": "code",
   "execution_count": 67,
   "metadata": {
    "collapsed": false
   },
   "outputs": [
    {
     "data": {
      "text/plain": [
       "    t0cohort        t0nation         t0caseid           t0source        \n",
       " Min.   :1984   england :107922   Min.   :   100001   Length:115179     \n",
       " 1st Qu.:1988   wales   :  7257   1st Qu.:   131432   Class :character  \n",
       " Median :1993   scotland:     0   Median :228404103   Mode  :character  \n",
       " Mean   :1992                     Mean   :339926553                     \n",
       " 3rd Qu.:1995                     3rd Qu.:680400520                     \n",
       " Max.   :1999                     Max.   :996602914                     \n",
       "                                                                        \n",
       "    t1weight         t2weight        t3weight                 t1resp      \n",
       " Min.   :0.1011   Min.   :-1.00   Min.   :-1.00   did not respond:     0  \n",
       " 1st Qu.:0.7269   1st Qu.: 0.63   1st Qu.: 0.53   respondent     :115179  \n",
       " Median :0.9122   Median : 0.82   Median : 0.72                           \n",
       " Mean   :1.0000   Mean   : 0.92   Mean   : 0.83                           \n",
       " 3rd Qu.:1.1777   3rd Qu.: 1.15   3rd Qu.: 1.07                           \n",
       " Max.   :3.8550   Max.   : 6.09   Max.   : 8.29                           \n",
       "                  NA's   :63671   NA's   :42871                           \n",
       "             t2resp                  t3resp         t0schtyp      \n",
       " no survey at t2:47618   did not respond:52334   Min.   :  1.000  \n",
       " did not respond:18042   respondent     :62845   1st Qu.:  2.000  \n",
       " respondent     :49519                           Median :  3.000  \n",
       "                                                 Mean   :  3.195  \n",
       "                                                 3rd Qu.:  3.000  \n",
       "                                                 Max.   :999.000  \n",
       "                                                                  \n",
       "                 t0sex                     t0stay          t0sibs      \n",
       " not answered (9)   :    0   not answered     : 1481   Min.   :-9.000  \n",
       " item not applicable:    0   none             :    0   1st Qu.: 1.000  \n",
       " male               :54396   father and mother:93404   Median : 1.000  \n",
       " female             :60783   mother only      :14220   Mean   : 1.364  \n",
       "                             father only      : 3022   3rd Qu.: 2.000  \n",
       "                             other response   : 3052   Max.   :23.000  \n",
       "                                                                       \n",
       "           t0ethnic              t0house                t0dadpce    \n",
       " white         :101695   not answered: 2137   not answered  :10847  \n",
       " indian        :  2612   owned       :78293   yes           :16920  \n",
       " not answered  :  2046   rented      :18826   no            :34913  \n",
       " survey problem:  1989   other       : 1807   other response:14111  \n",
       " pakistani     :  1738   NA's        :14116   NA's          :38388  \n",
       " other response:  1715                                              \n",
       " (Other)       :  3384                                              \n",
       "           t0mumpce               t0dadalv               t0mumalv    \n",
       " not answered  : 8624   not answered  :10847   not answered  : 8624  \n",
       " yes           :15815   yes           :16920   yes           :15815  \n",
       " no            :38718   no            :34913   no            :38718  \n",
       " other response:13634   other response:14111   other response:13634  \n",
       " NA's          :38388   NA's          :38388   NA's          :38388  \n",
       "                                                                     \n",
       "                                                                     \n",
       "           t0daddeg               t0mumdeg                    t0dadjob    \n",
       " not answered  :13278   not answered  :11654   not answered (9)   : 9867  \n",
       " yes           :12862   yes           : 8826   item not applicable:    0  \n",
       " no            :39142   no            :44957   yes                :89865  \n",
       " other response:11509   other response:11354   no                 :15447  \n",
       " NA's          :38388   NA's          :38388                              \n",
       "                                                                          \n",
       "                                                                          \n",
       "                t0mumjob                           t0truant    \n",
       " not answered (9)   : 6003   not answered              : 1539  \n",
       " item not applicable:    0   weeks at a time           : 2025  \n",
       " yes                :55195   days at a time            : 2473  \n",
       " no                 :53981   occasional days or lessons:43961  \n",
       "                             never                     :65181  \n",
       "                                                               \n",
       "                                                               \n",
       "                 t1att1                      t1att2     \n",
       " not answered (9)   : 3241   not answered (9)   : 3588  \n",
       " item not applicable:    0   item not applicable:    0  \n",
       " agree              :62450   agree              :40737  \n",
       " disagree           :33589   disagree           :54955  \n",
       " NA's               :15899   NA's               :15899  \n",
       "                                                        \n",
       "                                                        \n",
       "                 t1att3                  t0region        t0dadsoc    \n",
       " not answered (9)   : 3658   other south east:24608   Min.   : -9.0  \n",
       " item not applicable:    0   north west      :14674   1st Qu.:126.0  \n",
       " agree              :61018   west midlands   :12439   Median :331.0  \n",
       " disagree           :34604   yorks & humber  :11942   Mean   :375.5  \n",
       " NA's               :15899   greater london  :11528   3rd Qu.:570.0  \n",
       "                             (Other)         :39986   Max.   :999.0  \n",
       "                             NA's            :    2   NA's   :30324  \n",
       "    t0mumsoc        t0examst         t0examac         t0examaf     \n",
       " Min.   : -9.0   Min.   :-9.000   Min.   :-9.000   Min.   :-9.000  \n",
       " 1st Qu.: -9.0   1st Qu.: 7.000   1st Qu.: 1.000   1st Qu.: 6.000  \n",
       " Median :390.0   Median : 8.000   Median : 4.000   Median : 8.000  \n",
       " Mean   :374.3   Mean   : 7.906   Mean   : 4.256   Mean   : 6.918  \n",
       " 3rd Qu.:644.0   3rd Qu.: 9.000   3rd Qu.: 8.000   3rd Qu.: 9.000  \n",
       " Max.   :999.0   Max.   :18.000   Max.   :16.000   Max.   :16.000  \n",
       " NA's   :30324                                                     \n",
       "    t0score          t0vocsbj       t0vocpas       t0othsbj     \n",
       " Min.   : -9.00   Min.   :0.00   Min.   :0.00   Min.   :0.0000  \n",
       " 1st Qu.: 21.00   1st Qu.:0.00   1st Qu.:0.00   1st Qu.:0.0000  \n",
       " Median : 36.00   Median :0.00   Median :0.00   Median :0.0000  \n",
       " Mean   : 34.77   Mean   :0.13   Mean   :0.12   Mean   :0.1138  \n",
       " 3rd Qu.: 50.00   3rd Qu.:0.00   3rd Qu.:0.00   3rd Qu.:0.0000  \n",
       " Max.   :112.00   Max.   :8.00   Max.   :8.00   Max.   :8.0000  \n",
       "                  NA's   :8064   NA's   :8064                   \n",
       "    t0othpas          t1dooct          t1donow           t0age      \n",
       " Min.   :0.00000   Min.   :-9.000   Min.   :-9.000   Min.   :-9.00  \n",
       " 1st Qu.:0.00000   1st Qu.: 1.000   1st Qu.: 1.000   1st Qu.:16.00  \n",
       " Median :0.00000   Median : 3.000   Median : 3.000   Median :16.25  \n",
       " Mean   :0.09774   Mean   : 3.049   Mean   : 3.176   Mean   :15.85  \n",
       " 3rd Qu.:0.00000   3rd Qu.: 5.000   3rd Qu.: 5.000   3rd Qu.:16.50  \n",
       " Max.   :8.00000   Max.   :10.000   Max.   :10.000   Max.   :16.75  \n",
       "                                                     NA's   :3      \n",
       "                t0dadse                     t0mumse     \n",
       " not answered (9)   :14725   not answered (9)   :21914  \n",
       " item not applicable: 3889   item not applicable: 3889  \n",
       " yes                :23196   yes                : 8972  \n",
       " no                 :73369   no                 :80404  \n",
       "                                                        \n",
       "                                                        \n",
       "                                                        \n",
       "                    t0gor                           t0urban     \n",
       " south east            :24602   not urban (lt 90%)      :57844  \n",
       " north west            :16553   urban area not in top 10:26023  \n",
       " west midlands         :12439   greater london          :11528  \n",
       " yorkshire & humberside:11648   west midlands ua        : 5417  \n",
       " london                :11528   greater manchester      : 5051  \n",
       " (Other)               :38407   (Other)                 : 9314  \n",
       " NA's                  :    2   NA's                    :    2  \n",
       "    t0mumsec        t0dadsec        t0parsec        t0dadsc4    \n",
       " Min.   : 1.10   Min.   : 1.10   Min.   : 1.10   Min.   :  1.0  \n",
       " 1st Qu.: 3.00   1st Qu.: 2.00   1st Qu.: 2.00   1st Qu.:  1.0  \n",
       " Median : 6.00   Median : 4.00   Median : 3.00   Median :  2.0  \n",
       " Mean   :30.04   Mean   :22.26   Mean   :14.03   Mean   : 54.1  \n",
       " 3rd Qu.:99.00   3rd Qu.: 7.00   3rd Qu.: 6.00   3rd Qu.:  3.0  \n",
       " Max.   :99.00   Max.   :99.00   Max.   :99.00   Max.   :999.0  \n",
       " NA's   :38388   NA's   :38388   NA's   :38388                  \n",
       "    t0mumsc4         t0parsc4         t0monthb       t3alev     \n",
       " Min.   :  1.00   Min.   :  1.00   Min.   : 0.000   no  :84329  \n",
       " 1st Qu.:  2.00   1st Qu.:  1.00   1st Qu.: 3.000   yes :22786  \n",
       " Median :  3.00   Median :  2.00   Median : 6.000   NA's: 8064  \n",
       " Mean   : 62.62   Mean   : 45.91   Mean   : 6.332               \n",
       " 3rd Qu.: 99.00   3rd Qu.:  3.00   3rd Qu.: 9.000               \n",
       " Max.   :999.00   Max.   :999.00   Max.   :99.000               \n",
       "                                   NA's   :2                    \n",
       "    t3nqf_a         t3_ucas          t3uscore        t3lev3       t3twoa     \n",
       " Min.   :0.000   Min.   :  0.00   Min.   :   0.00   no  :83834   no  :87006  \n",
       " 1st Qu.:0.000   1st Qu.:  0.00   1st Qu.:   0.00   yes :23281   yes :20109  \n",
       " Median :0.000   Median :  0.00   Median :   0.00   NA's: 8064   NA's: 8064  \n",
       " Mean   :0.765   Mean   : 53.03   Mean   :  57.91                            \n",
       " 3rd Qu.:2.000   3rd Qu.:  0.00   3rd Qu.:  38.00                            \n",
       " Max.   :3.000   Max.   :990.00   Max.   :1008.00                            \n",
       " NA's   :8064    NA's   :8064     NA's   :8064                               \n",
       "    t3nowed                                             t3nowhe     \n",
       " Min.   :-9.0    missing information                        : 1539  \n",
       " 1st Qu.: 0.0    no, in he but in other non-advanced cources:44591  \n",
       " Median : 0.0    yes, in he                                 :16715  \n",
       " Mean   : 0.4    NA's                                       :52334  \n",
       " 3rd Qu.: 1.0                                                       \n",
       " Max.   : 1.0                                                       \n",
       " NA's   :52334                                                      \n",
       "                                             t3degree    \n",
       " missing information                             :    0  \n",
       " no, studying for a non-advanced qualification   :46080  \n",
       " yes, studying for a degree                      :15226  \n",
       " no, studying for another advanced non-university:    0  \n",
       " NA's                                            :53873  \n",
       "                                                         \n",
       "                                                         \n",
       "                          t3dooct                               t3donow     \n",
       " full time education          :24817   full time education          :27674  \n",
       " government supported training: 2385   full time job                :23202  \n",
       " full time job                :22145    unemployed                  : 4244  \n",
       "  unemployed                  : 3778   government supported training: 2229  \n",
       " something else               : 7070   part-time job                : 2206  \n",
       " NA's                         :54984   (Other)                      : 2956  \n",
       "                                       NA's                         :52668  \n",
       "                          t2dooct                               t2donow     \n",
       " full time education          :43886   full time education          :42880  \n",
       " government supported training: 6084   full time job                :12702  \n",
       " full time job                :11721   government supported training: 5549  \n",
       "  unemployed                  : 1907    unemployed                  : 2354  \n",
       " something else               : 1481   part-time job                : 1097  \n",
       " NA's                         :50100   (Other)                      :  888  \n",
       "                                       NA's                         :49709  "
      ]
     },
     "execution_count": 67,
     "metadata": {},
     "output_type": "execute_result"
    }
   ],
   "source": [
    "summary(mydataew.df)"
   ]
  },
  {
   "cell_type": "markdown",
   "metadata": {},
   "source": [
    "To see the summary of the data use the scroll bar to __scroll down__.\n"
   ]
  },
  {
   "cell_type": "code",
   "execution_count": 68,
   "metadata": {
    "collapsed": false
   },
   "outputs": [
    {
     "name": "stdout",
     "output_type": "stream",
     "text": [
      "'data.frame':\t115179 obs. of  66 variables:\n",
      " $ t0cohort: int  1984 1984 1984 1984 1984 1984 1984 1984 1984 1984 ...\n",
      " $ t0nation: Factor w/ 3 levels \"england\",\"wales\",..: 1 1 1 1 1 1 1 1 1 1 ...\n",
      " $ t0caseid: int  301402257 301402259 301402260 301402652 301402654 301402656 301402660 301402661 301402666 301402668 ...\n",
      " $ t0source: chr  \"ycs1\" \"ycs1\" \"ycs1\" \"ycs1\" ...\n",
      " $ t1weight: num  1.25 2.1 1.05 1.61 2.1 ...\n",
      " $ t2weight: num  -1 3.732 0.866 -1 -1 ...\n",
      " $ t3weight: num  -1 3.254 0.802 -1 -1 ...\n",
      " $ t1resp  : Factor w/ 2 levels \"did not respond\",..: 2 2 2 2 2 2 2 2 2 2 ...\n",
      " $ t2resp  : Factor w/ 3 levels \"no survey at t2\",..: 2 3 3 2 2 2 3 3 2 2 ...\n",
      " $ t3resp  : Factor w/ 2 levels \"did not respond\",..: 1 2 2 1 1 1 1 1 1 1 ...\n",
      " $ t0schtyp: int  3 3 3 3 3 3 3 3 3 3 ...\n",
      " $ t0sex   : Factor w/ 4 levels \"not answered (9)\",..: 4 3 4 3 3 4 4 4 3 4 ...\n",
      " $ t0stay  : Factor w/ 6 levels \"not answered\",..: 6 3 3 6 4 3 3 6 3 6 ...\n",
      " $ t0sibs  : int  2 2 1 1 0 1 3 2 2 7 ...\n",
      " $ t0ethnic: Factor w/ 9 levels \"not answered\",..: 2 3 3 2 2 2 9 3 2 2 ...\n",
      " $ t0house : Factor w/ 4 levels \"not answered\",..: 1 2 2 1 3 3 2 2 3 3 ...\n",
      " $ t0dadpce: Factor w/ 4 levels \"not answered\",..: NA NA NA NA NA NA NA NA NA NA ...\n",
      " $ t0mumpce: Factor w/ 4 levels \"not answered\",..: NA NA NA NA NA NA NA NA NA NA ...\n",
      " $ t0dadalv: Factor w/ 4 levels \"not answered\",..: NA NA NA NA NA NA NA NA NA NA ...\n",
      " $ t0mumalv: Factor w/ 4 levels \"not answered\",..: NA NA NA NA NA NA NA NA NA NA ...\n",
      " $ t0daddeg: Factor w/ 4 levels \"not answered\",..: NA NA NA NA NA NA NA NA NA NA ...\n",
      " $ t0mumdeg: Factor w/ 4 levels \"not answered\",..: NA NA NA NA NA NA NA NA NA NA ...\n",
      " $ t0dadjob: Factor w/ 4 levels \"not answered (9)\",..: 3 3 3 1 1 3 3 3 3 3 ...\n",
      " $ t0mumjob: Factor w/ 4 levels \"not answered (9)\",..: 4 4 3 1 3 4 4 4 4 4 ...\n",
      " $ t0truant: Factor w/ 5 levels \"not answered\",..: 4 4 5 5 4 4 3 5 5 5 ...\n",
      " $ t1att1  : Factor w/ 4 levels \"not answered (9)\",..: 4 3 3 4 4 4 3 3 3 3 ...\n",
      " $ t1att2  : Factor w/ 4 levels \"not answered (9)\",..: 4 4 3 3 3 3 4 4 4 4 ...\n",
      " $ t1att3  : Factor w/ 4 levels \"not answered (9)\",..: 3 3 3 4 4 4 3 4 4 3 ...\n",
      " $ t0region: Factor w/ 14 levels \"not answered (99)\",..: 11 11 11 11 11 11 11 11 11 11 ...\n",
      " $ t0dadsoc: int  -9 -9 615 -9 -9 620 535 872 532 872 ...\n",
      " $ t0mumsoc: int  -9 -9 460 -9 941 722 553 -9 620 958 ...\n",
      " $ t0examst: int  6 6 8 0 7 7 6 7 8 7 ...\n",
      " $ t0examac: int  0 0 6 0 0 0 0 1 0 1 ...\n",
      " $ t0examaf: int  3 0 7 0 2 3 1 5 3 5 ...\n",
      " $ t0score : int  10 0 34 0 7 9 4 17 10 19 ...\n",
      " $ t0vocsbj: int  NA NA NA NA NA NA NA NA NA NA ...\n",
      " $ t0vocpas: int  NA NA NA NA NA NA NA NA NA NA ...\n",
      " $ t0othsbj: int  0 0 2 0 0 0 0 1 0 2 ...\n",
      " $ t0othpas: int  0 0 1 0 0 0 0 0 0 2 ...\n",
      " $ t1dooct : int  5 6 6 -9 6 6 6 5 5 5 ...\n",
      " $ t1donow : int  5 6 6 -9 6 6 6 5 5 6 ...\n",
      " $ t0age   : num  -9 15.8 16.5 -9 -9 ...\n",
      " $ t0dadse : Factor w/ 4 levels \"not answered (9)\",..: 1 1 4 1 1 4 4 4 4 4 ...\n",
      " $ t0mumse : Factor w/ 4 levels \"not answered (9)\",..: 1 1 4 1 4 4 4 1 4 4 ...\n",
      " $ t0gor   : Factor w/ 11 levels \"north east\",\"north west\",..: 7 7 7 7 7 7 7 7 7 7 ...\n",
      " $ t0urban : Factor w/ 12 levels \"not urban (lt 90%)\",..: 2 2 2 2 2 2 2 2 2 2 ...\n",
      " $ t0mumsec: num  NA NA NA NA NA NA NA NA NA NA ...\n",
      " $ t0dadsec: num  NA NA NA NA NA NA NA NA NA NA ...\n",
      " $ t0parsec: num  NA NA NA NA NA NA NA NA NA NA ...\n",
      " $ t0dadsc4: int  99 99 3 99 99 3 3 3 3 3 ...\n",
      " $ t0mumsc4: int  99 99 2 99 3 2 3 99 3 3 ...\n",
      " $ t0parsc4: int  99 99 2 99 3 2 3 3 3 3 ...\n",
      " $ t0monthb: int  0 8 12 0 0 0 2 4 0 0 ...\n",
      " $ t3alev  : Factor w/ 2 levels \"no\",\"yes\": NA NA NA NA NA NA NA NA NA NA ...\n",
      " $ t3nqf_a : num  NA NA NA NA NA NA NA NA NA NA ...\n",
      " $ t3_ucas : int  NA NA NA NA NA NA NA NA NA NA ...\n",
      " $ t3uscore: int  NA NA NA NA NA NA NA NA NA NA ...\n",
      " $ t3lev3  : Factor w/ 2 levels \"no\",\"yes\": NA NA NA NA NA NA NA NA NA NA ...\n",
      " $ t3twoa  : Factor w/ 2 levels \"no\",\"yes\": NA NA NA NA NA NA NA NA NA NA ...\n",
      " $ t3nowed : int  NA 0 0 NA NA NA NA NA NA NA ...\n",
      " $ t3nowhe : Factor w/ 3 levels \"missing information\",..: NA 2 2 NA NA NA NA NA NA NA ...\n",
      " $ t3degree: Factor w/ 4 levels \"missing information\",..: NA 2 2 NA NA NA NA NA NA NA ...\n",
      " $ t3dooct : Factor w/ 5 levels \"full time education\",..: NA 3 3 NA NA NA NA NA NA NA ...\n",
      " $ t3donow : Factor w/ 7 levels \"full time education\",..: NA 3 3 NA NA NA NA NA NA NA ...\n",
      " $ t2dooct : Factor w/ 5 levels \"full time education\",..: NA 3 3 NA NA NA NA NA NA NA ...\n",
      " $ t2donow : Factor w/ 7 levels \"full time education\",..: NA 3 3 NA NA NA NA NA NA NA ...\n",
      " - attr(*, \"datalabel\")= chr \"\"\n",
      " - attr(*, \"time.stamp\")= chr \"\"\n",
      " - attr(*, \"formats\")= chr  \"%8.0g\" \"%8.0g\" \"%12.0g\" \"%5s\" ...\n",
      " - attr(*, \"types\")= int  252 251 253 5 255 255 255 251 251 251 ...\n",
      " - attr(*, \"val.labels\")= chr  \"\" \"t0nation\" \"\" \"\" ...\n",
      " - attr(*, \"var.labels\")= chr  \"year completed compulsory schooling\" \"national system\" \"id for time series\" \"source of data\" ...\n",
      " - attr(*, \"version\")= int 8\n",
      " - attr(*, \"label.table\")=List of 47\n",
      "  ..$ t0nation: Named int  1 2 3\n",
      "  .. ..- attr(*, \"names\")= chr  \"england\" \"wales\" \"scotland\"\n",
      "  ..$ t1resp  : Named int  0 1\n",
      "  .. ..- attr(*, \"names\")= chr  \"did not respond\" \"respondent\"\n",
      "  ..$ t2resp  : Named int  -1 0 1\n",
      "  .. ..- attr(*, \"names\")= chr  \"no survey at t2\" \"did not respond\" \"respondent\"\n",
      "  ..$ t3resp  : Named int  0 1\n",
      "  .. ..- attr(*, \"names\")= chr  \"did not respond\" \"respondent\"\n",
      "  ..$ t0schtyp: Named int  1 2 3 4 5 6 7 8\n",
      "  .. ..- attr(*, \"names\")= chr  \"6th form college\" \"comp to 16\" \"comp to 18\" \"grammar\" ...\n",
      "  ..$ t0sex   : Named int  -9 -1 1 2\n",
      "  .. ..- attr(*, \"names\")= chr  \"not answered (9)\" \"item not applicable\" \"male\" \"female\"\n",
      "  ..$ t0stay  : Named int  -9 0 1 2 3 4\n",
      "  .. ..- attr(*, \"names\")= chr  \"not answered\" \"none\" \"father and mother\" \"mother only\" ...\n",
      "  ..$ t0ethnic: Named int  -9 -1 1 4 5 6 7 9 10\n",
      "  .. ..- attr(*, \"names\")= chr  \"not answered\" \"survey problem\" \"white\" \"black\" ...\n",
      "  ..$ t0house : Named int  -9 1 2 3\n",
      "  .. ..- attr(*, \"names\")= chr  \"not answered\" \"owned\" \"rented\" \"other\"\n",
      "  ..$ t0dadpce: Named int  -9 1 2 3\n",
      "  .. ..- attr(*, \"names\")= chr  \"not answered\" \"yes\" \"no\" \"other response\"\n",
      "  ..$ t0mumpce: Named int  -9 1 2 3\n",
      "  .. ..- attr(*, \"names\")= chr  \"not answered\" \"yes\" \"no\" \"other response\"\n",
      "  ..$ t0dadalv: Named int  -9 1 2 3\n",
      "  .. ..- attr(*, \"names\")= chr  \"not answered\" \"yes\" \"no\" \"other response\"\n",
      "  ..$ t0mumalv: Named int  -9 1 2 3\n",
      "  .. ..- attr(*, \"names\")= chr  \"not answered\" \"yes\" \"no\" \"other response\"\n",
      "  ..$ t0daddeg: Named int  -9 1 2 3\n",
      "  .. ..- attr(*, \"names\")= chr  \"not answered\" \"yes\" \"no\" \"other response\"\n",
      "  ..$ t0mumdeg: Named int  -9 1 2 3\n",
      "  .. ..- attr(*, \"names\")= chr  \"not answered\" \"yes\" \"no\" \"other response\"\n",
      "  ..$ t0dadjob: Named int  -9 -1 1 2\n",
      "  .. ..- attr(*, \"names\")= chr  \"not answered (9)\" \"item not applicable\" \"yes\" \"no\"\n",
      "  ..$ t0mumjob: Named int  -9 -1 1 2\n",
      "  .. ..- attr(*, \"names\")= chr  \"not answered (9)\" \"item not applicable\" \"yes\" \"no\"\n",
      "  ..$ t0truant: Named int  -9 1 2 3 4\n",
      "  .. ..- attr(*, \"names\")= chr  \"not answered\" \"weeks at a time\" \"days at a time\" \"occasional days or lessons\" ...\n",
      "  ..$ t1att1  : Named int  -9 -1 1 2\n",
      "  .. ..- attr(*, \"names\")= chr  \"not answered (9)\" \"item not applicable\" \"agree\" \"disagree\"\n",
      "  ..$ t1att2  : Named int  -9 -1 1 2\n",
      "  .. ..- attr(*, \"names\")= chr  \"not answered (9)\" \"item not applicable\" \"agree\" \"disagree\"\n",
      "  ..$ t1att3  : Named int  -9 -1 1 2\n",
      "  .. ..- attr(*, \"names\")= chr  \"not answered (9)\" \"item not applicable\" \"agree\" \"disagree\"\n",
      "  ..$ t0region: Named int  -9 -6 -2 -1 1 2 3 4 5 6 ...\n",
      "  .. ..- attr(*, \"names\")= chr  \"not answered (99)\" \"schedule not obtained\" \"schedule not applicable\" \"item not applicable\" ...\n",
      "  ..$ t0dadsoc: Named int  100 101 102 103 110 111 112 113 120 121 ...\n",
      "  .. ..- attr(*, \"names\")= chr  \"asst secty nat govt    \" \"company gen manager    \" \"local govt officers    \" \"heo\\\\sen prl nat gov    \" ...\n",
      "  ..$ t0mumsoc: Named int  100 101 102 103 110 111 112 113 120 121 ...\n",
      "  .. ..- attr(*, \"names\")= chr  \"asst secty nat govt    \" \"company gen manager    \" \"local govt officers    \" \"heo\\\\sen prl nat gov    \" ...\n",
      "  ..$ t1dooct : Named int  0 1 2 3 4 5 6 7 8 9 ...\n",
      "  .. ..- attr(*, \"names\")= chr  \"nk\" \"school\" \"6th form college\" \"fe college\" ...\n",
      "  ..$ t1donow : Named int  0 1 2 3 4 5 6 7 8 9 ...\n",
      "  .. ..- attr(*, \"names\")= chr  \"nk\" \"school\" \"6th form college\" \"fe college\" ...\n",
      "  ..$ t0dadse : Named int  -9 -1 1 2\n",
      "  .. ..- attr(*, \"names\")= chr  \"not answered (9)\" \"item not applicable\" \"yes\" \"no\"\n",
      "  ..$ t0mumse : Named int  -9 -1 1 2\n",
      "  .. ..- attr(*, \"names\")= chr  \"not answered (9)\" \"item not applicable\" \"yes\" \"no\"\n",
      "  ..$ t0gor   : Named int  1 2 3 4 5 6 7 8 9 10 ...\n",
      "  .. ..- attr(*, \"names\")= chr  \"north east\" \"north west\" \"yorkshire & humberside\" \"east midlands\" ...\n",
      "  ..$ t0urban : Named int  0 1 2 3 4 5 6 7 8 9 ...\n",
      "  .. ..- attr(*, \"names\")= chr  \"not urban (lt 90%)\" \"greater london\" \"west midlands ua\" \"greater manchester\" ...\n",
      "  ..$ t0mumsec: Named int  1 1 2 3 4 5 6 7 99\n",
      "  .. ..- attr(*, \"names\")= chr  \"higher managerial\" \"professional\" \"lower managerial and professional\" \"intermediate\" ...\n",
      "  ..$ t0dadsec: Named int  1 1 2 3 4 5 6 7 99\n",
      "  .. ..- attr(*, \"names\")= chr  \"higher managerial\" \"professional\" \"lower managerial and professional\" \"intermediate\" ...\n",
      "  ..$ t0parsec: Named int  1 1 2 3 4 5 6 7 99\n",
      "  .. ..- attr(*, \"names\")= chr  \"higher managerial\" \"professional\" \"lower managerial and professional\" \"intermediate\" ...\n",
      "  ..$ t0dadsc4: Named int  1 2 3 99\n",
      "  .. ..- attr(*, \"names\")= chr  \"managerial & professional\" \"intermediate\" \"working\" \"unclassified\"\n",
      "  ..$ t0mumsc4: Named int  1 2 3 99\n",
      "  .. ..- attr(*, \"names\")= chr  \"managerial & professional\" \"intermediate\" \"working\" \"unclassified\"\n",
      "  ..$ t0parsc4: Named int  1 2 3 99\n",
      "  .. ..- attr(*, \"names\")= chr  \"managerial & professional\" \"intermediate\" \"working\" \"unclassified\"\n",
      "  ..$ t0monthb: Named int  1 2 3 4 5 6 7 8 9 10 ...\n",
      "  .. ..- attr(*, \"names\")= chr  \"january\" \"february\" \"march\" \"april\" ...\n",
      "  ..$ t3alev  : Named int  0 1\n",
      "  .. ..- attr(*, \"names\")= chr  \"no\" \"yes\"\n",
      "  ..$ t3lev3  : Named int  0 1\n",
      "  .. ..- attr(*, \"names\")= chr  \"no\" \"yes\"\n",
      "  ..$ t3twoa  : Named int  0 1\n",
      "  .. ..- attr(*, \"names\")= chr  \"no\" \"yes\"\n",
      "  ..$ t3nowed : Named int  0 1\n",
      "  .. ..- attr(*, \"names\")= chr  \"in other status\" \"in full-time education\"\n",
      "  ..$ t3nowhe : Named int  -9 0 1\n",
      "  .. ..- attr(*, \"names\")= chr  \"missing information\" \"no, in he but in other non-advanced cources\" \"yes, in he\"\n",
      "  ..$ t3degree: Named int  -9 0 1 2\n",
      "  .. ..- attr(*, \"names\")= chr  \"missing information\" \"no, studying for a non-advanced qualification\" \"yes, studying for a degree\" \"no, studying for another advanced non-university\"\n",
      "  ..$ t3dooct : Named int  1 5 6 8 10\n",
      "  .. ..- attr(*, \"names\")= chr  \"full time education\" \"government supported training\" \"full time job\" \" unemployed\" ...\n",
      "  ..$ t3donow : Named int  1 5 6 7 8 9 10\n",
      "  .. ..- attr(*, \"names\")= chr  \"full time education\" \"government supported training\" \"full time job\" \"part-time job\" ...\n",
      "  ..$ t2dooct : Named int  1 5 6 8 10\n",
      "  .. ..- attr(*, \"names\")= chr  \"full time education\" \"government supported training\" \"full time job\" \" unemployed\" ...\n",
      "  ..$ t2donow : Named int  1 5 6 7 8 9 10\n",
      "  .. ..- attr(*, \"names\")= chr  \"full time education\" \"government supported training\" \"full time job\" \"part-time job\" ...\n"
     ]
    }
   ],
   "source": [
    "str(mydataew.df)"
   ]
  },
  {
   "cell_type": "markdown",
   "metadata": {},
   "source": [
    "The variables that I require are\n",
    "\n",
    "__t0cohort__ - the YCS cohort (i.e. year). <br>\n",
    "\n",
    "__t0nation__ - identifies if the pupil is from the England and Wales data (this is just a check the dataset should be England and Wales on hence \"ew\" in \"ew_core.dta\" . <br>\n",
    "\n",
    "__t0caseid__ - this is an _id_ variable. However, it is not unqiue across YCS cohorts so __must__ be used in conjuction with a __cohort__ identifier.<br>\n",
    "\n",
    "__t0source__ - identifies the YCS cohort (e.g. YCS 9).\n",
    "\n",
    "__t1weight__ - this is the sweep 1 survey weight.\n",
    "\n",
    "__t1resp__ - identifies if the pupil responded in sweep 1 of the survey.\n",
    "\n",
    "__t0parsec__ - this is the parental NS-SEC measure (8 category) that is derrived by Croxford et al. (2007). This is the measure that I require for the current replication exercise."
   ]
  },
  {
   "cell_type": "code",
   "execution_count": 71,
   "metadata": {
    "collapsed": false
   },
   "outputs": [
    {
     "data": {
      "text/plain": [
       "\n",
       " 1984  1986  1988  1990  1993  1995  1997  1999 \n",
       " 8064 16208 14116 14511 18021 15899 14662 13698 "
      ]
     },
     "execution_count": 71,
     "metadata": {},
     "output_type": "execute_result"
    },
    {
     "data": {
      "text/plain": [
       "\n",
       " ycs1 ycs10  ycs3  ycs4  ycs5  ycs7  ycs8  ycs9 \n",
       " 8064 13698 16208 14116 14511 18021 15899 14662 "
      ]
     },
     "execution_count": 71,
     "metadata": {},
     "output_type": "execute_result"
    },
    {
     "data": {
      "text/plain": [
       "\n",
       "  1.1   1.2     2     3     4     5     6     7    99 \n",
       " 4533  7807 17171 11518 11349  4055  7335  4398  8625 "
      ]
     },
     "execution_count": 71,
     "metadata": {},
     "output_type": "execute_result"
    }
   ],
   "source": [
    "table(mydataew.df$t0cohort)\n",
    "table(mydataew.df$t0source)\n",
    "table(mydataew.df$t0parsec)"
   ]
  },
  {
   "cell_type": "markdown",
   "metadata": {},
   "source": [
    "___________________________________________________________"
   ]
  },
  {
   "cell_type": "markdown",
   "metadata": {},
   "source": [
    "Get a subset of the data with only the variables needed."
   ]
  },
  {
   "cell_type": "code",
   "execution_count": 72,
   "metadata": {
    "collapsed": false
   },
   "outputs": [],
   "source": [
    "myvarsew <- c(\"t0cohort\", \"t0nation\", \"t0caseid\", \"t0source\", \"t1weight\", \"t1resp\", \"t0parsec\")\n",
    "mydataew.df <- mydataew.df[myvarsew]"
   ]
  },
  {
   "cell_type": "code",
   "execution_count": 73,
   "metadata": {
    "collapsed": false,
    "scrolled": true
   },
   "outputs": [
    {
     "data": {
      "text/plain": [
       "    t0cohort        t0nation         t0caseid           t0source        \n",
       " Min.   :1984   england :107922   Min.   :   100001   Length:115179     \n",
       " 1st Qu.:1988   wales   :  7257   1st Qu.:   131432   Class :character  \n",
       " Median :1993   scotland:     0   Median :228404103   Mode  :character  \n",
       " Mean   :1992                     Mean   :339926553                     \n",
       " 3rd Qu.:1995                     3rd Qu.:680400520                     \n",
       " Max.   :1999                     Max.   :996602914                     \n",
       "                                                                        \n",
       "    t1weight                  t1resp          t0parsec    \n",
       " Min.   :0.1011   did not respond:     0   Min.   : 1.10  \n",
       " 1st Qu.:0.7269   respondent     :115179   1st Qu.: 2.00  \n",
       " Median :0.9122                            Median : 3.00  \n",
       " Mean   :1.0000                            Mean   :14.03  \n",
       " 3rd Qu.:1.1777                            3rd Qu.: 6.00  \n",
       " Max.   :3.8550                            Max.   :99.00  \n",
       "                                           NA's   :38388  "
      ]
     },
     "execution_count": 73,
     "metadata": {},
     "output_type": "execute_result"
    }
   ],
   "source": [
    "summary(mydataew.df)"
   ]
  },
  {
   "cell_type": "markdown",
   "metadata": {},
   "source": [
    "Now I get a subset of the cases (i.e. pupils) that are in the YCS cohort 9."
   ]
  },
  {
   "cell_type": "code",
   "execution_count": 74,
   "metadata": {
    "collapsed": false
   },
   "outputs": [],
   "source": [
    "mydataew2.df <- mydataew.df[ which(mydataew.df$t0source==\"ycs9\"),]\n",
    "\n"
   ]
  },
  {
   "cell_type": "code",
   "execution_count": 75,
   "metadata": {
    "collapsed": false
   },
   "outputs": [
    {
     "data": {
      "text/plain": [
       "    t0cohort        t0nation        t0caseid        t0source        \n",
       " Min.   :1997   england :13762   Min.   :200001   Length:14662      \n",
       " 1st Qu.:1997   wales   :  900   1st Qu.:206123   Class :character  \n",
       " Median :1997   scotland:    0   Median :211589   Mode  :character  \n",
       " Mean   :1997                    Mean   :212056                     \n",
       " 3rd Qu.:1997                    3rd Qu.:217027                     \n",
       " Max.   :1997                    Max.   :231392                     \n",
       "    t1weight                  t1resp         t0parsec    \n",
       " Min.   :0.6025   did not respond:    0   Min.   : 1.10  \n",
       " 1st Qu.:0.7661   respondent     :14662   1st Qu.: 2.00  \n",
       " Median :0.8779                           Median : 3.00  \n",
       " Mean   :1.0000                           Mean   :12.99  \n",
       " 3rd Qu.:1.0576                           3rd Qu.: 6.00  \n",
       " Max.   :2.5176                           Max.   :99.00  "
      ]
     },
     "execution_count": 75,
     "metadata": {},
     "output_type": "execute_result"
    },
    {
     "data": {
      "text/plain": [
       "\n",
       " ycs9 \n",
       "14662 "
      ]
     },
     "execution_count": 75,
     "metadata": {},
     "output_type": "execute_result"
    }
   ],
   "source": [
    "summary(mydataew2.df)\n",
    "table(mydataew2.df$t0source)"
   ]
  },
  {
   "cell_type": "markdown",
   "metadata": {},
   "source": [
    "I will now check which objects are knocking around."
   ]
  },
  {
   "cell_type": "code",
   "execution_count": 76,
   "metadata": {
    "collapsed": false
   },
   "outputs": [
    {
     "data": {
      "text/html": [
       "<ol class=list-inline>\n",
       "\t<li>\"drive1\"</li>\n",
       "\t<li>\"drive2\"</li>\n",
       "\t<li>\"mydataew.df\"</li>\n",
       "\t<li>\"mydataew2.df\"</li>\n",
       "\t<li>\"myvarsew\"</li>\n",
       "</ol>\n"
      ],
      "text/latex": [
       "\\begin{enumerate*}\n",
       "\\item \"drive1\"\n",
       "\\item \"drive2\"\n",
       "\\item \"mydataew.df\"\n",
       "\\item \"mydataew2.df\"\n",
       "\\item \"myvarsew\"\n",
       "\\end{enumerate*}\n"
      ],
      "text/markdown": [
       "1. \"drive1\"\n",
       "2. \"drive2\"\n",
       "3. \"mydataew.df\"\n",
       "4. \"mydataew2.df\"\n",
       "5. \"myvarsew\"\n",
       "\n",
       "\n"
      ],
      "text/plain": [
       "[1] \"drive1\"       \"drive2\"       \"mydataew.df\"  \"mydataew2.df\" \"myvarsew\"    "
      ]
     },
     "execution_count": 76,
     "metadata": {},
     "output_type": "execute_result"
    }
   ],
   "source": [
    "ls()"
   ]
  },
  {
   "cell_type": "markdown",
   "metadata": {},
   "source": [
    "---"
   ]
  },
  {
   "cell_type": "markdown",
   "metadata": {
    "collapsed": true
   },
   "source": [
    "I will now (re-)load the last version of my YCS cohort 9 dataset \"ycs9sw1_v3.rda\".\n"
   ]
  },
  {
   "cell_type": "code",
   "execution_count": 77,
   "metadata": {
    "collapsed": false
   },
   "outputs": [
    {
     "data": {
      "text/html": [
       "\"C:/Users/Vernon/OneDrive - University of Edinburgh/Documents/ycs_9_2017/UKDA-4009-stata8/stata8\""
      ],
      "text/latex": [
       "\"C:/Users/Vernon/OneDrive - University of Edinburgh/Documents/ycs_9_2017/UKDA-4009-stata8/stata8\""
      ],
      "text/markdown": [
       "\"C:/Users/Vernon/OneDrive - University of Edinburgh/Documents/ycs_9_2017/UKDA-4009-stata8/stata8\""
      ],
      "text/plain": [
       "[1] \"C:/Users/Vernon/OneDrive - University of Edinburgh/Documents/ycs_9_2017/UKDA-4009-stata8/stata8\""
      ]
     },
     "execution_count": 77,
     "metadata": {},
     "output_type": "execute_result"
    },
    {
     "data": {
      "text/html": [
       "<ol class=list-inline>\n",
       "\t<li>\"drive1\"</li>\n",
       "\t<li>\"drive2\"</li>\n",
       "\t<li>\"mydata5.df\"</li>\n",
       "\t<li>\"mydataew.df\"</li>\n",
       "\t<li>\"mydataew2.df\"</li>\n",
       "\t<li>\"myvarsew\"</li>\n",
       "</ol>\n"
      ],
      "text/latex": [
       "\\begin{enumerate*}\n",
       "\\item \"drive1\"\n",
       "\\item \"drive2\"\n",
       "\\item \"mydata5.df\"\n",
       "\\item \"mydataew.df\"\n",
       "\\item \"mydataew2.df\"\n",
       "\\item \"myvarsew\"\n",
       "\\end{enumerate*}\n"
      ],
      "text/markdown": [
       "1. \"drive1\"\n",
       "2. \"drive2\"\n",
       "3. \"mydata5.df\"\n",
       "4. \"mydataew.df\"\n",
       "5. \"mydataew2.df\"\n",
       "6. \"myvarsew\"\n",
       "\n",
       "\n"
      ],
      "text/plain": [
       "[1] \"drive1\"       \"drive2\"       \"mydata5.df\"   \"mydataew.df\"  \"mydataew2.df\"\n",
       "[6] \"myvarsew\"    "
      ]
     },
     "execution_count": 77,
     "metadata": {},
     "output_type": "execute_result"
    }
   ],
   "source": [
    "setwd(drive1) \n",
    "getwd()\n",
    "load(\"ycs9sw1_v3.rda\")\n",
    "ls()"
   ]
  },
  {
   "cell_type": "code",
   "execution_count": 78,
   "metadata": {
    "collapsed": false
   },
   "outputs": [
    {
     "name": "stdout",
     "output_type": "stream",
     "text": [
      "'data.frame':\t12789 obs. of  27 variables:\n",
      " $ serial      : int  200001 200004 200005 200006 200014 200023 200024 200025 200032 200035 ...\n",
      " $ weight      : num  0.875 0.976 0.976 0.976 0.959 ...\n",
      " $ sex         : Factor w/ 4 levels \"not answered (9)\",..: 4 3 3 3 4 3 4 3 4 4 ...\n",
      " $ s1a_c       : int  9 9 9 9 2 2 7 3 10 1 ...\n",
      " $ a58         : Factor w/ 15 levels \"not answered (99)\",..: 4 4 8 4 4 4 4 4 4 4 ...\n",
      " $ s1eth       : Factor w/ 9 levels \"not answered (9)\",..: 5 5 7 5 5 5 5 5 5 5 ...\n",
      " $ s1acqe      : Factor w/ 9 levels \"not answered (9)\",..: 5 5 5 5 6 6 5 6 5 6 ...\n",
      " $ pseg        : int  0 0 0 0 0 0 0 0 0 0 ...\n",
      " $ prof_man    : int  1 0 0 0 0 1 0 1 0 0 ...\n",
      " $ o_non_man   : int  0 1 0 1 0 0 0 0 1 0 ...\n",
      " $ skilled_man : int  0 0 1 0 1 0 1 0 0 1 ...\n",
      " $ semi_skilled: int  0 0 0 0 0 0 0 0 0 0 ...\n",
      " $ pseg5       : int  0 0 0 0 0 0 0 0 0 0 ...\n",
      " $ pseg6       : int  0 0 0 0 0 0 0 0 0 0 ...\n",
      " $ pseg7       : int  0 0 0 0 0 0 0 0 0 0 ...\n",
      " $ s15a_c      : num  1 1 1 1 0 0 1 0 1 0 ...\n",
      " $ girls       : num  1 0 0 0 1 0 1 0 1 1 ...\n",
      " $ ethnic1     : Factor w/ 6 levels \"1\",\"2\",\"3\",\"4\",..: 1 1 3 1 1 1 1 1 1 1 ...\n",
      " $ white       : num  1 1 0 1 1 1 1 1 1 1 ...\n",
      " $ black       : num  0 0 0 0 0 0 0 0 0 0 ...\n",
      " $ indian      : num  0 0 1 0 0 0 0 0 0 0 ...\n",
      " $ pakistani   : num  0 0 0 0 0 0 0 0 0 0 ...\n",
      " $ bangladeshi : num  0 0 0 0 0 0 0 0 0 0 ...\n",
      " $ chinese     : num  0 0 0 0 0 0 0 0 0 0 ...\n",
      " $ other       : num  0 0 0 0 0 0 0 0 0 0 ...\n",
      " $ ethnic2     : num  4 4 3 4 4 4 4 4 4 4 ...\n",
      " $ ethnic3     : num  1 1 3 1 1 1 1 1 1 1 ...\n"
     ]
    }
   ],
   "source": [
    "str(mydata5.df)"
   ]
  },
  {
   "cell_type": "markdown",
   "metadata": {},
   "source": [
    "This data frame should have \"ethnic2\" and \"ethnic3\" in it. <br>\n",
    "If they are absent then a older file has been used."
   ]
  },
  {
   "cell_type": "markdown",
   "metadata": {},
   "source": [
    "I am now going to wrangle the data a little. <br>\n",
    "\n",
    "The reshape library is required if it is not already loaded."
   ]
  },
  {
   "cell_type": "code",
   "execution_count": 79,
   "metadata": {
    "collapsed": false
   },
   "outputs": [
    {
     "name": "stderr",
     "output_type": "stream",
     "text": [
      "Warning message:\n",
      ": package 'reshape' was built under R version 3.2.5\n",
      "Attaching package: 'reshape'\n",
      "\n",
      "The following object is masked from 'package:dplyr':\n",
      "\n",
      "    rename\n",
      "\n",
      "The following object is masked from 'package:Matrix':\n",
      "\n",
      "    expand\n",
      "\n"
     ]
    }
   ],
   "source": [
    "library(reshape)\n"
   ]
  },
  {
   "cell_type": "markdown",
   "metadata": {},
   "source": [
    "The 'id\" variables in file \"ew_core\" (i.e. Croxford's time series files) is not the same as in YCS cohort 9 file \"ycs9sw1\". <br>\n",
    "Therefore I am going to change the variable \"t0caseid\" which is in \"ew_core\" to \"serial\" which is the name of the \"id\" variable in \"ycs9sw1\"."
   ]
  },
  {
   "cell_type": "code",
   "execution_count": 80,
   "metadata": {
    "collapsed": false
   },
   "outputs": [
    {
     "name": "stdout",
     "output_type": "stream",
     "text": [
      "'data.frame':\t14662 obs. of  7 variables:\n",
      " $ t0cohort: int  1997 1997 1997 1997 1997 1997 1997 1997 1997 1997 ...\n",
      " $ t0nation: Factor w/ 3 levels \"england\",\"wales\",..: 1 1 1 1 1 1 1 1 1 1 ...\n",
      " $ serial  : int  200001 200004 200005 200006 200008 200012 200013 200014 200019 200022 ...\n",
      " $ t0source: chr  \"ycs9\" \"ycs9\" \"ycs9\" \"ycs9\" ...\n",
      " $ t1weight: num  0.875 0.976 0.976 0.976 1.841 ...\n",
      " $ t1resp  : Factor w/ 2 levels \"did not respond\",..: 2 2 2 2 2 2 2 2 2 2 ...\n",
      " $ t0parsec: num  1.1 4 4 2 99 99 99 4 99 99 ...\n"
     ]
    }
   ],
   "source": [
    "mydataew2.df <- rename(mydataew2.df, c(t0caseid=\"serial\"))\n",
    "str(mydataew2.df)"
   ]
  },
  {
   "cell_type": "markdown",
   "metadata": {},
   "source": [
    "Now I combine the file \"ycs9sw1_v3\" which is in data frame mydata5.df __with__ \"ew_core\" which is in data frame mydataew2.df."
   ]
  },
  {
   "cell_type": "code",
   "execution_count": 81,
   "metadata": {
    "collapsed": true
   },
   "outputs": [],
   "source": [
    "mydata6.df <- merge(mydata5.df, mydataew2.df,by=\"serial\")"
   ]
  },
  {
   "cell_type": "code",
   "execution_count": 82,
   "metadata": {
    "collapsed": false
   },
   "outputs": [
    {
     "name": "stdout",
     "output_type": "stream",
     "text": [
      "'data.frame':\t12789 obs. of  33 variables:\n",
      " $ serial      : int  200001 200004 200005 200006 200014 200023 200024 200025 200032 200035 ...\n",
      " $ weight      : num  0.875 0.976 0.976 0.976 0.959 ...\n",
      " $ sex         : Factor w/ 4 levels \"not answered (9)\",..: 4 3 3 3 4 3 4 3 4 4 ...\n",
      " $ s1a_c       : int  9 9 9 9 2 2 7 3 10 1 ...\n",
      " $ a58         : Factor w/ 15 levels \"not answered (99)\",..: 4 4 8 4 4 4 4 4 4 4 ...\n",
      " $ s1eth       : Factor w/ 9 levels \"not answered (9)\",..: 5 5 7 5 5 5 5 5 5 5 ...\n",
      " $ s1acqe      : Factor w/ 9 levels \"not answered (9)\",..: 5 5 5 5 6 6 5 6 5 6 ...\n",
      " $ pseg        : int  0 0 0 0 0 0 0 0 0 0 ...\n",
      " $ prof_man    : int  1 0 0 0 0 1 0 1 0 0 ...\n",
      " $ o_non_man   : int  0 1 0 1 0 0 0 0 1 0 ...\n",
      " $ skilled_man : int  0 0 1 0 1 0 1 0 0 1 ...\n",
      " $ semi_skilled: int  0 0 0 0 0 0 0 0 0 0 ...\n",
      " $ pseg5       : int  0 0 0 0 0 0 0 0 0 0 ...\n",
      " $ pseg6       : int  0 0 0 0 0 0 0 0 0 0 ...\n",
      " $ pseg7       : int  0 0 0 0 0 0 0 0 0 0 ...\n",
      " $ s15a_c      : num  1 1 1 1 0 0 1 0 1 0 ...\n",
      " $ girls       : num  1 0 0 0 1 0 1 0 1 1 ...\n",
      " $ ethnic1     : Factor w/ 6 levels \"1\",\"2\",\"3\",\"4\",..: 1 1 3 1 1 1 1 1 1 1 ...\n",
      " $ white       : num  1 1 0 1 1 1 1 1 1 1 ...\n",
      " $ black       : num  0 0 0 0 0 0 0 0 0 0 ...\n",
      " $ indian      : num  0 0 1 0 0 0 0 0 0 0 ...\n",
      " $ pakistani   : num  0 0 0 0 0 0 0 0 0 0 ...\n",
      " $ bangladeshi : num  0 0 0 0 0 0 0 0 0 0 ...\n",
      " $ chinese     : num  0 0 0 0 0 0 0 0 0 0 ...\n",
      " $ other       : num  0 0 0 0 0 0 0 0 0 0 ...\n",
      " $ ethnic2     : num  4 4 3 4 4 4 4 4 4 4 ...\n",
      " $ ethnic3     : num  1 1 3 1 1 1 1 1 1 1 ...\n",
      " $ t0cohort    : int  1997 1997 1997 1997 1997 1997 1997 1997 1997 1997 ...\n",
      " $ t0nation    : Factor w/ 3 levels \"england\",\"wales\",..: 1 1 1 1 1 1 1 1 1 1 ...\n",
      " $ t0source    : chr  \"ycs9\" \"ycs9\" \"ycs9\" \"ycs9\" ...\n",
      " $ t1weight    : num  0.875 0.976 0.976 0.976 0.959 ...\n",
      " $ t1resp      : Factor w/ 2 levels \"did not respond\",..: 2 2 2 2 2 2 2 2 2 2 ...\n",
      " $ t0parsec    : num  1.1 4 4 2 4 1.2 5 1.1 3 4 ...\n"
     ]
    }
   ],
   "source": [
    "str(mydata6.df)"
   ]
  },
  {
   "cell_type": "markdown",
   "metadata": {},
   "source": [
    "If this has worked then mydata6.df should contain \"ethnic2\", \"ethnic3\" and \"t0parsec\"."
   ]
  },
  {
   "cell_type": "markdown",
   "metadata": {},
   "source": [
    "Here is the first glimpse at the parental NS-SEC variable \"t0parsec\"."
   ]
  },
  {
   "cell_type": "code",
   "execution_count": 83,
   "metadata": {
    "collapsed": false
   },
   "outputs": [
    {
     "data": {
      "text/plain": [
       "     \n",
       "         0    1\n",
       "  1.1  163  620\n",
       "  1.2  215 1151\n",
       "  2    936 2373\n",
       "  3    831 1408\n",
       "  4   1073 1072\n",
       "  5    433  311\n",
       "  6    879  538\n",
       "  7    554  231\n",
       "  99     1    0"
      ]
     },
     "execution_count": 83,
     "metadata": {},
     "output_type": "execute_result"
    }
   ],
   "source": [
    "mytablenssec <- table(mydata6.df$t0parsec, mydata6.df$s15a_c)\n",
    "mytablenssec # print table "
   ]
  },
  {
   "cell_type": "code",
   "execution_count": 84,
   "metadata": {
    "collapsed": false
   },
   "outputs": [
    {
     "data": {
      "text/plain": [
       "     \n",
       "              0         1\n",
       "  1.1 0.2081737 0.7918263\n",
       "  1.2 0.1573939 0.8426061\n",
       "  2   0.2828649 0.7171351\n",
       "  3   0.3711478 0.6288522\n",
       "  4   0.5002331 0.4997669\n",
       "  5   0.5819892 0.4180108\n",
       "  6   0.6203246 0.3796754\n",
       "  7   0.7057325 0.2942675\n",
       "  99  1.0000000 0.0000000"
      ]
     },
     "execution_count": 84,
     "metadata": {},
     "output_type": "execute_result"
    }
   ],
   "source": [
    "prop.table (mytablenssec, 1)"
   ]
  },
  {
   "cell_type": "code",
   "execution_count": 85,
   "metadata": {
    "collapsed": true
   },
   "outputs": [],
   "source": [
    "save(mydata6.df,file=\"ycs9sw1_v4.rda\")"
   ]
  },
  {
   "cell_type": "code",
   "execution_count": 86,
   "metadata": {
    "collapsed": false
   },
   "outputs": [
    {
     "data": {
      "text/html": [
       "<ol class=list-inline>\n",
       "\t<li>\"drive1\"</li>\n",
       "\t<li>\"drive2\"</li>\n",
       "\t<li>\"mydata5.df\"</li>\n",
       "\t<li>\"mydata6.df\"</li>\n",
       "\t<li>\"mydataew.df\"</li>\n",
       "\t<li>\"mydataew2.df\"</li>\n",
       "\t<li>\"mytablenssec\"</li>\n",
       "\t<li>\"myvarsew\"</li>\n",
       "</ol>\n"
      ],
      "text/latex": [
       "\\begin{enumerate*}\n",
       "\\item \"drive1\"\n",
       "\\item \"drive2\"\n",
       "\\item \"mydata5.df\"\n",
       "\\item \"mydata6.df\"\n",
       "\\item \"mydataew.df\"\n",
       "\\item \"mydataew2.df\"\n",
       "\\item \"mytablenssec\"\n",
       "\\item \"myvarsew\"\n",
       "\\end{enumerate*}\n"
      ],
      "text/markdown": [
       "1. \"drive1\"\n",
       "2. \"drive2\"\n",
       "3. \"mydata5.df\"\n",
       "4. \"mydata6.df\"\n",
       "5. \"mydataew.df\"\n",
       "6. \"mydataew2.df\"\n",
       "7. \"mytablenssec\"\n",
       "8. \"myvarsew\"\n",
       "\n",
       "\n"
      ],
      "text/plain": [
       "[1] \"drive1\"       \"drive2\"       \"mydata5.df\"   \"mydata6.df\"   \"mydataew.df\" \n",
       "[6] \"mydataew2.df\" \"mytablenssec\" \"myvarsew\"    "
      ]
     },
     "execution_count": 86,
     "metadata": {},
     "output_type": "execute_result"
    }
   ],
   "source": [
    "load (\"ycs9sw1_v4.rda\")\n",
    "ls()"
   ]
  },
  {
   "cell_type": "markdown",
   "metadata": {},
   "source": [
    "Takin a second look at NS-SEC the social class variable."
   ]
  },
  {
   "cell_type": "code",
   "execution_count": 87,
   "metadata": {
    "collapsed": false,
    "scrolled": true
   },
   "outputs": [
    {
     "data": {
      "text/plain": [
       "     \n",
       "         0    1\n",
       "  1.1  163  620\n",
       "  1.2  215 1151\n",
       "  2    936 2373\n",
       "  3    831 1408\n",
       "  4   1073 1072\n",
       "  5    433  311\n",
       "  6    879  538\n",
       "  7    554  231\n",
       "  99     1    0"
      ]
     },
     "execution_count": 87,
     "metadata": {},
     "output_type": "execute_result"
    }
   ],
   "source": [
    "mytablenssec <- table(mydata6.df$t0parsec, mydata6.df$s15a_c)\n",
    "mytablenssec # print table "
   ]
  },
  {
   "cell_type": "markdown",
   "metadata": {},
   "source": [
    "There is a missing value coded as \"99\"."
   ]
  },
  {
   "cell_type": "code",
   "execution_count": 88,
   "metadata": {
    "collapsed": true
   },
   "outputs": [],
   "source": [
    "mydata6.df$t0parsec[mydata6.df$t0parsec==\"99\"] <-NA"
   ]
  },
  {
   "cell_type": "code",
   "execution_count": 89,
   "metadata": {
    "collapsed": false
   },
   "outputs": [
    {
     "data": {
      "text/plain": [
       "     \n",
       "         0    1\n",
       "  1.1  163  620\n",
       "  1.2  215 1151\n",
       "  2    936 2373\n",
       "  3    831 1408\n",
       "  4   1073 1072\n",
       "  5    433  311\n",
       "  6    879  538\n",
       "  7    554  231"
      ]
     },
     "execution_count": 89,
     "metadata": {},
     "output_type": "execute_result"
    }
   ],
   "source": [
    "mytablenssec <- table(mydata6.df$t0parsec, mydata6.df$s15a_c)\n",
    "mytablenssec # print table "
   ]
  },
  {
   "cell_type": "markdown",
   "metadata": {},
   "source": [
    "I now check that \"t0parsec1\" is a factor."
   ]
  },
  {
   "cell_type": "code",
   "execution_count": 90,
   "metadata": {
    "collapsed": false,
    "scrolled": true
   },
   "outputs": [
    {
     "data": {
      "text/plain": [
       "NULL"
      ]
     },
     "execution_count": 90,
     "metadata": {},
     "output_type": "execute_result"
    }
   ],
   "source": [
    "levels(mydata6.df$t0parsec )"
   ]
  },
  {
   "cell_type": "markdown",
   "metadata": {},
   "source": [
    "The variable \"t0parsec\" is not a factor so I am going to declare as a factor."
   ]
  },
  {
   "cell_type": "code",
   "execution_count": 91,
   "metadata": {
    "collapsed": false
   },
   "outputs": [],
   "source": [
    "mydata6.df$t0parsec  <- factor(mydata6.df$t0parsec )"
   ]
  },
  {
   "cell_type": "code",
   "execution_count": 92,
   "metadata": {
    "collapsed": false
   },
   "outputs": [
    {
     "data": {
      "text/html": [
       "<ol class=list-inline>\n",
       "\t<li>\"1.1\"</li>\n",
       "\t<li>\"1.2\"</li>\n",
       "\t<li>\"2\"</li>\n",
       "\t<li>\"3\"</li>\n",
       "\t<li>\"4\"</li>\n",
       "\t<li>\"5\"</li>\n",
       "\t<li>\"6\"</li>\n",
       "\t<li>\"7\"</li>\n",
       "</ol>\n"
      ],
      "text/latex": [
       "\\begin{enumerate*}\n",
       "\\item \"1.1\"\n",
       "\\item \"1.2\"\n",
       "\\item \"2\"\n",
       "\\item \"3\"\n",
       "\\item \"4\"\n",
       "\\item \"5\"\n",
       "\\item \"6\"\n",
       "\\item \"7\"\n",
       "\\end{enumerate*}\n"
      ],
      "text/markdown": [
       "1. \"1.1\"\n",
       "2. \"1.2\"\n",
       "3. \"2\"\n",
       "4. \"3\"\n",
       "5. \"4\"\n",
       "6. \"5\"\n",
       "7. \"6\"\n",
       "8. \"7\"\n",
       "\n",
       "\n"
      ],
      "text/plain": [
       "[1] \"1.1\" \"1.2\" \"2\"   \"3\"   \"4\"   \"5\"   \"6\"   \"7\"  "
      ]
     },
     "execution_count": 92,
     "metadata": {},
     "output_type": "execute_result"
    }
   ],
   "source": [
    "levels(mydata6.df$t0parsec)"
   ]
  },
  {
   "cell_type": "code",
   "execution_count": 93,
   "metadata": {
    "collapsed": false
   },
   "outputs": [
    {
     "data": {
      "text/html": [
       "TRUE"
      ],
      "text/latex": [
       "TRUE"
      ],
      "text/markdown": [
       "TRUE"
      ],
      "text/plain": [
       "[1] TRUE"
      ]
     },
     "execution_count": 93,
     "metadata": {},
     "output_type": "execute_result"
    }
   ],
   "source": [
    "is.factor(mydata6.df$t0parsec)"
   ]
  },
  {
   "cell_type": "markdown",
   "metadata": {},
   "source": [
    "---"
   ]
  },
  {
   "cell_type": "markdown",
   "metadata": {},
   "source": [
    "I now estimate a logit model of school GCSE outcomes (5+ GCSEs and grade A - C).\n",
    "\n",
    "It will be a survey based model (svy). <br>\n",
    "\n",
    "Outcome variable \"s15a_c\".<br>\n",
    "\n",
    "Explanatory variables  \"girls\", \"ethnic3\", \"t0parsec\". \n"
   ]
  },
  {
   "cell_type": "code",
   "execution_count": 94,
   "metadata": {
    "collapsed": true
   },
   "outputs": [],
   "source": [
    "mydesign5 <- svydesign(id = ~serial,data = mydata6.df, weight = ~weight)"
   ]
  },
  {
   "cell_type": "code",
   "execution_count": 95,
   "metadata": {
    "collapsed": false,
    "scrolled": true
   },
   "outputs": [
    {
     "name": "stderr",
     "output_type": "stream",
     "text": [
      "Warning message:\n",
      "In eval(expr, envir, enclos): non-integer #successes in a binomial glm!"
     ]
    }
   ],
   "source": [
    "model6<-svyglm (s15a_c ~ girls + factor(ethnic3) + factor(t0parsec), design=mydesign5, data = mydata5.df, family = \"binomial\")"
   ]
  },
  {
   "cell_type": "code",
   "execution_count": 96,
   "metadata": {
    "collapsed": false
   },
   "outputs": [
    {
     "data": {
      "text/plain": [
       "\n",
       "Call:\n",
       "svyglm(formula = s15a_c ~ girls + factor(ethnic3) + factor(t0parsec), \n",
       "    design = mydesign5, data = mydata5.df, family = \"binomial\")\n",
       "\n",
       "Survey design:\n",
       "svydesign(id = ~serial, data = mydata6.df, weight = ~weight)\n",
       "\n",
       "Coefficients:\n",
       "                    Estimate Std. Error t value Pr(>|t|)    \n",
       "(Intercept)          0.71584    0.09351   7.655 2.07e-14 ***\n",
       "girls                0.43422    0.03999  10.858  < 2e-16 ***\n",
       "factor(ethnic3)2     1.49065    0.33070   4.508 6.61e-06 ***\n",
       "factor(ethnic3)3     0.59759    0.12250   4.878 1.08e-06 ***\n",
       "factor(ethnic3)4     0.32020    0.30585   1.047  0.29514    \n",
       "factor(ethnic3)5     0.20791    0.18583   1.119  0.26323    \n",
       "factor(ethnic3)6    -0.71506    0.17527  -4.080 4.54e-05 ***\n",
       "factor(t0parsec)1.2  0.37121    0.11991   3.096  0.00197 ** \n",
       "factor(t0parsec)2   -0.41717    0.10001  -4.171 3.05e-05 ***\n",
       "factor(t0parsec)3   -0.84849    0.10216  -8.305  < 2e-16 ***\n",
       "factor(t0parsec)4   -1.43745    0.10249 -14.025  < 2e-16 ***\n",
       "factor(t0parsec)5   -1.74863    0.12005 -14.565  < 2e-16 ***\n",
       "factor(t0parsec)6   -1.94399    0.10789 -18.019  < 2e-16 ***\n",
       "factor(t0parsec)7   -2.36128    0.12206 -19.345  < 2e-16 ***\n",
       "---\n",
       "Signif. codes:  0 '***' 0.001 '**' 0.01 '*' 0.05 '.' 0.1 ' ' 1\n",
       "\n",
       "(Dispersion parameter for binomial family taken to be 1.000279)\n",
       "\n",
       "Number of Fisher Scoring iterations: 4\n"
      ]
     },
     "execution_count": 96,
     "metadata": {},
     "output_type": "execute_result"
    }
   ],
   "source": [
    "summary(model6)"
   ]
  },
  {
   "cell_type": "markdown",
   "metadata": {},
   "source": [
    "---"
   ]
  },
  {
   "cell_type": "markdown",
   "metadata": {},
   "source": [
    "I now pass the results to the quasi-variance procedure."
   ]
  },
  {
   "cell_type": "code",
   "execution_count": 97,
   "metadata": {
    "collapsed": false
   },
   "outputs": [],
   "source": [
    "model6.qvs <- qvcalc(model6, \"factor(t0parsec)\")"
   ]
  },
  {
   "cell_type": "code",
   "execution_count": 98,
   "metadata": {
    "collapsed": false,
    "scrolled": true
   },
   "outputs": [
    {
     "name": "stdout",
     "output_type": "stream",
     "text": [
      "Model call:  svyglm(formula = s15a_c ~ girls + factor(ethnic3) + factor(t0parsec),      design = mydesign5, data = mydata5.df, family = \"binomial\") \n",
      "Factor name:  factor(t0parsec) \n",
      "        estimate     SE quasiSE quasiVar\n",
      "    1.1   0.0000 0.0000 0.09167 0.008403\n",
      "    1.2   0.3712 0.1199 0.07754 0.006012\n",
      "    2    -0.4172 0.1000 0.04040 0.001632\n",
      "    3    -0.8485 0.1022 0.04527 0.002049\n",
      "    4    -1.4374 0.1025 0.04555 0.002075\n",
      "    5    -1.7486 0.1201 0.07746 0.006000\n",
      "    6    -1.9440 0.1079 0.05673 0.003218\n",
      "    7    -2.3613 0.1221 0.08033 0.006453\n",
      "Worst relative errors in SEs of simple contrasts (%):  -0.2 0.4 \n",
      "Worst relative errors over *all* contrasts (%):  -1.2 0.5 \n"
     ]
    }
   ],
   "source": [
    "summary(model6.qvs, digits = 4)\n"
   ]
  },
  {
   "cell_type": "markdown",
   "metadata": {},
   "source": [
    "I now plot the results for \"t0parsec\" along with quasi-variance based 95% comparison intervals."
   ]
  },
  {
   "cell_type": "code",
   "execution_count": 99,
   "metadata": {
    "collapsed": false
   },
   "outputs": [
    {
     "data": {
      "image/png": "[encoded data removed]",
      "image/svg+xml": [
       "<?xml version=\"1.0\" encoding=\"UTF-8\"?>\n",
       "<svg xmlns=\"http://www.w3.org/2000/svg\" xmlns:xlink=\"http://www.w3.org/1999/xlink\" width=\"504pt\" height=\"504pt\" viewBox=\"0 0 504 504\" version=\"1.1\">\n",
       "<defs>\n",
       "<g>\n",
       "<symbol overflow=\"visible\" id=\"glyph0-0\">\n",
       "<path style=\"stroke:none;\" d=\"M 4.46875 0 L 3.414063 0 L 3.414063 -6.71875 C 3.160156 -6.476563 2.828125 -6.234375 2.414063 -5.996094 C 2 -5.75 1.628906 -5.570313 1.304688 -5.449219 L 1.304688 -6.46875 C 1.894531 -6.742188 2.410156 -7.078125 2.851563 -7.476563 C 3.292969 -7.871094 3.605469 -8.253906 3.789063 -8.625 L 4.46875 -8.625 Z M 4.46875 0 \"/>\n",
       "</symbol>\n",
       "<symbol overflow=\"visible\" id=\"glyph0-1\">\n",
       "<path style=\"stroke:none;\" d=\"M 1.089844 0 L 1.089844 -1.203125 L 2.289063 -1.203125 L 2.289063 0 Z M 1.089844 0 \"/>\n",
       "</symbol>\n",
       "<symbol overflow=\"visible\" id=\"glyph0-2\">\n",
       "<path style=\"stroke:none;\" d=\"M 6.039063 -1.015625 L 6.039063 0 L 0.363281 0 C 0.355469 -0.253906 0.394531 -0.496094 0.484375 -0.734375 C 0.628906 -1.117188 0.859375 -1.5 1.179688 -1.875 C 1.492188 -2.25 1.953125 -2.683594 2.5625 -3.175781 C 3.492188 -3.941406 4.125 -4.546875 4.453125 -4.992188 C 4.78125 -5.4375 4.945313 -5.859375 4.945313 -6.265625 C 4.945313 -6.679688 4.792969 -7.03125 4.496094 -7.320313 C 4.191406 -7.601563 3.804688 -7.746094 3.328125 -7.75 C 2.820313 -7.746094 2.414063 -7.59375 2.109375 -7.292969 C 1.804688 -6.984375 1.648438 -6.5625 1.648438 -6.03125 L 0.5625 -6.140625 C 0.632813 -6.945313 0.910156 -7.558594 1.398438 -7.988281 C 1.878906 -8.410156 2.53125 -8.625 3.351563 -8.625 C 4.171875 -8.625 4.824219 -8.394531 5.308594 -7.9375 C 5.789063 -7.480469 6.027344 -6.914063 6.03125 -6.242188 C 6.027344 -5.894531 5.957031 -5.558594 5.820313 -5.226563 C 5.675781 -4.890625 5.441406 -4.539063 5.117188 -4.175781 C 4.789063 -3.804688 4.25 -3.300781 3.492188 -2.664063 C 2.859375 -2.128906 2.453125 -1.769531 2.273438 -1.582031 C 2.09375 -1.394531 1.945313 -1.203125 1.828125 -1.015625 Z M 6.039063 -1.015625 \"/>\n",
       "</symbol>\n",
       "<symbol overflow=\"visible\" id=\"glyph0-3\">\n",
       "<path style=\"stroke:none;\" d=\"M 0.503906 -2.265625 L 1.558594 -2.40625 C 1.679688 -1.808594 1.882813 -1.378906 2.175781 -1.113281 C 2.464844 -0.847656 2.820313 -0.714844 3.242188 -0.71875 C 3.734375 -0.714844 4.152344 -0.886719 4.496094 -1.234375 C 4.832031 -1.574219 5.003906 -2 5.007813 -2.515625 C 5.003906 -2.996094 4.847656 -3.394531 4.535156 -3.710938 C 4.21875 -4.023438 3.816406 -4.183594 3.328125 -4.183594 C 3.128906 -4.183594 2.878906 -4.144531 2.585938 -4.066406 L 2.703125 -4.992188 C 2.765625 -4.984375 2.824219 -4.980469 2.871094 -4.980469 C 3.320313 -4.980469 3.722656 -5.097656 4.085938 -5.332031 C 4.441406 -5.566406 4.621094 -5.925781 4.625 -6.414063 C 4.621094 -6.800781 4.492188 -7.121094 4.230469 -7.375 C 3.964844 -7.628906 3.625 -7.757813 3.21875 -7.757813 C 2.804688 -7.757813 2.464844 -7.628906 2.191406 -7.371094 C 1.917969 -7.113281 1.742188 -6.726563 1.664063 -6.210938 L 0.609375 -6.398438 C 0.738281 -7.105469 1.03125 -7.652344 1.488281 -8.042969 C 1.941406 -8.429688 2.507813 -8.625 3.195313 -8.625 C 3.660156 -8.625 4.09375 -8.523438 4.488281 -8.324219 C 4.878906 -8.121094 5.179688 -7.847656 5.390625 -7.5 C 5.601563 -7.148438 5.707031 -6.777344 5.707031 -6.390625 C 5.707031 -6.019531 5.605469 -5.683594 5.40625 -5.378906 C 5.207031 -5.074219 4.914063 -4.832031 4.523438 -4.652344 C 5.03125 -4.535156 5.425781 -4.289063 5.707031 -3.921875 C 5.988281 -3.546875 6.128906 -3.085938 6.128906 -2.539063 C 6.128906 -1.785156 5.855469 -1.148438 5.308594 -0.628906 C 4.761719 -0.105469 4.070313 0.152344 3.234375 0.152344 C 2.476563 0.152344 1.847656 -0.0703125 1.355469 -0.519531 C 0.855469 -0.96875 0.574219 -1.550781 0.503906 -2.265625 Z M 0.503906 -2.265625 \"/>\n",
       "</symbol>\n",
       "<symbol overflow=\"visible\" id=\"glyph0-4\">\n",
       "<path style=\"stroke:none;\" d=\"M 3.878906 0 L 3.878906 -2.054688 L 0.152344 -2.054688 L 0.152344 -3.023438 L 4.070313 -8.589844 L 4.933594 -8.589844 L 4.933594 -3.023438 L 6.09375 -3.023438 L 6.09375 -2.054688 L 4.933594 -2.054688 L 4.933594 0 Z M 3.878906 -3.023438 L 3.878906 -6.898438 L 1.1875 -3.023438 Z M 3.878906 -3.023438 \"/>\n",
       "</symbol>\n",
       "<symbol overflow=\"visible\" id=\"glyph0-5\">\n",
       "<path style=\"stroke:none;\" d=\"M 0.5 -2.25 L 1.605469 -2.34375 C 1.683594 -1.804688 1.871094 -1.398438 2.175781 -1.125 C 2.472656 -0.851563 2.835938 -0.714844 3.257813 -0.71875 C 3.765625 -0.714844 4.195313 -0.90625 4.546875 -1.292969 C 4.898438 -1.671875 5.074219 -2.179688 5.074219 -2.820313 C 5.074219 -3.414063 4.902344 -3.890625 4.566406 -4.242188 C 4.226563 -4.589844 3.785156 -4.761719 3.242188 -4.765625 C 2.898438 -4.761719 2.59375 -4.683594 2.320313 -4.53125 C 2.046875 -4.375 1.832031 -4.175781 1.675781 -3.929688 L 0.6875 -4.0625 L 1.515625 -8.472656 L 5.789063 -8.472656 L 5.789063 -7.464844 L 2.359375 -7.464844 L 1.898438 -5.15625 C 2.414063 -5.515625 2.953125 -5.695313 3.523438 -5.695313 C 4.269531 -5.695313 4.902344 -5.433594 5.421875 -4.914063 C 5.933594 -4.394531 6.191406 -3.726563 6.195313 -2.914063 C 6.191406 -2.132813 5.964844 -1.460938 5.515625 -0.898438 C 4.960938 -0.199219 4.210938 0.144531 3.257813 0.148438 C 2.476563 0.144531 1.835938 -0.0703125 1.34375 -0.507813 C 0.84375 -0.941406 0.5625 -1.523438 0.5 -2.25 Z M 0.5 -2.25 \"/>\n",
       "</symbol>\n",
       "<symbol overflow=\"visible\" id=\"glyph0-6\">\n",
       "<path style=\"stroke:none;\" d=\"M 5.96875 -6.484375 L 4.921875 -6.40625 C 4.828125 -6.8125 4.695313 -7.113281 4.523438 -7.304688 C 4.234375 -7.605469 3.882813 -7.757813 3.46875 -7.757813 C 3.132813 -7.757813 2.835938 -7.664063 2.585938 -7.476563 C 2.25 -7.234375 1.988281 -6.878906 1.796875 -6.414063 C 1.605469 -5.949219 1.507813 -5.289063 1.5 -4.429688 C 1.753906 -4.8125 2.0625 -5.097656 2.433594 -5.289063 C 2.796875 -5.472656 3.183594 -5.566406 3.585938 -5.570313 C 4.289063 -5.566406 4.886719 -5.308594 5.382813 -4.792969 C 5.875 -4.277344 6.121094 -3.609375 6.125 -2.789063 C 6.121094 -2.25 6.003906 -1.746094 5.773438 -1.285156 C 5.539063 -0.820313 5.222656 -0.46875 4.816406 -0.222656 C 4.410156 0.0234375 3.949219 0.144531 3.433594 0.148438 C 2.554688 0.144531 1.835938 -0.175781 1.285156 -0.820313 C 0.726563 -1.46875 0.449219 -2.535156 0.453125 -4.019531 C 0.449219 -5.675781 0.757813 -6.882813 1.371094 -7.640625 C 1.902344 -8.296875 2.621094 -8.625 3.53125 -8.625 C 4.207031 -8.625 4.761719 -8.433594 5.195313 -8.054688 C 5.625 -7.675781 5.882813 -7.152344 5.96875 -6.484375 Z M 1.664063 -2.78125 C 1.664063 -2.417969 1.738281 -2.070313 1.894531 -1.738281 C 2.042969 -1.40625 2.261719 -1.152344 2.542969 -0.980469 C 2.820313 -0.800781 3.109375 -0.714844 3.414063 -0.71875 C 3.859375 -0.714844 4.242188 -0.894531 4.566406 -1.257813 C 4.882813 -1.613281 5.042969 -2.101563 5.046875 -2.726563 C 5.042969 -3.316406 4.886719 -3.785156 4.570313 -4.128906 C 4.25 -4.46875 3.851563 -4.640625 3.375 -4.640625 C 2.898438 -4.640625 2.492188 -4.46875 2.160156 -4.128906 C 1.828125 -3.785156 1.664063 -3.335938 1.664063 -2.78125 Z M 1.664063 -2.78125 \"/>\n",
       "</symbol>\n",
       "<symbol overflow=\"visible\" id=\"glyph0-7\">\n",
       "<path style=\"stroke:none;\" d=\"M 0.570313 -7.464844 L 0.570313 -8.476563 L 6.128906 -8.476563 L 6.128906 -7.65625 C 5.582031 -7.074219 5.039063 -6.300781 4.5 -5.335938 C 3.960938 -4.371094 3.546875 -3.378906 3.257813 -2.359375 C 3.046875 -1.636719 2.910156 -0.851563 2.851563 0 L 1.769531 0 C 1.78125 -0.675781 1.914063 -1.492188 2.167969 -2.449219 C 2.417969 -3.402344 2.78125 -4.324219 3.257813 -5.214844 C 3.734375 -6.105469 4.238281 -6.855469 4.773438 -7.464844 Z M 0.570313 -7.464844 \"/>\n",
       "</symbol>\n",
       "<symbol overflow=\"visible\" id=\"glyph0-8\">\n",
       "<path style=\"stroke:none;\" d=\"M 1.042969 0 L 1.042969 -5.402344 L 0.109375 -5.402344 L 0.109375 -6.222656 L 1.042969 -6.222656 L 1.042969 -6.882813 C 1.042969 -7.300781 1.078125 -7.613281 1.15625 -7.816406 C 1.25 -8.089844 1.429688 -8.308594 1.6875 -8.480469 C 1.945313 -8.644531 2.304688 -8.730469 2.765625 -8.734375 C 3.0625 -8.730469 3.390625 -8.695313 3.75 -8.632813 L 3.59375 -7.710938 C 3.371094 -7.75 3.164063 -7.769531 2.96875 -7.769531 C 2.648438 -7.769531 2.421875 -7.699219 2.292969 -7.5625 C 2.15625 -7.425781 2.089844 -7.171875 2.09375 -6.796875 L 2.09375 -6.222656 L 3.304688 -6.222656 L 3.304688 -5.402344 L 2.09375 -5.402344 L 2.09375 0 Z M 1.042969 0 \"/>\n",
       "</symbol>\n",
       "<symbol overflow=\"visible\" id=\"glyph0-9\">\n",
       "<path style=\"stroke:none;\" d=\"M 4.851563 -0.765625 C 4.460938 -0.433594 4.082031 -0.199219 3.722656 -0.0625 C 3.355469 0.0742188 2.96875 0.140625 2.5625 0.140625 C 1.875 0.140625 1.351563 -0.0234375 0.984375 -0.359375 C 0.617188 -0.6875 0.433594 -1.117188 0.433594 -1.640625 C 0.433594 -1.945313 0.5 -2.222656 0.640625 -2.472656 C 0.777344 -2.722656 0.960938 -2.925781 1.1875 -3.082031 C 1.410156 -3.234375 1.664063 -3.347656 1.945313 -3.429688 C 2.152344 -3.476563 2.464844 -3.53125 2.882813 -3.585938 C 3.734375 -3.6875 4.359375 -3.808594 4.765625 -3.949219 C 4.765625 -4.089844 4.769531 -4.179688 4.769531 -4.226563 C 4.769531 -4.648438 4.667969 -4.953125 4.46875 -5.132813 C 4.199219 -5.371094 3.800781 -5.488281 3.269531 -5.492188 C 2.769531 -5.488281 2.402344 -5.402344 2.167969 -5.230469 C 1.933594 -5.054688 1.757813 -4.746094 1.648438 -4.304688 L 0.617188 -4.445313 C 0.707031 -4.886719 0.863281 -5.242188 1.078125 -5.515625 C 1.289063 -5.78125 1.597656 -5.992188 2.007813 -6.140625 C 2.410156 -6.289063 2.882813 -6.363281 3.421875 -6.363281 C 3.953125 -6.363281 4.382813 -6.300781 4.714844 -6.175781 C 5.046875 -6.050781 5.292969 -5.890625 5.449219 -5.703125 C 5.605469 -5.511719 5.714844 -5.273438 5.777344 -4.984375 C 5.808594 -4.804688 5.824219 -4.480469 5.828125 -4.015625 L 5.828125 -2.609375 C 5.824219 -1.625 5.847656 -1.003906 5.894531 -0.746094 C 5.941406 -0.484375 6.03125 -0.238281 6.164063 0 L 5.0625 0 C 4.953125 -0.21875 4.882813 -0.472656 4.851563 -0.765625 Z M 4.765625 -3.125 C 4.375 -2.964844 3.800781 -2.832031 3.039063 -2.726563 C 2.605469 -2.660156 2.300781 -2.589844 2.121094 -2.515625 C 1.941406 -2.433594 1.800781 -2.320313 1.703125 -2.171875 C 1.605469 -2.019531 1.558594 -1.851563 1.558594 -1.671875 C 1.558594 -1.386719 1.664063 -1.152344 1.875 -0.96875 C 2.085938 -0.777344 2.398438 -0.683594 2.8125 -0.6875 C 3.21875 -0.683594 3.578125 -0.773438 3.894531 -0.953125 C 4.210938 -1.128906 4.445313 -1.371094 4.59375 -1.679688 C 4.707031 -1.917969 4.761719 -2.269531 4.765625 -2.734375 Z M 4.765625 -3.125 \"/>\n",
       "</symbol>\n",
       "<symbol overflow=\"visible\" id=\"glyph0-10\">\n",
       "<path style=\"stroke:none;\" d=\"M 4.851563 -2.28125 L 5.890625 -2.144531 C 5.773438 -1.425781 5.484375 -0.863281 5.019531 -0.464844 C 4.550781 -0.0585938 3.976563 0.140625 3.296875 0.140625 C 2.445313 0.140625 1.761719 -0.136719 1.246094 -0.695313 C 0.726563 -1.25 0.46875 -2.046875 0.46875 -3.085938 C 0.46875 -3.753906 0.578125 -4.34375 0.800781 -4.851563 C 1.023438 -5.355469 1.363281 -5.730469 1.816406 -5.984375 C 2.269531 -6.234375 2.765625 -6.363281 3.304688 -6.363281 C 3.980469 -6.363281 4.53125 -6.191406 4.964844 -5.847656 C 5.390625 -5.503906 5.667969 -5.019531 5.789063 -4.394531 L 4.765625 -4.234375 C 4.664063 -4.652344 4.492188 -4.96875 4.246094 -5.179688 C 3.996094 -5.390625 3.695313 -5.496094 3.34375 -5.496094 C 2.808594 -5.496094 2.378906 -5.304688 2.050781 -4.921875 C 1.71875 -4.539063 1.550781 -3.9375 1.554688 -3.117188 C 1.550781 -2.28125 1.710938 -1.671875 2.035156 -1.292969 C 2.351563 -0.914063 2.769531 -0.726563 3.289063 -0.726563 C 3.695313 -0.726563 4.042969 -0.851563 4.324219 -1.105469 C 4.601563 -1.359375 4.777344 -1.75 4.851563 -2.28125 Z M 4.851563 -2.28125 \"/>\n",
       "</symbol>\n",
       "<symbol overflow=\"visible\" id=\"glyph0-11\">\n",
       "<path style=\"stroke:none;\" d=\"M 3.09375 -0.945313 L 3.246094 -0.0117188 C 2.949219 0.0507813 2.683594 0.0820313 2.449219 0.0820313 C 2.066406 0.0820313 1.769531 0.0234375 1.558594 -0.0976563 C 1.347656 -0.21875 1.199219 -0.378906 1.113281 -0.578125 C 1.027344 -0.773438 0.984375 -1.1875 0.984375 -1.820313 L 0.984375 -5.402344 L 0.210938 -5.402344 L 0.210938 -6.222656 L 0.984375 -6.222656 L 0.984375 -7.765625 L 2.03125 -8.398438 L 2.03125 -6.222656 L 3.09375 -6.222656 L 3.09375 -5.402344 L 2.03125 -5.402344 L 2.03125 -1.765625 C 2.027344 -1.460938 2.046875 -1.269531 2.085938 -1.183594 C 2.125 -1.097656 2.183594 -1.027344 2.269531 -0.976563 C 2.351563 -0.925781 2.472656 -0.902344 2.632813 -0.902344 C 2.742188 -0.902344 2.898438 -0.914063 3.09375 -0.945313 Z M 3.09375 -0.945313 \"/>\n",
       "</symbol>\n",
       "<symbol overflow=\"visible\" id=\"glyph0-12\">\n",
       "<path style=\"stroke:none;\" d=\"M 0.398438 -3.109375 C 0.398438 -4.261719 0.71875 -5.117188 1.359375 -5.671875 C 1.894531 -6.132813 2.546875 -6.363281 3.316406 -6.363281 C 4.171875 -6.363281 4.871094 -6.082031 5.414063 -5.519531 C 5.953125 -4.957031 6.222656 -4.183594 6.226563 -3.199219 C 6.222656 -2.398438 6.101563 -1.765625 5.867188 -1.308594 C 5.625 -0.847656 5.277344 -0.492188 4.820313 -0.238281 C 4.359375 0.015625 3.859375 0.140625 3.316406 0.140625 C 2.441406 0.140625 1.734375 -0.136719 1.203125 -0.695313 C 0.664063 -1.253906 0.398438 -2.058594 0.398438 -3.109375 Z M 1.484375 -3.109375 C 1.480469 -2.308594 1.65625 -1.710938 2.003906 -1.320313 C 2.347656 -0.921875 2.785156 -0.726563 3.316406 -0.726563 C 3.839844 -0.726563 4.273438 -0.925781 4.621094 -1.324219 C 4.96875 -1.722656 5.144531 -2.328125 5.144531 -3.148438 C 5.144531 -3.914063 4.96875 -4.496094 4.617188 -4.894531 C 4.265625 -5.289063 3.832031 -5.488281 3.316406 -5.492188 C 2.785156 -5.488281 2.347656 -5.292969 2.003906 -4.898438 C 1.65625 -4.5 1.480469 -3.902344 1.484375 -3.109375 Z M 1.484375 -3.109375 \"/>\n",
       "</symbol>\n",
       "<symbol overflow=\"visible\" id=\"glyph0-13\">\n",
       "<path style=\"stroke:none;\" d=\"M 0.78125 0 L 0.78125 -6.222656 L 1.726563 -6.222656 L 1.726563 -5.28125 C 1.96875 -5.71875 2.191406 -6.011719 2.398438 -6.152344 C 2.601563 -6.292969 2.828125 -6.363281 3.078125 -6.363281 C 3.429688 -6.363281 3.792969 -6.25 4.160156 -6.023438 L 3.796875 -5.046875 C 3.539063 -5.195313 3.28125 -5.273438 3.023438 -5.273438 C 2.792969 -5.273438 2.585938 -5.203125 2.402344 -5.066406 C 2.214844 -4.925781 2.082031 -4.734375 2.007813 -4.488281 C 1.890625 -4.113281 1.832031 -3.703125 1.835938 -3.257813 L 1.835938 0 Z M 0.78125 0 \"/>\n",
       "</symbol>\n",
       "<symbol overflow=\"visible\" id=\"glyph0-14\">\n",
       "<path style=\"stroke:none;\" d=\"M 2.804688 2.523438 C 2.222656 1.785156 1.730469 0.929688 1.328125 -0.0546875 C 0.925781 -1.035156 0.726563 -2.054688 0.726563 -3.109375 C 0.726563 -4.039063 0.875 -4.929688 1.179688 -5.78125 C 1.523438 -6.769531 2.066406 -7.753906 2.804688 -8.734375 L 3.5625 -8.734375 C 3.085938 -7.917969 2.773438 -7.339844 2.625 -6.996094 C 2.382813 -6.457031 2.195313 -5.894531 2.0625 -5.308594 C 1.894531 -4.574219 1.808594 -3.839844 1.8125 -3.105469 C 1.808594 -1.226563 2.394531 0.648438 3.5625 2.523438 Z M 2.804688 2.523438 \"/>\n",
       "</symbol>\n",
       "<symbol overflow=\"visible\" id=\"glyph0-15\">\n",
       "<path style=\"stroke:none;\" d=\"M 0.5 -4.234375 C 0.496094 -5.246094 0.601563 -6.0625 0.8125 -6.6875 C 1.019531 -7.304688 1.328125 -7.785156 1.742188 -8.121094 C 2.148438 -8.457031 2.667969 -8.625 3.296875 -8.625 C 3.757813 -8.625 4.164063 -8.53125 4.511719 -8.347656 C 4.855469 -8.160156 5.140625 -7.890625 5.371094 -7.542969 C 5.59375 -7.191406 5.773438 -6.765625 5.90625 -6.265625 C 6.035156 -5.761719 6.097656 -5.085938 6.101563 -4.234375 C 6.097656 -3.226563 5.996094 -2.414063 5.789063 -1.796875 C 5.578125 -1.175781 5.265625 -0.695313 4.859375 -0.359375 C 4.445313 -0.0195313 3.925781 0.144531 3.296875 0.148438 C 2.464844 0.144531 1.816406 -0.148438 1.347656 -0.742188 C 0.78125 -1.457031 0.496094 -2.621094 0.5 -4.234375 Z M 1.582031 -4.234375 C 1.582031 -2.824219 1.746094 -1.886719 2.074219 -1.417969 C 2.402344 -0.949219 2.808594 -0.714844 3.296875 -0.71875 C 3.777344 -0.714844 4.183594 -0.949219 4.519531 -1.421875 C 4.847656 -1.886719 5.015625 -2.824219 5.015625 -4.234375 C 5.015625 -5.648438 4.847656 -6.589844 4.519531 -7.054688 C 4.183594 -7.515625 3.773438 -7.746094 3.289063 -7.75 C 2.800781 -7.746094 2.414063 -7.542969 2.125 -7.136719 C 1.761719 -6.613281 1.582031 -5.644531 1.582031 -4.234375 Z M 1.582031 -4.234375 \"/>\n",
       "</symbol>\n",
       "<symbol overflow=\"visible\" id=\"glyph0-16\">\n",
       "<path style=\"stroke:none;\" d=\"M 0.789063 2.382813 L 0.789063 -6.222656 L 1.75 -6.222656 L 1.75 -5.414063 C 1.976563 -5.730469 2.234375 -5.964844 2.519531 -6.125 C 2.800781 -6.28125 3.144531 -6.363281 3.554688 -6.363281 C 4.082031 -6.363281 4.550781 -6.226563 4.960938 -5.953125 C 5.363281 -5.679688 5.671875 -5.292969 5.882813 -4.792969 C 6.089844 -4.292969 6.191406 -3.746094 6.195313 -3.15625 C 6.191406 -2.519531 6.078125 -1.945313 5.851563 -1.4375 C 5.621094 -0.921875 5.289063 -0.53125 4.855469 -0.265625 C 4.417969 0.0078125 3.960938 0.140625 3.480469 0.140625 C 3.128906 0.140625 2.8125 0.0664063 2.535156 -0.0820313 C 2.253906 -0.230469 2.023438 -0.417969 1.84375 -0.644531 L 1.84375 2.382813 Z M 1.746094 -3.078125 C 1.746094 -2.273438 1.90625 -1.683594 2.230469 -1.300781 C 2.554688 -0.917969 2.949219 -0.726563 3.410156 -0.726563 C 3.878906 -0.726563 4.277344 -0.921875 4.613281 -1.320313 C 4.945313 -1.710938 5.113281 -2.328125 5.117188 -3.164063 C 5.113281 -3.953125 4.949219 -4.546875 4.625 -4.945313 C 4.296875 -5.339844 3.910156 -5.535156 3.457031 -5.539063 C 3.003906 -5.535156 2.605469 -5.324219 2.261719 -4.90625 C 1.917969 -4.484375 1.746094 -3.875 1.746094 -3.078125 Z M 1.746094 -3.078125 \"/>\n",
       "</symbol>\n",
       "<symbol overflow=\"visible\" id=\"glyph0-17\">\n",
       "<path style=\"stroke:none;\" d=\"M 0.367188 -1.859375 L 1.414063 -2.023438 C 1.46875 -1.601563 1.632813 -1.28125 1.902344 -1.058594 C 2.167969 -0.835938 2.542969 -0.726563 3.023438 -0.726563 C 3.507813 -0.726563 3.867188 -0.824219 4.101563 -1.023438 C 4.335938 -1.21875 4.453125 -1.449219 4.453125 -1.71875 C 4.453125 -1.953125 4.347656 -2.140625 4.140625 -2.28125 C 3.996094 -2.371094 3.636719 -2.492188 3.0625 -2.636719 C 2.289063 -2.832031 1.753906 -3 1.457031 -3.144531 C 1.15625 -3.285156 0.929688 -3.480469 0.777344 -3.734375 C 0.621094 -3.984375 0.542969 -4.265625 0.546875 -4.570313 C 0.542969 -4.84375 0.605469 -5.097656 0.734375 -5.339844 C 0.859375 -5.574219 1.035156 -5.773438 1.253906 -5.929688 C 1.417969 -6.046875 1.640625 -6.148438 1.925781 -6.234375 C 2.207031 -6.320313 2.511719 -6.363281 2.835938 -6.363281 C 3.324219 -6.363281 3.75 -6.292969 4.121094 -6.152344 C 4.488281 -6.011719 4.761719 -5.820313 4.9375 -5.578125 C 5.113281 -5.335938 5.234375 -5.015625 5.304688 -4.617188 L 4.273438 -4.476563 C 4.222656 -4.796875 4.085938 -5.046875 3.863281 -5.226563 C 3.636719 -5.40625 3.320313 -5.496094 2.914063 -5.496094 C 2.425781 -5.496094 2.082031 -5.414063 1.875 -5.253906 C 1.664063 -5.09375 1.558594 -4.90625 1.5625 -4.695313 C 1.558594 -4.554688 1.601563 -4.433594 1.695313 -4.324219 C 1.773438 -4.210938 1.910156 -4.117188 2.097656 -4.042969 C 2.203125 -4.003906 2.511719 -3.914063 3.03125 -3.773438 C 3.773438 -3.574219 4.292969 -3.410156 4.589844 -3.285156 C 4.878906 -3.15625 5.113281 -2.972656 5.285156 -2.730469 C 5.453125 -2.488281 5.535156 -2.1875 5.539063 -1.828125 C 5.535156 -1.476563 5.433594 -1.144531 5.230469 -0.832031 C 5.023438 -0.519531 4.726563 -0.277344 4.339844 -0.113281 C 3.953125 0.0585938 3.515625 0.140625 3.03125 0.140625 C 2.21875 0.140625 1.601563 -0.0273438 1.179688 -0.363281 C 0.753906 -0.699219 0.484375 -1.195313 0.367188 -1.859375 Z M 0.367188 -1.859375 \"/>\n",
       "</symbol>\n",
       "<symbol overflow=\"visible\" id=\"glyph0-18\">\n",
       "<path style=\"stroke:none;\" d=\"M 5.050781 -2.003906 L 6.140625 -1.867188 C 5.96875 -1.230469 5.648438 -0.738281 5.183594 -0.386719 C 4.71875 -0.0351563 4.125 0.140625 3.40625 0.140625 C 2.492188 0.140625 1.769531 -0.136719 1.238281 -0.699219 C 0.699219 -1.253906 0.433594 -2.042969 0.4375 -3.058594 C 0.433594 -4.105469 0.703125 -4.917969 1.246094 -5.496094 C 1.78125 -6.074219 2.480469 -6.363281 3.34375 -6.363281 C 4.175781 -6.363281 4.855469 -6.078125 5.382813 -5.511719 C 5.910156 -4.945313 6.175781 -4.148438 6.175781 -3.125 C 6.175781 -3.058594 6.171875 -2.964844 6.171875 -2.84375 L 1.53125 -2.84375 C 1.5625 -2.15625 1.757813 -1.632813 2.109375 -1.269531 C 2.457031 -0.90625 2.890625 -0.726563 3.410156 -0.726563 C 3.796875 -0.726563 4.125 -0.828125 4.402344 -1.03125 C 4.671875 -1.234375 4.890625 -1.558594 5.050781 -2.003906 Z M 1.585938 -3.710938 L 5.0625 -3.710938 C 5.015625 -4.226563 4.882813 -4.621094 4.664063 -4.886719 C 4.328125 -5.292969 3.890625 -5.496094 3.359375 -5.496094 C 2.871094 -5.496094 2.464844 -5.332031 2.136719 -5.007813 C 1.804688 -4.683594 1.621094 -4.25 1.585938 -3.710938 Z M 1.585938 -3.710938 \"/>\n",
       "</symbol>\n",
       "<symbol overflow=\"visible\" id=\"glyph0-19\">\n",
       "<path style=\"stroke:none;\" d=\"M 1.484375 2.523438 L 0.726563 2.523438 C 1.890625 0.648438 2.472656 -1.226563 2.476563 -3.105469 C 2.472656 -3.839844 2.390625 -4.566406 2.226563 -5.289063 C 2.09375 -5.875 1.90625 -6.4375 1.671875 -6.976563 C 1.515625 -7.328125 1.203125 -7.914063 0.726563 -8.734375 L 1.484375 -8.734375 C 2.214844 -7.753906 2.757813 -6.769531 3.109375 -5.78125 C 3.410156 -4.929688 3.5625 -4.039063 3.5625 -3.109375 C 3.5625 -2.054688 3.359375 -1.035156 2.957031 -0.0546875 C 2.550781 0.929688 2.058594 1.785156 1.484375 2.523438 Z M 1.484375 2.523438 \"/>\n",
       "</symbol>\n",
       "<symbol overflow=\"visible\" id=\"glyph1-0\">\n",
       "<path style=\"stroke:none;\" d=\"M -2.578125 -0.382813 L -3.640625 -0.382813 L -3.640625 -3.621094 L -2.578125 -3.621094 Z M -2.578125 -0.382813 \"/>\n",
       "</symbol>\n",
       "<symbol overflow=\"visible\" id=\"glyph1-1\">\n",
       "<path style=\"stroke:none;\" d=\"M -1.011719 -6.039063 L 0 -6.039063 L 0 -0.363281 C -0.253906 -0.355469 -0.496094 -0.394531 -0.734375 -0.488281 C -1.117188 -0.628906 -1.5 -0.859375 -1.875 -1.179688 C -2.25 -1.496094 -2.683594 -1.957031 -3.175781 -2.5625 C -3.941406 -3.492188 -4.546875 -4.125 -4.992188 -4.453125 C -5.4375 -4.78125 -5.859375 -4.945313 -6.265625 -4.945313 C -6.679688 -4.945313 -7.03125 -4.792969 -7.320313 -4.496094 C -7.601563 -4.195313 -7.746094 -3.808594 -7.75 -3.328125 C -7.746094 -2.820313 -7.59375 -2.414063 -7.292969 -2.109375 C -6.984375 -1.804688 -6.5625 -1.648438 -6.03125 -1.648438 L -6.140625 -0.5625 C -6.945313 -0.636719 -7.558594 -0.914063 -7.988281 -1.402344 C -8.410156 -1.882813 -8.625 -2.535156 -8.625 -3.351563 C -8.625 -4.175781 -8.394531 -4.828125 -7.9375 -5.308594 C -7.480469 -5.789063 -6.914063 -6.027344 -6.242188 -6.03125 C -5.894531 -6.027344 -5.558594 -5.957031 -5.226563 -5.820313 C -4.890625 -5.675781 -4.539063 -5.441406 -4.175781 -5.117188 C -3.804688 -4.789063 -3.300781 -4.25 -2.664063 -3.492188 C -2.128906 -2.859375 -1.769531 -2.453125 -1.582031 -2.273438 C -1.394531 -2.09375 -1.203125 -1.945313 -1.011719 -1.828125 Z M -1.011719 -6.039063 \"/>\n",
       "</symbol>\n",
       "<symbol overflow=\"visible\" id=\"glyph1-2\">\n",
       "<path style=\"stroke:none;\" d=\"M 0 -4.46875 L 0 -3.414063 L -6.71875 -3.417969 C -6.476563 -3.160156 -6.234375 -2.828125 -5.996094 -2.417969 C -5.75 -2.003906 -5.570313 -1.632813 -5.449219 -1.308594 L -6.46875 -1.308594 C -6.742188 -1.894531 -7.078125 -2.410156 -7.476563 -2.851563 C -7.871094 -3.292969 -8.253906 -3.605469 -8.625 -3.792969 L -8.625 -4.472656 Z M 0 -4.46875 \"/>\n",
       "</symbol>\n",
       "<symbol overflow=\"visible\" id=\"glyph1-3\">\n",
       "<path style=\"stroke:none;\" d=\"M -4.234375 -0.5 C -5.246094 -0.496094 -6.0625 -0.601563 -6.6875 -0.8125 C -7.304688 -1.019531 -7.785156 -1.328125 -8.121094 -1.742188 C -8.457031 -2.152344 -8.625 -2.671875 -8.625 -3.300781 C -8.625 -3.757813 -8.53125 -4.164063 -8.347656 -4.511719 C -8.160156 -4.859375 -7.890625 -5.144531 -7.542969 -5.371094 C -7.191406 -5.59375 -6.765625 -5.773438 -6.265625 -5.90625 C -5.761719 -6.035156 -5.085938 -6.097656 -4.234375 -6.101563 C -3.222656 -6.097656 -2.410156 -5.996094 -1.792969 -5.789063 C -1.175781 -5.578125 -0.695313 -5.265625 -0.359375 -4.859375 C -0.0195313 -4.445313 0.144531 -3.925781 0.148438 -3.296875 C 0.144531 -2.464844 -0.148438 -1.816406 -0.742188 -1.347656 C -1.457031 -0.78125 -2.621094 -0.496094 -4.234375 -0.5 Z M -4.234375 -1.582031 C -2.824219 -1.582031 -1.886719 -1.746094 -1.417969 -2.074219 C -0.949219 -2.402344 -0.714844 -2.808594 -0.71875 -3.296875 C -0.714844 -3.777344 -0.949219 -4.183594 -1.421875 -4.519531 C -1.886719 -4.847656 -2.824219 -5.015625 -4.234375 -5.015625 C -5.648438 -5.015625 -6.589844 -4.847656 -7.054688 -4.519531 C -7.515625 -4.1875 -7.746094 -3.777344 -7.75 -3.289063 C -7.746094 -2.800781 -7.542969 -2.414063 -7.136719 -2.128906 C -6.613281 -1.761719 -5.644531 -1.582031 -4.234375 -1.582031 Z M -4.234375 -1.582031 \"/>\n",
       "</symbol>\n",
       "<symbol overflow=\"visible\" id=\"glyph1-4\">\n",
       "<path style=\"stroke:none;\" d=\"M -2.003906 -5.050781 L -1.867188 -6.140625 C -1.230469 -5.96875 -0.738281 -5.648438 -0.386719 -5.183594 C -0.0351563 -4.71875 0.140625 -4.125 0.140625 -3.40625 C 0.140625 -2.492188 -0.136719 -1.769531 -0.699219 -1.238281 C -1.253906 -0.703125 -2.042969 -0.4375 -3.058594 -0.441406 C -4.105469 -0.4375 -4.917969 -0.707031 -5.496094 -1.25 C -6.074219 -1.785156 -6.363281 -2.484375 -6.363281 -3.347656 C -6.363281 -4.175781 -6.078125 -4.855469 -5.511719 -5.382813 C -4.945313 -5.910156 -4.148438 -6.175781 -3.121094 -6.175781 C -3.054688 -6.175781 -2.960938 -6.171875 -2.839844 -6.171875 L -2.84375 -1.53125 C -2.15625 -1.566406 -1.632813 -1.761719 -1.269531 -2.109375 C -0.90625 -2.457031 -0.726563 -2.890625 -0.726563 -3.410156 C -0.726563 -3.796875 -0.828125 -4.125 -1.03125 -4.402344 C -1.234375 -4.671875 -1.558594 -4.890625 -2.003906 -5.050781 Z M -3.710938 -1.589844 L -3.707031 -5.0625 C -4.226563 -5.015625 -4.621094 -4.882813 -4.886719 -4.664063 C -5.292969 -4.328125 -5.496094 -3.890625 -5.496094 -3.359375 C -5.496094 -2.871094 -5.332031 -2.464844 -5.007813 -2.136719 C -4.683594 -1.804688 -4.25 -1.621094 -3.710938 -1.589844 Z M -3.710938 -1.589844 \"/>\n",
       "</symbol>\n",
       "<symbol overflow=\"visible\" id=\"glyph1-5\">\n",
       "<path style=\"stroke:none;\" d=\"M -1.859375 -0.371094 L -2.023438 -1.414063 C -1.601563 -1.46875 -1.28125 -1.632813 -1.058594 -1.902344 C -0.835938 -2.167969 -0.726563 -2.542969 -0.726563 -3.023438 C -0.726563 -3.507813 -0.824219 -3.867188 -1.019531 -4.101563 C -1.214844 -4.335938 -1.445313 -4.453125 -1.714844 -4.453125 C -1.953125 -4.453125 -2.140625 -4.347656 -2.277344 -4.140625 C -2.367188 -3.996094 -2.488281 -3.636719 -2.636719 -3.0625 C -2.832031 -2.289063 -3 -1.753906 -3.144531 -1.457031 C -3.285156 -1.15625 -3.480469 -0.929688 -3.734375 -0.777344 C -3.984375 -0.621094 -4.265625 -0.542969 -4.570313 -0.546875 C -4.84375 -0.542969 -5.097656 -0.605469 -5.339844 -0.734375 C -5.574219 -0.859375 -5.773438 -1.035156 -5.929688 -1.253906 C -6.046875 -1.417969 -6.148438 -1.640625 -6.234375 -1.925781 C -6.320313 -2.207031 -6.363281 -2.511719 -6.363281 -2.835938 C -6.363281 -3.324219 -6.292969 -3.75 -6.152344 -4.121094 C -6.011719 -4.488281 -5.820313 -4.761719 -5.578125 -4.9375 C -5.335938 -5.113281 -5.015625 -5.234375 -4.617188 -5.304688 L -4.476563 -4.273438 C -4.796875 -4.222656 -5.046875 -4.085938 -5.226563 -3.863281 C -5.40625 -3.636719 -5.496094 -3.320313 -5.496094 -2.914063 C -5.496094 -2.425781 -5.414063 -2.082031 -5.253906 -1.875 C -5.09375 -1.667969 -4.90625 -1.5625 -4.695313 -1.566406 C -4.554688 -1.5625 -4.433594 -1.605469 -4.324219 -1.695313 C -4.210938 -1.777344 -4.117188 -1.914063 -4.042969 -2.097656 C -4.003906 -2.203125 -3.914063 -2.511719 -3.773438 -3.03125 C -3.570313 -3.773438 -3.40625 -4.292969 -3.28125 -4.589844 C -3.15625 -4.878906 -2.972656 -5.113281 -2.730469 -5.285156 C -2.488281 -5.453125 -2.1875 -5.535156 -1.828125 -5.539063 C -1.476563 -5.535156 -1.144531 -5.433594 -0.832031 -5.230469 C -0.519531 -5.023438 -0.277344 -4.726563 -0.113281 -4.339844 C 0.0585938 -3.953125 0.140625 -3.515625 0.140625 -3.03125 C 0.140625 -2.21875 -0.0273438 -1.601563 -0.363281 -1.179688 C -0.699219 -0.753906 -1.195313 -0.484375 -1.859375 -0.371094 Z M -1.859375 -0.371094 \"/>\n",
       "</symbol>\n",
       "<symbol overflow=\"visible\" id=\"glyph1-6\">\n",
       "<path style=\"stroke:none;\" d=\"M -0.941406 -3.09375 L -0.0117188 -3.246094 C 0.0507813 -2.949219 0.0820313 -2.683594 0.0820313 -2.449219 C 0.0820313 -2.066406 0.0234375 -1.769531 -0.0976563 -1.558594 C -0.21875 -1.347656 -0.378906 -1.199219 -0.574219 -1.113281 C -0.769531 -1.027344 -1.183594 -0.984375 -1.820313 -0.984375 L -5.402344 -0.984375 L -5.402344 -0.210938 L -6.222656 -0.210938 L -6.222656 -0.984375 L -7.765625 -0.984375 L -8.398438 -2.035156 L -6.222656 -2.035156 L -6.222656 -3.09375 L -5.402344 -3.09375 L -5.402344 -2.035156 L -1.761719 -2.03125 C -1.460938 -2.027344 -1.269531 -2.046875 -1.183594 -2.085938 C -1.097656 -2.125 -1.027344 -2.183594 -0.976563 -2.269531 C -0.925781 -2.351563 -0.902344 -2.472656 -0.902344 -2.632813 C -0.902344 -2.742188 -0.914063 -2.898438 -0.941406 -3.09375 Z M -0.941406 -3.09375 \"/>\n",
       "</symbol>\n",
       "<symbol overflow=\"visible\" id=\"glyph1-7\">\n",
       "<path style=\"stroke:none;\" d=\"M -7.375 -0.796875 L -8.589844 -0.796875 L -8.589844 -1.851563 L -7.375 -1.851563 Z M 0 -0.796875 L -6.222656 -0.796875 L -6.222656 -1.851563 L 0 -1.851563 Z M 0 -0.796875 \"/>\n",
       "</symbol>\n",
       "<symbol overflow=\"visible\" id=\"glyph1-8\">\n",
       "<path style=\"stroke:none;\" d=\"M 0 -0.789063 L -6.222656 -0.792969 L -6.222656 -1.734375 L -5.351563 -1.734375 C -5.648438 -1.929688 -5.894531 -2.1875 -6.082031 -2.511719 C -6.269531 -2.835938 -6.363281 -3.207031 -6.363281 -3.621094 C -6.363281 -4.082031 -6.265625 -4.457031 -6.074219 -4.753906 C -5.882813 -5.042969 -5.617188 -5.253906 -5.273438 -5.378906 C -6 -5.871094 -6.363281 -6.511719 -6.363281 -7.300781 C -6.363281 -7.917969 -6.191406 -8.390625 -5.847656 -8.722656 C -5.503906 -9.054688 -4.976563 -9.222656 -4.269531 -9.222656 L 0 -9.222656 L 0 -8.171875 L -3.917969 -8.171875 C -4.335938 -8.167969 -4.640625 -8.132813 -4.828125 -8.070313 C -5.015625 -8 -5.164063 -7.878906 -5.277344 -7.699219 C -5.390625 -7.519531 -5.449219 -7.308594 -5.449219 -7.066406 C -5.449219 -6.628906 -5.300781 -6.265625 -5.011719 -5.976563 C -4.71875 -5.6875 -4.253906 -5.542969 -3.613281 -5.542969 L 0 -5.542969 L 0 -4.488281 L -4.042969 -4.488281 C -4.511719 -4.488281 -4.863281 -4.402344 -5.097656 -4.230469 C -5.332031 -4.058594 -5.449219 -3.777344 -5.449219 -3.386719 C -5.449219 -3.089844 -5.371094 -2.8125 -5.214844 -2.5625 C -5.058594 -2.308594 -4.828125 -2.128906 -4.527344 -2.015625 C -4.226563 -1.902344 -3.792969 -1.84375 -3.226563 -1.847656 L 0 -1.84375 Z M 0 -0.789063 \"/>\n",
       "</symbol>\n",
       "<symbol overflow=\"visible\" id=\"glyph1-9\">\n",
       "<path style=\"stroke:none;\" d=\"M -0.765625 -4.851563 C -0.433594 -4.460938 -0.199219 -4.082031 -0.0625 -3.722656 C 0.0742188 -3.355469 0.140625 -2.96875 0.140625 -2.5625 C 0.140625 -1.875 -0.0234375 -1.351563 -0.359375 -0.984375 C -0.6875 -0.617188 -1.117188 -0.433594 -1.640625 -0.433594 C -1.945313 -0.433594 -2.222656 -0.5 -2.472656 -0.640625 C -2.722656 -0.777344 -2.925781 -0.960938 -3.082031 -1.1875 C -3.234375 -1.410156 -3.347656 -1.664063 -3.429688 -1.945313 C -3.476563 -2.152344 -3.53125 -2.464844 -3.585938 -2.882813 C -3.6875 -3.734375 -3.808594 -4.359375 -3.949219 -4.765625 C -4.089844 -4.765625 -4.179688 -4.769531 -4.226563 -4.769531 C -4.648438 -4.769531 -4.953125 -4.667969 -5.132813 -4.46875 C -5.371094 -4.199219 -5.488281 -3.800781 -5.492188 -3.269531 C -5.488281 -2.773438 -5.402344 -2.40625 -5.230469 -2.171875 C -5.054688 -1.933594 -4.746094 -1.757813 -4.304688 -1.648438 L -4.445313 -0.617188 C -4.886719 -0.707031 -5.242188 -0.863281 -5.515625 -1.078125 C -5.78125 -1.292969 -5.992188 -1.601563 -6.140625 -2.011719 C -6.289063 -2.414063 -6.363281 -2.886719 -6.363281 -3.421875 C -6.363281 -3.953125 -6.300781 -4.382813 -6.175781 -4.714844 C -6.050781 -5.046875 -5.890625 -5.292969 -5.703125 -5.449219 C -5.511719 -5.605469 -5.273438 -5.714844 -4.984375 -5.777344 C -4.804688 -5.808594 -4.480469 -5.824219 -4.015625 -5.828125 L -2.605469 -5.828125 C -1.625 -5.824219 -1.003906 -5.847656 -0.746094 -5.894531 C -0.480469 -5.941406 -0.234375 -6.03125 0 -6.164063 L 0 -5.0625 C -0.21875 -4.953125 -0.472656 -4.882813 -0.765625 -4.851563 Z M -3.121094 -4.765625 C -2.960938 -4.375 -2.828125 -3.800781 -2.726563 -3.039063 C -2.660156 -2.605469 -2.589844 -2.300781 -2.515625 -2.121094 C -2.433594 -1.941406 -2.320313 -1.800781 -2.171875 -1.703125 C -2.019531 -1.605469 -1.851563 -1.558594 -1.671875 -1.558594 C -1.386719 -1.558594 -1.152344 -1.664063 -0.964844 -1.875 C -0.773438 -2.085938 -0.679688 -2.398438 -0.683594 -2.8125 C -0.679688 -3.21875 -0.769531 -3.578125 -0.949219 -3.894531 C -1.128906 -4.210938 -1.371094 -4.445313 -1.679688 -4.59375 C -1.917969 -4.707031 -2.269531 -4.761719 -2.734375 -4.765625 Z M -3.121094 -4.765625 \"/>\n",
       "</symbol>\n",
       "<symbol overflow=\"visible\" id=\"glyph2-0\">\n",
       "<path style=\"stroke:none;\" d=\"M 0.984375 0 L 0.984375 -10.308594 L 3.066406 -10.308594 L 3.066406 0 Z M 0.984375 0 \"/>\n",
       "</symbol>\n",
       "<symbol overflow=\"visible\" id=\"glyph2-1\">\n",
       "<path style=\"stroke:none;\" d=\"M 7.824219 0 L 5.851563 0 L 5.851563 -3.8125 C 5.847656 -4.613281 5.804688 -5.132813 5.722656 -5.375 C 5.636719 -5.609375 5.5 -5.792969 5.3125 -5.925781 C 5.121094 -6.054688 4.890625 -6.121094 4.625 -6.125 C 4.28125 -6.121094 3.976563 -6.027344 3.703125 -5.84375 C 3.429688 -5.652344 3.242188 -5.40625 3.144531 -5.097656 C 3.042969 -4.785156 2.992188 -4.210938 2.996094 -3.382813 L 2.996094 0 L 1.019531 0 L 1.019531 -7.46875 L 2.855469 -7.46875 L 2.855469 -6.371094 C 3.503906 -7.210938 4.324219 -7.632813 5.316406 -7.636719 C 5.746094 -7.632813 6.144531 -7.554688 6.507813 -7.398438 C 6.867188 -7.238281 7.140625 -7.039063 7.328125 -6.796875 C 7.511719 -6.554688 7.640625 -6.277344 7.714844 -5.96875 C 7.785156 -5.65625 7.820313 -5.214844 7.824219 -4.640625 Z M 7.824219 0 \"/>\n",
       "</symbol>\n",
       "<symbol overflow=\"visible\" id=\"glyph2-2\">\n",
       "<path style=\"stroke:none;\" d=\"M 4.457031 -7.46875 L 4.457031 -5.890625 L 3.109375 -5.890625 L 3.109375 -2.882813 C 3.105469 -2.273438 3.117188 -1.917969 3.144531 -1.816406 C 3.167969 -1.714844 3.226563 -1.628906 3.320313 -1.566406 C 3.410156 -1.496094 3.523438 -1.464844 3.65625 -1.46875 C 3.835938 -1.464844 4.097656 -1.527344 4.449219 -1.660156 L 4.621094 -0.125 C 4.15625 0.0703125 3.636719 0.164063 3.058594 0.167969 C 2.699219 0.164063 2.375 0.105469 2.09375 -0.0117188 C 1.804688 -0.128906 1.597656 -0.28125 1.464844 -0.472656 C 1.332031 -0.660156 1.238281 -0.917969 1.1875 -1.246094 C 1.144531 -1.472656 1.125 -1.9375 1.125 -2.636719 L 1.125 -5.890625 L 0.21875 -5.890625 L 0.21875 -7.46875 L 1.125 -7.46875 L 1.125 -8.949219 L 3.109375 -10.105469 L 3.109375 -7.46875 Z M 4.457031 -7.46875 \"/>\n",
       "</symbol>\n",
       "<symbol overflow=\"visible\" id=\"glyph2-3\">\n",
       "<path style=\"stroke:none;\" d=\"M 5.359375 -2.375 L 7.328125 -2.046875 C 7.070313 -1.320313 6.667969 -0.773438 6.125 -0.398438 C 5.578125 -0.0234375 4.898438 0.164063 4.078125 0.167969 C 2.777344 0.164063 1.816406 -0.257813 1.195313 -1.105469 C 0.703125 -1.78125 0.457031 -2.636719 0.457031 -3.675781 C 0.457031 -4.910156 0.777344 -5.882813 1.425781 -6.585938 C 2.070313 -7.285156 2.890625 -7.632813 3.882813 -7.636719 C 4.988281 -7.632813 5.863281 -7.265625 6.507813 -6.535156 C 7.148438 -5.796875 7.457031 -4.675781 7.433594 -3.164063 L 2.480469 -3.164063 C 2.492188 -2.578125 2.652344 -2.121094 2.960938 -1.796875 C 3.261719 -1.46875 3.640625 -1.304688 4.097656 -1.308594 C 4.402344 -1.304688 4.664063 -1.390625 4.878906 -1.558594 C 5.085938 -1.726563 5.246094 -1.996094 5.359375 -2.375 Z M 5.46875 -4.375 C 5.453125 -4.941406 5.308594 -5.375 5.027344 -5.675781 C 4.746094 -5.972656 4.402344 -6.121094 4 -6.125 C 3.566406 -6.121094 3.210938 -5.964844 2.933594 -5.652344 C 2.648438 -5.335938 2.507813 -4.910156 2.515625 -4.375 Z M 5.46875 -4.375 \"/>\n",
       "</symbol>\n",
       "<symbol overflow=\"visible\" id=\"glyph2-4\">\n",
       "<path style=\"stroke:none;\" d=\"M 2.925781 0 L 0.949219 0 L 0.949219 -7.46875 L 2.785156 -7.46875 L 2.785156 -6.40625 C 3.09375 -6.902344 3.375 -7.234375 3.628906 -7.394531 C 3.878906 -7.554688 4.164063 -7.632813 4.484375 -7.636719 C 4.929688 -7.632813 5.363281 -7.507813 5.785156 -7.261719 L 5.175781 -5.539063 C 4.839844 -5.75 4.53125 -5.859375 4.246094 -5.863281 C 3.96875 -5.859375 3.734375 -5.78125 3.542969 -5.632813 C 3.347656 -5.476563 3.195313 -5.203125 3.089844 -4.808594 C 2.976563 -4.40625 2.921875 -3.570313 2.925781 -2.304688 Z M 2.925781 0 \"/>\n",
       "</symbol>\n",
       "<symbol overflow=\"visible\" id=\"glyph2-5\">\n",
       "<path style=\"stroke:none;\" d=\"M 3.085938 0 L 0.078125 -7.46875 L 2.152344 -7.46875 L 3.558594 -3.65625 L 3.964844 -2.382813 C 4.070313 -2.703125 4.136719 -2.917969 4.167969 -3.023438 C 4.230469 -3.234375 4.300781 -3.445313 4.378906 -3.65625 L 5.800781 -7.46875 L 7.832031 -7.46875 L 4.867188 0 Z M 3.085938 0 \"/>\n",
       "</symbol>\n",
       "<symbol overflow=\"visible\" id=\"glyph2-6\">\n",
       "<path style=\"stroke:none;\" d=\"M 2.511719 -5.1875 L 0.71875 -5.511719 C 0.917969 -6.230469 1.265625 -6.765625 1.757813 -7.113281 C 2.25 -7.460938 2.980469 -7.632813 3.953125 -7.636719 C 4.832031 -7.632813 5.488281 -7.53125 5.917969 -7.324219 C 6.347656 -7.113281 6.648438 -6.847656 6.828125 -6.527344 C 7 -6.207031 7.089844 -5.617188 7.09375 -4.761719 L 7.074219 -2.453125 C 7.070313 -1.792969 7.101563 -1.308594 7.167969 -1 C 7.226563 -0.6875 7.347656 -0.355469 7.523438 0 L 5.570313 0 C 5.515625 -0.128906 5.453125 -0.320313 5.378906 -0.582031 C 5.34375 -0.695313 5.320313 -0.773438 5.308594 -0.816406 C 4.96875 -0.484375 4.605469 -0.238281 4.222656 -0.078125 C 3.835938 0.0859375 3.425781 0.164063 2.996094 0.167969 C 2.222656 0.164063 1.617188 -0.0429688 1.175781 -0.457031 C 0.730469 -0.871094 0.507813 -1.398438 0.511719 -2.039063 C 0.507813 -2.460938 0.609375 -2.835938 0.8125 -3.167969 C 1.011719 -3.496094 1.292969 -3.75 1.660156 -3.925781 C 2.019531 -4.101563 2.546875 -4.253906 3.234375 -4.386719 C 4.15625 -4.558594 4.792969 -4.71875 5.152344 -4.871094 L 5.152344 -5.070313 C 5.148438 -5.445313 5.054688 -5.71875 4.871094 -5.882813 C 4.679688 -6.042969 4.328125 -6.121094 3.8125 -6.125 C 3.457031 -6.121094 3.183594 -6.054688 2.988281 -5.917969 C 2.789063 -5.777344 2.628906 -5.53125 2.511719 -5.1875 Z M 5.152344 -3.585938 C 4.894531 -3.5 4.496094 -3.398438 3.949219 -3.285156 C 3.402344 -3.164063 3.042969 -3.046875 2.875 -2.9375 C 2.613281 -2.75 2.484375 -2.519531 2.488281 -2.242188 C 2.484375 -1.964844 2.585938 -1.726563 2.796875 -1.523438 C 3 -1.320313 3.265625 -1.21875 3.585938 -1.222656 C 3.941406 -1.21875 4.28125 -1.335938 4.605469 -1.574219 C 4.84375 -1.75 5 -1.96875 5.078125 -2.230469 C 5.125 -2.394531 5.148438 -2.714844 5.152344 -3.191406 Z M 5.152344 -3.585938 \"/>\n",
       "</symbol>\n",
       "<symbol overflow=\"visible\" id=\"glyph2-7\">\n",
       "<path style=\"stroke:none;\" d=\"M 1.035156 0 L 1.035156 -10.308594 L 3.007813 -10.308594 L 3.007813 0 Z M 1.035156 0 \"/>\n",
       "</symbol>\n",
       "<symbol overflow=\"visible\" id=\"glyph2-8\">\n",
       "<path style=\"stroke:none;\" d=\"M 0.335938 -2.128906 L 2.320313 -2.433594 C 2.402344 -2.042969 2.570313 -1.75 2.832031 -1.554688 C 3.085938 -1.351563 3.449219 -1.253906 3.917969 -1.257813 C 4.425781 -1.253906 4.808594 -1.347656 5.070313 -1.539063 C 5.238281 -1.667969 5.324219 -1.84375 5.328125 -2.066406 C 5.324219 -2.214844 5.277344 -2.339844 5.1875 -2.441406 C 5.085938 -2.53125 4.867188 -2.617188 4.527344 -2.699219 C 2.929688 -3.046875 1.917969 -3.367188 1.496094 -3.664063 C 0.902344 -4.0625 0.609375 -4.625 0.613281 -5.34375 C 0.609375 -5.988281 0.863281 -6.53125 1.378906 -6.972656 C 1.886719 -7.414063 2.679688 -7.632813 3.753906 -7.636719 C 4.773438 -7.632813 5.53125 -7.46875 6.03125 -7.136719 C 6.523438 -6.800781 6.867188 -6.308594 7.058594 -5.660156 L 5.195313 -5.316406 C 5.113281 -5.601563 4.960938 -5.824219 4.742188 -5.980469 C 4.515625 -6.132813 4.199219 -6.210938 3.789063 -6.214844 C 3.265625 -6.210938 2.894531 -6.136719 2.671875 -5.996094 C 2.519531 -5.890625 2.441406 -5.757813 2.445313 -5.597656 C 2.441406 -5.453125 2.507813 -5.335938 2.644531 -5.238281 C 2.816406 -5.105469 3.433594 -4.917969 4.488281 -4.683594 C 5.539063 -4.441406 6.273438 -4.148438 6.695313 -3.804688 C 7.105469 -3.449219 7.3125 -2.960938 7.3125 -2.335938 C 7.3125 -1.648438 7.023438 -1.058594 6.453125 -0.570313 C 5.878906 -0.078125 5.035156 0.164063 3.917969 0.167969 C 2.898438 0.164063 2.09375 -0.0390625 1.5 -0.449219 C 0.90625 -0.859375 0.515625 -1.417969 0.335938 -2.128906 Z M 0.335938 -2.128906 \"/>\n",
       "</symbol>\n",
       "<symbol overflow=\"visible\" id=\"glyph2-9\">\n",
       "<path style=\"stroke:none;\" d=\"\"/>\n",
       "</symbol>\n",
       "<symbol overflow=\"visible\" id=\"glyph2-10\">\n",
       "<path style=\"stroke:none;\" d=\"M 0.949219 0 L 0.949219 -10.308594 L 2.925781 -10.308594 L 2.925781 -6.59375 C 3.53125 -7.285156 4.253906 -7.632813 5.089844 -7.636719 C 5.996094 -7.632813 6.75 -7.304688 7.347656 -6.648438 C 7.941406 -5.988281 8.238281 -5.042969 8.242188 -3.8125 C 8.238281 -2.535156 7.933594 -1.550781 7.328125 -0.863281 C 6.71875 -0.175781 5.980469 0.164063 5.117188 0.167969 C 4.6875 0.164063 4.269531 0.0585938 3.855469 -0.152344 C 3.441406 -0.363281 3.082031 -0.675781 2.785156 -1.097656 L 2.785156 0 Z M 2.910156 -3.894531 C 2.90625 -3.117188 3.027344 -2.546875 3.277344 -2.179688 C 3.613281 -1.652344 4.070313 -1.386719 4.640625 -1.390625 C 5.074219 -1.386719 5.445313 -1.574219 5.753906 -1.949219 C 6.058594 -2.320313 6.210938 -2.90625 6.214844 -3.710938 C 6.210938 -4.5625 6.054688 -5.179688 5.75 -5.558594 C 5.4375 -5.933594 5.042969 -6.121094 4.5625 -6.125 C 4.085938 -6.121094 3.691406 -5.9375 3.378906 -5.570313 C 3.0625 -5.199219 2.90625 -4.640625 2.910156 -3.894531 Z M 2.910156 -3.894531 \"/>\n",
       "</symbol>\n",
       "<symbol overflow=\"visible\" id=\"glyph2-11\">\n",
       "<path style=\"stroke:none;\" d=\"M 7.882813 0 L 6.046875 0 L 6.046875 -1.097656 C 5.742188 -0.667969 5.378906 -0.351563 4.964844 -0.144531 C 4.546875 0.0625 4.128906 0.164063 3.710938 0.167969 C 2.851563 0.164063 2.117188 -0.179688 1.507813 -0.867188 C 0.890625 -1.558594 0.585938 -2.523438 0.589844 -3.761719 C 0.585938 -5.027344 0.882813 -5.988281 1.480469 -6.648438 C 2.074219 -7.304688 2.828125 -7.632813 3.742188 -7.636719 C 4.574219 -7.632813 5.296875 -7.285156 5.90625 -6.59375 L 5.90625 -10.308594 L 7.882813 -10.308594 Z M 2.609375 -3.894531 C 2.605469 -3.09375 2.714844 -2.515625 2.9375 -2.164063 C 3.253906 -1.644531 3.699219 -1.386719 4.273438 -1.390625 C 4.726563 -1.386719 5.113281 -1.582031 5.433594 -1.96875 C 5.75 -2.355469 5.910156 -2.933594 5.914063 -3.707031 C 5.910156 -4.5625 5.757813 -5.179688 5.449219 -5.558594 C 5.136719 -5.933594 4.738281 -6.121094 4.261719 -6.125 C 3.789063 -6.121094 3.398438 -5.9375 3.082031 -5.566406 C 2.765625 -5.191406 2.605469 -4.632813 2.609375 -3.894531 Z M 2.609375 -3.894531 \"/>\n",
       "</symbol>\n",
       "<symbol overflow=\"visible\" id=\"glyph2-12\">\n",
       "<path style=\"stroke:none;\" d=\"M 0.578125 -3.839844 C 0.574219 -4.492188 0.734375 -5.128906 1.0625 -5.742188 C 1.382813 -6.355469 1.839844 -6.824219 2.433594 -7.148438 C 3.023438 -7.472656 3.6875 -7.632813 4.421875 -7.636719 C 5.550781 -7.632813 6.476563 -7.265625 7.199219 -6.535156 C 7.917969 -5.796875 8.277344 -4.871094 8.28125 -3.753906 C 8.277344 -2.621094 7.914063 -1.683594 7.1875 -0.945313 C 6.457031 -0.203125 5.539063 0.164063 4.4375 0.167969 C 3.75 0.164063 3.097656 0.0117188 2.476563 -0.292969 C 1.855469 -0.601563 1.382813 -1.054688 1.0625 -1.652344 C 0.734375 -2.25 0.574219 -2.976563 0.578125 -3.839844 Z M 2.601563 -3.734375 C 2.601563 -2.988281 2.777344 -2.421875 3.128906 -2.03125 C 3.480469 -1.636719 3.914063 -1.441406 4.429688 -1.441406 C 4.945313 -1.441406 5.375 -1.636719 5.726563 -2.03125 C 6.070313 -2.421875 6.246094 -2.992188 6.25 -3.746094 C 6.246094 -4.472656 6.070313 -5.035156 5.726563 -5.433594 C 5.375 -5.824219 4.945313 -6.023438 4.429688 -6.027344 C 3.914063 -6.023438 3.480469 -5.824219 3.128906 -5.433594 C 2.777344 -5.035156 2.601563 -4.46875 2.601563 -3.734375 Z M 2.601563 -3.734375 \"/>\n",
       "</symbol>\n",
       "<symbol overflow=\"visible\" id=\"glyph2-13\">\n",
       "<path style=\"stroke:none;\" d=\"M 5.914063 2.839844 L 5.914063 -0.914063 C 5.652344 -0.578125 5.332031 -0.3125 4.949219 -0.121094 C 4.5625 0.0703125 4.148438 0.164063 3.707031 0.167969 C 2.855469 0.164063 2.15625 -0.152344 1.609375 -0.789063 C 0.960938 -1.53125 0.636719 -2.539063 0.640625 -3.816406 C 0.636719 -5.011719 0.941406 -5.949219 1.550781 -6.625 C 2.15625 -7.296875 2.910156 -7.632813 3.8125 -7.636719 C 4.304688 -7.632813 4.734375 -7.527344 5.097656 -7.320313 C 5.460938 -7.105469 5.78125 -6.789063 6.066406 -6.363281 L 6.066406 -7.46875 L 7.890625 -7.46875 L 7.890625 2.839844 Z M 5.976563 -3.824219 C 5.976563 -4.585938 5.820313 -5.15625 5.507813 -5.53125 C 5.195313 -5.902344 4.804688 -6.085938 4.339844 -6.089844 C 3.859375 -6.085938 3.457031 -5.898438 3.136719 -5.519531 C 2.8125 -5.136719 2.652344 -4.53125 2.65625 -3.710938 C 2.652344 -2.886719 2.808594 -2.296875 3.121094 -1.933594 C 3.429688 -1.570313 3.8125 -1.386719 4.269531 -1.390625 C 4.71875 -1.386719 5.117188 -1.59375 5.460938 -2.003906 C 5.804688 -2.410156 5.976563 -3.015625 5.976563 -3.824219 Z M 5.976563 -3.824219 \"/>\n",
       "</symbol>\n",
       "<symbol overflow=\"visible\" id=\"glyph2-14\">\n",
       "<path style=\"stroke:none;\" d=\"M 5.949219 0 L 5.949219 -1.117188 C 5.671875 -0.714844 5.316406 -0.402344 4.875 -0.175781 C 4.429688 0.0507813 3.960938 0.164063 3.472656 0.167969 C 2.96875 0.164063 2.519531 0.0585938 2.125 -0.160156 C 1.722656 -0.378906 1.433594 -0.691406 1.257813 -1.089844 C 1.078125 -1.488281 0.988281 -2.039063 0.992188 -2.742188 L 0.992188 -7.46875 L 2.96875 -7.46875 L 2.96875 -4.035156 C 2.964844 -2.984375 3 -2.339844 3.074219 -2.105469 C 3.144531 -1.863281 3.277344 -1.675781 3.472656 -1.542969 C 3.664063 -1.402344 3.90625 -1.335938 4.203125 -1.335938 C 4.539063 -1.335938 4.84375 -1.425781 5.109375 -1.613281 C 5.375 -1.792969 5.558594 -2.023438 5.660156 -2.300781 C 5.757813 -2.574219 5.804688 -3.246094 5.808594 -4.316406 L 5.808594 -7.46875 L 7.785156 -7.46875 L 7.785156 0 Z M 5.949219 0 \"/>\n",
       "</symbol>\n",
       "<symbol overflow=\"visible\" id=\"glyph2-15\">\n",
       "<path style=\"stroke:none;\" d=\"M 1.035156 -8.480469 L 1.035156 -10.308594 L 3.007813 -10.308594 L 3.007813 -8.480469 Z M 1.035156 0 L 1.035156 -7.46875 L 3.007813 -7.46875 L 3.007813 0 Z M 1.035156 0 \"/>\n",
       "</symbol>\n",
       "</g>\n",
       "<clipPath id=\"clip1\">\n",
       "  <path d=\"M 59.039063 59.039063 L 474.757813 59.039063 L 474.757813 431.558594 L 59.039063 431.558594 Z M 59.039063 59.039063 \"/>\n",
       "</clipPath>\n",
       "</defs>\n",
       "<g id=\"surface6\">\n",
       "<rect x=\"0\" y=\"0\" width=\"504\" height=\"504\" style=\"fill:rgb(100%,100%,100%);fill-opacity:1;stroke:none;\"/>\n",
       "<path style=\"fill:none;stroke-width:0.75;stroke-linecap:round;stroke-linejoin:round;stroke:rgb(0%,0%,0%);stroke-opacity:1;stroke-miterlimit:10;\" d=\"M 98.398438 430.558594 L 434.398438 430.558594 \"/>\n",
       "<path style=\"fill:none;stroke-width:0.75;stroke-linecap:round;stroke-linejoin:round;stroke:rgb(0%,0%,0%);stroke-opacity:1;stroke-miterlimit:10;\" d=\"M 98.398438 430.558594 L 98.398438 437.761719 \"/>\n",
       "<path style=\"fill:none;stroke-width:0.75;stroke-linecap:round;stroke-linejoin:round;stroke:rgb(0%,0%,0%);stroke-opacity:1;stroke-miterlimit:10;\" d=\"M 146.398438 430.558594 L 146.398438 437.761719 \"/>\n",
       "<path style=\"fill:none;stroke-width:0.75;stroke-linecap:round;stroke-linejoin:round;stroke:rgb(0%,0%,0%);stroke-opacity:1;stroke-miterlimit:10;\" d=\"M 194.398438 430.558594 L 194.398438 437.761719 \"/>\n",
       "<path style=\"fill:none;stroke-width:0.75;stroke-linecap:round;stroke-linejoin:round;stroke:rgb(0%,0%,0%);stroke-opacity:1;stroke-miterlimit:10;\" d=\"M 242.398438 430.558594 L 242.398438 437.761719 \"/>\n",
       "<path style=\"fill:none;stroke-width:0.75;stroke-linecap:round;stroke-linejoin:round;stroke:rgb(0%,0%,0%);stroke-opacity:1;stroke-miterlimit:10;\" d=\"M 290.398438 430.558594 L 290.398438 437.761719 \"/>\n",
       "<path style=\"fill:none;stroke-width:0.75;stroke-linecap:round;stroke-linejoin:round;stroke:rgb(0%,0%,0%);stroke-opacity:1;stroke-miterlimit:10;\" d=\"M 338.398438 430.558594 L 338.398438 437.761719 \"/>\n",
       "<path style=\"fill:none;stroke-width:0.75;stroke-linecap:round;stroke-linejoin:round;stroke:rgb(0%,0%,0%);stroke-opacity:1;stroke-miterlimit:10;\" d=\"M 386.398438 430.558594 L 386.398438 437.761719 \"/>\n",
       "<path style=\"fill:none;stroke-width:0.75;stroke-linecap:round;stroke-linejoin:round;stroke:rgb(0%,0%,0%);stroke-opacity:1;stroke-miterlimit:10;\" d=\"M 434.398438 430.558594 L 434.398438 437.761719 \"/>\n",
       "<g style=\"fill:rgb(0%,0%,0%);fill-opacity:1;\">\n",
       "  <use xlink:href=\"#glyph0-0\" x=\"90.058594\" y=\"456.480469\"/>\n",
       "  <use xlink:href=\"#glyph0-1\" x=\"96.732422\" y=\"456.480469\"/>\n",
       "  <use xlink:href=\"#glyph0-0\" x=\"100.066406\" y=\"456.480469\"/>\n",
       "</g>\n",
       "<g style=\"fill:rgb(0%,0%,0%);fill-opacity:1;\">\n",
       "  <use xlink:href=\"#glyph0-0\" x=\"138.058594\" y=\"456.480469\"/>\n",
       "  <use xlink:href=\"#glyph0-1\" x=\"144.732422\" y=\"456.480469\"/>\n",
       "  <use xlink:href=\"#glyph0-2\" x=\"148.066406\" y=\"456.480469\"/>\n",
       "</g>\n",
       "<g style=\"fill:rgb(0%,0%,0%);fill-opacity:1;\">\n",
       "  <use xlink:href=\"#glyph0-2\" x=\"191.0625\" y=\"456.480469\"/>\n",
       "</g>\n",
       "<g style=\"fill:rgb(0%,0%,0%);fill-opacity:1;\">\n",
       "  <use xlink:href=\"#glyph0-3\" x=\"239.0625\" y=\"456.480469\"/>\n",
       "</g>\n",
       "<g style=\"fill:rgb(0%,0%,0%);fill-opacity:1;\">\n",
       "  <use xlink:href=\"#glyph0-4\" x=\"287.0625\" y=\"456.480469\"/>\n",
       "</g>\n",
       "<g style=\"fill:rgb(0%,0%,0%);fill-opacity:1;\">\n",
       "  <use xlink:href=\"#glyph0-5\" x=\"335.0625\" y=\"456.480469\"/>\n",
       "</g>\n",
       "<g style=\"fill:rgb(0%,0%,0%);fill-opacity:1;\">\n",
       "  <use xlink:href=\"#glyph0-6\" x=\"383.0625\" y=\"456.480469\"/>\n",
       "</g>\n",
       "<g style=\"fill:rgb(0%,0%,0%);fill-opacity:1;\">\n",
       "  <use xlink:href=\"#glyph0-7\" x=\"431.0625\" y=\"456.480469\"/>\n",
       "</g>\n",
       "<path style=\"fill:none;stroke-width:0.75;stroke-linecap:round;stroke-linejoin:round;stroke:rgb(0%,0%,0%);stroke-opacity:1;stroke-miterlimit:10;\" d=\"M 59.039063 339.046875 L 59.039063 150.960938 \"/>\n",
       "<path style=\"fill:none;stroke-width:0.75;stroke-linecap:round;stroke-linejoin:round;stroke:rgb(0%,0%,0%);stroke-opacity:1;stroke-miterlimit:10;\" d=\"M 59.039063 339.046875 L 51.839844 339.046875 \"/>\n",
       "<path style=\"fill:none;stroke-width:0.75;stroke-linecap:round;stroke-linejoin:round;stroke:rgb(0%,0%,0%);stroke-opacity:1;stroke-miterlimit:10;\" d=\"M 59.039063 245.003906 L 51.839844 245.003906 \"/>\n",
       "<path style=\"fill:none;stroke-width:0.75;stroke-linecap:round;stroke-linejoin:round;stroke:rgb(0%,0%,0%);stroke-opacity:1;stroke-miterlimit:10;\" d=\"M 59.039063 150.960938 L 51.839844 150.960938 \"/>\n",
       "<g style=\"fill:rgb(0%,0%,0%);fill-opacity:1;\">\n",
       "  <use xlink:href=\"#glyph1-0\" x=\"41.761719\" y=\"344.382813\"/>\n",
       "  <use xlink:href=\"#glyph1-1\" x=\"41.761719\" y=\"340.386719\"/>\n",
       "</g>\n",
       "<g style=\"fill:rgb(0%,0%,0%);fill-opacity:1;\">\n",
       "  <use xlink:href=\"#glyph1-0\" x=\"41.761719\" y=\"250.339844\"/>\n",
       "  <use xlink:href=\"#glyph1-2\" x=\"41.761719\" y=\"246.34375\"/>\n",
       "</g>\n",
       "<g style=\"fill:rgb(0%,0%,0%);fill-opacity:1;\">\n",
       "  <use xlink:href=\"#glyph1-3\" x=\"41.761719\" y=\"154.296875\"/>\n",
       "</g>\n",
       "<g style=\"fill:rgb(0%,0%,0%);fill-opacity:1;\">\n",
       "  <use xlink:href=\"#glyph2-0\" x=\"127.152344\" y=\"34.675781\"/>\n",
       "  <use xlink:href=\"#glyph2-1\" x=\"131.153125\" y=\"34.675781\"/>\n",
       "  <use xlink:href=\"#glyph2-2\" x=\"139.949219\" y=\"34.675781\"/>\n",
       "  <use xlink:href=\"#glyph2-3\" x=\"144.744531\" y=\"34.675781\"/>\n",
       "  <use xlink:href=\"#glyph2-4\" x=\"152.753125\" y=\"34.675781\"/>\n",
       "  <use xlink:href=\"#glyph2-5\" x=\"158.357031\" y=\"34.675781\"/>\n",
       "  <use xlink:href=\"#glyph2-6\" x=\"166.365625\" y=\"34.675781\"/>\n",
       "  <use xlink:href=\"#glyph2-7\" x=\"174.374219\" y=\"34.675781\"/>\n",
       "  <use xlink:href=\"#glyph2-8\" x=\"178.375\" y=\"34.675781\"/>\n",
       "  <use xlink:href=\"#glyph2-9\" x=\"186.383594\" y=\"34.675781\"/>\n",
       "  <use xlink:href=\"#glyph2-10\" x=\"190.384375\" y=\"34.675781\"/>\n",
       "  <use xlink:href=\"#glyph2-6\" x=\"199.180469\" y=\"34.675781\"/>\n",
       "  <use xlink:href=\"#glyph2-8\" x=\"207.189062\" y=\"34.675781\"/>\n",
       "  <use xlink:href=\"#glyph2-3\" x=\"215.197656\" y=\"34.675781\"/>\n",
       "  <use xlink:href=\"#glyph2-11\" x=\"223.20625\" y=\"34.675781\"/>\n",
       "  <use xlink:href=\"#glyph2-9\" x=\"232.002344\" y=\"34.675781\"/>\n",
       "  <use xlink:href=\"#glyph2-12\" x=\"236.003125\" y=\"34.675781\"/>\n",
       "  <use xlink:href=\"#glyph2-1\" x=\"244.799219\" y=\"34.675781\"/>\n",
       "  <use xlink:href=\"#glyph2-9\" x=\"253.595312\" y=\"34.675781\"/>\n",
       "  <use xlink:href=\"#glyph2-13\" x=\"257.596094\" y=\"34.675781\"/>\n",
       "  <use xlink:href=\"#glyph2-14\" x=\"266.392187\" y=\"34.675781\"/>\n",
       "  <use xlink:href=\"#glyph2-6\" x=\"275.188281\" y=\"34.675781\"/>\n",
       "  <use xlink:href=\"#glyph2-8\" x=\"283.196875\" y=\"34.675781\"/>\n",
       "  <use xlink:href=\"#glyph2-15\" x=\"291.205469\" y=\"34.675781\"/>\n",
       "  <use xlink:href=\"#glyph2-9\" x=\"295.20625\" y=\"34.675781\"/>\n",
       "  <use xlink:href=\"#glyph2-8\" x=\"299.207031\" y=\"34.675781\"/>\n",
       "  <use xlink:href=\"#glyph2-2\" x=\"307.215625\" y=\"34.675781\"/>\n",
       "  <use xlink:href=\"#glyph2-6\" x=\"312.010937\" y=\"34.675781\"/>\n",
       "  <use xlink:href=\"#glyph2-1\" x=\"320.019531\" y=\"34.675781\"/>\n",
       "  <use xlink:href=\"#glyph2-11\" x=\"328.815625\" y=\"34.675781\"/>\n",
       "  <use xlink:href=\"#glyph2-6\" x=\"337.611719\" y=\"34.675781\"/>\n",
       "  <use xlink:href=\"#glyph2-4\" x=\"345.620312\" y=\"34.675781\"/>\n",
       "  <use xlink:href=\"#glyph2-11\" x=\"351.224219\" y=\"34.675781\"/>\n",
       "  <use xlink:href=\"#glyph2-9\" x=\"360.020312\" y=\"34.675781\"/>\n",
       "  <use xlink:href=\"#glyph2-3\" x=\"364.021094\" y=\"34.675781\"/>\n",
       "  <use xlink:href=\"#glyph2-4\" x=\"372.029687\" y=\"34.675781\"/>\n",
       "  <use xlink:href=\"#glyph2-4\" x=\"377.633594\" y=\"34.675781\"/>\n",
       "  <use xlink:href=\"#glyph2-12\" x=\"383.2375\" y=\"34.675781\"/>\n",
       "  <use xlink:href=\"#glyph2-4\" x=\"392.033594\" y=\"34.675781\"/>\n",
       "  <use xlink:href=\"#glyph2-8\" x=\"397.6375\" y=\"34.675781\"/>\n",
       "</g>\n",
       "<g style=\"fill:rgb(0%,0%,0%);fill-opacity:1;\">\n",
       "  <use xlink:href=\"#glyph0-8\" x=\"224.382813\" y=\"485.28125\"/>\n",
       "  <use xlink:href=\"#glyph0-9\" x=\"227.716797\" y=\"485.28125\"/>\n",
       "  <use xlink:href=\"#glyph0-10\" x=\"234.390625\" y=\"485.28125\"/>\n",
       "  <use xlink:href=\"#glyph0-11\" x=\"240.390625\" y=\"485.28125\"/>\n",
       "  <use xlink:href=\"#glyph0-12\" x=\"243.724609\" y=\"485.28125\"/>\n",
       "  <use xlink:href=\"#glyph0-13\" x=\"250.398438\" y=\"485.28125\"/>\n",
       "  <use xlink:href=\"#glyph0-14\" x=\"254.394531\" y=\"485.28125\"/>\n",
       "  <use xlink:href=\"#glyph0-11\" x=\"258.390625\" y=\"485.28125\"/>\n",
       "  <use xlink:href=\"#glyph0-15\" x=\"261.724609\" y=\"485.28125\"/>\n",
       "  <use xlink:href=\"#glyph0-16\" x=\"268.398438\" y=\"485.28125\"/>\n",
       "  <use xlink:href=\"#glyph0-9\" x=\"275.072266\" y=\"485.28125\"/>\n",
       "  <use xlink:href=\"#glyph0-13\" x=\"281.746094\" y=\"485.28125\"/>\n",
       "  <use xlink:href=\"#glyph0-17\" x=\"285.742188\" y=\"485.28125\"/>\n",
       "  <use xlink:href=\"#glyph0-18\" x=\"291.742188\" y=\"485.28125\"/>\n",
       "  <use xlink:href=\"#glyph0-10\" x=\"298.416016\" y=\"485.28125\"/>\n",
       "  <use xlink:href=\"#glyph0-19\" x=\"304.416016\" y=\"485.28125\"/>\n",
       "</g>\n",
       "<g style=\"fill:rgb(0%,0%,0%);fill-opacity:1;\">\n",
       "  <use xlink:href=\"#glyph1-4\" x=\"12.960938\" y=\"267.476563\"/>\n",
       "  <use xlink:href=\"#glyph1-5\" x=\"12.960938\" y=\"260.802734\"/>\n",
       "  <use xlink:href=\"#glyph1-6\" x=\"12.960938\" y=\"254.802734\"/>\n",
       "  <use xlink:href=\"#glyph1-7\" x=\"12.960938\" y=\"251.46875\"/>\n",
       "  <use xlink:href=\"#glyph1-8\" x=\"12.960938\" y=\"248.802734\"/>\n",
       "  <use xlink:href=\"#glyph1-9\" x=\"12.960938\" y=\"238.806641\"/>\n",
       "  <use xlink:href=\"#glyph1-6\" x=\"12.960938\" y=\"232.132813\"/>\n",
       "  <use xlink:href=\"#glyph1-4\" x=\"12.960938\" y=\"228.798828\"/>\n",
       "</g>\n",
       "<path style=\"fill:none;stroke-width:0.75;stroke-linecap:round;stroke-linejoin:round;stroke:rgb(0%,0%,0%);stroke-opacity:1;stroke-miterlimit:10;\" d=\"M 59.039063 430.558594 L 473.761719 430.558594 L 473.761719 59.039063 L 59.039063 59.039063 L 59.039063 430.558594 \"/>\n",
       "<g clip-path=\"url(#clip1)\" clip-rule=\"nonzero\">\n",
       "<path style=\"fill:none;stroke-width:0.75;stroke-linecap:round;stroke-linejoin:round;stroke:rgb(0%,0%,0%);stroke-opacity:1;stroke-miterlimit:10;\" d=\"M 101.101563 150.960938 C 101.101563 154.5625 95.699219 154.5625 95.699219 150.960938 C 95.699219 147.359375 101.101563 147.359375 101.101563 150.960938 \"/>\n",
       "<path style=\"fill:none;stroke-width:0.75;stroke-linecap:round;stroke-linejoin:round;stroke:rgb(0%,0%,0%);stroke-opacity:1;stroke-miterlimit:10;\" d=\"M 149.101563 116.050781 C 149.101563 119.652344 143.699219 119.652344 143.699219 116.050781 C 143.699219 112.449219 149.101563 112.449219 149.101563 116.050781 \"/>\n",
       "<path style=\"fill:none;stroke-width:0.75;stroke-linecap:round;stroke-linejoin:round;stroke:rgb(0%,0%,0%);stroke-opacity:1;stroke-miterlimit:10;\" d=\"M 197.101563 190.191406 C 197.101563 193.792969 191.699219 193.792969 191.699219 190.191406 C 191.699219 186.59375 197.101563 186.59375 197.101563 190.191406 \"/>\n",
       "<path style=\"fill:none;stroke-width:0.75;stroke-linecap:round;stroke-linejoin:round;stroke:rgb(0%,0%,0%);stroke-opacity:1;stroke-miterlimit:10;\" d=\"M 245.101563 230.753906 C 245.101563 234.355469 239.699219 234.355469 239.699219 230.753906 C 239.699219 227.15625 245.101563 227.15625 245.101563 230.753906 \"/>\n",
       "<path style=\"fill:none;stroke-width:0.75;stroke-linecap:round;stroke-linejoin:round;stroke:rgb(0%,0%,0%);stroke-opacity:1;stroke-miterlimit:10;\" d=\"M 293.101563 286.144531 C 293.101563 289.742188 287.699219 289.742188 287.699219 286.144531 C 287.699219 282.542969 293.101563 282.542969 293.101563 286.144531 \"/>\n",
       "<path style=\"fill:none;stroke-width:0.75;stroke-linecap:round;stroke-linejoin:round;stroke:rgb(0%,0%,0%);stroke-opacity:1;stroke-miterlimit:10;\" d=\"M 341.101563 315.410156 C 341.101563 319.007813 335.699219 319.007813 335.699219 315.410156 C 335.699219 311.808594 341.101563 311.808594 341.101563 315.410156 \"/>\n",
       "<path style=\"fill:none;stroke-width:0.75;stroke-linecap:round;stroke-linejoin:round;stroke:rgb(0%,0%,0%);stroke-opacity:1;stroke-miterlimit:10;\" d=\"M 389.101563 333.78125 C 389.101563 337.382813 383.699219 337.382813 383.699219 333.78125 C 383.699219 330.179688 389.101563 330.179688 389.101563 333.78125 \"/>\n",
       "<path style=\"fill:none;stroke-width:0.75;stroke-linecap:round;stroke-linejoin:round;stroke:rgb(0%,0%,0%);stroke-opacity:1;stroke-miterlimit:10;\" d=\"M 437.101563 373.023438 C 437.101563 376.625 431.699219 376.625 431.699219 373.023438 C 431.699219 369.425781 437.101563 369.425781 437.101563 373.023438 \"/>\n",
       "<path style=\"fill:none;stroke-width:0.75;stroke-linecap:round;stroke-linejoin:round;stroke:rgb(0%,0%,0%);stroke-opacity:1;stroke-miterlimit:10;\" d=\"M 98.398438 168.203125 L 98.398438 133.71875 \"/>\n",
       "<path style=\"fill:none;stroke-width:0.75;stroke-linecap:round;stroke-linejoin:round;stroke:rgb(0%,0%,0%);stroke-opacity:1;stroke-miterlimit:10;\" d=\"M 146.398438 130.632813 L 146.398438 101.464844 \"/>\n",
       "<path style=\"fill:none;stroke-width:0.75;stroke-linecap:round;stroke-linejoin:round;stroke:rgb(0%,0%,0%);stroke-opacity:1;stroke-miterlimit:10;\" d=\"M 194.398438 197.792969 L 194.398438 182.59375 \"/>\n",
       "<path style=\"fill:none;stroke-width:0.75;stroke-linecap:round;stroke-linejoin:round;stroke:rgb(0%,0%,0%);stroke-opacity:1;stroke-miterlimit:10;\" d=\"M 242.398438 239.269531 L 242.398438 222.242188 \"/>\n",
       "<path style=\"fill:none;stroke-width:0.75;stroke-linecap:round;stroke-linejoin:round;stroke:rgb(0%,0%,0%);stroke-opacity:1;stroke-miterlimit:10;\" d=\"M 290.398438 294.710938 L 290.398438 277.574219 \"/>\n",
       "<path style=\"fill:none;stroke-width:0.75;stroke-linecap:round;stroke-linejoin:round;stroke:rgb(0%,0%,0%);stroke-opacity:1;stroke-miterlimit:10;\" d=\"M 338.398438 329.976563 L 338.398438 300.839844 \"/>\n",
       "<path style=\"fill:none;stroke-width:0.75;stroke-linecap:round;stroke-linejoin:round;stroke:rgb(0%,0%,0%);stroke-opacity:1;stroke-miterlimit:10;\" d=\"M 386.398438 344.453125 L 386.398438 323.109375 \"/>\n",
       "<path style=\"fill:none;stroke-width:0.75;stroke-linecap:round;stroke-linejoin:round;stroke:rgb(0%,0%,0%);stroke-opacity:1;stroke-miterlimit:10;\" d=\"M 434.398438 388.132813 L 434.398438 357.914063 \"/>\n",
       "</g>\n",
       "</g>\n",
       "</svg>\n"
      ],
      "text/plain": [
       "Plot with title \"Intervals based on quasi standard errors\""
      ]
     },
     "metadata": {
      "image/svg+xml": {
       "isolated": true
      }
     },
     "output_type": "display_data"
    }
   ],
   "source": [
    "plot(model6.qvs)"
   ]
  },
  {
   "cell_type": "markdown",
   "metadata": {},
   "source": [
    "Parental Social Class NS-SEC (t0parsec)\n",
    "\n",
    "\n",
    "1.1 Large employers and higher managerial and administrative occupations <br>\n",
    "1.2 Higher professional occupations <br>\n",
    "2 Lower managerial, administrative and professional occupations <br>\n",
    "3 Intermediate occupations <br>\n",
    "4 Small employers and own account workers <br>\n",
    "5 Lower supervisory and technical occupations <br>\n",
    "6 Semi-routine occupations <br>\n",
    "7 Routine occupations <br>\n",
    "\n",
    "\n"
   ]
  },
  {
   "cell_type": "markdown",
   "metadata": {},
   "source": [
    "__Comments__\n",
    "\n",
    "The National Socio-economic Classification (NS-SEC) is a commonly used measure in stratification research and is the measure used in official statistics and government research in the United Kingdom. In this model I replicated the analysis of school GCSE attainment using YCS Cohort 9 through the incorporation of a parental NS-SEC measure that was derrived by Croxford et al (2007)."
   ]
  },
  {
   "cell_type": "markdown",
   "metadata": {},
   "source": [
    "---"
   ]
  },
  {
   "cell_type": "markdown",
   "metadata": {},
   "source": [
    "__The analyses above have required some more data wrangling. Therefore it is prudent to save a new copy of the data.__"
   ]
  },
  {
   "cell_type": "markdown",
   "metadata": {},
   "source": [
    "I will take a look at the objects that are knocking around."
   ]
  },
  {
   "cell_type": "code",
   "execution_count": 100,
   "metadata": {
    "collapsed": false
   },
   "outputs": [
    {
     "data": {
      "text/html": [
       "<ol class=list-inline>\n",
       "\t<li>\"drive1\"</li>\n",
       "\t<li>\"drive2\"</li>\n",
       "\t<li>\"model6\"</li>\n",
       "\t<li>\"model6.qvs\"</li>\n",
       "\t<li>\"mydata5.df\"</li>\n",
       "\t<li>\"mydata6.df\"</li>\n",
       "\t<li>\"mydataew.df\"</li>\n",
       "\t<li>\"mydataew2.df\"</li>\n",
       "\t<li>\"mydesign5\"</li>\n",
       "\t<li>\"mytablenssec\"</li>\n",
       "\t<li>\"myvarsew\"</li>\n",
       "</ol>\n"
      ],
      "text/latex": [
       "\\begin{enumerate*}\n",
       "\\item \"drive1\"\n",
       "\\item \"drive2\"\n",
       "\\item \"model6\"\n",
       "\\item \"model6.qvs\"\n",
       "\\item \"mydata5.df\"\n",
       "\\item \"mydata6.df\"\n",
       "\\item \"mydataew.df\"\n",
       "\\item \"mydataew2.df\"\n",
       "\\item \"mydesign5\"\n",
       "\\item \"mytablenssec\"\n",
       "\\item \"myvarsew\"\n",
       "\\end{enumerate*}\n"
      ],
      "text/markdown": [
       "1. \"drive1\"\n",
       "2. \"drive2\"\n",
       "3. \"model6\"\n",
       "4. \"model6.qvs\"\n",
       "5. \"mydata5.df\"\n",
       "6. \"mydata6.df\"\n",
       "7. \"mydataew.df\"\n",
       "8. \"mydataew2.df\"\n",
       "9. \"mydesign5\"\n",
       "10. \"mytablenssec\"\n",
       "11. \"myvarsew\"\n",
       "\n",
       "\n"
      ],
      "text/plain": [
       " [1] \"drive1\"       \"drive2\"       \"model6\"       \"model6.qvs\"   \"mydata5.df\"  \n",
       " [6] \"mydata6.df\"   \"mydataew.df\"  \"mydataew2.df\" \"mydesign5\"    \"mytablenssec\"\n",
       "[11] \"myvarsew\"    "
      ]
     },
     "execution_count": 100,
     "metadata": {},
     "output_type": "execute_result"
    }
   ],
   "source": [
    "ls()"
   ]
  },
  {
   "cell_type": "markdown",
   "metadata": {},
   "source": [
    "To avoid confusion later and to help to keep the workflow clear I have created a new data frame \"mydata6.df\".\n",
    "\n",
    "__mydata6.df__ is a file that combines YCS cohort 9 file \"ycs9sw1\" [SN: 4009] and \"ew_core\" from Croxford (2007) [SN: 5765].\n",
    "\n"
   ]
  },
  {
   "cell_type": "code",
   "execution_count": 102,
   "metadata": {
    "collapsed": false
   },
   "outputs": [
    {
     "name": "stdout",
     "output_type": "stream",
     "text": [
      "'data.frame':\t12789 obs. of  33 variables:\n",
      " $ serial      : int  200001 200004 200005 200006 200014 200023 200024 200025 200032 200035 ...\n",
      " $ weight      : num  0.875 0.976 0.976 0.976 0.959 ...\n",
      " $ sex         : Factor w/ 4 levels \"not answered (9)\",..: 4 3 3 3 4 3 4 3 4 4 ...\n",
      " $ s1a_c       : int  9 9 9 9 2 2 7 3 10 1 ...\n",
      " $ a58         : Factor w/ 15 levels \"not answered (99)\",..: 4 4 8 4 4 4 4 4 4 4 ...\n",
      " $ s1eth       : Factor w/ 9 levels \"not answered (9)\",..: 5 5 7 5 5 5 5 5 5 5 ...\n",
      " $ s1acqe      : Factor w/ 9 levels \"not answered (9)\",..: 5 5 5 5 6 6 5 6 5 6 ...\n",
      " $ pseg        : int  0 0 0 0 0 0 0 0 0 0 ...\n",
      " $ prof_man    : int  1 0 0 0 0 1 0 1 0 0 ...\n",
      " $ o_non_man   : int  0 1 0 1 0 0 0 0 1 0 ...\n",
      " $ skilled_man : int  0 0 1 0 1 0 1 0 0 1 ...\n",
      " $ semi_skilled: int  0 0 0 0 0 0 0 0 0 0 ...\n",
      " $ pseg5       : int  0 0 0 0 0 0 0 0 0 0 ...\n",
      " $ pseg6       : int  0 0 0 0 0 0 0 0 0 0 ...\n",
      " $ pseg7       : int  0 0 0 0 0 0 0 0 0 0 ...\n",
      " $ s15a_c      : num  1 1 1 1 0 0 1 0 1 0 ...\n",
      " $ girls       : num  1 0 0 0 1 0 1 0 1 1 ...\n",
      " $ ethnic1     : Factor w/ 6 levels \"1\",\"2\",\"3\",\"4\",..: 1 1 3 1 1 1 1 1 1 1 ...\n",
      " $ white       : num  1 1 0 1 1 1 1 1 1 1 ...\n",
      " $ black       : num  0 0 0 0 0 0 0 0 0 0 ...\n",
      " $ indian      : num  0 0 1 0 0 0 0 0 0 0 ...\n",
      " $ pakistani   : num  0 0 0 0 0 0 0 0 0 0 ...\n",
      " $ bangladeshi : num  0 0 0 0 0 0 0 0 0 0 ...\n",
      " $ chinese     : num  0 0 0 0 0 0 0 0 0 0 ...\n",
      " $ other       : num  0 0 0 0 0 0 0 0 0 0 ...\n",
      " $ ethnic2     : num  4 4 3 4 4 4 4 4 4 4 ...\n",
      " $ ethnic3     : num  1 1 3 1 1 1 1 1 1 1 ...\n",
      " $ t0cohort    : int  1997 1997 1997 1997 1997 1997 1997 1997 1997 1997 ...\n",
      " $ t0nation    : Factor w/ 3 levels \"england\",\"wales\",..: 1 1 1 1 1 1 1 1 1 1 ...\n",
      " $ t0source    : chr  \"ycs9\" \"ycs9\" \"ycs9\" \"ycs9\" ...\n",
      " $ t1weight    : num  0.875 0.976 0.976 0.976 0.959 ...\n",
      " $ t1resp      : Factor w/ 2 levels \"did not respond\",..: 2 2 2 2 2 2 2 2 2 2 ...\n",
      " $ t0parsec    : Factor w/ 8 levels \"1.1\",\"1.2\",\"2\",..: 1 5 5 3 5 2 6 1 4 5 ...\n"
     ]
    }
   ],
   "source": [
    "str(mydata6.df)"
   ]
  },
  {
   "cell_type": "code",
   "execution_count": 103,
   "metadata": {
    "collapsed": true
   },
   "outputs": [],
   "source": [
    "save(mydata6.df,file=\"ycs9sw1_v4.rda\")"
   ]
  },
  {
   "cell_type": "markdown",
   "metadata": {},
   "source": [
    "Here I make a Stata copy of the file just in case I required it for _swivel chair_ activities later in the workflow."
   ]
  },
  {
   "cell_type": "code",
   "execution_count": 104,
   "metadata": {
    "collapsed": true
   },
   "outputs": [],
   "source": [
    "write.dta(mydata6.df, \"ycs9sw1_v4.dta\")"
   ]
  },
  {
   "cell_type": "markdown",
   "metadata": {
    "collapsed": true
   },
   "source": [
    "---"
   ]
  },
  {
   "cell_type": "markdown",
   "metadata": {},
   "source": [
    "---"
   ]
  },
  {
   "cell_type": "markdown",
   "metadata": {
    "collapsed": false
   },
   "source": [
    "# Producing a Data Dictionary (or Codebook)\n",
    " <a class=\"anchor\" id=\"codebook-production\"></a>"
   ]
  },
  {
   "cell_type": "code",
   "execution_count": 105,
   "metadata": {
    "collapsed": false
   },
   "outputs": [
    {
     "data": {
      "text/html": [
       "<ol class=list-inline>\n",
       "\t<li>\"drive1\"</li>\n",
       "\t<li>\"drive2\"</li>\n",
       "\t<li>\"model6\"</li>\n",
       "\t<li>\"model6.qvs\"</li>\n",
       "\t<li>\"mydata5.df\"</li>\n",
       "\t<li>\"mydata6.df\"</li>\n",
       "\t<li>\"mydataew.df\"</li>\n",
       "\t<li>\"mydataew2.df\"</li>\n",
       "\t<li>\"mydesign5\"</li>\n",
       "\t<li>\"mytablenssec\"</li>\n",
       "\t<li>\"myvarsew\"</li>\n",
       "</ol>\n"
      ],
      "text/latex": [
       "\\begin{enumerate*}\n",
       "\\item \"drive1\"\n",
       "\\item \"drive2\"\n",
       "\\item \"model6\"\n",
       "\\item \"model6.qvs\"\n",
       "\\item \"mydata5.df\"\n",
       "\\item \"mydata6.df\"\n",
       "\\item \"mydataew.df\"\n",
       "\\item \"mydataew2.df\"\n",
       "\\item \"mydesign5\"\n",
       "\\item \"mytablenssec\"\n",
       "\\item \"myvarsew\"\n",
       "\\end{enumerate*}\n"
      ],
      "text/markdown": [
       "1. \"drive1\"\n",
       "2. \"drive2\"\n",
       "3. \"model6\"\n",
       "4. \"model6.qvs\"\n",
       "5. \"mydata5.df\"\n",
       "6. \"mydata6.df\"\n",
       "7. \"mydataew.df\"\n",
       "8. \"mydataew2.df\"\n",
       "9. \"mydesign5\"\n",
       "10. \"mytablenssec\"\n",
       "11. \"myvarsew\"\n",
       "\n",
       "\n"
      ],
      "text/plain": [
       " [1] \"drive1\"       \"drive2\"       \"model6\"       \"model6.qvs\"   \"mydata5.df\"  \n",
       " [6] \"mydata6.df\"   \"mydataew.df\"  \"mydataew2.df\" \"mydesign5\"    \"mytablenssec\"\n",
       "[11] \"myvarsew\"    "
      ]
     },
     "execution_count": 105,
     "metadata": {},
     "output_type": "execute_result"
    }
   ],
   "source": [
    "load (\"ycs9sw1_v4.rda\")\n",
    "ls()"
   ]
  },
  {
   "cell_type": "code",
   "execution_count": 106,
   "metadata": {
    "collapsed": false
   },
   "outputs": [
    {
     "name": "stdout",
     "output_type": "stream",
     "text": [
      "'data.frame':\t12789 obs. of  33 variables:\n",
      " $ serial      : int  200001 200004 200005 200006 200014 200023 200024 200025 200032 200035 ...\n",
      " $ weight      : num  0.875 0.976 0.976 0.976 0.959 ...\n",
      " $ sex         : Factor w/ 4 levels \"not answered (9)\",..: 4 3 3 3 4 3 4 3 4 4 ...\n",
      " $ s1a_c       : int  9 9 9 9 2 2 7 3 10 1 ...\n",
      " $ a58         : Factor w/ 15 levels \"not answered (99)\",..: 4 4 8 4 4 4 4 4 4 4 ...\n",
      " $ s1eth       : Factor w/ 9 levels \"not answered (9)\",..: 5 5 7 5 5 5 5 5 5 5 ...\n",
      " $ s1acqe      : Factor w/ 9 levels \"not answered (9)\",..: 5 5 5 5 6 6 5 6 5 6 ...\n",
      " $ pseg        : int  0 0 0 0 0 0 0 0 0 0 ...\n",
      " $ prof_man    : int  1 0 0 0 0 1 0 1 0 0 ...\n",
      " $ o_non_man   : int  0 1 0 1 0 0 0 0 1 0 ...\n",
      " $ skilled_man : int  0 0 1 0 1 0 1 0 0 1 ...\n",
      " $ semi_skilled: int  0 0 0 0 0 0 0 0 0 0 ...\n",
      " $ pseg5       : int  0 0 0 0 0 0 0 0 0 0 ...\n",
      " $ pseg6       : int  0 0 0 0 0 0 0 0 0 0 ...\n",
      " $ pseg7       : int  0 0 0 0 0 0 0 0 0 0 ...\n",
      " $ s15a_c      : num  1 1 1 1 0 0 1 0 1 0 ...\n",
      " $ girls       : num  1 0 0 0 1 0 1 0 1 1 ...\n",
      " $ ethnic1     : Factor w/ 6 levels \"1\",\"2\",\"3\",\"4\",..: 1 1 3 1 1 1 1 1 1 1 ...\n",
      " $ white       : num  1 1 0 1 1 1 1 1 1 1 ...\n",
      " $ black       : num  0 0 0 0 0 0 0 0 0 0 ...\n",
      " $ indian      : num  0 0 1 0 0 0 0 0 0 0 ...\n",
      " $ pakistani   : num  0 0 0 0 0 0 0 0 0 0 ...\n",
      " $ bangladeshi : num  0 0 0 0 0 0 0 0 0 0 ...\n",
      " $ chinese     : num  0 0 0 0 0 0 0 0 0 0 ...\n",
      " $ other       : num  0 0 0 0 0 0 0 0 0 0 ...\n",
      " $ ethnic2     : num  4 4 3 4 4 4 4 4 4 4 ...\n",
      " $ ethnic3     : num  1 1 3 1 1 1 1 1 1 1 ...\n",
      " $ t0cohort    : int  1997 1997 1997 1997 1997 1997 1997 1997 1997 1997 ...\n",
      " $ t0nation    : Factor w/ 3 levels \"england\",\"wales\",..: 1 1 1 1 1 1 1 1 1 1 ...\n",
      " $ t0source    : chr  \"ycs9\" \"ycs9\" \"ycs9\" \"ycs9\" ...\n",
      " $ t1weight    : num  0.875 0.976 0.976 0.976 0.959 ...\n",
      " $ t1resp      : Factor w/ 2 levels \"did not respond\",..: 2 2 2 2 2 2 2 2 2 2 ...\n",
      " $ t0parsec    : Factor w/ 8 levels \"1.1\",\"1.2\",\"2\",..: 1 5 5 3 5 2 6 1 4 5 ...\n"
     ]
    }
   ],
   "source": [
    "str(mydata6.df)"
   ]
  },
  {
   "cell_type": "code",
   "execution_count": 107,
   "metadata": {
    "collapsed": false
   },
   "outputs": [],
   "source": [
    "myvarscb <- c(\"serial\", \"weight\", \"s15a_c\", \"girls\", \"ethnic1\", \"ethnic2\", \"ethnic3\", \n",
    "              \"white\", \"black\", \"indian\", \"pakistani\", \"bangladeshi\", \"chinese\", \"other\",\n",
    "              \"prof_man\", \"o_non_man\", \"skilled_man\", \"semi_skilled\", \"t0parsec\")\n"
   ]
  },
  {
   "cell_type": "code",
   "execution_count": 11,
   "metadata": {
    "collapsed": false
   },
   "outputs": [
    {
     "name": "stdout",
     "output_type": "stream",
     "text": [
      "'data.frame':\t12789 obs. of  19 variables:\n",
      " $ serial      : int  200001 200004 200005 200006 200014 200023 200024 200025 200032 200035 ...\n",
      " $ weight      : num  0.875 0.976 0.976 0.976 0.959 ...\n",
      " $ s15a_c      : num  1 1 1 1 0 0 1 0 1 0 ...\n",
      " $ girls       : num  1 0 0 0 1 0 1 0 1 1 ...\n",
      " $ ethnic1     : Factor w/ 6 levels \"1\",\"2\",\"3\",\"4\",..: 1 1 3 1 1 1 1 1 1 1 ...\n",
      " $ ethnic2     : num  4 4 3 4 4 4 4 4 4 4 ...\n",
      " $ ethnic3     : num  1 1 3 1 1 1 1 1 1 1 ...\n",
      " $ white       : num  1 1 0 1 1 1 1 1 1 1 ...\n",
      " $ black       : num  0 0 0 0 0 0 0 0 0 0 ...\n",
      " $ indian      : num  0 0 1 0 0 0 0 0 0 0 ...\n",
      " $ pakistani   : num  0 0 0 0 0 0 0 0 0 0 ...\n",
      " $ bangladeshi : num  0 0 0 0 0 0 0 0 0 0 ...\n",
      " $ chinese     : num  0 0 0 0 0 0 0 0 0 0 ...\n",
      " $ other       : num  0 0 0 0 0 0 0 0 0 0 ...\n",
      " $ prof_man    : int  1 0 0 0 0 1 0 1 0 0 ...\n",
      " $ o_non_man   : int  0 1 0 1 0 0 0 0 1 0 ...\n",
      " $ skilled_man : int  0 0 1 0 1 0 1 0 0 1 ...\n",
      " $ semi_skilled: int  0 0 0 0 0 0 0 0 0 0 ...\n",
      " $ t0parsec    : Factor w/ 8 levels \"1.1\",\"1.2\",\"2\",..: 1 5 5 3 5 2 6 1 4 5 ...\n"
     ]
    }
   ],
   "source": [
    "mydata7.df <- mydata6.df[myvarscb]\n",
    "str(mydata7.df)"
   ]
  },
  {
   "cell_type": "markdown",
   "metadata": {},
   "source": [
    "---"
   ]
  },
  {
   "cell_type": "markdown",
   "metadata": {},
   "source": [
    "## Data Dictionary (or Codebook)##\n",
    " <a class=\"anchor\" id=\"codebook\"></a>\n",
    "\n",
    "This is the codebook for the file **ycs9sw1_v4.rda** which contains **mydata6.df** .\n",
    "\n",
    "----\n",
    "\n",
    "**serial** id variable unique to YCS cohort 9\n",
    "\n",
    "---\n",
    "\n",
    "**weight** survey weight sweep 1 YCS cohort 9\n",
    "\n",
    "---\n",
    "\n",
    "**s15a_c**  outcome variable 5+ GCSEs A (star) - C constructed from variable \"s1a_c\"\n",
    "> 0 = 1 - 4 GCSEs grades A (star) - C <br>\n",
    "> 1 = 5+ GCSEs grades A (star) - C <br>\n",
    "\n",
    "---\n",
    "\n",
    "**girls** gender variable constucted from variable \"sex\"\n",
    "> 0 = boys <br>\n",
    "> 1 = girls <br>\n",
    "\n",
    "---\n",
    "\n",
    "**ethnic1** ethnicity variable constructed from variable \"a58\"\n",
    "\n",
    "> 1 White <br>\n",
    "> 2 Black <br>\n",
    "> 3 Indian <br>\n",
    "> 4 Pakistani <br>\n",
    "> 5 Bangladeshi <br>\n",
    "> 6 Chinese <br>\n",
    "> 7 Other (but this category has been omitted from the analysis because it is omitted in Connolly 2006)\n",
    "<br>\n",
    "\n",
    "---\n",
    "\n",
    "**ethnic2** ethnicity variable constructed from variable \"a58\"\n",
    "\n",
    "> 1 Black <br>\n",
    "> 2 Chinese <br>\n",
    "> 3 Indian <br>\n",
    "> 4 White <br>\n",
    "> 5 Bangladeshi <br>\n",
    "> 6 Pakistani <br>\n",
    "> 7 Others (but this category has been omitted from the analysis because it is omitted in Connolly 2006) <br>\n",
    "\n",
    "The variable **ethnic1** is coded to match the ethnicity measure in Table 1 (p.7) Connolly (2006). However, the order of the dummy variables included in the logistic regression model in Table 3 (p.20) Connelly (2006) do not match.\n",
    "The reference category for the logistic regression should be 'black' pupils (i.e. carib; afro.; other black).\n",
    "This could not have easily been foreseen. \n",
    "\n",
    "---\n",
    "\n",
    "**ethnic3** ethnicity variable constructed from variable \"a58\"\n",
    "\n",
    "This variable is used in the \"replication\" model.\n",
    "\n",
    "The majority group 'white' pupils are now the reference category.<br>\n",
    "The three south Asian categories are adjacent to each other. <br>\n",
    "\n",
    "> 1 'White'<br>\n",
    "> 2 'Chinese'<br>\n",
    "> 3 'Indian' <br>\n",
    "> 4 'Banglasdeshi'<br>\n",
    "> 5 'Pakistani' <br>\n",
    "> 6 'Black' <br>\n",
    "\n",
    "(Others are absent from the model)\n",
    "\n",
    "---\n",
    "\n",
    "**white** dummy variable constructed from variable \"ethnic1\"\n",
    "> 0 = non-white <br>\n",
    "> 1 = white <br>\n",
    "\n",
    "---\n",
    "\n",
    "**black** dummy variable constructed from variable \"ethnic1\"\n",
    "> 0 = non-white <br>\n",
    "> 1 = white <br>\n",
    "\n",
    "---\n",
    "\n",
    "**indian** dummy variable constructed from variable \"ethnic1\"\n",
    "> 0 = non-white <br>\n",
    "> 1 = white <br>\n",
    "\n",
    "---\n",
    "\n",
    "**pakistani** dummy variable constructed from variable \"ethnic1\"\n",
    "> 0 = non-white <br>\n",
    "> 1 = white <br>\n",
    "\n",
    "---\n",
    "\n",
    "**bangladeshi** dummy variable constructed from variable \"ethnic1\"\n",
    "> 0 = non-white <br>\n",
    "> 1 = white <br>\n",
    "\n",
    "---\n",
    "\n",
    "**chinese** dummy variable constructed from variable \"ethnic1\"\n",
    "> 0 = non-white <br>\n",
    "> 1 = white <br>\n",
    "\n",
    "---\n",
    "\n",
    "**other** dummy variable constructed from variable \"ethnic1\"\n",
    "> 0 = non-white <br>\n",
    "> 1 = white <br>\n",
    "\n",
    "---\n",
    "\n",
    "**prof_man** dummy variable parents in professional / managerial social class constructed from variable \"pseg1\"\n",
    "> 0 = no <br>\n",
    "> 1 = yes <br>\n",
    "\n",
    "---\n",
    "\n",
    "**o_non_man** dummy variable parents in other non-manual social class constructed from variable \"pseg2\"\n",
    "> 0 = no <br>\n",
    "> 1 = yes <br>\n",
    "\n",
    "---\n",
    "\n",
    "**skilled_man** dummy variable parents in skilled-manual social class constructed from variable \"pseg3\"\n",
    "> 0 = no <br>\n",
    "> 1 = yes <br>\n",
    "\n",
    "---\n",
    "\n",
    "**semi_skilled** dummy variable parents in semi-skilled manual social clas constructed from variable \"pseg4\"\n",
    "> 0 = no <br>\n",
    "> 1 = yes <br>\n",
    "\n",
    "---\n",
    "\n",
    "**t0parsec** categorical variable parents social class - a derrived variable Croxford et al. (2007) SN: 5765,\n",
    "The UK National Socio-economic Classification (NS-SEC) 8 category version<br>\n",
    "> 1.1 Large employers and higher managerial and administrative occupations <br>\n",
    "> 1.2 Higher professional occupations <br>\n",
    "> 2 Lower managerial, administrative and professional occupations <br>\n",
    "> 3 Intermediate occupations <br>\n",
    "> 4 Small employers and own account workers <br>\n",
    "> 5 Lower supervisory and technical occupations <br>\n",
    "> 6 Semi-routine occupations <br>\n",
    "> 7 Routine occupations <br>\n",
    "> 8 Never worked and long-term unemployed <br>\n",
    "\n"
   ]
  },
  {
   "cell_type": "markdown",
   "metadata": {},
   "source": [
    "_______________________________________________________________________________________________________________________"
   ]
  },
  {
   "cell_type": "markdown",
   "metadata": {},
   "source": [
    "# Discussion\n",
    " <a class=\"anchor\" id=\"discussion\"></a>\n",
    "\n",
    "\n"
   ]
  },
  {
   "cell_type": "markdown",
   "metadata": {},
   "source": [
    "## The Pre-Analysis Plan Reviewed\n",
    "<a class=\"anchor\" id=\"pre-analysis\"></a>"
   ]
  },
  {
   "cell_type": "markdown",
   "metadata": {},
   "source": [
    "In this section I review the pre-analysis plan compare it with the work that was actually produced.\n",
    "\n",
    "\n",
    "The pre-analysis plan is available here https://github.com/vernongayle/new_rules_of_the_sociological_method/blob/master/pre_analysis_plan_20170624_vg_v1.docx .<br>\n",
    "\n",
    "__Tasks__\n",
    "\n",
    "1).\tDuplication of Logistic Regression Model Reported in Connolly (2006) <br>\n",
    "\n",
    "<font color=purple> Achieved. </font> <br>\n",
    "\n",
    "2).\tReplication of Logistic Regression Model Reported in Connolly (2006) Using Quasi-Variance based Estimation <br>\n",
    "\n",
    "<font color=purple> Achieved. </font> <br>\n",
    "\n",
    "3).\tReplication of Logistic Regression Model Reported in Connolly (2006) Adding National Socio-economic Classification (NS-SEC) Measure Social Class from UK Data Archive Study 5765 <br>\n",
    "\n",
    "<font color=purple> Achieved. </font> <br>\n",
    "\n",
    "\n",
    "__Deliverables__\n",
    "\n",
    "1).\tA reproducible workflow within a Jupyter notebook deposited in a Git repository <br>\n",
    "<font color=purple> Achieved. </font> <br>\n",
    "\n",
    "2).\tA data dictionary (codebook) accompanying the work <br>\n",
    "<font color=purple> Achieved. </font> <br>\n",
    "\n"
   ]
  },
  {
   "cell_type": "markdown",
   "metadata": {},
   "source": [
    "---"
   ]
  },
  {
   "cell_type": "markdown",
   "metadata": {},
   "source": [
    "## The Reproducibility Checklist Revisited\n",
    "<a class=\"anchor\" id=\"reproducible_checklist-revisited\"></a>\n",
    "\n",
    "\n",
    "In this section I reflect on how the work compares with Stark's Reproducibility Checklist.\n",
    "\n",
    "http://www.bitss.org/2015/12/31/science-is-show-me-not-trust-me/ <br>\n",
    "<br>\n",
    "\n",
    "Philip Stark outlines 14 reproducibility points that an analysis can fail on <br>\n",
    "<br>\n",
    "\n",
    "<font color=green> 1.\tIf you relied on Microsoft Excel for computations </font> <br>\n",
    "Excel was not used in this work.<br>\n",
    "\n",
    "<font color=green> 2.\tIf you did not script your analysis, including data cleaning and munging</font><br>\n",
    "All of the analysis was scripted see [Data Wrangling](#wrangling-section) and [Data Analysis](#data-analysis).<br>\n",
    "\n",
    "<font color=green>3.\tIf you did not document your code so that others can read and understand it</font><br>\n",
    "As far as practicable I have attempted to write this Jupyter notebook as a 'literate data analysis document'.<br>\n",
    "I provided information on [using this notebook](#using-the-notebook), and on the [authorship and meta-information](#authorship-section).<br>\n",
    "\n",
    "<font color=green>4.\tIf you did not record and report the versions of the software you used (including library dependencies)</font><br>\n",
    "I reported on the [computing environment](#computing-environment) and [data analysis software](#software) including library dependencies.<br>\n",
    "\n",
    "<font color=green>5.\tIf you did not write tests for your code</font><br>\n",
    "I provided two [code tests](#code_test), one for logistic regression and one for quasi-variance estimation, which are checked against published results.<br>\n",
    "\n",
    "<font color=green>6.\tIf you did not check the code coverage of your tests</font><br>\n",
    "I did not write or use any new tests. <br>\n",
    "\n",
    "<font color=green>7.\tIf you used proprietary software that does not have an open-source equivalent without a really good reason</font><br>\n",
    "The data enabling (i.e. wrangling and cleaning) and the analyses were undertaken in [_R_](#duplication) which is an open-source software. <br>\n",
    "\n",
    "<font color=green>8.\tIf you did not report all the analyses you tried (transformations, tests, selections of variables, models, etc.) before arriving at the one you chose to emphasize</font><br>\n",
    "I reported on all the analyses including data transformations, tests, selections of variables, alternative models and failed activities. <br>\n",
    "\n",
    "<font color=green>9.\tIf you did not make your code (including tests) available</font><br>\n",
    "Information on how the code is [licensed](#first-section) is provided. The code will be made available using Github https://github.com/vernongayle .<br>\n",
    "\n",
    "<font color=green>10.\tIf you did not make your data available (and a law like FERPA or HIPPA doesn’t prevent it)</font><br>\n",
    "The data cannot be made publically available but researchers can assess the data from the UK Data Service https://www.ukdataservice.ac.uk/ .<br>\n",
    "\n",
    "<font color=green>11.\tIf you did not record and report the data format</font><br>\n",
    "A description of [the research dataset](#research-data) and well as information on the data format and the time and date of the dowload are provided (similar information is provided for the [Croxford et al. (2007)](#nssec) dataset which is used to harvest an alternative social class measure). <br>\n",
    "\n",
    "<font color=green>12.\tIf there is no open-source tool for reading data in that format</font><br>\n",
    "The code to read the data, wrangle the data and produce all of the results is written in _R_ which is open-source and is provided in a Jupyter notebook which is also open-source and will be made available using the open-source platform Github https://github.com/vernongayle. <br>\n",
    "\n",
    "<font color=green>13.\tIf you did not provide an adequate data dictionary</font><br>\n",
    "A [data dictionary (or codebook)](#codebook) is provided.<br>\n",
    "\n",
    "<font color=green>14.\tIf you published in a journal with a paywall and no open-access policy</font><br>\n",
    "The work has not yet been published. But it will be available through the UK <font color=olive>green</font> open access policy via my university repository http://www.research.ed.ac.uk/portal/en/persons/vernon-gayle(682d7da1-a2ad-49f0-b36c-64478c658f99).html .\n",
    "\n"
   ]
  },
  {
   "cell_type": "markdown",
   "metadata": {},
   "source": [
    "---"
   ]
  },
  {
   "cell_type": "markdown",
   "metadata": {},
   "source": [
    "# Conclusions\n",
    " <a class=\"anchor\" id=\"conclusions\"></a>"
   ]
  },
  {
   "cell_type": "markdown",
   "metadata": {},
   "source": [
    "The overall motivation of this work was to explore the practicability of using Stark’s ‘reproducibility check list’ in a piece of sociological research using genuine large-scale social science data.\n",
    "\n",
    "The work on this project provides a striking reminder of the large amount of data enabling (i.e. data wrangling) that is required to duplicate a relatively straightforward published result. Despite knowing the data resource relatively well, duplicating a logit model with only three explanatory variables took me effort and some detective work. \n",
    "The conclusions that are drawn are the result of what is an early exploration. After further reflection and discussions they are likely to be refined. As they currently stand my conclusions are unlikely to be the last word on the subject of undertaking reproducible social science using large-scale and complex datasets.\n",
    "\n",
    "In this section I will reflect on the items on Stark’s checklist and comment on their relevance and feasibility for sociological research using large-scale social science datasets.\n",
    "\n",
    "<font color=green>1. If you relied on Microsoft Excel for computations, fail.</font><br> <br>\n",
    "There is little justification for using a spreadsheet to undertake analyses of large-scale social science datasets. It is almost impossible to provide and document a clear audit trail when using a spreadsheet. The now well-known case of the errors in the spreadsheet-based calculations made in Reinhart and Rogoff (2010a; 2010b) which were reported by Herndon, Ash and Pollin (2014) should serve as a stern warning against using spreadsheets in social science data analyses. In addition Stark points to the more general problems of bugs in spreadsheet software (see also http://eusprig.org/horror-stories.htm). <br>\n",
    "\n",
    "<font color=green>2. If you did not script your analysis, including data cleaning and munging, fail.</font><br> <br>\n",
    "Scripting the workflow is integral to successful social science data analysis. Having a planned and organised workflow is indispensable to producing high-quality social science research. Long (2009) provides an authoritative account of good practices in the social science data analysis workflow. More recently these principles have been distilled in Gayle and Lambert (2017).\n",
    "In practice large-scale social science datasets are almost never delivered in an immediately ‘analysis-ready’ format. The data analyst will almost always have to undertake some activities to enable the data for analysis. I use the term ‘data enabling’ to describe the stage between downloading the social science dataset (for example from a national archive) and beginning to undertake statistical analyses. ‘Data enabling’ comprises tasks associated with preparing and enhancing data for statistical analysis, such as recoding measures, constructing new variables and linking datasets (Blum et al., 2009; Lambert and Gayle, 2008). ‘Data enabling’ is a substantial part of the research process but its importance is often overlooked. The time required to ‘enable data’ is frequently underestimated, even by more experienced social science data analysts.\n",
    "An audit trail, which acts as a set of breadcrumbs is essential for navigating back through data enabling aspects of the workflow, and is therefore essential for determining the provenance of results. A scripted workflow is essential for accurate, efficient, transparent and reproducible social science research. <br>\n",
    "\n",
    "<font color=green>3. If you did not document your code so that others can read and understand it, fail.</font><br> <br>\n",
    "Documenting research code is central to delivering reproducible work. The concept of making the workflow 'literate' is new within sociological research. The idea of producing explanations of the thinking behind individual steps in the workflow is novel. Producing commentaries in human readable language (e.g. plain English) interwoven between research code and outputs is innovative. The material produced above shows promising signs that this approach will pay dividends in making research endeavours more transparent and therefore reproducible. \n",
    "I am mindful of the old saying ‘that a recipe is not a recipe until someone else has cooked it’. A thoroughgoing proof of the literacy and the transparency of research code is only achieved when a third party, who is unconnected with the work, has successfully followed and executed the code. As a result of this position I am increasingly advocating activities such as the 'pair production' of research code, and 'peer reviewing' of research code. These activities will represent a marked change in how sociological research using large-scale datasets is routinely undertaken. If these activities are taken-up, and taken seriously, they will have consequences for how research teams undertake work, and how new researchers are trained (and existing researchers are re-trained). <br>\n",
    "\n",
    "<font color=green>4. If you did not record and report the versions of the software you used (including library dependencies), fail. </font><br><br>\n",
    "This is easily achieved, and can prove to be critical later when a researcher is trying to ‘duplicate’ the work (i.e. produce identical results). The exact results reported in table 5 Connolly (2006 p.20) could not immediately be duplicated even though identical variables were constructed. It took some detective work to ascertain that the work was undertake using SPSS in a specific mode. Since many analyses use special libraries and routines it is important that they are precisely documented so that results can be duplicated and ultimately be checked and validated. <br>\n",
    "\n",
    "<font color=green>5. If you did not write tests for your code, fail. </font><br><br>\n",
    "This is a sensible requirement, however because many sociological analysis employ standard and routine methods it may be too stringent a requirement for every single sociological analysis. In this present analysis I compared the results of two methods, which were then used in the analysis, against existing published results. Stark suggests that you should test your software every time you change it. This is a sensible and reasonable precaution, and when network versions of software are changed or updated, universities and research institutions should re-test their software. <br>\n",
    "\n",
    "<font color=green>6. If you did not check the code coverage of your tests, fail.</font><br>  <br>\n",
    "Stark suggests that this would be a good practice but states that he has never seen a scientific publication that does so. As far as I understand it, in computer science, code coverage is a measure used to describe the degree to which the source code of a program is executed when a particular test suite (a set of cases intended to be used to test a software program to show that it has some specified set of behaviours) runs. In theory a program with high code coverage has had more of its source code executed during the testing which might suggest it has a lower chance of containing undetected errors.\n",
    "On reflection few sociological researchers develop new statistical tests or need to implement statistical tests within new software routines. Therefore this requirement is probably irrelevant to most mainstream sociological analyses using large-scale datasets. For researchers who are developing new tests or constructing new routines then testing the coverage of their code and clearly documenting it would be a sensible action.<br>\n",
    "\n",
    "<font color=green>7. If you used proprietary software that does not have an open-source equivalent without a really good reason, fail. </font><br> <br>\n",
    "It is unrealistic to undertake anything more than extremely basic analyses of survey data without using data analysis software. The requirement to use non-proprietary software however is likely to prove controversial within the community of sociological researchers using large-scale datasets.<br>\n",
    "The freeware _R_ provides a viable approach with a substantial volume of analytical options and considerable programming flexibility (Long, 2011). I have shown in this analysis that _R_ can be used in a standard piece of sociological inquiry. The UK Data Service currently provides datasets in SPSS and Stata format. These formats can be read in _R_. The UK Data Service provides data in a more package agnostic tab-delimited format. Some _R_ users advocate importing data in this format. In my experience this format can prove challenging especially when matching and merging files and undertaking data analysis enabling tasks. <br>\n",
    "I am a sociologist who has been undertaking research with large-scale and complex datasets for nearly a quarter of a century, and I have taught data analysis to undergraduate and post-graduate students, early career researchers and non-academic researchers. In my experience for sociology students the _R_ learning curve is steep. The skills which are necessary to effectively exploit _R_ through textual programming seem unlikely to lead to its universal adaptation amongst the wide ranging user-communities within the social sciences (see Lambert et al., 2015). A limitation is that _R_ is currently not well suited to the analysis of large-scale social surveys. For example when using _R_ it is difficult to effectively combine the numeric codes for variables along with both their value and variable labels. This means that users are not able to effectively exploit the meta-information on measures that is helpful for routine survey data analysis tasks. A current limitation of _R_ is that there is a lack of clear and concise help files which contain applied examples that relate to the analysis of large-scale and complex social science datasets.<br>\n",
    "Within this research example I have undertaken a small amount of analysis using Python which is an emerging open-source alternative to _R_. I was unable to undertake a survey weighted analysis using a logistic regression model, but this may in part be due to my lack of competence with this software. A severe limitation of Python is that there is very little help and almost no applied examples that relate to the analysis of large-scale and complex social science datasets. At the current time there are fewer statistical routines and libraries available in Python, and Python does not offer an alternative to many packages that are available in _R_. Python is a widely used high-level programming language for general purpose programming. Python is emerging as a valuable tool in data science (e.g. for example web scrapping). In future it might unfold as a viable software for the analysis of large-scale social science datasets.<br>\n",
    "I have generally been an advocate of using Stata for the analysis of large-scale and complex social science datasets (see Gayle and Lambert 2017). Stata stands out as a sensible choice because it is a popular commercial package with a wide community of social science users especially in economics. Stata is specifically orientated to the analysis of social survey datasets. Over the years I have observed that the Stata learning curve is less steep than the _R_ learning curve. Stata has very good documentation. Within Stata there are a wide range of analytical capabilities, and ongoing developmental activities (see Lambert et al., 2015). Therefore I have concluded that overall it is the single most effective and efficient tool for undertaking and successfully completing survey data analysis. The tasks associated with data enabling, exploratory data analyses, building statistical models and organising presentation-ready and publication-ready outputs (by which I mean high-quality graphs and tables of modelling results), can all be undertaken using Stata in a single uniformed environment. The development of a Stata kernel in Jupyter, and the ability to use Stata via magic cells (as demonstrated above) illustrate how the software can effectively be used within a notebook. This is attractive for developing transparent research and bundling it within a unified research object.<br>\n",
    "SPSS is a fairly ubiquitous within sociology departments. It is suited to the analysis of large-scale datasets but compared with Stata it is far more restricted in the range of statistical models that it can estimate. SPSS currently has fewer options for estimating models that are appropriate for longitudinal data. Stata is able to offer more comprehensive facilities to analyse survey datasets with complex designs and selection strategies. This is a clear benefit for social scientists working with contemporary datasets such as the UK Household Longitudinal Study (Understanding Society) and the UK Millennium Cohort Study.<br>\n",
    "In practice, given the current research climate within sociology, the programing knowledge and levels of data analysis skill, the requirement to abandon proprietary software is probably too impractical a step. The requirement could be relaxed to using an established mainstream data analysis software (e.g. Stata, SPSS, _R_ or SAS), but the data enabling and the data analysis must be scripted in as ‘literate’ a fashion as possible. This is essential so that a third party who is unconnected with the project can follow and understand the workflow. Where possible it would be a good practice to augment the work by reporting how an open-source analysis could be undertaken in order to assist in the duplicating (and therefore the checking) results. In practice this might mean undertaking the data enabling and analysis in Stata but documenting how the work could also be reproduced in _R_ or Python. <br>\n",
    "\n",
    "<font color=green>8. If you did not report all the analyses you tried (transformations, tests, selections of variables, models, etc.) before arriving at the one you chose to emphasize, fail. </font><br><br>\n",
    "Providing access to the complete workflow is an indispensable aspect of rendering sociological analysis transparent and reproducible. The use of Jupyter notebooks is a concrete example of organising or bundling the elements of the workflow into a ‘research object’ (see http://www.researchobject.org/). The use of Jupyter notebooks in sociological research extends the possibilities of material being Findable, Accessible, Interoperable and Reusable (FAIR) which is a tenet of reproducible science.\n",
    "\n",
    "<font color=green>9. If you did not make your code (including tests) available, fail. </font><br><br>\n",
    "Stark states that your code should also state how it is licensed. This is a new departure in sociological research. There are a series of licenses that would be appropriate to this activity and that would chime with the wider academic ideas of attribution. In this present work I have chosen to use the MIT License.\n",
    "Stark further asserts that code should be published in a way that makes it easy for others to check, re-use and extend, for example by publishing it using services like Git repositories. At the current time very few sociological analyses of large-scale and complex datasets have reported all the code used to enable data and then to undertake the analysis. <br>\n",
    "Few sociological studies have used repositories. Git repositories are primarily used for source code management in software development, but can be used to keep track of changes in any set of files. These services are sometime referred to as version control software (VCS). Gentzkow and Shapiro (2014) is a rare example of VCS being recommended in the social sciences. Mercurial is an alternative to Git and, whilst GitHub has been used in this example other approaches such as BitBucket provide similar services.\n",
    "\n",
    "<font color=green>10. If you did not make your data available (and a law like FERPA or HIPPA doesn’t prevent it), fail. </font><br> <br>\n",
    "Access to data is an integral part of transparent and reproducible social science research. The accessibility of data presents an obstacle for sociologists working with large-scale datasets. Much of the sociological analysis undertaken using large-scale and complex datasets is secondary analysis of general (or omnibus) data resources. These data resources are often national level surveys (for example the US Panel Study of Income Dynamics or the British Household Panel Survey) or data collected as part of national level Censuses. These data do not ‘belong’ to the data analyst and are usually provided by a national archive or other data provider under some form of ‘end user license’. In practice these data are made available for research but cannot be freely shared, and all users must formally registered for the data. The rules and regulations of data use vary across countries, between data providers, and between datasets.  Administrative data resources (e.g. education records) usually have tighter controls placed on their use. Sensitive or confidential data (specially relating to health) are usually especially securely controlled. \n",
    "Unless the data have been collected by the sociologist, and are owned and controlled by them it is unlikely that they will be able to freely share the data that have been analysed in a particular piece of work. Therefore in order to facilitate transparent and reproducible work sociologists should provide as much information on the dataset (including detailed information on versions and downloads) in order to allow a third party to get access to the data that were genuinely used in the analysis. <br>\n",
    "\n",
    "<font color=green>11.  If you did not record and report the data format, fail. </font><br><br>\n",
    "In order to facilitate transparent and reproducible work sociologists should provide as much information on the dataset (including detailed information on versions and downloads) in order to allow a third party to get access to the data that were genuinely used in the analysis. This is especially important when the data are not freely available and have to be accessed via a national repository or through a data provider (see point 10 above).<br>\n",
    "\n",
    "<font color=green>12. If there is no open source tool for reading data in that format, fail. </font><br><br>\n",
    "This point is critical when datasets are being made available alongside other research objects. In short, if data are unreadable then they do not add to transparency or reproducibility.\n",
    "In the case of secondary analysis of existing large-scale dataset that have been provided by national data archives it is important that the code to read the data, to enable the data, and to produce all of the results is written in an accessible way. In this current project I have used _R_ which is open-source and the research code is provided in a Jupyter notebook which is also open-source and is made available using the open-source platform Github https://github.com/vernongayle. <br>\n",
    "\n",
    "<font color=green>13. If you did not provide an adequate data dictionary, fail.</font><br><br>\n",
    "Providing an adequate data dictionary is a relatively easy task but it is not currently a ubiquitous practice. The acid test of a data dictionary is how easily it can be read, and how useful it is for working with the data for a third party who is unconnected with the project.<br>\n",
    "\n",
    "<font color=green>14. If you published in a journal with a paywall and no open-access policy, fail. </font><br> <br>\n",
    "In the pursuit of transparent and reproducible sociological research having open access to published work is critical. \n",
    "Stark suggests that posting the final version of your paper on a reprint server might be enough, but he thinks that it is time to move to open scientific publications. He further states that most publishers he has worked with have let him mark up the copyright agreements to keep copyright and grant them a non-exclusive right to publish.\n",
    "In the context of UK higher education research, the move to Green open access will improve the accessibility of published work. Green open access involves publishing in a traditional subscription journal as usual, but also ‘self-archiving’ in a repository (e.g. a university archive or external subject-based repository) and providing free access (although this might be after an embargo period set by the publisher). The UK Research Council which funds research has a preference for immediate, unrestricted, on‐line access to peer‐reviewed and published research papers, free of any access charge and with maximum opportunities for re‐use.  This is commonly referred to as Gold open access (see http://www.rcuk.ac.uk/documents/documents/rcukopenaccesspolicy-pdf/). <br>\n",
    "\n",
    "---\n"
   ]
  },
  {
   "cell_type": "markdown",
   "metadata": {
    "collapsed": true
   },
   "source": [
    "In conclusion Stark's Reproducibility Checklist provides an important set of benchmarks, and they can reasonably be regarded as a _Berkelium Standard_ (i.e. beyond gold). The items on the checklist represent solid targets to aim for. Given the present research culture in sociology, the programing skills, and the data analytical capabilities of researchers, the items on Stark's Reproducibility Checklist probably represent too large a step forward at the current time. <br>\n",
    "\n",
    "Therefore in the next section I posit __Some Newer Rules of the Sociological Method__ which might act as a more immediate and practicable set of guidelines for undertaking reproducible sociological research using large-scale and complex social surveys and administrative datasets.<br>\n",
    "\n",
    "---"
   ]
  },
  {
   "cell_type": "markdown",
   "metadata": {
    "raw_mimetype": "text/markdown"
   },
   "source": [
    "### Some Newer Rules of the Sociological Method\n",
    "\n",
    "__The ultimate goal__: The providence of every result should be clear and as open as possible.\n",
    "\n",
    "__The overall aim__: There should be enough suitable information available to completely duplicate results, without having to contact the authors.\n",
    "\n",
    "Here are 5 broad __‘Newer Rules of the Sociological Method’__ that are tailored to the analysis of large-scale and complex social science datasets.\n",
    "\n",
    "1.\tUse established data analysis software (e.g. Stata, SPSS, or _R_), and clearly state the version, libraries, dependencies and plugins. <br>\n",
    "\n",
    "2.\tClearly identify the version of the dataset and its origins (i.e. where and when it was obtained).  <br>\n",
    "\n",
    "3.\tWrite down all of the code for how the data were prepared for analysis, in a format that it can easily be read by someone unconnected with the project.  <br>\n",
    "\n",
    "4.\tWrite down all of the code for all of the analyses undertaken and not just the analyses that are presented, in a format that it can easily be read by someone unconnected with the project.  <br>\n",
    "\n",
    "5.\tArchive the material in an accessible format at a reachable location.  <br>\n",
    "\n",
    "> Within the archive <br>\n",
    "\n",
    "> a) Provide suitable auxillary information describing the contents of the archive, so that in future a third party unconnected with the project can understand the materials. <br>\n",
    "b) Provide a detailed codebook. <br>\n",
    "c) Make available all of the research code and information generated within the workflow. <br>\n",
    "\n",
    "The archived materials should be openly available. Try to use recognised file formats and think about how best to help a third party who is unconnected with the project understand the contents of the archive at some time in the future.\n"
   ]
  },
  {
   "cell_type": "markdown",
   "metadata": {},
   "source": [
    "\n",
    "## Analyzing Large-Scale and Complex Social Science Datasets\n",
    "\n",
    "## 5 Simple Newer Rules of the Sociological Method \n",
    "\n",
    "### 1. Tell us about your software\n",
    "### 2. Tell us about your data\n",
    "### 3. Show us how you got your data ready\n",
    "### 4. Show us all the analysis you did\n",
    "### 5. Save all of this work openly\n"
   ]
  },
  {
   "cell_type": "markdown",
   "metadata": {},
   "source": [
    "---"
   ]
  },
  {
   "cell_type": "markdown",
   "metadata": {},
   "source": [
    "## References\n",
    " <a class=\"anchor\" id=\"references\"></a>\n",
    "\n",
    "\n"
   ]
  },
  {
   "cell_type": "markdown",
   "metadata": {
    "collapsed": true
   },
   "source": [
    "\n",
    "Blum, J.M., Warner, G., Jones, S., Lambert, P., Dawson, A., Tan, K.L.L. and Turner, K.J., 2009. Metadata creation, transformation and discovery for social science data management: The DAMES Project infrastructure. IASSIST Quarterly, 33(1), pp.23-30.<br>\n",
    "\n",
    "Gayle, V. and Lambert, P., 2017. The Workflow: A Practical Guide to Producing Accurate, Efficient, Transparent and Reproducible Social Survey Data Analysis, Working Paper 1/17 UK National Centre for Research Methods, http://eprints.ncrm.ac.uk/4000/.<br> \n",
    "\n",
    "Gentzkow, M. and Shapiro, J., 2014. Code and data for the social sciences: A practitioner’s guide, University of\n",
    "Chicago mimeo. Available at: https://web.stanford.edu/gentzkow/research/CodeAndData.pdf (accessed 13th December 2016).\n",
    "\n",
    "Herndon, T., Ash, M. and Pollin, R., 2014. Does high public debt consistently stifle economic growth? A critique of Reinhart and Rogoff. Cambridge Journal of Economics, 38(2), pp.257-279. <br>\n",
    "\n",
    "Lambert, P., Browne, W. and Michaelides, D,  2015. Contemporary developments in\n",
    "statistical software for social scientists, in Procter, R. and Halfpenny, P. (eds) Innovations in Digital Research Methods. London: Sage.\n",
    "\n",
    "Lambert, P. and Gayle, V., 2008. Data management and standardisation: A methodological comment on using\n",
    "results from the UK Research Assessment Exercise 2008, DAMES Project Technical Paper 3.\n",
    "\n",
    "Long, J.D., 2011. Longitudinal data analysis for the behavioral sciences using R. New York: Sage.\n",
    "\n",
    "Long, J.S. and Long, J.S., 2009. The workflow of data analysis using Stata. College Station, TX: Stata Press.\n",
    "\n",
    "Reinhart, C. and Rogoff, K., 2010A. Growth in a Time of Debt, Working Paper no. 15639,\n",
    "National Bureau of Economic Research, http://www.nber.org/papers/w15639.<br>\n",
    "\n",
    "Reinhart, C. and Rogoff, K., 2010B. Growth in a Time of Debt, American Economic Review, vol.\n",
    "100, no. 2, 573–8<br>"
   ]
  },
  {
   "cell_type": "markdown",
   "metadata": {},
   "source": [
    "---"
   ]
  },
  {
   "cell_type": "markdown",
   "metadata": {},
   "source": [
    "## A Little Light Relief\n",
    "<a class=\"anchor\" id=\"limerick\"></a>\n",
    "\n",
    "#### My Jupyter Limerick\n",
    "\n",
    "A researcher with time to fritter\n",
    "\n",
    "Decided he didn’t need Jupyter\n",
    "\n",
    "His results he would show\n",
    "\n",
    "Without a traceable workflow\n",
    "\n",
    "Could a researcher be any stupider?\n"
   ]
  },
  {
   "cell_type": "markdown",
   "metadata": {},
   "source": [
    "_______________________________________________________________________________________________________________________"
   ]
  },
  {
   "cell_type": "markdown",
   "metadata": {},
   "source": [
    "## Converting this Jupyter Notebook into Portable Formats\n",
    "<a class=\"anchor\" id=\"nbconvert\"></a>\n",
    "\n",
    "see http://nbconvert.readthedocs.io/en/latest/\n",
    "\n",
    "1. At the cmd prompt _conda install nbconvert_\n",
    "2. Change directory (for example my directory is _C:\\Users\\Vernon_\n",
    "3. Type _jupyter nbconvert --to html mynotebook.ipynb_\n"
   ]
  },
  {
   "cell_type": "markdown",
   "metadata": {},
   "source": [
    "---\n",
    "\n",
    "\n",
    "## Acknowledgements\n",
    " <a class=\"anchor\" id=\"acknowledgements\"></a>\n",
    "\n",
    "I would like to thank \n",
    "[Philip Stark](http://statistics.berkeley.edu/people/philip-stark) for his [insightful presentation](https://www.stat.berkeley.edu/~stark/Seminars/reproNE16.htm) which greatly helped to crystalize my thoughts on reproducibility and the data analysis workflow, and in which Philip very effectively set out his reproducibility rules.\n",
    "\n",
    "I would also like to thank Philip for introducing me to Fernado Perez who kindly invited me to [BIDS](https://bids.berkeley.edu/) which proved to be very insightful. [Min RK](https://github.com/minrk) deserves a special mention for his initial help installing the Stata kernel.\n",
    "\n",
    "Closer to home I would like to thanks Roxanne Connelly, Chris Playford, Yuji Shimohira Calvo, Kevin Ralston and Alasdair Gray.\n"
   ]
  },
  {
   "cell_type": "markdown",
   "metadata": {},
   "source": [
    "---\n",
    "\n",
    "\n",
    "## The work is very exploratory. \n",
    "### Positive comments are always appreciated, but brickbats improve work. \n",
    "\n",
    " <vernon.gayle@ed.ac.uk>  or [@profbigvern](https://twitter.com/profbigvern)\n"
   ]
  },
  {
   "cell_type": "markdown",
   "metadata": {},
   "source": [
    "_______________________________________________________________________________________________________________________"
   ]
  },
  {
   "cell_type": "markdown",
   "metadata": {},
   "source": [
    "Copyright (c) 2017 Vernon Gayle, University of Edinburgh\n",
    "\n",
    "END OF NOTEBOOK <a class=\"anchor\" id=\"eon\"></a>"
   ]
  }
 ],
 "metadata": {
  "anaconda-cloud": {},
  "celltoolbar": "Raw Cell Format",
  "cite2c": {
   "citations": {
    "3836622/4A2KNF7C": {
     "URL": "http://scholar.google.com/scholar?cluster=16847639068634644810&hl=en&inst=569367360547434339&oi=scholarr",
     "accessed": {
      "day": "2",
      "month": "6",
      "year": "2017"
     },
     "author": [
      {
       "family": "De Menezes",
       "given": "R. X."
      },
      {
       "family": "Firth",
       "given": "D."
      }
     ],
     "container-title": "Biometrika",
     "id": "3836622/4A2KNF7C",
     "issue": "1",
     "issued": {
      "year": "2004"
     },
     "page": "65–80",
     "page-first": "65",
     "title": "Quasi-variances",
     "type": "article-journal"
    },
    "3836622/9TBXBDGX": {
     "author": [
      {
       "family": "Connelly",
       "given": "Roxanne"
      },
      {
       "family": "Playford",
       "given": "Christopher J"
      },
      {
       "family": "Gayle",
       "given": "Vernon"
      },
      {
       "family": "Dibben",
       "given": "Chris"
      }
     ],
     "container-title": "Social Science Research",
     "issued": {
      "year": "2016"
     },
     "page": "1–12",
     "page-first": "1",
     "title": "The role of administrative data in the big data revolution in social science research",
     "type": "article-journal",
     "volume": "59"
    },
    "3836622/B2W3A9HM": {
     "URL": "http://www.jstor.org/stable/2347053",
     "accessed": {
      "day": "21",
      "month": "4",
      "year": "2017"
     },
     "author": [
      {
       "family": "Cox",
       "given": "David R."
      },
      {
       "family": "Snell",
       "given": "E. Joyce"
      }
     ],
     "container-title": "Applied Statistics",
     "id": "3836622/B2W3A9HM",
     "issued": {
      "year": "1974"
     },
     "page": "51–59",
     "page-first": "51",
     "title": "The choice of variables in observational studies",
     "type": "article-journal"
    },
    "3836622/NG2MQJVZ": {
     "URL": "http://journals.sagepub.com/doi/abs/10.1177/2053951716684143",
     "accessed": {
      "day": "31",
      "month": "1",
      "year": "2017"
     },
     "author": [
      {
       "family": "Playford",
       "given": "Christopher J."
      },
      {
       "family": "Gayle",
       "given": "Vernon"
      },
      {
       "family": "Connelly",
       "given": "Roxanne"
      },
      {
       "family": "Gray",
       "given": "Alasdair JG"
      }
     ],
     "container-title": "Big Data & Society",
     "id": "3836622/NG2MQJVZ",
     "issue": "2",
     "issued": {
      "year": "2016"
     },
     "page": "2053951716684143",
     "page-first": "2053951716684143",
     "shortTitle": "Administrative social science data",
     "title": "Administrative social science data: The challenge of reproducible research",
     "title-short": "Administrative social science data",
     "type": "article-journal",
     "volume": "3"
    },
    "3836622/TJR4V8BJ": {
     "URL": "https://www.math.upenn.edu/~pemantle/active-papers/Evals/stark2016.pdf",
     "accessed": {
      "day": "21",
      "month": "4",
      "year": "2017"
     },
     "author": [
      {
       "family": "Boring",
       "given": "Anne"
      },
      {
       "family": "Ottoboni",
       "given": "Kellie"
      },
      {
       "family": "Stark",
       "given": "Philip B."
      }
     ],
     "container-title": "ScienceOpen Research",
     "id": "3836622/TJR4V8BJ",
     "issued": {
      "year": "2016"
     },
     "title": "Student evaluations of teaching (mostly) do not measure teaching effectiveness",
     "type": "article-journal"
    },
    "undefined": {
     "author": [
      {
       "family": "Connelly",
       "given": "Roxanne"
      },
      {
       "family": "Playford",
       "given": "Christopher J"
      },
      {
       "family": "Gayle",
       "given": "Vernon"
      },
      {
       "family": "Dibben",
       "given": "Chris"
      }
     ],
     "container-title": "Social Science Research",
     "id": "undefined",
     "issued": {
      "year": "2016"
     },
     "page": "1–12",
     "page-first": "1",
     "title": "The role of administrative data in the big data revolution in social science research",
     "type": "article-journal",
     "volume": "59"
    }
   }
  },
  "kernelspec": {
   "display_name": "R",
   "language": "R",
   "name": "ir"
  },
  "language_info": {
   "codemirror_mode": "r",
   "file_extension": ".r",
   "mimetype": "text/x-r-source",
   "name": "R",
   "pygments_lexer": "r",
   "version": "3.2.3"
  },
  "widgets": {
   "state": {
    "1645714a6a364ca181b14e05c4e94f58": {
     "views": [
      {
       "cell_index": 98
      }
     ]
    },
    "3d47ba3030154662915a856beb10c78a": {
     "views": [
      {
       "cell_index": 96
      }
     ]
    },
    "fd2df9f6736345b3bdcd7cf3cd0aa419": {
     "views": [
      {
       "cell_index": 15
      }
     ]
    }
   },
   "version": "1.2.0"
  }
 },
 "nbformat": 4,
 "nbformat_minor": 0
}
